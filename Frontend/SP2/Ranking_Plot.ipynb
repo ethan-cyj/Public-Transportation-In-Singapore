{
 "cells": [
  {
   "cell_type": "code",
   "execution_count": 1,
   "metadata": {},
   "outputs": [],
   "source": [
    "import geopandas as gpd\n",
    "import plotly.express as px\n",
    "import plotly.graph_objects as go\n",
    "import pandas as pd\n",
    "import numpy as np\n",
    "from dotenv import load_dotenv\n",
    "import polyline\n",
    "from shapely import Point\n",
    "import helper_functions as helper"
   ]
  },
  {
   "cell_type": "code",
   "execution_count": 6,
   "metadata": {},
   "outputs": [],
   "source": [
    "basemap = gpd.read_file(r'../../data/MasterPlan2019PlanningAreaBoundaryNoSea.geojson')\n",
    "basemap['Planning_Area'] = basemap[\"Description\"].apply(lambda x: helper.extract_td_contents(x)[0])\n",
    "basemap['geometry'] = basemap['geometry'].to_crs(\"4326\")\n",
    "mrt_stations_df = pd.read_csv(r\"../../data/Cluster_data/mrt_station_final.csv\",usecols = [1,2,3])\n",
    "ranking = pd.read_csv(r'../../data/Cluster_data/mrt_ranking.csv')\n",
    "mrt_stations_df_combined = pd.merge(mrt_stations_df, ranking, left_on='MRT.Name', right_on='MRT.Name', how='left')\n",
    "for index, row in mrt_stations_df_combined.iterrows():\n",
    "    point_coordinate = Point(row['Longitude'], row['Latitude'])\n",
    "    Planning_Area = basemap[basemap.geometry.contains(point_coordinate)]['Planning_Area'].reset_index(drop=True)\n",
    "    mrt_stations_df_combined.loc[index, 'Planning_Area'] = Planning_Area.values[0]"
   ]
  },
  {
   "cell_type": "code",
   "execution_count": 14,
   "metadata": {},
   "outputs": [],
   "source": [
    "mrt_stations_df_combined.head()\n",
    "# = mrt_stations_df_combined['Ranking'].fillna(0)\n",
    "metrics = [\"time_difference\", \"distance\", \"suitability\", \"station_density\", \"Weighted_Score\"]"
   ]
  },
  {
   "cell_type": "code",
   "execution_count": 34,
   "metadata": {},
   "outputs": [],
   "source": [
    "import plotly.graph_objects as go\n",
    "import plotly.io as pio\n",
    "\n",
    "# Optionally set a global theme\n",
    "pio.templates.default = \"simple_white\"\n",
    "\n",
    "def plot_planning_area_rankings(df, main_metric):\n",
    "    # Ensure the main_metric is available.\n",
    "    # Exclude MRT stations with no routes\n",
    "    df = df.dropna(subset=[main_metric])\n",
    "    \n",
    "    # Group by the Planning Area and calculate mean for metrics\n",
    "    df_grouped = df.groupby('Planning_Area', as_index=False).mean()\n",
    "    df_grouped = df_grouped.sort_values(by=main_metric, ascending=False)\n",
    "    \n",
    "    # Initialize figure\n",
    "    fig = go.Figure()\n",
    "    fig.update_layout(title_text='Average ' + main_metric + ' for each Planning Area',\n",
    "                      xaxis_title=\"Planning Area\",\n",
    "                      yaxis_title=main_metric,\n",
    "                      hovermode=\"closest\")\n",
    "\n",
    "    # Default color for all bars\n",
    "    colors = ['#7c8981'] * len(df_grouped)\n",
    "\n",
    "    # Highlight the top and bottom 3 planning areas\n",
    "    colors[0:3] = ['#cb2721'] * 3\n",
    "    colors[-3:] = ['#0b569d'] * 3\n",
    "\n",
    "    # Create hover text\n",
    "    hover_texts = []\n",
    "    for _, row in df_grouped.iterrows():\n",
    "        hover_text = f\"Planning Area: {row['Planning_Area']}<br>\"\n",
    "        metrics = [main_metric, \"time_difference\", \"distance\", \"suitability\", \"Weighted_Score\"]\n",
    "        for m in metrics:\n",
    "            hover_text += f\"{m}: {row.get(m, 'N/A'):.2f}<br>\"\n",
    "        hover_texts.append(hover_text)\n",
    "\n",
    "    # Add bar trace\n",
    "    fig.add_trace(go.Bar(x=df_grouped['Planning_Area'], y=df_grouped[main_metric],\n",
    "                         marker_color=colors,\n",
    "                         hoverinfo=\"text\",\n",
    "                         text=hover_texts))\n",
    "\n",
    "    # Show figure\n",
    "    fig.show()"
   ]
  },
  {
   "cell_type": "code",
   "execution_count": 50,
   "metadata": {},
   "outputs": [],
   "source": [
    "import plotly.graph_objects as go\n",
    "\n",
    "def plot_planning_area_rankings(df, main_metric):\n",
    "    # Exclude MRT stations with no routes\n",
    "    df = df.dropna(subset=[main_metric])\n",
    "    \n",
    "    # Group by the Planning Area and calculate mean for metrics\n",
    "    df_grouped = df.groupby('Planning_Area', as_index=False).mean()\n",
    "    df_grouped = df_grouped.sort_values(by=main_metric, ascending=False)\n",
    "    \n",
    "    # Initialize figure\n",
    "    fig = go.Figure()\n",
    "    fig.update_layout(title_text='Average ' + main_metric + ' for each Planning Area',\n",
    "                      yaxis_title=main_metric,\n",
    "                      hovermode=\"closest\")\n",
    "\n",
    "    # Default color for all bars\n",
    "    colors = ['#7c8981'] * len(df_grouped)\n",
    "\n",
    "    # Highlight the top and bottom 3 planning areas\n",
    "    colors[0:3] = ['red'] * 3\n",
    "    colors[-3:] = ['blue'] * 3\n",
    "\n",
    "    # Add bar trace\n",
    "    fig.add_trace(go.Bar(x=df_grouped['Planning_Area'], y=df_grouped[main_metric],\n",
    "                         marker_color=colors))\n",
    "\n",
    "    # Create annotations for each of the highlighted planning areas\n",
    "    annotations = []\n",
    "    # Combining the top 3 and bottom 3 indices into one list for iteration\n",
    "    top_bottom_indices = list(range(3)) + list(range(-3, 0))\n",
    "    for i in top_bottom_indices:\n",
    "        annotations.append(dict(\n",
    "            x=df_grouped['Planning_Area'].iloc[i],\n",
    "            y=df_grouped[main_metric].iloc[i],\n",
    "            text=df_grouped['Planning_Area'].iloc[i],  # The label text\n",
    "            showarrow=True,\n",
    "            arrowhead=1,\n",
    "            ax=0,  # No offset\n",
    "            ay=-40,  # Position above the bar\n",
    "            font=dict(color='red' if i < 3 else 'blue', size=12),\n",
    "            arrowcolor='red' if i < 3 else 'blue'\n",
    "        ))\n",
    "\n",
    "    # Add annotations to the figure\n",
    "    fig.update_layout(annotations=annotations)\n",
    "\n",
    "    # Show figure\n",
    "    fig.show()"
   ]
  },
  {
   "cell_type": "code",
   "execution_count": 58,
   "metadata": {},
   "outputs": [],
   "source": [
    "import plotly.graph_objects as go\n",
    "import numpy as np\n",
    "import plotly.io as pio\n",
    "\n",
    "# Optionally set a global theme\n",
    "pio.templates.default = \"simple_white\"\n",
    "\n",
    "def plot_planning_area_rankings(df, main_metric):\n",
    "    # Exclude MRT stations with no routes\n",
    "    df = df.dropna(subset=[main_metric])\n",
    "    \n",
    "    # Group by the Planning Area and calculate mean for metrics\n",
    "    df_grouped = df.groupby('Planning_Area', as_index=False).mean()\n",
    "    df_grouped = df_grouped.sort_values(by=main_metric, ascending=False)\n",
    "    \n",
    "    # Initialize figure\n",
    "    fig = go.Figure()\n",
    "    fig.update_layout(title_text='Average ' + main_metric + ' for each Planning Area',\n",
    "                      yaxis_title=main_metric,\n",
    "                      hovermode=\"closest\")  # Set the theme here\n",
    "\n",
    "    # Default color for all bars\n",
    "    colors = ['#7c8981'] * len(df_grouped)\n",
    "\n",
    "    # Highlight the top and bottom 3 planning areas\n",
    "    colors[0:3] = ['#cb2721'] * 3\n",
    "    colors[-3:] = ['#0b569d'] * 3\n",
    "\n",
    "    # Create hover text\n",
    "    hover_texts = []\n",
    "    for _, row in df_grouped.iterrows():\n",
    "        hover_text = f\"Planning Area: {row['Planning_Area']}<br>\"\n",
    "        metrics = [main_metric, \"time_difference\", \"distance\", \"suitability\", \"Weighted_Score\"]\n",
    "        for m in metrics:\n",
    "            hover_text += f\"{m}: {row.get(m, 'N/A'):.2f}<br>\"\n",
    "        hover_texts.append(hover_text)\n",
    "\n",
    "    # Add bar trace\n",
    "    fig.add_trace(go.Bar(x=df_grouped['Planning_Area'], y=df_grouped[main_metric],\n",
    "                         marker_color=colors,\n",
    "                         hoverinfo=\"text\",\n",
    "                         text=hover_texts))\n",
    "\n",
    "    # Select the labels for the top and bottom 3 planning areas\n",
    "    top_3 = df_grouped['Planning_Area'].head(3).tolist()\n",
    "    bottom_3 = df_grouped['Planning_Area'].tail(3).tolist()\n",
    "    selected_labels = top_3 + bottom_3\n",
    "\n",
    "    # Set custom x-axis tick positions and labels\n",
    "    fig.update_layout(\n",
    "        xaxis=dict(showticklabels=False),\n",
    "        annotations=[]  # Assuming you are not using annotations here, otherwise add your annotations list\n",
    "    )\n",
    "    # Create annotations for each of the highlighted planning areas\n",
    "    annotations = []\n",
    "    # Combining the top 3 and bottom 3 indices into one list for iteration\n",
    "    top_bottom_indices = list(range(3)) + list(range(-3, 0))\n",
    "    for i in top_bottom_indices:\n",
    "        annotations.append(dict(\n",
    "            x=df_grouped['Planning_Area'].iloc[i],\n",
    "            y=df_grouped[main_metric].iloc[i],\n",
    "            text=df_grouped['Planning_Area'].iloc[i],  # The label text\n",
    "            showarrow=True,\n",
    "            arrowhead=1,\n",
    "            ax=0,  # No offset\n",
    "            ay=-40,  # Position above the bar\n",
    "            font=dict(color='red' if i < 3 else 'blue', size=12),\n",
    "            arrowcolor='red' if i < 3 else 'blue'\n",
    "        ))\n",
    "\n",
    "    # Add annotations to the figure\n",
    "    fig.update_layout(annotations=annotations)\n",
    "\n",
    "\n",
    "\n",
    "    # Show figure\n",
    "    fig.show()"
   ]
  },
  {
   "cell_type": "code",
   "execution_count": 61,
   "metadata": {},
   "outputs": [
    {
     "name": "stderr",
     "output_type": "stream",
     "text": [
      "/var/folders/lk/jtg57k7555qg6vh9z23sx18m0000gn/T/ipykernel_38195/2292357977.py:13: FutureWarning:\n",
      "\n",
      "The default value of numeric_only in DataFrameGroupBy.mean is deprecated. In a future version, numeric_only will default to False. Either specify numeric_only or select only columns which should be valid for the function.\n",
      "\n"
     ]
    },
    {
     "data": {
      "application/vnd.plotly.v1+json": {
       "config": {
        "plotlyServerURL": "https://plot.ly"
       },
       "data": [
        {
         "hoverinfo": "text",
         "marker": {
          "color": [
           "#cb2721",
           "#cb2721",
           "#cb2721",
           "#7c8981",
           "#7c8981",
           "#7c8981",
           "#7c8981",
           "#7c8981",
           "#7c8981",
           "#7c8981",
           "#7c8981",
           "#7c8981",
           "#7c8981",
           "#7c8981",
           "#7c8981",
           "#7c8981",
           "#7c8981",
           "#7c8981",
           "#7c8981",
           "#7c8981",
           "#7c8981",
           "#7c8981",
           "#7c8981",
           "#7c8981",
           "#7c8981",
           "#7c8981",
           "#7c8981",
           "#7c8981",
           "#7c8981",
           "#7c8981",
           "#7c8981",
           "#7c8981",
           "#7c8981",
           "#0b569d",
           "#0b569d",
           "#0b569d"
          ]
         },
         "text": [
          "Planning Area: CHANGI<br>suitability: 7.99<br>time_difference: 34.00<br>distance: 5.28<br>suitability: 7.99<br>Weighted_Score: 18.94<br>",
          "Planning Area: BUKIT BATOK<br>suitability: 7.83<br>time_difference: 12.74<br>distance: 1.93<br>suitability: 7.83<br>Weighted_Score: 10.92<br>",
          "Planning Area: PUNGGOL<br>suitability: 7.46<br>time_difference: 2.97<br>distance: 0.63<br>suitability: 7.46<br>Weighted_Score: 7.00<br>",
          "Planning Area: KALLANG<br>suitability: 7.40<br>time_difference: 4.75<br>distance: 0.93<br>suitability: 7.40<br>Weighted_Score: 7.63<br>",
          "Planning Area: PASIR RIS<br>suitability: 7.34<br>time_difference: 9.13<br>distance: 2.32<br>suitability: 7.34<br>Weighted_Score: 9.06<br>",
          "Planning Area: DOWNTOWN CORE<br>suitability: 7.22<br>time_difference: 38.79<br>distance: 5.75<br>suitability: 7.22<br>Weighted_Score: 20.14<br>",
          "Planning Area: JURONG WEST<br>suitability: 7.17<br>time_difference: 7.26<br>distance: 1.50<br>suitability: 7.17<br>Weighted_Score: 8.34<br>",
          "Planning Area: SEMBAWANG<br>suitability: 7.05<br>time_difference: 10.96<br>distance: 1.99<br>suitability: 7.05<br>Weighted_Score: 9.63<br>",
          "Planning Area: SENGKANG<br>suitability: 7.01<br>time_difference: 4.57<br>distance: 0.86<br>suitability: 7.01<br>Weighted_Score: 7.23<br>",
          "Planning Area: GEYLANG<br>suitability: 6.98<br>time_difference: 4.83<br>distance: 1.20<br>suitability: 6.98<br>Weighted_Score: 7.27<br>",
          "Planning Area: ORCHARD<br>suitability: 6.96<br>time_difference: 3.96<br>distance: 0.79<br>suitability: 6.96<br>Weighted_Score: 6.92<br>",
          "Planning Area: YISHUN<br>suitability: 6.96<br>time_difference: 6.66<br>distance: 1.73<br>suitability: 6.96<br>Weighted_Score: 7.87<br>",
          "Planning Area: TAMPINES<br>suitability: 6.92<br>time_difference: 7.79<br>distance: 1.58<br>suitability: 6.92<br>Weighted_Score: 8.32<br>",
          "Planning Area: CHOA CHU KANG<br>suitability: 6.85<br>time_difference: 4.40<br>distance: 1.07<br>suitability: 6.85<br>Weighted_Score: 6.99<br>",
          "Planning Area: ANG MO KIO<br>suitability: 6.79<br>time_difference: 7.86<br>distance: 2.35<br>suitability: 6.79<br>Weighted_Score: 8.09<br>",
          "Planning Area: WOODLANDS<br>suitability: 6.76<br>time_difference: 8.08<br>distance: 1.23<br>suitability: 6.76<br>Weighted_Score: 8.39<br>",
          "Planning Area: TANGLIN<br>suitability: 6.74<br>time_difference: -0.64<br>distance: 1.89<br>suitability: 6.74<br>Weighted_Score: 4.74<br>",
          "Planning Area: ROCHOR<br>suitability: 6.73<br>time_difference: 3.26<br>distance: 0.56<br>suitability: 6.73<br>Weighted_Score: 6.58<br>",
          "Planning Area: NOVENA<br>suitability: 6.73<br>time_difference: 5.99<br>distance: 1.27<br>suitability: 6.73<br>Weighted_Score: 7.52<br>",
          "Planning Area: RIVER VALLEY<br>suitability: 6.70<br>time_difference: 6.11<br>distance: 0.88<br>suitability: 6.70<br>Weighted_Score: 7.55<br>",
          "Planning Area: TOA PAYOH<br>suitability: 6.67<br>time_difference: 4.37<br>distance: 1.40<br>suitability: 6.67<br>Weighted_Score: 6.79<br>",
          "Planning Area: HOUGANG<br>suitability: 6.64<br>time_difference: 7.15<br>distance: 1.08<br>suitability: 6.64<br>Weighted_Score: 7.95<br>",
          "Planning Area: BEDOK<br>suitability: 6.56<br>time_difference: 6.18<br>distance: 1.37<br>suitability: 6.56<br>Weighted_Score: 7.44<br>",
          "Planning Area: BUKIT TIMAH<br>suitability: 6.55<br>time_difference: 8.54<br>distance: 1.38<br>suitability: 6.55<br>Weighted_Score: 8.36<br>",
          "Planning Area: CLEMENTI<br>suitability: 6.53<br>time_difference: -9.21<br>distance: 5.03<br>suitability: 6.53<br>Weighted_Score: 0.53<br>",
          "Planning Area: OUTRAM<br>suitability: 6.52<br>time_difference: 1.12<br>distance: 0.25<br>suitability: 6.52<br>Weighted_Score: 5.57<br>",
          "Planning Area: BISHAN<br>suitability: 6.48<br>time_difference: 4.29<br>distance: 0.92<br>suitability: 6.48<br>Weighted_Score: 6.70<br>",
          "Planning Area: MUSEUM<br>suitability: 6.42<br>time_difference: 5.55<br>distance: 1.21<br>suitability: 6.42<br>Weighted_Score: 7.06<br>",
          "Planning Area: SERANGOON<br>suitability: 6.37<br>time_difference: 7.56<br>distance: 1.35<br>suitability: 6.37<br>Weighted_Score: 7.85<br>",
          "Planning Area: JURONG EAST<br>suitability: 6.32<br>time_difference: 3.05<br>distance: 0.89<br>suitability: 6.32<br>Weighted_Score: 6.10<br>",
          "Planning Area: QUEENSTOWN<br>suitability: 6.29<br>time_difference: 7.31<br>distance: 1.58<br>suitability: 6.29<br>Weighted_Score: 7.61<br>",
          "Planning Area: BUKIT MERAH<br>suitability: 6.28<br>time_difference: 8.17<br>distance: 1.45<br>suitability: 6.28<br>Weighted_Score: 7.97<br>",
          "Planning Area: BUKIT PANJANG<br>suitability: 6.26<br>time_difference: 4.14<br>distance: 0.66<br>suitability: 6.26<br>Weighted_Score: 6.51<br>",
          "Planning Area: SINGAPORE RIVER<br>suitability: 5.96<br>time_difference: 7.57<br>distance: 0.69<br>suitability: 5.96<br>Weighted_Score: 7.66<br>",
          "Planning Area: SUNGEI KADUT<br>suitability: 5.74<br>time_difference: 5.86<br>distance: 2.82<br>suitability: 5.74<br>Weighted_Score: 6.36<br>",
          "Planning Area: NEWTON<br>suitability: 5.73<br>time_difference: 10.98<br>distance: 1.02<br>suitability: 5.73<br>Weighted_Score: 8.73<br>"
         ],
         "type": "bar",
         "x": [
          "CHANGI",
          "BUKIT BATOK",
          "PUNGGOL",
          "KALLANG",
          "PASIR RIS",
          "DOWNTOWN CORE",
          "JURONG WEST",
          "SEMBAWANG",
          "SENGKANG",
          "GEYLANG",
          "ORCHARD",
          "YISHUN",
          "TAMPINES",
          "CHOA CHU KANG",
          "ANG MO KIO",
          "WOODLANDS",
          "TANGLIN",
          "ROCHOR",
          "NOVENA",
          "RIVER VALLEY",
          "TOA PAYOH",
          "HOUGANG",
          "BEDOK",
          "BUKIT TIMAH",
          "CLEMENTI",
          "OUTRAM",
          "BISHAN",
          "MUSEUM",
          "SERANGOON",
          "JURONG EAST",
          "QUEENSTOWN",
          "BUKIT MERAH",
          "BUKIT PANJANG",
          "SINGAPORE RIVER",
          "SUNGEI KADUT",
          "NEWTON"
         ],
         "y": [
          7.990276706858217,
          7.825433164816552,
          7.463472737276158,
          7.395875810315663,
          7.33935714707382,
          7.215723873441996,
          7.167296830041017,
          7.050804114523425,
          7.006623775706058,
          6.97845613427254,
          6.958034616817567,
          6.957353102771333,
          6.92349200520283,
          6.846591908001612,
          6.788997282365761,
          6.760362514136895,
          6.739400582341915,
          6.728924821302288,
          6.726651040525813,
          6.700068474886949,
          6.674550700804592,
          6.637659425904538,
          6.5553353681826785,
          6.554009385902654,
          6.532113425151966,
          6.521999901269247,
          6.476604644251601,
          6.4163972478689,
          6.366607982895881,
          6.323089598333775,
          6.286426052074459,
          6.2763282472686885,
          6.259073218376401,
          5.963188576668632,
          5.742949782166276,
          5.725960805229756
         ]
        }
       ],
       "layout": {
        "annotations": [
         {
          "arrowcolor": "red",
          "arrowhead": 1,
          "ax": 0,
          "ay": -40,
          "font": {
           "color": "red",
           "size": 12
          },
          "showarrow": true,
          "text": "CHANGI",
          "x": "CHANGI",
          "y": 7.990276706858217
         },
         {
          "arrowcolor": "red",
          "arrowhead": 1,
          "ax": 0,
          "ay": -40,
          "font": {
           "color": "red",
           "size": 12
          },
          "showarrow": true,
          "text": "BUKIT BATOK",
          "x": "BUKIT BATOK",
          "y": 7.825433164816552
         },
         {
          "arrowcolor": "red",
          "arrowhead": 1,
          "ax": 0,
          "ay": -40,
          "font": {
           "color": "red",
           "size": 12
          },
          "showarrow": true,
          "text": "PUNGGOL",
          "x": "PUNGGOL",
          "y": 7.463472737276158
         },
         {
          "arrowcolor": "red",
          "arrowhead": 1,
          "ax": 0,
          "ay": -40,
          "font": {
           "color": "red",
           "size": 12
          },
          "showarrow": true,
          "text": "SINGAPORE RIVER",
          "x": "SINGAPORE RIVER",
          "y": 5.963188576668632
         },
         {
          "arrowcolor": "red",
          "arrowhead": 1,
          "ax": 0,
          "ay": -40,
          "font": {
           "color": "red",
           "size": 12
          },
          "showarrow": true,
          "text": "SUNGEI KADUT",
          "x": "SUNGEI KADUT",
          "y": 5.742949782166276
         },
         {
          "arrowcolor": "red",
          "arrowhead": 1,
          "ax": 0,
          "ay": -40,
          "font": {
           "color": "red",
           "size": 12
          },
          "showarrow": true,
          "text": "NEWTON",
          "x": "NEWTON",
          "y": 5.725960805229756
         }
        ],
        "hovermode": "closest",
        "template": {
         "data": {
          "bar": [
           {
            "error_x": {
             "color": "rgb(36,36,36)"
            },
            "error_y": {
             "color": "rgb(36,36,36)"
            },
            "marker": {
             "line": {
              "color": "white",
              "width": 0.5
             },
             "pattern": {
              "fillmode": "overlay",
              "size": 10,
              "solidity": 0.2
             }
            },
            "type": "bar"
           }
          ],
          "barpolar": [
           {
            "marker": {
             "line": {
              "color": "white",
              "width": 0.5
             },
             "pattern": {
              "fillmode": "overlay",
              "size": 10,
              "solidity": 0.2
             }
            },
            "type": "barpolar"
           }
          ],
          "carpet": [
           {
            "aaxis": {
             "endlinecolor": "rgb(36,36,36)",
             "gridcolor": "white",
             "linecolor": "white",
             "minorgridcolor": "white",
             "startlinecolor": "rgb(36,36,36)"
            },
            "baxis": {
             "endlinecolor": "rgb(36,36,36)",
             "gridcolor": "white",
             "linecolor": "white",
             "minorgridcolor": "white",
             "startlinecolor": "rgb(36,36,36)"
            },
            "type": "carpet"
           }
          ],
          "choropleth": [
           {
            "colorbar": {
             "outlinewidth": 1,
             "tickcolor": "rgb(36,36,36)",
             "ticks": "outside"
            },
            "type": "choropleth"
           }
          ],
          "contour": [
           {
            "colorbar": {
             "outlinewidth": 1,
             "tickcolor": "rgb(36,36,36)",
             "ticks": "outside"
            },
            "colorscale": [
             [
              0,
              "#440154"
             ],
             [
              0.1111111111111111,
              "#482878"
             ],
             [
              0.2222222222222222,
              "#3e4989"
             ],
             [
              0.3333333333333333,
              "#31688e"
             ],
             [
              0.4444444444444444,
              "#26828e"
             ],
             [
              0.5555555555555556,
              "#1f9e89"
             ],
             [
              0.6666666666666666,
              "#35b779"
             ],
             [
              0.7777777777777778,
              "#6ece58"
             ],
             [
              0.8888888888888888,
              "#b5de2b"
             ],
             [
              1,
              "#fde725"
             ]
            ],
            "type": "contour"
           }
          ],
          "contourcarpet": [
           {
            "colorbar": {
             "outlinewidth": 1,
             "tickcolor": "rgb(36,36,36)",
             "ticks": "outside"
            },
            "type": "contourcarpet"
           }
          ],
          "heatmap": [
           {
            "colorbar": {
             "outlinewidth": 1,
             "tickcolor": "rgb(36,36,36)",
             "ticks": "outside"
            },
            "colorscale": [
             [
              0,
              "#440154"
             ],
             [
              0.1111111111111111,
              "#482878"
             ],
             [
              0.2222222222222222,
              "#3e4989"
             ],
             [
              0.3333333333333333,
              "#31688e"
             ],
             [
              0.4444444444444444,
              "#26828e"
             ],
             [
              0.5555555555555556,
              "#1f9e89"
             ],
             [
              0.6666666666666666,
              "#35b779"
             ],
             [
              0.7777777777777778,
              "#6ece58"
             ],
             [
              0.8888888888888888,
              "#b5de2b"
             ],
             [
              1,
              "#fde725"
             ]
            ],
            "type": "heatmap"
           }
          ],
          "heatmapgl": [
           {
            "colorbar": {
             "outlinewidth": 1,
             "tickcolor": "rgb(36,36,36)",
             "ticks": "outside"
            },
            "colorscale": [
             [
              0,
              "#440154"
             ],
             [
              0.1111111111111111,
              "#482878"
             ],
             [
              0.2222222222222222,
              "#3e4989"
             ],
             [
              0.3333333333333333,
              "#31688e"
             ],
             [
              0.4444444444444444,
              "#26828e"
             ],
             [
              0.5555555555555556,
              "#1f9e89"
             ],
             [
              0.6666666666666666,
              "#35b779"
             ],
             [
              0.7777777777777778,
              "#6ece58"
             ],
             [
              0.8888888888888888,
              "#b5de2b"
             ],
             [
              1,
              "#fde725"
             ]
            ],
            "type": "heatmapgl"
           }
          ],
          "histogram": [
           {
            "marker": {
             "line": {
              "color": "white",
              "width": 0.6
             }
            },
            "type": "histogram"
           }
          ],
          "histogram2d": [
           {
            "colorbar": {
             "outlinewidth": 1,
             "tickcolor": "rgb(36,36,36)",
             "ticks": "outside"
            },
            "colorscale": [
             [
              0,
              "#440154"
             ],
             [
              0.1111111111111111,
              "#482878"
             ],
             [
              0.2222222222222222,
              "#3e4989"
             ],
             [
              0.3333333333333333,
              "#31688e"
             ],
             [
              0.4444444444444444,
              "#26828e"
             ],
             [
              0.5555555555555556,
              "#1f9e89"
             ],
             [
              0.6666666666666666,
              "#35b779"
             ],
             [
              0.7777777777777778,
              "#6ece58"
             ],
             [
              0.8888888888888888,
              "#b5de2b"
             ],
             [
              1,
              "#fde725"
             ]
            ],
            "type": "histogram2d"
           }
          ],
          "histogram2dcontour": [
           {
            "colorbar": {
             "outlinewidth": 1,
             "tickcolor": "rgb(36,36,36)",
             "ticks": "outside"
            },
            "colorscale": [
             [
              0,
              "#440154"
             ],
             [
              0.1111111111111111,
              "#482878"
             ],
             [
              0.2222222222222222,
              "#3e4989"
             ],
             [
              0.3333333333333333,
              "#31688e"
             ],
             [
              0.4444444444444444,
              "#26828e"
             ],
             [
              0.5555555555555556,
              "#1f9e89"
             ],
             [
              0.6666666666666666,
              "#35b779"
             ],
             [
              0.7777777777777778,
              "#6ece58"
             ],
             [
              0.8888888888888888,
              "#b5de2b"
             ],
             [
              1,
              "#fde725"
             ]
            ],
            "type": "histogram2dcontour"
           }
          ],
          "mesh3d": [
           {
            "colorbar": {
             "outlinewidth": 1,
             "tickcolor": "rgb(36,36,36)",
             "ticks": "outside"
            },
            "type": "mesh3d"
           }
          ],
          "parcoords": [
           {
            "line": {
             "colorbar": {
              "outlinewidth": 1,
              "tickcolor": "rgb(36,36,36)",
              "ticks": "outside"
             }
            },
            "type": "parcoords"
           }
          ],
          "pie": [
           {
            "automargin": true,
            "type": "pie"
           }
          ],
          "scatter": [
           {
            "fillpattern": {
             "fillmode": "overlay",
             "size": 10,
             "solidity": 0.2
            },
            "type": "scatter"
           }
          ],
          "scatter3d": [
           {
            "line": {
             "colorbar": {
              "outlinewidth": 1,
              "tickcolor": "rgb(36,36,36)",
              "ticks": "outside"
             }
            },
            "marker": {
             "colorbar": {
              "outlinewidth": 1,
              "tickcolor": "rgb(36,36,36)",
              "ticks": "outside"
             }
            },
            "type": "scatter3d"
           }
          ],
          "scattercarpet": [
           {
            "marker": {
             "colorbar": {
              "outlinewidth": 1,
              "tickcolor": "rgb(36,36,36)",
              "ticks": "outside"
             }
            },
            "type": "scattercarpet"
           }
          ],
          "scattergeo": [
           {
            "marker": {
             "colorbar": {
              "outlinewidth": 1,
              "tickcolor": "rgb(36,36,36)",
              "ticks": "outside"
             }
            },
            "type": "scattergeo"
           }
          ],
          "scattergl": [
           {
            "marker": {
             "colorbar": {
              "outlinewidth": 1,
              "tickcolor": "rgb(36,36,36)",
              "ticks": "outside"
             }
            },
            "type": "scattergl"
           }
          ],
          "scattermapbox": [
           {
            "marker": {
             "colorbar": {
              "outlinewidth": 1,
              "tickcolor": "rgb(36,36,36)",
              "ticks": "outside"
             }
            },
            "type": "scattermapbox"
           }
          ],
          "scatterpolar": [
           {
            "marker": {
             "colorbar": {
              "outlinewidth": 1,
              "tickcolor": "rgb(36,36,36)",
              "ticks": "outside"
             }
            },
            "type": "scatterpolar"
           }
          ],
          "scatterpolargl": [
           {
            "marker": {
             "colorbar": {
              "outlinewidth": 1,
              "tickcolor": "rgb(36,36,36)",
              "ticks": "outside"
             }
            },
            "type": "scatterpolargl"
           }
          ],
          "scatterternary": [
           {
            "marker": {
             "colorbar": {
              "outlinewidth": 1,
              "tickcolor": "rgb(36,36,36)",
              "ticks": "outside"
             }
            },
            "type": "scatterternary"
           }
          ],
          "surface": [
           {
            "colorbar": {
             "outlinewidth": 1,
             "tickcolor": "rgb(36,36,36)",
             "ticks": "outside"
            },
            "colorscale": [
             [
              0,
              "#440154"
             ],
             [
              0.1111111111111111,
              "#482878"
             ],
             [
              0.2222222222222222,
              "#3e4989"
             ],
             [
              0.3333333333333333,
              "#31688e"
             ],
             [
              0.4444444444444444,
              "#26828e"
             ],
             [
              0.5555555555555556,
              "#1f9e89"
             ],
             [
              0.6666666666666666,
              "#35b779"
             ],
             [
              0.7777777777777778,
              "#6ece58"
             ],
             [
              0.8888888888888888,
              "#b5de2b"
             ],
             [
              1,
              "#fde725"
             ]
            ],
            "type": "surface"
           }
          ],
          "table": [
           {
            "cells": {
             "fill": {
              "color": "rgb(237,237,237)"
             },
             "line": {
              "color": "white"
             }
            },
            "header": {
             "fill": {
              "color": "rgb(217,217,217)"
             },
             "line": {
              "color": "white"
             }
            },
            "type": "table"
           }
          ]
         },
         "layout": {
          "annotationdefaults": {
           "arrowhead": 0,
           "arrowwidth": 1
          },
          "autotypenumbers": "strict",
          "coloraxis": {
           "colorbar": {
            "outlinewidth": 1,
            "tickcolor": "rgb(36,36,36)",
            "ticks": "outside"
           }
          },
          "colorscale": {
           "diverging": [
            [
             0,
             "rgb(103,0,31)"
            ],
            [
             0.1,
             "rgb(178,24,43)"
            ],
            [
             0.2,
             "rgb(214,96,77)"
            ],
            [
             0.3,
             "rgb(244,165,130)"
            ],
            [
             0.4,
             "rgb(253,219,199)"
            ],
            [
             0.5,
             "rgb(247,247,247)"
            ],
            [
             0.6,
             "rgb(209,229,240)"
            ],
            [
             0.7,
             "rgb(146,197,222)"
            ],
            [
             0.8,
             "rgb(67,147,195)"
            ],
            [
             0.9,
             "rgb(33,102,172)"
            ],
            [
             1,
             "rgb(5,48,97)"
            ]
           ],
           "sequential": [
            [
             0,
             "#440154"
            ],
            [
             0.1111111111111111,
             "#482878"
            ],
            [
             0.2222222222222222,
             "#3e4989"
            ],
            [
             0.3333333333333333,
             "#31688e"
            ],
            [
             0.4444444444444444,
             "#26828e"
            ],
            [
             0.5555555555555556,
             "#1f9e89"
            ],
            [
             0.6666666666666666,
             "#35b779"
            ],
            [
             0.7777777777777778,
             "#6ece58"
            ],
            [
             0.8888888888888888,
             "#b5de2b"
            ],
            [
             1,
             "#fde725"
            ]
           ],
           "sequentialminus": [
            [
             0,
             "#440154"
            ],
            [
             0.1111111111111111,
             "#482878"
            ],
            [
             0.2222222222222222,
             "#3e4989"
            ],
            [
             0.3333333333333333,
             "#31688e"
            ],
            [
             0.4444444444444444,
             "#26828e"
            ],
            [
             0.5555555555555556,
             "#1f9e89"
            ],
            [
             0.6666666666666666,
             "#35b779"
            ],
            [
             0.7777777777777778,
             "#6ece58"
            ],
            [
             0.8888888888888888,
             "#b5de2b"
            ],
            [
             1,
             "#fde725"
            ]
           ]
          },
          "colorway": [
           "#1F77B4",
           "#FF7F0E",
           "#2CA02C",
           "#D62728",
           "#9467BD",
           "#8C564B",
           "#E377C2",
           "#7F7F7F",
           "#BCBD22",
           "#17BECF"
          ],
          "font": {
           "color": "rgb(36,36,36)"
          },
          "geo": {
           "bgcolor": "white",
           "lakecolor": "white",
           "landcolor": "white",
           "showlakes": true,
           "showland": true,
           "subunitcolor": "white"
          },
          "hoverlabel": {
           "align": "left"
          },
          "hovermode": "closest",
          "mapbox": {
           "style": "light"
          },
          "paper_bgcolor": "white",
          "plot_bgcolor": "white",
          "polar": {
           "angularaxis": {
            "gridcolor": "rgb(232,232,232)",
            "linecolor": "rgb(36,36,36)",
            "showgrid": false,
            "showline": true,
            "ticks": "outside"
           },
           "bgcolor": "white",
           "radialaxis": {
            "gridcolor": "rgb(232,232,232)",
            "linecolor": "rgb(36,36,36)",
            "showgrid": false,
            "showline": true,
            "ticks": "outside"
           }
          },
          "scene": {
           "xaxis": {
            "backgroundcolor": "white",
            "gridcolor": "rgb(232,232,232)",
            "gridwidth": 2,
            "linecolor": "rgb(36,36,36)",
            "showbackground": true,
            "showgrid": false,
            "showline": true,
            "ticks": "outside",
            "zeroline": false,
            "zerolinecolor": "rgb(36,36,36)"
           },
           "yaxis": {
            "backgroundcolor": "white",
            "gridcolor": "rgb(232,232,232)",
            "gridwidth": 2,
            "linecolor": "rgb(36,36,36)",
            "showbackground": true,
            "showgrid": false,
            "showline": true,
            "ticks": "outside",
            "zeroline": false,
            "zerolinecolor": "rgb(36,36,36)"
           },
           "zaxis": {
            "backgroundcolor": "white",
            "gridcolor": "rgb(232,232,232)",
            "gridwidth": 2,
            "linecolor": "rgb(36,36,36)",
            "showbackground": true,
            "showgrid": false,
            "showline": true,
            "ticks": "outside",
            "zeroline": false,
            "zerolinecolor": "rgb(36,36,36)"
           }
          },
          "shapedefaults": {
           "fillcolor": "black",
           "line": {
            "width": 0
           },
           "opacity": 0.3
          },
          "ternary": {
           "aaxis": {
            "gridcolor": "rgb(232,232,232)",
            "linecolor": "rgb(36,36,36)",
            "showgrid": false,
            "showline": true,
            "ticks": "outside"
           },
           "baxis": {
            "gridcolor": "rgb(232,232,232)",
            "linecolor": "rgb(36,36,36)",
            "showgrid": false,
            "showline": true,
            "ticks": "outside"
           },
           "bgcolor": "white",
           "caxis": {
            "gridcolor": "rgb(232,232,232)",
            "linecolor": "rgb(36,36,36)",
            "showgrid": false,
            "showline": true,
            "ticks": "outside"
           }
          },
          "title": {
           "x": 0.05
          },
          "xaxis": {
           "automargin": true,
           "gridcolor": "rgb(232,232,232)",
           "linecolor": "rgb(36,36,36)",
           "showgrid": false,
           "showline": true,
           "ticks": "outside",
           "title": {
            "standoff": 15
           },
           "zeroline": false,
           "zerolinecolor": "rgb(36,36,36)"
          },
          "yaxis": {
           "automargin": true,
           "gridcolor": "rgb(232,232,232)",
           "linecolor": "rgb(36,36,36)",
           "showgrid": false,
           "showline": true,
           "ticks": "outside",
           "title": {
            "standoff": 15
           },
           "zeroline": false,
           "zerolinecolor": "rgb(36,36,36)"
          }
         }
        },
        "title": {
         "text": "Average suitability for each Planning Area"
        },
        "xaxis": {
         "showticklabels": false
        },
        "yaxis": {
         "title": {
          "text": "suitability"
         }
        }
       }
      }
     },
     "metadata": {},
     "output_type": "display_data"
    }
   ],
   "source": [
    "plot_planning_area_rankings(mrt_stations_df_combined, \"suitability\")"
   ]
  }
 ],
 "metadata": {
  "kernelspec": {
   "display_name": "Python 3",
   "language": "python",
   "name": "python3"
  },
  "language_info": {
   "codemirror_mode": {
    "name": "ipython",
    "version": 3
   },
   "file_extension": ".py",
   "mimetype": "text/x-python",
   "name": "python",
   "nbconvert_exporter": "python",
   "pygments_lexer": "ipython3",
   "version": "3.11.4"
  }
 },
 "nbformat": 4,
 "nbformat_minor": 2
}
