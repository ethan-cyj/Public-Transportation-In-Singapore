{
 "cells": [
  {
   "cell_type": "code",
   "execution_count": 1,
   "metadata": {},
   "outputs": [],
   "source": [
    "import pandas as pd\n",
    "import os\n",
    "import numpy as np\n",
    "import plotly.express as px"
   ]
  },
  {
   "cell_type": "code",
   "execution_count": 2,
   "metadata": {},
   "outputs": [],
   "source": [
    "directory = os.getcwd()\n",
    "\n",
    "os.chdir(directory)\n",
    "\n",
    "schooling_transport_share_df = pd.read_csv(r\"..\\data\\onemap_demographic\\getModeOfTransportSchool_data.csv\")\n",
    "working_transport_share_df = pd.read_csv(r\"..\\data\\onemap_demographic\\getModeOfTransportWork_data.csv\")"
   ]
  },
  {
   "cell_type": "code",
   "execution_count": 3,
   "metadata": {},
   "outputs": [
    {
     "name": "stdout",
     "output_type": "stream",
     "text": [
      "<class 'pandas.core.frame.DataFrame'>\n",
      "RangeIndex: 55 entries, 0 to 54\n",
      "Data columns (total 21 columns):\n",
      " #   Column                      Non-Null Count  Dtype \n",
      "---  ------                      --------------  ----- \n",
      " 0   planning_area               55 non-null     object\n",
      " 1   bus                         55 non-null     int64 \n",
      " 2   mrt                         55 non-null     int64 \n",
      " 3   mrt_bus                     55 non-null     int64 \n",
      " 4   mrt_car                     55 non-null     int64 \n",
      " 5   mrt_other                   55 non-null     int64 \n",
      " 6   taxi                        55 non-null     int64 \n",
      " 7   car                         55 non-null     int64 \n",
      " 8   pvt_chartered_bus           55 non-null     int64 \n",
      " 9   lorry_pickup                55 non-null     int64 \n",
      " 10  motorcycle_scooter          55 non-null     int64 \n",
      " 11  others                      55 non-null     int64 \n",
      " 12  no_transport_required       55 non-null     int64 \n",
      " 13  other_combi_mrt_or_bus      55 non-null     int64 \n",
      " 14  mrt_lrt_only                55 non-null     int64 \n",
      " 15  mrt_lrt_and_bus             55 non-null     int64 \n",
      " 16  other_combi_mrt_lrt_or_bus  55 non-null     int64 \n",
      " 17  taxi_pvt_hire_car_only      55 non-null     int64 \n",
      " 18  pvt_chartered_bus_van       55 non-null     int64 \n",
      " 19  year                        55 non-null     int64 \n",
      " 20  planningArea                55 non-null     object\n",
      "dtypes: int64(19), object(2)\n",
      "memory usage: 9.1+ KB\n"
     ]
    }
   ],
   "source": [
    "schooling_transport_share_df.info()"
   ]
  },
  {
   "cell_type": "code",
   "execution_count": 4,
   "metadata": {},
   "outputs": [
    {
     "name": "stdout",
     "output_type": "stream",
     "text": [
      "<class 'pandas.core.frame.DataFrame'>\n",
      "RangeIndex: 55 entries, 0 to 54\n",
      "Data columns (total 11 columns):\n",
      " #   Column                      Non-Null Count  Dtype\n",
      "---  ------                      --------------  -----\n",
      " 0   bus                         55 non-null     int64\n",
      " 1   car                         55 non-null     int64\n",
      " 2   lorry_pickup                55 non-null     int64\n",
      " 3   motorcycle_scooter          55 non-null     int64\n",
      " 4   others                      55 non-null     int64\n",
      " 5   no_transport_required       55 non-null     int64\n",
      " 6   mrt_lrt_only                55 non-null     int64\n",
      " 7   mrt_lrt_and_bus             55 non-null     int64\n",
      " 8   other_combi_mrt_lrt_or_bus  55 non-null     int64\n",
      " 9   taxi_pvt_hire_car_only      55 non-null     int64\n",
      " 10  pvt_chartered_bus_van       55 non-null     int64\n",
      "dtypes: int64(11)\n",
      "memory usage: 4.9 KB\n"
     ]
    }
   ],
   "source": [
    "cond = schooling_transport_share_df.select_dtypes(include = int).sum(axis=0) == 0\n",
    "columns_to_drop = list(cond[cond].index)\n",
    "schooling_transport_share_df = schooling_transport_share_df.drop(columns=(columns_to_drop + [\"planning_area\",\"year\",\"planningArea\"]))\n",
    "schooling_transport_share_df.info()"
   ]
  },
  {
   "cell_type": "code",
   "execution_count": 5,
   "metadata": {},
   "outputs": [],
   "source": [
    "school_transport_breakdown_by_type = schooling_transport_share_df.sum(axis = 0)"
   ]
  },
  {
   "cell_type": "code",
   "execution_count": 6,
   "metadata": {},
   "outputs": [
    {
     "name": "stdout",
     "output_type": "stream",
     "text": [
      "              planning_area    bus  mrt  mrt_bus  mrt_car  mrt_other  taxi  \\\n",
      "0                     Bedok  25560    0        0        0          0     0   \n",
      "1               Bukit Timah   2639    0        0        0          0     0   \n",
      "2               Bukit Batok  13706    0        0        0          0     0   \n",
      "3               Bukit Merah  18461    0        0        0          0     0   \n",
      "4   Central Water Catchment      0    0        0        0          0     0   \n",
      "5             Downtown Core    206    0        0        0          0     0   \n",
      "6                    Changi      0    0        0        0          0     0   \n",
      "7                Changi Bay      0    0        0        0          0     0   \n",
      "8              Lim Chu Kang      0    0        0        0          0     0   \n",
      "9                  Boon Lay      0    0        0        0          0     0   \n",
      "10  Western Water Catchment      0    0        0        0          0     0   \n",
      "11                Woodlands  15314    0        0        0          0     0   \n",
      "12            Marine Parade   5710    0        0        0          0     0   \n",
      "13                   Newton      0    0        0        0          0     0   \n",
      "14    North-Eastern Islands      0    0        0        0          0     0   \n",
      "15                  Orchard      0    0        0        0          0     0   \n",
      "16                Pasir Ris  12420    0        0        0          0     0   \n",
      "17                  Pioneer      0    0        0        0          0     0   \n",
      "18                  Punggol   8975    0        0        0          0     0   \n",
      "19               Queenstown   8856    0        0        0          0     0   \n",
      "20                Sembawang   5648    0        0        0          0     0   \n",
      "21                  Simpang      0    0        0        0          0     0   \n",
      "22                 Tampines  25058    0        0        0          0     0   \n",
      "23                  Tanglin    930    0        0        0          0     0   \n",
      "24                     Tuas      0    0        0        0          0     0   \n",
      "25          Western Islands      0    0        0        0          0     0   \n",
      "26         Southern Islands      0    0        0        0          0     0   \n",
      "27            Bukit Panjang  12968    0        0        0          0     0   \n",
      "28                   Bishan   5498    0        0        0          0     0   \n",
      "29               Ang Mo Kio  14928    0        0        0          0     0   \n",
      "30                  Geylang   9896    0        0        0          0     0   \n",
      "31             Straits View      0    0        0        0          0     0   \n",
      "32              Jurong East   8472    0        0        0          0     0   \n",
      "33                  Hougang  22743    0        0        0          0     0   \n",
      "34              Jurong West  22048    0        0        0          0     0   \n",
      "35            Choa Chu Kang   8584    0        0        0          0     0   \n",
      "36                  Kallang   8428    0        0        0          0     0   \n",
      "37                   Mandai      0    0        0        0          0     0   \n",
      "38                   Tengah      0    0        0        0          0     0   \n",
      "39              Marina East      0    0        0        0          0     0   \n",
      "40             Marina South      0    0        0        0          0     0   \n",
      "41                   Museum      0    0        0        0          0     0   \n",
      "42                   Novena   4250    0        0        0          0     0   \n",
      "43                   Outram   1527    0        0        0          0     0   \n",
      "44               Paya Lebar      0    0        0        0          0     0   \n",
      "45             River Valley    490    0        0        0          0     0   \n",
      "46                   Rochor      0    0        0        0          0     0   \n",
      "47                  Seletar      0    0        0        0          0     0   \n",
      "48                 Sengkang  18315    0        0        0          0     0   \n",
      "49                Serangoon   7671    0        0        0          0     0   \n",
      "50                 Clementi   8641    0        0        0          0     0   \n",
      "51                Toa Payoh   9540    0        0        0          0     0   \n",
      "52          Singapore River      0    0        0        0          0     0   \n",
      "53             Sungei Kadut      0    0        0        0          0     0   \n",
      "54                   Yishun  16601    0        0        0          0     0   \n",
      "\n",
      "      car  pvt_chartered_bus  lorry_pickup  ...  others  \\\n",
      "0   34792                  0          1611  ...    2592   \n",
      "1   17909                  0           105  ...     244   \n",
      "2   20004                  0          1284  ...     997   \n",
      "3   13312                  0           786  ...     852   \n",
      "4       0                  0             0  ...       0   \n",
      "5     254                  0             0  ...      13   \n",
      "6       0                  0             0  ...       0   \n",
      "7       0                  0             0  ...       0   \n",
      "8       0                  0             0  ...       0   \n",
      "9       0                  0             0  ...       0   \n",
      "10      0                  0             0  ...       0   \n",
      "11  20453                  0          2460  ...    2865   \n",
      "12   8006                  0            79  ...     370   \n",
      "13      0                  0             0  ...       0   \n",
      "14      0                  0             0  ...       0   \n",
      "15      0                  0             0  ...       0   \n",
      "16  20933                  0           644  ...    1238   \n",
      "17      0                  0             0  ...       0   \n",
      "18  21884                  0           999  ...    1553   \n",
      "19   9251                  0           353  ...     428   \n",
      "20   9981                  0           891  ...    1302   \n",
      "21      0                  0             0  ...       0   \n",
      "22  26251                  0          1351  ...    3052   \n",
      "23   5065                  0             3  ...     102   \n",
      "24      0                  0             0  ...       0   \n",
      "25      0                  0             0  ...       0   \n",
      "26      0                  0             0  ...       0   \n",
      "27  17337                  0          1563  ...     862   \n",
      "28  12651                  0           323  ...     333   \n",
      "29  16343                  0          1454  ...     976   \n",
      "30  10315                  0           759  ...    1300   \n",
      "31      0                  0             0  ...       0   \n",
      "32   6494                  0           708  ...     790   \n",
      "33  26845                  0          2200  ...    1867   \n",
      "34  25615                  0          3056  ...    3217   \n",
      "35  22300                  0          1898  ...    1420   \n",
      "36   9496                  0           569  ...    1010   \n",
      "37      0                  0             0  ...       0   \n",
      "38      0                  0             0  ...       0   \n",
      "39      0                  0             0  ...       0   \n",
      "40      0                  0             0  ...       0   \n",
      "41      0                  0             0  ...       0   \n",
      "42   7696                  0           138  ...     307   \n",
      "43   1005                  0            50  ...      95   \n",
      "44      0                  0             0  ...       0   \n",
      "45   1854                  0             0  ...      65   \n",
      "46      0                  0             0  ...       0   \n",
      "47      0                  0             0  ...       0   \n",
      "48  28363                  0          1615  ...    2184   \n",
      "49  18497                  0           696  ...     422   \n",
      "50  11355                  0           375  ...     631   \n",
      "51  11207                  0           577  ...     719   \n",
      "52      0                  0             0  ...       0   \n",
      "53      0                  0             0  ...       0   \n",
      "54  19404                  0          2192  ...    2823   \n",
      "\n",
      "    no_transport_required  other_combi_mrt_or_bus  mrt_lrt_only  \\\n",
      "0                   15146                       0         16411   \n",
      "1                    3082                       0          5022   \n",
      "2                    7376                       0         10643   \n",
      "3                    8743                       0          9779   \n",
      "4                       0                       0             0   \n",
      "5                     777                       0           323   \n",
      "6                       0                       0             0   \n",
      "7                       0                       0             0   \n",
      "8                       0                       0             0   \n",
      "9                       0                       0             0   \n",
      "10                      0                       0             0   \n",
      "11                  13705                       0         18099   \n",
      "12                   2161                       0           433   \n",
      "13                      0                       0             0   \n",
      "14                      0                       0             0   \n",
      "15                      0                       0             0   \n",
      "16                   6466                       0          8069   \n",
      "17                      0                       0             0   \n",
      "18                   7826                       0         13546   \n",
      "19                   5015                       0          8542   \n",
      "20                   4925                       0         13012   \n",
      "21                      0                       0             0   \n",
      "22                  13937                       0         20843   \n",
      "23                    897                       0           841   \n",
      "24                      0                       0             0   \n",
      "25                      0                       0             0   \n",
      "26                      0                       0             0   \n",
      "27                   6935                       0          6581   \n",
      "28                   3685                       0          7736   \n",
      "29                   8822                       0         10689   \n",
      "30                   7031                       0         11445   \n",
      "31                      0                       0             0   \n",
      "32                   4006                       0          3701   \n",
      "33                  12224                       0         12909   \n",
      "34                  13670                       0         15284   \n",
      "35                   9159                       0         13152   \n",
      "36                   6529                       0         10952   \n",
      "37                      0                       0             0   \n",
      "38                      0                       0             0   \n",
      "39                      0                       0             0   \n",
      "40                      0                       0             0   \n",
      "41                      0                       0             0   \n",
      "42                   2681                       0          2034   \n",
      "43                   2326                       0          1873   \n",
      "44                      0                       0             0   \n",
      "45                    742                       0           692   \n",
      "46                      0                       0             0   \n",
      "47                      0                       0             0   \n",
      "48                  13155                       0         19110   \n",
      "49                   5690                       0          9066   \n",
      "50                   4064                       0          5243   \n",
      "51                   6496                       0         12084   \n",
      "52                      0                       0             0   \n",
      "53                      0                       0             0   \n",
      "54                  13071                       0         16841   \n",
      "\n",
      "    mrt_lrt_and_bus  other_combi_mrt_lrt_or_bus  taxi_pvt_hire_car_only  \\\n",
      "0             32836                        3298                    4732   \n",
      "1              4918                         545                    1501   \n",
      "2             24856                        2547                    2108   \n",
      "3             18881                        1537                    3128   \n",
      "4                 0                           0                       0   \n",
      "5               176                          27                     134   \n",
      "6                 0                           0                       0   \n",
      "7                 0                           0                       0   \n",
      "8                 0                           0                       0   \n",
      "9                 0                           0                       0   \n",
      "10                0                           0                       0   \n",
      "11            43754                        4235                    3046   \n",
      "12             2976                         279                    1361   \n",
      "13                0                           0                       0   \n",
      "14                0                           0                       0   \n",
      "15                0                           0                       0   \n",
      "16            23973                        1701                    3241   \n",
      "17                0                           0                       0   \n",
      "18            19443                       12437                    2573   \n",
      "19            11023                         944                    1766   \n",
      "20            16804                        1478                    1082   \n",
      "21                0                           0                       0   \n",
      "22            34708                        3591                    4357   \n",
      "23             1077                          59                     987   \n",
      "24                0                           0                       0   \n",
      "25                0                           0                       0   \n",
      "26                0                           0                       0   \n",
      "27            15625                        8049                    1723   \n",
      "28            12923                         859                    1590   \n",
      "29            24760                        1651                    2204   \n",
      "30            14516                        1077                    1651   \n",
      "31                0                           0                       0   \n",
      "32            11426                        1057                    1323   \n",
      "33            35473                        2608                    3293   \n",
      "34            41597                        5016                    3302   \n",
      "35            34694                        7305                    2377   \n",
      "36            12323                        1041                    2086   \n",
      "37                0                           0                       0   \n",
      "38                0                           0                       0   \n",
      "39                0                           0                       0   \n",
      "40                0                           0                       0   \n",
      "41                0                           0                       0   \n",
      "42             5316                         276                    1406   \n",
      "43             1717                         155                     252   \n",
      "44                0                           0                       0   \n",
      "45              620                          84                     651   \n",
      "46                0                           0                       0   \n",
      "47                0                           0                       0   \n",
      "48            29530                       16193                    3734   \n",
      "49            15724                        1166                    1955   \n",
      "50            12096                        1199                    1557   \n",
      "51            16847                        1107                    2185   \n",
      "52                0                           0                       0   \n",
      "53                0                           0                       0   \n",
      "54            36146                        3158                    2683   \n",
      "\n",
      "    pvt_chartered_bus_van  year             planningArea  \n",
      "0                    2096  2020                    BEDOK  \n",
      "1                     237  2020              BUKIT TIMAH  \n",
      "2                    2307  2020              BUKIT BATOK  \n",
      "3                     717  2020              BUKIT MERAH  \n",
      "4                       0  2020  CENTRAL WATER CATCHMENT  \n",
      "5                       0  2020            DOWNTOWN CORE  \n",
      "6                       0  2020                   CHANGI  \n",
      "7                       0  2020               CHANGI BAY  \n",
      "8                       0  2020             LIM CHU KANG  \n",
      "9                       0  2020                 BOON LAY  \n",
      "10                      0  2020  WESTERN WATER CATCHMENT  \n",
      "11                   4260  2020                WOODLANDS  \n",
      "12                    208  2020            MARINE PARADE  \n",
      "13                      0  2020                   NEWTON  \n",
      "14                      0  2020    NORTH-EASTERN ISLANDS  \n",
      "15                      0  2020                  ORCHARD  \n",
      "16                   1235  2020                PASIR RIS  \n",
      "17                      0  2020                  PIONEER  \n",
      "18                   1676  2020                  PUNGGOL  \n",
      "19                    606  2020               QUEENSTOWN  \n",
      "20                   1244  2020                SEMBAWANG  \n",
      "21                      0  2020                  SIMPANG  \n",
      "22                   2972  2020                 TAMPINES  \n",
      "23                     47  2020                  TANGLIN  \n",
      "24                      0  2020                     TUAS  \n",
      "25                      0  2020          WESTERN ISLANDS  \n",
      "26                      0  2020         SOUTHERN ISLANDS  \n",
      "27                   1818  2020            BUKIT PANJANG  \n",
      "28                    475  2020                   BISHAN  \n",
      "29                   1567  2020               ANG MO KIO  \n",
      "30                    723  2020                  GEYLANG  \n",
      "31                      0  2020             STRAITS VIEW  \n",
      "32                   1709  2020              JURONG EAST  \n",
      "33                   2116  2020                  HOUGANG  \n",
      "34                   6448  2020              JURONG WEST  \n",
      "35                   3382  2020            CHOA CHU KANG  \n",
      "36                    580  2020                  KALLANG  \n",
      "37                      0  2020                   MANDAI  \n",
      "38                      0  2020                   TENGAH  \n",
      "39                      0  2020              MARINA EAST  \n",
      "40                      0  2020             MARINA SOUTH  \n",
      "41                      0  2020                   MUSEUM  \n",
      "42                    243  2020                   NOVENA  \n",
      "43                     71  2020                   OUTRAM  \n",
      "44                      0  2020               PAYA LEBAR  \n",
      "45                     31  2020             RIVER VALLEY  \n",
      "46                      0  2020                   ROCHOR  \n",
      "47                      0  2020                  SELETAR  \n",
      "48                   2498  2020                 SENGKANG  \n",
      "49                    784  2020                SERANGOON  \n",
      "50                    774  2020                 CLEMENTI  \n",
      "51                    843  2020                TOA PAYOH  \n",
      "52                      0  2020          SINGAPORE RIVER  \n",
      "53                      0  2020             SUNGEI KADUT  \n",
      "54                   3059  2020                   YISHUN  \n",
      "\n",
      "[55 rows x 21 columns]\n"
     ]
    }
   ],
   "source": [
    "print(working_transport_share_df)"
   ]
  },
  {
   "cell_type": "code",
   "execution_count": 7,
   "metadata": {},
   "outputs": [
    {
     "name": "stdout",
     "output_type": "stream",
     "text": [
      "<class 'pandas.core.frame.DataFrame'>\n",
      "RangeIndex: 55 entries, 0 to 54\n",
      "Data columns (total 11 columns):\n",
      " #   Column                      Non-Null Count  Dtype\n",
      "---  ------                      --------------  -----\n",
      " 0   bus                         55 non-null     int64\n",
      " 1   car                         55 non-null     int64\n",
      " 2   lorry_pickup                55 non-null     int64\n",
      " 3   motorcycle_scooter          55 non-null     int64\n",
      " 4   others                      55 non-null     int64\n",
      " 5   no_transport_required       55 non-null     int64\n",
      " 6   mrt_lrt_only                55 non-null     int64\n",
      " 7   mrt_lrt_and_bus             55 non-null     int64\n",
      " 8   other_combi_mrt_lrt_or_bus  55 non-null     int64\n",
      " 9   taxi_pvt_hire_car_only      55 non-null     int64\n",
      " 10  pvt_chartered_bus_van       55 non-null     int64\n",
      "dtypes: int64(11)\n",
      "memory usage: 4.9 KB\n"
     ]
    }
   ],
   "source": [
    "cond = working_transport_share_df.select_dtypes(include = int).sum(axis=0) == 0\n",
    "columns_to_drop = list(cond[cond].index)\n",
    "working_transport_share_df = working_transport_share_df.drop(columns=(columns_to_drop + [\"planning_area\",\"year\",\"planningArea\"]))\n",
    "working_transport_share_df.info()"
   ]
  },
  {
   "cell_type": "code",
   "execution_count": 8,
   "metadata": {},
   "outputs": [],
   "source": [
    "work_transport_breakdown_by_type = working_transport_share_df.sum(axis = 0)"
   ]
  },
  {
   "cell_type": "code",
   "execution_count": 9,
   "metadata": {},
   "outputs": [
    {
     "data": {
      "text/plain": [
       "bus                           324083\n",
       "car                           454872\n",
       "lorry_pickup                   28739\n",
       "motorcycle_scooter             73294\n",
       "others                         34629\n",
       "no_transport_required         210342\n",
       "mrt_lrt_only                  284955\n",
       "mrt_lrt_and_bus               556758\n",
       "other_combi_mrt_lrt_or_bus     84679\n",
       "taxi_pvt_hire_car_only         63988\n",
       "pvt_chartered_bus_van          44726\n",
       "dtype: int64"
      ]
     },
     "execution_count": 9,
     "metadata": {},
     "output_type": "execute_result"
    }
   ],
   "source": [
    "work_transport_breakdown_by_type"
   ]
  },
  {
   "cell_type": "code",
   "execution_count": 10,
   "metadata": {},
   "outputs": [],
   "source": [
    "transport_types = list(work_transport_breakdown_by_type.index)\n",
    "transport_breakdown_total = [work_transport_breakdown_by_type[a] + school_transport_breakdown_by_type[a] for a in transport_types]\n",
    "transport_breakdown_total = pd.concat([pd.Series(transport_types), pd.Series(transport_breakdown_total)], axis = 1,keys = [\"Transport_Type\", \"Total\"])\n",
    "transport_breakdown_total[\"proportion\"] = (transport_breakdown_total[\"Total\"]/transport_breakdown_total[\"Total\"].sum()) *100\n",
    "transport_breakdown_total = transport_breakdown_total.sort_values(by = \"proportion\", ascending = False)\n",
    "transport_breakdown_total[\"Transport_Type\"] = [\n",
    "    \"MRT,LRT & Public Bus Only\",\n",
    "    \"Car Only\",\n",
    "    \"Public Bus Only\",\n",
    "    \"No Transport Required\",\n",
    "    \"MRT & LRT Only\",\n",
    "    \"Combination of MRT,LRT,Bus & Others\",\n",
    "    \"Private Chartered Bus/Van Only\",\n",
    "    \"Motorcycle/Scooters Only\",\n",
    "    \"Taxi/Private Hired Car Only\",\n",
    "    \"Others(Bicycle,Walking,RideSharing etc)\",\n",
    "    \"Lorry/Pickup Truck Only\"\n",
    "]"
   ]
  },
  {
   "cell_type": "code",
   "execution_count": 31,
   "metadata": {},
   "outputs": [
    {
     "data": {
      "text/plain": [
       "['LightBlue',\n",
       " 'LightBlue',\n",
       " 'LightBlue',\n",
       " 'LightBlue',\n",
       " 'LightBlue',\n",
       " 'LightGreen',\n",
       " 'LightBlue',\n",
       " 'LightBlue',\n",
       " 'LightBlue',\n",
       " 'LightGreen',\n",
       " 'LightBlue']"
      ]
     },
     "execution_count": 31,
     "metadata": {},
     "output_type": "execute_result"
    }
   ],
   "source": [
    "colors = transport_breakdown_total['Transport_Type'].apply(\n",
    "    lambda x: \"LightGreen\" if x in [\"Combination of MRT,LRT,Bus & Others\", \"Others(Bicycle,Walking,RideSharing etc)\"] else \"LightBlue\"\n",
    ")\n",
    "\n",
    "colors = list(colors)\n",
    "colors"
   ]
  },
  {
   "cell_type": "code",
   "execution_count": 32,
   "metadata": {},
   "outputs": [
    {
     "data": {
      "application/vnd.plotly.v1+json": {
       "config": {
        "plotlyServerURL": "https://plot.ly"
       },
       "data": [
        {
         "alignmentgroup": "True",
         "hovertemplate": "Type of Transport: %{y}<br>Proportion of Transport Type (%): %{x:.3f}<extra></extra>",
         "legendgroup": "",
         "marker": {
          "color": [
           "LightBlue",
           "LightBlue",
           "LightBlue",
           "LightBlue",
           "LightBlue",
           "LightGreen",
           "LightBlue",
           "LightBlue",
           "LightBlue",
           "LightGreen",
           "LightBlue"
          ],
          "pattern": {
           "shape": ""
          }
         },
         "name": "",
         "offsetgroup": "",
         "orientation": "h",
         "showlegend": false,
         "textposition": "auto",
         "type": "bar",
         "x": [
          25.101291128899426,
          19.15608079332152,
          16.734182478297495,
          13.181932622551384,
          11.658360823116002,
          3.5988777273735555,
          3.0731563099280454,
          2.6606093381802176,
          2.388677262348464,
          1.4125215510261788,
          1.0343099649577092
         ],
         "xaxis": "x",
         "y": [
          "MRT,LRT & Public Bus Only",
          "Car Only",
          "Public Bus Only",
          "No Transport Required",
          "MRT & LRT Only",
          "Combination of MRT,LRT,Bus & Others",
          "Private Chartered Bus/Van Only",
          "Motorcycle/Scooters Only",
          "Taxi/Private Hired Car Only",
          "Others(Bicycle,Walking,RideSharing etc)",
          "Lorry/Pickup Truck Only"
         ],
         "yaxis": "y"
        }
       ],
       "layout": {
        "barmode": "relative",
        "legend": {
         "tracegroupgap": 0
        },
        "plot_bgcolor": "white",
        "showlegend": false,
        "template": {
         "data": {
          "bar": [
           {
            "error_x": {
             "color": "#2a3f5f"
            },
            "error_y": {
             "color": "#2a3f5f"
            },
            "marker": {
             "line": {
              "color": "#E5ECF6",
              "width": 0.5
             },
             "pattern": {
              "fillmode": "overlay",
              "size": 10,
              "solidity": 0.2
             }
            },
            "type": "bar"
           }
          ],
          "barpolar": [
           {
            "marker": {
             "line": {
              "color": "#E5ECF6",
              "width": 0.5
             },
             "pattern": {
              "fillmode": "overlay",
              "size": 10,
              "solidity": 0.2
             }
            },
            "type": "barpolar"
           }
          ],
          "carpet": [
           {
            "aaxis": {
             "endlinecolor": "#2a3f5f",
             "gridcolor": "white",
             "linecolor": "white",
             "minorgridcolor": "white",
             "startlinecolor": "#2a3f5f"
            },
            "baxis": {
             "endlinecolor": "#2a3f5f",
             "gridcolor": "white",
             "linecolor": "white",
             "minorgridcolor": "white",
             "startlinecolor": "#2a3f5f"
            },
            "type": "carpet"
           }
          ],
          "choropleth": [
           {
            "colorbar": {
             "outlinewidth": 0,
             "ticks": ""
            },
            "type": "choropleth"
           }
          ],
          "contour": [
           {
            "colorbar": {
             "outlinewidth": 0,
             "ticks": ""
            },
            "colorscale": [
             [
              0,
              "#0d0887"
             ],
             [
              0.1111111111111111,
              "#46039f"
             ],
             [
              0.2222222222222222,
              "#7201a8"
             ],
             [
              0.3333333333333333,
              "#9c179e"
             ],
             [
              0.4444444444444444,
              "#bd3786"
             ],
             [
              0.5555555555555556,
              "#d8576b"
             ],
             [
              0.6666666666666666,
              "#ed7953"
             ],
             [
              0.7777777777777778,
              "#fb9f3a"
             ],
             [
              0.8888888888888888,
              "#fdca26"
             ],
             [
              1,
              "#f0f921"
             ]
            ],
            "type": "contour"
           }
          ],
          "contourcarpet": [
           {
            "colorbar": {
             "outlinewidth": 0,
             "ticks": ""
            },
            "type": "contourcarpet"
           }
          ],
          "heatmap": [
           {
            "colorbar": {
             "outlinewidth": 0,
             "ticks": ""
            },
            "colorscale": [
             [
              0,
              "#0d0887"
             ],
             [
              0.1111111111111111,
              "#46039f"
             ],
             [
              0.2222222222222222,
              "#7201a8"
             ],
             [
              0.3333333333333333,
              "#9c179e"
             ],
             [
              0.4444444444444444,
              "#bd3786"
             ],
             [
              0.5555555555555556,
              "#d8576b"
             ],
             [
              0.6666666666666666,
              "#ed7953"
             ],
             [
              0.7777777777777778,
              "#fb9f3a"
             ],
             [
              0.8888888888888888,
              "#fdca26"
             ],
             [
              1,
              "#f0f921"
             ]
            ],
            "type": "heatmap"
           }
          ],
          "heatmapgl": [
           {
            "colorbar": {
             "outlinewidth": 0,
             "ticks": ""
            },
            "colorscale": [
             [
              0,
              "#0d0887"
             ],
             [
              0.1111111111111111,
              "#46039f"
             ],
             [
              0.2222222222222222,
              "#7201a8"
             ],
             [
              0.3333333333333333,
              "#9c179e"
             ],
             [
              0.4444444444444444,
              "#bd3786"
             ],
             [
              0.5555555555555556,
              "#d8576b"
             ],
             [
              0.6666666666666666,
              "#ed7953"
             ],
             [
              0.7777777777777778,
              "#fb9f3a"
             ],
             [
              0.8888888888888888,
              "#fdca26"
             ],
             [
              1,
              "#f0f921"
             ]
            ],
            "type": "heatmapgl"
           }
          ],
          "histogram": [
           {
            "marker": {
             "pattern": {
              "fillmode": "overlay",
              "size": 10,
              "solidity": 0.2
             }
            },
            "type": "histogram"
           }
          ],
          "histogram2d": [
           {
            "colorbar": {
             "outlinewidth": 0,
             "ticks": ""
            },
            "colorscale": [
             [
              0,
              "#0d0887"
             ],
             [
              0.1111111111111111,
              "#46039f"
             ],
             [
              0.2222222222222222,
              "#7201a8"
             ],
             [
              0.3333333333333333,
              "#9c179e"
             ],
             [
              0.4444444444444444,
              "#bd3786"
             ],
             [
              0.5555555555555556,
              "#d8576b"
             ],
             [
              0.6666666666666666,
              "#ed7953"
             ],
             [
              0.7777777777777778,
              "#fb9f3a"
             ],
             [
              0.8888888888888888,
              "#fdca26"
             ],
             [
              1,
              "#f0f921"
             ]
            ],
            "type": "histogram2d"
           }
          ],
          "histogram2dcontour": [
           {
            "colorbar": {
             "outlinewidth": 0,
             "ticks": ""
            },
            "colorscale": [
             [
              0,
              "#0d0887"
             ],
             [
              0.1111111111111111,
              "#46039f"
             ],
             [
              0.2222222222222222,
              "#7201a8"
             ],
             [
              0.3333333333333333,
              "#9c179e"
             ],
             [
              0.4444444444444444,
              "#bd3786"
             ],
             [
              0.5555555555555556,
              "#d8576b"
             ],
             [
              0.6666666666666666,
              "#ed7953"
             ],
             [
              0.7777777777777778,
              "#fb9f3a"
             ],
             [
              0.8888888888888888,
              "#fdca26"
             ],
             [
              1,
              "#f0f921"
             ]
            ],
            "type": "histogram2dcontour"
           }
          ],
          "mesh3d": [
           {
            "colorbar": {
             "outlinewidth": 0,
             "ticks": ""
            },
            "type": "mesh3d"
           }
          ],
          "parcoords": [
           {
            "line": {
             "colorbar": {
              "outlinewidth": 0,
              "ticks": ""
             }
            },
            "type": "parcoords"
           }
          ],
          "pie": [
           {
            "automargin": true,
            "type": "pie"
           }
          ],
          "scatter": [
           {
            "fillpattern": {
             "fillmode": "overlay",
             "size": 10,
             "solidity": 0.2
            },
            "type": "scatter"
           }
          ],
          "scatter3d": [
           {
            "line": {
             "colorbar": {
              "outlinewidth": 0,
              "ticks": ""
             }
            },
            "marker": {
             "colorbar": {
              "outlinewidth": 0,
              "ticks": ""
             }
            },
            "type": "scatter3d"
           }
          ],
          "scattercarpet": [
           {
            "marker": {
             "colorbar": {
              "outlinewidth": 0,
              "ticks": ""
             }
            },
            "type": "scattercarpet"
           }
          ],
          "scattergeo": [
           {
            "marker": {
             "colorbar": {
              "outlinewidth": 0,
              "ticks": ""
             }
            },
            "type": "scattergeo"
           }
          ],
          "scattergl": [
           {
            "marker": {
             "colorbar": {
              "outlinewidth": 0,
              "ticks": ""
             }
            },
            "type": "scattergl"
           }
          ],
          "scattermapbox": [
           {
            "marker": {
             "colorbar": {
              "outlinewidth": 0,
              "ticks": ""
             }
            },
            "type": "scattermapbox"
           }
          ],
          "scatterpolar": [
           {
            "marker": {
             "colorbar": {
              "outlinewidth": 0,
              "ticks": ""
             }
            },
            "type": "scatterpolar"
           }
          ],
          "scatterpolargl": [
           {
            "marker": {
             "colorbar": {
              "outlinewidth": 0,
              "ticks": ""
             }
            },
            "type": "scatterpolargl"
           }
          ],
          "scatterternary": [
           {
            "marker": {
             "colorbar": {
              "outlinewidth": 0,
              "ticks": ""
             }
            },
            "type": "scatterternary"
           }
          ],
          "surface": [
           {
            "colorbar": {
             "outlinewidth": 0,
             "ticks": ""
            },
            "colorscale": [
             [
              0,
              "#0d0887"
             ],
             [
              0.1111111111111111,
              "#46039f"
             ],
             [
              0.2222222222222222,
              "#7201a8"
             ],
             [
              0.3333333333333333,
              "#9c179e"
             ],
             [
              0.4444444444444444,
              "#bd3786"
             ],
             [
              0.5555555555555556,
              "#d8576b"
             ],
             [
              0.6666666666666666,
              "#ed7953"
             ],
             [
              0.7777777777777778,
              "#fb9f3a"
             ],
             [
              0.8888888888888888,
              "#fdca26"
             ],
             [
              1,
              "#f0f921"
             ]
            ],
            "type": "surface"
           }
          ],
          "table": [
           {
            "cells": {
             "fill": {
              "color": "#EBF0F8"
             },
             "line": {
              "color": "white"
             }
            },
            "header": {
             "fill": {
              "color": "#C8D4E3"
             },
             "line": {
              "color": "white"
             }
            },
            "type": "table"
           }
          ]
         },
         "layout": {
          "annotationdefaults": {
           "arrowcolor": "#2a3f5f",
           "arrowhead": 0,
           "arrowwidth": 1
          },
          "autotypenumbers": "strict",
          "coloraxis": {
           "colorbar": {
            "outlinewidth": 0,
            "ticks": ""
           }
          },
          "colorscale": {
           "diverging": [
            [
             0,
             "#8e0152"
            ],
            [
             0.1,
             "#c51b7d"
            ],
            [
             0.2,
             "#de77ae"
            ],
            [
             0.3,
             "#f1b6da"
            ],
            [
             0.4,
             "#fde0ef"
            ],
            [
             0.5,
             "#f7f7f7"
            ],
            [
             0.6,
             "#e6f5d0"
            ],
            [
             0.7,
             "#b8e186"
            ],
            [
             0.8,
             "#7fbc41"
            ],
            [
             0.9,
             "#4d9221"
            ],
            [
             1,
             "#276419"
            ]
           ],
           "sequential": [
            [
             0,
             "#0d0887"
            ],
            [
             0.1111111111111111,
             "#46039f"
            ],
            [
             0.2222222222222222,
             "#7201a8"
            ],
            [
             0.3333333333333333,
             "#9c179e"
            ],
            [
             0.4444444444444444,
             "#bd3786"
            ],
            [
             0.5555555555555556,
             "#d8576b"
            ],
            [
             0.6666666666666666,
             "#ed7953"
            ],
            [
             0.7777777777777778,
             "#fb9f3a"
            ],
            [
             0.8888888888888888,
             "#fdca26"
            ],
            [
             1,
             "#f0f921"
            ]
           ],
           "sequentialminus": [
            [
             0,
             "#0d0887"
            ],
            [
             0.1111111111111111,
             "#46039f"
            ],
            [
             0.2222222222222222,
             "#7201a8"
            ],
            [
             0.3333333333333333,
             "#9c179e"
            ],
            [
             0.4444444444444444,
             "#bd3786"
            ],
            [
             0.5555555555555556,
             "#d8576b"
            ],
            [
             0.6666666666666666,
             "#ed7953"
            ],
            [
             0.7777777777777778,
             "#fb9f3a"
            ],
            [
             0.8888888888888888,
             "#fdca26"
            ],
            [
             1,
             "#f0f921"
            ]
           ]
          },
          "colorway": [
           "#636efa",
           "#EF553B",
           "#00cc96",
           "#ab63fa",
           "#FFA15A",
           "#19d3f3",
           "#FF6692",
           "#B6E880",
           "#FF97FF",
           "#FECB52"
          ],
          "font": {
           "color": "#2a3f5f"
          },
          "geo": {
           "bgcolor": "white",
           "lakecolor": "white",
           "landcolor": "#E5ECF6",
           "showlakes": true,
           "showland": true,
           "subunitcolor": "white"
          },
          "hoverlabel": {
           "align": "left"
          },
          "hovermode": "closest",
          "mapbox": {
           "style": "light"
          },
          "paper_bgcolor": "white",
          "plot_bgcolor": "#E5ECF6",
          "polar": {
           "angularaxis": {
            "gridcolor": "white",
            "linecolor": "white",
            "ticks": ""
           },
           "bgcolor": "#E5ECF6",
           "radialaxis": {
            "gridcolor": "white",
            "linecolor": "white",
            "ticks": ""
           }
          },
          "scene": {
           "xaxis": {
            "backgroundcolor": "#E5ECF6",
            "gridcolor": "white",
            "gridwidth": 2,
            "linecolor": "white",
            "showbackground": true,
            "ticks": "",
            "zerolinecolor": "white"
           },
           "yaxis": {
            "backgroundcolor": "#E5ECF6",
            "gridcolor": "white",
            "gridwidth": 2,
            "linecolor": "white",
            "showbackground": true,
            "ticks": "",
            "zerolinecolor": "white"
           },
           "zaxis": {
            "backgroundcolor": "#E5ECF6",
            "gridcolor": "white",
            "gridwidth": 2,
            "linecolor": "white",
            "showbackground": true,
            "ticks": "",
            "zerolinecolor": "white"
           }
          },
          "shapedefaults": {
           "line": {
            "color": "#2a3f5f"
           }
          },
          "ternary": {
           "aaxis": {
            "gridcolor": "white",
            "linecolor": "white",
            "ticks": ""
           },
           "baxis": {
            "gridcolor": "white",
            "linecolor": "white",
            "ticks": ""
           },
           "bgcolor": "#E5ECF6",
           "caxis": {
            "gridcolor": "white",
            "linecolor": "white",
            "ticks": ""
           }
          },
          "title": {
           "x": 0.05
          },
          "xaxis": {
           "automargin": true,
           "gridcolor": "white",
           "linecolor": "white",
           "ticks": "",
           "title": {
            "standoff": 15
           },
           "zerolinecolor": "white",
           "zerolinewidth": 2
          },
          "yaxis": {
           "automargin": true,
           "gridcolor": "white",
           "linecolor": "white",
           "ticks": "",
           "title": {
            "standoff": 15
           },
           "zerolinecolor": "white",
           "zerolinewidth": 2
          }
         }
        },
        "title": {
         "font": {
          "family": "Calibri"
         },
         "text": "Transportation Types in Singapore(By Proportion)",
         "x": 0.5
        },
        "xaxis": {
         "anchor": "y",
         "domain": [
          0,
          1
         ],
         "linecolor": "black",
         "showgrid": true,
         "showline": true,
         "tickfont": {
          "family": "Calibri"
         },
         "title": {
          "text": "Proportion of Transport Type (%)"
         }
        },
        "yaxis": {
         "anchor": "x",
         "categoryorder": "total ascending",
         "domain": [
          0,
          1
         ],
         "dtick": 1.4,
         "linecolor": "black",
         "showgrid": true,
         "showline": false,
         "tickfont": {
          "family": "Calibri"
         },
         "tickmode": "linear",
         "title": {
          "text": "Type of Transport"
         }
        }
       }
      }
     },
     "metadata": {},
     "output_type": "display_data"
    }
   ],
   "source": [
    "fig = px.bar(transport_breakdown_total,\n",
    "             y = \"Transport_Type\", \n",
    "             x = \"proportion\", \n",
    "             title = \"Proportion of Transport Type in Singapore\", \n",
    "             labels = {\"proportion\":\"Proportion of Transport Type (%)\", \"Transport_Type\":\"Type of Transport\"}\n",
    "             )\n",
    "\n",
    "fig.update_layout(\n",
    "    title = \"Transportation Types in Singapore(By Proportion)\",\n",
    "    title_x = 0.5,\n",
    "    title_font=dict(family= \"Calibri\"),\n",
    "    showlegend = False,\n",
    "    xaxis = dict(           # attributes for x axis \n",
    "        showline = True,\n",
    "        showgrid = True,\n",
    "        linecolor = 'black',\n",
    "        tickfont = dict(\n",
    "            family = 'Calibri'\n",
    "        )\n",
    "    ),\n",
    "    yaxis = dict(           # attributes for y axis \n",
    "        showline = False,\n",
    "        showgrid = True,\n",
    "        linecolor = 'black',\n",
    "        tickfont = dict(\n",
    "            family = 'Calibri'\n",
    "        ),\n",
    "        categoryorder='total ascending',\n",
    "        tickmode = \"linear\",\n",
    "        dtick = 1.4\n",
    "    ),\n",
    "    plot_bgcolor = 'white'\n",
    ")\n",
    "\n",
    "fig.update_traces(marker_color = colors,\n",
    "                  hovertemplate=\n",
    "                  'Type of Transport: %{y}<br>Proportion of Transport Type (%): %{x:.3f}<extra></extra>')\n",
    "# fig.update_layout(title_x = 0.5)\n",
    "# fig.update_yaxes(categoryorder='total ascending',showgrid = False)\n",
    "# fig.update_layout(showlegend=False)\n",
    " \n",
    "fig.show()"
   ]
  },
  {
   "cell_type": "code",
   "execution_count": null,
   "metadata": {},
   "outputs": [],
   "source": []
  }
 ],
 "metadata": {
  "kernelspec": {
   "display_name": "Python 3",
   "language": "python",
   "name": "python3"
  },
  "language_info": {
   "codemirror_mode": {
    "name": "ipython",
    "version": 3
   },
   "file_extension": ".py",
   "mimetype": "text/x-python",
   "name": "python",
   "nbconvert_exporter": "python",
   "pygments_lexer": "ipython3",
   "version": "3.9.13"
  }
 },
 "nbformat": 4,
 "nbformat_minor": 2
}
