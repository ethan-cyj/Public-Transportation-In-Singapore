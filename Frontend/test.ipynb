{
 "cells": [
  {
   "cell_type": "code",
   "execution_count": 47,
   "metadata": {},
   "outputs": [],
   "source": [
    "import geopandas as gpd\n",
    "from shapely import Point\n",
    "import numpy as np\n",
    "import pandas as pd\n",
    "import os\n",
    "from bs4 import BeautifulSoup\n",
    "import json\n",
    "import yaml\n",
    "from pyonemap import OneMap\n",
    "from dotenv import load_dotenv\n",
    "import requests\n",
    "import app_utils as utils\n"
   ]
  },
  {
   "cell_type": "code",
   "execution_count": 49,
   "metadata": {},
   "outputs": [],
   "source": [
    "current_directory = os.getcwd()\n",
    "data_directory = os.path.join(current_directory, '../data')\n",
    "def haversine(lat1, lon1, lat2, lon2):\n",
    "    R = 6371.0  # Earth radius in kilometers\n",
    "    lat1 = np.radians(lat1)\n",
    "    lon1 = np.radians(lon1)\n",
    "    lat2 = np.radians(lat2)\n",
    "    lon2 = np.radians(lon2)\n",
    "    dlat = lat2 - lat1\n",
    "    dlon = lon2 - lon1\n",
    "    a = np.sin(dlat / 2)**2 + np.cos(lat1) * np.cos(lat2) * np.sin(dlon / 2)**2\n",
    "    c = 2 * np.arcsin(np.sqrt(a))\n",
    "    distance = R * c\n",
    "    return distance"
   ]
  },
  {
   "cell_type": "code",
   "execution_count": 52,
   "metadata": {},
   "outputs": [],
   "source": [
    "def SP2_get_centroid_from_postal_code(address):\n",
    "    load_dotenv()\n",
    "    df = pd.read_csv(os.path.join(data_directory, 'Cluster_data','indiv_combined_centroid_data_fixed.csv'),index_col = 0)\n",
    "    df = df[[\"centroid_name\",\"Latitude_x\",\"Longitude_x\",\"MRT.Name\"]]\n",
    "    #search for average coords of api results\n",
    "    one_map_email = os.getenv(\"ONE_MAP_EMAIL\")\n",
    "    one_map_password = os.getenv(\"ONE_MAP_PASSWORD\")\n",
    "    payload = {\n",
    "            \"email\": one_map_email,\n",
    "            \"password\": one_map_password\n",
    "        }\n",
    "    api_key = requests.request(\"POST\", \"https://www.onemap.gov.sg/api/auth/post/getToken\", json=payload)\n",
    "    api_key = api_key.json()[\"access_token\"]\n",
    "    onemap = OneMap(api_key)\n",
    "    location = onemap.search(address)\n",
    "    if location['found'] and location['found'] > 0:\n",
    "        lat, long =0,0\n",
    "        for i in range(location['found']):\n",
    "            lat += float(location['results'][i]['LATITUDE'])\n",
    "            long += float(location['results'][i]['LONGITUDE'])\n",
    "        lat = lat/location['found']\n",
    "        long = long/location['found']\n",
    "    else:\n",
    "        print(\"No locations found\")\n",
    "        return None\n",
    "    print(lat,long)\n",
    "    #find nearest centroid\n",
    "    df['euclidean'] = df.apply(lambda x: haversine(lat, long, x['Latitude_x'], x['Longitude_x']), axis=1)\n",
    "    df = df[df['euclidean'] == df['euclidean'].min()]\n",
    "    return (df[\"Latitude_x\"].values[0], df[\"Longitude_x\"].values[0])"
   ]
  },
  {
   "cell_type": "code",
   "execution_count": 53,
   "metadata": {},
   "outputs": [
    {
     "name": "stdout",
     "output_type": "stream",
     "text": [
      "1.28263437649669 103.825595753657\n"
     ]
    },
    {
     "data": {
      "text/plain": [
       "(1.282626931, 103.826023)"
      ]
     },
     "execution_count": 53,
     "metadata": {},
     "output_type": "execute_result"
    }
   ],
   "source": [
    "SP2_get_centroid_from_postal_code(\"26 JALAN MEMBINA\")"
   ]
  }
 ],
 "metadata": {
  "kernelspec": {
   "display_name": "Python 3",
   "language": "python",
   "name": "python3"
  },
  "language_info": {
   "codemirror_mode": {
    "name": "ipython",
    "version": 3
   },
   "file_extension": ".py",
   "mimetype": "text/x-python",
   "name": "python",
   "nbconvert_exporter": "python",
   "pygments_lexer": "ipython3",
   "version": "3.11.4"
  }
 },
 "nbformat": 4,
 "nbformat_minor": 2
}
