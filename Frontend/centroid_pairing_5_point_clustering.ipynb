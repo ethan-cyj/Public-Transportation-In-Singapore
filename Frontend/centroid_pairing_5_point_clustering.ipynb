{
 "cells": [
  {
   "cell_type": "code",
   "execution_count": 1,
   "metadata": {},
   "outputs": [],
   "source": [
    "import pandas as pd\n",
    "import numpy as np\n",
    "import openrouteservice as ors\n",
    "from dotenv import load_dotenv\n",
    "from pyonemap import OneMap\n",
    "import os\n",
    "import requests\n",
    "import json\n",
    "import time\n",
    "from collections import namedtuple\n",
    "import helper_functions as helper\n",
    "from datetime import datetime,timedelta"
   ]
  },
  {
   "cell_type": "code",
   "execution_count": 2,
   "metadata": {},
   "outputs": [
    {
     "data": {
      "text/plain": [
       "True"
      ]
     },
     "execution_count": 2,
     "metadata": {},
     "output_type": "execute_result"
    }
   ],
   "source": [
    "load_dotenv()"
   ]
  },
  {
   "cell_type": "code",
   "execution_count": 3,
   "metadata": {},
   "outputs": [],
   "source": [
    "directory = os.getcwd()\n",
    "\n",
    "os.chdir(directory)"
   ]
  },
  {
   "cell_type": "code",
   "execution_count": 4,
   "metadata": {},
   "outputs": [],
   "source": [
    "hdbCentroids_df = pd.read_csv(r\"..\\data\\hdb_cluster_centroids.csv\",header = None,names = ['Latitude','Longitude'])\n",
    "priv_centroid_df = pd.read_csv(r\"..\\data\\priv_cluster_centroids.csv\",header = None,names = ['Latitude','Longitude'])\n",
    "mrt_stations_df = pd.read_csv(r\"..\\data\\mrt_station_final.csv\",usecols = [1,2,3])"
   ]
  },
  {
   "cell_type": "code",
   "execution_count": 5,
   "metadata": {},
   "outputs": [
    {
     "name": "stdout",
     "output_type": "stream",
     "text": [
      "<class 'pandas.core.frame.DataFrame'>\n",
      "RangeIndex: 550 entries, 0 to 549\n",
      "Data columns (total 2 columns):\n",
      " #   Column     Non-Null Count  Dtype  \n",
      "---  ------     --------------  -----  \n",
      " 0   Latitude   550 non-null    float64\n",
      " 1   Longitude  550 non-null    float64\n",
      "dtypes: float64(2)\n",
      "memory usage: 8.7 KB\n",
      "<class 'pandas.core.frame.DataFrame'>\n",
      "RangeIndex: 550 entries, 0 to 549\n",
      "Data columns (total 2 columns):\n",
      " #   Column     Non-Null Count  Dtype  \n",
      "---  ------     --------------  -----  \n",
      " 0   Latitude   550 non-null    float64\n",
      " 1   Longitude  550 non-null    float64\n",
      "dtypes: float64(2)\n",
      "memory usage: 8.7 KB\n",
      "<class 'pandas.core.frame.DataFrame'>\n",
      "RangeIndex: 175 entries, 0 to 174\n",
      "Data columns (total 3 columns):\n",
      " #   Column     Non-Null Count  Dtype  \n",
      "---  ------     --------------  -----  \n",
      " 0   MRT.Name   175 non-null    object \n",
      " 1   Latitude   175 non-null    float64\n",
      " 2   Longitude  175 non-null    float64\n",
      "dtypes: float64(2), object(1)\n",
      "memory usage: 4.2+ KB\n"
     ]
    }
   ],
   "source": [
    "hdbCentroids_df.info()\n",
    "priv_centroid_df.info()\n",
    "mrt_stations_df.info()"
   ]
  },
  {
   "cell_type": "code",
   "execution_count": 7,
   "metadata": {},
   "outputs": [
    {
     "data": {
      "text/html": [
       "<div>\n",
       "<style scoped>\n",
       "    .dataframe tbody tr th:only-of-type {\n",
       "        vertical-align: middle;\n",
       "    }\n",
       "\n",
       "    .dataframe tbody tr th {\n",
       "        vertical-align: top;\n",
       "    }\n",
       "\n",
       "    .dataframe thead th {\n",
       "        text-align: right;\n",
       "    }\n",
       "</style>\n",
       "<table border=\"1\" class=\"dataframe\">\n",
       "  <thead>\n",
       "    <tr style=\"text-align: right;\">\n",
       "      <th></th>\n",
       "      <th>MRT.Name</th>\n",
       "      <th>Latitude</th>\n",
       "      <th>Longitude</th>\n",
       "    </tr>\n",
       "  </thead>\n",
       "  <tbody>\n",
       "    <tr>\n",
       "      <th>12</th>\n",
       "      <td>ADMIRALTY MRT STATION</td>\n",
       "      <td>1.440589</td>\n",
       "      <td>103.80099</td>\n",
       "    </tr>\n",
       "  </tbody>\n",
       "</table>\n",
       "</div>"
      ],
      "text/plain": [
       "                 MRT.Name  Latitude  Longitude\n",
       "12  ADMIRALTY MRT STATION  1.440589  103.80099"
      ]
     },
     "execution_count": 7,
     "metadata": {},
     "output_type": "execute_result"
    }
   ],
   "source": [
    "mrt_stations_df.sort_values(by='MRT.Name', inplace=True)\n",
    "\n",
    "mrt_stations_df.head(1)"
   ]
  },
  {
   "cell_type": "code",
   "execution_count": 8,
   "metadata": {},
   "outputs": [],
   "source": [
    "combined_centroid_df = pd.concat([hdbCentroids_df,priv_centroid_df],axis = 0).reset_index(drop = True)"
   ]
  },
  {
   "cell_type": "code",
   "execution_count": 9,
   "metadata": {},
   "outputs": [
    {
     "name": "stdout",
     "output_type": "stream",
     "text": [
      "<class 'pandas.core.frame.DataFrame'>\n",
      "RangeIndex: 1100 entries, 0 to 1099\n",
      "Data columns (total 2 columns):\n",
      " #   Column     Non-Null Count  Dtype  \n",
      "---  ------     --------------  -----  \n",
      " 0   Latitude   1100 non-null   float64\n",
      " 1   Longitude  1100 non-null   float64\n",
      "dtypes: float64(2)\n",
      "memory usage: 17.3 KB\n"
     ]
    }
   ],
   "source": [
    "combined_centroid_df.info()"
   ]
  },
  {
   "cell_type": "code",
   "execution_count": 10,
   "metadata": {},
   "outputs": [],
   "source": [
    "#create a psuedo index for my residential centroids df\n",
    "combined_centroid_df['index'] = combined_centroid_df.index\n",
    "\n",
    "combined_centroid_df['index']\n",
    "\n",
    "#create a psuedo index for my residential centroids df\n",
    "mrt_stations_df['index'] = mrt_stations_df.index\n",
    "\n",
    "mrt_stations_df['index']\n",
    "\n",
    "##create a dummy variable to cross join on \n",
    "combined_centroid_df['join_key'] = \"A\"\n",
    "mrt_stations_df['join_key'] = \"A\"\n",
    "\n",
    "#Cross join to obtain combinations of all possible pairings between MRTs and Residential Centroids\n",
    "centroid_station_combination_df = pd.merge(combined_centroid_df, mrt_stations_df, on='join_key')"
   ]
  },
  {
   "cell_type": "code",
   "execution_count": 12,
   "metadata": {},
   "outputs": [
    {
     "name": "stdout",
     "output_type": "stream",
     "text": [
      "<class 'pandas.core.frame.DataFrame'>\n",
      "RangeIndex: 192500 entries, 0 to 192499\n",
      "Data columns (total 8 columns):\n",
      " #   Column       Non-Null Count   Dtype  \n",
      "---  ------       --------------   -----  \n",
      " 0   Latitude_x   192500 non-null  float64\n",
      " 1   Longitude_x  192500 non-null  float64\n",
      " 2   index_x      192500 non-null  int64  \n",
      " 3   join_key     192500 non-null  object \n",
      " 4   MRT.Name     192500 non-null  object \n",
      " 5   Latitude_y   192500 non-null  float64\n",
      " 6   Longitude_y  192500 non-null  float64\n",
      " 7   index_y      192500 non-null  int64  \n",
      "dtypes: float64(4), int64(2), object(2)\n",
      "memory usage: 11.7+ MB\n"
     ]
    }
   ],
   "source": [
    "centroid_station_combination_df.info()"
   ]
  },
  {
   "cell_type": "code",
   "execution_count": 13,
   "metadata": {},
   "outputs": [],
   "source": [
    "coordinate_pair = namedtuple('coordinate_pair',['lat_x','lon_x','lat_y','lon_y'])"
   ]
  },
  {
   "cell_type": "code",
   "execution_count": 16,
   "metadata": {},
   "outputs": [],
   "source": [
    "#Apply function to dataframe and store distances in new column 'euclidean distance'\n",
    "centroid_station_combination_df['euclidean_distance'] = helper.haversine(centroid_station_combination_df['Latitude_x'], centroid_station_combination_df['Longitude_x'], centroid_station_combination_df['Latitude_y'], centroid_station_combination_df['Longitude_y'])\n",
    "\n",
    "#Group by residential centroid, filter out the closest MRT by distance for each centroid into another dataframe and reset its index\n",
    "result_df = centroid_station_combination_df.groupby('MRT.Name').apply(lambda group: group.nsmallest(5, 'euclidean_distance'),include_groups = False).reset_index(drop=True)\n",
    "\n",
    "result_df['MRT.Name'] = pd.merge(result_df, mrt_stations_df, left_on='index_y', right_on='index')['MRT.Name']\n",
    "\n",
    "#Create a new column 'coordinate_pair' to store coordinate pairs to pass to openrouteservice API direction query\n",
    "# result_df['coordinate_pair'] = list(zip(result_df['Longitude_x'], result_df['Latitude_x'], result_df['Longitude_y'], result_df['Latitude_y']))\n",
    "# result_df['coordinate_pair'] = result_df['coordinate_pair'].apply(lambda x: [[x[0], x[1]], [x[2], x[3]]])\n",
    "result_df['coordinate_pair'] = result_df.apply(lambda x: coordinate_pair(x['Latitude_x'], x['Longitude_x'], x['Latitude_y'], x['Longitude_y']), axis=1)\n",
    "\n",
    "#create an empty column 'route' to later store query response\n",
    "result_df['cycle_route'] = np.nan\n",
    "result_df['bus_route'] = np.nan"
   ]
  },
  {
   "cell_type": "code",
   "execution_count": 22,
   "metadata": {},
   "outputs": [
    {
     "name": "stdout",
     "output_type": "stream",
     "text": [
      "<class 'pandas.core.frame.DataFrame'>\n",
      "RangeIndex: 875 entries, 0 to 874\n",
      "Data columns (total 12 columns):\n",
      " #   Column              Non-Null Count  Dtype  \n",
      "---  ------              --------------  -----  \n",
      " 0   Latitude_x          875 non-null    float64\n",
      " 1   Longitude_x         875 non-null    float64\n",
      " 2   index_x             875 non-null    int64  \n",
      " 3   join_key            875 non-null    object \n",
      " 4   Latitude_y          875 non-null    float64\n",
      " 5   Longitude_y         875 non-null    float64\n",
      " 6   index_y             875 non-null    int64  \n",
      " 7   euclidean_distance  875 non-null    float64\n",
      " 8   MRT.Name            875 non-null    object \n",
      " 9   coordinate_pair     875 non-null    object \n",
      " 10  cycle_route         0 non-null      float64\n",
      " 11  bus_route           0 non-null      float64\n",
      "dtypes: float64(7), int64(2), object(3)\n",
      "memory usage: 82.2+ KB\n"
     ]
    },
    {
     "data": {
      "text/html": [
       "<div>\n",
       "<style scoped>\n",
       "    .dataframe tbody tr th:only-of-type {\n",
       "        vertical-align: middle;\n",
       "    }\n",
       "\n",
       "    .dataframe tbody tr th {\n",
       "        vertical-align: top;\n",
       "    }\n",
       "\n",
       "    .dataframe thead th {\n",
       "        text-align: right;\n",
       "    }\n",
       "</style>\n",
       "<table border=\"1\" class=\"dataframe\">\n",
       "  <thead>\n",
       "    <tr style=\"text-align: right;\">\n",
       "      <th></th>\n",
       "      <th>MRT.Name</th>\n",
       "      <th>Count</th>\n",
       "    </tr>\n",
       "  </thead>\n",
       "  <tbody>\n",
       "  </tbody>\n",
       "</table>\n",
       "</div>"
      ],
      "text/plain": [
       "Empty DataFrame\n",
       "Columns: [MRT.Name, Count]\n",
       "Index: []"
      ]
     },
     "execution_count": 22,
     "metadata": {},
     "output_type": "execute_result"
    }
   ],
   "source": [
    "result_df.info()\n",
    "\n",
    "counts = result_df.groupby('MRT.Name').size().reset_index(name='Count')\n",
    "\n",
    "counts[counts['Count'] != 5]"
   ]
  },
  {
   "cell_type": "code",
   "execution_count": 23,
   "metadata": {},
   "outputs": [],
   "source": [
    "one_map_email = os.getenv(\"ONE_MAP_EMAIL\")\n",
    "one_map_password = os.getenv(\"ONE_MAP_PASSWORD\")\n",
    "payload = {\n",
    "        \"email\": one_map_email,\n",
    "        \"password\": one_map_password\n",
    "      }\n",
    "api_key = requests.request(\"POST\", \"https://www.onemap.gov.sg/api/auth/post/getToken\", json=payload)\n",
    "api_key = api_key.json()[\"access_token\"]\n",
    "\n",
    "onemap = OneMap(api_key)"
   ]
  },
  {
   "cell_type": "code",
   "execution_count": null,
   "metadata": {},
   "outputs": [],
   "source": [
    "result_df['cycle_route'] = result_df['coordinate_pair'].apply(lambda x:helper.get_cycle_route(onemap,x))"
   ]
  },
  {
   "cell_type": "code",
   "execution_count": null,
   "metadata": {},
   "outputs": [],
   "source": [
    "result_df['distance'] = result_df['cycle_route'].apply(helper.get_distance)\n",
    "result_df['cycle_duration'] = result_df['cycle_route'].apply(helper.get_time)"
   ]
  },
  {
   "cell_type": "code",
   "execution_count": null,
   "metadata": {},
   "outputs": [],
   "source": [
    "result_df['centroid_name'] = result_df.apply(helper.get_centroid_name, axis=1)"
   ]
  },
  {
   "cell_type": "code",
   "execution_count": null,
   "metadata": {},
   "outputs": [],
   "source": [
    "ors_key = os.getenv(\"ORS_API_KEY\")\n",
    "\n",
    "client = ors.Client(key= ors_key)"
   ]
  },
  {
   "cell_type": "code",
   "execution_count": null,
   "metadata": {},
   "outputs": [],
   "source": [
    "result_df['suitability'] = result_df['cycle_route'].apply(lambda x: helper.get_path_suitability(client,x))"
   ]
  },
  {
   "cell_type": "code",
   "execution_count": null,
   "metadata": {},
   "outputs": [],
   "source": [
    "result_df['steepness'] = result_df['cycle_route'].apply(lambda x: helper.get_path_steepness(client,x))"
   ]
  },
  {
   "cell_type": "code",
   "execution_count": null,
   "metadata": {},
   "outputs": [],
   "source": [
    "result_df[['bus_route', 'bus_duration']] = result_df.apply(lambda row: pd.Series(helper.apply_fetch_itinerary(row)), axis=1)\n",
    "result_df['time_difference'] = result_df['cycle_duration'] - result_df['bus_duration']\n",
    "\n",
    "new_result_df = result_df. loc[:, result_df.columns != 'route']\n",
    "new_result_df.to_csv(r\"..\\data\\five_point_Centroid_MRT pairing data.csv\")\n",
    "\n",
    "\n",
    "routes = result_df['cycle_route'].copy(deep = True)\n",
    "routes.to_json(r'..\\data\\five_point_Centroid_MRT_cycle_routes.json', orient='records')\n",
    "\n",
    "#result_df.to_csv(r\"..\\data\\five_point_Centroid_MRT pairing data.csv\")\n"
   ]
  }
 ],
 "metadata": {
  "kernelspec": {
   "display_name": "Python 3",
   "language": "python",
   "name": "python3"
  },
  "language_info": {
   "codemirror_mode": {
    "name": "ipython",
    "version": 3
   },
   "file_extension": ".py",
   "mimetype": "text/x-python",
   "name": "python",
   "nbconvert_exporter": "python",
   "pygments_lexer": "ipython3",
   "version": "3.9.13"
  }
 },
 "nbformat": 4,
 "nbformat_minor": 2
}
