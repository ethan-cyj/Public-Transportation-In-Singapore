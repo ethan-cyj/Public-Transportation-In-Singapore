{
 "cells": [
  {
   "cell_type": "code",
   "execution_count": 4,
   "metadata": {},
   "outputs": [],
   "source": [
    "import pandas as pd\n",
    "import numpy as np\n",
    "import openrouteservice as ors\n",
    "from dotenv import load_dotenv\n",
    "from pyonemap import OneMap\n",
    "import os\n",
    "import requests\n",
    "import json\n",
    "import time\n",
    "from collections import namedtuple\n",
    "load_dotenv()\n",
    "import folium"
   ]
  },
  {
   "cell_type": "code",
   "execution_count": 5,
   "metadata": {},
   "outputs": [
    {
     "name": "stdout",
     "output_type": "stream",
     "text": [
      "[[1.293657725, 103.8550812], [1.31719912, 103.8923649], [1.298655224, 103.8461942], [1.308547984, 103.8890647], [1.307377817, 103.8627676], [1.38670059, 103.8906213], [1.311405293, 103.7786378], [1.371292266, 103.8923805], [1.378615451, 103.7579956], [1.316432612, 103.882906], [1.399281988, 103.9059619], [1.37300805, 103.9492651], [1.440588562, 103.8009905], [1.321038134, 103.9129479], [1.41684852, 103.9066508], [1.432521149, 103.7740746], [1.394493045, 103.9004925], [1.41738337, 103.8329799], [1.392079837, 103.8800296], [1.345633658, 103.9384925], [1.345515306, 103.938437], [1.356191483, 103.9546345], [1.335145642, 103.8883361], [1.408452419, 103.8985585], [1.320065558, 103.8260244], [1.302812468, 103.8753377], [1.330857645, 103.7969068], [1.380298287, 103.7452918], [1.405323319, 103.8972905], [1.300264167, 103.8390858], [1.343197079, 103.9533772], [1.350633615, 103.8727717], [1.391694626, 103.8954847], [1.340469001, 103.8467991], [1.320440791, 103.8438256], [1.3131403, 103.8547547], [1.320401487, 103.9571838], [1.289634534, 103.816741], [1.357478974, 103.9878836], [1.393909229, 103.9125808], [1.315116253, 103.7651915], [1.349033312, 103.7495665], [1.40228668, 103.9127274], [1.411854477, 103.9003395], [1.39691205, 103.9089502], [1.358611591, 103.7517909], [1.319783549, 103.9032258], [1.342244948, 103.7327666], [1.399509106, 103.916575], [1.396277633, 103.8937972], [1.409612685, 103.9048316], [1.425086981, 103.7621375], [1.369428557, 103.8494552], [1.394519785, 103.9161694], [1.38002223, 103.7726474], [1.276213522, 103.7913503], [1.312240296, 103.7963991], [1.272227051, 103.8027445], [1.322113736, 103.8149845], [1.299689535, 103.7874128], [1.293536986, 103.7845724], [1.281956887, 103.781989], [1.276311144, 103.854605], [1.335661613, 103.7833991], [1.306800197, 103.8496471], [1.303852185, 103.8527694], [1.382725471, 103.7623443], [1.306201905, 103.8825281], [1.385363165, 103.7443708], [1.319939577, 103.8620527], [1.342501178, 103.8801779], [1.387785087, 103.7695997], [1.362344868, 103.7674183], [1.34090149, 103.7757467], [1.379561212, 103.7611889], [1.369815449, 103.7644392], [1.327694365, 103.6780851], [1.397297711, 103.7473577], [1.429443085, 103.835005], [1.381498825, 103.8451707], [1.339190045, 103.8708183], [1.436057617, 103.7879388], [1.341739774, 103.9614728], [1.282068948, 103.8486488], [1.389347947, 103.8858442], [1.32997426, 103.8992267], [1.332596728, 103.8475773], [1.286102536, 103.8274451], [1.397318156, 103.8756352], [1.293997986, 103.86035], [1.296861686, 103.8506674], [1.29956843, 103.8639777], [1.331879714, 103.8690579], [1.344259115, 103.7209491], [1.415901722, 103.9021563], [1.384233559, 103.8971947], [1.449050822, 103.8200461], [1.405194701, 103.9024119], [1.383959117, 103.9022254], [1.337587011, 103.6973216], [1.300465085, 103.8557067], [1.312318922, 103.8379846], [1.307223708, 103.7902535], [1.279739707, 103.8395135], [1.284223919, 103.8451438], [1.335382526, 103.9623747], [1.283933262, 103.8514631], [1.321026956, 103.6490782], [1.340882425, 103.6369914], [1.329985047, 103.6396166], [1.292989907, 103.8525426], [1.351315801, 103.8491403], [1.391885892, 103.8763086], [1.414927334, 103.9101664], [1.38287002, 103.8931226], [1.387994311, 103.9054153], [1.397170196, 103.8893048], [1.302501999, 103.7982285], [1.39821283, 103.8812562], [1.405234836, 103.9086035], [1.294550852, 103.8060772], [1.31148891, 103.8713865], [1.391468495, 103.9059736], [1.377772043, 103.7666458], [1.338610339, 103.7060849], [1.378603251, 103.7490557], [1.38673927, 103.7645341], [1.384755411, 103.7445377], [1.391609364, 103.8954426], [1.265389384, 103.8215302], [1.376135743, 103.7712612], [1.288710232, 103.8466109], [1.377926946, 103.7631029], [1.384573177, 103.7708872], [1.360179171, 103.8850649], [1.351639278, 103.8639457], [1.348707263, 103.8394231], [1.337245613, 103.8401618], [1.279446382, 103.8528408], [1.321301102, 103.8716226], [1.313672528, 103.8629776], [1.298918434, 103.8503538], [1.292481948, 103.8443314], [1.33496736, 103.9084593], [1.305171388, 103.8552957], [1.326876715, 103.8832475], [1.326150245, 103.8892986], [1.281873789, 103.8590798], [1.317439152, 103.8073792], [1.33315262, 103.7422865], [1.334742117, 103.9179783], [1.33660783, 103.9322346], [1.302422248, 103.8238685], [1.38550658, 103.8357438], [1.363846766, 103.8338992], [1.397581061, 103.8178569], [1.271027036, 103.8624475], [1.443076641, 103.8297026], [1.427488114, 103.7927299], [1.447782173, 103.7851355], [1.319470901, 103.6605305], [1.28850524, 103.8335858], [1.306782234, 103.8189568], [1.277716828, 103.8503676], [1.278487259, 103.8674547], [1.293316457, 103.8339066], [1.280533298, 103.8438837], [1.303623073, 103.8236504], [1.270706478, 103.8097616], [1.376684679, 103.7537122], [1.276568292, 103.8460067], [1.327310982, 103.9464517], [1.326392241, 103.8065482], [1.354416434, 103.8328985], [1.371463188, 103.8365678]]\n"
     ]
    }
   ],
   "source": [
    "#get mrt data\n",
    "mrt_df = pd.read_csv('../../data/Isochrone_data/mrt_station_colours.csv', index_col=0)\n",
    "mrt_df.head()\n",
    "coords = mrt_df[['Latitude', 'Longitude']].values.tolist()\n",
    "print(coords)\n",
    "# run this to start OTP: java -Xmx6G -jar otp-2.5.0-shaded.jar --load /Users/ethan/Documents/GitHub/Public-Transportation-In-Singapore/Backend/otp/  --serve\n",
    "\n",
    "# Sample API request to the OTP isochrone endpoint\n",
    "response = requests.get(\"http://localhost:8080/otp/traveltime/isochrone?batch=true&location=52.499959,13.388803&time=2023-04-12T10:19:03%2B02:00&modes=WALK,TRANSIT&arriveBy=false&cutoff=30M17S\")\n"
   ]
  },
  {
   "cell_type": "markdown",
   "metadata": {},
   "source": [
    "Write a function for fetching isochrome. Configure params here"
   ]
  },
  {
   "cell_type": "code",
   "execution_count": 6,
   "metadata": {},
   "outputs": [
    {
     "name": "stdout",
     "output_type": "stream",
     "text": [
      "[[103.836045, 1.294619], [103.837223, 1.29545], [103.838233, 1.295008], [103.839022, 1.29469], [103.839409, 1.294385], [103.840007, 1.293998], [103.840426, 1.293603], [103.840821, 1.292805], [103.840975, 1.292353], [103.841198, 1.292199], [103.841572, 1.291151], [103.84262, 1.290512], [103.842666, 1.290447], [103.844419, 1.290612], [103.84487, 1.290852], [103.846218, 1.290415], [103.846227, 1.290409], [103.846342, 1.290401], [103.846218, 1.290377], [103.845601, 1.288602], [103.845596, 1.287979], [103.846218, 1.287716], [103.847753, 1.288337], [103.848017, 1.288403], [103.848132, 1.288602], [103.848343, 1.288927], [103.848352, 1.290401], [103.849817, 1.290792], [103.850405, 1.290989], [103.851616, 1.291194], [103.852966, 1.291751], [103.853415, 1.291974], [103.853791, 1.292199], [103.854688, 1.293472], [103.85503, 1.293998], [103.855214, 1.294696], [103.855365, 1.295797], [103.856599, 1.297181], [103.856597, 1.297595], [103.856472, 1.298853], [103.855214, 1.297816], [103.854979, 1.299159], [103.854932, 1.299394], [103.854918, 1.300897], [103.854744, 1.301192], [103.854332, 1.302109], [103.854218, 1.302991], [103.854399, 1.303975], [103.853415, 1.304029], [103.853051, 1.304426], [103.852612, 1.30479], [103.853148, 1.306322], [103.851616, 1.30593], [103.851202, 1.306175], [103.850718, 1.306588], [103.850549, 1.307321], [103.849817, 1.30771], [103.849023, 1.307593], [103.848017, 1.308022], [103.847691, 1.308061], [103.846218, 1.307058], [103.84556, 1.307729], [103.844419, 1.307997], [103.843005, 1.306973], [103.84262, 1.306948], [103.841338, 1.306588], [103.840821, 1.306485], [103.839568, 1.30479], [103.839022, 1.304423], [103.838233, 1.304001], [103.837223, 1.303654], [103.836165, 1.302991], [103.835809, 1.301578], [103.835563, 1.301192], [103.835647, 1.299617], [103.835646, 1.299394], [103.835627, 1.297799], [103.835628, 1.297595], [103.836546, 1.296918], [103.836939, 1.295797], [103.836045, 1.294619]]\n"
     ]
    }
   ],
   "source": [
    "def fetch_isochrone(lat, lon, modes, cutoff=\"20M01S\"):\n",
    "    \"\"\"Fetch isochrone GeoJSON for a given location.\"\"\"\n",
    "    url = \"http://localhost:8080/otp/traveltime/isochrone\"\n",
    "    params = {\n",
    "        \"batch\": \"false\",\n",
    "        \"location\": f\"{lat},{lon}\",\n",
    "        \"time\": \"2024-04-02T10:00:00+02:00\",\n",
    "        \"modes\": modes,\n",
    "        \"cutoff\": cutoff,\n",
    "        \"maxWalkDistance\": 2,\n",
    "        \"walkReluctance\": 4\n",
    "    }\n",
    "    response = requests.get(url, params=params)\n",
    "    if response.status_code == 200:\n",
    "        return response.json()\n",
    "    else:\n",
    "        print(f\"Failed to fetch isochrone for {lat},{lon}. Status code: {response.status_code}\")\n",
    "        return None\n",
    "x = fetch_isochrone(1.298655224, 103.8461942, modes = \"TRANSIT\")\n",
    "features = x['features'][0]['geometry']['coordinates'][0][0]\n",
    "print(features)"
   ]
  },
  {
   "cell_type": "code",
   "execution_count": 9,
   "metadata": {},
   "outputs": [
    {
     "data": {
      "application/vnd.plotly.v1+json": {
       "config": {
        "plotlyServerURL": "https://plot.ly"
       },
       "data": [
        {
         "lat": [
          1.293657725
         ],
         "lon": [
          103.8550812
         ],
         "marker": {
          "color": "blue",
          "size": 10
         },
         "mode": "markers",
         "selected": {
          "marker": {
           "size": 25
          }
         },
         "text": [
          "ESPLANADE MRT STATION"
         ],
         "type": "scattermapbox",
         "uid": "5536e852-1754-4dda-ba40-9b8e91c0ca44",
         "unselected": {
          "marker": {
           "color": "grey",
           "size": 5
          }
         }
        },
        {
         "lat": [
          1.31719912
         ],
         "lon": [
          103.8923649
         ],
         "marker": {
          "color": "green",
          "size": 10
         },
         "mode": "markers",
         "selected": {
          "marker": {
           "size": 25
          }
         },
         "text": [
          "PAYA LEBAR MRT STATION"
         ],
         "type": "scattermapbox",
         "uid": "82ef7945-a883-4c97-b3d7-fab2c8f8f8c5",
         "unselected": {
          "marker": {
           "color": "grey",
           "size": 5
          }
         }
        },
        {
         "lat": [
          1.298655224
         ],
         "lon": [
          103.8461942
         ],
         "marker": {
          "color": "red",
          "size": 10
         },
         "mode": "markers",
         "selected": {
          "marker": {
           "size": 25
          }
         },
         "text": [
          "DHOBY GHAUT MRT STATION"
         ],
         "type": "scattermapbox",
         "uid": "03e35a59-7b4e-4d4b-81fe-de9046e9e67d",
         "unselected": {
          "marker": {
           "color": "grey",
           "size": 5
          }
         }
        },
        {
         "lat": [
          1.308547984
         ],
         "lon": [
          103.8890647
         ],
         "marker": {
          "color": "orange",
          "size": 10
         },
         "mode": "markers",
         "selected": {
          "marker": {
           "size": 25
          }
         },
         "text": [
          "DAKOTA MRT STATION"
         ],
         "type": "scattermapbox",
         "uid": "3a484f4c-653c-4978-9bbb-2756cef87b8b",
         "unselected": {
          "marker": {
           "color": "grey",
           "size": 5
          }
         }
        },
        {
         "lat": [
          1.307377817
         ],
         "lon": [
          103.8627676
         ],
         "marker": {
          "color": "purple",
          "size": 10
         },
         "mode": "markers",
         "selected": {
          "marker": {
           "size": 25
          }
         },
         "text": [
          "LAVENDER MRT STATION"
         ],
         "type": "scattermapbox",
         "uid": "712a126e-9ae2-4194-a800-b785d3033baa",
         "unselected": {
          "marker": {
           "color": "grey",
           "size": 5
          }
         }
        },
        {
         "lat": [
          1.38670059
         ],
         "lon": [
          103.8906213
         ],
         "marker": {
          "color": "yellow",
          "size": 10
         },
         "mode": "markers",
         "selected": {
          "marker": {
           "size": 25
          }
         },
         "text": [
          "RENJONG LRT STATION"
         ],
         "type": "scattermapbox",
         "uid": "d2cc3ddf-ab29-4074-8172-85cb14270557",
         "unselected": {
          "marker": {
           "color": "grey",
           "size": 5
          }
         }
        },
        {
         "lat": [
          1.311405293
         ],
         "lon": [
          103.7786378
         ],
         "marker": {
          "color": "blue",
          "size": 10
         },
         "mode": "markers",
         "selected": {
          "marker": {
           "size": 25
          }
         },
         "text": [
          "DOVER MRT STATION"
         ],
         "type": "scattermapbox",
         "uid": "f5f0891d-0554-4e68-9cb4-f1b23bbe0574",
         "unselected": {
          "marker": {
           "color": "grey",
           "size": 5
          }
         }
        },
        {
         "lat": [
          1.371292266
         ],
         "lon": [
          103.8923805
         ],
         "marker": {
          "color": "green",
          "size": 10
         },
         "mode": "markers",
         "selected": {
          "marker": {
           "size": 25
          }
         },
         "text": [
          "HOUGANG MRT STATION"
         ],
         "type": "scattermapbox",
         "uid": "392d4325-f661-43d1-8e73-ac80d2e4795a",
         "unselected": {
          "marker": {
           "color": "grey",
           "size": 5
          }
         }
        },
        {
         "lat": [
          1.378615451
         ],
         "lon": [
          103.7579956
         ],
         "marker": {
          "color": "red",
          "size": 10
         },
         "mode": "markers",
         "selected": {
          "marker": {
           "size": 25
          }
         },
         "text": [
          "PHOENIX LRT STATION"
         ],
         "type": "scattermapbox",
         "uid": "e0379f5a-8a05-4f5f-9080-e25e577ec586",
         "unselected": {
          "marker": {
           "color": "grey",
           "size": 5
          }
         }
        },
        {
         "lat": [
          1.316432612
         ],
         "lon": [
          103.882906
         ],
         "marker": {
          "color": "orange",
          "size": 10
         },
         "mode": "markers",
         "selected": {
          "marker": {
           "size": 25
          }
         },
         "text": [
          "ALJUNIED MRT STATION"
         ],
         "type": "scattermapbox",
         "uid": "9ec232b6-4c6c-45ae-86f5-40d4a654a3db",
         "unselected": {
          "marker": {
           "color": "grey",
           "size": 5
          }
         }
        },
        {
         "lat": [
          1.399281988
         ],
         "lon": [
          103.9059619
         ],
         "marker": {
          "color": "purple",
          "size": 10
         },
         "mode": "markers",
         "selected": {
          "marker": {
           "size": 25
          }
         },
         "text": [
          "COVE LRT STATION"
         ],
         "type": "scattermapbox",
         "uid": "1b382cbb-415b-4f7d-a120-c7dbf6e6401f",
         "unselected": {
          "marker": {
           "color": "grey",
           "size": 5
          }
         }
        },
        {
         "lat": [
          1.37300805
         ],
         "lon": [
          103.9492651
         ],
         "marker": {
          "color": "yellow",
          "size": 10
         },
         "mode": "markers",
         "selected": {
          "marker": {
           "size": 25
          }
         },
         "text": [
          "PASIR RIS MRT STATION"
         ],
         "type": "scattermapbox",
         "uid": "8446d0e7-28f6-4f48-ad16-5877a44db4ee",
         "unselected": {
          "marker": {
           "color": "grey",
           "size": 5
          }
         }
        },
        {
         "lat": [
          1.440588562
         ],
         "lon": [
          103.8009905
         ],
         "marker": {
          "color": "blue",
          "size": 10
         },
         "mode": "markers",
         "selected": {
          "marker": {
           "size": 25
          }
         },
         "text": [
          "ADMIRALTY MRT STATION"
         ],
         "type": "scattermapbox",
         "uid": "00865c7f-e90f-4a43-b839-b174580dd2b4",
         "unselected": {
          "marker": {
           "color": "grey",
           "size": 5
          }
         }
        },
        {
         "lat": [
          1.321038134
         ],
         "lon": [
          103.9129479
         ],
         "marker": {
          "color": "green",
          "size": 10
         },
         "mode": "markers",
         "selected": {
          "marker": {
           "size": 25
          }
         },
         "text": [
          "KEMBANGAN MRT STATION"
         ],
         "type": "scattermapbox",
         "uid": "ba3223de-c28e-4a1b-9761-379753bcb89d",
         "unselected": {
          "marker": {
           "color": "grey",
           "size": 5
          }
         }
        },
        {
         "lat": [
          1.41684852
         ],
         "lon": [
          103.9066508
         ],
         "marker": {
          "color": "red",
          "size": 10
         },
         "mode": "markers",
         "selected": {
          "marker": {
           "size": 25
          }
         },
         "text": [
          "PUNGGOL POINT LRT STATION"
         ],
         "type": "scattermapbox",
         "uid": "8ee8b8ee-155f-4df7-8cc3-08d112ec64b6",
         "unselected": {
          "marker": {
           "color": "grey",
           "size": 5
          }
         }
        },
        {
         "lat": [
          1.432521149
         ],
         "lon": [
          103.7740746
         ],
         "marker": {
          "color": "orange",
          "size": 10
         },
         "mode": "markers",
         "selected": {
          "marker": {
           "size": 25
          }
         },
         "text": [
          "MARSILING MRT STATION"
         ],
         "type": "scattermapbox",
         "uid": "21b39ab7-6876-4e4d-91ef-2131b3ca5590",
         "unselected": {
          "marker": {
           "color": "grey",
           "size": 5
          }
         }
        },
        {
         "lat": [
          1.394493045
         ],
         "lon": [
          103.9004925
         ],
         "marker": {
          "color": "purple",
          "size": 10
         },
         "mode": "markers",
         "selected": {
          "marker": {
           "size": 25
          }
         },
         "text": [
          "COMPASSVALE LRT STATION"
         ],
         "type": "scattermapbox",
         "uid": "480c8b30-2b04-4df7-921c-314124f47895",
         "unselected": {
          "marker": {
           "color": "grey",
           "size": 5
          }
         }
        },
        {
         "lat": [
          1.41738337
         ],
         "lon": [
          103.8329799
         ],
         "marker": {
          "color": "yellow",
          "size": 10
         },
         "mode": "markers",
         "selected": {
          "marker": {
           "size": 25
          }
         },
         "text": [
          "KHATIB MRT STATION"
         ],
         "type": "scattermapbox",
         "uid": "846a3ca4-4f30-4f6c-ba27-1041967d7e8f",
         "unselected": {
          "marker": {
           "color": "grey",
           "size": 5
          }
         }
        },
        {
         "lat": [
          1.392079837
         ],
         "lon": [
          103.8800296
         ],
         "marker": {
          "color": "blue",
          "size": 10
         },
         "mode": "markers",
         "selected": {
          "marker": {
           "size": 25
          }
         },
         "text": [
          "LAYAR LRT STATION"
         ],
         "type": "scattermapbox",
         "uid": "43903ef1-ad44-4921-960d-d3374f3ae260",
         "unselected": {
          "marker": {
           "color": "grey",
           "size": 5
          }
         }
        },
        {
         "lat": [
          1.345633658
         ],
         "lon": [
          103.9384925
         ],
         "marker": {
          "color": "green",
          "size": 10
         },
         "mode": "markers",
         "selected": {
          "marker": {
           "size": 25
          }
         },
         "text": [
          "TAMPINES WEST MRT STATION"
         ],
         "type": "scattermapbox",
         "uid": "f0bbe69c-17ee-4dd3-aec3-229580b5844c",
         "unselected": {
          "marker": {
           "color": "grey",
           "size": 5
          }
         }
        },
        {
         "lat": [
          1.345515306
         ],
         "lon": [
          103.938437
         ],
         "marker": {
          "color": "red",
          "size": 10
         },
         "mode": "markers",
         "selected": {
          "marker": {
           "size": 25
          }
         },
         "text": [
          "TAMPINES MRT STATION"
         ],
         "type": "scattermapbox",
         "uid": "3c8ea215-d5f4-4d2a-a5f5-fa80cce1af1a",
         "unselected": {
          "marker": {
           "color": "grey",
           "size": 5
          }
         }
        },
        {
         "lat": [
          1.356191483
         ],
         "lon": [
          103.9546345
         ],
         "marker": {
          "color": "orange",
          "size": 10
         },
         "mode": "markers",
         "selected": {
          "marker": {
           "size": 25
          }
         },
         "text": [
          "TAMPINES EAST MRT STATION"
         ],
         "type": "scattermapbox",
         "uid": "0034e599-6600-4fd7-a4f6-5e9133ad320d",
         "unselected": {
          "marker": {
           "color": "grey",
           "size": 5
          }
         }
        },
        {
         "lat": [
          1.335145642
         ],
         "lon": [
          103.8883361
         ],
         "marker": {
          "color": "purple",
          "size": 10
         },
         "mode": "markers",
         "selected": {
          "marker": {
           "size": 25
          }
         },
         "text": [
          "TAI SENG MRT STATION"
         ],
         "type": "scattermapbox",
         "uid": "2b6287b8-ea13-423c-92f6-6cbb06596e87",
         "unselected": {
          "marker": {
           "color": "grey",
           "size": 5
          }
         }
        },
        {
         "lat": [
          1.408452419
         ],
         "lon": [
          103.8985585
         ],
         "marker": {
          "color": "yellow",
          "size": 10
         },
         "mode": "markers",
         "selected": {
          "marker": {
           "size": 25
          }
         },
         "text": [
          "SUMANG LRT STATION"
         ],
         "type": "scattermapbox",
         "uid": "983a2aa5-2707-4bcd-9a70-04850b5678b9",
         "unselected": {
          "marker": {
           "color": "grey",
           "size": 5
          }
         }
        },
        {
         "lat": [
          1.320065558
         ],
         "lon": [
          103.8260244
         ],
         "marker": {
          "color": "blue",
          "size": 10
         },
         "mode": "markers",
         "selected": {
          "marker": {
           "size": 25
          }
         },
         "text": [
          "STEVENS MRT STATION"
         ],
         "type": "scattermapbox",
         "uid": "6ee9f71f-e336-4ad4-9fab-ea738eea432a",
         "unselected": {
          "marker": {
           "color": "grey",
           "size": 5
          }
         }
        },
        {
         "lat": [
          1.302812468
         ],
         "lon": [
          103.8753377
         ],
         "marker": {
          "color": "green",
          "size": 10
         },
         "mode": "markers",
         "selected": {
          "marker": {
           "size": 25
          }
         },
         "text": [
          "STADIUM MRT STATION"
         ],
         "type": "scattermapbox",
         "uid": "b3de2f04-7f9f-4866-afcd-74101fc51ab6",
         "unselected": {
          "marker": {
           "color": "grey",
           "size": 5
          }
         }
        },
        {
         "lat": [
          1.330857645
         ],
         "lon": [
          103.7969068
         ],
         "marker": {
          "color": "red",
          "size": 10
         },
         "mode": "markers",
         "selected": {
          "marker": {
           "size": 25
          }
         },
         "text": [
          "SIXTH AVENUE MRT STATION"
         ],
         "type": "scattermapbox",
         "uid": "dbb27a55-07b9-4257-b77b-e18155920d3b",
         "unselected": {
          "marker": {
           "color": "grey",
           "size": 5
          }
         }
        },
        {
         "lat": [
          1.380298287
         ],
         "lon": [
          103.7452918
         ],
         "marker": {
          "color": "orange",
          "size": 10
         },
         "mode": "markers",
         "selected": {
          "marker": {
           "size": 25
          }
         },
         "text": [
          "SOUTH VIEW LRT STATION"
         ],
         "type": "scattermapbox",
         "uid": "f88ab6a3-c0b3-4c3b-8096-eceed16b628b",
         "unselected": {
          "marker": {
           "color": "grey",
           "size": 5
          }
         }
        },
        {
         "lat": [
          1.405323319
         ],
         "lon": [
          103.8972905
         ],
         "marker": {
          "color": "purple",
          "size": 10
         },
         "mode": "markers",
         "selected": {
          "marker": {
           "size": 25
          }
         },
         "text": [
          "SOO TECK LRT STATION"
         ],
         "type": "scattermapbox",
         "uid": "38add574-f2e0-4122-89b8-33fc62a47a58",
         "unselected": {
          "marker": {
           "color": "grey",
           "size": 5
          }
         }
        },
        {
         "lat": [
          1.300264167
         ],
         "lon": [
          103.8390858
         ],
         "marker": {
          "color": "yellow",
          "size": 10
         },
         "mode": "markers",
         "selected": {
          "marker": {
           "size": 25
          }
         },
         "text": [
          "SOMERSET MRT STATION"
         ],
         "type": "scattermapbox",
         "uid": "05672b6c-7e49-4c60-8842-4ca8103c1fcf",
         "unselected": {
          "marker": {
           "color": "grey",
           "size": 5
          }
         }
        },
        {
         "lat": [
          1.343197079
         ],
         "lon": [
          103.9533772
         ],
         "marker": {
          "color": "blue",
          "size": 10
         },
         "mode": "markers",
         "selected": {
          "marker": {
           "size": 25
          }
         },
         "text": [
          "SIMEI MRT STATION"
         ],
         "type": "scattermapbox",
         "uid": "5268eb90-1868-4a57-8de9-98b7b35baaa3",
         "unselected": {
          "marker": {
           "color": "grey",
           "size": 5
          }
         }
        },
        {
         "lat": [
          1.350633615
         ],
         "lon": [
          103.8727717
         ],
         "marker": {
          "color": "green",
          "size": 10
         },
         "mode": "markers",
         "selected": {
          "marker": {
           "size": 25
          }
         },
         "text": [
          "SERANGOON MRT STATION"
         ],
         "type": "scattermapbox",
         "uid": "6b123ead-4404-4c86-b5ec-3c2009f2e4b4",
         "unselected": {
          "marker": {
           "color": "grey",
           "size": 5
          }
         }
        },
        {
         "lat": [
          1.391694626
         ],
         "lon": [
          103.8954847
         ],
         "marker": {
          "color": "red",
          "size": 10
         },
         "mode": "markers",
         "selected": {
          "marker": {
           "size": 25
          }
         },
         "text": [
          "SENGKANG MRT STATION"
         ],
         "type": "scattermapbox",
         "uid": "316c71d0-1df9-4fe0-b862-c5a3fa9c5dd1",
         "unselected": {
          "marker": {
           "color": "grey",
           "size": 5
          }
         }
        },
        {
         "lat": [
          1.340469001
         ],
         "lon": [
          103.8467991
         ],
         "marker": {
          "color": "orange",
          "size": 10
         },
         "mode": "markers",
         "selected": {
          "marker": {
           "size": 25
          }
         },
         "text": [
          "BRADDELL MRT STATION"
         ],
         "type": "scattermapbox",
         "uid": "3067f463-358b-4775-b472-9008c7ad7883",
         "unselected": {
          "marker": {
           "color": "grey",
           "size": 5
          }
         }
        },
        {
         "lat": [
          1.320440791
         ],
         "lon": [
          103.8438256
         ],
         "marker": {
          "color": "purple",
          "size": 10
         },
         "mode": "markers",
         "selected": {
          "marker": {
           "size": 25
          }
         },
         "text": [
          "NOVENA MRT STATION"
         ],
         "type": "scattermapbox",
         "uid": "e8eceb8b-d350-4774-8156-dfe6ea997b25",
         "unselected": {
          "marker": {
           "color": "grey",
           "size": 5
          }
         }
        },
        {
         "lat": [
          1.3131403
         ],
         "lon": [
          103.8547547
         ],
         "marker": {
          "color": "yellow",
          "size": 10
         },
         "mode": "markers",
         "selected": {
          "marker": {
           "size": 25
          }
         },
         "text": [
          "FARRER PARK MRT STATION"
         ],
         "type": "scattermapbox",
         "uid": "b3ea6780-a19c-4a47-b709-8cae5edd7b80",
         "unselected": {
          "marker": {
           "color": "grey",
           "size": 5
          }
         }
        },
        {
         "lat": [
          1.320401487
         ],
         "lon": [
          103.9571838
         ],
         "marker": {
          "color": "blue",
          "size": 10
         },
         "mode": "markers",
         "selected": {
          "marker": {
           "size": 25
          }
         },
         "text": [
          "BEDOK MRT STATION"
         ],
         "type": "scattermapbox",
         "uid": "e580305d-b6df-4e0a-96a0-14ff29c7ede2",
         "unselected": {
          "marker": {
           "color": "grey",
           "size": 5
          }
         }
        },
        {
         "lat": [
          1.289634534
         ],
         "lon": [
          103.816741
         ],
         "marker": {
          "color": "green",
          "size": 10
         },
         "mode": "markers",
         "selected": {
          "marker": {
           "size": 25
          }
         },
         "text": [
          "REDHILL MRT STATION"
         ],
         "type": "scattermapbox",
         "uid": "27100357-3d71-4f0e-8076-39b8aa32ed41",
         "unselected": {
          "marker": {
           "color": "grey",
           "size": 5
          }
         }
        },
        {
         "lat": [
          1.357478974
         ],
         "lon": [
          103.9878836
         ],
         "marker": {
          "color": "red",
          "size": 10
         },
         "mode": "markers",
         "selected": {
          "marker": {
           "size": 25
          }
         },
         "text": [
          "CHANGI AIRPORT MRT STATION"
         ],
         "type": "scattermapbox",
         "uid": "1dc67bc0-693a-454c-9ddc-687ba207a1cb",
         "unselected": {
          "marker": {
           "color": "grey",
           "size": 5
          }
         }
        },
        {
         "lat": [
          1.393909229
         ],
         "lon": [
          103.9125808
         ],
         "marker": {
          "color": "orange",
          "size": 10
         },
         "mode": "markers",
         "selected": {
          "marker": {
           "size": 25
          }
         },
         "text": [
          "CORAL EDGE LRT STATION"
         ],
         "type": "scattermapbox",
         "uid": "d1008b9c-5eb4-45e7-9647-6a097b7bf889",
         "unselected": {
          "marker": {
           "color": "grey",
           "size": 5
          }
         }
        },
        {
         "lat": [
          1.315116253
         ],
         "lon": [
          103.7651915
         ],
         "marker": {
          "color": "purple",
          "size": 10
         },
         "mode": "markers",
         "selected": {
          "marker": {
           "size": 25
          }
         },
         "text": [
          "CLEMENTI MRT STATION"
         ],
         "type": "scattermapbox",
         "uid": "0a3453f3-a975-4b40-b520-4db4c406953a",
         "unselected": {
          "marker": {
           "color": "grey",
           "size": 5
          }
         }
        },
        {
         "lat": [
          1.349033312
         ],
         "lon": [
          103.7495665
         ],
         "marker": {
          "color": "yellow",
          "size": 10
         },
         "mode": "markers",
         "selected": {
          "marker": {
           "size": 25
          }
         },
         "text": [
          "BUKIT BATOK MRT STATION"
         ],
         "type": "scattermapbox",
         "uid": "49a0f9b2-9dab-4dde-9d28-18a642cb6df3",
         "unselected": {
          "marker": {
           "color": "grey",
           "size": 5
          }
         }
        },
        {
         "lat": [
          1.40228668
         ],
         "lon": [
          103.9127274
         ],
         "marker": {
          "color": "blue",
          "size": 10
         },
         "mode": "markers",
         "selected": {
          "marker": {
           "size": 25
          }
         },
         "text": [
          "OASIS LRT STATION"
         ],
         "type": "scattermapbox",
         "uid": "04965133-a7af-4753-bbd2-ce3d82e02163",
         "unselected": {
          "marker": {
           "color": "grey",
           "size": 5
          }
         }
        },
        {
         "lat": [
          1.411854477
         ],
         "lon": [
          103.9003395
         ],
         "marker": {
          "color": "green",
          "size": 10
         },
         "mode": "markers",
         "selected": {
          "marker": {
           "size": 25
          }
         },
         "text": [
          "NIBONG LRT STATION"
         ],
         "type": "scattermapbox",
         "uid": "9545f23c-2a33-477a-99c8-b60eb33cae2c",
         "unselected": {
          "marker": {
           "color": "grey",
           "size": 5
          }
         }
        },
        {
         "lat": [
          1.39691205
         ],
         "lon": [
          103.9089502
         ],
         "marker": {
          "color": "red",
          "size": 10
         },
         "mode": "markers",
         "selected": {
          "marker": {
           "size": 25
          }
         },
         "text": [
          "MERIDIAN LRT STATION"
         ],
         "type": "scattermapbox",
         "uid": "20514763-ebf5-46ea-ad9a-184762c7d892",
         "unselected": {
          "marker": {
           "color": "grey",
           "size": 5
          }
         }
        },
        {
         "lat": [
          1.358611591
         ],
         "lon": [
          103.7517909
         ],
         "marker": {
          "color": "orange",
          "size": 10
         },
         "mode": "markers",
         "selected": {
          "marker": {
           "size": 25
          }
         },
         "text": [
          "BUKIT GOMBAK MRT STATION"
         ],
         "type": "scattermapbox",
         "uid": "3c0a1d9c-f7f1-4926-9489-bbf598894a58",
         "unselected": {
          "marker": {
           "color": "grey",
           "size": 5
          }
         }
        },
        {
         "lat": [
          1.319783549
         ],
         "lon": [
          103.9032258
         ],
         "marker": {
          "color": "purple",
          "size": 10
         },
         "mode": "markers",
         "selected": {
          "marker": {
           "size": 25
          }
         },
         "text": [
          "EUNOS MRT STATION"
         ],
         "type": "scattermapbox",
         "uid": "94f52042-1690-420c-86c8-db542067ce78",
         "unselected": {
          "marker": {
           "color": "grey",
           "size": 5
          }
         }
        },
        {
         "lat": [
          1.342244948
         ],
         "lon": [
          103.7327666
         ],
         "marker": {
          "color": "yellow",
          "size": 10
         },
         "mode": "markers",
         "selected": {
          "marker": {
           "size": 25
          }
         },
         "text": [
          "CHINESE GARDEN MRT STATION"
         ],
         "type": "scattermapbox",
         "uid": "cbd9febe-45b2-451b-9caf-0bdc5355fa86",
         "unselected": {
          "marker": {
           "color": "grey",
           "size": 5
          }
         }
        },
        {
         "lat": [
          1.399509106
         ],
         "lon": [
          103.916575
         ],
         "marker": {
          "color": "blue",
          "size": 10
         },
         "mode": "markers",
         "selected": {
          "marker": {
           "size": 25
          }
         },
         "text": [
          "KADALOOR LRT STATION"
         ],
         "type": "scattermapbox",
         "uid": "bf939c08-ee2e-4efe-a48d-31175789c471",
         "unselected": {
          "marker": {
           "color": "grey",
           "size": 5
          }
         }
        },
        {
         "lat": [
          1.396277633
         ],
         "lon": [
          103.8937972
         ],
         "marker": {
          "color": "green",
          "size": 10
         },
         "mode": "markers",
         "selected": {
          "marker": {
           "size": 25
          }
         },
         "text": [
          "CHENG LIM LRT STATION"
         ],
         "type": "scattermapbox",
         "uid": "fb14b0e0-4399-4410-9814-215d37008045",
         "unselected": {
          "marker": {
           "color": "grey",
           "size": 5
          }
         }
        },
        {
         "lat": [
          1.409612685
         ],
         "lon": [
          103.9048316
         ],
         "marker": {
          "color": "red",
          "size": 10
         },
         "mode": "markers",
         "selected": {
          "marker": {
           "size": 25
          }
         },
         "text": [
          "SAM KEE LRT STATION"
         ],
         "type": "scattermapbox",
         "uid": "f382535e-14dd-452e-9d5f-6fd62c37d69b",
         "unselected": {
          "marker": {
           "color": "grey",
           "size": 5
          }
         }
        },
        {
         "lat": [
          1.425086981
         ],
         "lon": [
          103.7621375
         ],
         "marker": {
          "color": "orange",
          "size": 10
         },
         "mode": "markers",
         "selected": {
          "marker": {
           "size": 25
          }
         },
         "text": [
          "KRANJI MRT STATION"
         ],
         "type": "scattermapbox",
         "uid": "76fa8ff6-13b9-4ab1-b215-afe918a270a8",
         "unselected": {
          "marker": {
           "color": "grey",
           "size": 5
          }
         }
        },
        {
         "lat": [
          1.369428557
         ],
         "lon": [
          103.8494552
         ],
         "marker": {
          "color": "purple",
          "size": 10
         },
         "mode": "markers",
         "selected": {
          "marker": {
           "size": 25
          }
         },
         "text": [
          "ANG MO KIO MRT STATION"
         ],
         "type": "scattermapbox",
         "uid": "3473306c-5ab5-4ab3-89a3-bca0bd79f5dc",
         "unselected": {
          "marker": {
           "color": "grey",
           "size": 5
          }
         }
        },
        {
         "lat": [
          1.394519785
         ],
         "lon": [
          103.9161694
         ],
         "marker": {
          "color": "yellow",
          "size": 10
         },
         "mode": "markers",
         "selected": {
          "marker": {
           "size": 25
          }
         },
         "text": [
          "RIVIERA LRT STATION"
         ],
         "type": "scattermapbox",
         "uid": "4ff4b47c-68c6-48e5-8bbc-83912e2623f3",
         "unselected": {
          "marker": {
           "color": "grey",
           "size": 5
          }
         }
        },
        {
         "lat": [
          1.38002223
         ],
         "lon": [
          103.7726474
         ],
         "marker": {
          "color": "blue",
          "size": 10
         },
         "mode": "markers",
         "selected": {
          "marker": {
           "size": 25
          }
         },
         "text": [
          "BANGKIT LRT STATION"
         ],
         "type": "scattermapbox",
         "uid": "7e4ddf25-1b8c-4423-980b-033b009d8661",
         "unselected": {
          "marker": {
           "color": "grey",
           "size": 5
          }
         }
        },
        {
         "lat": [
          1.276213522
         ],
         "lon": [
          103.7913503
         ],
         "marker": {
          "color": "green",
          "size": 10
         },
         "mode": "markers",
         "selected": {
          "marker": {
           "size": 25
          }
         },
         "text": [
          "PASIR PANJANG MRT STATION"
         ],
         "type": "scattermapbox",
         "uid": "7046f86c-6276-4006-92e2-779c13f1fdd0",
         "unselected": {
          "marker": {
           "color": "grey",
           "size": 5
          }
         }
        },
        {
         "lat": [
          1.312240296
         ],
         "lon": [
          103.7963991
         ],
         "marker": {
          "color": "red",
          "size": 10
         },
         "mode": "markers",
         "selected": {
          "marker": {
           "size": 25
          }
         },
         "text": [
          "HOLLAND VILLAGE MRT STATION"
         ],
         "type": "scattermapbox",
         "uid": "7f742b8b-9c85-4d57-a1bb-3b8d1451f3b3",
         "unselected": {
          "marker": {
           "color": "grey",
           "size": 5
          }
         }
        },
        {
         "lat": [
          1.272227051
         ],
         "lon": [
          103.8027445
         ],
         "marker": {
          "color": "orange",
          "size": 10
         },
         "mode": "markers",
         "selected": {
          "marker": {
           "size": 25
          }
         },
         "text": [
          "LABRADOR PARK MRT STATION"
         ],
         "type": "scattermapbox",
         "uid": "d1cb2244-1298-4c2c-8192-208f4fcf0564",
         "unselected": {
          "marker": {
           "color": "grey",
           "size": 5
          }
         }
        },
        {
         "lat": [
          1.322113736
         ],
         "lon": [
          103.8149845
         ],
         "marker": {
          "color": "purple",
          "size": 10
         },
         "mode": "markers",
         "selected": {
          "marker": {
           "size": 25
          }
         },
         "text": [
          "BOTANIC GARDENS MRT STATION"
         ],
         "type": "scattermapbox",
         "uid": "ff05119c-11e1-4e91-a026-66d2c051021f",
         "unselected": {
          "marker": {
           "color": "grey",
           "size": 5
          }
         }
        },
        {
         "lat": [
          1.299689535
         ],
         "lon": [
          103.7874128
         ],
         "marker": {
          "color": "yellow",
          "size": 10
         },
         "mode": "markers",
         "selected": {
          "marker": {
           "size": 25
          }
         },
         "text": [
          "ONE-NORTH MRT STATION"
         ],
         "type": "scattermapbox",
         "uid": "23505204-dcdb-4efd-829c-8244f26175aa",
         "unselected": {
          "marker": {
           "color": "grey",
           "size": 5
          }
         }
        },
        {
         "lat": [
          1.293536986
         ],
         "lon": [
          103.7845724
         ],
         "marker": {
          "color": "blue",
          "size": 10
         },
         "mode": "markers",
         "selected": {
          "marker": {
           "size": 25
          }
         },
         "text": [
          "KENT RIDGE MRT STATION"
         ],
         "type": "scattermapbox",
         "uid": "33df3fbb-2d72-477a-92d0-6f9e5bc1359c",
         "unselected": {
          "marker": {
           "color": "grey",
           "size": 5
          }
         }
        },
        {
         "lat": [
          1.281956887
         ],
         "lon": [
          103.781989
         ],
         "marker": {
          "color": "green",
          "size": 10
         },
         "mode": "markers",
         "selected": {
          "marker": {
           "size": 25
          }
         },
         "text": [
          "HAW PAR VILLA MRT STATION"
         ],
         "type": "scattermapbox",
         "uid": "1eb7d65b-b4af-4d6d-8faa-e1711e6e893f",
         "unselected": {
          "marker": {
           "color": "grey",
           "size": 5
          }
         }
        },
        {
         "lat": [
          1.276311144
         ],
         "lon": [
          103.854605
         ],
         "marker": {
          "color": "red",
          "size": 10
         },
         "mode": "markers",
         "selected": {
          "marker": {
           "size": 25
          }
         },
         "text": [
          "MARINA BAY MRT STATION"
         ],
         "type": "scattermapbox",
         "uid": "f4355570-d6b7-4700-8728-f3c4e6a204c7",
         "unselected": {
          "marker": {
           "color": "grey",
           "size": 5
          }
         }
        },
        {
         "lat": [
          1.335661613
         ],
         "lon": [
          103.7833991
         ],
         "marker": {
          "color": "orange",
          "size": 10
         },
         "mode": "markers",
         "selected": {
          "marker": {
           "size": 25
          }
         },
         "text": [
          "KING ALBERT PARK MRT STATION"
         ],
         "type": "scattermapbox",
         "uid": "2f6e1f20-4d1b-431c-8902-a129b3f532e2",
         "unselected": {
          "marker": {
           "color": "grey",
           "size": 5
          }
         }
        },
        {
         "lat": [
          1.306800197
         ],
         "lon": [
          103.8496471
         ],
         "marker": {
          "color": "purple",
          "size": 10
         },
         "mode": "markers",
         "selected": {
          "marker": {
           "size": 25
          }
         },
         "text": [
          "LITTLE INDIA MRT STATION"
         ],
         "type": "scattermapbox",
         "uid": "e6340904-82d4-45eb-8790-14e17d89f3ff",
         "unselected": {
          "marker": {
           "color": "grey",
           "size": 5
          }
         }
        },
        {
         "lat": [
          1.303852185
         ],
         "lon": [
          103.8527694
         ],
         "marker": {
          "color": "yellow",
          "size": 10
         },
         "mode": "markers",
         "selected": {
          "marker": {
           "size": 25
          }
         },
         "text": [
          "ROCHOR MRT STATION"
         ],
         "type": "scattermapbox",
         "uid": "ea79d9bd-c493-420a-add4-028d6f1f7d03",
         "unselected": {
          "marker": {
           "color": "grey",
           "size": 5
          }
         }
        },
        {
         "lat": [
          1.382725471
         ],
         "lon": [
          103.7623443
         ],
         "marker": {
          "color": "blue",
          "size": 10
         },
         "mode": "markers",
         "selected": {
          "marker": {
           "size": 25
          }
         },
         "text": [
          "SENJA LRT STATION"
         ],
         "type": "scattermapbox",
         "uid": "433332ad-919b-4aac-82de-1073fe6d1a61",
         "unselected": {
          "marker": {
           "color": "grey",
           "size": 5
          }
         }
        },
        {
         "lat": [
          1.306201905
         ],
         "lon": [
          103.8825281
         ],
         "marker": {
          "color": "green",
          "size": 10
         },
         "mode": "markers",
         "selected": {
          "marker": {
           "size": 25
          }
         },
         "text": [
          "MOUNTBATTEN MRT STATION"
         ],
         "type": "scattermapbox",
         "uid": "35889dd4-d92f-4080-bafd-4566659423ec",
         "unselected": {
          "marker": {
           "color": "grey",
           "size": 5
          }
         }
        },
        {
         "lat": [
          1.385363165
         ],
         "lon": [
          103.7443708
         ],
         "marker": {
          "color": "red",
          "size": 10
         },
         "mode": "markers",
         "selected": {
          "marker": {
           "size": 25
          }
         },
         "text": [
          "CHOA CHU KANG MRT STATION"
         ],
         "type": "scattermapbox",
         "uid": "7f353bd7-f4b5-42c7-91f7-c34c9c63f7d2",
         "unselected": {
          "marker": {
           "color": "grey",
           "size": 5
          }
         }
        },
        {
         "lat": [
          1.319939577
         ],
         "lon": [
          103.8620527
         ],
         "marker": {
          "color": "orange",
          "size": 10
         },
         "mode": "markers",
         "selected": {
          "marker": {
           "size": 25
          }
         },
         "text": [
          "BOON KENG MRT STATION"
         ],
         "type": "scattermapbox",
         "uid": "9634dfc4-4002-4c3e-9750-1e9e336700f7",
         "unselected": {
          "marker": {
           "color": "grey",
           "size": 5
          }
         }
        },
        {
         "lat": [
          1.342501178
         ],
         "lon": [
          103.8801779
         ],
         "marker": {
          "color": "purple",
          "size": 10
         },
         "mode": "markers",
         "selected": {
          "marker": {
           "size": 25
          }
         },
         "text": [
          "BARTLEY MRT STATION"
         ],
         "type": "scattermapbox",
         "uid": "eb1be2d0-b8c6-404a-8b73-175e6479ef67",
         "unselected": {
          "marker": {
           "color": "grey",
           "size": 5
          }
         }
        },
        {
         "lat": [
          1.387785087
         ],
         "lon": [
          103.7695997
         ],
         "marker": {
          "color": "yellow",
          "size": 10
         },
         "mode": "markers",
         "selected": {
          "marker": {
           "size": 25
          }
         },
         "text": [
          "SEGAR LRT STATION"
         ],
         "type": "scattermapbox",
         "uid": "a24369e2-56fd-485b-8016-ec97b8343927",
         "unselected": {
          "marker": {
           "color": "grey",
           "size": 5
          }
         }
        },
        {
         "lat": [
          1.362344868
         ],
         "lon": [
          103.7674183
         ],
         "marker": {
          "color": "blue",
          "size": 10
         },
         "mode": "markers",
         "selected": {
          "marker": {
           "size": 25
          }
         },
         "text": [
          "HILLVIEW MRT STATION"
         ],
         "type": "scattermapbox",
         "uid": "c9c0eda5-76c1-43c5-88dc-dc073226e691",
         "unselected": {
          "marker": {
           "color": "grey",
           "size": 5
          }
         }
        },
        {
         "lat": [
          1.34090149
         ],
         "lon": [
          103.7757467
         ],
         "marker": {
          "color": "green",
          "size": 10
         },
         "mode": "markers",
         "selected": {
          "marker": {
           "size": 25
          }
         },
         "text": [
          "BEAUTY WORLD MRT STATION"
         ],
         "type": "scattermapbox",
         "uid": "e7ae5863-b1b8-4410-880b-485ad36fc4af",
         "unselected": {
          "marker": {
           "color": "grey",
           "size": 5
          }
         }
        },
        {
         "lat": [
          1.379561212
         ],
         "lon": [
          103.7611889
         ],
         "marker": {
          "color": "red",
          "size": 10
         },
         "mode": "markers",
         "selected": {
          "marker": {
           "size": 25
          }
         },
         "text": [
          "BUKIT PANJANG MRT STATION"
         ],
         "type": "scattermapbox",
         "uid": "e9cb6a8c-ee99-49fe-a16a-963e3d71aa53",
         "unselected": {
          "marker": {
           "color": "grey",
           "size": 5
          }
         }
        },
        {
         "lat": [
          1.369815449
         ],
         "lon": [
          103.7644392
         ],
         "marker": {
          "color": "orange",
          "size": 10
         },
         "mode": "markers",
         "selected": {
          "marker": {
           "size": 25
          }
         },
         "text": [
          "CASHEW MRT STATION"
         ],
         "type": "scattermapbox",
         "uid": "0f16c870-f9b3-4ffa-9a41-e9aefc2aa06d",
         "unselected": {
          "marker": {
           "color": "grey",
           "size": 5
          }
         }
        },
        {
         "lat": [
          1.327694365
         ],
         "lon": [
          103.6780851
         ],
         "marker": {
          "color": "purple",
          "size": 10
         },
         "mode": "markers",
         "selected": {
          "marker": {
           "size": 25
          }
         },
         "text": [
          "JOO KOON MRT STATION"
         ],
         "type": "scattermapbox",
         "uid": "1aea246e-2615-43cc-ad2b-9f7258407019",
         "unselected": {
          "marker": {
           "color": "grey",
           "size": 5
          }
         }
        },
        {
         "lat": [
          1.397297711
         ],
         "lon": [
          103.7473577
         ],
         "marker": {
          "color": "yellow",
          "size": 10
         },
         "mode": "markers",
         "selected": {
          "marker": {
           "size": 25
          }
         },
         "text": [
          "YEW TEE MRT STATION"
         ],
         "type": "scattermapbox",
         "uid": "21dc53d3-209b-401e-8ac0-6c277589e9a1",
         "unselected": {
          "marker": {
           "color": "grey",
           "size": 5
          }
         }
        },
        {
         "lat": [
          1.429443085
         ],
         "lon": [
          103.835005
         ],
         "marker": {
          "color": "blue",
          "size": 10
         },
         "mode": "markers",
         "selected": {
          "marker": {
           "size": 25
          }
         },
         "text": [
          "YISHUN MRT STATION"
         ],
         "type": "scattermapbox",
         "uid": "4fbe9d0c-674c-4fa4-bce4-f4b0df4aff63",
         "unselected": {
          "marker": {
           "color": "grey",
           "size": 5
          }
         }
        },
        {
         "lat": [
          1.381498825
         ],
         "lon": [
          103.8451707
         ],
         "marker": {
          "color": "green",
          "size": 10
         },
         "mode": "markers",
         "selected": {
          "marker": {
           "size": 25
          }
         },
         "text": [
          "YIO CHU KANG MRT STATION"
         ],
         "type": "scattermapbox",
         "uid": "3b76f9cf-1af2-4f74-83fd-cc5103f20027",
         "unselected": {
          "marker": {
           "color": "grey",
           "size": 5
          }
         }
        },
        {
         "lat": [
          1.339190045
         ],
         "lon": [
          103.8708183
         ],
         "marker": {
          "color": "red",
          "size": 10
         },
         "mode": "markers",
         "selected": {
          "marker": {
           "size": 25
          }
         },
         "text": [
          "WOODLEIGH MRT STATION"
         ],
         "type": "scattermapbox",
         "uid": "e1f2af9d-886b-4eb3-b967-67e5070b7de3",
         "unselected": {
          "marker": {
           "color": "grey",
           "size": 5
          }
         }
        },
        {
         "lat": [
          1.436057617
         ],
         "lon": [
          103.7879388
         ],
         "marker": {
          "color": "orange",
          "size": 10
         },
         "mode": "markers",
         "selected": {
          "marker": {
           "size": 25
          }
         },
         "text": [
          "WOODLANDS MRT STATION"
         ],
         "type": "scattermapbox",
         "uid": "4bde450d-e9a1-4f7d-93cb-11291a5ed24c",
         "unselected": {
          "marker": {
           "color": "grey",
           "size": 5
          }
         }
        },
        {
         "lat": [
          1.341739774
         ],
         "lon": [
          103.9614728
         ],
         "marker": {
          "color": "purple",
          "size": 10
         },
         "mode": "markers",
         "selected": {
          "marker": {
           "size": 25
          }
         },
         "text": [
          "UPPER CHANGI MRT STATION"
         ],
         "type": "scattermapbox",
         "uid": "004397ba-f8bc-409d-9dfd-7364ca5a51f5",
         "unselected": {
          "marker": {
           "color": "grey",
           "size": 5
          }
         }
        },
        {
         "lat": [
          1.282068948
         ],
         "lon": [
          103.8486488
         ],
         "marker": {
          "color": "yellow",
          "size": 10
         },
         "mode": "markers",
         "selected": {
          "marker": {
           "size": 25
          }
         },
         "text": [
          "TELOK AYER MRT STATION"
         ],
         "type": "scattermapbox",
         "uid": "d77e3ac2-d187-417b-b914-a40a3baf01d7",
         "unselected": {
          "marker": {
           "color": "grey",
           "size": 5
          }
         }
        },
        {
         "lat": [
          1.389347947
         ],
         "lon": [
          103.8858442
         ],
         "marker": {
          "color": "blue",
          "size": 10
         },
         "mode": "markers",
         "selected": {
          "marker": {
           "size": 25
          }
         },
         "text": [
          "TONGKANG LRT STATION"
         ],
         "type": "scattermapbox",
         "uid": "2d114887-0b14-472b-b4ed-c816dcf51311",
         "unselected": {
          "marker": {
           "color": "grey",
           "size": 5
          }
         }
        },
        {
         "lat": [
          1.32997426
         ],
         "lon": [
          103.8992267
         ],
         "marker": {
          "color": "green",
          "size": 10
         },
         "mode": "markers",
         "selected": {
          "marker": {
           "size": 25
          }
         },
         "text": [
          "UBI MRT STATION"
         ],
         "type": "scattermapbox",
         "uid": "1f1958df-743f-4919-95b6-5c2fc5fcf66c",
         "unselected": {
          "marker": {
           "color": "grey",
           "size": 5
          }
         }
        },
        {
         "lat": [
          1.332596728
         ],
         "lon": [
          103.8475773
         ],
         "marker": {
          "color": "red",
          "size": 10
         },
         "mode": "markers",
         "selected": {
          "marker": {
           "size": 25
          }
         },
         "text": [
          "TOA PAYOH MRT STATION"
         ],
         "type": "scattermapbox",
         "uid": "92d710a4-6baa-4c7d-86f9-c04c72c0c578",
         "unselected": {
          "marker": {
           "color": "grey",
           "size": 5
          }
         }
        },
        {
         "lat": [
          1.286102536
         ],
         "lon": [
          103.8274451
         ],
         "marker": {
          "color": "orange",
          "size": 10
         },
         "mode": "markers",
         "selected": {
          "marker": {
           "size": 25
          }
         },
         "text": [
          "TIONG BAHRU MRT STATION"
         ],
         "type": "scattermapbox",
         "uid": "aa963fa7-0b8c-4986-b275-5692b3e63e43",
         "unselected": {
          "marker": {
           "color": "grey",
           "size": 5
          }
         }
        },
        {
         "lat": [
          1.397318156
         ],
         "lon": [
          103.8756352
         ],
         "marker": {
          "color": "purple",
          "size": 10
         },
         "mode": "markers",
         "selected": {
          "marker": {
           "size": 25
          }
         },
         "text": [
          "THANGGAM LRT STATION"
         ],
         "type": "scattermapbox",
         "uid": "b7ff8049-bf79-4771-83bb-16ae197e9c45",
         "unselected": {
          "marker": {
           "color": "grey",
           "size": 5
          }
         }
        },
        {
         "lat": [
          1.293997986
         ],
         "lon": [
          103.86035
         ],
         "marker": {
          "color": "yellow",
          "size": 10
         },
         "mode": "markers",
         "selected": {
          "marker": {
           "size": 25
          }
         },
         "text": [
          "PROMENADE MRT STATION"
         ],
         "type": "scattermapbox",
         "uid": "8449bdff-81c3-4931-a0b9-878587673530",
         "unselected": {
          "marker": {
           "color": "grey",
           "size": 5
          }
         }
        },
        {
         "lat": [
          1.296861686
         ],
         "lon": [
          103.8506674
         ],
         "marker": {
          "color": "blue",
          "size": 10
         },
         "mode": "markers",
         "selected": {
          "marker": {
           "size": 25
          }
         },
         "text": [
          "BRAS BASAH MRT STATION"
         ],
         "type": "scattermapbox",
         "uid": "6a093515-f26e-4272-90b2-27443a7de1d7",
         "unselected": {
          "marker": {
           "color": "grey",
           "size": 5
          }
         }
        },
        {
         "lat": [
          1.29956843
         ],
         "lon": [
          103.8639777
         ],
         "marker": {
          "color": "green",
          "size": 10
         },
         "mode": "markers",
         "selected": {
          "marker": {
           "size": 25
          }
         },
         "text": [
          "NICOLL HIGHWAY MRT STATION"
         ],
         "type": "scattermapbox",
         "uid": "2032d493-9b4a-404a-a737-d5260e4f9f38",
         "unselected": {
          "marker": {
           "color": "grey",
           "size": 5
          }
         }
        },
        {
         "lat": [
          1.331879714
         ],
         "lon": [
          103.8690579
         ],
         "marker": {
          "color": "red",
          "size": 10
         },
         "mode": "markers",
         "selected": {
          "marker": {
           "size": 25
          }
         },
         "text": [
          "POTONG PASIR MRT STATION"
         ],
         "type": "scattermapbox",
         "uid": "662157bb-b74c-42a5-8073-51b0b2415702",
         "unselected": {
          "marker": {
           "color": "grey",
           "size": 5
          }
         }
        },
        {
         "lat": [
          1.344259115
         ],
         "lon": [
          103.7209491
         ],
         "marker": {
          "color": "orange",
          "size": 10
         },
         "mode": "markers",
         "selected": {
          "marker": {
           "size": 25
          }
         },
         "text": [
          "LAKESIDE MRT STATION"
         ],
         "type": "scattermapbox",
         "uid": "c0d331dc-a141-4e5b-ba1c-00cd2ff21854",
         "unselected": {
          "marker": {
           "color": "grey",
           "size": 5
          }
         }
        },
        {
         "lat": [
          1.415901722
         ],
         "lon": [
          103.9021563
         ],
         "marker": {
          "color": "purple",
          "size": 10
         },
         "mode": "markers",
         "selected": {
          "marker": {
           "size": 25
          }
         },
         "text": [
          "SAMUDERA LRT STATION"
         ],
         "type": "scattermapbox",
         "uid": "f3240b1c-627a-48bf-ac76-9001c260a88c",
         "unselected": {
          "marker": {
           "color": "grey",
           "size": 5
          }
         }
        },
        {
         "lat": [
          1.384233559
         ],
         "lon": [
          103.8971947
         ],
         "marker": {
          "color": "yellow",
          "size": 10
         },
         "mode": "markers",
         "selected": {
          "marker": {
           "size": 25
          }
         },
         "text": [
          "RANGGUNG LRT STATION"
         ],
         "type": "scattermapbox",
         "uid": "d0e6530b-74ff-4227-b52a-43b28c669f75",
         "unselected": {
          "marker": {
           "color": "grey",
           "size": 5
          }
         }
        },
        {
         "lat": [
          1.449050822
         ],
         "lon": [
          103.8200461
         ],
         "marker": {
          "color": "blue",
          "size": 10
         },
         "mode": "markers",
         "selected": {
          "marker": {
           "size": 25
          }
         },
         "text": [
          "SEMBAWANG MRT STATION"
         ],
         "type": "scattermapbox",
         "uid": "a753f6b2-9a7b-4e6c-8d83-26b5bf1974ba",
         "unselected": {
          "marker": {
           "color": "grey",
           "size": 5
          }
         }
        },
        {
         "lat": [
          1.405194701
         ],
         "lon": [
          103.9024119
         ],
         "marker": {
          "color": "green",
          "size": 10
         },
         "mode": "markers",
         "selected": {
          "marker": {
           "size": 25
          }
         },
         "text": [
          "PUNGGOL LRT STATION"
         ],
         "type": "scattermapbox",
         "uid": "b2ca6a9f-f89d-449d-83cd-93d281d188c5",
         "unselected": {
          "marker": {
           "color": "grey",
           "size": 5
          }
         }
        },
        {
         "lat": [
          1.383959117
         ],
         "lon": [
          103.9022254
         ],
         "marker": {
          "color": "red",
          "size": 10
         },
         "mode": "markers",
         "selected": {
          "marker": {
           "size": 25
          }
         },
         "text": [
          "KANGKAR LRT STATION"
         ],
         "type": "scattermapbox",
         "uid": "d9abbca6-1308-4198-9d4e-97493d10e678",
         "unselected": {
          "marker": {
           "color": "grey",
           "size": 5
          }
         }
        },
        {
         "lat": [
          1.337587011
         ],
         "lon": [
          103.6973216
         ],
         "marker": {
          "color": "orange",
          "size": 10
         },
         "mode": "markers",
         "selected": {
          "marker": {
           "size": 25
          }
         },
         "text": [
          "PIONEER MRT STATION"
         ],
         "type": "scattermapbox",
         "uid": "66e5a708-b47f-4d9a-ba00-d59d02279e93",
         "unselected": {
          "marker": {
           "color": "grey",
           "size": 5
          }
         }
        },
        {
         "lat": [
          1.300465085
         ],
         "lon": [
          103.8557067
         ],
         "marker": {
          "color": "purple",
          "size": 10
         },
         "mode": "markers",
         "selected": {
          "marker": {
           "size": 25
          }
         },
         "text": [
          "BUGIS MRT STATION"
         ],
         "type": "scattermapbox",
         "uid": "debb55f1-fd96-4cfe-8c8a-c4d3a38589e6",
         "unselected": {
          "marker": {
           "color": "grey",
           "size": 5
          }
         }
        },
        {
         "lat": [
          1.312318922
         ],
         "lon": [
          103.8379846
         ],
         "marker": {
          "color": "yellow",
          "size": 10
         },
         "mode": "markers",
         "selected": {
          "marker": {
           "size": 25
          }
         },
         "text": [
          "NEWTON MRT STATION"
         ],
         "type": "scattermapbox",
         "uid": "25149deb-b330-40a5-b975-22fbcdc304bb",
         "unselected": {
          "marker": {
           "color": "grey",
           "size": 5
          }
         }
        },
        {
         "lat": [
          1.307223708
         ],
         "lon": [
          103.7902535
         ],
         "marker": {
          "color": "blue",
          "size": 10
         },
         "mode": "markers",
         "selected": {
          "marker": {
           "size": 25
          }
         },
         "text": [
          "BUONA VISTA MRT STATION"
         ],
         "type": "scattermapbox",
         "uid": "21224d6b-18b2-4a66-8647-b425ade8c67a",
         "unselected": {
          "marker": {
           "color": "grey",
           "size": 5
          }
         }
        },
        {
         "lat": [
          1.279739707
         ],
         "lon": [
          103.8395135
         ],
         "marker": {
          "color": "green",
          "size": 10
         },
         "mode": "markers",
         "selected": {
          "marker": {
           "size": 25
          }
         },
         "text": [
          "OUTRAM PARK MRT STATION"
         ],
         "type": "scattermapbox",
         "uid": "9b013330-b9cb-42e8-a25e-1e58266753d3",
         "unselected": {
          "marker": {
           "color": "grey",
           "size": 5
          }
         }
        },
        {
         "lat": [
          1.284223919
         ],
         "lon": [
          103.8451438
         ],
         "marker": {
          "color": "red",
          "size": 10
         },
         "mode": "markers",
         "selected": {
          "marker": {
           "size": 25
          }
         },
         "text": [
          "CHINATOWN MRT STATION"
         ],
         "type": "scattermapbox",
         "uid": "8e0cf825-b6e3-4469-a573-ab2e57b3187f",
         "unselected": {
          "marker": {
           "color": "grey",
           "size": 5
          }
         }
        },
        {
         "lat": [
          1.335382526
         ],
         "lon": [
          103.9623747
         ],
         "marker": {
          "color": "orange",
          "size": 10
         },
         "mode": "markers",
         "selected": {
          "marker": {
           "size": 25
          }
         },
         "text": [
          "EXPO MRT STATION"
         ],
         "type": "scattermapbox",
         "uid": "dc0d4881-bd81-4425-bd47-c50e627e0de7",
         "unselected": {
          "marker": {
           "color": "grey",
           "size": 5
          }
         }
        },
        {
         "lat": [
          1.283933262
         ],
         "lon": [
          103.8514631
         ],
         "marker": {
          "color": "purple",
          "size": 10
         },
         "mode": "markers",
         "selected": {
          "marker": {
           "size": 25
          }
         },
         "text": [
          "RAFFLES PLACE MRT STATION"
         ],
         "type": "scattermapbox",
         "uid": "aaaaf979-a96a-47c6-868e-26632ecb403f",
         "unselected": {
          "marker": {
           "color": "grey",
           "size": 5
          }
         }
        },
        {
         "lat": [
          1.321026956
         ],
         "lon": [
          103.6490782
         ],
         "marker": {
          "color": "yellow",
          "size": 10
         },
         "mode": "markers",
         "selected": {
          "marker": {
           "size": 25
          }
         },
         "text": [
          "TUAS CRESCENT MRT STATION"
         ],
         "type": "scattermapbox",
         "uid": "8fe733a5-240e-466e-91fe-19004525071e",
         "unselected": {
          "marker": {
           "color": "grey",
           "size": 5
          }
         }
        },
        {
         "lat": [
          1.340882425
         ],
         "lon": [
          103.6369914
         ],
         "marker": {
          "color": "blue",
          "size": 10
         },
         "mode": "markers",
         "selected": {
          "marker": {
           "size": 25
          }
         },
         "text": [
          "TUAS LINK MRT STATION"
         ],
         "type": "scattermapbox",
         "uid": "bc8b75c0-469e-4124-8e66-1442e58aa80b",
         "unselected": {
          "marker": {
           "color": "grey",
           "size": 5
          }
         }
        },
        {
         "lat": [
          1.329985047
         ],
         "lon": [
          103.6396166
         ],
         "marker": {
          "color": "green",
          "size": 10
         },
         "mode": "markers",
         "selected": {
          "marker": {
           "size": 25
          }
         },
         "text": [
          "TUAS WEST ROAD MRT STATION"
         ],
         "type": "scattermapbox",
         "uid": "54cd13ea-5069-4a2d-9f47-f747224a65d6",
         "unselected": {
          "marker": {
           "color": "grey",
           "size": 5
          }
         }
        },
        {
         "lat": [
          1.292989907
         ],
         "lon": [
          103.8525426
         ],
         "marker": {
          "color": "red",
          "size": 10
         },
         "mode": "markers",
         "selected": {
          "marker": {
           "size": 25
          }
         },
         "text": [
          "CITY HALL MRT STATION"
         ],
         "type": "scattermapbox",
         "uid": "28160888-409a-4e76-bfbd-4b13ee881400",
         "unselected": {
          "marker": {
           "color": "grey",
           "size": 5
          }
         }
        },
        {
         "lat": [
          1.351315801
         ],
         "lon": [
          103.8491403
         ],
         "marker": {
          "color": "orange",
          "size": 10
         },
         "mode": "markers",
         "selected": {
          "marker": {
           "size": 25
          }
         },
         "text": [
          "BISHAN MRT STATION"
         ],
         "type": "scattermapbox",
         "uid": "03f104de-a941-4e35-9c3d-49faadbda741",
         "unselected": {
          "marker": {
           "color": "grey",
           "size": 5
          }
         }
        },
        {
         "lat": [
          1.391885892
         ],
         "lon": [
          103.8763086
         ],
         "marker": {
          "color": "purple",
          "size": 10
         },
         "mode": "markers",
         "selected": {
          "marker": {
           "size": 25
          }
         },
         "text": [
          "FERNVALE LRT STATION"
         ],
         "type": "scattermapbox",
         "uid": "1047eb37-7519-4227-a041-df01fa8073cd",
         "unselected": {
          "marker": {
           "color": "grey",
           "size": 5
          }
         }
        },
        {
         "lat": [
          1.414927334
         ],
         "lon": [
          103.9101664
         ],
         "marker": {
          "color": "yellow",
          "size": 10
         },
         "mode": "markers",
         "selected": {
          "marker": {
           "size": 25
          }
         },
         "text": [
          "PUNGGOL MRT STATION"
         ],
         "type": "scattermapbox",
         "uid": "00ff2223-ef88-48d6-a8b2-92f46fc78bc8",
         "unselected": {
          "marker": {
           "color": "grey",
           "size": 5
          }
         }
        },
        {
         "lat": [
          1.38287002
         ],
         "lon": [
          103.8931226
         ],
         "marker": {
          "color": "blue",
          "size": 10
         },
         "mode": "markers",
         "selected": {
          "marker": {
           "size": 25
          }
         },
         "text": [
          "BUANGKOK MRT STATION"
         ],
         "type": "scattermapbox",
         "uid": "db34441b-d0b9-4618-97ac-97921f1e2d77",
         "unselected": {
          "marker": {
           "color": "grey",
           "size": 5
          }
         }
        },
        {
         "lat": [
          1.387994311
         ],
         "lon": [
          103.9054153
         ],
         "marker": {
          "color": "green",
          "size": 10
         },
         "mode": "markers",
         "selected": {
          "marker": {
           "size": 25
          }
         },
         "text": [
          "BAKAU LRT STATION"
         ],
         "type": "scattermapbox",
         "uid": "32fcc0e3-e5b5-439b-800a-0714ede89f39",
         "unselected": {
          "marker": {
           "color": "grey",
           "size": 5
          }
         }
        },
        {
         "lat": [
          1.397170196
         ],
         "lon": [
          103.8893048
         ],
         "marker": {
          "color": "red",
          "size": 10
         },
         "mode": "markers",
         "selected": {
          "marker": {
           "size": 25
          }
         },
         "text": [
          "FARMWAY LRT STATION"
         ],
         "type": "scattermapbox",
         "uid": "a80fbc67-f757-46be-8a84-ed4ff2c6fdbf",
         "unselected": {
          "marker": {
           "color": "grey",
           "size": 5
          }
         }
        },
        {
         "lat": [
          1.302501999
         ],
         "lon": [
          103.7982285
         ],
         "marker": {
          "color": "orange",
          "size": 10
         },
         "mode": "markers",
         "selected": {
          "marker": {
           "size": 25
          }
         },
         "text": [
          "COMMONWEALTH MRT STATION"
         ],
         "type": "scattermapbox",
         "uid": "2dbb3459-74c1-4aa3-8a1a-13af479b3545",
         "unselected": {
          "marker": {
           "color": "grey",
           "size": 5
          }
         }
        },
        {
         "lat": [
          1.39821283
         ],
         "lon": [
          103.8812562
         ],
         "marker": {
          "color": "purple",
          "size": 10
         },
         "mode": "markers",
         "selected": {
          "marker": {
           "size": 25
          }
         },
         "text": [
          "KUPANG LRT STATION"
         ],
         "type": "scattermapbox",
         "uid": "81dc2129-b629-423a-be04-383d61ce1d2b",
         "unselected": {
          "marker": {
           "color": "grey",
           "size": 5
          }
         }
        },
        {
         "lat": [
          1.405234836
         ],
         "lon": [
          103.9086035
         ],
         "marker": {
          "color": "yellow",
          "size": 10
         },
         "mode": "markers",
         "selected": {
          "marker": {
           "size": 25
          }
         },
         "text": [
          "DAMAI LRT STATION"
         ],
         "type": "scattermapbox",
         "uid": "4a6d74db-7bb9-4ded-ad17-94edf2de37bc",
         "unselected": {
          "marker": {
           "color": "grey",
           "size": 5
          }
         }
        },
        {
         "lat": [
          1.294550852
         ],
         "lon": [
          103.8060772
         ],
         "marker": {
          "color": "blue",
          "size": 10
         },
         "mode": "markers",
         "selected": {
          "marker": {
           "size": 25
          }
         },
         "text": [
          "QUEENSTOWN MRT STATION"
         ],
         "type": "scattermapbox",
         "uid": "44e2497a-9a99-4b08-b3e4-5670657140ce",
         "unselected": {
          "marker": {
           "color": "grey",
           "size": 5
          }
         }
        },
        {
         "lat": [
          1.31148891
         ],
         "lon": [
          103.8713865
         ],
         "marker": {
          "color": "green",
          "size": 10
         },
         "mode": "markers",
         "selected": {
          "marker": {
           "size": 25
          }
         },
         "text": [
          "KALLANG MRT STATION"
         ],
         "type": "scattermapbox",
         "uid": "d8baf3d0-5148-430c-9333-b07262c89d41",
         "unselected": {
          "marker": {
           "color": "grey",
           "size": 5
          }
         }
        },
        {
         "lat": [
          1.391468495
         ],
         "lon": [
          103.9059736
         ],
         "marker": {
          "color": "red",
          "size": 10
         },
         "mode": "markers",
         "selected": {
          "marker": {
           "size": 25
          }
         },
         "text": [
          "RUMBIA LRT STATION"
         ],
         "type": "scattermapbox",
         "uid": "9933f698-af1c-4f2b-92e1-6568d2891d17",
         "unselected": {
          "marker": {
           "color": "grey",
           "size": 5
          }
         }
        },
        {
         "lat": [
          1.377772043
         ],
         "lon": [
          103.7666458
         ],
         "marker": {
          "color": "orange",
          "size": 10
         },
         "mode": "markers",
         "selected": {
          "marker": {
           "size": 25
          }
         },
         "text": [
          "PETIR LRT STATION"
         ],
         "type": "scattermapbox",
         "uid": "c21f2124-209f-43a2-a59f-1bc02c1f1a46",
         "unselected": {
          "marker": {
           "color": "grey",
           "size": 5
          }
         }
        },
        {
         "lat": [
          1.338610339
         ],
         "lon": [
          103.7060849
         ],
         "marker": {
          "color": "purple",
          "size": 10
         },
         "mode": "markers",
         "selected": {
          "marker": {
           "size": 25
          }
         },
         "text": [
          "BOON LAY MRT STATION"
         ],
         "type": "scattermapbox",
         "uid": "995103a7-35fd-4750-b426-4aaf3621b7e2",
         "unselected": {
          "marker": {
           "color": "grey",
           "size": 5
          }
         }
        },
        {
         "lat": [
          1.378603251
         ],
         "lon": [
          103.7490557
         ],
         "marker": {
          "color": "yellow",
          "size": 10
         },
         "mode": "markers",
         "selected": {
          "marker": {
           "size": 25
          }
         },
         "text": [
          "KEAT HONG LRT STATION"
         ],
         "type": "scattermapbox",
         "uid": "abc184e0-5d43-4a63-84df-e53762b2986b",
         "unselected": {
          "marker": {
           "color": "grey",
           "size": 5
          }
         }
        },
        {
         "lat": [
          1.38673927
         ],
         "lon": [
          103.7645341
         ],
         "marker": {
          "color": "blue",
          "size": 10
         },
         "mode": "markers",
         "selected": {
          "marker": {
           "size": 25
          }
         },
         "text": [
          "JELAPANG LRT STATION"
         ],
         "type": "scattermapbox",
         "uid": "597fd318-c3d9-4211-b331-044a91185d20",
         "unselected": {
          "marker": {
           "color": "grey",
           "size": 5
          }
         }
        },
        {
         "lat": [
          1.384755411
         ],
         "lon": [
          103.7445377
         ],
         "marker": {
          "color": "green",
          "size": 10
         },
         "mode": "markers",
         "selected": {
          "marker": {
           "size": 25
          }
         },
         "text": [
          "CHOA CHU KANG LRT STATION"
         ],
         "type": "scattermapbox",
         "uid": "c280cf87-6a66-4e63-9fa0-e0f75982596e",
         "unselected": {
          "marker": {
           "color": "grey",
           "size": 5
          }
         }
        },
        {
         "lat": [
          1.391609364
         ],
         "lon": [
          103.8954426
         ],
         "marker": {
          "color": "red",
          "size": 10
         },
         "mode": "markers",
         "selected": {
          "marker": {
           "size": 25
          }
         },
         "text": [
          "SENGKANG LRT STATION"
         ],
         "type": "scattermapbox",
         "uid": "fedbdc27-f1f6-4cb1-af15-5764fa93795a",
         "unselected": {
          "marker": {
           "color": "grey",
           "size": 5
          }
         }
        },
        {
         "lat": [
          1.265389384
         ],
         "lon": [
          103.8215302
         ],
         "marker": {
          "color": "orange",
          "size": 10
         },
         "mode": "markers",
         "selected": {
          "marker": {
           "size": 25
          }
         },
         "text": [
          "HARBOURFRONT MRT STATION"
         ],
         "type": "scattermapbox",
         "uid": "cc0b978b-2124-4644-af50-7ec70f9e9cf7",
         "unselected": {
          "marker": {
           "color": "grey",
           "size": 5
          }
         }
        },
        {
         "lat": [
          1.376135743
         ],
         "lon": [
          103.7712612
         ],
         "marker": {
          "color": "purple",
          "size": 10
         },
         "mode": "markers",
         "selected": {
          "marker": {
           "size": 25
          }
         },
         "text": [
          "PENDING LRT STATION"
         ],
         "type": "scattermapbox",
         "uid": "dfcfcda1-fea1-4ba1-a4de-929f4a0d741f",
         "unselected": {
          "marker": {
           "color": "grey",
           "size": 5
          }
         }
        },
        {
         "lat": [
          1.288710232
         ],
         "lon": [
          103.8466109
         ],
         "marker": {
          "color": "yellow",
          "size": 10
         },
         "mode": "markers",
         "selected": {
          "marker": {
           "size": 25
          }
         },
         "text": [
          "CLARKE QUAY MRT STATION"
         ],
         "type": "scattermapbox",
         "uid": "671d03e5-c6dc-4d48-b2cf-f36956a83498",
         "unselected": {
          "marker": {
           "color": "grey",
           "size": 5
          }
         }
        },
        {
         "lat": [
          1.377926946
         ],
         "lon": [
          103.7631029
         ],
         "marker": {
          "color": "blue",
          "size": 10
         },
         "mode": "markers",
         "selected": {
          "marker": {
           "size": 25
          }
         },
         "text": [
          "BUKIT PANJANG LRT STATION"
         ],
         "type": "scattermapbox",
         "uid": "11cd7653-8964-4e5b-9476-f11a92f05336",
         "unselected": {
          "marker": {
           "color": "grey",
           "size": 5
          }
         }
        },
        {
         "lat": [
          1.384573177
         ],
         "lon": [
          103.7708872
         ],
         "marker": {
          "color": "green",
          "size": 10
         },
         "mode": "markers",
         "selected": {
          "marker": {
           "size": 25
          }
         },
         "text": [
          "FAJAR LRT STATION"
         ],
         "type": "scattermapbox",
         "uid": "2504f378-a262-4845-8dbd-06ebed37848b",
         "unselected": {
          "marker": {
           "color": "grey",
           "size": 5
          }
         }
        },
        {
         "lat": [
          1.360179171
         ],
         "lon": [
          103.8850649
         ],
         "marker": {
          "color": "red",
          "size": 10
         },
         "mode": "markers",
         "selected": {
          "marker": {
           "size": 25
          }
         },
         "text": [
          "KOVAN MRT STATION"
         ],
         "type": "scattermapbox",
         "uid": "11531ecc-9ec2-4156-9b83-ce017557aca8",
         "unselected": {
          "marker": {
           "color": "grey",
           "size": 5
          }
         }
        },
        {
         "lat": [
          1.351639278
         ],
         "lon": [
          103.8639457
         ],
         "marker": {
          "color": "orange",
          "size": 10
         },
         "mode": "markers",
         "selected": {
          "marker": {
           "size": 25
          }
         },
         "text": [
          "LORONG CHUAN MRT STATION"
         ],
         "type": "scattermapbox",
         "uid": "cdefab19-595b-44d9-b86d-67000fdcb435",
         "unselected": {
          "marker": {
           "color": "grey",
           "size": 5
          }
         }
        },
        {
         "lat": [
          1.348707263
         ],
         "lon": [
          103.8394231
         ],
         "marker": {
          "color": "purple",
          "size": 10
         },
         "mode": "markers",
         "selected": {
          "marker": {
           "size": 25
          }
         },
         "text": [
          "MARYMOUNT MRT STATION"
         ],
         "type": "scattermapbox",
         "uid": "d01d9038-c3f2-473c-b60d-9fba9df7d129",
         "unselected": {
          "marker": {
           "color": "grey",
           "size": 5
          }
         }
        },
        {
         "lat": [
          1.337245613
         ],
         "lon": [
          103.8401618
         ],
         "marker": {
          "color": "yellow",
          "size": 10
         },
         "mode": "markers",
         "selected": {
          "marker": {
           "size": 25
          }
         },
         "text": [
          "CALDECOTT MRT STATION"
         ],
         "type": "scattermapbox",
         "uid": "d32606c8-5879-47fc-bfef-5c6fa7c7a89e",
         "unselected": {
          "marker": {
           "color": "grey",
           "size": 5
          }
         }
        },
        {
         "lat": [
          1.279446382
         ],
         "lon": [
          103.8528408
         ],
         "marker": {
          "color": "blue",
          "size": 10
         },
         "mode": "markers",
         "selected": {
          "marker": {
           "size": 25
          }
         },
         "text": [
          "DOWNTOWN MRT STATION"
         ],
         "type": "scattermapbox",
         "uid": "85a2f939-4930-4410-a4a9-9fdcbd6d663d",
         "unselected": {
          "marker": {
           "color": "grey",
           "size": 5
          }
         }
        },
        {
         "lat": [
          1.321301102
         ],
         "lon": [
          103.8716226
         ],
         "marker": {
          "color": "green",
          "size": 10
         },
         "mode": "markers",
         "selected": {
          "marker": {
           "size": 25
          }
         },
         "text": [
          "GEYLANG BAHRU MRT STATION"
         ],
         "type": "scattermapbox",
         "uid": "2b97156c-df2b-44c8-944d-476f0331ec89",
         "unselected": {
          "marker": {
           "color": "grey",
           "size": 5
          }
         }
        },
        {
         "lat": [
          1.313672528
         ],
         "lon": [
          103.8629776
         ],
         "marker": {
          "color": "red",
          "size": 10
         },
         "mode": "markers",
         "selected": {
          "marker": {
           "size": 25
          }
         },
         "text": [
          "BENDEMEER MRT STATION"
         ],
         "type": "scattermapbox",
         "uid": "097f5858-4f14-4acf-b50d-cdb2fb492a63",
         "unselected": {
          "marker": {
           "color": "grey",
           "size": 5
          }
         }
        },
        {
         "lat": [
          1.298918434
         ],
         "lon": [
          103.8503538
         ],
         "marker": {
          "color": "orange",
          "size": 10
         },
         "mode": "markers",
         "selected": {
          "marker": {
           "size": 25
          }
         },
         "text": [
          "BENCOOLEN MRT STATION"
         ],
         "type": "scattermapbox",
         "uid": "2d994bd0-227d-4512-8062-4efd51f01872",
         "unselected": {
          "marker": {
           "color": "grey",
           "size": 5
          }
         }
        },
        {
         "lat": [
          1.292481948
         ],
         "lon": [
          103.8443314
         ],
         "marker": {
          "color": "purple",
          "size": 10
         },
         "mode": "markers",
         "selected": {
          "marker": {
           "size": 25
          }
         },
         "text": [
          "FORT CANNING MRT STATION"
         ],
         "type": "scattermapbox",
         "uid": "d77bceed-d0c3-4cdc-8893-06ce23068793",
         "unselected": {
          "marker": {
           "color": "grey",
           "size": 5
          }
         }
        },
        {
         "lat": [
          1.33496736
         ],
         "lon": [
          103.9084593
         ],
         "marker": {
          "color": "yellow",
          "size": 10
         },
         "mode": "markers",
         "selected": {
          "marker": {
           "size": 25
          }
         },
         "text": [
          "KAKI BUKIT MRT STATION"
         ],
         "type": "scattermapbox",
         "uid": "220b8cf8-2117-4f85-88be-09f54aba3545",
         "unselected": {
          "marker": {
           "color": "grey",
           "size": 5
          }
         }
        },
        {
         "lat": [
          1.305171388
         ],
         "lon": [
          103.8552957
         ],
         "marker": {
          "color": "blue",
          "size": 10
         },
         "mode": "markers",
         "selected": {
          "marker": {
           "size": 25
          }
         },
         "text": [
          "JALAN BESAR MRT STATION"
         ],
         "type": "scattermapbox",
         "uid": "c11cf2e2-8228-4eca-8255-4f9ebbafb259",
         "unselected": {
          "marker": {
           "color": "grey",
           "size": 5
          }
         }
        },
        {
         "lat": [
          1.326876715
         ],
         "lon": [
          103.8832475
         ],
         "marker": {
          "color": "green",
          "size": 10
         },
         "mode": "markers",
         "selected": {
          "marker": {
           "size": 25
          }
         },
         "text": [
          "MATTAR MRT STATION"
         ],
         "type": "scattermapbox",
         "uid": "d87f9dda-782c-481d-8fb8-10166ad778f5",
         "unselected": {
          "marker": {
           "color": "grey",
           "size": 5
          }
         }
        },
        {
         "lat": [
          1.326150245
         ],
         "lon": [
          103.8892986
         ],
         "marker": {
          "color": "red",
          "size": 10
         },
         "mode": "markers",
         "selected": {
          "marker": {
           "size": 25
          }
         },
         "text": [
          "MACPHERSON MRT STATION"
         ],
         "type": "scattermapbox",
         "uid": "f6b881b7-04fa-4e98-bf5d-c75fea0e97ff",
         "unselected": {
          "marker": {
           "color": "grey",
           "size": 5
          }
         }
        },
        {
         "lat": [
          1.281873789
         ],
         "lon": [
          103.8590798
         ],
         "marker": {
          "color": "orange",
          "size": 10
         },
         "mode": "markers",
         "selected": {
          "marker": {
           "size": 25
          }
         },
         "text": [
          "BAYFRONT MRT STATION"
         ],
         "type": "scattermapbox",
         "uid": "f50f8dd5-5e43-4477-8bff-fde779c0a083",
         "unselected": {
          "marker": {
           "color": "grey",
           "size": 5
          }
         }
        },
        {
         "lat": [
          1.317439152
         ],
         "lon": [
          103.8073792
         ],
         "marker": {
          "color": "purple",
          "size": 10
         },
         "mode": "markers",
         "selected": {
          "marker": {
           "size": 25
          }
         },
         "text": [
          "FARRER ROAD MRT STATION"
         ],
         "type": "scattermapbox",
         "uid": "a1a4a36c-261a-454f-a91a-74f5a0215e81",
         "unselected": {
          "marker": {
           "color": "grey",
           "size": 5
          }
         }
        },
        {
         "lat": [
          1.33315262
         ],
         "lon": [
          103.7422865
         ],
         "marker": {
          "color": "yellow",
          "size": 10
         },
         "mode": "markers",
         "selected": {
          "marker": {
           "size": 25
          }
         },
         "text": [
          "JURONG EAST MRT STATION"
         ],
         "type": "scattermapbox",
         "uid": "d7ba06c3-57ff-4b40-b76e-b6be106d485c",
         "unselected": {
          "marker": {
           "color": "grey",
           "size": 5
          }
         }
        },
        {
         "lat": [
          1.334742117
         ],
         "lon": [
          103.9179783
         ],
         "marker": {
          "color": "blue",
          "size": 10
         },
         "mode": "markers",
         "selected": {
          "marker": {
           "size": 25
          }
         },
         "text": [
          "BEDOK NORTH MRT STATION"
         ],
         "type": "scattermapbox",
         "uid": "bb57c4ed-393e-45ab-b033-5f09264a25ad",
         "unselected": {
          "marker": {
           "color": "grey",
           "size": 5
          }
         }
        },
        {
         "lat": [
          1.33660783
         ],
         "lon": [
          103.9322346
         ],
         "marker": {
          "color": "green",
          "size": 10
         },
         "mode": "markers",
         "selected": {
          "marker": {
           "size": 25
          }
         },
         "text": [
          "BEDOK RESERVOIR MRT STATION"
         ],
         "type": "scattermapbox",
         "uid": "9ac1b52d-0c1b-47b7-8275-b6490cd9255a",
         "unselected": {
          "marker": {
           "color": "grey",
           "size": 5
          }
         }
        },
        {
         "lat": [
          1.302422248
         ],
         "lon": [
          103.8238685
         ],
         "marker": {
          "color": "red",
          "size": 10
         },
         "mode": "markers",
         "selected": {
          "marker": {
           "size": 25
          }
         },
         "text": [
          "ORCHARD MRT STATION"
         ],
         "type": "scattermapbox",
         "uid": "4b8007f2-ac7e-443c-8dae-c8455dcec32e",
         "unselected": {
          "marker": {
           "color": "grey",
           "size": 5
          }
         }
        },
        {
         "lat": [
          1.38550658
         ],
         "lon": [
          103.8357438
         ],
         "marker": {
          "color": "orange",
          "size": 10
         },
         "mode": "markers",
         "selected": {
          "marker": {
           "size": 25
          }
         },
         "text": [
          "LENTOR MRT STATION"
         ],
         "type": "scattermapbox",
         "uid": "c592fcf9-8039-4733-b121-d6796e8311a3",
         "unselected": {
          "marker": {
           "color": "grey",
           "size": 5
          }
         }
        },
        {
         "lat": [
          1.363846766
         ],
         "lon": [
          103.8338992
         ],
         "marker": {
          "color": "purple",
          "size": 10
         },
         "mode": "markers",
         "selected": {
          "marker": {
           "size": 25
          }
         },
         "text": [
          "BRIGHT HILL MRT STATION"
         ],
         "type": "scattermapbox",
         "uid": "81331ff7-de49-4d95-bc1c-10f5b777e993",
         "unselected": {
          "marker": {
           "color": "grey",
           "size": 5
          }
         }
        },
        {
         "lat": [
          1.397581061
         ],
         "lon": [
          103.8178569
         ],
         "marker": {
          "color": "yellow",
          "size": 10
         },
         "mode": "markers",
         "selected": {
          "marker": {
           "size": 25
          }
         },
         "text": [
          "SPRINGLEAF MRT STATION"
         ],
         "type": "scattermapbox",
         "uid": "b64c3f61-31dc-4127-a672-7a041b0710ae",
         "unselected": {
          "marker": {
           "color": "grey",
           "size": 5
          }
         }
        },
        {
         "lat": [
          1.271027036
         ],
         "lon": [
          103.8624475
         ],
         "marker": {
          "color": "blue",
          "size": 10
         },
         "mode": "markers",
         "selected": {
          "marker": {
           "size": 25
          }
         },
         "text": [
          "MARINA SOUTH PIER MRT STATION"
         ],
         "type": "scattermapbox",
         "uid": "0ad08ff4-93f7-46a0-afeb-7d28a7e3e2df",
         "unselected": {
          "marker": {
           "color": "grey",
           "size": 5
          }
         }
        },
        {
         "lat": [
          1.443076641
         ],
         "lon": [
          103.8297026
         ],
         "marker": {
          "color": "green",
          "size": 10
         },
         "mode": "markers",
         "selected": {
          "marker": {
           "size": 25
          }
         },
         "text": [
          "CANBERRA MRT STATION"
         ],
         "type": "scattermapbox",
         "uid": "c0449dff-b1b2-409f-af35-14db67e4c362",
         "unselected": {
          "marker": {
           "color": "grey",
           "size": 5
          }
         }
        },
        {
         "lat": [
          1.427488114
         ],
         "lon": [
          103.7927299
         ],
         "marker": {
          "color": "red",
          "size": 10
         },
         "mode": "markers",
         "selected": {
          "marker": {
           "size": 25
          }
         },
         "text": [
          "WOODLANDS SOUTH MRT STATION"
         ],
         "type": "scattermapbox",
         "uid": "cfd9749c-8974-47f7-9497-576765781146",
         "unselected": {
          "marker": {
           "color": "grey",
           "size": 5
          }
         }
        },
        {
         "lat": [
          1.447782173
         ],
         "lon": [
          103.7851355
         ],
         "marker": {
          "color": "orange",
          "size": 10
         },
         "mode": "markers",
         "selected": {
          "marker": {
           "size": 25
          }
         },
         "text": [
          "WOODLANDS NORTH MRT STATION"
         ],
         "type": "scattermapbox",
         "uid": "603e3c4e-a55d-4e87-9b74-c83d7087fbdc",
         "unselected": {
          "marker": {
           "color": "grey",
           "size": 5
          }
         }
        },
        {
         "lat": [
          1.319470901
         ],
         "lon": [
          103.6605305
         ],
         "marker": {
          "color": "purple",
          "size": 10
         },
         "mode": "markers",
         "selected": {
          "marker": {
           "size": 25
          }
         },
         "text": [
          "GUL CIRCLE MRT STATION"
         ],
         "type": "scattermapbox",
         "uid": "a40f6c9a-7f4a-4bfa-8bc8-0c352c5fdf7e",
         "unselected": {
          "marker": {
           "color": "grey",
           "size": 5
          }
         }
        },
        {
         "lat": [
          1.28850524
         ],
         "lon": [
          103.8335858
         ],
         "marker": {
          "color": "yellow",
          "size": 10
         },
         "mode": "markers",
         "selected": {
          "marker": {
           "size": 25
          }
         },
         "text": [
          "HAVELOCK MRT STATION"
         ],
         "type": "scattermapbox",
         "uid": "87514d91-c4f5-448d-9d7b-41e5e63f2857",
         "unselected": {
          "marker": {
           "color": "grey",
           "size": 5
          }
         }
        },
        {
         "lat": [
          1.306782234
         ],
         "lon": [
          103.8189568
         ],
         "marker": {
          "color": "blue",
          "size": 10
         },
         "mode": "markers",
         "selected": {
          "marker": {
           "size": 25
          }
         },
         "text": [
          "NAPIER MRT STATION"
         ],
         "type": "scattermapbox",
         "uid": "1557604a-f88f-4a4e-8f28-ceeba5adc105",
         "unselected": {
          "marker": {
           "color": "grey",
           "size": 5
          }
         }
        },
        {
         "lat": [
          1.277716828
         ],
         "lon": [
          103.8503676
         ],
         "marker": {
          "color": "green",
          "size": 10
         },
         "mode": "markers",
         "selected": {
          "marker": {
           "size": 25
          }
         },
         "text": [
          "SHENTON WAY MRT STATION"
         ],
         "type": "scattermapbox",
         "uid": "1ca41c93-139f-4660-8df2-8b977fec384d",
         "unselected": {
          "marker": {
           "color": "grey",
           "size": 5
          }
         }
        },
        {
         "lat": [
          1.278487259
         ],
         "lon": [
          103.8674547
         ],
         "marker": {
          "color": "red",
          "size": 10
         },
         "mode": "markers",
         "selected": {
          "marker": {
           "size": 25
          }
         },
         "text": [
          "GARDENS BY THE BAY MRT STATION"
         ],
         "type": "scattermapbox",
         "uid": "55121fec-f991-4064-a62f-c4043e4babc6",
         "unselected": {
          "marker": {
           "color": "grey",
           "size": 5
          }
         }
        },
        {
         "lat": [
          1.293316457
         ],
         "lon": [
          103.8339066
         ],
         "marker": {
          "color": "orange",
          "size": 10
         },
         "mode": "markers",
         "selected": {
          "marker": {
           "size": 25
          }
         },
         "text": [
          "GREAT WORLD MRT STATION"
         ],
         "type": "scattermapbox",
         "uid": "deebde74-97c6-4f45-a21e-48e466d2a81b",
         "unselected": {
          "marker": {
           "color": "grey",
           "size": 5
          }
         }
        },
        {
         "lat": [
          1.280533298
         ],
         "lon": [
          103.8438837
         ],
         "marker": {
          "color": "purple",
          "size": 10
         },
         "mode": "markers",
         "selected": {
          "marker": {
           "size": 25
          }
         },
         "text": [
          "MAXWELL MRT STATION"
         ],
         "type": "scattermapbox",
         "uid": "9f180198-e544-422f-98ef-74f901f3cac2",
         "unselected": {
          "marker": {
           "color": "grey",
           "size": 5
          }
         }
        },
        {
         "lat": [
          1.303623073
         ],
         "lon": [
          103.8236504
         ],
         "marker": {
          "color": "yellow",
          "size": 10
         },
         "mode": "markers",
         "selected": {
          "marker": {
           "size": 25
          }
         },
         "text": [
          "ORCHARD BOULEVARD MRT STATION"
         ],
         "type": "scattermapbox",
         "uid": "0620e07f-e8ba-447f-8748-69b03252b141",
         "unselected": {
          "marker": {
           "color": "grey",
           "size": 5
          }
         }
        },
        {
         "lat": [
          1.270706478
         ],
         "lon": [
          103.8097616
         ],
         "marker": {
          "color": "blue",
          "size": 10
         },
         "mode": "markers",
         "selected": {
          "marker": {
           "size": 25
          }
         },
         "text": [
          "TELOK BLANGAH MRT STATION"
         ],
         "type": "scattermapbox",
         "uid": "84bd2a13-43ab-446b-a166-3aa5b8e4b7b7",
         "unselected": {
          "marker": {
           "color": "grey",
           "size": 5
          }
         }
        },
        {
         "lat": [
          1.376684679
         ],
         "lon": [
          103.7537122
         ],
         "marker": {
          "color": "green",
          "size": 10
         },
         "mode": "markers",
         "selected": {
          "marker": {
           "size": 25
          }
         },
         "text": [
          "TECK WHYE LRT STATION"
         ],
         "type": "scattermapbox",
         "uid": "56ea18e1-2653-4184-826b-93a1ce623535",
         "unselected": {
          "marker": {
           "color": "grey",
           "size": 5
          }
         }
        },
        {
         "lat": [
          1.276568292
         ],
         "lon": [
          103.8460067
         ],
         "marker": {
          "color": "red",
          "size": 10
         },
         "mode": "markers",
         "selected": {
          "marker": {
           "size": 25
          }
         },
         "text": [
          "TANJONG PAGAR MRT STATION"
         ],
         "type": "scattermapbox",
         "uid": "1e6ed6fc-e9b1-4f5b-b773-adde464e1b44",
         "unselected": {
          "marker": {
           "color": "grey",
           "size": 5
          }
         }
        },
        {
         "lat": [
          1.327310982
         ],
         "lon": [
          103.9464517
         ],
         "marker": {
          "color": "orange",
          "size": 10
         },
         "mode": "markers",
         "selected": {
          "marker": {
           "size": 25
          }
         },
         "text": [
          "TANAH MERAH MRT STATION"
         ],
         "type": "scattermapbox",
         "uid": "e1fea66f-f3cb-42a0-98be-68807c1144a1",
         "unselected": {
          "marker": {
           "color": "grey",
           "size": 5
          }
         }
        },
        {
         "lat": [
          1.326392241
         ],
         "lon": [
          103.8065482
         ],
         "marker": {
          "color": "purple",
          "size": 10
         },
         "mode": "markers",
         "selected": {
          "marker": {
           "size": 25
          }
         },
         "text": [
          "TAN KAH KEE MRT STATION"
         ],
         "type": "scattermapbox",
         "uid": "d72ed055-9421-4ec3-8981-4d32b7744135",
         "unselected": {
          "marker": {
           "color": "grey",
           "size": 5
          }
         }
        },
        {
         "lat": [
          1.354416434
         ],
         "lon": [
          103.8328985
         ],
         "marker": {
          "color": "yellow",
          "size": 10
         },
         "mode": "markers",
         "selected": {
          "marker": {
           "size": 25
          }
         },
         "text": [
          "UPPER THOMSON MRT STATION"
         ],
         "type": "scattermapbox",
         "uid": "cfaaf3b5-fb53-4338-927a-217e4a138084",
         "unselected": {
          "marker": {
           "color": "grey",
           "size": 5
          }
         }
        },
        {
         "lat": [
          1.371463188
         ],
         "lon": [
          103.8365678
         ],
         "marker": {
          "color": "blue",
          "size": 10
         },
         "mode": "markers",
         "selected": {
          "marker": {
           "size": 25
          }
         },
         "text": [
          "MAYFLOWER MRT STATION"
         ],
         "type": "scattermapbox",
         "uid": "57036d5f-13bd-4681-a76f-7028947933ae",
         "unselected": {
          "marker": {
           "color": "grey",
           "size": 5
          }
         }
        },
        {
         "fill": "toself",
         "hoverinfo": "text",
         "lat": [
          1.298005,
          1.297934,
          1.297731,
          1.29694,
          1.296943,
          1.296883,
          1.296801,
          1.295084,
          1.293469,
          1.295079,
          1.293572,
          1.293285,
          1.292081,
          1.291487,
          1.290408,
          1.289688,
          1.289525,
          1.288982,
          1.288265,
          1.288546,
          1.288297,
          1.287889,
          1.287417,
          1.286091,
          1.285299,
          1.284292,
          1.282985,
          1.283764,
          1.283058,
          1.282887,
          1.282759,
          1.282493,
          1.281338,
          1.281177,
          1.281011,
          1.280695,
          1.278977,
          1.278896,
          1.277638,
          1.277098,
          1.275507,
          1.275299,
          1.274414,
          1.273803,
          1.273651,
          1.2735,
          1.272146,
          1.271849,
          1.27185,
          1.271702,
          1.271217,
          1.27114,
          1.270737,
          1.270241,
          1.270284,
          1.270439,
          1.270239,
          1.269903,
          1.268946,
          1.269483,
          1.269107,
          1.268494,
          1.268426,
          1.269145,
          1.269903,
          1.270583,
          1.270896,
          1.270096,
          1.270871,
          1.271574,
          1.271702,
          1.272418,
          1.272673,
          1.272647,
          1.272496,
          1.271702,
          1.271474,
          1.271352,
          1.271702,
          1.271808,
          1.2735,
          1.274305,
          1.274012,
          1.2735,
          1.273175,
          1.273069,
          1.272213,
          1.271702,
          1.271202,
          1.271266,
          1.271138,
          1.269903,
          1.268958,
          1.268104,
          1.267513,
          1.266458,
          1.266426,
          1.266306,
          1.265681,
          1.265213,
          1.265506,
          1.265504,
          1.266306,
          1.267222,
          1.268104,
          1.268689,
          1.26955,
          1.269781,
          1.269903,
          1.270279,
          1.271702,
          1.27284,
          1.2735,
          1.274291,
          1.275299,
          1.276926,
          1.277098,
          1.278226,
          1.27772,
          1.277098,
          1.276726,
          1.276543,
          1.277098,
          1.278007,
          1.278108,
          1.278161,
          1.278799,
          1.27882,
          1.278896,
          1.280442,
          1.280695,
          1.282388,
          1.282493,
          1.282575,
          1.282786,
          1.283468,
          1.284292,
          1.285468,
          1.286091,
          1.286505,
          1.287889,
          1.288812,
          1.289688,
          1.290649,
          1.291487,
          1.292685,
          1.293167,
          1.293224,
          1.293285,
          1.294842,
          1.295084,
          1.295122,
          1.295161,
          1.295659,
          1.295892,
          1.295866,
          1.295845,
          1.295737,
          1.296883,
          1.297496,
          1.298681,
          1.299398,
          1.30048,
          1.300905,
          1.302279,
          1.303822,
          1.304077,
          1.305496,
          1.305876,
          1.306397,
          1.306998,
          1.306057,
          1.307674,
          1.308845,
          1.309473,
          1.311144,
          1.311272,
          1.31251,
          1.31307,
          1.314541,
          1.313637,
          1.314749,
          1.314869,
          1.31504,
          1.316668,
          1.318351,
          1.318466,
          1.319346,
          1.320265,
          1.321964,
          1.322064,
          1.322195,
          1.322124,
          1.322064,
          1.321425,
          1.321271,
          1.321249,
          1.3213,
          1.320984,
          1.32037,
          1.32035,
          1.320689,
          1.321096,
          1.321304,
          1.320786,
          1.320265,
          1.320144,
          1.320062,
          1.319787,
          1.319435,
          1.320265,
          1.320804,
          1.322064,
          1.32263,
          1.323019,
          1.322995,
          1.323862,
          1.324396,
          1.324308,
          1.324392,
          1.325046,
          1.324358,
          1.325661,
          1.32581,
          1.326023,
          1.326587,
          1.327459,
          1.328033,
          1.329258,
          1.329593,
          1.330162,
          1.33098,
          1.331057,
          1.331253,
          1.331258,
          1.331699,
          1.33174,
          1.331057,
          1.330624,
          1.330806,
          1.33061,
          1.330497,
          1.331057,
          1.332209,
          1.332855,
          1.333213,
          1.334654,
          1.335879,
          1.336453,
          1.337183,
          1.33737,
          1.337761,
          1.337794,
          1.337943,
          1.337546,
          1.337321,
          1.337765,
          1.337569,
          1.337251,
          1.337059,
          1.336889,
          1.336453,
          1.335175,
          1.334654,
          1.334496,
          1.334529,
          1.334542,
          1.334542,
          1.334654,
          1.335466,
          1.335519,
          1.335409,
          1.335438,
          1.334654,
          1.332887,
          1.332855,
          1.332069,
          1.332553,
          1.332855,
          1.332878,
          1.332891,
          1.333421,
          1.334156,
          1.334364,
          1.334654,
          1.336033,
          1.334748,
          1.334654,
          1.333809,
          1.333854,
          1.333829,
          1.333533,
          1.333689,
          1.33323,
          1.333071,
          1.333409,
          1.33422,
          1.334247,
          1.334654,
          1.335293,
          1.336453,
          1.337708,
          1.338251,
          1.338767,
          1.34005,
          1.340491,
          1.340601,
          1.341304,
          1.341849,
          1.343345,
          1.343647,
          1.344359,
          1.345446,
          1.346401,
          1.347245,
          1.348472,
          1.349043,
          1.349491,
          1.350842,
          1.351479,
          1.35264,
          1.352986,
          1.354439,
          1.354882,
          1.354883,
          1.354787,
          1.354948,
          1.355153,
          1.356238,
          1.356488,
          1.356724,
          1.356688,
          1.358036,
          1.359251,
          1.359835,
          1.360815,
          1.361634,
          1.363247,
          1.361903,
          1.362361,
          1.363432,
          1.363581,
          1.364102,
          1.364901,
          1.364635,
          1.364898,
          1.365187,
          1.365182,
          1.365231,
          1.365347,
          1.365346,
          1.365231,
          1.364034,
          1.363432,
          1.361886,
          1.361634,
          1.361323,
          1.359835,
          1.358577,
          1.358036,
          1.357248,
          1.357164,
          1.356689,
          1.356889,
          1.357389,
          1.357745,
          1.358036,
          1.358421,
          1.358661,
          1.358036,
          1.357765,
          1.357594,
          1.35738,
          1.356238,
          1.355281,
          1.354439,
          1.353814,
          1.35264,
          1.352234,
          1.351691,
          1.351064,
          1.350842,
          1.349852,
          1.349043,
          1.348708,
          1.347245,
          1.345777,
          1.345446,
          1.345024,
          1.343647,
          1.342512,
          1.341849,
          1.341233,
          1.341002,
          1.340361,
          1.34005,
          1.33926,
          1.338251,
          1.337928,
          1.336453,
          1.335317,
          1.334654,
          1.334213,
          1.33323,
          1.333105,
          1.332855,
          1.332011,
          1.331057,
          1.329292,
          1.329258,
          1.329118,
          1.329035,
          1.328076,
          1.328016,
          1.327987,
          1.327459,
          1.326307,
          1.326453,
          1.32638,
          1.326441,
          1.326382,
          1.326117,
          1.326093,
          1.325661,
          1.325534,
          1.325556,
          1.325482,
          1.325563,
          1.325661,
          1.325812,
          1.325883,
          1.325661,
          1.325562,
          1.325536,
          1.325653,
          1.323862,
          1.323136,
          1.322064,
          1.321154,
          1.320265,
          1.320048,
          1.320044,
          1.3198,
          1.318466,
          1.316838,
          1.316668,
          1.316234,
          1.316427,
          1.316444,
          1.31651,
          1.316668,
          1.318159,
          1.318466,
          1.319511,
          1.320265,
          1.320841,
          1.322064,
          1.323746,
          1.323862,
          1.324558,
          1.324045,
          1.324866,
          1.325661,
          1.326068,
          1.326145,
          1.326482,
          1.326976,
          1.327,
          1.327459,
          1.32783,
          1.328308,
          1.327459,
          1.326967,
          1.325661,
          1.324794,
          1.324433,
          1.324269,
          1.323862,
          1.322771,
          1.322064,
          1.320807,
          1.321793,
          1.322064,
          1.32363,
          1.323862,
          1.324596,
          1.32476,
          1.324988,
          1.325544,
          1.325429,
          1.325251,
          1.324437,
          1.324099,
          1.324553,
          1.325661,
          1.326563,
          1.326473,
          1.326671,
          1.327459,
          1.327594,
          1.327676,
          1.328143,
          1.328689,
          1.327459,
          1.326282,
          1.325661,
          1.325164,
          1.3254,
          1.325041,
          1.32472,
          1.32432,
          1.323862,
          1.323307,
          1.323183,
          1.323202,
          1.323296,
          1.323681,
          1.32349,
          1.322687,
          1.322064,
          1.320707,
          1.320265,
          1.319976,
          1.320053,
          1.31919,
          1.318466,
          1.31774,
          1.318371,
          1.318466,
          1.318512,
          1.318927,
          1.318569,
          1.320265,
          1.321151,
          1.320834,
          1.320265,
          1.318938,
          1.318466,
          1.317289,
          1.316685,
          1.316675,
          1.316668,
          1.314938,
          1.314869,
          1.313791,
          1.31307,
          1.312413,
          1.312237,
          1.311814,
          1.311272,
          1.309876,
          1.309473,
          1.308868,
          1.307797,
          1.307702,
          1.307674,
          1.307558,
          1.305876,
          1.304515,
          1.304077,
          1.303548,
          1.302279,
          1.30111,
          1.30048,
          1.300363,
          1.298681,
          1.298005
         ],
         "line": {
          "color": "blue",
          "width": 1
         },
         "lon": [
          103.817426,
          103.818102,
          103.818951,
          103.819902,
          103.819962,
          103.819962,
          103.819902,
          103.8199,
          103.818286,
          103.819902,
          103.820189,
          103.820297,
          103.820496,
          103.820479,
          103.820622,
          103.821435,
          103.821537,
          103.821701,
          103.822076,
          103.8235,
          103.823908,
          103.8247,
          103.824827,
          103.824495,
          103.824507,
          103.824972,
          103.823992,
          103.825299,
          103.825864,
          103.827098,
          103.827364,
          103.827407,
          103.827742,
          103.828897,
          103.829213,
          103.829355,
          103.828978,
          103.829037,
          103.829438,
          103.82934,
          103.829106,
          103.829121,
          103.829811,
          103.830697,
          103.830848,
          103.831123,
          103.831141,
          103.832496,
          103.832644,
          103.832845,
          103.83381,
          103.834295,
          103.835129,
          103.836094,
          103.836476,
          103.837893,
          103.83823,
          103.8391,
          103.838735,
          103.839692,
          103.840696,
          103.841492,
          103.841813,
          103.843291,
          103.844005,
          103.84509,
          103.846083,
          103.846889,
          103.847857,
          103.848688,
          103.848981,
          103.850488,
          103.851459,
          103.852287,
          103.853081,
          103.853436,
          103.853859,
          103.854086,
          103.855611,
          103.855885,
          103.857069,
          103.857684,
          103.858196,
          103.859137,
          103.859158,
          103.859483,
          103.859995,
          103.860606,
          103.859483,
          103.859047,
          103.857684,
          103.856269,
          103.856739,
          103.856869,
          103.857092,
          103.857684,
          103.857805,
          103.857826,
          103.858858,
          103.859483,
          103.860483,
          103.861283,
          103.861801,
          103.862199,
          103.862229,
          103.863082,
          103.864528,
          103.864881,
          103.865003,
          103.865258,
          103.865839,
          103.86668,
          103.867236,
          103.868479,
          103.869686,
          103.870107,
          103.870007,
          103.869608,
          103.868479,
          103.867168,
          103.86668,
          103.866125,
          103.866456,
          103.865791,
          103.864881,
          103.864146,
          103.863082,
          103.863005,
          103.862974,
          103.862829,
          103.862785,
          103.862977,
          103.863022,
          103.863082,
          103.863374,
          103.864881,
          103.865522,
          103.866057,
          103.86542,
          103.865295,
          103.865474,
          103.865804,
          103.866141,
          103.865842,
          103.865831,
          103.86668,
          103.868361,
          103.868479,
          103.868677,
          103.870278,
          103.870355,
          103.870317,
          103.870278,
          103.869054,
          103.868479,
          103.867462,
          103.86668,
          103.865534,
          103.865303,
          103.865494,
          103.865808,
          103.86668,
          103.868116,
          103.868479,
          103.869241,
          103.870023,
          103.869913,
          103.870278,
          103.870573,
          103.872078,
          103.8732,
          103.873877,
          103.874299,
          103.875047,
          103.875476,
          103.875548,
          103.875539,
          103.875676,
          103.875731,
          103.877147,
          103.875676,
          103.875556,
          103.875592,
          103.875676,
          103.877194,
          103.87736,
          103.877072,
          103.877475,
          103.878295,
          103.879174,
          103.879167,
          103.879274,
          103.879335,
          103.879422,
          103.880435,
          103.881074,
          103.882058,
          103.882873,
          103.883592,
          103.884672,
          103.884757,
          103.886471,
          103.887303,
          103.88827,
          103.888791,
          103.889744,
          103.889949,
          103.890069,
          103.891391,
          103.891869,
          103.892638,
          103.892408,
          103.89302,
          103.893668,
          103.894623,
          103.895467,
          103.896448,
          103.897266,
          103.897712,
          103.899065,
          103.900249,
          103.900864,
          103.90226,
          103.902664,
          103.903026,
          103.904463,
          103.90497,
          103.905036,
          103.904619,
          103.904797,
          103.904463,
          103.904386,
          103.904388,
          103.904463,
          103.904664,
          103.906262,
          103.906945,
          103.907285,
          103.907628,
          103.908061,
          103.909413,
          103.90986,
          103.911023,
          103.911013,
          103.911238,
          103.91166,
          103.912841,
          103.913459,
          103.914037,
          103.914189,
          103.913459,
          103.912968,
          103.91166,
          103.911351,
          103.90986,
          103.908929,
          103.908061,
          103.907379,
          103.906262,
          103.905069,
          103.904463,
          103.904018,
          103.903185,
          103.902903,
          103.902664,
          103.902538,
          103.900864,
          103.900752,
          103.900615,
          103.899877,
          103.899065,
          103.898022,
          103.897266,
          103.896401,
          103.895467,
          103.895417,
          103.893668,
          103.893365,
          103.891962,
          103.891892,
          103.891869,
          103.890635,
          103.890069,
          103.889779,
          103.888802,
          103.889649,
          103.88827,
          103.888117,
          103.886471,
          103.885671,
          103.884672,
          103.883551,
          103.882873,
          103.881448,
          103.881074,
          103.879828,
          103.879274,
          103.878867,
          103.87854,
          103.878114,
          103.878593,
          103.878731,
          103.878382,
          103.879274,
          103.879644,
          103.879716,
          103.879274,
          103.87873,
          103.878606,
          103.878972,
          103.878905,
          103.879274,
          103.879623,
          103.88023,
          103.880654,
          103.881074,
          103.881269,
          103.881522,
          103.882202,
          103.881711,
          103.881184,
          103.881419,
          103.881906,
          103.882873,
          103.883317,
          103.884672,
          103.885181,
          103.886471,
          103.887806,
          103.88827,
          103.888756,
          103.890069,
          103.890926,
          103.891285,
          103.891539,
          103.891869,
          103.892538,
          103.893482,
          103.891869,
          103.890797,
          103.890231,
          103.890218,
          103.890069,
          103.88974,
          103.88827,
          103.887937,
          103.886471,
          103.886422,
          103.885694,
          103.884788,
          103.884672,
          103.884309,
          103.882873,
          103.882383,
          103.881074,
          103.880855,
          103.880763,
          103.879773,
          103.879815,
          103.87964,
          103.879274,
          103.878402,
          103.877475,
          103.876328,
          103.875676,
          103.875384,
          103.874638,
          103.874261,
          103.873877,
          103.873008,
          103.872078,
          103.871635,
          103.870278,
          103.86905,
          103.868479,
          103.867211,
          103.86668,
          103.86633,
          103.866274,
          103.86668,
          103.866902,
          103.86686,
          103.86668,
          103.866373,
          103.866345,
          103.866231,
          103.864881,
          103.864571,
          103.864459,
          103.864112,
          103.863745,
          103.863987,
          103.864265,
          103.864881,
          103.865192,
          103.865314,
          103.864881,
          103.863626,
          103.863082,
          103.862057,
          103.861283,
          103.860643,
          103.860841,
          103.861283,
          103.861533,
          103.861535,
          103.862237,
          103.862447,
          103.861316,
          103.861376,
          103.861283,
          103.86106,
          103.859483,
          103.858241,
          103.857684,
          103.857034,
          103.855885,
          103.854879,
          103.854086,
          103.853067,
          103.852287,
          103.850944,
          103.850488,
          103.848954,
          103.848688,
          103.848584,
          103.846889,
          103.846792,
          103.846098,
          103.845241,
          103.84509,
          103.844033,
          103.843291,
          103.843166,
          103.841492,
          103.839979,
          103.839692,
          103.838809,
          103.838783,
          103.838284,
          103.837893,
          103.837672,
          103.836094,
          103.834983,
          103.834465,
          103.834403,
          103.834295,
          103.834055,
          103.832496,
          103.832338,
          103.832123,
          103.832189,
          103.832188,
          103.831742,
          103.831253,
          103.831273,
          103.831483,
          103.83238,
          103.832422,
          103.831392,
          103.830697,
          103.829902,
          103.828932,
          103.829304,
          103.828897,
          103.82792,
          103.827098,
          103.826639,
          103.826351,
          103.825669,
          103.825299,
          103.824453,
          103.8235,
          103.823054,
          103.821701,
          103.820473,
          103.819902,
          103.818839,
          103.81881,
          103.818568,
          103.818102,
          103.817832,
          103.817883,
          103.81787,
          103.817759,
          103.817037,
          103.816303,
          103.815631,
          103.814504,
          103.814272,
          103.812705,
          103.81148,
          103.810906,
          103.809797,
          103.81019,
          103.810009,
          103.809106,
          103.808317,
          103.80766,
          103.807442,
          103.807307,
          103.806191,
          103.805508,
          103.804203,
          103.803709,
          103.802672,
          103.803212,
          103.803709,
          103.804888,
          103.805508,
          103.805967,
          103.806479,
          103.806752,
          103.807307,
          103.808446,
          103.809106,
          103.810725,
          103.810906,
          103.81153,
          103.811323,
          103.811347,
          103.812252,
          103.812416,
          103.812705,
          103.813428,
          103.814394,
          103.813777,
          103.814504,
          103.815754,
          103.816303,
          103.816764,
          103.818102,
          103.818344,
          103.819902,
          103.82047,
          103.820289,
          103.820373,
          103.820539,
          103.820523,
          103.821701,
          103.821708,
          103.821712,
          103.821769,
          103.821929,
          103.822421,
          103.822086,
          103.821701,
          103.820867,
          103.819902,
          103.818503,
          103.818505,
          103.818593,
          103.819296,
          103.819902,
          103.819929,
          103.819942,
          103.819902,
          103.819297,
          103.81854,
          103.819147,
          103.819372,
          103.818324,
          103.818102,
          103.818004,
          103.817985,
          103.817713,
          103.817426
         ],
         "marker": {
          "size": 0
         },
         "mode": "lines",
         "name": "Isochrone 1.371463188, 103.8365678",
         "text": [
          "MAYFLOWER MRT STATION"
         ],
         "type": "scattermapbox",
         "uid": "dd1192a2-e85a-46ad-94e2-9cec17b37461"
        }
       ],
       "layout": {
        "clickmode": "event+select",
        "hovermode": "closest",
        "mapbox": {
         "center": {
          "lat": 1.293657725,
          "lon": 103.8550812
         },
         "style": "carto-positron",
         "zoom": 12
        },
        "showlegend": false,
        "template": {
         "data": {
          "bar": [
           {
            "error_x": {
             "color": "#2a3f5f"
            },
            "error_y": {
             "color": "#2a3f5f"
            },
            "marker": {
             "line": {
              "color": "#E5ECF6",
              "width": 0.5
             },
             "pattern": {
              "fillmode": "overlay",
              "size": 10,
              "solidity": 0.2
             }
            },
            "type": "bar"
           }
          ],
          "barpolar": [
           {
            "marker": {
             "line": {
              "color": "#E5ECF6",
              "width": 0.5
             },
             "pattern": {
              "fillmode": "overlay",
              "size": 10,
              "solidity": 0.2
             }
            },
            "type": "barpolar"
           }
          ],
          "carpet": [
           {
            "aaxis": {
             "endlinecolor": "#2a3f5f",
             "gridcolor": "white",
             "linecolor": "white",
             "minorgridcolor": "white",
             "startlinecolor": "#2a3f5f"
            },
            "baxis": {
             "endlinecolor": "#2a3f5f",
             "gridcolor": "white",
             "linecolor": "white",
             "minorgridcolor": "white",
             "startlinecolor": "#2a3f5f"
            },
            "type": "carpet"
           }
          ],
          "choropleth": [
           {
            "colorbar": {
             "outlinewidth": 0,
             "ticks": ""
            },
            "type": "choropleth"
           }
          ],
          "contour": [
           {
            "colorbar": {
             "outlinewidth": 0,
             "ticks": ""
            },
            "colorscale": [
             [
              0,
              "#0d0887"
             ],
             [
              0.1111111111111111,
              "#46039f"
             ],
             [
              0.2222222222222222,
              "#7201a8"
             ],
             [
              0.3333333333333333,
              "#9c179e"
             ],
             [
              0.4444444444444444,
              "#bd3786"
             ],
             [
              0.5555555555555556,
              "#d8576b"
             ],
             [
              0.6666666666666666,
              "#ed7953"
             ],
             [
              0.7777777777777778,
              "#fb9f3a"
             ],
             [
              0.8888888888888888,
              "#fdca26"
             ],
             [
              1,
              "#f0f921"
             ]
            ],
            "type": "contour"
           }
          ],
          "contourcarpet": [
           {
            "colorbar": {
             "outlinewidth": 0,
             "ticks": ""
            },
            "type": "contourcarpet"
           }
          ],
          "heatmap": [
           {
            "colorbar": {
             "outlinewidth": 0,
             "ticks": ""
            },
            "colorscale": [
             [
              0,
              "#0d0887"
             ],
             [
              0.1111111111111111,
              "#46039f"
             ],
             [
              0.2222222222222222,
              "#7201a8"
             ],
             [
              0.3333333333333333,
              "#9c179e"
             ],
             [
              0.4444444444444444,
              "#bd3786"
             ],
             [
              0.5555555555555556,
              "#d8576b"
             ],
             [
              0.6666666666666666,
              "#ed7953"
             ],
             [
              0.7777777777777778,
              "#fb9f3a"
             ],
             [
              0.8888888888888888,
              "#fdca26"
             ],
             [
              1,
              "#f0f921"
             ]
            ],
            "type": "heatmap"
           }
          ],
          "heatmapgl": [
           {
            "colorbar": {
             "outlinewidth": 0,
             "ticks": ""
            },
            "colorscale": [
             [
              0,
              "#0d0887"
             ],
             [
              0.1111111111111111,
              "#46039f"
             ],
             [
              0.2222222222222222,
              "#7201a8"
             ],
             [
              0.3333333333333333,
              "#9c179e"
             ],
             [
              0.4444444444444444,
              "#bd3786"
             ],
             [
              0.5555555555555556,
              "#d8576b"
             ],
             [
              0.6666666666666666,
              "#ed7953"
             ],
             [
              0.7777777777777778,
              "#fb9f3a"
             ],
             [
              0.8888888888888888,
              "#fdca26"
             ],
             [
              1,
              "#f0f921"
             ]
            ],
            "type": "heatmapgl"
           }
          ],
          "histogram": [
           {
            "marker": {
             "pattern": {
              "fillmode": "overlay",
              "size": 10,
              "solidity": 0.2
             }
            },
            "type": "histogram"
           }
          ],
          "histogram2d": [
           {
            "colorbar": {
             "outlinewidth": 0,
             "ticks": ""
            },
            "colorscale": [
             [
              0,
              "#0d0887"
             ],
             [
              0.1111111111111111,
              "#46039f"
             ],
             [
              0.2222222222222222,
              "#7201a8"
             ],
             [
              0.3333333333333333,
              "#9c179e"
             ],
             [
              0.4444444444444444,
              "#bd3786"
             ],
             [
              0.5555555555555556,
              "#d8576b"
             ],
             [
              0.6666666666666666,
              "#ed7953"
             ],
             [
              0.7777777777777778,
              "#fb9f3a"
             ],
             [
              0.8888888888888888,
              "#fdca26"
             ],
             [
              1,
              "#f0f921"
             ]
            ],
            "type": "histogram2d"
           }
          ],
          "histogram2dcontour": [
           {
            "colorbar": {
             "outlinewidth": 0,
             "ticks": ""
            },
            "colorscale": [
             [
              0,
              "#0d0887"
             ],
             [
              0.1111111111111111,
              "#46039f"
             ],
             [
              0.2222222222222222,
              "#7201a8"
             ],
             [
              0.3333333333333333,
              "#9c179e"
             ],
             [
              0.4444444444444444,
              "#bd3786"
             ],
             [
              0.5555555555555556,
              "#d8576b"
             ],
             [
              0.6666666666666666,
              "#ed7953"
             ],
             [
              0.7777777777777778,
              "#fb9f3a"
             ],
             [
              0.8888888888888888,
              "#fdca26"
             ],
             [
              1,
              "#f0f921"
             ]
            ],
            "type": "histogram2dcontour"
           }
          ],
          "mesh3d": [
           {
            "colorbar": {
             "outlinewidth": 0,
             "ticks": ""
            },
            "type": "mesh3d"
           }
          ],
          "parcoords": [
           {
            "line": {
             "colorbar": {
              "outlinewidth": 0,
              "ticks": ""
             }
            },
            "type": "parcoords"
           }
          ],
          "pie": [
           {
            "automargin": true,
            "type": "pie"
           }
          ],
          "scatter": [
           {
            "fillpattern": {
             "fillmode": "overlay",
             "size": 10,
             "solidity": 0.2
            },
            "type": "scatter"
           }
          ],
          "scatter3d": [
           {
            "line": {
             "colorbar": {
              "outlinewidth": 0,
              "ticks": ""
             }
            },
            "marker": {
             "colorbar": {
              "outlinewidth": 0,
              "ticks": ""
             }
            },
            "type": "scatter3d"
           }
          ],
          "scattercarpet": [
           {
            "marker": {
             "colorbar": {
              "outlinewidth": 0,
              "ticks": ""
             }
            },
            "type": "scattercarpet"
           }
          ],
          "scattergeo": [
           {
            "marker": {
             "colorbar": {
              "outlinewidth": 0,
              "ticks": ""
             }
            },
            "type": "scattergeo"
           }
          ],
          "scattergl": [
           {
            "marker": {
             "colorbar": {
              "outlinewidth": 0,
              "ticks": ""
             }
            },
            "type": "scattergl"
           }
          ],
          "scattermapbox": [
           {
            "marker": {
             "colorbar": {
              "outlinewidth": 0,
              "ticks": ""
             }
            },
            "type": "scattermapbox"
           }
          ],
          "scatterpolar": [
           {
            "marker": {
             "colorbar": {
              "outlinewidth": 0,
              "ticks": ""
             }
            },
            "type": "scatterpolar"
           }
          ],
          "scatterpolargl": [
           {
            "marker": {
             "colorbar": {
              "outlinewidth": 0,
              "ticks": ""
             }
            },
            "type": "scatterpolargl"
           }
          ],
          "scatterternary": [
           {
            "marker": {
             "colorbar": {
              "outlinewidth": 0,
              "ticks": ""
             }
            },
            "type": "scatterternary"
           }
          ],
          "surface": [
           {
            "colorbar": {
             "outlinewidth": 0,
             "ticks": ""
            },
            "colorscale": [
             [
              0,
              "#0d0887"
             ],
             [
              0.1111111111111111,
              "#46039f"
             ],
             [
              0.2222222222222222,
              "#7201a8"
             ],
             [
              0.3333333333333333,
              "#9c179e"
             ],
             [
              0.4444444444444444,
              "#bd3786"
             ],
             [
              0.5555555555555556,
              "#d8576b"
             ],
             [
              0.6666666666666666,
              "#ed7953"
             ],
             [
              0.7777777777777778,
              "#fb9f3a"
             ],
             [
              0.8888888888888888,
              "#fdca26"
             ],
             [
              1,
              "#f0f921"
             ]
            ],
            "type": "surface"
           }
          ],
          "table": [
           {
            "cells": {
             "fill": {
              "color": "#EBF0F8"
             },
             "line": {
              "color": "white"
             }
            },
            "header": {
             "fill": {
              "color": "#C8D4E3"
             },
             "line": {
              "color": "white"
             }
            },
            "type": "table"
           }
          ]
         },
         "layout": {
          "annotationdefaults": {
           "arrowcolor": "#2a3f5f",
           "arrowhead": 0,
           "arrowwidth": 1
          },
          "autotypenumbers": "strict",
          "coloraxis": {
           "colorbar": {
            "outlinewidth": 0,
            "ticks": ""
           }
          },
          "colorscale": {
           "diverging": [
            [
             0,
             "#8e0152"
            ],
            [
             0.1,
             "#c51b7d"
            ],
            [
             0.2,
             "#de77ae"
            ],
            [
             0.3,
             "#f1b6da"
            ],
            [
             0.4,
             "#fde0ef"
            ],
            [
             0.5,
             "#f7f7f7"
            ],
            [
             0.6,
             "#e6f5d0"
            ],
            [
             0.7,
             "#b8e186"
            ],
            [
             0.8,
             "#7fbc41"
            ],
            [
             0.9,
             "#4d9221"
            ],
            [
             1,
             "#276419"
            ]
           ],
           "sequential": [
            [
             0,
             "#0d0887"
            ],
            [
             0.1111111111111111,
             "#46039f"
            ],
            [
             0.2222222222222222,
             "#7201a8"
            ],
            [
             0.3333333333333333,
             "#9c179e"
            ],
            [
             0.4444444444444444,
             "#bd3786"
            ],
            [
             0.5555555555555556,
             "#d8576b"
            ],
            [
             0.6666666666666666,
             "#ed7953"
            ],
            [
             0.7777777777777778,
             "#fb9f3a"
            ],
            [
             0.8888888888888888,
             "#fdca26"
            ],
            [
             1,
             "#f0f921"
            ]
           ],
           "sequentialminus": [
            [
             0,
             "#0d0887"
            ],
            [
             0.1111111111111111,
             "#46039f"
            ],
            [
             0.2222222222222222,
             "#7201a8"
            ],
            [
             0.3333333333333333,
             "#9c179e"
            ],
            [
             0.4444444444444444,
             "#bd3786"
            ],
            [
             0.5555555555555556,
             "#d8576b"
            ],
            [
             0.6666666666666666,
             "#ed7953"
            ],
            [
             0.7777777777777778,
             "#fb9f3a"
            ],
            [
             0.8888888888888888,
             "#fdca26"
            ],
            [
             1,
             "#f0f921"
            ]
           ]
          },
          "colorway": [
           "#636efa",
           "#EF553B",
           "#00cc96",
           "#ab63fa",
           "#FFA15A",
           "#19d3f3",
           "#FF6692",
           "#B6E880",
           "#FF97FF",
           "#FECB52"
          ],
          "font": {
           "color": "#2a3f5f"
          },
          "geo": {
           "bgcolor": "white",
           "lakecolor": "white",
           "landcolor": "#E5ECF6",
           "showlakes": true,
           "showland": true,
           "subunitcolor": "white"
          },
          "hoverlabel": {
           "align": "left"
          },
          "hovermode": "closest",
          "mapbox": {
           "style": "light"
          },
          "paper_bgcolor": "white",
          "plot_bgcolor": "#E5ECF6",
          "polar": {
           "angularaxis": {
            "gridcolor": "white",
            "linecolor": "white",
            "ticks": ""
           },
           "bgcolor": "#E5ECF6",
           "radialaxis": {
            "gridcolor": "white",
            "linecolor": "white",
            "ticks": ""
           }
          },
          "scene": {
           "xaxis": {
            "backgroundcolor": "#E5ECF6",
            "gridcolor": "white",
            "gridwidth": 2,
            "linecolor": "white",
            "showbackground": true,
            "ticks": "",
            "zerolinecolor": "white"
           },
           "yaxis": {
            "backgroundcolor": "#E5ECF6",
            "gridcolor": "white",
            "gridwidth": 2,
            "linecolor": "white",
            "showbackground": true,
            "ticks": "",
            "zerolinecolor": "white"
           },
           "zaxis": {
            "backgroundcolor": "#E5ECF6",
            "gridcolor": "white",
            "gridwidth": 2,
            "linecolor": "white",
            "showbackground": true,
            "ticks": "",
            "zerolinecolor": "white"
           }
          },
          "shapedefaults": {
           "line": {
            "color": "#2a3f5f"
           }
          },
          "ternary": {
           "aaxis": {
            "gridcolor": "white",
            "linecolor": "white",
            "ticks": ""
           },
           "baxis": {
            "gridcolor": "white",
            "linecolor": "white",
            "ticks": ""
           },
           "bgcolor": "#E5ECF6",
           "caxis": {
            "gridcolor": "white",
            "linecolor": "white",
            "ticks": ""
           }
          },
          "title": {
           "x": 0.05
          },
          "xaxis": {
           "automargin": true,
           "gridcolor": "white",
           "linecolor": "white",
           "ticks": "",
           "title": {
            "standoff": 15
           },
           "zerolinecolor": "white",
           "zerolinewidth": 2
          },
          "yaxis": {
           "automargin": true,
           "gridcolor": "white",
           "linecolor": "white",
           "ticks": "",
           "title": {
            "standoff": 15
           },
           "zerolinecolor": "white",
           "zerolinewidth": 2
          }
         }
        }
       }
      }
     },
     "metadata": {},
     "output_type": "display_data"
    }
   ],
   "source": [
    "#Plotting out Isochrone\n",
    "import plotly.graph_objects as go\n",
    "# Create a Plotly figure\n",
    "fig = go.FigureWidget()\n",
    "fig.layout.hovermode = 'closest'\n",
    "default_linewidth = 2\n",
    "highlighted_linewidth = 3\n",
    "color_sequence = ['blue', 'green', 'red', 'orange', 'purple', 'yellow']\n",
    "\n",
    "# Fetch and add isochrones for each MRT station\n",
    "for index, (lat, lon) in enumerate(coords):\n",
    "    mrt_name = mrt_df[(mrt_df['Latitude'] == lat) & (mrt_df['Longitude'] == lon)]['MRT.Name'].iloc[0]\n",
    "    # Add isochrone as a trace\n",
    "    color = color_sequence[index%len(color_sequence)]\n",
    "    fig.add_trace(go.Scattermapbox(\n",
    "        mode=\"markers\",\n",
    "        lon=[lon],\n",
    "        lat=[lat],\n",
    "        text = [mrt_name],\n",
    "        marker=dict(size=10,color=color),\n",
    "        selected=go.scattermapbox.Selected(marker = {\"size\":25}),\n",
    "        unselected=go.scattermapbox.Unselected(marker = {\"color\":\"grey\", \"size\":5})\n",
    "    ))\n",
    "\n",
    "x = fetch_isochrone(1.298655224, 103.8461942, modes = \"SUBWAY\", cutoff=\"50M\")\n",
    "features = x['features'][0]['geometry']['coordinates'][0][0]\n",
    "# Assuming coordinates are in [lon, lat] format\n",
    "lon_coords = [coord[0] for coord in features]\n",
    "lat_coords = [coord[1] for coord in features]\n",
    "fig.add_trace(go.Scattermapbox(\n",
    "                    mode=\"lines\",\n",
    "                    lon=lon_coords,\n",
    "                    lat=lat_coords,\n",
    "                    name=f\"Isochrone {lat}, {lon}\",\n",
    "                    line=dict(width=1, color=color),\n",
    "                    fill = \"toself\",\n",
    "                    marker=dict(size=0),\n",
    "                    text=[mrt_name],  # Set text for hover\n",
    "                    hoverinfo='text'\n",
    "                ))\n",
    "\n",
    "# Define layout for the map\n",
    "fig.update_layout(\n",
    "    clickmode='event+select',\n",
    "    mapbox_style=\"carto-positron\",\n",
    "    mapbox_zoom=12,\n",
    "    mapbox_center={\"lat\": coords[0][0], \"lon\": coords[0][1]},\n",
    "    showlegend = False\n",
    ")\n",
    "fig.show()"
   ]
  },
  {
   "cell_type": "markdown",
   "metadata": {},
   "source": [
    "DATA NEEDED:\n",
    "\n",
    "Isochrones: 10min-60min, 1min interval (ideal) else 5min interval\n",
    "\n",
    "1. BICYCLE\n",
    "2. BUS+ WALK\n",
    "3. RAIL+ WALK\n",
    "4. TRANSIT + WALK\n",
    "5. CAR"
   ]
  },
  {
   "cell_type": "markdown",
   "metadata": {},
   "source": [
    "Set up function for saving all isochrones by transport mode"
   ]
  },
  {
   "cell_type": "code",
   "execution_count": 12,
   "metadata": {},
   "outputs": [],
   "source": [
    "def fetch_all_isochrones(df, mode, interval):\n",
    "    \"\"\"Fetch and append bicycle isochrones for each MRT station and specified time intervals.\"\"\"\n",
    "    # Define the cutoff intervals (in seconds) - lets us choose 1, 5, or 10 minute intervals later on\n",
    "    cutoff_intervals = [f\"{x}M\" for x in range(10, 61, interval)]\n",
    "    \n",
    "    # Iterate over the cutoff intervals\n",
    "    for interval in cutoff_intervals:\n",
    "        # Define a column name for the interval\n",
    "        column_name = f\"isochrone_{interval}\"\n",
    "        # Initialize the column with empty lists\n",
    "        df[column_name] = None\n",
    "        \n",
    "        # Iterate over each row in the DataFrame\n",
    "        for index, row in df.iterrows():\n",
    "            # Fetch the isochrone GeoJSON for the current MRT station and cutoff interval\n",
    "            isochrone_geojson = fetch_isochrone(row['Latitude'], row['Longitude'], modes=mode, cutoff=interval )\n",
    "            \n",
    "            # Check if the response is not None\n",
    "            if isochrone_geojson:\n",
    "                # Extract the coordinates of the first feature (assuming single isochrone feature per request)\n",
    "                if 'features' in isochrone_geojson and len(isochrone_geojson['features']) > 0:\n",
    "                    features = isochrone_geojson['features'][0]['geometry']['coordinates'][0][0]\n",
    "                    # Assign the extracted features to the corresponding DataFrame cell\n",
    "                    df.at[index, column_name] = features\n",
    "                print(f\"Fetched isochrone for interval {interval}, MRT: {row['MRT.Name']}\")\n",
    "            else:\n",
    "                print(f\"Failed to fetch isochrone for interval {interval}, MRT: {row['MRT.Name']}\")\n",
    "    \n",
    "    return df\n",
    "\n",
    "# Note: Ensure that mrt_df already exists and contains 'MRT.Name', 'Latitude', and 'Longitude' columns\n"
   ]
  },
  {
   "cell_type": "code",
   "execution_count": null,
   "metadata": {},
   "outputs": [],
   "source": [
    "# Apply the function to the mrt_df DataFrame\n",
    "# bicycle_isochrones = mrt_df.copy()\n",
    "# bicycle_isochrones = fetch_all_isochrones(bicycle_isochrones, interval=5)\n",
    "# bicycle_isochrones.to_json('../../data/Isochrone_data/bicycle_isochrones.json', orient='records', lines=True, force_ascii=False)"
   ]
  },
  {
   "cell_type": "code",
   "execution_count": 13,
   "metadata": {},
   "outputs": [
    {
     "name": "stdout",
     "output_type": "stream",
     "text": [
      "Fetched isochrone for interval 10M, MRT: ESPLANADE MRT STATION\n",
      "Fetched isochrone for interval 10M, MRT: PAYA LEBAR MRT STATION\n",
      "Fetched isochrone for interval 10M, MRT: DHOBY GHAUT MRT STATION\n",
      "Fetched isochrone for interval 10M, MRT: DAKOTA MRT STATION\n",
      "Fetched isochrone for interval 10M, MRT: LAVENDER MRT STATION\n",
      "Fetched isochrone for interval 10M, MRT: RENJONG LRT STATION\n",
      "Fetched isochrone for interval 10M, MRT: DOVER MRT STATION\n",
      "Fetched isochrone for interval 10M, MRT: HOUGANG MRT STATION\n",
      "Fetched isochrone for interval 10M, MRT: PHOENIX LRT STATION\n",
      "Fetched isochrone for interval 10M, MRT: ALJUNIED MRT STATION\n",
      "Fetched isochrone for interval 10M, MRT: COVE LRT STATION\n",
      "Fetched isochrone for interval 10M, MRT: PASIR RIS MRT STATION\n",
      "Fetched isochrone for interval 10M, MRT: ADMIRALTY MRT STATION\n",
      "Fetched isochrone for interval 10M, MRT: KEMBANGAN MRT STATION\n",
      "Fetched isochrone for interval 10M, MRT: PUNGGOL POINT LRT STATION\n",
      "Fetched isochrone for interval 10M, MRT: MARSILING MRT STATION\n",
      "Fetched isochrone for interval 10M, MRT: COMPASSVALE LRT STATION\n",
      "Fetched isochrone for interval 10M, MRT: KHATIB MRT STATION\n",
      "Fetched isochrone for interval 10M, MRT: LAYAR LRT STATION\n",
      "Fetched isochrone for interval 10M, MRT: TAMPINES WEST MRT STATION\n",
      "Fetched isochrone for interval 10M, MRT: TAMPINES MRT STATION\n",
      "Fetched isochrone for interval 10M, MRT: TAMPINES EAST MRT STATION\n",
      "Fetched isochrone for interval 10M, MRT: TAI SENG MRT STATION\n",
      "Fetched isochrone for interval 10M, MRT: SUMANG LRT STATION\n",
      "Fetched isochrone for interval 10M, MRT: STEVENS MRT STATION\n",
      "Fetched isochrone for interval 10M, MRT: STADIUM MRT STATION\n",
      "Fetched isochrone for interval 10M, MRT: SIXTH AVENUE MRT STATION\n",
      "Fetched isochrone for interval 10M, MRT: SOUTH VIEW LRT STATION\n",
      "Fetched isochrone for interval 10M, MRT: SOO TECK LRT STATION\n",
      "Fetched isochrone for interval 10M, MRT: SOMERSET MRT STATION\n",
      "Fetched isochrone for interval 10M, MRT: SIMEI MRT STATION\n",
      "Fetched isochrone for interval 10M, MRT: SERANGOON MRT STATION\n",
      "Fetched isochrone for interval 10M, MRT: SENGKANG MRT STATION\n",
      "Fetched isochrone for interval 10M, MRT: BRADDELL MRT STATION\n",
      "Fetched isochrone for interval 10M, MRT: NOVENA MRT STATION\n",
      "Fetched isochrone for interval 10M, MRT: FARRER PARK MRT STATION\n",
      "Fetched isochrone for interval 10M, MRT: BEDOK MRT STATION\n",
      "Fetched isochrone for interval 10M, MRT: REDHILL MRT STATION\n",
      "Fetched isochrone for interval 10M, MRT: CHANGI AIRPORT MRT STATION\n",
      "Fetched isochrone for interval 10M, MRT: CORAL EDGE LRT STATION\n",
      "Fetched isochrone for interval 10M, MRT: CLEMENTI MRT STATION\n",
      "Fetched isochrone for interval 10M, MRT: BUKIT BATOK MRT STATION\n",
      "Fetched isochrone for interval 10M, MRT: OASIS LRT STATION\n",
      "Fetched isochrone for interval 10M, MRT: NIBONG LRT STATION\n",
      "Fetched isochrone for interval 10M, MRT: MERIDIAN LRT STATION\n",
      "Fetched isochrone for interval 10M, MRT: BUKIT GOMBAK MRT STATION\n",
      "Fetched isochrone for interval 10M, MRT: EUNOS MRT STATION\n",
      "Fetched isochrone for interval 10M, MRT: CHINESE GARDEN MRT STATION\n",
      "Fetched isochrone for interval 10M, MRT: KADALOOR LRT STATION\n",
      "Fetched isochrone for interval 10M, MRT: CHENG LIM LRT STATION\n",
      "Fetched isochrone for interval 10M, MRT: SAM KEE LRT STATION\n",
      "Fetched isochrone for interval 10M, MRT: KRANJI MRT STATION\n",
      "Fetched isochrone for interval 10M, MRT: ANG MO KIO MRT STATION\n",
      "Fetched isochrone for interval 10M, MRT: RIVIERA LRT STATION\n",
      "Fetched isochrone for interval 10M, MRT: BANGKIT LRT STATION\n",
      "Fetched isochrone for interval 10M, MRT: PASIR PANJANG MRT STATION\n",
      "Fetched isochrone for interval 10M, MRT: HOLLAND VILLAGE MRT STATION\n",
      "Fetched isochrone for interval 10M, MRT: LABRADOR PARK MRT STATION\n",
      "Fetched isochrone for interval 10M, MRT: BOTANIC GARDENS MRT STATION\n",
      "Fetched isochrone for interval 10M, MRT: ONE-NORTH MRT STATION\n",
      "Fetched isochrone for interval 10M, MRT: KENT RIDGE MRT STATION\n",
      "Fetched isochrone for interval 10M, MRT: HAW PAR VILLA MRT STATION\n",
      "Fetched isochrone for interval 10M, MRT: MARINA BAY MRT STATION\n",
      "Fetched isochrone for interval 10M, MRT: KING ALBERT PARK MRT STATION\n",
      "Fetched isochrone for interval 10M, MRT: LITTLE INDIA MRT STATION\n",
      "Fetched isochrone for interval 10M, MRT: ROCHOR MRT STATION\n",
      "Fetched isochrone for interval 10M, MRT: SENJA LRT STATION\n",
      "Fetched isochrone for interval 10M, MRT: MOUNTBATTEN MRT STATION\n",
      "Fetched isochrone for interval 10M, MRT: CHOA CHU KANG MRT STATION\n",
      "Fetched isochrone for interval 10M, MRT: BOON KENG MRT STATION\n",
      "Fetched isochrone for interval 10M, MRT: BARTLEY MRT STATION\n",
      "Fetched isochrone for interval 10M, MRT: SEGAR LRT STATION\n",
      "Fetched isochrone for interval 10M, MRT: HILLVIEW MRT STATION\n",
      "Fetched isochrone for interval 10M, MRT: BEAUTY WORLD MRT STATION\n",
      "Fetched isochrone for interval 10M, MRT: BUKIT PANJANG MRT STATION\n",
      "Fetched isochrone for interval 10M, MRT: CASHEW MRT STATION\n",
      "Fetched isochrone for interval 10M, MRT: JOO KOON MRT STATION\n",
      "Fetched isochrone for interval 10M, MRT: YEW TEE MRT STATION\n",
      "Fetched isochrone for interval 10M, MRT: YISHUN MRT STATION\n",
      "Fetched isochrone for interval 10M, MRT: YIO CHU KANG MRT STATION\n",
      "Fetched isochrone for interval 10M, MRT: WOODLEIGH MRT STATION\n",
      "Fetched isochrone for interval 10M, MRT: WOODLANDS MRT STATION\n",
      "Fetched isochrone for interval 10M, MRT: UPPER CHANGI MRT STATION\n",
      "Fetched isochrone for interval 10M, MRT: TELOK AYER MRT STATION\n",
      "Fetched isochrone for interval 10M, MRT: TONGKANG LRT STATION\n",
      "Fetched isochrone for interval 10M, MRT: UBI MRT STATION\n",
      "Fetched isochrone for interval 10M, MRT: TOA PAYOH MRT STATION\n",
      "Fetched isochrone for interval 10M, MRT: TIONG BAHRU MRT STATION\n",
      "Fetched isochrone for interval 10M, MRT: THANGGAM LRT STATION\n",
      "Fetched isochrone for interval 10M, MRT: PROMENADE MRT STATION\n",
      "Fetched isochrone for interval 10M, MRT: BRAS BASAH MRT STATION\n",
      "Fetched isochrone for interval 10M, MRT: NICOLL HIGHWAY MRT STATION\n",
      "Fetched isochrone for interval 10M, MRT: POTONG PASIR MRT STATION\n",
      "Fetched isochrone for interval 10M, MRT: LAKESIDE MRT STATION\n",
      "Fetched isochrone for interval 10M, MRT: SAMUDERA LRT STATION\n",
      "Fetched isochrone for interval 10M, MRT: RANGGUNG LRT STATION\n",
      "Fetched isochrone for interval 10M, MRT: SEMBAWANG MRT STATION\n",
      "Fetched isochrone for interval 10M, MRT: PUNGGOL LRT STATION\n",
      "Fetched isochrone for interval 10M, MRT: KANGKAR LRT STATION\n",
      "Fetched isochrone for interval 10M, MRT: PIONEER MRT STATION\n",
      "Fetched isochrone for interval 10M, MRT: BUGIS MRT STATION\n",
      "Fetched isochrone for interval 10M, MRT: NEWTON MRT STATION\n",
      "Fetched isochrone for interval 10M, MRT: BUONA VISTA MRT STATION\n",
      "Fetched isochrone for interval 10M, MRT: OUTRAM PARK MRT STATION\n",
      "Fetched isochrone for interval 10M, MRT: CHINATOWN MRT STATION\n",
      "Fetched isochrone for interval 10M, MRT: EXPO MRT STATION\n",
      "Fetched isochrone for interval 10M, MRT: RAFFLES PLACE MRT STATION\n",
      "Fetched isochrone for interval 10M, MRT: TUAS CRESCENT MRT STATION\n",
      "Fetched isochrone for interval 10M, MRT: TUAS LINK MRT STATION\n",
      "Fetched isochrone for interval 10M, MRT: TUAS WEST ROAD MRT STATION\n",
      "Fetched isochrone for interval 10M, MRT: CITY HALL MRT STATION\n",
      "Fetched isochrone for interval 10M, MRT: BISHAN MRT STATION\n",
      "Fetched isochrone for interval 10M, MRT: FERNVALE LRT STATION\n",
      "Fetched isochrone for interval 10M, MRT: PUNGGOL MRT STATION\n",
      "Fetched isochrone for interval 10M, MRT: BUANGKOK MRT STATION\n",
      "Fetched isochrone for interval 10M, MRT: BAKAU LRT STATION\n",
      "Fetched isochrone for interval 10M, MRT: FARMWAY LRT STATION\n",
      "Fetched isochrone for interval 10M, MRT: COMMONWEALTH MRT STATION\n",
      "Fetched isochrone for interval 10M, MRT: KUPANG LRT STATION\n",
      "Fetched isochrone for interval 10M, MRT: DAMAI LRT STATION\n",
      "Fetched isochrone for interval 10M, MRT: QUEENSTOWN MRT STATION\n",
      "Fetched isochrone for interval 10M, MRT: KALLANG MRT STATION\n",
      "Fetched isochrone for interval 10M, MRT: RUMBIA LRT STATION\n",
      "Fetched isochrone for interval 10M, MRT: PETIR LRT STATION\n",
      "Fetched isochrone for interval 10M, MRT: BOON LAY MRT STATION\n",
      "Fetched isochrone for interval 10M, MRT: KEAT HONG LRT STATION\n",
      "Fetched isochrone for interval 10M, MRT: JELAPANG LRT STATION\n",
      "Fetched isochrone for interval 10M, MRT: CHOA CHU KANG LRT STATION\n",
      "Fetched isochrone for interval 10M, MRT: SENGKANG LRT STATION\n",
      "Fetched isochrone for interval 10M, MRT: HARBOURFRONT MRT STATION\n",
      "Fetched isochrone for interval 10M, MRT: PENDING LRT STATION\n",
      "Fetched isochrone for interval 10M, MRT: CLARKE QUAY MRT STATION\n",
      "Fetched isochrone for interval 10M, MRT: BUKIT PANJANG LRT STATION\n",
      "Fetched isochrone for interval 10M, MRT: FAJAR LRT STATION\n",
      "Fetched isochrone for interval 10M, MRT: KOVAN MRT STATION\n",
      "Fetched isochrone for interval 10M, MRT: LORONG CHUAN MRT STATION\n",
      "Fetched isochrone for interval 10M, MRT: MARYMOUNT MRT STATION\n",
      "Fetched isochrone for interval 10M, MRT: CALDECOTT MRT STATION\n",
      "Fetched isochrone for interval 10M, MRT: DOWNTOWN MRT STATION\n",
      "Fetched isochrone for interval 10M, MRT: GEYLANG BAHRU MRT STATION\n",
      "Fetched isochrone for interval 10M, MRT: BENDEMEER MRT STATION\n",
      "Fetched isochrone for interval 10M, MRT: BENCOOLEN MRT STATION\n",
      "Fetched isochrone for interval 10M, MRT: FORT CANNING MRT STATION\n",
      "Fetched isochrone for interval 10M, MRT: KAKI BUKIT MRT STATION\n",
      "Fetched isochrone for interval 10M, MRT: JALAN BESAR MRT STATION\n",
      "Fetched isochrone for interval 10M, MRT: MATTAR MRT STATION\n",
      "Fetched isochrone for interval 10M, MRT: MACPHERSON MRT STATION\n",
      "Fetched isochrone for interval 10M, MRT: BAYFRONT MRT STATION\n",
      "Fetched isochrone for interval 10M, MRT: FARRER ROAD MRT STATION\n",
      "Fetched isochrone for interval 10M, MRT: JURONG EAST MRT STATION\n",
      "Fetched isochrone for interval 10M, MRT: BEDOK NORTH MRT STATION\n",
      "Fetched isochrone for interval 10M, MRT: BEDOK RESERVOIR MRT STATION\n",
      "Fetched isochrone for interval 10M, MRT: ORCHARD MRT STATION\n",
      "Fetched isochrone for interval 10M, MRT: LENTOR MRT STATION\n",
      "Fetched isochrone for interval 10M, MRT: BRIGHT HILL MRT STATION\n",
      "Fetched isochrone for interval 10M, MRT: SPRINGLEAF MRT STATION\n",
      "Fetched isochrone for interval 10M, MRT: MARINA SOUTH PIER MRT STATION\n",
      "Fetched isochrone for interval 10M, MRT: CANBERRA MRT STATION\n",
      "Fetched isochrone for interval 10M, MRT: WOODLANDS SOUTH MRT STATION\n",
      "Fetched isochrone for interval 10M, MRT: WOODLANDS NORTH MRT STATION\n",
      "Fetched isochrone for interval 10M, MRT: GUL CIRCLE MRT STATION\n",
      "Fetched isochrone for interval 10M, MRT: HAVELOCK MRT STATION\n",
      "Fetched isochrone for interval 10M, MRT: NAPIER MRT STATION\n",
      "Fetched isochrone for interval 10M, MRT: SHENTON WAY MRT STATION\n",
      "Fetched isochrone for interval 10M, MRT: GARDENS BY THE BAY MRT STATION\n",
      "Fetched isochrone for interval 10M, MRT: GREAT WORLD MRT STATION\n",
      "Fetched isochrone for interval 10M, MRT: MAXWELL MRT STATION\n",
      "Fetched isochrone for interval 10M, MRT: ORCHARD BOULEVARD MRT STATION\n",
      "Fetched isochrone for interval 10M, MRT: TELOK BLANGAH MRT STATION\n",
      "Fetched isochrone for interval 10M, MRT: TECK WHYE LRT STATION\n",
      "Fetched isochrone for interval 10M, MRT: TANJONG PAGAR MRT STATION\n",
      "Fetched isochrone for interval 10M, MRT: TANAH MERAH MRT STATION\n",
      "Fetched isochrone for interval 10M, MRT: TAN KAH KEE MRT STATION\n",
      "Fetched isochrone for interval 10M, MRT: UPPER THOMSON MRT STATION\n",
      "Fetched isochrone for interval 10M, MRT: MAYFLOWER MRT STATION\n",
      "Fetched isochrone for interval 15M, MRT: ESPLANADE MRT STATION\n",
      "Fetched isochrone for interval 15M, MRT: PAYA LEBAR MRT STATION\n",
      "Fetched isochrone for interval 15M, MRT: DHOBY GHAUT MRT STATION\n",
      "Fetched isochrone for interval 15M, MRT: DAKOTA MRT STATION\n",
      "Fetched isochrone for interval 15M, MRT: LAVENDER MRT STATION\n",
      "Fetched isochrone for interval 15M, MRT: RENJONG LRT STATION\n",
      "Fetched isochrone for interval 15M, MRT: DOVER MRT STATION\n",
      "Fetched isochrone for interval 15M, MRT: HOUGANG MRT STATION\n",
      "Fetched isochrone for interval 15M, MRT: PHOENIX LRT STATION\n",
      "Fetched isochrone for interval 15M, MRT: ALJUNIED MRT STATION\n",
      "Fetched isochrone for interval 15M, MRT: COVE LRT STATION\n",
      "Fetched isochrone for interval 15M, MRT: PASIR RIS MRT STATION\n",
      "Fetched isochrone for interval 15M, MRT: ADMIRALTY MRT STATION\n",
      "Fetched isochrone for interval 15M, MRT: KEMBANGAN MRT STATION\n",
      "Fetched isochrone for interval 15M, MRT: PUNGGOL POINT LRT STATION\n",
      "Fetched isochrone for interval 15M, MRT: MARSILING MRT STATION\n",
      "Fetched isochrone for interval 15M, MRT: COMPASSVALE LRT STATION\n",
      "Fetched isochrone for interval 15M, MRT: KHATIB MRT STATION\n",
      "Fetched isochrone for interval 15M, MRT: LAYAR LRT STATION\n",
      "Fetched isochrone for interval 15M, MRT: TAMPINES WEST MRT STATION\n",
      "Fetched isochrone for interval 15M, MRT: TAMPINES MRT STATION\n",
      "Fetched isochrone for interval 15M, MRT: TAMPINES EAST MRT STATION\n",
      "Fetched isochrone for interval 15M, MRT: TAI SENG MRT STATION\n",
      "Fetched isochrone for interval 15M, MRT: SUMANG LRT STATION\n",
      "Fetched isochrone for interval 15M, MRT: STEVENS MRT STATION\n",
      "Fetched isochrone for interval 15M, MRT: STADIUM MRT STATION\n",
      "Fetched isochrone for interval 15M, MRT: SIXTH AVENUE MRT STATION\n",
      "Fetched isochrone for interval 15M, MRT: SOUTH VIEW LRT STATION\n",
      "Fetched isochrone for interval 15M, MRT: SOO TECK LRT STATION\n",
      "Fetched isochrone for interval 15M, MRT: SOMERSET MRT STATION\n",
      "Fetched isochrone for interval 15M, MRT: SIMEI MRT STATION\n",
      "Fetched isochrone for interval 15M, MRT: SERANGOON MRT STATION\n",
      "Fetched isochrone for interval 15M, MRT: SENGKANG MRT STATION\n",
      "Fetched isochrone for interval 15M, MRT: BRADDELL MRT STATION\n",
      "Fetched isochrone for interval 15M, MRT: NOVENA MRT STATION\n",
      "Fetched isochrone for interval 15M, MRT: FARRER PARK MRT STATION\n",
      "Fetched isochrone for interval 15M, MRT: BEDOK MRT STATION\n",
      "Fetched isochrone for interval 15M, MRT: REDHILL MRT STATION\n",
      "Fetched isochrone for interval 15M, MRT: CHANGI AIRPORT MRT STATION\n",
      "Fetched isochrone for interval 15M, MRT: CORAL EDGE LRT STATION\n",
      "Fetched isochrone for interval 15M, MRT: CLEMENTI MRT STATION\n",
      "Fetched isochrone for interval 15M, MRT: BUKIT BATOK MRT STATION\n",
      "Fetched isochrone for interval 15M, MRT: OASIS LRT STATION\n",
      "Fetched isochrone for interval 15M, MRT: NIBONG LRT STATION\n",
      "Fetched isochrone for interval 15M, MRT: MERIDIAN LRT STATION\n",
      "Fetched isochrone for interval 15M, MRT: BUKIT GOMBAK MRT STATION\n",
      "Fetched isochrone for interval 15M, MRT: EUNOS MRT STATION\n",
      "Fetched isochrone for interval 15M, MRT: CHINESE GARDEN MRT STATION\n",
      "Fetched isochrone for interval 15M, MRT: KADALOOR LRT STATION\n",
      "Fetched isochrone for interval 15M, MRT: CHENG LIM LRT STATION\n",
      "Fetched isochrone for interval 15M, MRT: SAM KEE LRT STATION\n",
      "Fetched isochrone for interval 15M, MRT: KRANJI MRT STATION\n",
      "Fetched isochrone for interval 15M, MRT: ANG MO KIO MRT STATION\n",
      "Fetched isochrone for interval 15M, MRT: RIVIERA LRT STATION\n",
      "Fetched isochrone for interval 15M, MRT: BANGKIT LRT STATION\n",
      "Fetched isochrone for interval 15M, MRT: PASIR PANJANG MRT STATION\n",
      "Fetched isochrone for interval 15M, MRT: HOLLAND VILLAGE MRT STATION\n",
      "Fetched isochrone for interval 15M, MRT: LABRADOR PARK MRT STATION\n",
      "Fetched isochrone for interval 15M, MRT: BOTANIC GARDENS MRT STATION\n",
      "Fetched isochrone for interval 15M, MRT: ONE-NORTH MRT STATION\n",
      "Fetched isochrone for interval 15M, MRT: KENT RIDGE MRT STATION\n",
      "Fetched isochrone for interval 15M, MRT: HAW PAR VILLA MRT STATION\n",
      "Fetched isochrone for interval 15M, MRT: MARINA BAY MRT STATION\n",
      "Fetched isochrone for interval 15M, MRT: KING ALBERT PARK MRT STATION\n",
      "Fetched isochrone for interval 15M, MRT: LITTLE INDIA MRT STATION\n",
      "Fetched isochrone for interval 15M, MRT: ROCHOR MRT STATION\n",
      "Fetched isochrone for interval 15M, MRT: SENJA LRT STATION\n",
      "Fetched isochrone for interval 15M, MRT: MOUNTBATTEN MRT STATION\n",
      "Fetched isochrone for interval 15M, MRT: CHOA CHU KANG MRT STATION\n",
      "Fetched isochrone for interval 15M, MRT: BOON KENG MRT STATION\n",
      "Fetched isochrone for interval 15M, MRT: BARTLEY MRT STATION\n",
      "Fetched isochrone for interval 15M, MRT: SEGAR LRT STATION\n",
      "Fetched isochrone for interval 15M, MRT: HILLVIEW MRT STATION\n",
      "Fetched isochrone for interval 15M, MRT: BEAUTY WORLD MRT STATION\n",
      "Fetched isochrone for interval 15M, MRT: BUKIT PANJANG MRT STATION\n",
      "Fetched isochrone for interval 15M, MRT: CASHEW MRT STATION\n",
      "Fetched isochrone for interval 15M, MRT: JOO KOON MRT STATION\n",
      "Fetched isochrone for interval 15M, MRT: YEW TEE MRT STATION\n",
      "Fetched isochrone for interval 15M, MRT: YISHUN MRT STATION\n",
      "Fetched isochrone for interval 15M, MRT: YIO CHU KANG MRT STATION\n",
      "Fetched isochrone for interval 15M, MRT: WOODLEIGH MRT STATION\n",
      "Fetched isochrone for interval 15M, MRT: WOODLANDS MRT STATION\n",
      "Fetched isochrone for interval 15M, MRT: UPPER CHANGI MRT STATION\n",
      "Fetched isochrone for interval 15M, MRT: TELOK AYER MRT STATION\n",
      "Fetched isochrone for interval 15M, MRT: TONGKANG LRT STATION\n",
      "Fetched isochrone for interval 15M, MRT: UBI MRT STATION\n",
      "Fetched isochrone for interval 15M, MRT: TOA PAYOH MRT STATION\n",
      "Fetched isochrone for interval 15M, MRT: TIONG BAHRU MRT STATION\n",
      "Fetched isochrone for interval 15M, MRT: THANGGAM LRT STATION\n",
      "Fetched isochrone for interval 15M, MRT: PROMENADE MRT STATION\n",
      "Fetched isochrone for interval 15M, MRT: BRAS BASAH MRT STATION\n",
      "Fetched isochrone for interval 15M, MRT: NICOLL HIGHWAY MRT STATION\n",
      "Fetched isochrone for interval 15M, MRT: POTONG PASIR MRT STATION\n",
      "Fetched isochrone for interval 15M, MRT: LAKESIDE MRT STATION\n",
      "Fetched isochrone for interval 15M, MRT: SAMUDERA LRT STATION\n",
      "Fetched isochrone for interval 15M, MRT: RANGGUNG LRT STATION\n",
      "Fetched isochrone for interval 15M, MRT: SEMBAWANG MRT STATION\n",
      "Fetched isochrone for interval 15M, MRT: PUNGGOL LRT STATION\n",
      "Fetched isochrone for interval 15M, MRT: KANGKAR LRT STATION\n",
      "Fetched isochrone for interval 15M, MRT: PIONEER MRT STATION\n",
      "Fetched isochrone for interval 15M, MRT: BUGIS MRT STATION\n",
      "Fetched isochrone for interval 15M, MRT: NEWTON MRT STATION\n",
      "Fetched isochrone for interval 15M, MRT: BUONA VISTA MRT STATION\n",
      "Fetched isochrone for interval 15M, MRT: OUTRAM PARK MRT STATION\n",
      "Fetched isochrone for interval 15M, MRT: CHINATOWN MRT STATION\n",
      "Fetched isochrone for interval 15M, MRT: EXPO MRT STATION\n",
      "Fetched isochrone for interval 15M, MRT: RAFFLES PLACE MRT STATION\n",
      "Fetched isochrone for interval 15M, MRT: TUAS CRESCENT MRT STATION\n",
      "Fetched isochrone for interval 15M, MRT: TUAS LINK MRT STATION\n",
      "Fetched isochrone for interval 15M, MRT: TUAS WEST ROAD MRT STATION\n",
      "Fetched isochrone for interval 15M, MRT: CITY HALL MRT STATION\n",
      "Fetched isochrone for interval 15M, MRT: BISHAN MRT STATION\n",
      "Fetched isochrone for interval 15M, MRT: FERNVALE LRT STATION\n",
      "Fetched isochrone for interval 15M, MRT: PUNGGOL MRT STATION\n",
      "Fetched isochrone for interval 15M, MRT: BUANGKOK MRT STATION\n",
      "Fetched isochrone for interval 15M, MRT: BAKAU LRT STATION\n",
      "Fetched isochrone for interval 15M, MRT: FARMWAY LRT STATION\n",
      "Fetched isochrone for interval 15M, MRT: COMMONWEALTH MRT STATION\n",
      "Fetched isochrone for interval 15M, MRT: KUPANG LRT STATION\n",
      "Fetched isochrone for interval 15M, MRT: DAMAI LRT STATION\n",
      "Fetched isochrone for interval 15M, MRT: QUEENSTOWN MRT STATION\n",
      "Fetched isochrone for interval 15M, MRT: KALLANG MRT STATION\n",
      "Fetched isochrone for interval 15M, MRT: RUMBIA LRT STATION\n",
      "Fetched isochrone for interval 15M, MRT: PETIR LRT STATION\n",
      "Fetched isochrone for interval 15M, MRT: BOON LAY MRT STATION\n",
      "Fetched isochrone for interval 15M, MRT: KEAT HONG LRT STATION\n",
      "Fetched isochrone for interval 15M, MRT: JELAPANG LRT STATION\n",
      "Fetched isochrone for interval 15M, MRT: CHOA CHU KANG LRT STATION\n",
      "Fetched isochrone for interval 15M, MRT: SENGKANG LRT STATION\n",
      "Fetched isochrone for interval 15M, MRT: HARBOURFRONT MRT STATION\n",
      "Fetched isochrone for interval 15M, MRT: PENDING LRT STATION\n",
      "Fetched isochrone for interval 15M, MRT: CLARKE QUAY MRT STATION\n",
      "Fetched isochrone for interval 15M, MRT: BUKIT PANJANG LRT STATION\n",
      "Fetched isochrone for interval 15M, MRT: FAJAR LRT STATION\n",
      "Fetched isochrone for interval 15M, MRT: KOVAN MRT STATION\n",
      "Fetched isochrone for interval 15M, MRT: LORONG CHUAN MRT STATION\n",
      "Fetched isochrone for interval 15M, MRT: MARYMOUNT MRT STATION\n",
      "Fetched isochrone for interval 15M, MRT: CALDECOTT MRT STATION\n",
      "Fetched isochrone for interval 15M, MRT: DOWNTOWN MRT STATION\n",
      "Fetched isochrone for interval 15M, MRT: GEYLANG BAHRU MRT STATION\n",
      "Fetched isochrone for interval 15M, MRT: BENDEMEER MRT STATION\n",
      "Fetched isochrone for interval 15M, MRT: BENCOOLEN MRT STATION\n",
      "Fetched isochrone for interval 15M, MRT: FORT CANNING MRT STATION\n",
      "Fetched isochrone for interval 15M, MRT: KAKI BUKIT MRT STATION\n",
      "Fetched isochrone for interval 15M, MRT: JALAN BESAR MRT STATION\n",
      "Fetched isochrone for interval 15M, MRT: MATTAR MRT STATION\n",
      "Fetched isochrone for interval 15M, MRT: MACPHERSON MRT STATION\n",
      "Fetched isochrone for interval 15M, MRT: BAYFRONT MRT STATION\n",
      "Fetched isochrone for interval 15M, MRT: FARRER ROAD MRT STATION\n",
      "Fetched isochrone for interval 15M, MRT: JURONG EAST MRT STATION\n",
      "Fetched isochrone for interval 15M, MRT: BEDOK NORTH MRT STATION\n",
      "Fetched isochrone for interval 15M, MRT: BEDOK RESERVOIR MRT STATION\n",
      "Fetched isochrone for interval 15M, MRT: ORCHARD MRT STATION\n",
      "Fetched isochrone for interval 15M, MRT: LENTOR MRT STATION\n",
      "Fetched isochrone for interval 15M, MRT: BRIGHT HILL MRT STATION\n",
      "Fetched isochrone for interval 15M, MRT: SPRINGLEAF MRT STATION\n",
      "Fetched isochrone for interval 15M, MRT: MARINA SOUTH PIER MRT STATION\n",
      "Fetched isochrone for interval 15M, MRT: CANBERRA MRT STATION\n",
      "Fetched isochrone for interval 15M, MRT: WOODLANDS SOUTH MRT STATION\n",
      "Fetched isochrone for interval 15M, MRT: WOODLANDS NORTH MRT STATION\n",
      "Fetched isochrone for interval 15M, MRT: GUL CIRCLE MRT STATION\n",
      "Fetched isochrone for interval 15M, MRT: HAVELOCK MRT STATION\n",
      "Fetched isochrone for interval 15M, MRT: NAPIER MRT STATION\n",
      "Fetched isochrone for interval 15M, MRT: SHENTON WAY MRT STATION\n",
      "Fetched isochrone for interval 15M, MRT: GARDENS BY THE BAY MRT STATION\n",
      "Fetched isochrone for interval 15M, MRT: GREAT WORLD MRT STATION\n",
      "Fetched isochrone for interval 15M, MRT: MAXWELL MRT STATION\n",
      "Fetched isochrone for interval 15M, MRT: ORCHARD BOULEVARD MRT STATION\n",
      "Fetched isochrone for interval 15M, MRT: TELOK BLANGAH MRT STATION\n",
      "Fetched isochrone for interval 15M, MRT: TECK WHYE LRT STATION\n",
      "Fetched isochrone for interval 15M, MRT: TANJONG PAGAR MRT STATION\n",
      "Fetched isochrone for interval 15M, MRT: TANAH MERAH MRT STATION\n",
      "Fetched isochrone for interval 15M, MRT: TAN KAH KEE MRT STATION\n",
      "Fetched isochrone for interval 15M, MRT: UPPER THOMSON MRT STATION\n",
      "Fetched isochrone for interval 15M, MRT: MAYFLOWER MRT STATION\n",
      "Fetched isochrone for interval 20M, MRT: ESPLANADE MRT STATION\n",
      "Fetched isochrone for interval 20M, MRT: PAYA LEBAR MRT STATION\n",
      "Fetched isochrone for interval 20M, MRT: DHOBY GHAUT MRT STATION\n",
      "Fetched isochrone for interval 20M, MRT: DAKOTA MRT STATION\n",
      "Fetched isochrone for interval 20M, MRT: LAVENDER MRT STATION\n",
      "Fetched isochrone for interval 20M, MRT: RENJONG LRT STATION\n",
      "Fetched isochrone for interval 20M, MRT: DOVER MRT STATION\n",
      "Fetched isochrone for interval 20M, MRT: HOUGANG MRT STATION\n",
      "Fetched isochrone for interval 20M, MRT: PHOENIX LRT STATION\n",
      "Fetched isochrone for interval 20M, MRT: ALJUNIED MRT STATION\n",
      "Fetched isochrone for interval 20M, MRT: COVE LRT STATION\n",
      "Fetched isochrone for interval 20M, MRT: PASIR RIS MRT STATION\n",
      "Fetched isochrone for interval 20M, MRT: ADMIRALTY MRT STATION\n",
      "Fetched isochrone for interval 20M, MRT: KEMBANGAN MRT STATION\n",
      "Fetched isochrone for interval 20M, MRT: PUNGGOL POINT LRT STATION\n",
      "Fetched isochrone for interval 20M, MRT: MARSILING MRT STATION\n",
      "Fetched isochrone for interval 20M, MRT: COMPASSVALE LRT STATION\n",
      "Fetched isochrone for interval 20M, MRT: KHATIB MRT STATION\n",
      "Fetched isochrone for interval 20M, MRT: LAYAR LRT STATION\n",
      "Fetched isochrone for interval 20M, MRT: TAMPINES WEST MRT STATION\n",
      "Fetched isochrone for interval 20M, MRT: TAMPINES MRT STATION\n",
      "Fetched isochrone for interval 20M, MRT: TAMPINES EAST MRT STATION\n",
      "Fetched isochrone for interval 20M, MRT: TAI SENG MRT STATION\n",
      "Fetched isochrone for interval 20M, MRT: SUMANG LRT STATION\n",
      "Fetched isochrone for interval 20M, MRT: STEVENS MRT STATION\n",
      "Fetched isochrone for interval 20M, MRT: STADIUM MRT STATION\n",
      "Fetched isochrone for interval 20M, MRT: SIXTH AVENUE MRT STATION\n",
      "Fetched isochrone for interval 20M, MRT: SOUTH VIEW LRT STATION\n",
      "Fetched isochrone for interval 20M, MRT: SOO TECK LRT STATION\n",
      "Fetched isochrone for interval 20M, MRT: SOMERSET MRT STATION\n",
      "Fetched isochrone for interval 20M, MRT: SIMEI MRT STATION\n",
      "Fetched isochrone for interval 20M, MRT: SERANGOON MRT STATION\n",
      "Fetched isochrone for interval 20M, MRT: SENGKANG MRT STATION\n",
      "Fetched isochrone for interval 20M, MRT: BRADDELL MRT STATION\n",
      "Fetched isochrone for interval 20M, MRT: NOVENA MRT STATION\n",
      "Fetched isochrone for interval 20M, MRT: FARRER PARK MRT STATION\n",
      "Fetched isochrone for interval 20M, MRT: BEDOK MRT STATION\n",
      "Fetched isochrone for interval 20M, MRT: REDHILL MRT STATION\n",
      "Fetched isochrone for interval 20M, MRT: CHANGI AIRPORT MRT STATION\n",
      "Fetched isochrone for interval 20M, MRT: CORAL EDGE LRT STATION\n",
      "Fetched isochrone for interval 20M, MRT: CLEMENTI MRT STATION\n",
      "Fetched isochrone for interval 20M, MRT: BUKIT BATOK MRT STATION\n",
      "Fetched isochrone for interval 20M, MRT: OASIS LRT STATION\n",
      "Fetched isochrone for interval 20M, MRT: NIBONG LRT STATION\n",
      "Fetched isochrone for interval 20M, MRT: MERIDIAN LRT STATION\n",
      "Fetched isochrone for interval 20M, MRT: BUKIT GOMBAK MRT STATION\n",
      "Fetched isochrone for interval 20M, MRT: EUNOS MRT STATION\n",
      "Fetched isochrone for interval 20M, MRT: CHINESE GARDEN MRT STATION\n",
      "Fetched isochrone for interval 20M, MRT: KADALOOR LRT STATION\n",
      "Fetched isochrone for interval 20M, MRT: CHENG LIM LRT STATION\n",
      "Fetched isochrone for interval 20M, MRT: SAM KEE LRT STATION\n",
      "Fetched isochrone for interval 20M, MRT: KRANJI MRT STATION\n",
      "Fetched isochrone for interval 20M, MRT: ANG MO KIO MRT STATION\n",
      "Fetched isochrone for interval 20M, MRT: RIVIERA LRT STATION\n",
      "Fetched isochrone for interval 20M, MRT: BANGKIT LRT STATION\n",
      "Fetched isochrone for interval 20M, MRT: PASIR PANJANG MRT STATION\n",
      "Fetched isochrone for interval 20M, MRT: HOLLAND VILLAGE MRT STATION\n",
      "Fetched isochrone for interval 20M, MRT: LABRADOR PARK MRT STATION\n",
      "Fetched isochrone for interval 20M, MRT: BOTANIC GARDENS MRT STATION\n",
      "Fetched isochrone for interval 20M, MRT: ONE-NORTH MRT STATION\n",
      "Fetched isochrone for interval 20M, MRT: KENT RIDGE MRT STATION\n",
      "Fetched isochrone for interval 20M, MRT: HAW PAR VILLA MRT STATION\n",
      "Fetched isochrone for interval 20M, MRT: MARINA BAY MRT STATION\n",
      "Fetched isochrone for interval 20M, MRT: KING ALBERT PARK MRT STATION\n",
      "Fetched isochrone for interval 20M, MRT: LITTLE INDIA MRT STATION\n",
      "Fetched isochrone for interval 20M, MRT: ROCHOR MRT STATION\n",
      "Fetched isochrone for interval 20M, MRT: SENJA LRT STATION\n",
      "Fetched isochrone for interval 20M, MRT: MOUNTBATTEN MRT STATION\n",
      "Fetched isochrone for interval 20M, MRT: CHOA CHU KANG MRT STATION\n",
      "Fetched isochrone for interval 20M, MRT: BOON KENG MRT STATION\n",
      "Fetched isochrone for interval 20M, MRT: BARTLEY MRT STATION\n",
      "Fetched isochrone for interval 20M, MRT: SEGAR LRT STATION\n",
      "Fetched isochrone for interval 20M, MRT: HILLVIEW MRT STATION\n",
      "Fetched isochrone for interval 20M, MRT: BEAUTY WORLD MRT STATION\n",
      "Fetched isochrone for interval 20M, MRT: BUKIT PANJANG MRT STATION\n",
      "Fetched isochrone for interval 20M, MRT: CASHEW MRT STATION\n",
      "Fetched isochrone for interval 20M, MRT: JOO KOON MRT STATION\n",
      "Fetched isochrone for interval 20M, MRT: YEW TEE MRT STATION\n",
      "Fetched isochrone for interval 20M, MRT: YISHUN MRT STATION\n",
      "Fetched isochrone for interval 20M, MRT: YIO CHU KANG MRT STATION\n",
      "Fetched isochrone for interval 20M, MRT: WOODLEIGH MRT STATION\n",
      "Fetched isochrone for interval 20M, MRT: WOODLANDS MRT STATION\n",
      "Fetched isochrone for interval 20M, MRT: UPPER CHANGI MRT STATION\n",
      "Fetched isochrone for interval 20M, MRT: TELOK AYER MRT STATION\n",
      "Fetched isochrone for interval 20M, MRT: TONGKANG LRT STATION\n",
      "Fetched isochrone for interval 20M, MRT: UBI MRT STATION\n",
      "Fetched isochrone for interval 20M, MRT: TOA PAYOH MRT STATION\n",
      "Fetched isochrone for interval 20M, MRT: TIONG BAHRU MRT STATION\n",
      "Fetched isochrone for interval 20M, MRT: THANGGAM LRT STATION\n",
      "Fetched isochrone for interval 20M, MRT: PROMENADE MRT STATION\n",
      "Fetched isochrone for interval 20M, MRT: BRAS BASAH MRT STATION\n",
      "Fetched isochrone for interval 20M, MRT: NICOLL HIGHWAY MRT STATION\n",
      "Fetched isochrone for interval 20M, MRT: POTONG PASIR MRT STATION\n",
      "Fetched isochrone for interval 20M, MRT: LAKESIDE MRT STATION\n",
      "Fetched isochrone for interval 20M, MRT: SAMUDERA LRT STATION\n",
      "Fetched isochrone for interval 20M, MRT: RANGGUNG LRT STATION\n",
      "Fetched isochrone for interval 20M, MRT: SEMBAWANG MRT STATION\n",
      "Fetched isochrone for interval 20M, MRT: PUNGGOL LRT STATION\n",
      "Fetched isochrone for interval 20M, MRT: KANGKAR LRT STATION\n",
      "Fetched isochrone for interval 20M, MRT: PIONEER MRT STATION\n",
      "Fetched isochrone for interval 20M, MRT: BUGIS MRT STATION\n",
      "Fetched isochrone for interval 20M, MRT: NEWTON MRT STATION\n",
      "Fetched isochrone for interval 20M, MRT: BUONA VISTA MRT STATION\n",
      "Fetched isochrone for interval 20M, MRT: OUTRAM PARK MRT STATION\n",
      "Fetched isochrone for interval 20M, MRT: CHINATOWN MRT STATION\n",
      "Fetched isochrone for interval 20M, MRT: EXPO MRT STATION\n",
      "Fetched isochrone for interval 20M, MRT: RAFFLES PLACE MRT STATION\n",
      "Fetched isochrone for interval 20M, MRT: TUAS CRESCENT MRT STATION\n",
      "Fetched isochrone for interval 20M, MRT: TUAS LINK MRT STATION\n",
      "Fetched isochrone for interval 20M, MRT: TUAS WEST ROAD MRT STATION\n",
      "Fetched isochrone for interval 20M, MRT: CITY HALL MRT STATION\n",
      "Fetched isochrone for interval 20M, MRT: BISHAN MRT STATION\n",
      "Fetched isochrone for interval 20M, MRT: FERNVALE LRT STATION\n",
      "Fetched isochrone for interval 20M, MRT: PUNGGOL MRT STATION\n",
      "Fetched isochrone for interval 20M, MRT: BUANGKOK MRT STATION\n",
      "Fetched isochrone for interval 20M, MRT: BAKAU LRT STATION\n",
      "Fetched isochrone for interval 20M, MRT: FARMWAY LRT STATION\n",
      "Fetched isochrone for interval 20M, MRT: COMMONWEALTH MRT STATION\n",
      "Fetched isochrone for interval 20M, MRT: KUPANG LRT STATION\n",
      "Fetched isochrone for interval 20M, MRT: DAMAI LRT STATION\n",
      "Fetched isochrone for interval 20M, MRT: QUEENSTOWN MRT STATION\n",
      "Fetched isochrone for interval 20M, MRT: KALLANG MRT STATION\n",
      "Fetched isochrone for interval 20M, MRT: RUMBIA LRT STATION\n",
      "Fetched isochrone for interval 20M, MRT: PETIR LRT STATION\n",
      "Fetched isochrone for interval 20M, MRT: BOON LAY MRT STATION\n",
      "Fetched isochrone for interval 20M, MRT: KEAT HONG LRT STATION\n",
      "Fetched isochrone for interval 20M, MRT: JELAPANG LRT STATION\n",
      "Fetched isochrone for interval 20M, MRT: CHOA CHU KANG LRT STATION\n",
      "Fetched isochrone for interval 20M, MRT: SENGKANG LRT STATION\n",
      "Fetched isochrone for interval 20M, MRT: HARBOURFRONT MRT STATION\n",
      "Fetched isochrone for interval 20M, MRT: PENDING LRT STATION\n",
      "Fetched isochrone for interval 20M, MRT: CLARKE QUAY MRT STATION\n",
      "Fetched isochrone for interval 20M, MRT: BUKIT PANJANG LRT STATION\n",
      "Fetched isochrone for interval 20M, MRT: FAJAR LRT STATION\n",
      "Fetched isochrone for interval 20M, MRT: KOVAN MRT STATION\n",
      "Fetched isochrone for interval 20M, MRT: LORONG CHUAN MRT STATION\n",
      "Fetched isochrone for interval 20M, MRT: MARYMOUNT MRT STATION\n",
      "Fetched isochrone for interval 20M, MRT: CALDECOTT MRT STATION\n",
      "Fetched isochrone for interval 20M, MRT: DOWNTOWN MRT STATION\n",
      "Fetched isochrone for interval 20M, MRT: GEYLANG BAHRU MRT STATION\n",
      "Fetched isochrone for interval 20M, MRT: BENDEMEER MRT STATION\n",
      "Fetched isochrone for interval 20M, MRT: BENCOOLEN MRT STATION\n",
      "Fetched isochrone for interval 20M, MRT: FORT CANNING MRT STATION\n",
      "Fetched isochrone for interval 20M, MRT: KAKI BUKIT MRT STATION\n",
      "Fetched isochrone for interval 20M, MRT: JALAN BESAR MRT STATION\n",
      "Fetched isochrone for interval 20M, MRT: MATTAR MRT STATION\n",
      "Fetched isochrone for interval 20M, MRT: MACPHERSON MRT STATION\n",
      "Fetched isochrone for interval 20M, MRT: BAYFRONT MRT STATION\n",
      "Fetched isochrone for interval 20M, MRT: FARRER ROAD MRT STATION\n",
      "Fetched isochrone for interval 20M, MRT: JURONG EAST MRT STATION\n",
      "Fetched isochrone for interval 20M, MRT: BEDOK NORTH MRT STATION\n",
      "Fetched isochrone for interval 20M, MRT: BEDOK RESERVOIR MRT STATION\n",
      "Fetched isochrone for interval 20M, MRT: ORCHARD MRT STATION\n",
      "Fetched isochrone for interval 20M, MRT: LENTOR MRT STATION\n",
      "Fetched isochrone for interval 20M, MRT: BRIGHT HILL MRT STATION\n",
      "Fetched isochrone for interval 20M, MRT: SPRINGLEAF MRT STATION\n",
      "Fetched isochrone for interval 20M, MRT: MARINA SOUTH PIER MRT STATION\n",
      "Fetched isochrone for interval 20M, MRT: CANBERRA MRT STATION\n",
      "Fetched isochrone for interval 20M, MRT: WOODLANDS SOUTH MRT STATION\n",
      "Fetched isochrone for interval 20M, MRT: WOODLANDS NORTH MRT STATION\n",
      "Fetched isochrone for interval 20M, MRT: GUL CIRCLE MRT STATION\n",
      "Fetched isochrone for interval 20M, MRT: HAVELOCK MRT STATION\n",
      "Fetched isochrone for interval 20M, MRT: NAPIER MRT STATION\n",
      "Fetched isochrone for interval 20M, MRT: SHENTON WAY MRT STATION\n",
      "Fetched isochrone for interval 20M, MRT: GARDENS BY THE BAY MRT STATION\n",
      "Fetched isochrone for interval 20M, MRT: GREAT WORLD MRT STATION\n",
      "Fetched isochrone for interval 20M, MRT: MAXWELL MRT STATION\n",
      "Fetched isochrone for interval 20M, MRT: ORCHARD BOULEVARD MRT STATION\n",
      "Fetched isochrone for interval 20M, MRT: TELOK BLANGAH MRT STATION\n",
      "Fetched isochrone for interval 20M, MRT: TECK WHYE LRT STATION\n",
      "Fetched isochrone for interval 20M, MRT: TANJONG PAGAR MRT STATION\n",
      "Fetched isochrone for interval 20M, MRT: TANAH MERAH MRT STATION\n",
      "Fetched isochrone for interval 20M, MRT: TAN KAH KEE MRT STATION\n",
      "Fetched isochrone for interval 20M, MRT: UPPER THOMSON MRT STATION\n",
      "Fetched isochrone for interval 20M, MRT: MAYFLOWER MRT STATION\n",
      "Fetched isochrone for interval 25M, MRT: ESPLANADE MRT STATION\n",
      "Fetched isochrone for interval 25M, MRT: PAYA LEBAR MRT STATION\n",
      "Fetched isochrone for interval 25M, MRT: DHOBY GHAUT MRT STATION\n",
      "Fetched isochrone for interval 25M, MRT: DAKOTA MRT STATION\n",
      "Fetched isochrone for interval 25M, MRT: LAVENDER MRT STATION\n",
      "Fetched isochrone for interval 25M, MRT: RENJONG LRT STATION\n",
      "Fetched isochrone for interval 25M, MRT: DOVER MRT STATION\n",
      "Fetched isochrone for interval 25M, MRT: HOUGANG MRT STATION\n",
      "Fetched isochrone for interval 25M, MRT: PHOENIX LRT STATION\n",
      "Fetched isochrone for interval 25M, MRT: ALJUNIED MRT STATION\n",
      "Fetched isochrone for interval 25M, MRT: COVE LRT STATION\n",
      "Fetched isochrone for interval 25M, MRT: PASIR RIS MRT STATION\n",
      "Fetched isochrone for interval 25M, MRT: ADMIRALTY MRT STATION\n",
      "Fetched isochrone for interval 25M, MRT: KEMBANGAN MRT STATION\n",
      "Fetched isochrone for interval 25M, MRT: PUNGGOL POINT LRT STATION\n",
      "Fetched isochrone for interval 25M, MRT: MARSILING MRT STATION\n",
      "Fetched isochrone for interval 25M, MRT: COMPASSVALE LRT STATION\n",
      "Fetched isochrone for interval 25M, MRT: KHATIB MRT STATION\n",
      "Fetched isochrone for interval 25M, MRT: LAYAR LRT STATION\n",
      "Fetched isochrone for interval 25M, MRT: TAMPINES WEST MRT STATION\n",
      "Fetched isochrone for interval 25M, MRT: TAMPINES MRT STATION\n",
      "Fetched isochrone for interval 25M, MRT: TAMPINES EAST MRT STATION\n",
      "Fetched isochrone for interval 25M, MRT: TAI SENG MRT STATION\n",
      "Fetched isochrone for interval 25M, MRT: SUMANG LRT STATION\n",
      "Fetched isochrone for interval 25M, MRT: STEVENS MRT STATION\n",
      "Fetched isochrone for interval 25M, MRT: STADIUM MRT STATION\n",
      "Fetched isochrone for interval 25M, MRT: SIXTH AVENUE MRT STATION\n",
      "Fetched isochrone for interval 25M, MRT: SOUTH VIEW LRT STATION\n",
      "Fetched isochrone for interval 25M, MRT: SOO TECK LRT STATION\n",
      "Fetched isochrone for interval 25M, MRT: SOMERSET MRT STATION\n",
      "Fetched isochrone for interval 25M, MRT: SIMEI MRT STATION\n",
      "Fetched isochrone for interval 25M, MRT: SERANGOON MRT STATION\n",
      "Fetched isochrone for interval 25M, MRT: SENGKANG MRT STATION\n",
      "Fetched isochrone for interval 25M, MRT: BRADDELL MRT STATION\n",
      "Fetched isochrone for interval 25M, MRT: NOVENA MRT STATION\n",
      "Fetched isochrone for interval 25M, MRT: FARRER PARK MRT STATION\n",
      "Fetched isochrone for interval 25M, MRT: BEDOK MRT STATION\n",
      "Fetched isochrone for interval 25M, MRT: REDHILL MRT STATION\n",
      "Fetched isochrone for interval 25M, MRT: CHANGI AIRPORT MRT STATION\n",
      "Fetched isochrone for interval 25M, MRT: CORAL EDGE LRT STATION\n",
      "Fetched isochrone for interval 25M, MRT: CLEMENTI MRT STATION\n",
      "Fetched isochrone for interval 25M, MRT: BUKIT BATOK MRT STATION\n",
      "Fetched isochrone for interval 25M, MRT: OASIS LRT STATION\n",
      "Fetched isochrone for interval 25M, MRT: NIBONG LRT STATION\n",
      "Fetched isochrone for interval 25M, MRT: MERIDIAN LRT STATION\n",
      "Fetched isochrone for interval 25M, MRT: BUKIT GOMBAK MRT STATION\n",
      "Fetched isochrone for interval 25M, MRT: EUNOS MRT STATION\n",
      "Fetched isochrone for interval 25M, MRT: CHINESE GARDEN MRT STATION\n",
      "Fetched isochrone for interval 25M, MRT: KADALOOR LRT STATION\n",
      "Fetched isochrone for interval 25M, MRT: CHENG LIM LRT STATION\n",
      "Fetched isochrone for interval 25M, MRT: SAM KEE LRT STATION\n",
      "Fetched isochrone for interval 25M, MRT: KRANJI MRT STATION\n",
      "Fetched isochrone for interval 25M, MRT: ANG MO KIO MRT STATION\n",
      "Fetched isochrone for interval 25M, MRT: RIVIERA LRT STATION\n",
      "Fetched isochrone for interval 25M, MRT: BANGKIT LRT STATION\n",
      "Fetched isochrone for interval 25M, MRT: PASIR PANJANG MRT STATION\n",
      "Fetched isochrone for interval 25M, MRT: HOLLAND VILLAGE MRT STATION\n",
      "Fetched isochrone for interval 25M, MRT: LABRADOR PARK MRT STATION\n",
      "Fetched isochrone for interval 25M, MRT: BOTANIC GARDENS MRT STATION\n",
      "Fetched isochrone for interval 25M, MRT: ONE-NORTH MRT STATION\n",
      "Fetched isochrone for interval 25M, MRT: KENT RIDGE MRT STATION\n",
      "Fetched isochrone for interval 25M, MRT: HAW PAR VILLA MRT STATION\n",
      "Fetched isochrone for interval 25M, MRT: MARINA BAY MRT STATION\n",
      "Fetched isochrone for interval 25M, MRT: KING ALBERT PARK MRT STATION\n",
      "Fetched isochrone for interval 25M, MRT: LITTLE INDIA MRT STATION\n",
      "Fetched isochrone for interval 25M, MRT: ROCHOR MRT STATION\n",
      "Fetched isochrone for interval 25M, MRT: SENJA LRT STATION\n",
      "Fetched isochrone for interval 25M, MRT: MOUNTBATTEN MRT STATION\n",
      "Fetched isochrone for interval 25M, MRT: CHOA CHU KANG MRT STATION\n",
      "Fetched isochrone for interval 25M, MRT: BOON KENG MRT STATION\n",
      "Fetched isochrone for interval 25M, MRT: BARTLEY MRT STATION\n",
      "Fetched isochrone for interval 25M, MRT: SEGAR LRT STATION\n",
      "Fetched isochrone for interval 25M, MRT: HILLVIEW MRT STATION\n",
      "Fetched isochrone for interval 25M, MRT: BEAUTY WORLD MRT STATION\n",
      "Fetched isochrone for interval 25M, MRT: BUKIT PANJANG MRT STATION\n",
      "Fetched isochrone for interval 25M, MRT: CASHEW MRT STATION\n",
      "Fetched isochrone for interval 25M, MRT: JOO KOON MRT STATION\n",
      "Fetched isochrone for interval 25M, MRT: YEW TEE MRT STATION\n",
      "Fetched isochrone for interval 25M, MRT: YISHUN MRT STATION\n",
      "Fetched isochrone for interval 25M, MRT: YIO CHU KANG MRT STATION\n",
      "Fetched isochrone for interval 25M, MRT: WOODLEIGH MRT STATION\n",
      "Fetched isochrone for interval 25M, MRT: WOODLANDS MRT STATION\n",
      "Fetched isochrone for interval 25M, MRT: UPPER CHANGI MRT STATION\n",
      "Fetched isochrone for interval 25M, MRT: TELOK AYER MRT STATION\n",
      "Fetched isochrone for interval 25M, MRT: TONGKANG LRT STATION\n",
      "Fetched isochrone for interval 25M, MRT: UBI MRT STATION\n",
      "Fetched isochrone for interval 25M, MRT: TOA PAYOH MRT STATION\n",
      "Fetched isochrone for interval 25M, MRT: TIONG BAHRU MRT STATION\n",
      "Fetched isochrone for interval 25M, MRT: THANGGAM LRT STATION\n",
      "Fetched isochrone for interval 25M, MRT: PROMENADE MRT STATION\n",
      "Fetched isochrone for interval 25M, MRT: BRAS BASAH MRT STATION\n",
      "Fetched isochrone for interval 25M, MRT: NICOLL HIGHWAY MRT STATION\n",
      "Fetched isochrone for interval 25M, MRT: POTONG PASIR MRT STATION\n",
      "Fetched isochrone for interval 25M, MRT: LAKESIDE MRT STATION\n",
      "Fetched isochrone for interval 25M, MRT: SAMUDERA LRT STATION\n",
      "Fetched isochrone for interval 25M, MRT: RANGGUNG LRT STATION\n",
      "Fetched isochrone for interval 25M, MRT: SEMBAWANG MRT STATION\n",
      "Fetched isochrone for interval 25M, MRT: PUNGGOL LRT STATION\n",
      "Fetched isochrone for interval 25M, MRT: KANGKAR LRT STATION\n",
      "Fetched isochrone for interval 25M, MRT: PIONEER MRT STATION\n",
      "Fetched isochrone for interval 25M, MRT: BUGIS MRT STATION\n",
      "Fetched isochrone for interval 25M, MRT: NEWTON MRT STATION\n",
      "Fetched isochrone for interval 25M, MRT: BUONA VISTA MRT STATION\n",
      "Fetched isochrone for interval 25M, MRT: OUTRAM PARK MRT STATION\n",
      "Fetched isochrone for interval 25M, MRT: CHINATOWN MRT STATION\n",
      "Fetched isochrone for interval 25M, MRT: EXPO MRT STATION\n",
      "Fetched isochrone for interval 25M, MRT: RAFFLES PLACE MRT STATION\n",
      "Fetched isochrone for interval 25M, MRT: TUAS CRESCENT MRT STATION\n",
      "Fetched isochrone for interval 25M, MRT: TUAS LINK MRT STATION\n",
      "Fetched isochrone for interval 25M, MRT: TUAS WEST ROAD MRT STATION\n",
      "Fetched isochrone for interval 25M, MRT: CITY HALL MRT STATION\n",
      "Fetched isochrone for interval 25M, MRT: BISHAN MRT STATION\n",
      "Fetched isochrone for interval 25M, MRT: FERNVALE LRT STATION\n",
      "Fetched isochrone for interval 25M, MRT: PUNGGOL MRT STATION\n",
      "Fetched isochrone for interval 25M, MRT: BUANGKOK MRT STATION\n",
      "Fetched isochrone for interval 25M, MRT: BAKAU LRT STATION\n",
      "Fetched isochrone for interval 25M, MRT: FARMWAY LRT STATION\n",
      "Fetched isochrone for interval 25M, MRT: COMMONWEALTH MRT STATION\n",
      "Fetched isochrone for interval 25M, MRT: KUPANG LRT STATION\n",
      "Fetched isochrone for interval 25M, MRT: DAMAI LRT STATION\n",
      "Fetched isochrone for interval 25M, MRT: QUEENSTOWN MRT STATION\n",
      "Fetched isochrone for interval 25M, MRT: KALLANG MRT STATION\n",
      "Fetched isochrone for interval 25M, MRT: RUMBIA LRT STATION\n",
      "Fetched isochrone for interval 25M, MRT: PETIR LRT STATION\n",
      "Fetched isochrone for interval 25M, MRT: BOON LAY MRT STATION\n",
      "Fetched isochrone for interval 25M, MRT: KEAT HONG LRT STATION\n",
      "Fetched isochrone for interval 25M, MRT: JELAPANG LRT STATION\n",
      "Fetched isochrone for interval 25M, MRT: CHOA CHU KANG LRT STATION\n",
      "Fetched isochrone for interval 25M, MRT: SENGKANG LRT STATION\n",
      "Fetched isochrone for interval 25M, MRT: HARBOURFRONT MRT STATION\n",
      "Fetched isochrone for interval 25M, MRT: PENDING LRT STATION\n",
      "Fetched isochrone for interval 25M, MRT: CLARKE QUAY MRT STATION\n",
      "Fetched isochrone for interval 25M, MRT: BUKIT PANJANG LRT STATION\n",
      "Fetched isochrone for interval 25M, MRT: FAJAR LRT STATION\n",
      "Fetched isochrone for interval 25M, MRT: KOVAN MRT STATION\n",
      "Fetched isochrone for interval 25M, MRT: LORONG CHUAN MRT STATION\n",
      "Fetched isochrone for interval 25M, MRT: MARYMOUNT MRT STATION\n",
      "Fetched isochrone for interval 25M, MRT: CALDECOTT MRT STATION\n",
      "Fetched isochrone for interval 25M, MRT: DOWNTOWN MRT STATION\n",
      "Fetched isochrone for interval 25M, MRT: GEYLANG BAHRU MRT STATION\n",
      "Fetched isochrone for interval 25M, MRT: BENDEMEER MRT STATION\n",
      "Fetched isochrone for interval 25M, MRT: BENCOOLEN MRT STATION\n",
      "Fetched isochrone for interval 25M, MRT: FORT CANNING MRT STATION\n",
      "Fetched isochrone for interval 25M, MRT: KAKI BUKIT MRT STATION\n",
      "Fetched isochrone for interval 25M, MRT: JALAN BESAR MRT STATION\n",
      "Fetched isochrone for interval 25M, MRT: MATTAR MRT STATION\n",
      "Fetched isochrone for interval 25M, MRT: MACPHERSON MRT STATION\n",
      "Fetched isochrone for interval 25M, MRT: BAYFRONT MRT STATION\n",
      "Fetched isochrone for interval 25M, MRT: FARRER ROAD MRT STATION\n",
      "Fetched isochrone for interval 25M, MRT: JURONG EAST MRT STATION\n",
      "Fetched isochrone for interval 25M, MRT: BEDOK NORTH MRT STATION\n",
      "Fetched isochrone for interval 25M, MRT: BEDOK RESERVOIR MRT STATION\n",
      "Fetched isochrone for interval 25M, MRT: ORCHARD MRT STATION\n",
      "Fetched isochrone for interval 25M, MRT: LENTOR MRT STATION\n",
      "Fetched isochrone for interval 25M, MRT: BRIGHT HILL MRT STATION\n",
      "Fetched isochrone for interval 25M, MRT: SPRINGLEAF MRT STATION\n",
      "Fetched isochrone for interval 25M, MRT: MARINA SOUTH PIER MRT STATION\n",
      "Fetched isochrone for interval 25M, MRT: CANBERRA MRT STATION\n",
      "Fetched isochrone for interval 25M, MRT: WOODLANDS SOUTH MRT STATION\n",
      "Fetched isochrone for interval 25M, MRT: WOODLANDS NORTH MRT STATION\n",
      "Fetched isochrone for interval 25M, MRT: GUL CIRCLE MRT STATION\n",
      "Fetched isochrone for interval 25M, MRT: HAVELOCK MRT STATION\n",
      "Fetched isochrone for interval 25M, MRT: NAPIER MRT STATION\n",
      "Fetched isochrone for interval 25M, MRT: SHENTON WAY MRT STATION\n",
      "Fetched isochrone for interval 25M, MRT: GARDENS BY THE BAY MRT STATION\n",
      "Fetched isochrone for interval 25M, MRT: GREAT WORLD MRT STATION\n",
      "Fetched isochrone for interval 25M, MRT: MAXWELL MRT STATION\n",
      "Fetched isochrone for interval 25M, MRT: ORCHARD BOULEVARD MRT STATION\n",
      "Fetched isochrone for interval 25M, MRT: TELOK BLANGAH MRT STATION\n",
      "Fetched isochrone for interval 25M, MRT: TECK WHYE LRT STATION\n",
      "Fetched isochrone for interval 25M, MRT: TANJONG PAGAR MRT STATION\n",
      "Fetched isochrone for interval 25M, MRT: TANAH MERAH MRT STATION\n",
      "Fetched isochrone for interval 25M, MRT: TAN KAH KEE MRT STATION\n",
      "Fetched isochrone for interval 25M, MRT: UPPER THOMSON MRT STATION\n",
      "Fetched isochrone for interval 25M, MRT: MAYFLOWER MRT STATION\n",
      "Fetched isochrone for interval 30M, MRT: ESPLANADE MRT STATION\n",
      "Fetched isochrone for interval 30M, MRT: PAYA LEBAR MRT STATION\n",
      "Fetched isochrone for interval 30M, MRT: DHOBY GHAUT MRT STATION\n",
      "Fetched isochrone for interval 30M, MRT: DAKOTA MRT STATION\n",
      "Fetched isochrone for interval 30M, MRT: LAVENDER MRT STATION\n",
      "Fetched isochrone for interval 30M, MRT: RENJONG LRT STATION\n",
      "Fetched isochrone for interval 30M, MRT: DOVER MRT STATION\n",
      "Fetched isochrone for interval 30M, MRT: HOUGANG MRT STATION\n",
      "Fetched isochrone for interval 30M, MRT: PHOENIX LRT STATION\n",
      "Fetched isochrone for interval 30M, MRT: ALJUNIED MRT STATION\n",
      "Fetched isochrone for interval 30M, MRT: COVE LRT STATION\n",
      "Fetched isochrone for interval 30M, MRT: PASIR RIS MRT STATION\n",
      "Fetched isochrone for interval 30M, MRT: ADMIRALTY MRT STATION\n",
      "Fetched isochrone for interval 30M, MRT: KEMBANGAN MRT STATION\n",
      "Fetched isochrone for interval 30M, MRT: PUNGGOL POINT LRT STATION\n",
      "Fetched isochrone for interval 30M, MRT: MARSILING MRT STATION\n",
      "Fetched isochrone for interval 30M, MRT: COMPASSVALE LRT STATION\n",
      "Fetched isochrone for interval 30M, MRT: KHATIB MRT STATION\n",
      "Fetched isochrone for interval 30M, MRT: LAYAR LRT STATION\n",
      "Fetched isochrone for interval 30M, MRT: TAMPINES WEST MRT STATION\n",
      "Fetched isochrone for interval 30M, MRT: TAMPINES MRT STATION\n",
      "Fetched isochrone for interval 30M, MRT: TAMPINES EAST MRT STATION\n",
      "Fetched isochrone for interval 30M, MRT: TAI SENG MRT STATION\n",
      "Fetched isochrone for interval 30M, MRT: SUMANG LRT STATION\n",
      "Fetched isochrone for interval 30M, MRT: STEVENS MRT STATION\n",
      "Fetched isochrone for interval 30M, MRT: STADIUM MRT STATION\n",
      "Fetched isochrone for interval 30M, MRT: SIXTH AVENUE MRT STATION\n",
      "Fetched isochrone for interval 30M, MRT: SOUTH VIEW LRT STATION\n",
      "Fetched isochrone for interval 30M, MRT: SOO TECK LRT STATION\n",
      "Fetched isochrone for interval 30M, MRT: SOMERSET MRT STATION\n",
      "Fetched isochrone for interval 30M, MRT: SIMEI MRT STATION\n",
      "Fetched isochrone for interval 30M, MRT: SERANGOON MRT STATION\n",
      "Fetched isochrone for interval 30M, MRT: SENGKANG MRT STATION\n",
      "Fetched isochrone for interval 30M, MRT: BRADDELL MRT STATION\n",
      "Fetched isochrone for interval 30M, MRT: NOVENA MRT STATION\n",
      "Fetched isochrone for interval 30M, MRT: FARRER PARK MRT STATION\n",
      "Fetched isochrone for interval 30M, MRT: BEDOK MRT STATION\n",
      "Fetched isochrone for interval 30M, MRT: REDHILL MRT STATION\n",
      "Fetched isochrone for interval 30M, MRT: CHANGI AIRPORT MRT STATION\n",
      "Fetched isochrone for interval 30M, MRT: CORAL EDGE LRT STATION\n",
      "Fetched isochrone for interval 30M, MRT: CLEMENTI MRT STATION\n",
      "Fetched isochrone for interval 30M, MRT: BUKIT BATOK MRT STATION\n",
      "Fetched isochrone for interval 30M, MRT: OASIS LRT STATION\n",
      "Fetched isochrone for interval 30M, MRT: NIBONG LRT STATION\n",
      "Fetched isochrone for interval 30M, MRT: MERIDIAN LRT STATION\n",
      "Fetched isochrone for interval 30M, MRT: BUKIT GOMBAK MRT STATION\n",
      "Fetched isochrone for interval 30M, MRT: EUNOS MRT STATION\n",
      "Fetched isochrone for interval 30M, MRT: CHINESE GARDEN MRT STATION\n",
      "Fetched isochrone for interval 30M, MRT: KADALOOR LRT STATION\n",
      "Fetched isochrone for interval 30M, MRT: CHENG LIM LRT STATION\n",
      "Fetched isochrone for interval 30M, MRT: SAM KEE LRT STATION\n",
      "Fetched isochrone for interval 30M, MRT: KRANJI MRT STATION\n",
      "Fetched isochrone for interval 30M, MRT: ANG MO KIO MRT STATION\n",
      "Fetched isochrone for interval 30M, MRT: RIVIERA LRT STATION\n",
      "Fetched isochrone for interval 30M, MRT: BANGKIT LRT STATION\n",
      "Fetched isochrone for interval 30M, MRT: PASIR PANJANG MRT STATION\n",
      "Fetched isochrone for interval 30M, MRT: HOLLAND VILLAGE MRT STATION\n",
      "Fetched isochrone for interval 30M, MRT: LABRADOR PARK MRT STATION\n",
      "Fetched isochrone for interval 30M, MRT: BOTANIC GARDENS MRT STATION\n",
      "Fetched isochrone for interval 30M, MRT: ONE-NORTH MRT STATION\n",
      "Fetched isochrone for interval 30M, MRT: KENT RIDGE MRT STATION\n",
      "Fetched isochrone for interval 30M, MRT: HAW PAR VILLA MRT STATION\n",
      "Fetched isochrone for interval 30M, MRT: MARINA BAY MRT STATION\n",
      "Fetched isochrone for interval 30M, MRT: KING ALBERT PARK MRT STATION\n",
      "Fetched isochrone for interval 30M, MRT: LITTLE INDIA MRT STATION\n",
      "Fetched isochrone for interval 30M, MRT: ROCHOR MRT STATION\n",
      "Fetched isochrone for interval 30M, MRT: SENJA LRT STATION\n",
      "Fetched isochrone for interval 30M, MRT: MOUNTBATTEN MRT STATION\n",
      "Fetched isochrone for interval 30M, MRT: CHOA CHU KANG MRT STATION\n",
      "Fetched isochrone for interval 30M, MRT: BOON KENG MRT STATION\n",
      "Fetched isochrone for interval 30M, MRT: BARTLEY MRT STATION\n",
      "Fetched isochrone for interval 30M, MRT: SEGAR LRT STATION\n",
      "Fetched isochrone for interval 30M, MRT: HILLVIEW MRT STATION\n",
      "Fetched isochrone for interval 30M, MRT: BEAUTY WORLD MRT STATION\n",
      "Fetched isochrone for interval 30M, MRT: BUKIT PANJANG MRT STATION\n",
      "Fetched isochrone for interval 30M, MRT: CASHEW MRT STATION\n",
      "Fetched isochrone for interval 30M, MRT: JOO KOON MRT STATION\n",
      "Fetched isochrone for interval 30M, MRT: YEW TEE MRT STATION\n",
      "Fetched isochrone for interval 30M, MRT: YISHUN MRT STATION\n",
      "Fetched isochrone for interval 30M, MRT: YIO CHU KANG MRT STATION\n",
      "Fetched isochrone for interval 30M, MRT: WOODLEIGH MRT STATION\n",
      "Fetched isochrone for interval 30M, MRT: WOODLANDS MRT STATION\n",
      "Fetched isochrone for interval 30M, MRT: UPPER CHANGI MRT STATION\n",
      "Fetched isochrone for interval 30M, MRT: TELOK AYER MRT STATION\n",
      "Fetched isochrone for interval 30M, MRT: TONGKANG LRT STATION\n",
      "Fetched isochrone for interval 30M, MRT: UBI MRT STATION\n",
      "Fetched isochrone for interval 30M, MRT: TOA PAYOH MRT STATION\n",
      "Fetched isochrone for interval 30M, MRT: TIONG BAHRU MRT STATION\n",
      "Fetched isochrone for interval 30M, MRT: THANGGAM LRT STATION\n",
      "Fetched isochrone for interval 30M, MRT: PROMENADE MRT STATION\n",
      "Fetched isochrone for interval 30M, MRT: BRAS BASAH MRT STATION\n",
      "Fetched isochrone for interval 30M, MRT: NICOLL HIGHWAY MRT STATION\n",
      "Fetched isochrone for interval 30M, MRT: POTONG PASIR MRT STATION\n",
      "Fetched isochrone for interval 30M, MRT: LAKESIDE MRT STATION\n",
      "Fetched isochrone for interval 30M, MRT: SAMUDERA LRT STATION\n",
      "Fetched isochrone for interval 30M, MRT: RANGGUNG LRT STATION\n",
      "Fetched isochrone for interval 30M, MRT: SEMBAWANG MRT STATION\n",
      "Fetched isochrone for interval 30M, MRT: PUNGGOL LRT STATION\n",
      "Fetched isochrone for interval 30M, MRT: KANGKAR LRT STATION\n",
      "Fetched isochrone for interval 30M, MRT: PIONEER MRT STATION\n",
      "Fetched isochrone for interval 30M, MRT: BUGIS MRT STATION\n",
      "Fetched isochrone for interval 30M, MRT: NEWTON MRT STATION\n",
      "Fetched isochrone for interval 30M, MRT: BUONA VISTA MRT STATION\n",
      "Fetched isochrone for interval 30M, MRT: OUTRAM PARK MRT STATION\n",
      "Fetched isochrone for interval 30M, MRT: CHINATOWN MRT STATION\n",
      "Fetched isochrone for interval 30M, MRT: EXPO MRT STATION\n",
      "Fetched isochrone for interval 30M, MRT: RAFFLES PLACE MRT STATION\n",
      "Fetched isochrone for interval 30M, MRT: TUAS CRESCENT MRT STATION\n",
      "Fetched isochrone for interval 30M, MRT: TUAS LINK MRT STATION\n",
      "Fetched isochrone for interval 30M, MRT: TUAS WEST ROAD MRT STATION\n",
      "Fetched isochrone for interval 30M, MRT: CITY HALL MRT STATION\n",
      "Fetched isochrone for interval 30M, MRT: BISHAN MRT STATION\n",
      "Fetched isochrone for interval 30M, MRT: FERNVALE LRT STATION\n",
      "Fetched isochrone for interval 30M, MRT: PUNGGOL MRT STATION\n",
      "Fetched isochrone for interval 30M, MRT: BUANGKOK MRT STATION\n",
      "Fetched isochrone for interval 30M, MRT: BAKAU LRT STATION\n",
      "Fetched isochrone for interval 30M, MRT: FARMWAY LRT STATION\n",
      "Fetched isochrone for interval 30M, MRT: COMMONWEALTH MRT STATION\n",
      "Fetched isochrone for interval 30M, MRT: KUPANG LRT STATION\n",
      "Fetched isochrone for interval 30M, MRT: DAMAI LRT STATION\n",
      "Fetched isochrone for interval 30M, MRT: QUEENSTOWN MRT STATION\n",
      "Fetched isochrone for interval 30M, MRT: KALLANG MRT STATION\n",
      "Fetched isochrone for interval 30M, MRT: RUMBIA LRT STATION\n",
      "Fetched isochrone for interval 30M, MRT: PETIR LRT STATION\n",
      "Fetched isochrone for interval 30M, MRT: BOON LAY MRT STATION\n",
      "Fetched isochrone for interval 30M, MRT: KEAT HONG LRT STATION\n",
      "Fetched isochrone for interval 30M, MRT: JELAPANG LRT STATION\n",
      "Fetched isochrone for interval 30M, MRT: CHOA CHU KANG LRT STATION\n",
      "Fetched isochrone for interval 30M, MRT: SENGKANG LRT STATION\n",
      "Fetched isochrone for interval 30M, MRT: HARBOURFRONT MRT STATION\n",
      "Fetched isochrone for interval 30M, MRT: PENDING LRT STATION\n",
      "Fetched isochrone for interval 30M, MRT: CLARKE QUAY MRT STATION\n",
      "Fetched isochrone for interval 30M, MRT: BUKIT PANJANG LRT STATION\n",
      "Fetched isochrone for interval 30M, MRT: FAJAR LRT STATION\n",
      "Fetched isochrone for interval 30M, MRT: KOVAN MRT STATION\n",
      "Fetched isochrone for interval 30M, MRT: LORONG CHUAN MRT STATION\n",
      "Fetched isochrone for interval 30M, MRT: MARYMOUNT MRT STATION\n",
      "Fetched isochrone for interval 30M, MRT: CALDECOTT MRT STATION\n",
      "Fetched isochrone for interval 30M, MRT: DOWNTOWN MRT STATION\n",
      "Fetched isochrone for interval 30M, MRT: GEYLANG BAHRU MRT STATION\n",
      "Fetched isochrone for interval 30M, MRT: BENDEMEER MRT STATION\n",
      "Fetched isochrone for interval 30M, MRT: BENCOOLEN MRT STATION\n",
      "Fetched isochrone for interval 30M, MRT: FORT CANNING MRT STATION\n",
      "Fetched isochrone for interval 30M, MRT: KAKI BUKIT MRT STATION\n",
      "Fetched isochrone for interval 30M, MRT: JALAN BESAR MRT STATION\n",
      "Fetched isochrone for interval 30M, MRT: MATTAR MRT STATION\n",
      "Fetched isochrone for interval 30M, MRT: MACPHERSON MRT STATION\n",
      "Fetched isochrone for interval 30M, MRT: BAYFRONT MRT STATION\n",
      "Fetched isochrone for interval 30M, MRT: FARRER ROAD MRT STATION\n",
      "Fetched isochrone for interval 30M, MRT: JURONG EAST MRT STATION\n",
      "Fetched isochrone for interval 30M, MRT: BEDOK NORTH MRT STATION\n",
      "Fetched isochrone for interval 30M, MRT: BEDOK RESERVOIR MRT STATION\n",
      "Fetched isochrone for interval 30M, MRT: ORCHARD MRT STATION\n",
      "Fetched isochrone for interval 30M, MRT: LENTOR MRT STATION\n",
      "Fetched isochrone for interval 30M, MRT: BRIGHT HILL MRT STATION\n",
      "Fetched isochrone for interval 30M, MRT: SPRINGLEAF MRT STATION\n",
      "Fetched isochrone for interval 30M, MRT: MARINA SOUTH PIER MRT STATION\n",
      "Fetched isochrone for interval 30M, MRT: CANBERRA MRT STATION\n",
      "Fetched isochrone for interval 30M, MRT: WOODLANDS SOUTH MRT STATION\n",
      "Fetched isochrone for interval 30M, MRT: WOODLANDS NORTH MRT STATION\n",
      "Fetched isochrone for interval 30M, MRT: GUL CIRCLE MRT STATION\n",
      "Fetched isochrone for interval 30M, MRT: HAVELOCK MRT STATION\n",
      "Fetched isochrone for interval 30M, MRT: NAPIER MRT STATION\n",
      "Fetched isochrone for interval 30M, MRT: SHENTON WAY MRT STATION\n",
      "Fetched isochrone for interval 30M, MRT: GARDENS BY THE BAY MRT STATION\n",
      "Fetched isochrone for interval 30M, MRT: GREAT WORLD MRT STATION\n",
      "Fetched isochrone for interval 30M, MRT: MAXWELL MRT STATION\n",
      "Fetched isochrone for interval 30M, MRT: ORCHARD BOULEVARD MRT STATION\n",
      "Fetched isochrone for interval 30M, MRT: TELOK BLANGAH MRT STATION\n",
      "Fetched isochrone for interval 30M, MRT: TECK WHYE LRT STATION\n",
      "Fetched isochrone for interval 30M, MRT: TANJONG PAGAR MRT STATION\n",
      "Fetched isochrone for interval 30M, MRT: TANAH MERAH MRT STATION\n",
      "Fetched isochrone for interval 30M, MRT: TAN KAH KEE MRT STATION\n",
      "Fetched isochrone for interval 30M, MRT: UPPER THOMSON MRT STATION\n",
      "Fetched isochrone for interval 30M, MRT: MAYFLOWER MRT STATION\n",
      "Fetched isochrone for interval 35M, MRT: ESPLANADE MRT STATION\n",
      "Fetched isochrone for interval 35M, MRT: PAYA LEBAR MRT STATION\n",
      "Fetched isochrone for interval 35M, MRT: DHOBY GHAUT MRT STATION\n",
      "Fetched isochrone for interval 35M, MRT: DAKOTA MRT STATION\n",
      "Fetched isochrone for interval 35M, MRT: LAVENDER MRT STATION\n",
      "Fetched isochrone for interval 35M, MRT: RENJONG LRT STATION\n",
      "Fetched isochrone for interval 35M, MRT: DOVER MRT STATION\n",
      "Fetched isochrone for interval 35M, MRT: HOUGANG MRT STATION\n",
      "Fetched isochrone for interval 35M, MRT: PHOENIX LRT STATION\n",
      "Fetched isochrone for interval 35M, MRT: ALJUNIED MRT STATION\n",
      "Fetched isochrone for interval 35M, MRT: COVE LRT STATION\n",
      "Fetched isochrone for interval 35M, MRT: PASIR RIS MRT STATION\n",
      "Fetched isochrone for interval 35M, MRT: ADMIRALTY MRT STATION\n",
      "Fetched isochrone for interval 35M, MRT: KEMBANGAN MRT STATION\n",
      "Fetched isochrone for interval 35M, MRT: PUNGGOL POINT LRT STATION\n",
      "Fetched isochrone for interval 35M, MRT: MARSILING MRT STATION\n",
      "Fetched isochrone for interval 35M, MRT: COMPASSVALE LRT STATION\n",
      "Fetched isochrone for interval 35M, MRT: KHATIB MRT STATION\n",
      "Fetched isochrone for interval 35M, MRT: LAYAR LRT STATION\n",
      "Fetched isochrone for interval 35M, MRT: TAMPINES WEST MRT STATION\n",
      "Fetched isochrone for interval 35M, MRT: TAMPINES MRT STATION\n",
      "Fetched isochrone for interval 35M, MRT: TAMPINES EAST MRT STATION\n",
      "Fetched isochrone for interval 35M, MRT: TAI SENG MRT STATION\n",
      "Fetched isochrone for interval 35M, MRT: SUMANG LRT STATION\n",
      "Fetched isochrone for interval 35M, MRT: STEVENS MRT STATION\n",
      "Fetched isochrone for interval 35M, MRT: STADIUM MRT STATION\n",
      "Fetched isochrone for interval 35M, MRT: SIXTH AVENUE MRT STATION\n",
      "Fetched isochrone for interval 35M, MRT: SOUTH VIEW LRT STATION\n",
      "Fetched isochrone for interval 35M, MRT: SOO TECK LRT STATION\n",
      "Fetched isochrone for interval 35M, MRT: SOMERSET MRT STATION\n",
      "Fetched isochrone for interval 35M, MRT: SIMEI MRT STATION\n",
      "Fetched isochrone for interval 35M, MRT: SERANGOON MRT STATION\n",
      "Fetched isochrone for interval 35M, MRT: SENGKANG MRT STATION\n",
      "Fetched isochrone for interval 35M, MRT: BRADDELL MRT STATION\n",
      "Fetched isochrone for interval 35M, MRT: NOVENA MRT STATION\n",
      "Fetched isochrone for interval 35M, MRT: FARRER PARK MRT STATION\n",
      "Fetched isochrone for interval 35M, MRT: BEDOK MRT STATION\n",
      "Fetched isochrone for interval 35M, MRT: REDHILL MRT STATION\n",
      "Fetched isochrone for interval 35M, MRT: CHANGI AIRPORT MRT STATION\n",
      "Fetched isochrone for interval 35M, MRT: CORAL EDGE LRT STATION\n",
      "Fetched isochrone for interval 35M, MRT: CLEMENTI MRT STATION\n",
      "Fetched isochrone for interval 35M, MRT: BUKIT BATOK MRT STATION\n",
      "Fetched isochrone for interval 35M, MRT: OASIS LRT STATION\n",
      "Fetched isochrone for interval 35M, MRT: NIBONG LRT STATION\n",
      "Fetched isochrone for interval 35M, MRT: MERIDIAN LRT STATION\n",
      "Fetched isochrone for interval 35M, MRT: BUKIT GOMBAK MRT STATION\n",
      "Fetched isochrone for interval 35M, MRT: EUNOS MRT STATION\n",
      "Fetched isochrone for interval 35M, MRT: CHINESE GARDEN MRT STATION\n",
      "Fetched isochrone for interval 35M, MRT: KADALOOR LRT STATION\n",
      "Fetched isochrone for interval 35M, MRT: CHENG LIM LRT STATION\n",
      "Fetched isochrone for interval 35M, MRT: SAM KEE LRT STATION\n",
      "Fetched isochrone for interval 35M, MRT: KRANJI MRT STATION\n",
      "Fetched isochrone for interval 35M, MRT: ANG MO KIO MRT STATION\n",
      "Fetched isochrone for interval 35M, MRT: RIVIERA LRT STATION\n",
      "Fetched isochrone for interval 35M, MRT: BANGKIT LRT STATION\n",
      "Fetched isochrone for interval 35M, MRT: PASIR PANJANG MRT STATION\n",
      "Fetched isochrone for interval 35M, MRT: HOLLAND VILLAGE MRT STATION\n",
      "Fetched isochrone for interval 35M, MRT: LABRADOR PARK MRT STATION\n",
      "Fetched isochrone for interval 35M, MRT: BOTANIC GARDENS MRT STATION\n",
      "Fetched isochrone for interval 35M, MRT: ONE-NORTH MRT STATION\n",
      "Fetched isochrone for interval 35M, MRT: KENT RIDGE MRT STATION\n",
      "Fetched isochrone for interval 35M, MRT: HAW PAR VILLA MRT STATION\n",
      "Fetched isochrone for interval 35M, MRT: MARINA BAY MRT STATION\n",
      "Fetched isochrone for interval 35M, MRT: KING ALBERT PARK MRT STATION\n",
      "Fetched isochrone for interval 35M, MRT: LITTLE INDIA MRT STATION\n",
      "Fetched isochrone for interval 35M, MRT: ROCHOR MRT STATION\n",
      "Fetched isochrone for interval 35M, MRT: SENJA LRT STATION\n",
      "Fetched isochrone for interval 35M, MRT: MOUNTBATTEN MRT STATION\n",
      "Fetched isochrone for interval 35M, MRT: CHOA CHU KANG MRT STATION\n",
      "Fetched isochrone for interval 35M, MRT: BOON KENG MRT STATION\n",
      "Fetched isochrone for interval 35M, MRT: BARTLEY MRT STATION\n",
      "Fetched isochrone for interval 35M, MRT: SEGAR LRT STATION\n",
      "Fetched isochrone for interval 35M, MRT: HILLVIEW MRT STATION\n",
      "Fetched isochrone for interval 35M, MRT: BEAUTY WORLD MRT STATION\n",
      "Fetched isochrone for interval 35M, MRT: BUKIT PANJANG MRT STATION\n",
      "Fetched isochrone for interval 35M, MRT: CASHEW MRT STATION\n",
      "Fetched isochrone for interval 35M, MRT: JOO KOON MRT STATION\n",
      "Fetched isochrone for interval 35M, MRT: YEW TEE MRT STATION\n",
      "Fetched isochrone for interval 35M, MRT: YISHUN MRT STATION\n",
      "Fetched isochrone for interval 35M, MRT: YIO CHU KANG MRT STATION\n",
      "Fetched isochrone for interval 35M, MRT: WOODLEIGH MRT STATION\n",
      "Fetched isochrone for interval 35M, MRT: WOODLANDS MRT STATION\n",
      "Fetched isochrone for interval 35M, MRT: UPPER CHANGI MRT STATION\n",
      "Fetched isochrone for interval 35M, MRT: TELOK AYER MRT STATION\n",
      "Fetched isochrone for interval 35M, MRT: TONGKANG LRT STATION\n",
      "Fetched isochrone for interval 35M, MRT: UBI MRT STATION\n",
      "Fetched isochrone for interval 35M, MRT: TOA PAYOH MRT STATION\n",
      "Fetched isochrone for interval 35M, MRT: TIONG BAHRU MRT STATION\n",
      "Fetched isochrone for interval 35M, MRT: THANGGAM LRT STATION\n",
      "Fetched isochrone for interval 35M, MRT: PROMENADE MRT STATION\n",
      "Fetched isochrone for interval 35M, MRT: BRAS BASAH MRT STATION\n",
      "Fetched isochrone for interval 35M, MRT: NICOLL HIGHWAY MRT STATION\n",
      "Fetched isochrone for interval 35M, MRT: POTONG PASIR MRT STATION\n",
      "Fetched isochrone for interval 35M, MRT: LAKESIDE MRT STATION\n",
      "Fetched isochrone for interval 35M, MRT: SAMUDERA LRT STATION\n",
      "Fetched isochrone for interval 35M, MRT: RANGGUNG LRT STATION\n",
      "Fetched isochrone for interval 35M, MRT: SEMBAWANG MRT STATION\n",
      "Fetched isochrone for interval 35M, MRT: PUNGGOL LRT STATION\n",
      "Fetched isochrone for interval 35M, MRT: KANGKAR LRT STATION\n",
      "Fetched isochrone for interval 35M, MRT: PIONEER MRT STATION\n",
      "Fetched isochrone for interval 35M, MRT: BUGIS MRT STATION\n",
      "Fetched isochrone for interval 35M, MRT: NEWTON MRT STATION\n",
      "Fetched isochrone for interval 35M, MRT: BUONA VISTA MRT STATION\n",
      "Fetched isochrone for interval 35M, MRT: OUTRAM PARK MRT STATION\n",
      "Fetched isochrone for interval 35M, MRT: CHINATOWN MRT STATION\n",
      "Fetched isochrone for interval 35M, MRT: EXPO MRT STATION\n",
      "Fetched isochrone for interval 35M, MRT: RAFFLES PLACE MRT STATION\n",
      "Fetched isochrone for interval 35M, MRT: TUAS CRESCENT MRT STATION\n",
      "Fetched isochrone for interval 35M, MRT: TUAS LINK MRT STATION\n",
      "Fetched isochrone for interval 35M, MRT: TUAS WEST ROAD MRT STATION\n",
      "Fetched isochrone for interval 35M, MRT: CITY HALL MRT STATION\n",
      "Fetched isochrone for interval 35M, MRT: BISHAN MRT STATION\n",
      "Fetched isochrone for interval 35M, MRT: FERNVALE LRT STATION\n",
      "Fetched isochrone for interval 35M, MRT: PUNGGOL MRT STATION\n",
      "Fetched isochrone for interval 35M, MRT: BUANGKOK MRT STATION\n",
      "Fetched isochrone for interval 35M, MRT: BAKAU LRT STATION\n",
      "Fetched isochrone for interval 35M, MRT: FARMWAY LRT STATION\n",
      "Fetched isochrone for interval 35M, MRT: COMMONWEALTH MRT STATION\n",
      "Fetched isochrone for interval 35M, MRT: KUPANG LRT STATION\n",
      "Fetched isochrone for interval 35M, MRT: DAMAI LRT STATION\n",
      "Fetched isochrone for interval 35M, MRT: QUEENSTOWN MRT STATION\n",
      "Fetched isochrone for interval 35M, MRT: KALLANG MRT STATION\n",
      "Fetched isochrone for interval 35M, MRT: RUMBIA LRT STATION\n",
      "Fetched isochrone for interval 35M, MRT: PETIR LRT STATION\n",
      "Fetched isochrone for interval 35M, MRT: BOON LAY MRT STATION\n",
      "Fetched isochrone for interval 35M, MRT: KEAT HONG LRT STATION\n",
      "Fetched isochrone for interval 35M, MRT: JELAPANG LRT STATION\n",
      "Fetched isochrone for interval 35M, MRT: CHOA CHU KANG LRT STATION\n",
      "Fetched isochrone for interval 35M, MRT: SENGKANG LRT STATION\n",
      "Fetched isochrone for interval 35M, MRT: HARBOURFRONT MRT STATION\n",
      "Fetched isochrone for interval 35M, MRT: PENDING LRT STATION\n",
      "Fetched isochrone for interval 35M, MRT: CLARKE QUAY MRT STATION\n",
      "Fetched isochrone for interval 35M, MRT: BUKIT PANJANG LRT STATION\n",
      "Fetched isochrone for interval 35M, MRT: FAJAR LRT STATION\n",
      "Fetched isochrone for interval 35M, MRT: KOVAN MRT STATION\n",
      "Fetched isochrone for interval 35M, MRT: LORONG CHUAN MRT STATION\n",
      "Fetched isochrone for interval 35M, MRT: MARYMOUNT MRT STATION\n",
      "Fetched isochrone for interval 35M, MRT: CALDECOTT MRT STATION\n",
      "Fetched isochrone for interval 35M, MRT: DOWNTOWN MRT STATION\n",
      "Fetched isochrone for interval 35M, MRT: GEYLANG BAHRU MRT STATION\n",
      "Fetched isochrone for interval 35M, MRT: BENDEMEER MRT STATION\n",
      "Fetched isochrone for interval 35M, MRT: BENCOOLEN MRT STATION\n",
      "Fetched isochrone for interval 35M, MRT: FORT CANNING MRT STATION\n",
      "Fetched isochrone for interval 35M, MRT: KAKI BUKIT MRT STATION\n",
      "Fetched isochrone for interval 35M, MRT: JALAN BESAR MRT STATION\n",
      "Fetched isochrone for interval 35M, MRT: MATTAR MRT STATION\n",
      "Fetched isochrone for interval 35M, MRT: MACPHERSON MRT STATION\n",
      "Fetched isochrone for interval 35M, MRT: BAYFRONT MRT STATION\n",
      "Fetched isochrone for interval 35M, MRT: FARRER ROAD MRT STATION\n",
      "Fetched isochrone for interval 35M, MRT: JURONG EAST MRT STATION\n",
      "Fetched isochrone for interval 35M, MRT: BEDOK NORTH MRT STATION\n",
      "Fetched isochrone for interval 35M, MRT: BEDOK RESERVOIR MRT STATION\n",
      "Fetched isochrone for interval 35M, MRT: ORCHARD MRT STATION\n",
      "Fetched isochrone for interval 35M, MRT: LENTOR MRT STATION\n",
      "Fetched isochrone for interval 35M, MRT: BRIGHT HILL MRT STATION\n",
      "Fetched isochrone for interval 35M, MRT: SPRINGLEAF MRT STATION\n",
      "Fetched isochrone for interval 35M, MRT: MARINA SOUTH PIER MRT STATION\n",
      "Fetched isochrone for interval 35M, MRT: CANBERRA MRT STATION\n",
      "Fetched isochrone for interval 35M, MRT: WOODLANDS SOUTH MRT STATION\n",
      "Fetched isochrone for interval 35M, MRT: WOODLANDS NORTH MRT STATION\n",
      "Fetched isochrone for interval 35M, MRT: GUL CIRCLE MRT STATION\n",
      "Fetched isochrone for interval 35M, MRT: HAVELOCK MRT STATION\n",
      "Fetched isochrone for interval 35M, MRT: NAPIER MRT STATION\n",
      "Fetched isochrone for interval 35M, MRT: SHENTON WAY MRT STATION\n",
      "Fetched isochrone for interval 35M, MRT: GARDENS BY THE BAY MRT STATION\n",
      "Fetched isochrone for interval 35M, MRT: GREAT WORLD MRT STATION\n",
      "Fetched isochrone for interval 35M, MRT: MAXWELL MRT STATION\n",
      "Fetched isochrone for interval 35M, MRT: ORCHARD BOULEVARD MRT STATION\n",
      "Fetched isochrone for interval 35M, MRT: TELOK BLANGAH MRT STATION\n",
      "Fetched isochrone for interval 35M, MRT: TECK WHYE LRT STATION\n",
      "Fetched isochrone for interval 35M, MRT: TANJONG PAGAR MRT STATION\n",
      "Fetched isochrone for interval 35M, MRT: TANAH MERAH MRT STATION\n",
      "Fetched isochrone for interval 35M, MRT: TAN KAH KEE MRT STATION\n",
      "Fetched isochrone for interval 35M, MRT: UPPER THOMSON MRT STATION\n",
      "Fetched isochrone for interval 35M, MRT: MAYFLOWER MRT STATION\n",
      "Fetched isochrone for interval 40M, MRT: ESPLANADE MRT STATION\n",
      "Fetched isochrone for interval 40M, MRT: PAYA LEBAR MRT STATION\n",
      "Fetched isochrone for interval 40M, MRT: DHOBY GHAUT MRT STATION\n",
      "Fetched isochrone for interval 40M, MRT: DAKOTA MRT STATION\n",
      "Fetched isochrone for interval 40M, MRT: LAVENDER MRT STATION\n",
      "Fetched isochrone for interval 40M, MRT: RENJONG LRT STATION\n",
      "Fetched isochrone for interval 40M, MRT: DOVER MRT STATION\n",
      "Fetched isochrone for interval 40M, MRT: HOUGANG MRT STATION\n",
      "Fetched isochrone for interval 40M, MRT: PHOENIX LRT STATION\n",
      "Fetched isochrone for interval 40M, MRT: ALJUNIED MRT STATION\n",
      "Fetched isochrone for interval 40M, MRT: COVE LRT STATION\n",
      "Fetched isochrone for interval 40M, MRT: PASIR RIS MRT STATION\n",
      "Fetched isochrone for interval 40M, MRT: ADMIRALTY MRT STATION\n",
      "Fetched isochrone for interval 40M, MRT: KEMBANGAN MRT STATION\n",
      "Fetched isochrone for interval 40M, MRT: PUNGGOL POINT LRT STATION\n",
      "Fetched isochrone for interval 40M, MRT: MARSILING MRT STATION\n",
      "Fetched isochrone for interval 40M, MRT: COMPASSVALE LRT STATION\n",
      "Fetched isochrone for interval 40M, MRT: KHATIB MRT STATION\n",
      "Fetched isochrone for interval 40M, MRT: LAYAR LRT STATION\n",
      "Fetched isochrone for interval 40M, MRT: TAMPINES WEST MRT STATION\n",
      "Fetched isochrone for interval 40M, MRT: TAMPINES MRT STATION\n",
      "Fetched isochrone for interval 40M, MRT: TAMPINES EAST MRT STATION\n",
      "Fetched isochrone for interval 40M, MRT: TAI SENG MRT STATION\n",
      "Fetched isochrone for interval 40M, MRT: SUMANG LRT STATION\n",
      "Fetched isochrone for interval 40M, MRT: STEVENS MRT STATION\n",
      "Fetched isochrone for interval 40M, MRT: STADIUM MRT STATION\n",
      "Fetched isochrone for interval 40M, MRT: SIXTH AVENUE MRT STATION\n",
      "Fetched isochrone for interval 40M, MRT: SOUTH VIEW LRT STATION\n",
      "Fetched isochrone for interval 40M, MRT: SOO TECK LRT STATION\n",
      "Fetched isochrone for interval 40M, MRT: SOMERSET MRT STATION\n",
      "Fetched isochrone for interval 40M, MRT: SIMEI MRT STATION\n",
      "Fetched isochrone for interval 40M, MRT: SERANGOON MRT STATION\n",
      "Fetched isochrone for interval 40M, MRT: SENGKANG MRT STATION\n",
      "Fetched isochrone for interval 40M, MRT: BRADDELL MRT STATION\n",
      "Fetched isochrone for interval 40M, MRT: NOVENA MRT STATION\n",
      "Fetched isochrone for interval 40M, MRT: FARRER PARK MRT STATION\n",
      "Fetched isochrone for interval 40M, MRT: BEDOK MRT STATION\n",
      "Fetched isochrone for interval 40M, MRT: REDHILL MRT STATION\n",
      "Fetched isochrone for interval 40M, MRT: CHANGI AIRPORT MRT STATION\n",
      "Fetched isochrone for interval 40M, MRT: CORAL EDGE LRT STATION\n",
      "Fetched isochrone for interval 40M, MRT: CLEMENTI MRT STATION\n",
      "Fetched isochrone for interval 40M, MRT: BUKIT BATOK MRT STATION\n",
      "Fetched isochrone for interval 40M, MRT: OASIS LRT STATION\n",
      "Fetched isochrone for interval 40M, MRT: NIBONG LRT STATION\n",
      "Fetched isochrone for interval 40M, MRT: MERIDIAN LRT STATION\n",
      "Fetched isochrone for interval 40M, MRT: BUKIT GOMBAK MRT STATION\n",
      "Fetched isochrone for interval 40M, MRT: EUNOS MRT STATION\n",
      "Fetched isochrone for interval 40M, MRT: CHINESE GARDEN MRT STATION\n",
      "Fetched isochrone for interval 40M, MRT: KADALOOR LRT STATION\n",
      "Fetched isochrone for interval 40M, MRT: CHENG LIM LRT STATION\n",
      "Fetched isochrone for interval 40M, MRT: SAM KEE LRT STATION\n",
      "Fetched isochrone for interval 40M, MRT: KRANJI MRT STATION\n",
      "Fetched isochrone for interval 40M, MRT: ANG MO KIO MRT STATION\n",
      "Fetched isochrone for interval 40M, MRT: RIVIERA LRT STATION\n",
      "Fetched isochrone for interval 40M, MRT: BANGKIT LRT STATION\n",
      "Fetched isochrone for interval 40M, MRT: PASIR PANJANG MRT STATION\n",
      "Fetched isochrone for interval 40M, MRT: HOLLAND VILLAGE MRT STATION\n",
      "Fetched isochrone for interval 40M, MRT: LABRADOR PARK MRT STATION\n",
      "Fetched isochrone for interval 40M, MRT: BOTANIC GARDENS MRT STATION\n",
      "Fetched isochrone for interval 40M, MRT: ONE-NORTH MRT STATION\n",
      "Fetched isochrone for interval 40M, MRT: KENT RIDGE MRT STATION\n",
      "Fetched isochrone for interval 40M, MRT: HAW PAR VILLA MRT STATION\n",
      "Fetched isochrone for interval 40M, MRT: MARINA BAY MRT STATION\n",
      "Fetched isochrone for interval 40M, MRT: KING ALBERT PARK MRT STATION\n",
      "Fetched isochrone for interval 40M, MRT: LITTLE INDIA MRT STATION\n",
      "Fetched isochrone for interval 40M, MRT: ROCHOR MRT STATION\n",
      "Fetched isochrone for interval 40M, MRT: SENJA LRT STATION\n",
      "Fetched isochrone for interval 40M, MRT: MOUNTBATTEN MRT STATION\n",
      "Fetched isochrone for interval 40M, MRT: CHOA CHU KANG MRT STATION\n",
      "Fetched isochrone for interval 40M, MRT: BOON KENG MRT STATION\n",
      "Fetched isochrone for interval 40M, MRT: BARTLEY MRT STATION\n",
      "Fetched isochrone for interval 40M, MRT: SEGAR LRT STATION\n",
      "Fetched isochrone for interval 40M, MRT: HILLVIEW MRT STATION\n",
      "Fetched isochrone for interval 40M, MRT: BEAUTY WORLD MRT STATION\n",
      "Fetched isochrone for interval 40M, MRT: BUKIT PANJANG MRT STATION\n",
      "Fetched isochrone for interval 40M, MRT: CASHEW MRT STATION\n",
      "Fetched isochrone for interval 40M, MRT: JOO KOON MRT STATION\n",
      "Fetched isochrone for interval 40M, MRT: YEW TEE MRT STATION\n",
      "Fetched isochrone for interval 40M, MRT: YISHUN MRT STATION\n",
      "Fetched isochrone for interval 40M, MRT: YIO CHU KANG MRT STATION\n",
      "Fetched isochrone for interval 40M, MRT: WOODLEIGH MRT STATION\n",
      "Fetched isochrone for interval 40M, MRT: WOODLANDS MRT STATION\n",
      "Fetched isochrone for interval 40M, MRT: UPPER CHANGI MRT STATION\n",
      "Fetched isochrone for interval 40M, MRT: TELOK AYER MRT STATION\n",
      "Fetched isochrone for interval 40M, MRT: TONGKANG LRT STATION\n",
      "Fetched isochrone for interval 40M, MRT: UBI MRT STATION\n",
      "Fetched isochrone for interval 40M, MRT: TOA PAYOH MRT STATION\n",
      "Fetched isochrone for interval 40M, MRT: TIONG BAHRU MRT STATION\n",
      "Fetched isochrone for interval 40M, MRT: THANGGAM LRT STATION\n",
      "Fetched isochrone for interval 40M, MRT: PROMENADE MRT STATION\n",
      "Fetched isochrone for interval 40M, MRT: BRAS BASAH MRT STATION\n",
      "Fetched isochrone for interval 40M, MRT: NICOLL HIGHWAY MRT STATION\n",
      "Fetched isochrone for interval 40M, MRT: POTONG PASIR MRT STATION\n",
      "Fetched isochrone for interval 40M, MRT: LAKESIDE MRT STATION\n",
      "Fetched isochrone for interval 40M, MRT: SAMUDERA LRT STATION\n",
      "Fetched isochrone for interval 40M, MRT: RANGGUNG LRT STATION\n",
      "Fetched isochrone for interval 40M, MRT: SEMBAWANG MRT STATION\n",
      "Fetched isochrone for interval 40M, MRT: PUNGGOL LRT STATION\n",
      "Fetched isochrone for interval 40M, MRT: KANGKAR LRT STATION\n",
      "Fetched isochrone for interval 40M, MRT: PIONEER MRT STATION\n",
      "Fetched isochrone for interval 40M, MRT: BUGIS MRT STATION\n",
      "Fetched isochrone for interval 40M, MRT: NEWTON MRT STATION\n",
      "Fetched isochrone for interval 40M, MRT: BUONA VISTA MRT STATION\n",
      "Fetched isochrone for interval 40M, MRT: OUTRAM PARK MRT STATION\n",
      "Fetched isochrone for interval 40M, MRT: CHINATOWN MRT STATION\n",
      "Fetched isochrone for interval 40M, MRT: EXPO MRT STATION\n",
      "Fetched isochrone for interval 40M, MRT: RAFFLES PLACE MRT STATION\n",
      "Fetched isochrone for interval 40M, MRT: TUAS CRESCENT MRT STATION\n",
      "Fetched isochrone for interval 40M, MRT: TUAS LINK MRT STATION\n",
      "Fetched isochrone for interval 40M, MRT: TUAS WEST ROAD MRT STATION\n",
      "Fetched isochrone for interval 40M, MRT: CITY HALL MRT STATION\n",
      "Fetched isochrone for interval 40M, MRT: BISHAN MRT STATION\n",
      "Fetched isochrone for interval 40M, MRT: FERNVALE LRT STATION\n",
      "Fetched isochrone for interval 40M, MRT: PUNGGOL MRT STATION\n",
      "Fetched isochrone for interval 40M, MRT: BUANGKOK MRT STATION\n",
      "Fetched isochrone for interval 40M, MRT: BAKAU LRT STATION\n",
      "Fetched isochrone for interval 40M, MRT: FARMWAY LRT STATION\n",
      "Fetched isochrone for interval 40M, MRT: COMMONWEALTH MRT STATION\n",
      "Fetched isochrone for interval 40M, MRT: KUPANG LRT STATION\n",
      "Fetched isochrone for interval 40M, MRT: DAMAI LRT STATION\n",
      "Fetched isochrone for interval 40M, MRT: QUEENSTOWN MRT STATION\n",
      "Fetched isochrone for interval 40M, MRT: KALLANG MRT STATION\n",
      "Fetched isochrone for interval 40M, MRT: RUMBIA LRT STATION\n",
      "Fetched isochrone for interval 40M, MRT: PETIR LRT STATION\n",
      "Fetched isochrone for interval 40M, MRT: BOON LAY MRT STATION\n",
      "Fetched isochrone for interval 40M, MRT: KEAT HONG LRT STATION\n",
      "Fetched isochrone for interval 40M, MRT: JELAPANG LRT STATION\n",
      "Fetched isochrone for interval 40M, MRT: CHOA CHU KANG LRT STATION\n",
      "Fetched isochrone for interval 40M, MRT: SENGKANG LRT STATION\n",
      "Fetched isochrone for interval 40M, MRT: HARBOURFRONT MRT STATION\n",
      "Fetched isochrone for interval 40M, MRT: PENDING LRT STATION\n",
      "Fetched isochrone for interval 40M, MRT: CLARKE QUAY MRT STATION\n",
      "Fetched isochrone for interval 40M, MRT: BUKIT PANJANG LRT STATION\n",
      "Fetched isochrone for interval 40M, MRT: FAJAR LRT STATION\n",
      "Fetched isochrone for interval 40M, MRT: KOVAN MRT STATION\n",
      "Fetched isochrone for interval 40M, MRT: LORONG CHUAN MRT STATION\n",
      "Fetched isochrone for interval 40M, MRT: MARYMOUNT MRT STATION\n",
      "Fetched isochrone for interval 40M, MRT: CALDECOTT MRT STATION\n",
      "Fetched isochrone for interval 40M, MRT: DOWNTOWN MRT STATION\n",
      "Fetched isochrone for interval 40M, MRT: GEYLANG BAHRU MRT STATION\n",
      "Fetched isochrone for interval 40M, MRT: BENDEMEER MRT STATION\n",
      "Fetched isochrone for interval 40M, MRT: BENCOOLEN MRT STATION\n",
      "Fetched isochrone for interval 40M, MRT: FORT CANNING MRT STATION\n",
      "Fetched isochrone for interval 40M, MRT: KAKI BUKIT MRT STATION\n",
      "Fetched isochrone for interval 40M, MRT: JALAN BESAR MRT STATION\n",
      "Fetched isochrone for interval 40M, MRT: MATTAR MRT STATION\n",
      "Fetched isochrone for interval 40M, MRT: MACPHERSON MRT STATION\n",
      "Fetched isochrone for interval 40M, MRT: BAYFRONT MRT STATION\n",
      "Fetched isochrone for interval 40M, MRT: FARRER ROAD MRT STATION\n",
      "Fetched isochrone for interval 40M, MRT: JURONG EAST MRT STATION\n",
      "Fetched isochrone for interval 40M, MRT: BEDOK NORTH MRT STATION\n",
      "Fetched isochrone for interval 40M, MRT: BEDOK RESERVOIR MRT STATION\n",
      "Fetched isochrone for interval 40M, MRT: ORCHARD MRT STATION\n",
      "Fetched isochrone for interval 40M, MRT: LENTOR MRT STATION\n",
      "Fetched isochrone for interval 40M, MRT: BRIGHT HILL MRT STATION\n",
      "Fetched isochrone for interval 40M, MRT: SPRINGLEAF MRT STATION\n",
      "Fetched isochrone for interval 40M, MRT: MARINA SOUTH PIER MRT STATION\n",
      "Fetched isochrone for interval 40M, MRT: CANBERRA MRT STATION\n",
      "Fetched isochrone for interval 40M, MRT: WOODLANDS SOUTH MRT STATION\n",
      "Fetched isochrone for interval 40M, MRT: WOODLANDS NORTH MRT STATION\n",
      "Fetched isochrone for interval 40M, MRT: GUL CIRCLE MRT STATION\n",
      "Fetched isochrone for interval 40M, MRT: HAVELOCK MRT STATION\n",
      "Fetched isochrone for interval 40M, MRT: NAPIER MRT STATION\n",
      "Fetched isochrone for interval 40M, MRT: SHENTON WAY MRT STATION\n",
      "Fetched isochrone for interval 40M, MRT: GARDENS BY THE BAY MRT STATION\n",
      "Fetched isochrone for interval 40M, MRT: GREAT WORLD MRT STATION\n",
      "Fetched isochrone for interval 40M, MRT: MAXWELL MRT STATION\n",
      "Fetched isochrone for interval 40M, MRT: ORCHARD BOULEVARD MRT STATION\n",
      "Fetched isochrone for interval 40M, MRT: TELOK BLANGAH MRT STATION\n",
      "Fetched isochrone for interval 40M, MRT: TECK WHYE LRT STATION\n",
      "Fetched isochrone for interval 40M, MRT: TANJONG PAGAR MRT STATION\n",
      "Fetched isochrone for interval 40M, MRT: TANAH MERAH MRT STATION\n",
      "Fetched isochrone for interval 40M, MRT: TAN KAH KEE MRT STATION\n",
      "Fetched isochrone for interval 40M, MRT: UPPER THOMSON MRT STATION\n",
      "Fetched isochrone for interval 40M, MRT: MAYFLOWER MRT STATION\n",
      "Fetched isochrone for interval 45M, MRT: ESPLANADE MRT STATION\n",
      "Fetched isochrone for interval 45M, MRT: PAYA LEBAR MRT STATION\n",
      "Fetched isochrone for interval 45M, MRT: DHOBY GHAUT MRT STATION\n",
      "Fetched isochrone for interval 45M, MRT: DAKOTA MRT STATION\n",
      "Fetched isochrone for interval 45M, MRT: LAVENDER MRT STATION\n",
      "Fetched isochrone for interval 45M, MRT: RENJONG LRT STATION\n",
      "Fetched isochrone for interval 45M, MRT: DOVER MRT STATION\n",
      "Fetched isochrone for interval 45M, MRT: HOUGANG MRT STATION\n",
      "Fetched isochrone for interval 45M, MRT: PHOENIX LRT STATION\n",
      "Fetched isochrone for interval 45M, MRT: ALJUNIED MRT STATION\n",
      "Fetched isochrone for interval 45M, MRT: COVE LRT STATION\n",
      "Fetched isochrone for interval 45M, MRT: PASIR RIS MRT STATION\n",
      "Fetched isochrone for interval 45M, MRT: ADMIRALTY MRT STATION\n",
      "Fetched isochrone for interval 45M, MRT: KEMBANGAN MRT STATION\n",
      "Fetched isochrone for interval 45M, MRT: PUNGGOL POINT LRT STATION\n",
      "Fetched isochrone for interval 45M, MRT: MARSILING MRT STATION\n",
      "Fetched isochrone for interval 45M, MRT: COMPASSVALE LRT STATION\n",
      "Fetched isochrone for interval 45M, MRT: KHATIB MRT STATION\n",
      "Fetched isochrone for interval 45M, MRT: LAYAR LRT STATION\n",
      "Fetched isochrone for interval 45M, MRT: TAMPINES WEST MRT STATION\n",
      "Fetched isochrone for interval 45M, MRT: TAMPINES MRT STATION\n",
      "Fetched isochrone for interval 45M, MRT: TAMPINES EAST MRT STATION\n",
      "Fetched isochrone for interval 45M, MRT: TAI SENG MRT STATION\n",
      "Fetched isochrone for interval 45M, MRT: SUMANG LRT STATION\n",
      "Fetched isochrone for interval 45M, MRT: STEVENS MRT STATION\n",
      "Fetched isochrone for interval 45M, MRT: STADIUM MRT STATION\n",
      "Fetched isochrone for interval 45M, MRT: SIXTH AVENUE MRT STATION\n",
      "Fetched isochrone for interval 45M, MRT: SOUTH VIEW LRT STATION\n",
      "Fetched isochrone for interval 45M, MRT: SOO TECK LRT STATION\n",
      "Fetched isochrone for interval 45M, MRT: SOMERSET MRT STATION\n",
      "Fetched isochrone for interval 45M, MRT: SIMEI MRT STATION\n",
      "Fetched isochrone for interval 45M, MRT: SERANGOON MRT STATION\n",
      "Fetched isochrone for interval 45M, MRT: SENGKANG MRT STATION\n",
      "Fetched isochrone for interval 45M, MRT: BRADDELL MRT STATION\n",
      "Fetched isochrone for interval 45M, MRT: NOVENA MRT STATION\n",
      "Fetched isochrone for interval 45M, MRT: FARRER PARK MRT STATION\n",
      "Fetched isochrone for interval 45M, MRT: BEDOK MRT STATION\n",
      "Fetched isochrone for interval 45M, MRT: REDHILL MRT STATION\n",
      "Fetched isochrone for interval 45M, MRT: CHANGI AIRPORT MRT STATION\n",
      "Fetched isochrone for interval 45M, MRT: CORAL EDGE LRT STATION\n",
      "Fetched isochrone for interval 45M, MRT: CLEMENTI MRT STATION\n",
      "Fetched isochrone for interval 45M, MRT: BUKIT BATOK MRT STATION\n",
      "Fetched isochrone for interval 45M, MRT: OASIS LRT STATION\n",
      "Fetched isochrone for interval 45M, MRT: NIBONG LRT STATION\n",
      "Fetched isochrone for interval 45M, MRT: MERIDIAN LRT STATION\n",
      "Fetched isochrone for interval 45M, MRT: BUKIT GOMBAK MRT STATION\n",
      "Fetched isochrone for interval 45M, MRT: EUNOS MRT STATION\n",
      "Fetched isochrone for interval 45M, MRT: CHINESE GARDEN MRT STATION\n",
      "Fetched isochrone for interval 45M, MRT: KADALOOR LRT STATION\n",
      "Fetched isochrone for interval 45M, MRT: CHENG LIM LRT STATION\n",
      "Fetched isochrone for interval 45M, MRT: SAM KEE LRT STATION\n",
      "Fetched isochrone for interval 45M, MRT: KRANJI MRT STATION\n",
      "Fetched isochrone for interval 45M, MRT: ANG MO KIO MRT STATION\n",
      "Fetched isochrone for interval 45M, MRT: RIVIERA LRT STATION\n",
      "Fetched isochrone for interval 45M, MRT: BANGKIT LRT STATION\n",
      "Fetched isochrone for interval 45M, MRT: PASIR PANJANG MRT STATION\n",
      "Fetched isochrone for interval 45M, MRT: HOLLAND VILLAGE MRT STATION\n",
      "Fetched isochrone for interval 45M, MRT: LABRADOR PARK MRT STATION\n",
      "Fetched isochrone for interval 45M, MRT: BOTANIC GARDENS MRT STATION\n",
      "Fetched isochrone for interval 45M, MRT: ONE-NORTH MRT STATION\n",
      "Fetched isochrone for interval 45M, MRT: KENT RIDGE MRT STATION\n",
      "Fetched isochrone for interval 45M, MRT: HAW PAR VILLA MRT STATION\n",
      "Fetched isochrone for interval 45M, MRT: MARINA BAY MRT STATION\n",
      "Fetched isochrone for interval 45M, MRT: KING ALBERT PARK MRT STATION\n",
      "Fetched isochrone for interval 45M, MRT: LITTLE INDIA MRT STATION\n",
      "Fetched isochrone for interval 45M, MRT: ROCHOR MRT STATION\n",
      "Fetched isochrone for interval 45M, MRT: SENJA LRT STATION\n",
      "Fetched isochrone for interval 45M, MRT: MOUNTBATTEN MRT STATION\n",
      "Fetched isochrone for interval 45M, MRT: CHOA CHU KANG MRT STATION\n",
      "Fetched isochrone for interval 45M, MRT: BOON KENG MRT STATION\n",
      "Fetched isochrone for interval 45M, MRT: BARTLEY MRT STATION\n",
      "Fetched isochrone for interval 45M, MRT: SEGAR LRT STATION\n",
      "Fetched isochrone for interval 45M, MRT: HILLVIEW MRT STATION\n",
      "Fetched isochrone for interval 45M, MRT: BEAUTY WORLD MRT STATION\n",
      "Fetched isochrone for interval 45M, MRT: BUKIT PANJANG MRT STATION\n",
      "Fetched isochrone for interval 45M, MRT: CASHEW MRT STATION\n",
      "Fetched isochrone for interval 45M, MRT: JOO KOON MRT STATION\n",
      "Fetched isochrone for interval 45M, MRT: YEW TEE MRT STATION\n",
      "Fetched isochrone for interval 45M, MRT: YISHUN MRT STATION\n",
      "Fetched isochrone for interval 45M, MRT: YIO CHU KANG MRT STATION\n",
      "Fetched isochrone for interval 45M, MRT: WOODLEIGH MRT STATION\n",
      "Fetched isochrone for interval 45M, MRT: WOODLANDS MRT STATION\n",
      "Fetched isochrone for interval 45M, MRT: UPPER CHANGI MRT STATION\n",
      "Fetched isochrone for interval 45M, MRT: TELOK AYER MRT STATION\n",
      "Fetched isochrone for interval 45M, MRT: TONGKANG LRT STATION\n",
      "Fetched isochrone for interval 45M, MRT: UBI MRT STATION\n",
      "Fetched isochrone for interval 45M, MRT: TOA PAYOH MRT STATION\n",
      "Fetched isochrone for interval 45M, MRT: TIONG BAHRU MRT STATION\n",
      "Fetched isochrone for interval 45M, MRT: THANGGAM LRT STATION\n",
      "Fetched isochrone for interval 45M, MRT: PROMENADE MRT STATION\n",
      "Fetched isochrone for interval 45M, MRT: BRAS BASAH MRT STATION\n",
      "Fetched isochrone for interval 45M, MRT: NICOLL HIGHWAY MRT STATION\n",
      "Fetched isochrone for interval 45M, MRT: POTONG PASIR MRT STATION\n",
      "Fetched isochrone for interval 45M, MRT: LAKESIDE MRT STATION\n",
      "Fetched isochrone for interval 45M, MRT: SAMUDERA LRT STATION\n",
      "Fetched isochrone for interval 45M, MRT: RANGGUNG LRT STATION\n",
      "Fetched isochrone for interval 45M, MRT: SEMBAWANG MRT STATION\n",
      "Fetched isochrone for interval 45M, MRT: PUNGGOL LRT STATION\n",
      "Fetched isochrone for interval 45M, MRT: KANGKAR LRT STATION\n",
      "Fetched isochrone for interval 45M, MRT: PIONEER MRT STATION\n",
      "Fetched isochrone for interval 45M, MRT: BUGIS MRT STATION\n",
      "Fetched isochrone for interval 45M, MRT: NEWTON MRT STATION\n",
      "Fetched isochrone for interval 45M, MRT: BUONA VISTA MRT STATION\n",
      "Fetched isochrone for interval 45M, MRT: OUTRAM PARK MRT STATION\n",
      "Fetched isochrone for interval 45M, MRT: CHINATOWN MRT STATION\n",
      "Fetched isochrone for interval 45M, MRT: EXPO MRT STATION\n",
      "Fetched isochrone for interval 45M, MRT: RAFFLES PLACE MRT STATION\n",
      "Fetched isochrone for interval 45M, MRT: TUAS CRESCENT MRT STATION\n",
      "Fetched isochrone for interval 45M, MRT: TUAS LINK MRT STATION\n",
      "Fetched isochrone for interval 45M, MRT: TUAS WEST ROAD MRT STATION\n",
      "Fetched isochrone for interval 45M, MRT: CITY HALL MRT STATION\n",
      "Fetched isochrone for interval 45M, MRT: BISHAN MRT STATION\n",
      "Fetched isochrone for interval 45M, MRT: FERNVALE LRT STATION\n",
      "Fetched isochrone for interval 45M, MRT: PUNGGOL MRT STATION\n",
      "Fetched isochrone for interval 45M, MRT: BUANGKOK MRT STATION\n",
      "Fetched isochrone for interval 45M, MRT: BAKAU LRT STATION\n",
      "Fetched isochrone for interval 45M, MRT: FARMWAY LRT STATION\n",
      "Fetched isochrone for interval 45M, MRT: COMMONWEALTH MRT STATION\n",
      "Fetched isochrone for interval 45M, MRT: KUPANG LRT STATION\n",
      "Fetched isochrone for interval 45M, MRT: DAMAI LRT STATION\n",
      "Fetched isochrone for interval 45M, MRT: QUEENSTOWN MRT STATION\n",
      "Fetched isochrone for interval 45M, MRT: KALLANG MRT STATION\n",
      "Fetched isochrone for interval 45M, MRT: RUMBIA LRT STATION\n",
      "Fetched isochrone for interval 45M, MRT: PETIR LRT STATION\n",
      "Fetched isochrone for interval 45M, MRT: BOON LAY MRT STATION\n",
      "Fetched isochrone for interval 45M, MRT: KEAT HONG LRT STATION\n",
      "Fetched isochrone for interval 45M, MRT: JELAPANG LRT STATION\n",
      "Fetched isochrone for interval 45M, MRT: CHOA CHU KANG LRT STATION\n",
      "Fetched isochrone for interval 45M, MRT: SENGKANG LRT STATION\n",
      "Fetched isochrone for interval 45M, MRT: HARBOURFRONT MRT STATION\n",
      "Fetched isochrone for interval 45M, MRT: PENDING LRT STATION\n",
      "Fetched isochrone for interval 45M, MRT: CLARKE QUAY MRT STATION\n",
      "Fetched isochrone for interval 45M, MRT: BUKIT PANJANG LRT STATION\n",
      "Fetched isochrone for interval 45M, MRT: FAJAR LRT STATION\n",
      "Fetched isochrone for interval 45M, MRT: KOVAN MRT STATION\n",
      "Fetched isochrone for interval 45M, MRT: LORONG CHUAN MRT STATION\n",
      "Fetched isochrone for interval 45M, MRT: MARYMOUNT MRT STATION\n",
      "Fetched isochrone for interval 45M, MRT: CALDECOTT MRT STATION\n",
      "Fetched isochrone for interval 45M, MRT: DOWNTOWN MRT STATION\n",
      "Fetched isochrone for interval 45M, MRT: GEYLANG BAHRU MRT STATION\n",
      "Fetched isochrone for interval 45M, MRT: BENDEMEER MRT STATION\n",
      "Fetched isochrone for interval 45M, MRT: BENCOOLEN MRT STATION\n",
      "Fetched isochrone for interval 45M, MRT: FORT CANNING MRT STATION\n",
      "Fetched isochrone for interval 45M, MRT: KAKI BUKIT MRT STATION\n",
      "Fetched isochrone for interval 45M, MRT: JALAN BESAR MRT STATION\n",
      "Fetched isochrone for interval 45M, MRT: MATTAR MRT STATION\n",
      "Fetched isochrone for interval 45M, MRT: MACPHERSON MRT STATION\n",
      "Fetched isochrone for interval 45M, MRT: BAYFRONT MRT STATION\n",
      "Fetched isochrone for interval 45M, MRT: FARRER ROAD MRT STATION\n",
      "Fetched isochrone for interval 45M, MRT: JURONG EAST MRT STATION\n",
      "Fetched isochrone for interval 45M, MRT: BEDOK NORTH MRT STATION\n",
      "Fetched isochrone for interval 45M, MRT: BEDOK RESERVOIR MRT STATION\n",
      "Fetched isochrone for interval 45M, MRT: ORCHARD MRT STATION\n",
      "Fetched isochrone for interval 45M, MRT: LENTOR MRT STATION\n",
      "Fetched isochrone for interval 45M, MRT: BRIGHT HILL MRT STATION\n",
      "Fetched isochrone for interval 45M, MRT: SPRINGLEAF MRT STATION\n",
      "Fetched isochrone for interval 45M, MRT: MARINA SOUTH PIER MRT STATION\n",
      "Fetched isochrone for interval 45M, MRT: CANBERRA MRT STATION\n",
      "Fetched isochrone for interval 45M, MRT: WOODLANDS SOUTH MRT STATION\n",
      "Fetched isochrone for interval 45M, MRT: WOODLANDS NORTH MRT STATION\n",
      "Fetched isochrone for interval 45M, MRT: GUL CIRCLE MRT STATION\n",
      "Fetched isochrone for interval 45M, MRT: HAVELOCK MRT STATION\n",
      "Fetched isochrone for interval 45M, MRT: NAPIER MRT STATION\n",
      "Fetched isochrone for interval 45M, MRT: SHENTON WAY MRT STATION\n",
      "Fetched isochrone for interval 45M, MRT: GARDENS BY THE BAY MRT STATION\n",
      "Fetched isochrone for interval 45M, MRT: GREAT WORLD MRT STATION\n",
      "Fetched isochrone for interval 45M, MRT: MAXWELL MRT STATION\n",
      "Fetched isochrone for interval 45M, MRT: ORCHARD BOULEVARD MRT STATION\n",
      "Fetched isochrone for interval 45M, MRT: TELOK BLANGAH MRT STATION\n",
      "Fetched isochrone for interval 45M, MRT: TECK WHYE LRT STATION\n",
      "Fetched isochrone for interval 45M, MRT: TANJONG PAGAR MRT STATION\n",
      "Fetched isochrone for interval 45M, MRT: TANAH MERAH MRT STATION\n",
      "Fetched isochrone for interval 45M, MRT: TAN KAH KEE MRT STATION\n",
      "Fetched isochrone for interval 45M, MRT: UPPER THOMSON MRT STATION\n",
      "Fetched isochrone for interval 45M, MRT: MAYFLOWER MRT STATION\n",
      "Fetched isochrone for interval 50M, MRT: ESPLANADE MRT STATION\n",
      "Fetched isochrone for interval 50M, MRT: PAYA LEBAR MRT STATION\n",
      "Fetched isochrone for interval 50M, MRT: DHOBY GHAUT MRT STATION\n",
      "Fetched isochrone for interval 50M, MRT: DAKOTA MRT STATION\n",
      "Fetched isochrone for interval 50M, MRT: LAVENDER MRT STATION\n",
      "Fetched isochrone for interval 50M, MRT: RENJONG LRT STATION\n",
      "Fetched isochrone for interval 50M, MRT: DOVER MRT STATION\n",
      "Fetched isochrone for interval 50M, MRT: HOUGANG MRT STATION\n",
      "Fetched isochrone for interval 50M, MRT: PHOENIX LRT STATION\n",
      "Fetched isochrone for interval 50M, MRT: ALJUNIED MRT STATION\n",
      "Fetched isochrone for interval 50M, MRT: COVE LRT STATION\n",
      "Fetched isochrone for interval 50M, MRT: PASIR RIS MRT STATION\n",
      "Fetched isochrone for interval 50M, MRT: ADMIRALTY MRT STATION\n",
      "Fetched isochrone for interval 50M, MRT: KEMBANGAN MRT STATION\n",
      "Fetched isochrone for interval 50M, MRT: PUNGGOL POINT LRT STATION\n",
      "Fetched isochrone for interval 50M, MRT: MARSILING MRT STATION\n",
      "Fetched isochrone for interval 50M, MRT: COMPASSVALE LRT STATION\n",
      "Fetched isochrone for interval 50M, MRT: KHATIB MRT STATION\n",
      "Fetched isochrone for interval 50M, MRT: LAYAR LRT STATION\n",
      "Fetched isochrone for interval 50M, MRT: TAMPINES WEST MRT STATION\n",
      "Fetched isochrone for interval 50M, MRT: TAMPINES MRT STATION\n",
      "Fetched isochrone for interval 50M, MRT: TAMPINES EAST MRT STATION\n",
      "Fetched isochrone for interval 50M, MRT: TAI SENG MRT STATION\n",
      "Fetched isochrone for interval 50M, MRT: SUMANG LRT STATION\n",
      "Fetched isochrone for interval 50M, MRT: STEVENS MRT STATION\n",
      "Fetched isochrone for interval 50M, MRT: STADIUM MRT STATION\n",
      "Fetched isochrone for interval 50M, MRT: SIXTH AVENUE MRT STATION\n",
      "Fetched isochrone for interval 50M, MRT: SOUTH VIEW LRT STATION\n",
      "Fetched isochrone for interval 50M, MRT: SOO TECK LRT STATION\n",
      "Fetched isochrone for interval 50M, MRT: SOMERSET MRT STATION\n",
      "Fetched isochrone for interval 50M, MRT: SIMEI MRT STATION\n",
      "Fetched isochrone for interval 50M, MRT: SERANGOON MRT STATION\n",
      "Fetched isochrone for interval 50M, MRT: SENGKANG MRT STATION\n",
      "Fetched isochrone for interval 50M, MRT: BRADDELL MRT STATION\n",
      "Fetched isochrone for interval 50M, MRT: NOVENA MRT STATION\n",
      "Fetched isochrone for interval 50M, MRT: FARRER PARK MRT STATION\n",
      "Fetched isochrone for interval 50M, MRT: BEDOK MRT STATION\n",
      "Fetched isochrone for interval 50M, MRT: REDHILL MRT STATION\n",
      "Fetched isochrone for interval 50M, MRT: CHANGI AIRPORT MRT STATION\n",
      "Fetched isochrone for interval 50M, MRT: CORAL EDGE LRT STATION\n",
      "Fetched isochrone for interval 50M, MRT: CLEMENTI MRT STATION\n",
      "Fetched isochrone for interval 50M, MRT: BUKIT BATOK MRT STATION\n",
      "Fetched isochrone for interval 50M, MRT: OASIS LRT STATION\n",
      "Fetched isochrone for interval 50M, MRT: NIBONG LRT STATION\n",
      "Fetched isochrone for interval 50M, MRT: MERIDIAN LRT STATION\n",
      "Fetched isochrone for interval 50M, MRT: BUKIT GOMBAK MRT STATION\n",
      "Fetched isochrone for interval 50M, MRT: EUNOS MRT STATION\n",
      "Fetched isochrone for interval 50M, MRT: CHINESE GARDEN MRT STATION\n",
      "Fetched isochrone for interval 50M, MRT: KADALOOR LRT STATION\n",
      "Fetched isochrone for interval 50M, MRT: CHENG LIM LRT STATION\n",
      "Fetched isochrone for interval 50M, MRT: SAM KEE LRT STATION\n",
      "Fetched isochrone for interval 50M, MRT: KRANJI MRT STATION\n",
      "Fetched isochrone for interval 50M, MRT: ANG MO KIO MRT STATION\n",
      "Fetched isochrone for interval 50M, MRT: RIVIERA LRT STATION\n",
      "Fetched isochrone for interval 50M, MRT: BANGKIT LRT STATION\n",
      "Fetched isochrone for interval 50M, MRT: PASIR PANJANG MRT STATION\n",
      "Fetched isochrone for interval 50M, MRT: HOLLAND VILLAGE MRT STATION\n",
      "Fetched isochrone for interval 50M, MRT: LABRADOR PARK MRT STATION\n",
      "Fetched isochrone for interval 50M, MRT: BOTANIC GARDENS MRT STATION\n",
      "Fetched isochrone for interval 50M, MRT: ONE-NORTH MRT STATION\n",
      "Fetched isochrone for interval 50M, MRT: KENT RIDGE MRT STATION\n",
      "Fetched isochrone for interval 50M, MRT: HAW PAR VILLA MRT STATION\n",
      "Fetched isochrone for interval 50M, MRT: MARINA BAY MRT STATION\n",
      "Fetched isochrone for interval 50M, MRT: KING ALBERT PARK MRT STATION\n",
      "Fetched isochrone for interval 50M, MRT: LITTLE INDIA MRT STATION\n",
      "Fetched isochrone for interval 50M, MRT: ROCHOR MRT STATION\n",
      "Fetched isochrone for interval 50M, MRT: SENJA LRT STATION\n",
      "Fetched isochrone for interval 50M, MRT: MOUNTBATTEN MRT STATION\n",
      "Fetched isochrone for interval 50M, MRT: CHOA CHU KANG MRT STATION\n",
      "Fetched isochrone for interval 50M, MRT: BOON KENG MRT STATION\n",
      "Fetched isochrone for interval 50M, MRT: BARTLEY MRT STATION\n",
      "Fetched isochrone for interval 50M, MRT: SEGAR LRT STATION\n",
      "Fetched isochrone for interval 50M, MRT: HILLVIEW MRT STATION\n",
      "Fetched isochrone for interval 50M, MRT: BEAUTY WORLD MRT STATION\n",
      "Fetched isochrone for interval 50M, MRT: BUKIT PANJANG MRT STATION\n",
      "Fetched isochrone for interval 50M, MRT: CASHEW MRT STATION\n",
      "Fetched isochrone for interval 50M, MRT: JOO KOON MRT STATION\n",
      "Fetched isochrone for interval 50M, MRT: YEW TEE MRT STATION\n",
      "Fetched isochrone for interval 50M, MRT: YISHUN MRT STATION\n",
      "Fetched isochrone for interval 50M, MRT: YIO CHU KANG MRT STATION\n",
      "Fetched isochrone for interval 50M, MRT: WOODLEIGH MRT STATION\n",
      "Fetched isochrone for interval 50M, MRT: WOODLANDS MRT STATION\n",
      "Fetched isochrone for interval 50M, MRT: UPPER CHANGI MRT STATION\n",
      "Fetched isochrone for interval 50M, MRT: TELOK AYER MRT STATION\n",
      "Fetched isochrone for interval 50M, MRT: TONGKANG LRT STATION\n",
      "Fetched isochrone for interval 50M, MRT: UBI MRT STATION\n",
      "Fetched isochrone for interval 50M, MRT: TOA PAYOH MRT STATION\n",
      "Fetched isochrone for interval 50M, MRT: TIONG BAHRU MRT STATION\n",
      "Fetched isochrone for interval 50M, MRT: THANGGAM LRT STATION\n",
      "Fetched isochrone for interval 50M, MRT: PROMENADE MRT STATION\n",
      "Fetched isochrone for interval 50M, MRT: BRAS BASAH MRT STATION\n",
      "Fetched isochrone for interval 50M, MRT: NICOLL HIGHWAY MRT STATION\n",
      "Fetched isochrone for interval 50M, MRT: POTONG PASIR MRT STATION\n",
      "Fetched isochrone for interval 50M, MRT: LAKESIDE MRT STATION\n",
      "Fetched isochrone for interval 50M, MRT: SAMUDERA LRT STATION\n",
      "Fetched isochrone for interval 50M, MRT: RANGGUNG LRT STATION\n",
      "Fetched isochrone for interval 50M, MRT: SEMBAWANG MRT STATION\n",
      "Fetched isochrone for interval 50M, MRT: PUNGGOL LRT STATION\n",
      "Fetched isochrone for interval 50M, MRT: KANGKAR LRT STATION\n",
      "Fetched isochrone for interval 50M, MRT: PIONEER MRT STATION\n",
      "Fetched isochrone for interval 50M, MRT: BUGIS MRT STATION\n",
      "Fetched isochrone for interval 50M, MRT: NEWTON MRT STATION\n",
      "Fetched isochrone for interval 50M, MRT: BUONA VISTA MRT STATION\n",
      "Fetched isochrone for interval 50M, MRT: OUTRAM PARK MRT STATION\n",
      "Fetched isochrone for interval 50M, MRT: CHINATOWN MRT STATION\n",
      "Fetched isochrone for interval 50M, MRT: EXPO MRT STATION\n",
      "Fetched isochrone for interval 50M, MRT: RAFFLES PLACE MRT STATION\n",
      "Fetched isochrone for interval 50M, MRT: TUAS CRESCENT MRT STATION\n",
      "Fetched isochrone for interval 50M, MRT: TUAS LINK MRT STATION\n",
      "Fetched isochrone for interval 50M, MRT: TUAS WEST ROAD MRT STATION\n",
      "Fetched isochrone for interval 50M, MRT: CITY HALL MRT STATION\n",
      "Fetched isochrone for interval 50M, MRT: BISHAN MRT STATION\n",
      "Fetched isochrone for interval 50M, MRT: FERNVALE LRT STATION\n",
      "Fetched isochrone for interval 50M, MRT: PUNGGOL MRT STATION\n",
      "Fetched isochrone for interval 50M, MRT: BUANGKOK MRT STATION\n",
      "Fetched isochrone for interval 50M, MRT: BAKAU LRT STATION\n",
      "Fetched isochrone for interval 50M, MRT: FARMWAY LRT STATION\n",
      "Fetched isochrone for interval 50M, MRT: COMMONWEALTH MRT STATION\n",
      "Fetched isochrone for interval 50M, MRT: KUPANG LRT STATION\n",
      "Fetched isochrone for interval 50M, MRT: DAMAI LRT STATION\n",
      "Fetched isochrone for interval 50M, MRT: QUEENSTOWN MRT STATION\n",
      "Fetched isochrone for interval 50M, MRT: KALLANG MRT STATION\n",
      "Fetched isochrone for interval 50M, MRT: RUMBIA LRT STATION\n",
      "Fetched isochrone for interval 50M, MRT: PETIR LRT STATION\n",
      "Fetched isochrone for interval 50M, MRT: BOON LAY MRT STATION\n",
      "Fetched isochrone for interval 50M, MRT: KEAT HONG LRT STATION\n",
      "Fetched isochrone for interval 50M, MRT: JELAPANG LRT STATION\n",
      "Fetched isochrone for interval 50M, MRT: CHOA CHU KANG LRT STATION\n",
      "Fetched isochrone for interval 50M, MRT: SENGKANG LRT STATION\n",
      "Fetched isochrone for interval 50M, MRT: HARBOURFRONT MRT STATION\n",
      "Fetched isochrone for interval 50M, MRT: PENDING LRT STATION\n",
      "Fetched isochrone for interval 50M, MRT: CLARKE QUAY MRT STATION\n",
      "Fetched isochrone for interval 50M, MRT: BUKIT PANJANG LRT STATION\n",
      "Fetched isochrone for interval 50M, MRT: FAJAR LRT STATION\n",
      "Fetched isochrone for interval 50M, MRT: KOVAN MRT STATION\n",
      "Fetched isochrone for interval 50M, MRT: LORONG CHUAN MRT STATION\n",
      "Fetched isochrone for interval 50M, MRT: MARYMOUNT MRT STATION\n",
      "Fetched isochrone for interval 50M, MRT: CALDECOTT MRT STATION\n",
      "Fetched isochrone for interval 50M, MRT: DOWNTOWN MRT STATION\n",
      "Fetched isochrone for interval 50M, MRT: GEYLANG BAHRU MRT STATION\n",
      "Fetched isochrone for interval 50M, MRT: BENDEMEER MRT STATION\n",
      "Fetched isochrone for interval 50M, MRT: BENCOOLEN MRT STATION\n",
      "Fetched isochrone for interval 50M, MRT: FORT CANNING MRT STATION\n",
      "Fetched isochrone for interval 50M, MRT: KAKI BUKIT MRT STATION\n",
      "Fetched isochrone for interval 50M, MRT: JALAN BESAR MRT STATION\n",
      "Fetched isochrone for interval 50M, MRT: MATTAR MRT STATION\n",
      "Fetched isochrone for interval 50M, MRT: MACPHERSON MRT STATION\n",
      "Fetched isochrone for interval 50M, MRT: BAYFRONT MRT STATION\n",
      "Fetched isochrone for interval 50M, MRT: FARRER ROAD MRT STATION\n",
      "Fetched isochrone for interval 50M, MRT: JURONG EAST MRT STATION\n",
      "Fetched isochrone for interval 50M, MRT: BEDOK NORTH MRT STATION\n",
      "Fetched isochrone for interval 50M, MRT: BEDOK RESERVOIR MRT STATION\n",
      "Fetched isochrone for interval 50M, MRT: ORCHARD MRT STATION\n",
      "Fetched isochrone for interval 50M, MRT: LENTOR MRT STATION\n",
      "Fetched isochrone for interval 50M, MRT: BRIGHT HILL MRT STATION\n",
      "Fetched isochrone for interval 50M, MRT: SPRINGLEAF MRT STATION\n",
      "Fetched isochrone for interval 50M, MRT: MARINA SOUTH PIER MRT STATION\n",
      "Fetched isochrone for interval 50M, MRT: CANBERRA MRT STATION\n",
      "Fetched isochrone for interval 50M, MRT: WOODLANDS SOUTH MRT STATION\n",
      "Fetched isochrone for interval 50M, MRT: WOODLANDS NORTH MRT STATION\n",
      "Fetched isochrone for interval 50M, MRT: GUL CIRCLE MRT STATION\n",
      "Fetched isochrone for interval 50M, MRT: HAVELOCK MRT STATION\n",
      "Fetched isochrone for interval 50M, MRT: NAPIER MRT STATION\n",
      "Fetched isochrone for interval 50M, MRT: SHENTON WAY MRT STATION\n",
      "Fetched isochrone for interval 50M, MRT: GARDENS BY THE BAY MRT STATION\n",
      "Fetched isochrone for interval 50M, MRT: GREAT WORLD MRT STATION\n",
      "Fetched isochrone for interval 50M, MRT: MAXWELL MRT STATION\n",
      "Fetched isochrone for interval 50M, MRT: ORCHARD BOULEVARD MRT STATION\n",
      "Fetched isochrone for interval 50M, MRT: TELOK BLANGAH MRT STATION\n",
      "Fetched isochrone for interval 50M, MRT: TECK WHYE LRT STATION\n",
      "Fetched isochrone for interval 50M, MRT: TANJONG PAGAR MRT STATION\n",
      "Fetched isochrone for interval 50M, MRT: TANAH MERAH MRT STATION\n",
      "Fetched isochrone for interval 50M, MRT: TAN KAH KEE MRT STATION\n",
      "Fetched isochrone for interval 50M, MRT: UPPER THOMSON MRT STATION\n",
      "Fetched isochrone for interval 50M, MRT: MAYFLOWER MRT STATION\n",
      "Fetched isochrone for interval 55M, MRT: ESPLANADE MRT STATION\n",
      "Fetched isochrone for interval 55M, MRT: PAYA LEBAR MRT STATION\n",
      "Fetched isochrone for interval 55M, MRT: DHOBY GHAUT MRT STATION\n",
      "Fetched isochrone for interval 55M, MRT: DAKOTA MRT STATION\n",
      "Fetched isochrone for interval 55M, MRT: LAVENDER MRT STATION\n",
      "Fetched isochrone for interval 55M, MRT: RENJONG LRT STATION\n",
      "Fetched isochrone for interval 55M, MRT: DOVER MRT STATION\n",
      "Fetched isochrone for interval 55M, MRT: HOUGANG MRT STATION\n",
      "Fetched isochrone for interval 55M, MRT: PHOENIX LRT STATION\n",
      "Fetched isochrone for interval 55M, MRT: ALJUNIED MRT STATION\n",
      "Fetched isochrone for interval 55M, MRT: COVE LRT STATION\n",
      "Fetched isochrone for interval 55M, MRT: PASIR RIS MRT STATION\n",
      "Fetched isochrone for interval 55M, MRT: ADMIRALTY MRT STATION\n",
      "Fetched isochrone for interval 55M, MRT: KEMBANGAN MRT STATION\n",
      "Fetched isochrone for interval 55M, MRT: PUNGGOL POINT LRT STATION\n",
      "Fetched isochrone for interval 55M, MRT: MARSILING MRT STATION\n",
      "Fetched isochrone for interval 55M, MRT: COMPASSVALE LRT STATION\n",
      "Fetched isochrone for interval 55M, MRT: KHATIB MRT STATION\n",
      "Fetched isochrone for interval 55M, MRT: LAYAR LRT STATION\n",
      "Fetched isochrone for interval 55M, MRT: TAMPINES WEST MRT STATION\n",
      "Fetched isochrone for interval 55M, MRT: TAMPINES MRT STATION\n",
      "Fetched isochrone for interval 55M, MRT: TAMPINES EAST MRT STATION\n",
      "Fetched isochrone for interval 55M, MRT: TAI SENG MRT STATION\n",
      "Fetched isochrone for interval 55M, MRT: SUMANG LRT STATION\n",
      "Fetched isochrone for interval 55M, MRT: STEVENS MRT STATION\n",
      "Fetched isochrone for interval 55M, MRT: STADIUM MRT STATION\n",
      "Fetched isochrone for interval 55M, MRT: SIXTH AVENUE MRT STATION\n",
      "Fetched isochrone for interval 55M, MRT: SOUTH VIEW LRT STATION\n",
      "Fetched isochrone for interval 55M, MRT: SOO TECK LRT STATION\n",
      "Fetched isochrone for interval 55M, MRT: SOMERSET MRT STATION\n",
      "Fetched isochrone for interval 55M, MRT: SIMEI MRT STATION\n",
      "Fetched isochrone for interval 55M, MRT: SERANGOON MRT STATION\n",
      "Fetched isochrone for interval 55M, MRT: SENGKANG MRT STATION\n",
      "Fetched isochrone for interval 55M, MRT: BRADDELL MRT STATION\n",
      "Fetched isochrone for interval 55M, MRT: NOVENA MRT STATION\n",
      "Fetched isochrone for interval 55M, MRT: FARRER PARK MRT STATION\n",
      "Fetched isochrone for interval 55M, MRT: BEDOK MRT STATION\n",
      "Fetched isochrone for interval 55M, MRT: REDHILL MRT STATION\n",
      "Fetched isochrone for interval 55M, MRT: CHANGI AIRPORT MRT STATION\n",
      "Fetched isochrone for interval 55M, MRT: CORAL EDGE LRT STATION\n",
      "Fetched isochrone for interval 55M, MRT: CLEMENTI MRT STATION\n",
      "Fetched isochrone for interval 55M, MRT: BUKIT BATOK MRT STATION\n",
      "Fetched isochrone for interval 55M, MRT: OASIS LRT STATION\n",
      "Fetched isochrone for interval 55M, MRT: NIBONG LRT STATION\n",
      "Fetched isochrone for interval 55M, MRT: MERIDIAN LRT STATION\n",
      "Fetched isochrone for interval 55M, MRT: BUKIT GOMBAK MRT STATION\n",
      "Fetched isochrone for interval 55M, MRT: EUNOS MRT STATION\n",
      "Fetched isochrone for interval 55M, MRT: CHINESE GARDEN MRT STATION\n",
      "Fetched isochrone for interval 55M, MRT: KADALOOR LRT STATION\n",
      "Fetched isochrone for interval 55M, MRT: CHENG LIM LRT STATION\n",
      "Fetched isochrone for interval 55M, MRT: SAM KEE LRT STATION\n",
      "Fetched isochrone for interval 55M, MRT: KRANJI MRT STATION\n",
      "Fetched isochrone for interval 55M, MRT: ANG MO KIO MRT STATION\n",
      "Fetched isochrone for interval 55M, MRT: RIVIERA LRT STATION\n",
      "Fetched isochrone for interval 55M, MRT: BANGKIT LRT STATION\n",
      "Fetched isochrone for interval 55M, MRT: PASIR PANJANG MRT STATION\n",
      "Fetched isochrone for interval 55M, MRT: HOLLAND VILLAGE MRT STATION\n",
      "Fetched isochrone for interval 55M, MRT: LABRADOR PARK MRT STATION\n",
      "Fetched isochrone for interval 55M, MRT: BOTANIC GARDENS MRT STATION\n",
      "Fetched isochrone for interval 55M, MRT: ONE-NORTH MRT STATION\n",
      "Fetched isochrone for interval 55M, MRT: KENT RIDGE MRT STATION\n",
      "Fetched isochrone for interval 55M, MRT: HAW PAR VILLA MRT STATION\n",
      "Fetched isochrone for interval 55M, MRT: MARINA BAY MRT STATION\n",
      "Fetched isochrone for interval 55M, MRT: KING ALBERT PARK MRT STATION\n",
      "Fetched isochrone for interval 55M, MRT: LITTLE INDIA MRT STATION\n",
      "Fetched isochrone for interval 55M, MRT: ROCHOR MRT STATION\n",
      "Fetched isochrone for interval 55M, MRT: SENJA LRT STATION\n",
      "Fetched isochrone for interval 55M, MRT: MOUNTBATTEN MRT STATION\n",
      "Fetched isochrone for interval 55M, MRT: CHOA CHU KANG MRT STATION\n",
      "Fetched isochrone for interval 55M, MRT: BOON KENG MRT STATION\n",
      "Fetched isochrone for interval 55M, MRT: BARTLEY MRT STATION\n",
      "Fetched isochrone for interval 55M, MRT: SEGAR LRT STATION\n",
      "Fetched isochrone for interval 55M, MRT: HILLVIEW MRT STATION\n",
      "Fetched isochrone for interval 55M, MRT: BEAUTY WORLD MRT STATION\n",
      "Fetched isochrone for interval 55M, MRT: BUKIT PANJANG MRT STATION\n",
      "Fetched isochrone for interval 55M, MRT: CASHEW MRT STATION\n",
      "Fetched isochrone for interval 55M, MRT: JOO KOON MRT STATION\n",
      "Fetched isochrone for interval 55M, MRT: YEW TEE MRT STATION\n",
      "Fetched isochrone for interval 55M, MRT: YISHUN MRT STATION\n",
      "Fetched isochrone for interval 55M, MRT: YIO CHU KANG MRT STATION\n",
      "Fetched isochrone for interval 55M, MRT: WOODLEIGH MRT STATION\n",
      "Fetched isochrone for interval 55M, MRT: WOODLANDS MRT STATION\n",
      "Fetched isochrone for interval 55M, MRT: UPPER CHANGI MRT STATION\n",
      "Fetched isochrone for interval 55M, MRT: TELOK AYER MRT STATION\n",
      "Fetched isochrone for interval 55M, MRT: TONGKANG LRT STATION\n",
      "Fetched isochrone for interval 55M, MRT: UBI MRT STATION\n",
      "Fetched isochrone for interval 55M, MRT: TOA PAYOH MRT STATION\n",
      "Fetched isochrone for interval 55M, MRT: TIONG BAHRU MRT STATION\n",
      "Fetched isochrone for interval 55M, MRT: THANGGAM LRT STATION\n",
      "Fetched isochrone for interval 55M, MRT: PROMENADE MRT STATION\n",
      "Fetched isochrone for interval 55M, MRT: BRAS BASAH MRT STATION\n",
      "Fetched isochrone for interval 55M, MRT: NICOLL HIGHWAY MRT STATION\n",
      "Fetched isochrone for interval 55M, MRT: POTONG PASIR MRT STATION\n",
      "Fetched isochrone for interval 55M, MRT: LAKESIDE MRT STATION\n",
      "Fetched isochrone for interval 55M, MRT: SAMUDERA LRT STATION\n",
      "Fetched isochrone for interval 55M, MRT: RANGGUNG LRT STATION\n",
      "Fetched isochrone for interval 55M, MRT: SEMBAWANG MRT STATION\n",
      "Fetched isochrone for interval 55M, MRT: PUNGGOL LRT STATION\n",
      "Fetched isochrone for interval 55M, MRT: KANGKAR LRT STATION\n",
      "Fetched isochrone for interval 55M, MRT: PIONEER MRT STATION\n",
      "Fetched isochrone for interval 55M, MRT: BUGIS MRT STATION\n",
      "Fetched isochrone for interval 55M, MRT: NEWTON MRT STATION\n",
      "Fetched isochrone for interval 55M, MRT: BUONA VISTA MRT STATION\n",
      "Fetched isochrone for interval 55M, MRT: OUTRAM PARK MRT STATION\n",
      "Fetched isochrone for interval 55M, MRT: CHINATOWN MRT STATION\n",
      "Fetched isochrone for interval 55M, MRT: EXPO MRT STATION\n",
      "Fetched isochrone for interval 55M, MRT: RAFFLES PLACE MRT STATION\n",
      "Fetched isochrone for interval 55M, MRT: TUAS CRESCENT MRT STATION\n",
      "Fetched isochrone for interval 55M, MRT: TUAS LINK MRT STATION\n",
      "Fetched isochrone for interval 55M, MRT: TUAS WEST ROAD MRT STATION\n",
      "Fetched isochrone for interval 55M, MRT: CITY HALL MRT STATION\n",
      "Fetched isochrone for interval 55M, MRT: BISHAN MRT STATION\n",
      "Fetched isochrone for interval 55M, MRT: FERNVALE LRT STATION\n",
      "Fetched isochrone for interval 55M, MRT: PUNGGOL MRT STATION\n",
      "Fetched isochrone for interval 55M, MRT: BUANGKOK MRT STATION\n",
      "Fetched isochrone for interval 55M, MRT: BAKAU LRT STATION\n",
      "Fetched isochrone for interval 55M, MRT: FARMWAY LRT STATION\n",
      "Fetched isochrone for interval 55M, MRT: COMMONWEALTH MRT STATION\n",
      "Fetched isochrone for interval 55M, MRT: KUPANG LRT STATION\n",
      "Fetched isochrone for interval 55M, MRT: DAMAI LRT STATION\n",
      "Fetched isochrone for interval 55M, MRT: QUEENSTOWN MRT STATION\n",
      "Fetched isochrone for interval 55M, MRT: KALLANG MRT STATION\n",
      "Fetched isochrone for interval 55M, MRT: RUMBIA LRT STATION\n",
      "Fetched isochrone for interval 55M, MRT: PETIR LRT STATION\n",
      "Fetched isochrone for interval 55M, MRT: BOON LAY MRT STATION\n",
      "Fetched isochrone for interval 55M, MRT: KEAT HONG LRT STATION\n",
      "Fetched isochrone for interval 55M, MRT: JELAPANG LRT STATION\n",
      "Fetched isochrone for interval 55M, MRT: CHOA CHU KANG LRT STATION\n",
      "Fetched isochrone for interval 55M, MRT: SENGKANG LRT STATION\n",
      "Fetched isochrone for interval 55M, MRT: HARBOURFRONT MRT STATION\n",
      "Fetched isochrone for interval 55M, MRT: PENDING LRT STATION\n",
      "Fetched isochrone for interval 55M, MRT: CLARKE QUAY MRT STATION\n",
      "Fetched isochrone for interval 55M, MRT: BUKIT PANJANG LRT STATION\n",
      "Fetched isochrone for interval 55M, MRT: FAJAR LRT STATION\n",
      "Fetched isochrone for interval 55M, MRT: KOVAN MRT STATION\n",
      "Fetched isochrone for interval 55M, MRT: LORONG CHUAN MRT STATION\n",
      "Fetched isochrone for interval 55M, MRT: MARYMOUNT MRT STATION\n",
      "Fetched isochrone for interval 55M, MRT: CALDECOTT MRT STATION\n",
      "Fetched isochrone for interval 55M, MRT: DOWNTOWN MRT STATION\n",
      "Fetched isochrone for interval 55M, MRT: GEYLANG BAHRU MRT STATION\n",
      "Fetched isochrone for interval 55M, MRT: BENDEMEER MRT STATION\n",
      "Fetched isochrone for interval 55M, MRT: BENCOOLEN MRT STATION\n",
      "Fetched isochrone for interval 55M, MRT: FORT CANNING MRT STATION\n",
      "Fetched isochrone for interval 55M, MRT: KAKI BUKIT MRT STATION\n",
      "Fetched isochrone for interval 55M, MRT: JALAN BESAR MRT STATION\n",
      "Fetched isochrone for interval 55M, MRT: MATTAR MRT STATION\n",
      "Fetched isochrone for interval 55M, MRT: MACPHERSON MRT STATION\n",
      "Fetched isochrone for interval 55M, MRT: BAYFRONT MRT STATION\n",
      "Fetched isochrone for interval 55M, MRT: FARRER ROAD MRT STATION\n",
      "Fetched isochrone for interval 55M, MRT: JURONG EAST MRT STATION\n",
      "Fetched isochrone for interval 55M, MRT: BEDOK NORTH MRT STATION\n",
      "Fetched isochrone for interval 55M, MRT: BEDOK RESERVOIR MRT STATION\n",
      "Fetched isochrone for interval 55M, MRT: ORCHARD MRT STATION\n",
      "Fetched isochrone for interval 55M, MRT: LENTOR MRT STATION\n",
      "Fetched isochrone for interval 55M, MRT: BRIGHT HILL MRT STATION\n",
      "Fetched isochrone for interval 55M, MRT: SPRINGLEAF MRT STATION\n",
      "Fetched isochrone for interval 55M, MRT: MARINA SOUTH PIER MRT STATION\n",
      "Fetched isochrone for interval 55M, MRT: CANBERRA MRT STATION\n",
      "Fetched isochrone for interval 55M, MRT: WOODLANDS SOUTH MRT STATION\n",
      "Fetched isochrone for interval 55M, MRT: WOODLANDS NORTH MRT STATION\n",
      "Fetched isochrone for interval 55M, MRT: GUL CIRCLE MRT STATION\n",
      "Fetched isochrone for interval 55M, MRT: HAVELOCK MRT STATION\n",
      "Fetched isochrone for interval 55M, MRT: NAPIER MRT STATION\n",
      "Fetched isochrone for interval 55M, MRT: SHENTON WAY MRT STATION\n",
      "Fetched isochrone for interval 55M, MRT: GARDENS BY THE BAY MRT STATION\n",
      "Fetched isochrone for interval 55M, MRT: GREAT WORLD MRT STATION\n",
      "Fetched isochrone for interval 55M, MRT: MAXWELL MRT STATION\n",
      "Fetched isochrone for interval 55M, MRT: ORCHARD BOULEVARD MRT STATION\n",
      "Fetched isochrone for interval 55M, MRT: TELOK BLANGAH MRT STATION\n",
      "Fetched isochrone for interval 55M, MRT: TECK WHYE LRT STATION\n",
      "Fetched isochrone for interval 55M, MRT: TANJONG PAGAR MRT STATION\n",
      "Fetched isochrone for interval 55M, MRT: TANAH MERAH MRT STATION\n",
      "Fetched isochrone for interval 55M, MRT: TAN KAH KEE MRT STATION\n",
      "Fetched isochrone for interval 55M, MRT: UPPER THOMSON MRT STATION\n",
      "Fetched isochrone for interval 55M, MRT: MAYFLOWER MRT STATION\n",
      "Fetched isochrone for interval 60M, MRT: ESPLANADE MRT STATION\n",
      "Fetched isochrone for interval 60M, MRT: PAYA LEBAR MRT STATION\n",
      "Fetched isochrone for interval 60M, MRT: DHOBY GHAUT MRT STATION\n",
      "Fetched isochrone for interval 60M, MRT: DAKOTA MRT STATION\n",
      "Fetched isochrone for interval 60M, MRT: LAVENDER MRT STATION\n",
      "Fetched isochrone for interval 60M, MRT: RENJONG LRT STATION\n",
      "Fetched isochrone for interval 60M, MRT: DOVER MRT STATION\n",
      "Fetched isochrone for interval 60M, MRT: HOUGANG MRT STATION\n",
      "Fetched isochrone for interval 60M, MRT: PHOENIX LRT STATION\n",
      "Fetched isochrone for interval 60M, MRT: ALJUNIED MRT STATION\n",
      "Fetched isochrone for interval 60M, MRT: COVE LRT STATION\n",
      "Fetched isochrone for interval 60M, MRT: PASIR RIS MRT STATION\n",
      "Fetched isochrone for interval 60M, MRT: ADMIRALTY MRT STATION\n",
      "Fetched isochrone for interval 60M, MRT: KEMBANGAN MRT STATION\n",
      "Fetched isochrone for interval 60M, MRT: PUNGGOL POINT LRT STATION\n",
      "Fetched isochrone for interval 60M, MRT: MARSILING MRT STATION\n",
      "Fetched isochrone for interval 60M, MRT: COMPASSVALE LRT STATION\n",
      "Fetched isochrone for interval 60M, MRT: KHATIB MRT STATION\n",
      "Fetched isochrone for interval 60M, MRT: LAYAR LRT STATION\n",
      "Fetched isochrone for interval 60M, MRT: TAMPINES WEST MRT STATION\n",
      "Fetched isochrone for interval 60M, MRT: TAMPINES MRT STATION\n",
      "Fetched isochrone for interval 60M, MRT: TAMPINES EAST MRT STATION\n",
      "Fetched isochrone for interval 60M, MRT: TAI SENG MRT STATION\n",
      "Fetched isochrone for interval 60M, MRT: SUMANG LRT STATION\n",
      "Fetched isochrone for interval 60M, MRT: STEVENS MRT STATION\n",
      "Fetched isochrone for interval 60M, MRT: STADIUM MRT STATION\n",
      "Fetched isochrone for interval 60M, MRT: SIXTH AVENUE MRT STATION\n",
      "Fetched isochrone for interval 60M, MRT: SOUTH VIEW LRT STATION\n",
      "Fetched isochrone for interval 60M, MRT: SOO TECK LRT STATION\n",
      "Fetched isochrone for interval 60M, MRT: SOMERSET MRT STATION\n",
      "Fetched isochrone for interval 60M, MRT: SIMEI MRT STATION\n",
      "Fetched isochrone for interval 60M, MRT: SERANGOON MRT STATION\n",
      "Fetched isochrone for interval 60M, MRT: SENGKANG MRT STATION\n",
      "Fetched isochrone for interval 60M, MRT: BRADDELL MRT STATION\n",
      "Fetched isochrone for interval 60M, MRT: NOVENA MRT STATION\n",
      "Fetched isochrone for interval 60M, MRT: FARRER PARK MRT STATION\n",
      "Fetched isochrone for interval 60M, MRT: BEDOK MRT STATION\n",
      "Fetched isochrone for interval 60M, MRT: REDHILL MRT STATION\n",
      "Fetched isochrone for interval 60M, MRT: CHANGI AIRPORT MRT STATION\n",
      "Fetched isochrone for interval 60M, MRT: CORAL EDGE LRT STATION\n",
      "Fetched isochrone for interval 60M, MRT: CLEMENTI MRT STATION\n",
      "Fetched isochrone for interval 60M, MRT: BUKIT BATOK MRT STATION\n",
      "Fetched isochrone for interval 60M, MRT: OASIS LRT STATION\n",
      "Fetched isochrone for interval 60M, MRT: NIBONG LRT STATION\n",
      "Fetched isochrone for interval 60M, MRT: MERIDIAN LRT STATION\n",
      "Fetched isochrone for interval 60M, MRT: BUKIT GOMBAK MRT STATION\n",
      "Fetched isochrone for interval 60M, MRT: EUNOS MRT STATION\n",
      "Fetched isochrone for interval 60M, MRT: CHINESE GARDEN MRT STATION\n",
      "Fetched isochrone for interval 60M, MRT: KADALOOR LRT STATION\n",
      "Fetched isochrone for interval 60M, MRT: CHENG LIM LRT STATION\n",
      "Fetched isochrone for interval 60M, MRT: SAM KEE LRT STATION\n",
      "Fetched isochrone for interval 60M, MRT: KRANJI MRT STATION\n",
      "Fetched isochrone for interval 60M, MRT: ANG MO KIO MRT STATION\n",
      "Fetched isochrone for interval 60M, MRT: RIVIERA LRT STATION\n",
      "Fetched isochrone for interval 60M, MRT: BANGKIT LRT STATION\n",
      "Fetched isochrone for interval 60M, MRT: PASIR PANJANG MRT STATION\n",
      "Fetched isochrone for interval 60M, MRT: HOLLAND VILLAGE MRT STATION\n",
      "Fetched isochrone for interval 60M, MRT: LABRADOR PARK MRT STATION\n",
      "Fetched isochrone for interval 60M, MRT: BOTANIC GARDENS MRT STATION\n",
      "Fetched isochrone for interval 60M, MRT: ONE-NORTH MRT STATION\n",
      "Fetched isochrone for interval 60M, MRT: KENT RIDGE MRT STATION\n",
      "Fetched isochrone for interval 60M, MRT: HAW PAR VILLA MRT STATION\n",
      "Fetched isochrone for interval 60M, MRT: MARINA BAY MRT STATION\n",
      "Fetched isochrone for interval 60M, MRT: KING ALBERT PARK MRT STATION\n",
      "Fetched isochrone for interval 60M, MRT: LITTLE INDIA MRT STATION\n",
      "Fetched isochrone for interval 60M, MRT: ROCHOR MRT STATION\n",
      "Fetched isochrone for interval 60M, MRT: SENJA LRT STATION\n",
      "Fetched isochrone for interval 60M, MRT: MOUNTBATTEN MRT STATION\n",
      "Fetched isochrone for interval 60M, MRT: CHOA CHU KANG MRT STATION\n",
      "Fetched isochrone for interval 60M, MRT: BOON KENG MRT STATION\n",
      "Fetched isochrone for interval 60M, MRT: BARTLEY MRT STATION\n",
      "Fetched isochrone for interval 60M, MRT: SEGAR LRT STATION\n",
      "Fetched isochrone for interval 60M, MRT: HILLVIEW MRT STATION\n",
      "Fetched isochrone for interval 60M, MRT: BEAUTY WORLD MRT STATION\n",
      "Fetched isochrone for interval 60M, MRT: BUKIT PANJANG MRT STATION\n",
      "Fetched isochrone for interval 60M, MRT: CASHEW MRT STATION\n",
      "Fetched isochrone for interval 60M, MRT: JOO KOON MRT STATION\n",
      "Fetched isochrone for interval 60M, MRT: YEW TEE MRT STATION\n",
      "Fetched isochrone for interval 60M, MRT: YISHUN MRT STATION\n",
      "Fetched isochrone for interval 60M, MRT: YIO CHU KANG MRT STATION\n",
      "Fetched isochrone for interval 60M, MRT: WOODLEIGH MRT STATION\n",
      "Fetched isochrone for interval 60M, MRT: WOODLANDS MRT STATION\n",
      "Fetched isochrone for interval 60M, MRT: UPPER CHANGI MRT STATION\n",
      "Fetched isochrone for interval 60M, MRT: TELOK AYER MRT STATION\n",
      "Fetched isochrone for interval 60M, MRT: TONGKANG LRT STATION\n",
      "Fetched isochrone for interval 60M, MRT: UBI MRT STATION\n",
      "Fetched isochrone for interval 60M, MRT: TOA PAYOH MRT STATION\n",
      "Fetched isochrone for interval 60M, MRT: TIONG BAHRU MRT STATION\n",
      "Fetched isochrone for interval 60M, MRT: THANGGAM LRT STATION\n",
      "Fetched isochrone for interval 60M, MRT: PROMENADE MRT STATION\n",
      "Fetched isochrone for interval 60M, MRT: BRAS BASAH MRT STATION\n",
      "Fetched isochrone for interval 60M, MRT: NICOLL HIGHWAY MRT STATION\n",
      "Fetched isochrone for interval 60M, MRT: POTONG PASIR MRT STATION\n",
      "Fetched isochrone for interval 60M, MRT: LAKESIDE MRT STATION\n",
      "Fetched isochrone for interval 60M, MRT: SAMUDERA LRT STATION\n",
      "Fetched isochrone for interval 60M, MRT: RANGGUNG LRT STATION\n",
      "Fetched isochrone for interval 60M, MRT: SEMBAWANG MRT STATION\n",
      "Fetched isochrone for interval 60M, MRT: PUNGGOL LRT STATION\n",
      "Fetched isochrone for interval 60M, MRT: KANGKAR LRT STATION\n",
      "Fetched isochrone for interval 60M, MRT: PIONEER MRT STATION\n",
      "Fetched isochrone for interval 60M, MRT: BUGIS MRT STATION\n",
      "Fetched isochrone for interval 60M, MRT: NEWTON MRT STATION\n",
      "Fetched isochrone for interval 60M, MRT: BUONA VISTA MRT STATION\n",
      "Fetched isochrone for interval 60M, MRT: OUTRAM PARK MRT STATION\n",
      "Fetched isochrone for interval 60M, MRT: CHINATOWN MRT STATION\n",
      "Fetched isochrone for interval 60M, MRT: EXPO MRT STATION\n",
      "Fetched isochrone for interval 60M, MRT: RAFFLES PLACE MRT STATION\n",
      "Fetched isochrone for interval 60M, MRT: TUAS CRESCENT MRT STATION\n",
      "Fetched isochrone for interval 60M, MRT: TUAS LINK MRT STATION\n",
      "Fetched isochrone for interval 60M, MRT: TUAS WEST ROAD MRT STATION\n",
      "Fetched isochrone for interval 60M, MRT: CITY HALL MRT STATION\n",
      "Fetched isochrone for interval 60M, MRT: BISHAN MRT STATION\n",
      "Fetched isochrone for interval 60M, MRT: FERNVALE LRT STATION\n",
      "Fetched isochrone for interval 60M, MRT: PUNGGOL MRT STATION\n",
      "Fetched isochrone for interval 60M, MRT: BUANGKOK MRT STATION\n",
      "Fetched isochrone for interval 60M, MRT: BAKAU LRT STATION\n",
      "Fetched isochrone for interval 60M, MRT: FARMWAY LRT STATION\n",
      "Fetched isochrone for interval 60M, MRT: COMMONWEALTH MRT STATION\n",
      "Fetched isochrone for interval 60M, MRT: KUPANG LRT STATION\n",
      "Fetched isochrone for interval 60M, MRT: DAMAI LRT STATION\n",
      "Fetched isochrone for interval 60M, MRT: QUEENSTOWN MRT STATION\n",
      "Fetched isochrone for interval 60M, MRT: KALLANG MRT STATION\n",
      "Fetched isochrone for interval 60M, MRT: RUMBIA LRT STATION\n",
      "Fetched isochrone for interval 60M, MRT: PETIR LRT STATION\n",
      "Fetched isochrone for interval 60M, MRT: BOON LAY MRT STATION\n",
      "Fetched isochrone for interval 60M, MRT: KEAT HONG LRT STATION\n",
      "Fetched isochrone for interval 60M, MRT: JELAPANG LRT STATION\n",
      "Fetched isochrone for interval 60M, MRT: CHOA CHU KANG LRT STATION\n",
      "Fetched isochrone for interval 60M, MRT: SENGKANG LRT STATION\n",
      "Fetched isochrone for interval 60M, MRT: HARBOURFRONT MRT STATION\n",
      "Fetched isochrone for interval 60M, MRT: PENDING LRT STATION\n",
      "Fetched isochrone for interval 60M, MRT: CLARKE QUAY MRT STATION\n",
      "Fetched isochrone for interval 60M, MRT: BUKIT PANJANG LRT STATION\n",
      "Fetched isochrone for interval 60M, MRT: FAJAR LRT STATION\n",
      "Fetched isochrone for interval 60M, MRT: KOVAN MRT STATION\n",
      "Fetched isochrone for interval 60M, MRT: LORONG CHUAN MRT STATION\n",
      "Fetched isochrone for interval 60M, MRT: MARYMOUNT MRT STATION\n",
      "Fetched isochrone for interval 60M, MRT: CALDECOTT MRT STATION\n",
      "Fetched isochrone for interval 60M, MRT: DOWNTOWN MRT STATION\n",
      "Fetched isochrone for interval 60M, MRT: GEYLANG BAHRU MRT STATION\n",
      "Fetched isochrone for interval 60M, MRT: BENDEMEER MRT STATION\n",
      "Fetched isochrone for interval 60M, MRT: BENCOOLEN MRT STATION\n",
      "Fetched isochrone for interval 60M, MRT: FORT CANNING MRT STATION\n",
      "Fetched isochrone for interval 60M, MRT: KAKI BUKIT MRT STATION\n",
      "Fetched isochrone for interval 60M, MRT: JALAN BESAR MRT STATION\n",
      "Fetched isochrone for interval 60M, MRT: MATTAR MRT STATION\n",
      "Fetched isochrone for interval 60M, MRT: MACPHERSON MRT STATION\n",
      "Fetched isochrone for interval 60M, MRT: BAYFRONT MRT STATION\n",
      "Fetched isochrone for interval 60M, MRT: FARRER ROAD MRT STATION\n",
      "Fetched isochrone for interval 60M, MRT: JURONG EAST MRT STATION\n",
      "Fetched isochrone for interval 60M, MRT: BEDOK NORTH MRT STATION\n",
      "Fetched isochrone for interval 60M, MRT: BEDOK RESERVOIR MRT STATION\n",
      "Fetched isochrone for interval 60M, MRT: ORCHARD MRT STATION\n",
      "Fetched isochrone for interval 60M, MRT: LENTOR MRT STATION\n",
      "Fetched isochrone for interval 60M, MRT: BRIGHT HILL MRT STATION\n",
      "Fetched isochrone for interval 60M, MRT: SPRINGLEAF MRT STATION\n",
      "Fetched isochrone for interval 60M, MRT: MARINA SOUTH PIER MRT STATION\n",
      "Fetched isochrone for interval 60M, MRT: CANBERRA MRT STATION\n",
      "Fetched isochrone for interval 60M, MRT: WOODLANDS SOUTH MRT STATION\n",
      "Fetched isochrone for interval 60M, MRT: WOODLANDS NORTH MRT STATION\n",
      "Fetched isochrone for interval 60M, MRT: GUL CIRCLE MRT STATION\n",
      "Fetched isochrone for interval 60M, MRT: HAVELOCK MRT STATION\n",
      "Fetched isochrone for interval 60M, MRT: NAPIER MRT STATION\n",
      "Fetched isochrone for interval 60M, MRT: SHENTON WAY MRT STATION\n",
      "Fetched isochrone for interval 60M, MRT: GARDENS BY THE BAY MRT STATION\n",
      "Fetched isochrone for interval 60M, MRT: GREAT WORLD MRT STATION\n",
      "Fetched isochrone for interval 60M, MRT: MAXWELL MRT STATION\n",
      "Fetched isochrone for interval 60M, MRT: ORCHARD BOULEVARD MRT STATION\n",
      "Fetched isochrone for interval 60M, MRT: TELOK BLANGAH MRT STATION\n",
      "Fetched isochrone for interval 60M, MRT: TECK WHYE LRT STATION\n",
      "Fetched isochrone for interval 60M, MRT: TANJONG PAGAR MRT STATION\n",
      "Fetched isochrone for interval 60M, MRT: TANAH MERAH MRT STATION\n",
      "Fetched isochrone for interval 60M, MRT: TAN KAH KEE MRT STATION\n",
      "Fetched isochrone for interval 60M, MRT: UPPER THOMSON MRT STATION\n",
      "Fetched isochrone for interval 60M, MRT: MAYFLOWER MRT STATION\n"
     ]
    }
   ],
   "source": [
    "bus_isochrones = mrt_df.copy()\n",
    "bus_isochrones = fetch_all_isochrones(bus_isochrones,mode=\"BUS,WALK\", interval=5)\n",
    "bus_isochrones.to_json('../../data/Isochrone_data/bus_isochrones.json', orient='records', lines=True, force_ascii=False)"
   ]
  },
  {
   "cell_type": "code",
   "execution_count": 14,
   "metadata": {},
   "outputs": [
    {
     "name": "stdout",
     "output_type": "stream",
     "text": [
      "Fetched isochrone for interval 10M, MRT: ESPLANADE MRT STATION\n",
      "Fetched isochrone for interval 10M, MRT: PAYA LEBAR MRT STATION\n",
      "Fetched isochrone for interval 10M, MRT: DHOBY GHAUT MRT STATION\n",
      "Fetched isochrone for interval 10M, MRT: DAKOTA MRT STATION\n",
      "Fetched isochrone for interval 10M, MRT: LAVENDER MRT STATION\n",
      "Fetched isochrone for interval 10M, MRT: RENJONG LRT STATION\n",
      "Fetched isochrone for interval 10M, MRT: DOVER MRT STATION\n",
      "Fetched isochrone for interval 10M, MRT: HOUGANG MRT STATION\n",
      "Fetched isochrone for interval 10M, MRT: PHOENIX LRT STATION\n",
      "Fetched isochrone for interval 10M, MRT: ALJUNIED MRT STATION\n",
      "Fetched isochrone for interval 10M, MRT: COVE LRT STATION\n",
      "Fetched isochrone for interval 10M, MRT: PASIR RIS MRT STATION\n",
      "Fetched isochrone for interval 10M, MRT: ADMIRALTY MRT STATION\n",
      "Fetched isochrone for interval 10M, MRT: KEMBANGAN MRT STATION\n",
      "Fetched isochrone for interval 10M, MRT: PUNGGOL POINT LRT STATION\n",
      "Fetched isochrone for interval 10M, MRT: MARSILING MRT STATION\n",
      "Fetched isochrone for interval 10M, MRT: COMPASSVALE LRT STATION\n",
      "Fetched isochrone for interval 10M, MRT: KHATIB MRT STATION\n",
      "Fetched isochrone for interval 10M, MRT: LAYAR LRT STATION\n",
      "Fetched isochrone for interval 10M, MRT: TAMPINES WEST MRT STATION\n",
      "Fetched isochrone for interval 10M, MRT: TAMPINES MRT STATION\n",
      "Fetched isochrone for interval 10M, MRT: TAMPINES EAST MRT STATION\n",
      "Fetched isochrone for interval 10M, MRT: TAI SENG MRT STATION\n",
      "Fetched isochrone for interval 10M, MRT: SUMANG LRT STATION\n",
      "Fetched isochrone for interval 10M, MRT: STEVENS MRT STATION\n",
      "Fetched isochrone for interval 10M, MRT: STADIUM MRT STATION\n",
      "Fetched isochrone for interval 10M, MRT: SIXTH AVENUE MRT STATION\n",
      "Fetched isochrone for interval 10M, MRT: SOUTH VIEW LRT STATION\n",
      "Fetched isochrone for interval 10M, MRT: SOO TECK LRT STATION\n",
      "Fetched isochrone for interval 10M, MRT: SOMERSET MRT STATION\n",
      "Fetched isochrone for interval 10M, MRT: SIMEI MRT STATION\n",
      "Fetched isochrone for interval 10M, MRT: SERANGOON MRT STATION\n",
      "Fetched isochrone for interval 10M, MRT: SENGKANG MRT STATION\n",
      "Fetched isochrone for interval 10M, MRT: BRADDELL MRT STATION\n",
      "Fetched isochrone for interval 10M, MRT: NOVENA MRT STATION\n",
      "Fetched isochrone for interval 10M, MRT: FARRER PARK MRT STATION\n",
      "Fetched isochrone for interval 10M, MRT: BEDOK MRT STATION\n",
      "Fetched isochrone for interval 10M, MRT: REDHILL MRT STATION\n",
      "Fetched isochrone for interval 10M, MRT: CHANGI AIRPORT MRT STATION\n",
      "Fetched isochrone for interval 10M, MRT: CORAL EDGE LRT STATION\n",
      "Fetched isochrone for interval 10M, MRT: CLEMENTI MRT STATION\n",
      "Fetched isochrone for interval 10M, MRT: BUKIT BATOK MRT STATION\n",
      "Fetched isochrone for interval 10M, MRT: OASIS LRT STATION\n",
      "Fetched isochrone for interval 10M, MRT: NIBONG LRT STATION\n",
      "Fetched isochrone for interval 10M, MRT: MERIDIAN LRT STATION\n",
      "Fetched isochrone for interval 10M, MRT: BUKIT GOMBAK MRT STATION\n",
      "Fetched isochrone for interval 10M, MRT: EUNOS MRT STATION\n",
      "Fetched isochrone for interval 10M, MRT: CHINESE GARDEN MRT STATION\n",
      "Fetched isochrone for interval 10M, MRT: KADALOOR LRT STATION\n",
      "Fetched isochrone for interval 10M, MRT: CHENG LIM LRT STATION\n",
      "Fetched isochrone for interval 10M, MRT: SAM KEE LRT STATION\n",
      "Fetched isochrone for interval 10M, MRT: KRANJI MRT STATION\n",
      "Fetched isochrone for interval 10M, MRT: ANG MO KIO MRT STATION\n",
      "Fetched isochrone for interval 10M, MRT: RIVIERA LRT STATION\n",
      "Fetched isochrone for interval 10M, MRT: BANGKIT LRT STATION\n",
      "Fetched isochrone for interval 10M, MRT: PASIR PANJANG MRT STATION\n",
      "Fetched isochrone for interval 10M, MRT: HOLLAND VILLAGE MRT STATION\n",
      "Fetched isochrone for interval 10M, MRT: LABRADOR PARK MRT STATION\n",
      "Fetched isochrone for interval 10M, MRT: BOTANIC GARDENS MRT STATION\n",
      "Fetched isochrone for interval 10M, MRT: ONE-NORTH MRT STATION\n",
      "Fetched isochrone for interval 10M, MRT: KENT RIDGE MRT STATION\n",
      "Fetched isochrone for interval 10M, MRT: HAW PAR VILLA MRT STATION\n",
      "Fetched isochrone for interval 10M, MRT: MARINA BAY MRT STATION\n",
      "Fetched isochrone for interval 10M, MRT: KING ALBERT PARK MRT STATION\n",
      "Fetched isochrone for interval 10M, MRT: LITTLE INDIA MRT STATION\n",
      "Fetched isochrone for interval 10M, MRT: ROCHOR MRT STATION\n",
      "Fetched isochrone for interval 10M, MRT: SENJA LRT STATION\n",
      "Fetched isochrone for interval 10M, MRT: MOUNTBATTEN MRT STATION\n",
      "Fetched isochrone for interval 10M, MRT: CHOA CHU KANG MRT STATION\n",
      "Fetched isochrone for interval 10M, MRT: BOON KENG MRT STATION\n",
      "Fetched isochrone for interval 10M, MRT: BARTLEY MRT STATION\n",
      "Fetched isochrone for interval 10M, MRT: SEGAR LRT STATION\n",
      "Fetched isochrone for interval 10M, MRT: HILLVIEW MRT STATION\n",
      "Fetched isochrone for interval 10M, MRT: BEAUTY WORLD MRT STATION\n",
      "Fetched isochrone for interval 10M, MRT: BUKIT PANJANG MRT STATION\n",
      "Fetched isochrone for interval 10M, MRT: CASHEW MRT STATION\n",
      "Fetched isochrone for interval 10M, MRT: JOO KOON MRT STATION\n",
      "Fetched isochrone for interval 10M, MRT: YEW TEE MRT STATION\n",
      "Fetched isochrone for interval 10M, MRT: YISHUN MRT STATION\n",
      "Fetched isochrone for interval 10M, MRT: YIO CHU KANG MRT STATION\n",
      "Fetched isochrone for interval 10M, MRT: WOODLEIGH MRT STATION\n",
      "Fetched isochrone for interval 10M, MRT: WOODLANDS MRT STATION\n",
      "Fetched isochrone for interval 10M, MRT: UPPER CHANGI MRT STATION\n",
      "Fetched isochrone for interval 10M, MRT: TELOK AYER MRT STATION\n",
      "Fetched isochrone for interval 10M, MRT: TONGKANG LRT STATION\n",
      "Fetched isochrone for interval 10M, MRT: UBI MRT STATION\n",
      "Fetched isochrone for interval 10M, MRT: TOA PAYOH MRT STATION\n",
      "Fetched isochrone for interval 10M, MRT: TIONG BAHRU MRT STATION\n",
      "Fetched isochrone for interval 10M, MRT: THANGGAM LRT STATION\n",
      "Fetched isochrone for interval 10M, MRT: PROMENADE MRT STATION\n",
      "Fetched isochrone for interval 10M, MRT: BRAS BASAH MRT STATION\n",
      "Fetched isochrone for interval 10M, MRT: NICOLL HIGHWAY MRT STATION\n",
      "Fetched isochrone for interval 10M, MRT: POTONG PASIR MRT STATION\n",
      "Fetched isochrone for interval 10M, MRT: LAKESIDE MRT STATION\n",
      "Fetched isochrone for interval 10M, MRT: SAMUDERA LRT STATION\n",
      "Fetched isochrone for interval 10M, MRT: RANGGUNG LRT STATION\n",
      "Fetched isochrone for interval 10M, MRT: SEMBAWANG MRT STATION\n",
      "Fetched isochrone for interval 10M, MRT: PUNGGOL LRT STATION\n",
      "Fetched isochrone for interval 10M, MRT: KANGKAR LRT STATION\n",
      "Fetched isochrone for interval 10M, MRT: PIONEER MRT STATION\n",
      "Fetched isochrone for interval 10M, MRT: BUGIS MRT STATION\n",
      "Fetched isochrone for interval 10M, MRT: NEWTON MRT STATION\n",
      "Fetched isochrone for interval 10M, MRT: BUONA VISTA MRT STATION\n",
      "Fetched isochrone for interval 10M, MRT: OUTRAM PARK MRT STATION\n",
      "Fetched isochrone for interval 10M, MRT: CHINATOWN MRT STATION\n",
      "Fetched isochrone for interval 10M, MRT: EXPO MRT STATION\n",
      "Fetched isochrone for interval 10M, MRT: RAFFLES PLACE MRT STATION\n",
      "Fetched isochrone for interval 10M, MRT: TUAS CRESCENT MRT STATION\n",
      "Fetched isochrone for interval 10M, MRT: TUAS LINK MRT STATION\n",
      "Fetched isochrone for interval 10M, MRT: TUAS WEST ROAD MRT STATION\n",
      "Fetched isochrone for interval 10M, MRT: CITY HALL MRT STATION\n",
      "Fetched isochrone for interval 10M, MRT: BISHAN MRT STATION\n",
      "Fetched isochrone for interval 10M, MRT: FERNVALE LRT STATION\n",
      "Fetched isochrone for interval 10M, MRT: PUNGGOL MRT STATION\n",
      "Fetched isochrone for interval 10M, MRT: BUANGKOK MRT STATION\n",
      "Fetched isochrone for interval 10M, MRT: BAKAU LRT STATION\n",
      "Fetched isochrone for interval 10M, MRT: FARMWAY LRT STATION\n",
      "Fetched isochrone for interval 10M, MRT: COMMONWEALTH MRT STATION\n",
      "Fetched isochrone for interval 10M, MRT: KUPANG LRT STATION\n",
      "Fetched isochrone for interval 10M, MRT: DAMAI LRT STATION\n",
      "Fetched isochrone for interval 10M, MRT: QUEENSTOWN MRT STATION\n",
      "Fetched isochrone for interval 10M, MRT: KALLANG MRT STATION\n",
      "Fetched isochrone for interval 10M, MRT: RUMBIA LRT STATION\n",
      "Fetched isochrone for interval 10M, MRT: PETIR LRT STATION\n",
      "Fetched isochrone for interval 10M, MRT: BOON LAY MRT STATION\n",
      "Fetched isochrone for interval 10M, MRT: KEAT HONG LRT STATION\n",
      "Fetched isochrone for interval 10M, MRT: JELAPANG LRT STATION\n",
      "Fetched isochrone for interval 10M, MRT: CHOA CHU KANG LRT STATION\n",
      "Fetched isochrone for interval 10M, MRT: SENGKANG LRT STATION\n",
      "Fetched isochrone for interval 10M, MRT: HARBOURFRONT MRT STATION\n",
      "Fetched isochrone for interval 10M, MRT: PENDING LRT STATION\n",
      "Fetched isochrone for interval 10M, MRT: CLARKE QUAY MRT STATION\n",
      "Fetched isochrone for interval 10M, MRT: BUKIT PANJANG LRT STATION\n",
      "Fetched isochrone for interval 10M, MRT: FAJAR LRT STATION\n",
      "Fetched isochrone for interval 10M, MRT: KOVAN MRT STATION\n",
      "Fetched isochrone for interval 10M, MRT: LORONG CHUAN MRT STATION\n",
      "Fetched isochrone for interval 10M, MRT: MARYMOUNT MRT STATION\n",
      "Fetched isochrone for interval 10M, MRT: CALDECOTT MRT STATION\n",
      "Fetched isochrone for interval 10M, MRT: DOWNTOWN MRT STATION\n",
      "Fetched isochrone for interval 10M, MRT: GEYLANG BAHRU MRT STATION\n",
      "Fetched isochrone for interval 10M, MRT: BENDEMEER MRT STATION\n",
      "Fetched isochrone for interval 10M, MRT: BENCOOLEN MRT STATION\n",
      "Fetched isochrone for interval 10M, MRT: FORT CANNING MRT STATION\n",
      "Fetched isochrone for interval 10M, MRT: KAKI BUKIT MRT STATION\n",
      "Fetched isochrone for interval 10M, MRT: JALAN BESAR MRT STATION\n",
      "Fetched isochrone for interval 10M, MRT: MATTAR MRT STATION\n",
      "Fetched isochrone for interval 10M, MRT: MACPHERSON MRT STATION\n",
      "Fetched isochrone for interval 10M, MRT: BAYFRONT MRT STATION\n",
      "Fetched isochrone for interval 10M, MRT: FARRER ROAD MRT STATION\n",
      "Fetched isochrone for interval 10M, MRT: JURONG EAST MRT STATION\n",
      "Fetched isochrone for interval 10M, MRT: BEDOK NORTH MRT STATION\n",
      "Fetched isochrone for interval 10M, MRT: BEDOK RESERVOIR MRT STATION\n",
      "Fetched isochrone for interval 10M, MRT: ORCHARD MRT STATION\n",
      "Fetched isochrone for interval 10M, MRT: LENTOR MRT STATION\n",
      "Fetched isochrone for interval 10M, MRT: BRIGHT HILL MRT STATION\n",
      "Fetched isochrone for interval 10M, MRT: SPRINGLEAF MRT STATION\n",
      "Fetched isochrone for interval 10M, MRT: MARINA SOUTH PIER MRT STATION\n",
      "Fetched isochrone for interval 10M, MRT: CANBERRA MRT STATION\n",
      "Fetched isochrone for interval 10M, MRT: WOODLANDS SOUTH MRT STATION\n",
      "Fetched isochrone for interval 10M, MRT: WOODLANDS NORTH MRT STATION\n",
      "Fetched isochrone for interval 10M, MRT: GUL CIRCLE MRT STATION\n",
      "Fetched isochrone for interval 10M, MRT: HAVELOCK MRT STATION\n",
      "Fetched isochrone for interval 10M, MRT: NAPIER MRT STATION\n",
      "Fetched isochrone for interval 10M, MRT: SHENTON WAY MRT STATION\n",
      "Fetched isochrone for interval 10M, MRT: GARDENS BY THE BAY MRT STATION\n",
      "Fetched isochrone for interval 10M, MRT: GREAT WORLD MRT STATION\n",
      "Fetched isochrone for interval 10M, MRT: MAXWELL MRT STATION\n",
      "Fetched isochrone for interval 10M, MRT: ORCHARD BOULEVARD MRT STATION\n",
      "Fetched isochrone for interval 10M, MRT: TELOK BLANGAH MRT STATION\n",
      "Fetched isochrone for interval 10M, MRT: TECK WHYE LRT STATION\n",
      "Fetched isochrone for interval 10M, MRT: TANJONG PAGAR MRT STATION\n",
      "Fetched isochrone for interval 10M, MRT: TANAH MERAH MRT STATION\n",
      "Fetched isochrone for interval 10M, MRT: TAN KAH KEE MRT STATION\n",
      "Fetched isochrone for interval 10M, MRT: UPPER THOMSON MRT STATION\n",
      "Fetched isochrone for interval 10M, MRT: MAYFLOWER MRT STATION\n",
      "Fetched isochrone for interval 15M, MRT: ESPLANADE MRT STATION\n",
      "Fetched isochrone for interval 15M, MRT: PAYA LEBAR MRT STATION\n",
      "Fetched isochrone for interval 15M, MRT: DHOBY GHAUT MRT STATION\n",
      "Fetched isochrone for interval 15M, MRT: DAKOTA MRT STATION\n",
      "Fetched isochrone for interval 15M, MRT: LAVENDER MRT STATION\n",
      "Fetched isochrone for interval 15M, MRT: RENJONG LRT STATION\n",
      "Fetched isochrone for interval 15M, MRT: DOVER MRT STATION\n",
      "Fetched isochrone for interval 15M, MRT: HOUGANG MRT STATION\n",
      "Fetched isochrone for interval 15M, MRT: PHOENIX LRT STATION\n",
      "Fetched isochrone for interval 15M, MRT: ALJUNIED MRT STATION\n",
      "Fetched isochrone for interval 15M, MRT: COVE LRT STATION\n",
      "Fetched isochrone for interval 15M, MRT: PASIR RIS MRT STATION\n",
      "Fetched isochrone for interval 15M, MRT: ADMIRALTY MRT STATION\n",
      "Fetched isochrone for interval 15M, MRT: KEMBANGAN MRT STATION\n",
      "Fetched isochrone for interval 15M, MRT: PUNGGOL POINT LRT STATION\n",
      "Fetched isochrone for interval 15M, MRT: MARSILING MRT STATION\n",
      "Fetched isochrone for interval 15M, MRT: COMPASSVALE LRT STATION\n",
      "Fetched isochrone for interval 15M, MRT: KHATIB MRT STATION\n",
      "Fetched isochrone for interval 15M, MRT: LAYAR LRT STATION\n",
      "Fetched isochrone for interval 15M, MRT: TAMPINES WEST MRT STATION\n",
      "Fetched isochrone for interval 15M, MRT: TAMPINES MRT STATION\n",
      "Fetched isochrone for interval 15M, MRT: TAMPINES EAST MRT STATION\n",
      "Fetched isochrone for interval 15M, MRT: TAI SENG MRT STATION\n",
      "Fetched isochrone for interval 15M, MRT: SUMANG LRT STATION\n",
      "Fetched isochrone for interval 15M, MRT: STEVENS MRT STATION\n",
      "Fetched isochrone for interval 15M, MRT: STADIUM MRT STATION\n",
      "Fetched isochrone for interval 15M, MRT: SIXTH AVENUE MRT STATION\n",
      "Fetched isochrone for interval 15M, MRT: SOUTH VIEW LRT STATION\n",
      "Fetched isochrone for interval 15M, MRT: SOO TECK LRT STATION\n",
      "Fetched isochrone for interval 15M, MRT: SOMERSET MRT STATION\n",
      "Fetched isochrone for interval 15M, MRT: SIMEI MRT STATION\n",
      "Fetched isochrone for interval 15M, MRT: SERANGOON MRT STATION\n",
      "Fetched isochrone for interval 15M, MRT: SENGKANG MRT STATION\n",
      "Fetched isochrone for interval 15M, MRT: BRADDELL MRT STATION\n",
      "Fetched isochrone for interval 15M, MRT: NOVENA MRT STATION\n",
      "Fetched isochrone for interval 15M, MRT: FARRER PARK MRT STATION\n",
      "Fetched isochrone for interval 15M, MRT: BEDOK MRT STATION\n",
      "Fetched isochrone for interval 15M, MRT: REDHILL MRT STATION\n",
      "Fetched isochrone for interval 15M, MRT: CHANGI AIRPORT MRT STATION\n",
      "Fetched isochrone for interval 15M, MRT: CORAL EDGE LRT STATION\n",
      "Fetched isochrone for interval 15M, MRT: CLEMENTI MRT STATION\n",
      "Fetched isochrone for interval 15M, MRT: BUKIT BATOK MRT STATION\n",
      "Fetched isochrone for interval 15M, MRT: OASIS LRT STATION\n",
      "Fetched isochrone for interval 15M, MRT: NIBONG LRT STATION\n",
      "Fetched isochrone for interval 15M, MRT: MERIDIAN LRT STATION\n",
      "Fetched isochrone for interval 15M, MRT: BUKIT GOMBAK MRT STATION\n",
      "Fetched isochrone for interval 15M, MRT: EUNOS MRT STATION\n",
      "Fetched isochrone for interval 15M, MRT: CHINESE GARDEN MRT STATION\n",
      "Fetched isochrone for interval 15M, MRT: KADALOOR LRT STATION\n",
      "Fetched isochrone for interval 15M, MRT: CHENG LIM LRT STATION\n",
      "Fetched isochrone for interval 15M, MRT: SAM KEE LRT STATION\n",
      "Fetched isochrone for interval 15M, MRT: KRANJI MRT STATION\n",
      "Fetched isochrone for interval 15M, MRT: ANG MO KIO MRT STATION\n",
      "Fetched isochrone for interval 15M, MRT: RIVIERA LRT STATION\n",
      "Fetched isochrone for interval 15M, MRT: BANGKIT LRT STATION\n",
      "Fetched isochrone for interval 15M, MRT: PASIR PANJANG MRT STATION\n",
      "Fetched isochrone for interval 15M, MRT: HOLLAND VILLAGE MRT STATION\n",
      "Fetched isochrone for interval 15M, MRT: LABRADOR PARK MRT STATION\n",
      "Fetched isochrone for interval 15M, MRT: BOTANIC GARDENS MRT STATION\n",
      "Fetched isochrone for interval 15M, MRT: ONE-NORTH MRT STATION\n",
      "Fetched isochrone for interval 15M, MRT: KENT RIDGE MRT STATION\n",
      "Fetched isochrone for interval 15M, MRT: HAW PAR VILLA MRT STATION\n",
      "Fetched isochrone for interval 15M, MRT: MARINA BAY MRT STATION\n",
      "Fetched isochrone for interval 15M, MRT: KING ALBERT PARK MRT STATION\n",
      "Fetched isochrone for interval 15M, MRT: LITTLE INDIA MRT STATION\n",
      "Fetched isochrone for interval 15M, MRT: ROCHOR MRT STATION\n",
      "Fetched isochrone for interval 15M, MRT: SENJA LRT STATION\n",
      "Fetched isochrone for interval 15M, MRT: MOUNTBATTEN MRT STATION\n",
      "Fetched isochrone for interval 15M, MRT: CHOA CHU KANG MRT STATION\n",
      "Fetched isochrone for interval 15M, MRT: BOON KENG MRT STATION\n",
      "Fetched isochrone for interval 15M, MRT: BARTLEY MRT STATION\n",
      "Fetched isochrone for interval 15M, MRT: SEGAR LRT STATION\n",
      "Fetched isochrone for interval 15M, MRT: HILLVIEW MRT STATION\n",
      "Fetched isochrone for interval 15M, MRT: BEAUTY WORLD MRT STATION\n",
      "Fetched isochrone for interval 15M, MRT: BUKIT PANJANG MRT STATION\n",
      "Fetched isochrone for interval 15M, MRT: CASHEW MRT STATION\n",
      "Fetched isochrone for interval 15M, MRT: JOO KOON MRT STATION\n",
      "Fetched isochrone for interval 15M, MRT: YEW TEE MRT STATION\n",
      "Fetched isochrone for interval 15M, MRT: YISHUN MRT STATION\n",
      "Fetched isochrone for interval 15M, MRT: YIO CHU KANG MRT STATION\n",
      "Fetched isochrone for interval 15M, MRT: WOODLEIGH MRT STATION\n",
      "Fetched isochrone for interval 15M, MRT: WOODLANDS MRT STATION\n",
      "Fetched isochrone for interval 15M, MRT: UPPER CHANGI MRT STATION\n",
      "Fetched isochrone for interval 15M, MRT: TELOK AYER MRT STATION\n",
      "Fetched isochrone for interval 15M, MRT: TONGKANG LRT STATION\n",
      "Fetched isochrone for interval 15M, MRT: UBI MRT STATION\n",
      "Fetched isochrone for interval 15M, MRT: TOA PAYOH MRT STATION\n",
      "Fetched isochrone for interval 15M, MRT: TIONG BAHRU MRT STATION\n",
      "Fetched isochrone for interval 15M, MRT: THANGGAM LRT STATION\n",
      "Fetched isochrone for interval 15M, MRT: PROMENADE MRT STATION\n",
      "Fetched isochrone for interval 15M, MRT: BRAS BASAH MRT STATION\n",
      "Fetched isochrone for interval 15M, MRT: NICOLL HIGHWAY MRT STATION\n",
      "Fetched isochrone for interval 15M, MRT: POTONG PASIR MRT STATION\n",
      "Fetched isochrone for interval 15M, MRT: LAKESIDE MRT STATION\n",
      "Fetched isochrone for interval 15M, MRT: SAMUDERA LRT STATION\n",
      "Fetched isochrone for interval 15M, MRT: RANGGUNG LRT STATION\n",
      "Fetched isochrone for interval 15M, MRT: SEMBAWANG MRT STATION\n",
      "Fetched isochrone for interval 15M, MRT: PUNGGOL LRT STATION\n",
      "Fetched isochrone for interval 15M, MRT: KANGKAR LRT STATION\n",
      "Fetched isochrone for interval 15M, MRT: PIONEER MRT STATION\n",
      "Fetched isochrone for interval 15M, MRT: BUGIS MRT STATION\n",
      "Fetched isochrone for interval 15M, MRT: NEWTON MRT STATION\n",
      "Fetched isochrone for interval 15M, MRT: BUONA VISTA MRT STATION\n",
      "Fetched isochrone for interval 15M, MRT: OUTRAM PARK MRT STATION\n",
      "Fetched isochrone for interval 15M, MRT: CHINATOWN MRT STATION\n",
      "Fetched isochrone for interval 15M, MRT: EXPO MRT STATION\n",
      "Fetched isochrone for interval 15M, MRT: RAFFLES PLACE MRT STATION\n",
      "Fetched isochrone for interval 15M, MRT: TUAS CRESCENT MRT STATION\n",
      "Fetched isochrone for interval 15M, MRT: TUAS LINK MRT STATION\n",
      "Fetched isochrone for interval 15M, MRT: TUAS WEST ROAD MRT STATION\n",
      "Fetched isochrone for interval 15M, MRT: CITY HALL MRT STATION\n",
      "Fetched isochrone for interval 15M, MRT: BISHAN MRT STATION\n",
      "Fetched isochrone for interval 15M, MRT: FERNVALE LRT STATION\n",
      "Fetched isochrone for interval 15M, MRT: PUNGGOL MRT STATION\n",
      "Fetched isochrone for interval 15M, MRT: BUANGKOK MRT STATION\n",
      "Fetched isochrone for interval 15M, MRT: BAKAU LRT STATION\n",
      "Fetched isochrone for interval 15M, MRT: FARMWAY LRT STATION\n",
      "Fetched isochrone for interval 15M, MRT: COMMONWEALTH MRT STATION\n",
      "Fetched isochrone for interval 15M, MRT: KUPANG LRT STATION\n",
      "Fetched isochrone for interval 15M, MRT: DAMAI LRT STATION\n",
      "Fetched isochrone for interval 15M, MRT: QUEENSTOWN MRT STATION\n",
      "Fetched isochrone for interval 15M, MRT: KALLANG MRT STATION\n",
      "Fetched isochrone for interval 15M, MRT: RUMBIA LRT STATION\n",
      "Fetched isochrone for interval 15M, MRT: PETIR LRT STATION\n",
      "Fetched isochrone for interval 15M, MRT: BOON LAY MRT STATION\n",
      "Fetched isochrone for interval 15M, MRT: KEAT HONG LRT STATION\n",
      "Fetched isochrone for interval 15M, MRT: JELAPANG LRT STATION\n",
      "Fetched isochrone for interval 15M, MRT: CHOA CHU KANG LRT STATION\n",
      "Fetched isochrone for interval 15M, MRT: SENGKANG LRT STATION\n",
      "Fetched isochrone for interval 15M, MRT: HARBOURFRONT MRT STATION\n",
      "Fetched isochrone for interval 15M, MRT: PENDING LRT STATION\n",
      "Fetched isochrone for interval 15M, MRT: CLARKE QUAY MRT STATION\n",
      "Fetched isochrone for interval 15M, MRT: BUKIT PANJANG LRT STATION\n",
      "Fetched isochrone for interval 15M, MRT: FAJAR LRT STATION\n",
      "Fetched isochrone for interval 15M, MRT: KOVAN MRT STATION\n",
      "Fetched isochrone for interval 15M, MRT: LORONG CHUAN MRT STATION\n",
      "Fetched isochrone for interval 15M, MRT: MARYMOUNT MRT STATION\n",
      "Fetched isochrone for interval 15M, MRT: CALDECOTT MRT STATION\n",
      "Fetched isochrone for interval 15M, MRT: DOWNTOWN MRT STATION\n",
      "Fetched isochrone for interval 15M, MRT: GEYLANG BAHRU MRT STATION\n",
      "Fetched isochrone for interval 15M, MRT: BENDEMEER MRT STATION\n",
      "Fetched isochrone for interval 15M, MRT: BENCOOLEN MRT STATION\n",
      "Fetched isochrone for interval 15M, MRT: FORT CANNING MRT STATION\n",
      "Fetched isochrone for interval 15M, MRT: KAKI BUKIT MRT STATION\n",
      "Fetched isochrone for interval 15M, MRT: JALAN BESAR MRT STATION\n",
      "Fetched isochrone for interval 15M, MRT: MATTAR MRT STATION\n",
      "Fetched isochrone for interval 15M, MRT: MACPHERSON MRT STATION\n",
      "Fetched isochrone for interval 15M, MRT: BAYFRONT MRT STATION\n",
      "Fetched isochrone for interval 15M, MRT: FARRER ROAD MRT STATION\n",
      "Fetched isochrone for interval 15M, MRT: JURONG EAST MRT STATION\n",
      "Fetched isochrone for interval 15M, MRT: BEDOK NORTH MRT STATION\n",
      "Fetched isochrone for interval 15M, MRT: BEDOK RESERVOIR MRT STATION\n",
      "Fetched isochrone for interval 15M, MRT: ORCHARD MRT STATION\n",
      "Fetched isochrone for interval 15M, MRT: LENTOR MRT STATION\n",
      "Fetched isochrone for interval 15M, MRT: BRIGHT HILL MRT STATION\n",
      "Fetched isochrone for interval 15M, MRT: SPRINGLEAF MRT STATION\n",
      "Fetched isochrone for interval 15M, MRT: MARINA SOUTH PIER MRT STATION\n",
      "Fetched isochrone for interval 15M, MRT: CANBERRA MRT STATION\n",
      "Fetched isochrone for interval 15M, MRT: WOODLANDS SOUTH MRT STATION\n",
      "Fetched isochrone for interval 15M, MRT: WOODLANDS NORTH MRT STATION\n",
      "Fetched isochrone for interval 15M, MRT: GUL CIRCLE MRT STATION\n",
      "Fetched isochrone for interval 15M, MRT: HAVELOCK MRT STATION\n",
      "Fetched isochrone for interval 15M, MRT: NAPIER MRT STATION\n",
      "Fetched isochrone for interval 15M, MRT: SHENTON WAY MRT STATION\n",
      "Fetched isochrone for interval 15M, MRT: GARDENS BY THE BAY MRT STATION\n",
      "Fetched isochrone for interval 15M, MRT: GREAT WORLD MRT STATION\n",
      "Fetched isochrone for interval 15M, MRT: MAXWELL MRT STATION\n",
      "Fetched isochrone for interval 15M, MRT: ORCHARD BOULEVARD MRT STATION\n",
      "Fetched isochrone for interval 15M, MRT: TELOK BLANGAH MRT STATION\n",
      "Fetched isochrone for interval 15M, MRT: TECK WHYE LRT STATION\n",
      "Fetched isochrone for interval 15M, MRT: TANJONG PAGAR MRT STATION\n",
      "Fetched isochrone for interval 15M, MRT: TANAH MERAH MRT STATION\n",
      "Fetched isochrone for interval 15M, MRT: TAN KAH KEE MRT STATION\n",
      "Fetched isochrone for interval 15M, MRT: UPPER THOMSON MRT STATION\n",
      "Fetched isochrone for interval 15M, MRT: MAYFLOWER MRT STATION\n",
      "Fetched isochrone for interval 20M, MRT: ESPLANADE MRT STATION\n",
      "Fetched isochrone for interval 20M, MRT: PAYA LEBAR MRT STATION\n",
      "Fetched isochrone for interval 20M, MRT: DHOBY GHAUT MRT STATION\n",
      "Fetched isochrone for interval 20M, MRT: DAKOTA MRT STATION\n",
      "Fetched isochrone for interval 20M, MRT: LAVENDER MRT STATION\n",
      "Fetched isochrone for interval 20M, MRT: RENJONG LRT STATION\n",
      "Fetched isochrone for interval 20M, MRT: DOVER MRT STATION\n",
      "Fetched isochrone for interval 20M, MRT: HOUGANG MRT STATION\n",
      "Fetched isochrone for interval 20M, MRT: PHOENIX LRT STATION\n",
      "Fetched isochrone for interval 20M, MRT: ALJUNIED MRT STATION\n",
      "Fetched isochrone for interval 20M, MRT: COVE LRT STATION\n",
      "Fetched isochrone for interval 20M, MRT: PASIR RIS MRT STATION\n",
      "Fetched isochrone for interval 20M, MRT: ADMIRALTY MRT STATION\n",
      "Fetched isochrone for interval 20M, MRT: KEMBANGAN MRT STATION\n",
      "Fetched isochrone for interval 20M, MRT: PUNGGOL POINT LRT STATION\n",
      "Fetched isochrone for interval 20M, MRT: MARSILING MRT STATION\n",
      "Fetched isochrone for interval 20M, MRT: COMPASSVALE LRT STATION\n",
      "Fetched isochrone for interval 20M, MRT: KHATIB MRT STATION\n",
      "Fetched isochrone for interval 20M, MRT: LAYAR LRT STATION\n",
      "Fetched isochrone for interval 20M, MRT: TAMPINES WEST MRT STATION\n",
      "Fetched isochrone for interval 20M, MRT: TAMPINES MRT STATION\n",
      "Fetched isochrone for interval 20M, MRT: TAMPINES EAST MRT STATION\n",
      "Fetched isochrone for interval 20M, MRT: TAI SENG MRT STATION\n",
      "Fetched isochrone for interval 20M, MRT: SUMANG LRT STATION\n",
      "Fetched isochrone for interval 20M, MRT: STEVENS MRT STATION\n",
      "Fetched isochrone for interval 20M, MRT: STADIUM MRT STATION\n",
      "Fetched isochrone for interval 20M, MRT: SIXTH AVENUE MRT STATION\n",
      "Fetched isochrone for interval 20M, MRT: SOUTH VIEW LRT STATION\n",
      "Fetched isochrone for interval 20M, MRT: SOO TECK LRT STATION\n",
      "Fetched isochrone for interval 20M, MRT: SOMERSET MRT STATION\n",
      "Fetched isochrone for interval 20M, MRT: SIMEI MRT STATION\n",
      "Fetched isochrone for interval 20M, MRT: SERANGOON MRT STATION\n",
      "Fetched isochrone for interval 20M, MRT: SENGKANG MRT STATION\n",
      "Fetched isochrone for interval 20M, MRT: BRADDELL MRT STATION\n",
      "Fetched isochrone for interval 20M, MRT: NOVENA MRT STATION\n",
      "Fetched isochrone for interval 20M, MRT: FARRER PARK MRT STATION\n",
      "Fetched isochrone for interval 20M, MRT: BEDOK MRT STATION\n",
      "Fetched isochrone for interval 20M, MRT: REDHILL MRT STATION\n",
      "Fetched isochrone for interval 20M, MRT: CHANGI AIRPORT MRT STATION\n",
      "Fetched isochrone for interval 20M, MRT: CORAL EDGE LRT STATION\n",
      "Fetched isochrone for interval 20M, MRT: CLEMENTI MRT STATION\n",
      "Fetched isochrone for interval 20M, MRT: BUKIT BATOK MRT STATION\n",
      "Fetched isochrone for interval 20M, MRT: OASIS LRT STATION\n",
      "Fetched isochrone for interval 20M, MRT: NIBONG LRT STATION\n",
      "Fetched isochrone for interval 20M, MRT: MERIDIAN LRT STATION\n",
      "Fetched isochrone for interval 20M, MRT: BUKIT GOMBAK MRT STATION\n",
      "Fetched isochrone for interval 20M, MRT: EUNOS MRT STATION\n",
      "Fetched isochrone for interval 20M, MRT: CHINESE GARDEN MRT STATION\n",
      "Fetched isochrone for interval 20M, MRT: KADALOOR LRT STATION\n",
      "Fetched isochrone for interval 20M, MRT: CHENG LIM LRT STATION\n",
      "Fetched isochrone for interval 20M, MRT: SAM KEE LRT STATION\n",
      "Fetched isochrone for interval 20M, MRT: KRANJI MRT STATION\n",
      "Fetched isochrone for interval 20M, MRT: ANG MO KIO MRT STATION\n",
      "Fetched isochrone for interval 20M, MRT: RIVIERA LRT STATION\n",
      "Fetched isochrone for interval 20M, MRT: BANGKIT LRT STATION\n",
      "Fetched isochrone for interval 20M, MRT: PASIR PANJANG MRT STATION\n",
      "Fetched isochrone for interval 20M, MRT: HOLLAND VILLAGE MRT STATION\n",
      "Fetched isochrone for interval 20M, MRT: LABRADOR PARK MRT STATION\n",
      "Fetched isochrone for interval 20M, MRT: BOTANIC GARDENS MRT STATION\n",
      "Fetched isochrone for interval 20M, MRT: ONE-NORTH MRT STATION\n",
      "Fetched isochrone for interval 20M, MRT: KENT RIDGE MRT STATION\n",
      "Fetched isochrone for interval 20M, MRT: HAW PAR VILLA MRT STATION\n",
      "Fetched isochrone for interval 20M, MRT: MARINA BAY MRT STATION\n",
      "Fetched isochrone for interval 20M, MRT: KING ALBERT PARK MRT STATION\n",
      "Fetched isochrone for interval 20M, MRT: LITTLE INDIA MRT STATION\n",
      "Fetched isochrone for interval 20M, MRT: ROCHOR MRT STATION\n",
      "Fetched isochrone for interval 20M, MRT: SENJA LRT STATION\n",
      "Fetched isochrone for interval 20M, MRT: MOUNTBATTEN MRT STATION\n",
      "Fetched isochrone for interval 20M, MRT: CHOA CHU KANG MRT STATION\n",
      "Fetched isochrone for interval 20M, MRT: BOON KENG MRT STATION\n",
      "Fetched isochrone for interval 20M, MRT: BARTLEY MRT STATION\n",
      "Fetched isochrone for interval 20M, MRT: SEGAR LRT STATION\n",
      "Fetched isochrone for interval 20M, MRT: HILLVIEW MRT STATION\n",
      "Fetched isochrone for interval 20M, MRT: BEAUTY WORLD MRT STATION\n",
      "Fetched isochrone for interval 20M, MRT: BUKIT PANJANG MRT STATION\n",
      "Fetched isochrone for interval 20M, MRT: CASHEW MRT STATION\n",
      "Fetched isochrone for interval 20M, MRT: JOO KOON MRT STATION\n",
      "Fetched isochrone for interval 20M, MRT: YEW TEE MRT STATION\n",
      "Fetched isochrone for interval 20M, MRT: YISHUN MRT STATION\n",
      "Fetched isochrone for interval 20M, MRT: YIO CHU KANG MRT STATION\n",
      "Fetched isochrone for interval 20M, MRT: WOODLEIGH MRT STATION\n",
      "Fetched isochrone for interval 20M, MRT: WOODLANDS MRT STATION\n",
      "Fetched isochrone for interval 20M, MRT: UPPER CHANGI MRT STATION\n",
      "Fetched isochrone for interval 20M, MRT: TELOK AYER MRT STATION\n",
      "Fetched isochrone for interval 20M, MRT: TONGKANG LRT STATION\n",
      "Fetched isochrone for interval 20M, MRT: UBI MRT STATION\n",
      "Fetched isochrone for interval 20M, MRT: TOA PAYOH MRT STATION\n",
      "Fetched isochrone for interval 20M, MRT: TIONG BAHRU MRT STATION\n",
      "Fetched isochrone for interval 20M, MRT: THANGGAM LRT STATION\n",
      "Fetched isochrone for interval 20M, MRT: PROMENADE MRT STATION\n",
      "Fetched isochrone for interval 20M, MRT: BRAS BASAH MRT STATION\n",
      "Fetched isochrone for interval 20M, MRT: NICOLL HIGHWAY MRT STATION\n",
      "Fetched isochrone for interval 20M, MRT: POTONG PASIR MRT STATION\n",
      "Fetched isochrone for interval 20M, MRT: LAKESIDE MRT STATION\n",
      "Fetched isochrone for interval 20M, MRT: SAMUDERA LRT STATION\n",
      "Fetched isochrone for interval 20M, MRT: RANGGUNG LRT STATION\n",
      "Fetched isochrone for interval 20M, MRT: SEMBAWANG MRT STATION\n",
      "Fetched isochrone for interval 20M, MRT: PUNGGOL LRT STATION\n",
      "Fetched isochrone for interval 20M, MRT: KANGKAR LRT STATION\n",
      "Fetched isochrone for interval 20M, MRT: PIONEER MRT STATION\n",
      "Fetched isochrone for interval 20M, MRT: BUGIS MRT STATION\n",
      "Fetched isochrone for interval 20M, MRT: NEWTON MRT STATION\n",
      "Fetched isochrone for interval 20M, MRT: BUONA VISTA MRT STATION\n",
      "Fetched isochrone for interval 20M, MRT: OUTRAM PARK MRT STATION\n",
      "Fetched isochrone for interval 20M, MRT: CHINATOWN MRT STATION\n",
      "Fetched isochrone for interval 20M, MRT: EXPO MRT STATION\n",
      "Fetched isochrone for interval 20M, MRT: RAFFLES PLACE MRT STATION\n",
      "Fetched isochrone for interval 20M, MRT: TUAS CRESCENT MRT STATION\n",
      "Fetched isochrone for interval 20M, MRT: TUAS LINK MRT STATION\n",
      "Fetched isochrone for interval 20M, MRT: TUAS WEST ROAD MRT STATION\n",
      "Fetched isochrone for interval 20M, MRT: CITY HALL MRT STATION\n",
      "Fetched isochrone for interval 20M, MRT: BISHAN MRT STATION\n",
      "Fetched isochrone for interval 20M, MRT: FERNVALE LRT STATION\n",
      "Fetched isochrone for interval 20M, MRT: PUNGGOL MRT STATION\n",
      "Fetched isochrone for interval 20M, MRT: BUANGKOK MRT STATION\n",
      "Fetched isochrone for interval 20M, MRT: BAKAU LRT STATION\n",
      "Fetched isochrone for interval 20M, MRT: FARMWAY LRT STATION\n",
      "Fetched isochrone for interval 20M, MRT: COMMONWEALTH MRT STATION\n",
      "Fetched isochrone for interval 20M, MRT: KUPANG LRT STATION\n",
      "Fetched isochrone for interval 20M, MRT: DAMAI LRT STATION\n",
      "Fetched isochrone for interval 20M, MRT: QUEENSTOWN MRT STATION\n",
      "Fetched isochrone for interval 20M, MRT: KALLANG MRT STATION\n",
      "Fetched isochrone for interval 20M, MRT: RUMBIA LRT STATION\n",
      "Fetched isochrone for interval 20M, MRT: PETIR LRT STATION\n",
      "Fetched isochrone for interval 20M, MRT: BOON LAY MRT STATION\n",
      "Fetched isochrone for interval 20M, MRT: KEAT HONG LRT STATION\n",
      "Fetched isochrone for interval 20M, MRT: JELAPANG LRT STATION\n",
      "Fetched isochrone for interval 20M, MRT: CHOA CHU KANG LRT STATION\n",
      "Fetched isochrone for interval 20M, MRT: SENGKANG LRT STATION\n",
      "Fetched isochrone for interval 20M, MRT: HARBOURFRONT MRT STATION\n",
      "Fetched isochrone for interval 20M, MRT: PENDING LRT STATION\n",
      "Fetched isochrone for interval 20M, MRT: CLARKE QUAY MRT STATION\n",
      "Fetched isochrone for interval 20M, MRT: BUKIT PANJANG LRT STATION\n",
      "Fetched isochrone for interval 20M, MRT: FAJAR LRT STATION\n",
      "Fetched isochrone for interval 20M, MRT: KOVAN MRT STATION\n",
      "Fetched isochrone for interval 20M, MRT: LORONG CHUAN MRT STATION\n",
      "Fetched isochrone for interval 20M, MRT: MARYMOUNT MRT STATION\n",
      "Fetched isochrone for interval 20M, MRT: CALDECOTT MRT STATION\n",
      "Fetched isochrone for interval 20M, MRT: DOWNTOWN MRT STATION\n",
      "Fetched isochrone for interval 20M, MRT: GEYLANG BAHRU MRT STATION\n",
      "Fetched isochrone for interval 20M, MRT: BENDEMEER MRT STATION\n",
      "Fetched isochrone for interval 20M, MRT: BENCOOLEN MRT STATION\n",
      "Fetched isochrone for interval 20M, MRT: FORT CANNING MRT STATION\n",
      "Fetched isochrone for interval 20M, MRT: KAKI BUKIT MRT STATION\n",
      "Fetched isochrone for interval 20M, MRT: JALAN BESAR MRT STATION\n",
      "Fetched isochrone for interval 20M, MRT: MATTAR MRT STATION\n",
      "Fetched isochrone for interval 20M, MRT: MACPHERSON MRT STATION\n",
      "Fetched isochrone for interval 20M, MRT: BAYFRONT MRT STATION\n",
      "Fetched isochrone for interval 20M, MRT: FARRER ROAD MRT STATION\n",
      "Fetched isochrone for interval 20M, MRT: JURONG EAST MRT STATION\n",
      "Fetched isochrone for interval 20M, MRT: BEDOK NORTH MRT STATION\n",
      "Fetched isochrone for interval 20M, MRT: BEDOK RESERVOIR MRT STATION\n",
      "Fetched isochrone for interval 20M, MRT: ORCHARD MRT STATION\n",
      "Fetched isochrone for interval 20M, MRT: LENTOR MRT STATION\n",
      "Fetched isochrone for interval 20M, MRT: BRIGHT HILL MRT STATION\n",
      "Fetched isochrone for interval 20M, MRT: SPRINGLEAF MRT STATION\n",
      "Fetched isochrone for interval 20M, MRT: MARINA SOUTH PIER MRT STATION\n",
      "Fetched isochrone for interval 20M, MRT: CANBERRA MRT STATION\n",
      "Fetched isochrone for interval 20M, MRT: WOODLANDS SOUTH MRT STATION\n",
      "Fetched isochrone for interval 20M, MRT: WOODLANDS NORTH MRT STATION\n",
      "Fetched isochrone for interval 20M, MRT: GUL CIRCLE MRT STATION\n",
      "Fetched isochrone for interval 20M, MRT: HAVELOCK MRT STATION\n",
      "Fetched isochrone for interval 20M, MRT: NAPIER MRT STATION\n",
      "Fetched isochrone for interval 20M, MRT: SHENTON WAY MRT STATION\n",
      "Fetched isochrone for interval 20M, MRT: GARDENS BY THE BAY MRT STATION\n",
      "Fetched isochrone for interval 20M, MRT: GREAT WORLD MRT STATION\n",
      "Fetched isochrone for interval 20M, MRT: MAXWELL MRT STATION\n",
      "Fetched isochrone for interval 20M, MRT: ORCHARD BOULEVARD MRT STATION\n",
      "Fetched isochrone for interval 20M, MRT: TELOK BLANGAH MRT STATION\n",
      "Fetched isochrone for interval 20M, MRT: TECK WHYE LRT STATION\n",
      "Fetched isochrone for interval 20M, MRT: TANJONG PAGAR MRT STATION\n",
      "Fetched isochrone for interval 20M, MRT: TANAH MERAH MRT STATION\n",
      "Fetched isochrone for interval 20M, MRT: TAN KAH KEE MRT STATION\n",
      "Fetched isochrone for interval 20M, MRT: UPPER THOMSON MRT STATION\n",
      "Fetched isochrone for interval 20M, MRT: MAYFLOWER MRT STATION\n",
      "Fetched isochrone for interval 25M, MRT: ESPLANADE MRT STATION\n",
      "Fetched isochrone for interval 25M, MRT: PAYA LEBAR MRT STATION\n",
      "Fetched isochrone for interval 25M, MRT: DHOBY GHAUT MRT STATION\n",
      "Fetched isochrone for interval 25M, MRT: DAKOTA MRT STATION\n",
      "Fetched isochrone for interval 25M, MRT: LAVENDER MRT STATION\n",
      "Fetched isochrone for interval 25M, MRT: RENJONG LRT STATION\n",
      "Fetched isochrone for interval 25M, MRT: DOVER MRT STATION\n",
      "Fetched isochrone for interval 25M, MRT: HOUGANG MRT STATION\n",
      "Fetched isochrone for interval 25M, MRT: PHOENIX LRT STATION\n",
      "Fetched isochrone for interval 25M, MRT: ALJUNIED MRT STATION\n",
      "Fetched isochrone for interval 25M, MRT: COVE LRT STATION\n",
      "Fetched isochrone for interval 25M, MRT: PASIR RIS MRT STATION\n",
      "Fetched isochrone for interval 25M, MRT: ADMIRALTY MRT STATION\n",
      "Fetched isochrone for interval 25M, MRT: KEMBANGAN MRT STATION\n",
      "Fetched isochrone for interval 25M, MRT: PUNGGOL POINT LRT STATION\n",
      "Fetched isochrone for interval 25M, MRT: MARSILING MRT STATION\n",
      "Fetched isochrone for interval 25M, MRT: COMPASSVALE LRT STATION\n",
      "Fetched isochrone for interval 25M, MRT: KHATIB MRT STATION\n",
      "Fetched isochrone for interval 25M, MRT: LAYAR LRT STATION\n",
      "Fetched isochrone for interval 25M, MRT: TAMPINES WEST MRT STATION\n",
      "Fetched isochrone for interval 25M, MRT: TAMPINES MRT STATION\n",
      "Fetched isochrone for interval 25M, MRT: TAMPINES EAST MRT STATION\n",
      "Fetched isochrone for interval 25M, MRT: TAI SENG MRT STATION\n",
      "Fetched isochrone for interval 25M, MRT: SUMANG LRT STATION\n",
      "Fetched isochrone for interval 25M, MRT: STEVENS MRT STATION\n",
      "Fetched isochrone for interval 25M, MRT: STADIUM MRT STATION\n",
      "Fetched isochrone for interval 25M, MRT: SIXTH AVENUE MRT STATION\n",
      "Fetched isochrone for interval 25M, MRT: SOUTH VIEW LRT STATION\n",
      "Fetched isochrone for interval 25M, MRT: SOO TECK LRT STATION\n",
      "Fetched isochrone for interval 25M, MRT: SOMERSET MRT STATION\n",
      "Fetched isochrone for interval 25M, MRT: SIMEI MRT STATION\n",
      "Fetched isochrone for interval 25M, MRT: SERANGOON MRT STATION\n",
      "Fetched isochrone for interval 25M, MRT: SENGKANG MRT STATION\n",
      "Fetched isochrone for interval 25M, MRT: BRADDELL MRT STATION\n",
      "Fetched isochrone for interval 25M, MRT: NOVENA MRT STATION\n",
      "Fetched isochrone for interval 25M, MRT: FARRER PARK MRT STATION\n",
      "Fetched isochrone for interval 25M, MRT: BEDOK MRT STATION\n",
      "Fetched isochrone for interval 25M, MRT: REDHILL MRT STATION\n",
      "Fetched isochrone for interval 25M, MRT: CHANGI AIRPORT MRT STATION\n",
      "Fetched isochrone for interval 25M, MRT: CORAL EDGE LRT STATION\n",
      "Fetched isochrone for interval 25M, MRT: CLEMENTI MRT STATION\n",
      "Fetched isochrone for interval 25M, MRT: BUKIT BATOK MRT STATION\n",
      "Fetched isochrone for interval 25M, MRT: OASIS LRT STATION\n",
      "Fetched isochrone for interval 25M, MRT: NIBONG LRT STATION\n",
      "Fetched isochrone for interval 25M, MRT: MERIDIAN LRT STATION\n",
      "Fetched isochrone for interval 25M, MRT: BUKIT GOMBAK MRT STATION\n",
      "Fetched isochrone for interval 25M, MRT: EUNOS MRT STATION\n",
      "Fetched isochrone for interval 25M, MRT: CHINESE GARDEN MRT STATION\n",
      "Fetched isochrone for interval 25M, MRT: KADALOOR LRT STATION\n",
      "Fetched isochrone for interval 25M, MRT: CHENG LIM LRT STATION\n",
      "Fetched isochrone for interval 25M, MRT: SAM KEE LRT STATION\n",
      "Fetched isochrone for interval 25M, MRT: KRANJI MRT STATION\n",
      "Fetched isochrone for interval 25M, MRT: ANG MO KIO MRT STATION\n",
      "Fetched isochrone for interval 25M, MRT: RIVIERA LRT STATION\n",
      "Fetched isochrone for interval 25M, MRT: BANGKIT LRT STATION\n",
      "Fetched isochrone for interval 25M, MRT: PASIR PANJANG MRT STATION\n",
      "Fetched isochrone for interval 25M, MRT: HOLLAND VILLAGE MRT STATION\n",
      "Fetched isochrone for interval 25M, MRT: LABRADOR PARK MRT STATION\n",
      "Fetched isochrone for interval 25M, MRT: BOTANIC GARDENS MRT STATION\n",
      "Fetched isochrone for interval 25M, MRT: ONE-NORTH MRT STATION\n",
      "Fetched isochrone for interval 25M, MRT: KENT RIDGE MRT STATION\n",
      "Fetched isochrone for interval 25M, MRT: HAW PAR VILLA MRT STATION\n",
      "Fetched isochrone for interval 25M, MRT: MARINA BAY MRT STATION\n",
      "Fetched isochrone for interval 25M, MRT: KING ALBERT PARK MRT STATION\n",
      "Fetched isochrone for interval 25M, MRT: LITTLE INDIA MRT STATION\n",
      "Fetched isochrone for interval 25M, MRT: ROCHOR MRT STATION\n",
      "Fetched isochrone for interval 25M, MRT: SENJA LRT STATION\n",
      "Fetched isochrone for interval 25M, MRT: MOUNTBATTEN MRT STATION\n",
      "Fetched isochrone for interval 25M, MRT: CHOA CHU KANG MRT STATION\n",
      "Fetched isochrone for interval 25M, MRT: BOON KENG MRT STATION\n",
      "Fetched isochrone for interval 25M, MRT: BARTLEY MRT STATION\n",
      "Fetched isochrone for interval 25M, MRT: SEGAR LRT STATION\n",
      "Fetched isochrone for interval 25M, MRT: HILLVIEW MRT STATION\n",
      "Fetched isochrone for interval 25M, MRT: BEAUTY WORLD MRT STATION\n",
      "Fetched isochrone for interval 25M, MRT: BUKIT PANJANG MRT STATION\n",
      "Fetched isochrone for interval 25M, MRT: CASHEW MRT STATION\n",
      "Fetched isochrone for interval 25M, MRT: JOO KOON MRT STATION\n",
      "Fetched isochrone for interval 25M, MRT: YEW TEE MRT STATION\n",
      "Fetched isochrone for interval 25M, MRT: YISHUN MRT STATION\n",
      "Fetched isochrone for interval 25M, MRT: YIO CHU KANG MRT STATION\n",
      "Fetched isochrone for interval 25M, MRT: WOODLEIGH MRT STATION\n",
      "Fetched isochrone for interval 25M, MRT: WOODLANDS MRT STATION\n",
      "Fetched isochrone for interval 25M, MRT: UPPER CHANGI MRT STATION\n",
      "Fetched isochrone for interval 25M, MRT: TELOK AYER MRT STATION\n",
      "Fetched isochrone for interval 25M, MRT: TONGKANG LRT STATION\n",
      "Fetched isochrone for interval 25M, MRT: UBI MRT STATION\n",
      "Fetched isochrone for interval 25M, MRT: TOA PAYOH MRT STATION\n",
      "Fetched isochrone for interval 25M, MRT: TIONG BAHRU MRT STATION\n",
      "Fetched isochrone for interval 25M, MRT: THANGGAM LRT STATION\n",
      "Fetched isochrone for interval 25M, MRT: PROMENADE MRT STATION\n",
      "Fetched isochrone for interval 25M, MRT: BRAS BASAH MRT STATION\n",
      "Fetched isochrone for interval 25M, MRT: NICOLL HIGHWAY MRT STATION\n",
      "Fetched isochrone for interval 25M, MRT: POTONG PASIR MRT STATION\n",
      "Fetched isochrone for interval 25M, MRT: LAKESIDE MRT STATION\n",
      "Fetched isochrone for interval 25M, MRT: SAMUDERA LRT STATION\n",
      "Fetched isochrone for interval 25M, MRT: RANGGUNG LRT STATION\n",
      "Fetched isochrone for interval 25M, MRT: SEMBAWANG MRT STATION\n",
      "Fetched isochrone for interval 25M, MRT: PUNGGOL LRT STATION\n",
      "Fetched isochrone for interval 25M, MRT: KANGKAR LRT STATION\n",
      "Fetched isochrone for interval 25M, MRT: PIONEER MRT STATION\n",
      "Fetched isochrone for interval 25M, MRT: BUGIS MRT STATION\n",
      "Fetched isochrone for interval 25M, MRT: NEWTON MRT STATION\n",
      "Fetched isochrone for interval 25M, MRT: BUONA VISTA MRT STATION\n",
      "Fetched isochrone for interval 25M, MRT: OUTRAM PARK MRT STATION\n",
      "Fetched isochrone for interval 25M, MRT: CHINATOWN MRT STATION\n",
      "Fetched isochrone for interval 25M, MRT: EXPO MRT STATION\n",
      "Fetched isochrone for interval 25M, MRT: RAFFLES PLACE MRT STATION\n",
      "Fetched isochrone for interval 25M, MRT: TUAS CRESCENT MRT STATION\n",
      "Fetched isochrone for interval 25M, MRT: TUAS LINK MRT STATION\n",
      "Fetched isochrone for interval 25M, MRT: TUAS WEST ROAD MRT STATION\n",
      "Fetched isochrone for interval 25M, MRT: CITY HALL MRT STATION\n",
      "Fetched isochrone for interval 25M, MRT: BISHAN MRT STATION\n",
      "Fetched isochrone for interval 25M, MRT: FERNVALE LRT STATION\n",
      "Fetched isochrone for interval 25M, MRT: PUNGGOL MRT STATION\n",
      "Fetched isochrone for interval 25M, MRT: BUANGKOK MRT STATION\n",
      "Fetched isochrone for interval 25M, MRT: BAKAU LRT STATION\n",
      "Fetched isochrone for interval 25M, MRT: FARMWAY LRT STATION\n",
      "Fetched isochrone for interval 25M, MRT: COMMONWEALTH MRT STATION\n",
      "Fetched isochrone for interval 25M, MRT: KUPANG LRT STATION\n",
      "Fetched isochrone for interval 25M, MRT: DAMAI LRT STATION\n",
      "Fetched isochrone for interval 25M, MRT: QUEENSTOWN MRT STATION\n",
      "Fetched isochrone for interval 25M, MRT: KALLANG MRT STATION\n",
      "Fetched isochrone for interval 25M, MRT: RUMBIA LRT STATION\n",
      "Fetched isochrone for interval 25M, MRT: PETIR LRT STATION\n",
      "Fetched isochrone for interval 25M, MRT: BOON LAY MRT STATION\n",
      "Fetched isochrone for interval 25M, MRT: KEAT HONG LRT STATION\n",
      "Fetched isochrone for interval 25M, MRT: JELAPANG LRT STATION\n",
      "Fetched isochrone for interval 25M, MRT: CHOA CHU KANG LRT STATION\n",
      "Fetched isochrone for interval 25M, MRT: SENGKANG LRT STATION\n",
      "Fetched isochrone for interval 25M, MRT: HARBOURFRONT MRT STATION\n",
      "Fetched isochrone for interval 25M, MRT: PENDING LRT STATION\n",
      "Fetched isochrone for interval 25M, MRT: CLARKE QUAY MRT STATION\n",
      "Fetched isochrone for interval 25M, MRT: BUKIT PANJANG LRT STATION\n",
      "Fetched isochrone for interval 25M, MRT: FAJAR LRT STATION\n",
      "Fetched isochrone for interval 25M, MRT: KOVAN MRT STATION\n",
      "Fetched isochrone for interval 25M, MRT: LORONG CHUAN MRT STATION\n",
      "Fetched isochrone for interval 25M, MRT: MARYMOUNT MRT STATION\n",
      "Fetched isochrone for interval 25M, MRT: CALDECOTT MRT STATION\n",
      "Fetched isochrone for interval 25M, MRT: DOWNTOWN MRT STATION\n",
      "Fetched isochrone for interval 25M, MRT: GEYLANG BAHRU MRT STATION\n",
      "Fetched isochrone for interval 25M, MRT: BENDEMEER MRT STATION\n",
      "Fetched isochrone for interval 25M, MRT: BENCOOLEN MRT STATION\n",
      "Fetched isochrone for interval 25M, MRT: FORT CANNING MRT STATION\n",
      "Fetched isochrone for interval 25M, MRT: KAKI BUKIT MRT STATION\n",
      "Fetched isochrone for interval 25M, MRT: JALAN BESAR MRT STATION\n",
      "Fetched isochrone for interval 25M, MRT: MATTAR MRT STATION\n",
      "Fetched isochrone for interval 25M, MRT: MACPHERSON MRT STATION\n",
      "Fetched isochrone for interval 25M, MRT: BAYFRONT MRT STATION\n",
      "Fetched isochrone for interval 25M, MRT: FARRER ROAD MRT STATION\n",
      "Fetched isochrone for interval 25M, MRT: JURONG EAST MRT STATION\n",
      "Fetched isochrone for interval 25M, MRT: BEDOK NORTH MRT STATION\n",
      "Fetched isochrone for interval 25M, MRT: BEDOK RESERVOIR MRT STATION\n",
      "Fetched isochrone for interval 25M, MRT: ORCHARD MRT STATION\n",
      "Fetched isochrone for interval 25M, MRT: LENTOR MRT STATION\n",
      "Fetched isochrone for interval 25M, MRT: BRIGHT HILL MRT STATION\n",
      "Fetched isochrone for interval 25M, MRT: SPRINGLEAF MRT STATION\n",
      "Fetched isochrone for interval 25M, MRT: MARINA SOUTH PIER MRT STATION\n",
      "Fetched isochrone for interval 25M, MRT: CANBERRA MRT STATION\n",
      "Fetched isochrone for interval 25M, MRT: WOODLANDS SOUTH MRT STATION\n",
      "Fetched isochrone for interval 25M, MRT: WOODLANDS NORTH MRT STATION\n",
      "Fetched isochrone for interval 25M, MRT: GUL CIRCLE MRT STATION\n",
      "Fetched isochrone for interval 25M, MRT: HAVELOCK MRT STATION\n",
      "Fetched isochrone for interval 25M, MRT: NAPIER MRT STATION\n",
      "Fetched isochrone for interval 25M, MRT: SHENTON WAY MRT STATION\n",
      "Fetched isochrone for interval 25M, MRT: GARDENS BY THE BAY MRT STATION\n",
      "Fetched isochrone for interval 25M, MRT: GREAT WORLD MRT STATION\n",
      "Fetched isochrone for interval 25M, MRT: MAXWELL MRT STATION\n",
      "Fetched isochrone for interval 25M, MRT: ORCHARD BOULEVARD MRT STATION\n",
      "Fetched isochrone for interval 25M, MRT: TELOK BLANGAH MRT STATION\n",
      "Fetched isochrone for interval 25M, MRT: TECK WHYE LRT STATION\n",
      "Fetched isochrone for interval 25M, MRT: TANJONG PAGAR MRT STATION\n",
      "Fetched isochrone for interval 25M, MRT: TANAH MERAH MRT STATION\n",
      "Fetched isochrone for interval 25M, MRT: TAN KAH KEE MRT STATION\n",
      "Fetched isochrone for interval 25M, MRT: UPPER THOMSON MRT STATION\n",
      "Fetched isochrone for interval 25M, MRT: MAYFLOWER MRT STATION\n",
      "Fetched isochrone for interval 30M, MRT: ESPLANADE MRT STATION\n",
      "Fetched isochrone for interval 30M, MRT: PAYA LEBAR MRT STATION\n",
      "Fetched isochrone for interval 30M, MRT: DHOBY GHAUT MRT STATION\n",
      "Fetched isochrone for interval 30M, MRT: DAKOTA MRT STATION\n",
      "Fetched isochrone for interval 30M, MRT: LAVENDER MRT STATION\n",
      "Fetched isochrone for interval 30M, MRT: RENJONG LRT STATION\n",
      "Fetched isochrone for interval 30M, MRT: DOVER MRT STATION\n",
      "Fetched isochrone for interval 30M, MRT: HOUGANG MRT STATION\n",
      "Fetched isochrone for interval 30M, MRT: PHOENIX LRT STATION\n",
      "Fetched isochrone for interval 30M, MRT: ALJUNIED MRT STATION\n",
      "Fetched isochrone for interval 30M, MRT: COVE LRT STATION\n",
      "Fetched isochrone for interval 30M, MRT: PASIR RIS MRT STATION\n",
      "Fetched isochrone for interval 30M, MRT: ADMIRALTY MRT STATION\n",
      "Fetched isochrone for interval 30M, MRT: KEMBANGAN MRT STATION\n",
      "Fetched isochrone for interval 30M, MRT: PUNGGOL POINT LRT STATION\n",
      "Fetched isochrone for interval 30M, MRT: MARSILING MRT STATION\n",
      "Fetched isochrone for interval 30M, MRT: COMPASSVALE LRT STATION\n",
      "Fetched isochrone for interval 30M, MRT: KHATIB MRT STATION\n",
      "Fetched isochrone for interval 30M, MRT: LAYAR LRT STATION\n",
      "Fetched isochrone for interval 30M, MRT: TAMPINES WEST MRT STATION\n",
      "Fetched isochrone for interval 30M, MRT: TAMPINES MRT STATION\n",
      "Fetched isochrone for interval 30M, MRT: TAMPINES EAST MRT STATION\n",
      "Fetched isochrone for interval 30M, MRT: TAI SENG MRT STATION\n",
      "Fetched isochrone for interval 30M, MRT: SUMANG LRT STATION\n",
      "Fetched isochrone for interval 30M, MRT: STEVENS MRT STATION\n",
      "Fetched isochrone for interval 30M, MRT: STADIUM MRT STATION\n",
      "Fetched isochrone for interval 30M, MRT: SIXTH AVENUE MRT STATION\n",
      "Fetched isochrone for interval 30M, MRT: SOUTH VIEW LRT STATION\n",
      "Fetched isochrone for interval 30M, MRT: SOO TECK LRT STATION\n",
      "Fetched isochrone for interval 30M, MRT: SOMERSET MRT STATION\n",
      "Fetched isochrone for interval 30M, MRT: SIMEI MRT STATION\n",
      "Fetched isochrone for interval 30M, MRT: SERANGOON MRT STATION\n",
      "Fetched isochrone for interval 30M, MRT: SENGKANG MRT STATION\n",
      "Fetched isochrone for interval 30M, MRT: BRADDELL MRT STATION\n",
      "Fetched isochrone for interval 30M, MRT: NOVENA MRT STATION\n",
      "Fetched isochrone for interval 30M, MRT: FARRER PARK MRT STATION\n",
      "Fetched isochrone for interval 30M, MRT: BEDOK MRT STATION\n",
      "Fetched isochrone for interval 30M, MRT: REDHILL MRT STATION\n",
      "Fetched isochrone for interval 30M, MRT: CHANGI AIRPORT MRT STATION\n",
      "Fetched isochrone for interval 30M, MRT: CORAL EDGE LRT STATION\n",
      "Fetched isochrone for interval 30M, MRT: CLEMENTI MRT STATION\n",
      "Fetched isochrone for interval 30M, MRT: BUKIT BATOK MRT STATION\n",
      "Fetched isochrone for interval 30M, MRT: OASIS LRT STATION\n",
      "Fetched isochrone for interval 30M, MRT: NIBONG LRT STATION\n",
      "Fetched isochrone for interval 30M, MRT: MERIDIAN LRT STATION\n",
      "Fetched isochrone for interval 30M, MRT: BUKIT GOMBAK MRT STATION\n",
      "Fetched isochrone for interval 30M, MRT: EUNOS MRT STATION\n",
      "Fetched isochrone for interval 30M, MRT: CHINESE GARDEN MRT STATION\n",
      "Fetched isochrone for interval 30M, MRT: KADALOOR LRT STATION\n",
      "Fetched isochrone for interval 30M, MRT: CHENG LIM LRT STATION\n",
      "Fetched isochrone for interval 30M, MRT: SAM KEE LRT STATION\n",
      "Fetched isochrone for interval 30M, MRT: KRANJI MRT STATION\n",
      "Fetched isochrone for interval 30M, MRT: ANG MO KIO MRT STATION\n",
      "Fetched isochrone for interval 30M, MRT: RIVIERA LRT STATION\n",
      "Fetched isochrone for interval 30M, MRT: BANGKIT LRT STATION\n",
      "Fetched isochrone for interval 30M, MRT: PASIR PANJANG MRT STATION\n",
      "Fetched isochrone for interval 30M, MRT: HOLLAND VILLAGE MRT STATION\n",
      "Fetched isochrone for interval 30M, MRT: LABRADOR PARK MRT STATION\n",
      "Fetched isochrone for interval 30M, MRT: BOTANIC GARDENS MRT STATION\n",
      "Fetched isochrone for interval 30M, MRT: ONE-NORTH MRT STATION\n",
      "Fetched isochrone for interval 30M, MRT: KENT RIDGE MRT STATION\n",
      "Fetched isochrone for interval 30M, MRT: HAW PAR VILLA MRT STATION\n",
      "Fetched isochrone for interval 30M, MRT: MARINA BAY MRT STATION\n",
      "Fetched isochrone for interval 30M, MRT: KING ALBERT PARK MRT STATION\n",
      "Fetched isochrone for interval 30M, MRT: LITTLE INDIA MRT STATION\n",
      "Fetched isochrone for interval 30M, MRT: ROCHOR MRT STATION\n",
      "Fetched isochrone for interval 30M, MRT: SENJA LRT STATION\n",
      "Fetched isochrone for interval 30M, MRT: MOUNTBATTEN MRT STATION\n",
      "Fetched isochrone for interval 30M, MRT: CHOA CHU KANG MRT STATION\n",
      "Fetched isochrone for interval 30M, MRT: BOON KENG MRT STATION\n",
      "Fetched isochrone for interval 30M, MRT: BARTLEY MRT STATION\n",
      "Fetched isochrone for interval 30M, MRT: SEGAR LRT STATION\n",
      "Fetched isochrone for interval 30M, MRT: HILLVIEW MRT STATION\n",
      "Fetched isochrone for interval 30M, MRT: BEAUTY WORLD MRT STATION\n",
      "Fetched isochrone for interval 30M, MRT: BUKIT PANJANG MRT STATION\n",
      "Fetched isochrone for interval 30M, MRT: CASHEW MRT STATION\n",
      "Fetched isochrone for interval 30M, MRT: JOO KOON MRT STATION\n",
      "Fetched isochrone for interval 30M, MRT: YEW TEE MRT STATION\n",
      "Fetched isochrone for interval 30M, MRT: YISHUN MRT STATION\n",
      "Fetched isochrone for interval 30M, MRT: YIO CHU KANG MRT STATION\n",
      "Fetched isochrone for interval 30M, MRT: WOODLEIGH MRT STATION\n",
      "Fetched isochrone for interval 30M, MRT: WOODLANDS MRT STATION\n",
      "Fetched isochrone for interval 30M, MRT: UPPER CHANGI MRT STATION\n",
      "Fetched isochrone for interval 30M, MRT: TELOK AYER MRT STATION\n",
      "Fetched isochrone for interval 30M, MRT: TONGKANG LRT STATION\n",
      "Fetched isochrone for interval 30M, MRT: UBI MRT STATION\n",
      "Fetched isochrone for interval 30M, MRT: TOA PAYOH MRT STATION\n",
      "Fetched isochrone for interval 30M, MRT: TIONG BAHRU MRT STATION\n",
      "Fetched isochrone for interval 30M, MRT: THANGGAM LRT STATION\n",
      "Fetched isochrone for interval 30M, MRT: PROMENADE MRT STATION\n",
      "Fetched isochrone for interval 30M, MRT: BRAS BASAH MRT STATION\n",
      "Fetched isochrone for interval 30M, MRT: NICOLL HIGHWAY MRT STATION\n",
      "Fetched isochrone for interval 30M, MRT: POTONG PASIR MRT STATION\n",
      "Fetched isochrone for interval 30M, MRT: LAKESIDE MRT STATION\n",
      "Fetched isochrone for interval 30M, MRT: SAMUDERA LRT STATION\n",
      "Fetched isochrone for interval 30M, MRT: RANGGUNG LRT STATION\n",
      "Fetched isochrone for interval 30M, MRT: SEMBAWANG MRT STATION\n",
      "Fetched isochrone for interval 30M, MRT: PUNGGOL LRT STATION\n",
      "Fetched isochrone for interval 30M, MRT: KANGKAR LRT STATION\n",
      "Fetched isochrone for interval 30M, MRT: PIONEER MRT STATION\n",
      "Fetched isochrone for interval 30M, MRT: BUGIS MRT STATION\n",
      "Fetched isochrone for interval 30M, MRT: NEWTON MRT STATION\n",
      "Fetched isochrone for interval 30M, MRT: BUONA VISTA MRT STATION\n",
      "Fetched isochrone for interval 30M, MRT: OUTRAM PARK MRT STATION\n",
      "Fetched isochrone for interval 30M, MRT: CHINATOWN MRT STATION\n",
      "Fetched isochrone for interval 30M, MRT: EXPO MRT STATION\n",
      "Fetched isochrone for interval 30M, MRT: RAFFLES PLACE MRT STATION\n",
      "Fetched isochrone for interval 30M, MRT: TUAS CRESCENT MRT STATION\n",
      "Fetched isochrone for interval 30M, MRT: TUAS LINK MRT STATION\n",
      "Fetched isochrone for interval 30M, MRT: TUAS WEST ROAD MRT STATION\n",
      "Fetched isochrone for interval 30M, MRT: CITY HALL MRT STATION\n",
      "Fetched isochrone for interval 30M, MRT: BISHAN MRT STATION\n",
      "Fetched isochrone for interval 30M, MRT: FERNVALE LRT STATION\n",
      "Fetched isochrone for interval 30M, MRT: PUNGGOL MRT STATION\n",
      "Fetched isochrone for interval 30M, MRT: BUANGKOK MRT STATION\n",
      "Fetched isochrone for interval 30M, MRT: BAKAU LRT STATION\n",
      "Fetched isochrone for interval 30M, MRT: FARMWAY LRT STATION\n",
      "Fetched isochrone for interval 30M, MRT: COMMONWEALTH MRT STATION\n",
      "Fetched isochrone for interval 30M, MRT: KUPANG LRT STATION\n",
      "Fetched isochrone for interval 30M, MRT: DAMAI LRT STATION\n",
      "Fetched isochrone for interval 30M, MRT: QUEENSTOWN MRT STATION\n",
      "Fetched isochrone for interval 30M, MRT: KALLANG MRT STATION\n",
      "Fetched isochrone for interval 30M, MRT: RUMBIA LRT STATION\n",
      "Fetched isochrone for interval 30M, MRT: PETIR LRT STATION\n",
      "Fetched isochrone for interval 30M, MRT: BOON LAY MRT STATION\n",
      "Fetched isochrone for interval 30M, MRT: KEAT HONG LRT STATION\n",
      "Fetched isochrone for interval 30M, MRT: JELAPANG LRT STATION\n",
      "Fetched isochrone for interval 30M, MRT: CHOA CHU KANG LRT STATION\n",
      "Fetched isochrone for interval 30M, MRT: SENGKANG LRT STATION\n",
      "Fetched isochrone for interval 30M, MRT: HARBOURFRONT MRT STATION\n",
      "Fetched isochrone for interval 30M, MRT: PENDING LRT STATION\n",
      "Fetched isochrone for interval 30M, MRT: CLARKE QUAY MRT STATION\n",
      "Fetched isochrone for interval 30M, MRT: BUKIT PANJANG LRT STATION\n",
      "Fetched isochrone for interval 30M, MRT: FAJAR LRT STATION\n",
      "Fetched isochrone for interval 30M, MRT: KOVAN MRT STATION\n",
      "Fetched isochrone for interval 30M, MRT: LORONG CHUAN MRT STATION\n",
      "Fetched isochrone for interval 30M, MRT: MARYMOUNT MRT STATION\n",
      "Fetched isochrone for interval 30M, MRT: CALDECOTT MRT STATION\n",
      "Fetched isochrone for interval 30M, MRT: DOWNTOWN MRT STATION\n",
      "Fetched isochrone for interval 30M, MRT: GEYLANG BAHRU MRT STATION\n",
      "Fetched isochrone for interval 30M, MRT: BENDEMEER MRT STATION\n",
      "Fetched isochrone for interval 30M, MRT: BENCOOLEN MRT STATION\n",
      "Fetched isochrone for interval 30M, MRT: FORT CANNING MRT STATION\n",
      "Fetched isochrone for interval 30M, MRT: KAKI BUKIT MRT STATION\n",
      "Fetched isochrone for interval 30M, MRT: JALAN BESAR MRT STATION\n",
      "Fetched isochrone for interval 30M, MRT: MATTAR MRT STATION\n",
      "Fetched isochrone for interval 30M, MRT: MACPHERSON MRT STATION\n",
      "Fetched isochrone for interval 30M, MRT: BAYFRONT MRT STATION\n",
      "Fetched isochrone for interval 30M, MRT: FARRER ROAD MRT STATION\n",
      "Fetched isochrone for interval 30M, MRT: JURONG EAST MRT STATION\n",
      "Fetched isochrone for interval 30M, MRT: BEDOK NORTH MRT STATION\n",
      "Fetched isochrone for interval 30M, MRT: BEDOK RESERVOIR MRT STATION\n",
      "Fetched isochrone for interval 30M, MRT: ORCHARD MRT STATION\n",
      "Fetched isochrone for interval 30M, MRT: LENTOR MRT STATION\n",
      "Fetched isochrone for interval 30M, MRT: BRIGHT HILL MRT STATION\n",
      "Fetched isochrone for interval 30M, MRT: SPRINGLEAF MRT STATION\n",
      "Fetched isochrone for interval 30M, MRT: MARINA SOUTH PIER MRT STATION\n",
      "Fetched isochrone for interval 30M, MRT: CANBERRA MRT STATION\n",
      "Fetched isochrone for interval 30M, MRT: WOODLANDS SOUTH MRT STATION\n",
      "Fetched isochrone for interval 30M, MRT: WOODLANDS NORTH MRT STATION\n",
      "Fetched isochrone for interval 30M, MRT: GUL CIRCLE MRT STATION\n",
      "Fetched isochrone for interval 30M, MRT: HAVELOCK MRT STATION\n",
      "Fetched isochrone for interval 30M, MRT: NAPIER MRT STATION\n",
      "Fetched isochrone for interval 30M, MRT: SHENTON WAY MRT STATION\n",
      "Fetched isochrone for interval 30M, MRT: GARDENS BY THE BAY MRT STATION\n",
      "Fetched isochrone for interval 30M, MRT: GREAT WORLD MRT STATION\n",
      "Fetched isochrone for interval 30M, MRT: MAXWELL MRT STATION\n",
      "Fetched isochrone for interval 30M, MRT: ORCHARD BOULEVARD MRT STATION\n",
      "Fetched isochrone for interval 30M, MRT: TELOK BLANGAH MRT STATION\n",
      "Fetched isochrone for interval 30M, MRT: TECK WHYE LRT STATION\n",
      "Fetched isochrone for interval 30M, MRT: TANJONG PAGAR MRT STATION\n",
      "Fetched isochrone for interval 30M, MRT: TANAH MERAH MRT STATION\n",
      "Fetched isochrone for interval 30M, MRT: TAN KAH KEE MRT STATION\n",
      "Fetched isochrone for interval 30M, MRT: UPPER THOMSON MRT STATION\n",
      "Fetched isochrone for interval 30M, MRT: MAYFLOWER MRT STATION\n",
      "Fetched isochrone for interval 35M, MRT: ESPLANADE MRT STATION\n",
      "Fetched isochrone for interval 35M, MRT: PAYA LEBAR MRT STATION\n",
      "Fetched isochrone for interval 35M, MRT: DHOBY GHAUT MRT STATION\n",
      "Fetched isochrone for interval 35M, MRT: DAKOTA MRT STATION\n",
      "Fetched isochrone for interval 35M, MRT: LAVENDER MRT STATION\n",
      "Fetched isochrone for interval 35M, MRT: RENJONG LRT STATION\n",
      "Fetched isochrone for interval 35M, MRT: DOVER MRT STATION\n",
      "Fetched isochrone for interval 35M, MRT: HOUGANG MRT STATION\n",
      "Fetched isochrone for interval 35M, MRT: PHOENIX LRT STATION\n",
      "Fetched isochrone for interval 35M, MRT: ALJUNIED MRT STATION\n",
      "Fetched isochrone for interval 35M, MRT: COVE LRT STATION\n",
      "Fetched isochrone for interval 35M, MRT: PASIR RIS MRT STATION\n",
      "Fetched isochrone for interval 35M, MRT: ADMIRALTY MRT STATION\n",
      "Fetched isochrone for interval 35M, MRT: KEMBANGAN MRT STATION\n",
      "Fetched isochrone for interval 35M, MRT: PUNGGOL POINT LRT STATION\n",
      "Fetched isochrone for interval 35M, MRT: MARSILING MRT STATION\n",
      "Fetched isochrone for interval 35M, MRT: COMPASSVALE LRT STATION\n",
      "Fetched isochrone for interval 35M, MRT: KHATIB MRT STATION\n",
      "Fetched isochrone for interval 35M, MRT: LAYAR LRT STATION\n",
      "Fetched isochrone for interval 35M, MRT: TAMPINES WEST MRT STATION\n",
      "Fetched isochrone for interval 35M, MRT: TAMPINES MRT STATION\n",
      "Fetched isochrone for interval 35M, MRT: TAMPINES EAST MRT STATION\n",
      "Fetched isochrone for interval 35M, MRT: TAI SENG MRT STATION\n",
      "Fetched isochrone for interval 35M, MRT: SUMANG LRT STATION\n",
      "Fetched isochrone for interval 35M, MRT: STEVENS MRT STATION\n",
      "Fetched isochrone for interval 35M, MRT: STADIUM MRT STATION\n",
      "Fetched isochrone for interval 35M, MRT: SIXTH AVENUE MRT STATION\n",
      "Fetched isochrone for interval 35M, MRT: SOUTH VIEW LRT STATION\n",
      "Fetched isochrone for interval 35M, MRT: SOO TECK LRT STATION\n",
      "Fetched isochrone for interval 35M, MRT: SOMERSET MRT STATION\n",
      "Fetched isochrone for interval 35M, MRT: SIMEI MRT STATION\n",
      "Fetched isochrone for interval 35M, MRT: SERANGOON MRT STATION\n",
      "Fetched isochrone for interval 35M, MRT: SENGKANG MRT STATION\n",
      "Fetched isochrone for interval 35M, MRT: BRADDELL MRT STATION\n",
      "Fetched isochrone for interval 35M, MRT: NOVENA MRT STATION\n",
      "Fetched isochrone for interval 35M, MRT: FARRER PARK MRT STATION\n",
      "Fetched isochrone for interval 35M, MRT: BEDOK MRT STATION\n",
      "Fetched isochrone for interval 35M, MRT: REDHILL MRT STATION\n",
      "Fetched isochrone for interval 35M, MRT: CHANGI AIRPORT MRT STATION\n",
      "Fetched isochrone for interval 35M, MRT: CORAL EDGE LRT STATION\n",
      "Fetched isochrone for interval 35M, MRT: CLEMENTI MRT STATION\n",
      "Fetched isochrone for interval 35M, MRT: BUKIT BATOK MRT STATION\n",
      "Fetched isochrone for interval 35M, MRT: OASIS LRT STATION\n",
      "Fetched isochrone for interval 35M, MRT: NIBONG LRT STATION\n",
      "Fetched isochrone for interval 35M, MRT: MERIDIAN LRT STATION\n",
      "Fetched isochrone for interval 35M, MRT: BUKIT GOMBAK MRT STATION\n",
      "Fetched isochrone for interval 35M, MRT: EUNOS MRT STATION\n",
      "Fetched isochrone for interval 35M, MRT: CHINESE GARDEN MRT STATION\n",
      "Fetched isochrone for interval 35M, MRT: KADALOOR LRT STATION\n",
      "Fetched isochrone for interval 35M, MRT: CHENG LIM LRT STATION\n",
      "Fetched isochrone for interval 35M, MRT: SAM KEE LRT STATION\n",
      "Fetched isochrone for interval 35M, MRT: KRANJI MRT STATION\n",
      "Fetched isochrone for interval 35M, MRT: ANG MO KIO MRT STATION\n",
      "Fetched isochrone for interval 35M, MRT: RIVIERA LRT STATION\n",
      "Fetched isochrone for interval 35M, MRT: BANGKIT LRT STATION\n",
      "Fetched isochrone for interval 35M, MRT: PASIR PANJANG MRT STATION\n",
      "Fetched isochrone for interval 35M, MRT: HOLLAND VILLAGE MRT STATION\n",
      "Fetched isochrone for interval 35M, MRT: LABRADOR PARK MRT STATION\n",
      "Fetched isochrone for interval 35M, MRT: BOTANIC GARDENS MRT STATION\n",
      "Fetched isochrone for interval 35M, MRT: ONE-NORTH MRT STATION\n",
      "Fetched isochrone for interval 35M, MRT: KENT RIDGE MRT STATION\n",
      "Fetched isochrone for interval 35M, MRT: HAW PAR VILLA MRT STATION\n",
      "Fetched isochrone for interval 35M, MRT: MARINA BAY MRT STATION\n",
      "Fetched isochrone for interval 35M, MRT: KING ALBERT PARK MRT STATION\n",
      "Fetched isochrone for interval 35M, MRT: LITTLE INDIA MRT STATION\n",
      "Fetched isochrone for interval 35M, MRT: ROCHOR MRT STATION\n",
      "Fetched isochrone for interval 35M, MRT: SENJA LRT STATION\n",
      "Fetched isochrone for interval 35M, MRT: MOUNTBATTEN MRT STATION\n",
      "Fetched isochrone for interval 35M, MRT: CHOA CHU KANG MRT STATION\n",
      "Fetched isochrone for interval 35M, MRT: BOON KENG MRT STATION\n",
      "Fetched isochrone for interval 35M, MRT: BARTLEY MRT STATION\n",
      "Fetched isochrone for interval 35M, MRT: SEGAR LRT STATION\n",
      "Fetched isochrone for interval 35M, MRT: HILLVIEW MRT STATION\n",
      "Fetched isochrone for interval 35M, MRT: BEAUTY WORLD MRT STATION\n",
      "Fetched isochrone for interval 35M, MRT: BUKIT PANJANG MRT STATION\n",
      "Fetched isochrone for interval 35M, MRT: CASHEW MRT STATION\n",
      "Fetched isochrone for interval 35M, MRT: JOO KOON MRT STATION\n",
      "Fetched isochrone for interval 35M, MRT: YEW TEE MRT STATION\n",
      "Fetched isochrone for interval 35M, MRT: YISHUN MRT STATION\n",
      "Fetched isochrone for interval 35M, MRT: YIO CHU KANG MRT STATION\n",
      "Fetched isochrone for interval 35M, MRT: WOODLEIGH MRT STATION\n",
      "Fetched isochrone for interval 35M, MRT: WOODLANDS MRT STATION\n",
      "Fetched isochrone for interval 35M, MRT: UPPER CHANGI MRT STATION\n",
      "Fetched isochrone for interval 35M, MRT: TELOK AYER MRT STATION\n",
      "Fetched isochrone for interval 35M, MRT: TONGKANG LRT STATION\n",
      "Fetched isochrone for interval 35M, MRT: UBI MRT STATION\n",
      "Fetched isochrone for interval 35M, MRT: TOA PAYOH MRT STATION\n",
      "Fetched isochrone for interval 35M, MRT: TIONG BAHRU MRT STATION\n",
      "Fetched isochrone for interval 35M, MRT: THANGGAM LRT STATION\n",
      "Fetched isochrone for interval 35M, MRT: PROMENADE MRT STATION\n",
      "Fetched isochrone for interval 35M, MRT: BRAS BASAH MRT STATION\n",
      "Fetched isochrone for interval 35M, MRT: NICOLL HIGHWAY MRT STATION\n",
      "Fetched isochrone for interval 35M, MRT: POTONG PASIR MRT STATION\n",
      "Fetched isochrone for interval 35M, MRT: LAKESIDE MRT STATION\n",
      "Fetched isochrone for interval 35M, MRT: SAMUDERA LRT STATION\n",
      "Fetched isochrone for interval 35M, MRT: RANGGUNG LRT STATION\n",
      "Fetched isochrone for interval 35M, MRT: SEMBAWANG MRT STATION\n",
      "Fetched isochrone for interval 35M, MRT: PUNGGOL LRT STATION\n",
      "Fetched isochrone for interval 35M, MRT: KANGKAR LRT STATION\n",
      "Fetched isochrone for interval 35M, MRT: PIONEER MRT STATION\n",
      "Fetched isochrone for interval 35M, MRT: BUGIS MRT STATION\n",
      "Fetched isochrone for interval 35M, MRT: NEWTON MRT STATION\n",
      "Fetched isochrone for interval 35M, MRT: BUONA VISTA MRT STATION\n",
      "Fetched isochrone for interval 35M, MRT: OUTRAM PARK MRT STATION\n",
      "Fetched isochrone for interval 35M, MRT: CHINATOWN MRT STATION\n",
      "Fetched isochrone for interval 35M, MRT: EXPO MRT STATION\n",
      "Fetched isochrone for interval 35M, MRT: RAFFLES PLACE MRT STATION\n",
      "Fetched isochrone for interval 35M, MRT: TUAS CRESCENT MRT STATION\n",
      "Fetched isochrone for interval 35M, MRT: TUAS LINK MRT STATION\n",
      "Fetched isochrone for interval 35M, MRT: TUAS WEST ROAD MRT STATION\n",
      "Fetched isochrone for interval 35M, MRT: CITY HALL MRT STATION\n",
      "Fetched isochrone for interval 35M, MRT: BISHAN MRT STATION\n",
      "Fetched isochrone for interval 35M, MRT: FERNVALE LRT STATION\n",
      "Fetched isochrone for interval 35M, MRT: PUNGGOL MRT STATION\n",
      "Fetched isochrone for interval 35M, MRT: BUANGKOK MRT STATION\n",
      "Fetched isochrone for interval 35M, MRT: BAKAU LRT STATION\n",
      "Fetched isochrone for interval 35M, MRT: FARMWAY LRT STATION\n",
      "Fetched isochrone for interval 35M, MRT: COMMONWEALTH MRT STATION\n",
      "Fetched isochrone for interval 35M, MRT: KUPANG LRT STATION\n",
      "Fetched isochrone for interval 35M, MRT: DAMAI LRT STATION\n",
      "Fetched isochrone for interval 35M, MRT: QUEENSTOWN MRT STATION\n",
      "Fetched isochrone for interval 35M, MRT: KALLANG MRT STATION\n",
      "Fetched isochrone for interval 35M, MRT: RUMBIA LRT STATION\n",
      "Fetched isochrone for interval 35M, MRT: PETIR LRT STATION\n",
      "Fetched isochrone for interval 35M, MRT: BOON LAY MRT STATION\n",
      "Fetched isochrone for interval 35M, MRT: KEAT HONG LRT STATION\n",
      "Fetched isochrone for interval 35M, MRT: JELAPANG LRT STATION\n",
      "Fetched isochrone for interval 35M, MRT: CHOA CHU KANG LRT STATION\n",
      "Fetched isochrone for interval 35M, MRT: SENGKANG LRT STATION\n",
      "Fetched isochrone for interval 35M, MRT: HARBOURFRONT MRT STATION\n",
      "Fetched isochrone for interval 35M, MRT: PENDING LRT STATION\n",
      "Fetched isochrone for interval 35M, MRT: CLARKE QUAY MRT STATION\n",
      "Fetched isochrone for interval 35M, MRT: BUKIT PANJANG LRT STATION\n",
      "Fetched isochrone for interval 35M, MRT: FAJAR LRT STATION\n",
      "Fetched isochrone for interval 35M, MRT: KOVAN MRT STATION\n",
      "Fetched isochrone for interval 35M, MRT: LORONG CHUAN MRT STATION\n",
      "Fetched isochrone for interval 35M, MRT: MARYMOUNT MRT STATION\n",
      "Fetched isochrone for interval 35M, MRT: CALDECOTT MRT STATION\n",
      "Fetched isochrone for interval 35M, MRT: DOWNTOWN MRT STATION\n",
      "Fetched isochrone for interval 35M, MRT: GEYLANG BAHRU MRT STATION\n",
      "Fetched isochrone for interval 35M, MRT: BENDEMEER MRT STATION\n",
      "Fetched isochrone for interval 35M, MRT: BENCOOLEN MRT STATION\n",
      "Fetched isochrone for interval 35M, MRT: FORT CANNING MRT STATION\n",
      "Fetched isochrone for interval 35M, MRT: KAKI BUKIT MRT STATION\n",
      "Fetched isochrone for interval 35M, MRT: JALAN BESAR MRT STATION\n",
      "Fetched isochrone for interval 35M, MRT: MATTAR MRT STATION\n",
      "Fetched isochrone for interval 35M, MRT: MACPHERSON MRT STATION\n",
      "Fetched isochrone for interval 35M, MRT: BAYFRONT MRT STATION\n",
      "Fetched isochrone for interval 35M, MRT: FARRER ROAD MRT STATION\n",
      "Fetched isochrone for interval 35M, MRT: JURONG EAST MRT STATION\n",
      "Fetched isochrone for interval 35M, MRT: BEDOK NORTH MRT STATION\n",
      "Fetched isochrone for interval 35M, MRT: BEDOK RESERVOIR MRT STATION\n",
      "Fetched isochrone for interval 35M, MRT: ORCHARD MRT STATION\n",
      "Fetched isochrone for interval 35M, MRT: LENTOR MRT STATION\n",
      "Fetched isochrone for interval 35M, MRT: BRIGHT HILL MRT STATION\n",
      "Fetched isochrone for interval 35M, MRT: SPRINGLEAF MRT STATION\n",
      "Fetched isochrone for interval 35M, MRT: MARINA SOUTH PIER MRT STATION\n",
      "Fetched isochrone for interval 35M, MRT: CANBERRA MRT STATION\n",
      "Fetched isochrone for interval 35M, MRT: WOODLANDS SOUTH MRT STATION\n",
      "Fetched isochrone for interval 35M, MRT: WOODLANDS NORTH MRT STATION\n",
      "Fetched isochrone for interval 35M, MRT: GUL CIRCLE MRT STATION\n",
      "Fetched isochrone for interval 35M, MRT: HAVELOCK MRT STATION\n",
      "Fetched isochrone for interval 35M, MRT: NAPIER MRT STATION\n",
      "Fetched isochrone for interval 35M, MRT: SHENTON WAY MRT STATION\n",
      "Fetched isochrone for interval 35M, MRT: GARDENS BY THE BAY MRT STATION\n",
      "Fetched isochrone for interval 35M, MRT: GREAT WORLD MRT STATION\n",
      "Fetched isochrone for interval 35M, MRT: MAXWELL MRT STATION\n",
      "Fetched isochrone for interval 35M, MRT: ORCHARD BOULEVARD MRT STATION\n",
      "Fetched isochrone for interval 35M, MRT: TELOK BLANGAH MRT STATION\n",
      "Fetched isochrone for interval 35M, MRT: TECK WHYE LRT STATION\n",
      "Fetched isochrone for interval 35M, MRT: TANJONG PAGAR MRT STATION\n",
      "Fetched isochrone for interval 35M, MRT: TANAH MERAH MRT STATION\n",
      "Fetched isochrone for interval 35M, MRT: TAN KAH KEE MRT STATION\n",
      "Fetched isochrone for interval 35M, MRT: UPPER THOMSON MRT STATION\n",
      "Fetched isochrone for interval 35M, MRT: MAYFLOWER MRT STATION\n",
      "Fetched isochrone for interval 40M, MRT: ESPLANADE MRT STATION\n",
      "Fetched isochrone for interval 40M, MRT: PAYA LEBAR MRT STATION\n",
      "Fetched isochrone for interval 40M, MRT: DHOBY GHAUT MRT STATION\n",
      "Fetched isochrone for interval 40M, MRT: DAKOTA MRT STATION\n",
      "Fetched isochrone for interval 40M, MRT: LAVENDER MRT STATION\n",
      "Fetched isochrone for interval 40M, MRT: RENJONG LRT STATION\n",
      "Fetched isochrone for interval 40M, MRT: DOVER MRT STATION\n",
      "Fetched isochrone for interval 40M, MRT: HOUGANG MRT STATION\n",
      "Fetched isochrone for interval 40M, MRT: PHOENIX LRT STATION\n",
      "Fetched isochrone for interval 40M, MRT: ALJUNIED MRT STATION\n",
      "Fetched isochrone for interval 40M, MRT: COVE LRT STATION\n",
      "Fetched isochrone for interval 40M, MRT: PASIR RIS MRT STATION\n",
      "Fetched isochrone for interval 40M, MRT: ADMIRALTY MRT STATION\n",
      "Fetched isochrone for interval 40M, MRT: KEMBANGAN MRT STATION\n",
      "Fetched isochrone for interval 40M, MRT: PUNGGOL POINT LRT STATION\n",
      "Fetched isochrone for interval 40M, MRT: MARSILING MRT STATION\n",
      "Fetched isochrone for interval 40M, MRT: COMPASSVALE LRT STATION\n",
      "Fetched isochrone for interval 40M, MRT: KHATIB MRT STATION\n",
      "Fetched isochrone for interval 40M, MRT: LAYAR LRT STATION\n",
      "Fetched isochrone for interval 40M, MRT: TAMPINES WEST MRT STATION\n",
      "Fetched isochrone for interval 40M, MRT: TAMPINES MRT STATION\n",
      "Fetched isochrone for interval 40M, MRT: TAMPINES EAST MRT STATION\n",
      "Fetched isochrone for interval 40M, MRT: TAI SENG MRT STATION\n",
      "Fetched isochrone for interval 40M, MRT: SUMANG LRT STATION\n",
      "Fetched isochrone for interval 40M, MRT: STEVENS MRT STATION\n",
      "Fetched isochrone for interval 40M, MRT: STADIUM MRT STATION\n",
      "Fetched isochrone for interval 40M, MRT: SIXTH AVENUE MRT STATION\n",
      "Fetched isochrone for interval 40M, MRT: SOUTH VIEW LRT STATION\n",
      "Fetched isochrone for interval 40M, MRT: SOO TECK LRT STATION\n",
      "Fetched isochrone for interval 40M, MRT: SOMERSET MRT STATION\n",
      "Fetched isochrone for interval 40M, MRT: SIMEI MRT STATION\n",
      "Fetched isochrone for interval 40M, MRT: SERANGOON MRT STATION\n",
      "Fetched isochrone for interval 40M, MRT: SENGKANG MRT STATION\n",
      "Fetched isochrone for interval 40M, MRT: BRADDELL MRT STATION\n",
      "Fetched isochrone for interval 40M, MRT: NOVENA MRT STATION\n",
      "Fetched isochrone for interval 40M, MRT: FARRER PARK MRT STATION\n",
      "Fetched isochrone for interval 40M, MRT: BEDOK MRT STATION\n",
      "Fetched isochrone for interval 40M, MRT: REDHILL MRT STATION\n",
      "Fetched isochrone for interval 40M, MRT: CHANGI AIRPORT MRT STATION\n",
      "Fetched isochrone for interval 40M, MRT: CORAL EDGE LRT STATION\n",
      "Fetched isochrone for interval 40M, MRT: CLEMENTI MRT STATION\n",
      "Fetched isochrone for interval 40M, MRT: BUKIT BATOK MRT STATION\n",
      "Fetched isochrone for interval 40M, MRT: OASIS LRT STATION\n",
      "Fetched isochrone for interval 40M, MRT: NIBONG LRT STATION\n",
      "Fetched isochrone for interval 40M, MRT: MERIDIAN LRT STATION\n",
      "Fetched isochrone for interval 40M, MRT: BUKIT GOMBAK MRT STATION\n",
      "Fetched isochrone for interval 40M, MRT: EUNOS MRT STATION\n",
      "Fetched isochrone for interval 40M, MRT: CHINESE GARDEN MRT STATION\n",
      "Fetched isochrone for interval 40M, MRT: KADALOOR LRT STATION\n",
      "Fetched isochrone for interval 40M, MRT: CHENG LIM LRT STATION\n",
      "Fetched isochrone for interval 40M, MRT: SAM KEE LRT STATION\n",
      "Fetched isochrone for interval 40M, MRT: KRANJI MRT STATION\n",
      "Fetched isochrone for interval 40M, MRT: ANG MO KIO MRT STATION\n",
      "Fetched isochrone for interval 40M, MRT: RIVIERA LRT STATION\n",
      "Fetched isochrone for interval 40M, MRT: BANGKIT LRT STATION\n",
      "Fetched isochrone for interval 40M, MRT: PASIR PANJANG MRT STATION\n",
      "Fetched isochrone for interval 40M, MRT: HOLLAND VILLAGE MRT STATION\n",
      "Fetched isochrone for interval 40M, MRT: LABRADOR PARK MRT STATION\n",
      "Fetched isochrone for interval 40M, MRT: BOTANIC GARDENS MRT STATION\n",
      "Fetched isochrone for interval 40M, MRT: ONE-NORTH MRT STATION\n",
      "Fetched isochrone for interval 40M, MRT: KENT RIDGE MRT STATION\n",
      "Fetched isochrone for interval 40M, MRT: HAW PAR VILLA MRT STATION\n",
      "Fetched isochrone for interval 40M, MRT: MARINA BAY MRT STATION\n",
      "Fetched isochrone for interval 40M, MRT: KING ALBERT PARK MRT STATION\n",
      "Fetched isochrone for interval 40M, MRT: LITTLE INDIA MRT STATION\n",
      "Fetched isochrone for interval 40M, MRT: ROCHOR MRT STATION\n",
      "Fetched isochrone for interval 40M, MRT: SENJA LRT STATION\n",
      "Fetched isochrone for interval 40M, MRT: MOUNTBATTEN MRT STATION\n",
      "Fetched isochrone for interval 40M, MRT: CHOA CHU KANG MRT STATION\n",
      "Fetched isochrone for interval 40M, MRT: BOON KENG MRT STATION\n",
      "Fetched isochrone for interval 40M, MRT: BARTLEY MRT STATION\n",
      "Fetched isochrone for interval 40M, MRT: SEGAR LRT STATION\n",
      "Fetched isochrone for interval 40M, MRT: HILLVIEW MRT STATION\n",
      "Fetched isochrone for interval 40M, MRT: BEAUTY WORLD MRT STATION\n",
      "Fetched isochrone for interval 40M, MRT: BUKIT PANJANG MRT STATION\n",
      "Fetched isochrone for interval 40M, MRT: CASHEW MRT STATION\n",
      "Fetched isochrone for interval 40M, MRT: JOO KOON MRT STATION\n",
      "Fetched isochrone for interval 40M, MRT: YEW TEE MRT STATION\n",
      "Fetched isochrone for interval 40M, MRT: YISHUN MRT STATION\n",
      "Fetched isochrone for interval 40M, MRT: YIO CHU KANG MRT STATION\n",
      "Fetched isochrone for interval 40M, MRT: WOODLEIGH MRT STATION\n",
      "Fetched isochrone for interval 40M, MRT: WOODLANDS MRT STATION\n",
      "Fetched isochrone for interval 40M, MRT: UPPER CHANGI MRT STATION\n",
      "Fetched isochrone for interval 40M, MRT: TELOK AYER MRT STATION\n",
      "Fetched isochrone for interval 40M, MRT: TONGKANG LRT STATION\n",
      "Fetched isochrone for interval 40M, MRT: UBI MRT STATION\n",
      "Fetched isochrone for interval 40M, MRT: TOA PAYOH MRT STATION\n",
      "Fetched isochrone for interval 40M, MRT: TIONG BAHRU MRT STATION\n",
      "Fetched isochrone for interval 40M, MRT: THANGGAM LRT STATION\n",
      "Fetched isochrone for interval 40M, MRT: PROMENADE MRT STATION\n",
      "Fetched isochrone for interval 40M, MRT: BRAS BASAH MRT STATION\n",
      "Fetched isochrone for interval 40M, MRT: NICOLL HIGHWAY MRT STATION\n",
      "Fetched isochrone for interval 40M, MRT: POTONG PASIR MRT STATION\n",
      "Fetched isochrone for interval 40M, MRT: LAKESIDE MRT STATION\n",
      "Fetched isochrone for interval 40M, MRT: SAMUDERA LRT STATION\n",
      "Fetched isochrone for interval 40M, MRT: RANGGUNG LRT STATION\n",
      "Fetched isochrone for interval 40M, MRT: SEMBAWANG MRT STATION\n",
      "Fetched isochrone for interval 40M, MRT: PUNGGOL LRT STATION\n",
      "Fetched isochrone for interval 40M, MRT: KANGKAR LRT STATION\n",
      "Fetched isochrone for interval 40M, MRT: PIONEER MRT STATION\n",
      "Fetched isochrone for interval 40M, MRT: BUGIS MRT STATION\n",
      "Fetched isochrone for interval 40M, MRT: NEWTON MRT STATION\n",
      "Fetched isochrone for interval 40M, MRT: BUONA VISTA MRT STATION\n",
      "Fetched isochrone for interval 40M, MRT: OUTRAM PARK MRT STATION\n",
      "Fetched isochrone for interval 40M, MRT: CHINATOWN MRT STATION\n",
      "Fetched isochrone for interval 40M, MRT: EXPO MRT STATION\n",
      "Fetched isochrone for interval 40M, MRT: RAFFLES PLACE MRT STATION\n",
      "Fetched isochrone for interval 40M, MRT: TUAS CRESCENT MRT STATION\n",
      "Fetched isochrone for interval 40M, MRT: TUAS LINK MRT STATION\n",
      "Fetched isochrone for interval 40M, MRT: TUAS WEST ROAD MRT STATION\n",
      "Fetched isochrone for interval 40M, MRT: CITY HALL MRT STATION\n",
      "Fetched isochrone for interval 40M, MRT: BISHAN MRT STATION\n",
      "Fetched isochrone for interval 40M, MRT: FERNVALE LRT STATION\n",
      "Fetched isochrone for interval 40M, MRT: PUNGGOL MRT STATION\n",
      "Fetched isochrone for interval 40M, MRT: BUANGKOK MRT STATION\n",
      "Fetched isochrone for interval 40M, MRT: BAKAU LRT STATION\n",
      "Fetched isochrone for interval 40M, MRT: FARMWAY LRT STATION\n",
      "Fetched isochrone for interval 40M, MRT: COMMONWEALTH MRT STATION\n",
      "Fetched isochrone for interval 40M, MRT: KUPANG LRT STATION\n",
      "Fetched isochrone for interval 40M, MRT: DAMAI LRT STATION\n",
      "Fetched isochrone for interval 40M, MRT: QUEENSTOWN MRT STATION\n",
      "Fetched isochrone for interval 40M, MRT: KALLANG MRT STATION\n",
      "Fetched isochrone for interval 40M, MRT: RUMBIA LRT STATION\n",
      "Fetched isochrone for interval 40M, MRT: PETIR LRT STATION\n",
      "Fetched isochrone for interval 40M, MRT: BOON LAY MRT STATION\n",
      "Fetched isochrone for interval 40M, MRT: KEAT HONG LRT STATION\n",
      "Fetched isochrone for interval 40M, MRT: JELAPANG LRT STATION\n",
      "Fetched isochrone for interval 40M, MRT: CHOA CHU KANG LRT STATION\n",
      "Fetched isochrone for interval 40M, MRT: SENGKANG LRT STATION\n",
      "Fetched isochrone for interval 40M, MRT: HARBOURFRONT MRT STATION\n",
      "Fetched isochrone for interval 40M, MRT: PENDING LRT STATION\n",
      "Fetched isochrone for interval 40M, MRT: CLARKE QUAY MRT STATION\n",
      "Fetched isochrone for interval 40M, MRT: BUKIT PANJANG LRT STATION\n",
      "Fetched isochrone for interval 40M, MRT: FAJAR LRT STATION\n",
      "Fetched isochrone for interval 40M, MRT: KOVAN MRT STATION\n",
      "Fetched isochrone for interval 40M, MRT: LORONG CHUAN MRT STATION\n",
      "Fetched isochrone for interval 40M, MRT: MARYMOUNT MRT STATION\n",
      "Fetched isochrone for interval 40M, MRT: CALDECOTT MRT STATION\n",
      "Fetched isochrone for interval 40M, MRT: DOWNTOWN MRT STATION\n",
      "Fetched isochrone for interval 40M, MRT: GEYLANG BAHRU MRT STATION\n",
      "Fetched isochrone for interval 40M, MRT: BENDEMEER MRT STATION\n",
      "Fetched isochrone for interval 40M, MRT: BENCOOLEN MRT STATION\n",
      "Fetched isochrone for interval 40M, MRT: FORT CANNING MRT STATION\n",
      "Fetched isochrone for interval 40M, MRT: KAKI BUKIT MRT STATION\n",
      "Fetched isochrone for interval 40M, MRT: JALAN BESAR MRT STATION\n",
      "Fetched isochrone for interval 40M, MRT: MATTAR MRT STATION\n",
      "Fetched isochrone for interval 40M, MRT: MACPHERSON MRT STATION\n",
      "Fetched isochrone for interval 40M, MRT: BAYFRONT MRT STATION\n",
      "Fetched isochrone for interval 40M, MRT: FARRER ROAD MRT STATION\n",
      "Fetched isochrone for interval 40M, MRT: JURONG EAST MRT STATION\n",
      "Fetched isochrone for interval 40M, MRT: BEDOK NORTH MRT STATION\n",
      "Fetched isochrone for interval 40M, MRT: BEDOK RESERVOIR MRT STATION\n",
      "Fetched isochrone for interval 40M, MRT: ORCHARD MRT STATION\n",
      "Fetched isochrone for interval 40M, MRT: LENTOR MRT STATION\n",
      "Fetched isochrone for interval 40M, MRT: BRIGHT HILL MRT STATION\n",
      "Fetched isochrone for interval 40M, MRT: SPRINGLEAF MRT STATION\n",
      "Fetched isochrone for interval 40M, MRT: MARINA SOUTH PIER MRT STATION\n",
      "Fetched isochrone for interval 40M, MRT: CANBERRA MRT STATION\n",
      "Fetched isochrone for interval 40M, MRT: WOODLANDS SOUTH MRT STATION\n",
      "Fetched isochrone for interval 40M, MRT: WOODLANDS NORTH MRT STATION\n",
      "Fetched isochrone for interval 40M, MRT: GUL CIRCLE MRT STATION\n",
      "Fetched isochrone for interval 40M, MRT: HAVELOCK MRT STATION\n",
      "Fetched isochrone for interval 40M, MRT: NAPIER MRT STATION\n",
      "Fetched isochrone for interval 40M, MRT: SHENTON WAY MRT STATION\n",
      "Fetched isochrone for interval 40M, MRT: GARDENS BY THE BAY MRT STATION\n",
      "Fetched isochrone for interval 40M, MRT: GREAT WORLD MRT STATION\n",
      "Fetched isochrone for interval 40M, MRT: MAXWELL MRT STATION\n",
      "Fetched isochrone for interval 40M, MRT: ORCHARD BOULEVARD MRT STATION\n",
      "Fetched isochrone for interval 40M, MRT: TELOK BLANGAH MRT STATION\n",
      "Fetched isochrone for interval 40M, MRT: TECK WHYE LRT STATION\n",
      "Fetched isochrone for interval 40M, MRT: TANJONG PAGAR MRT STATION\n",
      "Fetched isochrone for interval 40M, MRT: TANAH MERAH MRT STATION\n",
      "Fetched isochrone for interval 40M, MRT: TAN KAH KEE MRT STATION\n",
      "Fetched isochrone for interval 40M, MRT: UPPER THOMSON MRT STATION\n",
      "Fetched isochrone for interval 40M, MRT: MAYFLOWER MRT STATION\n",
      "Fetched isochrone for interval 45M, MRT: ESPLANADE MRT STATION\n",
      "Fetched isochrone for interval 45M, MRT: PAYA LEBAR MRT STATION\n",
      "Fetched isochrone for interval 45M, MRT: DHOBY GHAUT MRT STATION\n",
      "Fetched isochrone for interval 45M, MRT: DAKOTA MRT STATION\n",
      "Fetched isochrone for interval 45M, MRT: LAVENDER MRT STATION\n",
      "Fetched isochrone for interval 45M, MRT: RENJONG LRT STATION\n",
      "Fetched isochrone for interval 45M, MRT: DOVER MRT STATION\n",
      "Fetched isochrone for interval 45M, MRT: HOUGANG MRT STATION\n",
      "Fetched isochrone for interval 45M, MRT: PHOENIX LRT STATION\n",
      "Fetched isochrone for interval 45M, MRT: ALJUNIED MRT STATION\n",
      "Fetched isochrone for interval 45M, MRT: COVE LRT STATION\n",
      "Fetched isochrone for interval 45M, MRT: PASIR RIS MRT STATION\n",
      "Fetched isochrone for interval 45M, MRT: ADMIRALTY MRT STATION\n",
      "Fetched isochrone for interval 45M, MRT: KEMBANGAN MRT STATION\n",
      "Fetched isochrone for interval 45M, MRT: PUNGGOL POINT LRT STATION\n",
      "Fetched isochrone for interval 45M, MRT: MARSILING MRT STATION\n",
      "Fetched isochrone for interval 45M, MRT: COMPASSVALE LRT STATION\n",
      "Fetched isochrone for interval 45M, MRT: KHATIB MRT STATION\n",
      "Fetched isochrone for interval 45M, MRT: LAYAR LRT STATION\n",
      "Fetched isochrone for interval 45M, MRT: TAMPINES WEST MRT STATION\n",
      "Fetched isochrone for interval 45M, MRT: TAMPINES MRT STATION\n",
      "Fetched isochrone for interval 45M, MRT: TAMPINES EAST MRT STATION\n",
      "Fetched isochrone for interval 45M, MRT: TAI SENG MRT STATION\n",
      "Fetched isochrone for interval 45M, MRT: SUMANG LRT STATION\n",
      "Fetched isochrone for interval 45M, MRT: STEVENS MRT STATION\n",
      "Fetched isochrone for interval 45M, MRT: STADIUM MRT STATION\n",
      "Fetched isochrone for interval 45M, MRT: SIXTH AVENUE MRT STATION\n",
      "Fetched isochrone for interval 45M, MRT: SOUTH VIEW LRT STATION\n",
      "Fetched isochrone for interval 45M, MRT: SOO TECK LRT STATION\n",
      "Fetched isochrone for interval 45M, MRT: SOMERSET MRT STATION\n",
      "Fetched isochrone for interval 45M, MRT: SIMEI MRT STATION\n",
      "Fetched isochrone for interval 45M, MRT: SERANGOON MRT STATION\n",
      "Fetched isochrone for interval 45M, MRT: SENGKANG MRT STATION\n",
      "Fetched isochrone for interval 45M, MRT: BRADDELL MRT STATION\n",
      "Fetched isochrone for interval 45M, MRT: NOVENA MRT STATION\n",
      "Fetched isochrone for interval 45M, MRT: FARRER PARK MRT STATION\n",
      "Fetched isochrone for interval 45M, MRT: BEDOK MRT STATION\n",
      "Fetched isochrone for interval 45M, MRT: REDHILL MRT STATION\n",
      "Fetched isochrone for interval 45M, MRT: CHANGI AIRPORT MRT STATION\n",
      "Fetched isochrone for interval 45M, MRT: CORAL EDGE LRT STATION\n",
      "Fetched isochrone for interval 45M, MRT: CLEMENTI MRT STATION\n",
      "Fetched isochrone for interval 45M, MRT: BUKIT BATOK MRT STATION\n",
      "Fetched isochrone for interval 45M, MRT: OASIS LRT STATION\n",
      "Fetched isochrone for interval 45M, MRT: NIBONG LRT STATION\n",
      "Fetched isochrone for interval 45M, MRT: MERIDIAN LRT STATION\n",
      "Fetched isochrone for interval 45M, MRT: BUKIT GOMBAK MRT STATION\n",
      "Fetched isochrone for interval 45M, MRT: EUNOS MRT STATION\n",
      "Fetched isochrone for interval 45M, MRT: CHINESE GARDEN MRT STATION\n",
      "Fetched isochrone for interval 45M, MRT: KADALOOR LRT STATION\n",
      "Fetched isochrone for interval 45M, MRT: CHENG LIM LRT STATION\n",
      "Fetched isochrone for interval 45M, MRT: SAM KEE LRT STATION\n",
      "Fetched isochrone for interval 45M, MRT: KRANJI MRT STATION\n",
      "Fetched isochrone for interval 45M, MRT: ANG MO KIO MRT STATION\n",
      "Fetched isochrone for interval 45M, MRT: RIVIERA LRT STATION\n",
      "Fetched isochrone for interval 45M, MRT: BANGKIT LRT STATION\n",
      "Fetched isochrone for interval 45M, MRT: PASIR PANJANG MRT STATION\n",
      "Fetched isochrone for interval 45M, MRT: HOLLAND VILLAGE MRT STATION\n",
      "Fetched isochrone for interval 45M, MRT: LABRADOR PARK MRT STATION\n",
      "Fetched isochrone for interval 45M, MRT: BOTANIC GARDENS MRT STATION\n",
      "Fetched isochrone for interval 45M, MRT: ONE-NORTH MRT STATION\n",
      "Fetched isochrone for interval 45M, MRT: KENT RIDGE MRT STATION\n",
      "Fetched isochrone for interval 45M, MRT: HAW PAR VILLA MRT STATION\n",
      "Fetched isochrone for interval 45M, MRT: MARINA BAY MRT STATION\n",
      "Fetched isochrone for interval 45M, MRT: KING ALBERT PARK MRT STATION\n",
      "Fetched isochrone for interval 45M, MRT: LITTLE INDIA MRT STATION\n",
      "Fetched isochrone for interval 45M, MRT: ROCHOR MRT STATION\n",
      "Fetched isochrone for interval 45M, MRT: SENJA LRT STATION\n",
      "Fetched isochrone for interval 45M, MRT: MOUNTBATTEN MRT STATION\n",
      "Fetched isochrone for interval 45M, MRT: CHOA CHU KANG MRT STATION\n",
      "Fetched isochrone for interval 45M, MRT: BOON KENG MRT STATION\n",
      "Fetched isochrone for interval 45M, MRT: BARTLEY MRT STATION\n",
      "Fetched isochrone for interval 45M, MRT: SEGAR LRT STATION\n",
      "Fetched isochrone for interval 45M, MRT: HILLVIEW MRT STATION\n",
      "Fetched isochrone for interval 45M, MRT: BEAUTY WORLD MRT STATION\n",
      "Fetched isochrone for interval 45M, MRT: BUKIT PANJANG MRT STATION\n",
      "Fetched isochrone for interval 45M, MRT: CASHEW MRT STATION\n",
      "Fetched isochrone for interval 45M, MRT: JOO KOON MRT STATION\n",
      "Fetched isochrone for interval 45M, MRT: YEW TEE MRT STATION\n",
      "Fetched isochrone for interval 45M, MRT: YISHUN MRT STATION\n",
      "Fetched isochrone for interval 45M, MRT: YIO CHU KANG MRT STATION\n",
      "Fetched isochrone for interval 45M, MRT: WOODLEIGH MRT STATION\n",
      "Fetched isochrone for interval 45M, MRT: WOODLANDS MRT STATION\n",
      "Fetched isochrone for interval 45M, MRT: UPPER CHANGI MRT STATION\n",
      "Fetched isochrone for interval 45M, MRT: TELOK AYER MRT STATION\n",
      "Fetched isochrone for interval 45M, MRT: TONGKANG LRT STATION\n",
      "Fetched isochrone for interval 45M, MRT: UBI MRT STATION\n",
      "Fetched isochrone for interval 45M, MRT: TOA PAYOH MRT STATION\n",
      "Fetched isochrone for interval 45M, MRT: TIONG BAHRU MRT STATION\n",
      "Fetched isochrone for interval 45M, MRT: THANGGAM LRT STATION\n",
      "Fetched isochrone for interval 45M, MRT: PROMENADE MRT STATION\n",
      "Fetched isochrone for interval 45M, MRT: BRAS BASAH MRT STATION\n",
      "Fetched isochrone for interval 45M, MRT: NICOLL HIGHWAY MRT STATION\n",
      "Fetched isochrone for interval 45M, MRT: POTONG PASIR MRT STATION\n",
      "Fetched isochrone for interval 45M, MRT: LAKESIDE MRT STATION\n",
      "Fetched isochrone for interval 45M, MRT: SAMUDERA LRT STATION\n",
      "Fetched isochrone for interval 45M, MRT: RANGGUNG LRT STATION\n",
      "Fetched isochrone for interval 45M, MRT: SEMBAWANG MRT STATION\n",
      "Fetched isochrone for interval 45M, MRT: PUNGGOL LRT STATION\n",
      "Fetched isochrone for interval 45M, MRT: KANGKAR LRT STATION\n",
      "Fetched isochrone for interval 45M, MRT: PIONEER MRT STATION\n",
      "Fetched isochrone for interval 45M, MRT: BUGIS MRT STATION\n",
      "Fetched isochrone for interval 45M, MRT: NEWTON MRT STATION\n",
      "Fetched isochrone for interval 45M, MRT: BUONA VISTA MRT STATION\n",
      "Fetched isochrone for interval 45M, MRT: OUTRAM PARK MRT STATION\n",
      "Fetched isochrone for interval 45M, MRT: CHINATOWN MRT STATION\n",
      "Fetched isochrone for interval 45M, MRT: EXPO MRT STATION\n",
      "Fetched isochrone for interval 45M, MRT: RAFFLES PLACE MRT STATION\n",
      "Fetched isochrone for interval 45M, MRT: TUAS CRESCENT MRT STATION\n",
      "Fetched isochrone for interval 45M, MRT: TUAS LINK MRT STATION\n",
      "Fetched isochrone for interval 45M, MRT: TUAS WEST ROAD MRT STATION\n",
      "Fetched isochrone for interval 45M, MRT: CITY HALL MRT STATION\n",
      "Fetched isochrone for interval 45M, MRT: BISHAN MRT STATION\n",
      "Fetched isochrone for interval 45M, MRT: FERNVALE LRT STATION\n",
      "Fetched isochrone for interval 45M, MRT: PUNGGOL MRT STATION\n",
      "Fetched isochrone for interval 45M, MRT: BUANGKOK MRT STATION\n",
      "Fetched isochrone for interval 45M, MRT: BAKAU LRT STATION\n",
      "Fetched isochrone for interval 45M, MRT: FARMWAY LRT STATION\n",
      "Fetched isochrone for interval 45M, MRT: COMMONWEALTH MRT STATION\n",
      "Fetched isochrone for interval 45M, MRT: KUPANG LRT STATION\n",
      "Fetched isochrone for interval 45M, MRT: DAMAI LRT STATION\n",
      "Fetched isochrone for interval 45M, MRT: QUEENSTOWN MRT STATION\n",
      "Fetched isochrone for interval 45M, MRT: KALLANG MRT STATION\n",
      "Fetched isochrone for interval 45M, MRT: RUMBIA LRT STATION\n",
      "Fetched isochrone for interval 45M, MRT: PETIR LRT STATION\n",
      "Fetched isochrone for interval 45M, MRT: BOON LAY MRT STATION\n",
      "Fetched isochrone for interval 45M, MRT: KEAT HONG LRT STATION\n",
      "Fetched isochrone for interval 45M, MRT: JELAPANG LRT STATION\n",
      "Fetched isochrone for interval 45M, MRT: CHOA CHU KANG LRT STATION\n",
      "Fetched isochrone for interval 45M, MRT: SENGKANG LRT STATION\n",
      "Fetched isochrone for interval 45M, MRT: HARBOURFRONT MRT STATION\n",
      "Fetched isochrone for interval 45M, MRT: PENDING LRT STATION\n",
      "Fetched isochrone for interval 45M, MRT: CLARKE QUAY MRT STATION\n",
      "Fetched isochrone for interval 45M, MRT: BUKIT PANJANG LRT STATION\n",
      "Fetched isochrone for interval 45M, MRT: FAJAR LRT STATION\n",
      "Fetched isochrone for interval 45M, MRT: KOVAN MRT STATION\n",
      "Fetched isochrone for interval 45M, MRT: LORONG CHUAN MRT STATION\n",
      "Fetched isochrone for interval 45M, MRT: MARYMOUNT MRT STATION\n",
      "Fetched isochrone for interval 45M, MRT: CALDECOTT MRT STATION\n",
      "Fetched isochrone for interval 45M, MRT: DOWNTOWN MRT STATION\n",
      "Fetched isochrone for interval 45M, MRT: GEYLANG BAHRU MRT STATION\n",
      "Fetched isochrone for interval 45M, MRT: BENDEMEER MRT STATION\n",
      "Fetched isochrone for interval 45M, MRT: BENCOOLEN MRT STATION\n",
      "Fetched isochrone for interval 45M, MRT: FORT CANNING MRT STATION\n",
      "Fetched isochrone for interval 45M, MRT: KAKI BUKIT MRT STATION\n",
      "Fetched isochrone for interval 45M, MRT: JALAN BESAR MRT STATION\n",
      "Fetched isochrone for interval 45M, MRT: MATTAR MRT STATION\n",
      "Fetched isochrone for interval 45M, MRT: MACPHERSON MRT STATION\n",
      "Fetched isochrone for interval 45M, MRT: BAYFRONT MRT STATION\n",
      "Fetched isochrone for interval 45M, MRT: FARRER ROAD MRT STATION\n",
      "Fetched isochrone for interval 45M, MRT: JURONG EAST MRT STATION\n",
      "Fetched isochrone for interval 45M, MRT: BEDOK NORTH MRT STATION\n",
      "Fetched isochrone for interval 45M, MRT: BEDOK RESERVOIR MRT STATION\n",
      "Fetched isochrone for interval 45M, MRT: ORCHARD MRT STATION\n",
      "Fetched isochrone for interval 45M, MRT: LENTOR MRT STATION\n",
      "Fetched isochrone for interval 45M, MRT: BRIGHT HILL MRT STATION\n",
      "Fetched isochrone for interval 45M, MRT: SPRINGLEAF MRT STATION\n",
      "Fetched isochrone for interval 45M, MRT: MARINA SOUTH PIER MRT STATION\n",
      "Fetched isochrone for interval 45M, MRT: CANBERRA MRT STATION\n",
      "Fetched isochrone for interval 45M, MRT: WOODLANDS SOUTH MRT STATION\n",
      "Fetched isochrone for interval 45M, MRT: WOODLANDS NORTH MRT STATION\n",
      "Fetched isochrone for interval 45M, MRT: GUL CIRCLE MRT STATION\n",
      "Fetched isochrone for interval 45M, MRT: HAVELOCK MRT STATION\n",
      "Fetched isochrone for interval 45M, MRT: NAPIER MRT STATION\n",
      "Fetched isochrone for interval 45M, MRT: SHENTON WAY MRT STATION\n",
      "Fetched isochrone for interval 45M, MRT: GARDENS BY THE BAY MRT STATION\n",
      "Fetched isochrone for interval 45M, MRT: GREAT WORLD MRT STATION\n",
      "Fetched isochrone for interval 45M, MRT: MAXWELL MRT STATION\n",
      "Fetched isochrone for interval 45M, MRT: ORCHARD BOULEVARD MRT STATION\n",
      "Fetched isochrone for interval 45M, MRT: TELOK BLANGAH MRT STATION\n",
      "Fetched isochrone for interval 45M, MRT: TECK WHYE LRT STATION\n",
      "Fetched isochrone for interval 45M, MRT: TANJONG PAGAR MRT STATION\n",
      "Fetched isochrone for interval 45M, MRT: TANAH MERAH MRT STATION\n",
      "Fetched isochrone for interval 45M, MRT: TAN KAH KEE MRT STATION\n",
      "Fetched isochrone for interval 45M, MRT: UPPER THOMSON MRT STATION\n",
      "Fetched isochrone for interval 45M, MRT: MAYFLOWER MRT STATION\n",
      "Fetched isochrone for interval 50M, MRT: ESPLANADE MRT STATION\n",
      "Fetched isochrone for interval 50M, MRT: PAYA LEBAR MRT STATION\n",
      "Fetched isochrone for interval 50M, MRT: DHOBY GHAUT MRT STATION\n",
      "Fetched isochrone for interval 50M, MRT: DAKOTA MRT STATION\n",
      "Fetched isochrone for interval 50M, MRT: LAVENDER MRT STATION\n",
      "Fetched isochrone for interval 50M, MRT: RENJONG LRT STATION\n",
      "Fetched isochrone for interval 50M, MRT: DOVER MRT STATION\n",
      "Fetched isochrone for interval 50M, MRT: HOUGANG MRT STATION\n",
      "Fetched isochrone for interval 50M, MRT: PHOENIX LRT STATION\n",
      "Fetched isochrone for interval 50M, MRT: ALJUNIED MRT STATION\n",
      "Fetched isochrone for interval 50M, MRT: COVE LRT STATION\n",
      "Fetched isochrone for interval 50M, MRT: PASIR RIS MRT STATION\n",
      "Fetched isochrone for interval 50M, MRT: ADMIRALTY MRT STATION\n",
      "Fetched isochrone for interval 50M, MRT: KEMBANGAN MRT STATION\n",
      "Fetched isochrone for interval 50M, MRT: PUNGGOL POINT LRT STATION\n",
      "Fetched isochrone for interval 50M, MRT: MARSILING MRT STATION\n",
      "Fetched isochrone for interval 50M, MRT: COMPASSVALE LRT STATION\n",
      "Fetched isochrone for interval 50M, MRT: KHATIB MRT STATION\n",
      "Fetched isochrone for interval 50M, MRT: LAYAR LRT STATION\n",
      "Fetched isochrone for interval 50M, MRT: TAMPINES WEST MRT STATION\n",
      "Fetched isochrone for interval 50M, MRT: TAMPINES MRT STATION\n",
      "Fetched isochrone for interval 50M, MRT: TAMPINES EAST MRT STATION\n",
      "Fetched isochrone for interval 50M, MRT: TAI SENG MRT STATION\n",
      "Fetched isochrone for interval 50M, MRT: SUMANG LRT STATION\n",
      "Fetched isochrone for interval 50M, MRT: STEVENS MRT STATION\n",
      "Fetched isochrone for interval 50M, MRT: STADIUM MRT STATION\n",
      "Fetched isochrone for interval 50M, MRT: SIXTH AVENUE MRT STATION\n",
      "Fetched isochrone for interval 50M, MRT: SOUTH VIEW LRT STATION\n",
      "Fetched isochrone for interval 50M, MRT: SOO TECK LRT STATION\n",
      "Fetched isochrone for interval 50M, MRT: SOMERSET MRT STATION\n",
      "Fetched isochrone for interval 50M, MRT: SIMEI MRT STATION\n",
      "Fetched isochrone for interval 50M, MRT: SERANGOON MRT STATION\n",
      "Fetched isochrone for interval 50M, MRT: SENGKANG MRT STATION\n",
      "Fetched isochrone for interval 50M, MRT: BRADDELL MRT STATION\n",
      "Fetched isochrone for interval 50M, MRT: NOVENA MRT STATION\n",
      "Fetched isochrone for interval 50M, MRT: FARRER PARK MRT STATION\n",
      "Fetched isochrone for interval 50M, MRT: BEDOK MRT STATION\n",
      "Fetched isochrone for interval 50M, MRT: REDHILL MRT STATION\n",
      "Fetched isochrone for interval 50M, MRT: CHANGI AIRPORT MRT STATION\n",
      "Fetched isochrone for interval 50M, MRT: CORAL EDGE LRT STATION\n",
      "Fetched isochrone for interval 50M, MRT: CLEMENTI MRT STATION\n",
      "Fetched isochrone for interval 50M, MRT: BUKIT BATOK MRT STATION\n",
      "Fetched isochrone for interval 50M, MRT: OASIS LRT STATION\n",
      "Fetched isochrone for interval 50M, MRT: NIBONG LRT STATION\n",
      "Fetched isochrone for interval 50M, MRT: MERIDIAN LRT STATION\n",
      "Fetched isochrone for interval 50M, MRT: BUKIT GOMBAK MRT STATION\n",
      "Fetched isochrone for interval 50M, MRT: EUNOS MRT STATION\n",
      "Fetched isochrone for interval 50M, MRT: CHINESE GARDEN MRT STATION\n",
      "Fetched isochrone for interval 50M, MRT: KADALOOR LRT STATION\n",
      "Fetched isochrone for interval 50M, MRT: CHENG LIM LRT STATION\n",
      "Fetched isochrone for interval 50M, MRT: SAM KEE LRT STATION\n",
      "Fetched isochrone for interval 50M, MRT: KRANJI MRT STATION\n",
      "Fetched isochrone for interval 50M, MRT: ANG MO KIO MRT STATION\n",
      "Fetched isochrone for interval 50M, MRT: RIVIERA LRT STATION\n",
      "Fetched isochrone for interval 50M, MRT: BANGKIT LRT STATION\n",
      "Fetched isochrone for interval 50M, MRT: PASIR PANJANG MRT STATION\n",
      "Fetched isochrone for interval 50M, MRT: HOLLAND VILLAGE MRT STATION\n",
      "Fetched isochrone for interval 50M, MRT: LABRADOR PARK MRT STATION\n",
      "Fetched isochrone for interval 50M, MRT: BOTANIC GARDENS MRT STATION\n",
      "Fetched isochrone for interval 50M, MRT: ONE-NORTH MRT STATION\n",
      "Fetched isochrone for interval 50M, MRT: KENT RIDGE MRT STATION\n",
      "Fetched isochrone for interval 50M, MRT: HAW PAR VILLA MRT STATION\n",
      "Fetched isochrone for interval 50M, MRT: MARINA BAY MRT STATION\n",
      "Fetched isochrone for interval 50M, MRT: KING ALBERT PARK MRT STATION\n",
      "Fetched isochrone for interval 50M, MRT: LITTLE INDIA MRT STATION\n",
      "Fetched isochrone for interval 50M, MRT: ROCHOR MRT STATION\n",
      "Fetched isochrone for interval 50M, MRT: SENJA LRT STATION\n",
      "Fetched isochrone for interval 50M, MRT: MOUNTBATTEN MRT STATION\n",
      "Fetched isochrone for interval 50M, MRT: CHOA CHU KANG MRT STATION\n",
      "Fetched isochrone for interval 50M, MRT: BOON KENG MRT STATION\n",
      "Fetched isochrone for interval 50M, MRT: BARTLEY MRT STATION\n",
      "Fetched isochrone for interval 50M, MRT: SEGAR LRT STATION\n",
      "Fetched isochrone for interval 50M, MRT: HILLVIEW MRT STATION\n",
      "Fetched isochrone for interval 50M, MRT: BEAUTY WORLD MRT STATION\n",
      "Fetched isochrone for interval 50M, MRT: BUKIT PANJANG MRT STATION\n",
      "Fetched isochrone for interval 50M, MRT: CASHEW MRT STATION\n",
      "Fetched isochrone for interval 50M, MRT: JOO KOON MRT STATION\n",
      "Fetched isochrone for interval 50M, MRT: YEW TEE MRT STATION\n",
      "Fetched isochrone for interval 50M, MRT: YISHUN MRT STATION\n",
      "Fetched isochrone for interval 50M, MRT: YIO CHU KANG MRT STATION\n",
      "Fetched isochrone for interval 50M, MRT: WOODLEIGH MRT STATION\n",
      "Fetched isochrone for interval 50M, MRT: WOODLANDS MRT STATION\n",
      "Fetched isochrone for interval 50M, MRT: UPPER CHANGI MRT STATION\n",
      "Fetched isochrone for interval 50M, MRT: TELOK AYER MRT STATION\n",
      "Fetched isochrone for interval 50M, MRT: TONGKANG LRT STATION\n",
      "Fetched isochrone for interval 50M, MRT: UBI MRT STATION\n",
      "Fetched isochrone for interval 50M, MRT: TOA PAYOH MRT STATION\n",
      "Fetched isochrone for interval 50M, MRT: TIONG BAHRU MRT STATION\n",
      "Fetched isochrone for interval 50M, MRT: THANGGAM LRT STATION\n",
      "Fetched isochrone for interval 50M, MRT: PROMENADE MRT STATION\n",
      "Fetched isochrone for interval 50M, MRT: BRAS BASAH MRT STATION\n",
      "Fetched isochrone for interval 50M, MRT: NICOLL HIGHWAY MRT STATION\n",
      "Fetched isochrone for interval 50M, MRT: POTONG PASIR MRT STATION\n",
      "Fetched isochrone for interval 50M, MRT: LAKESIDE MRT STATION\n",
      "Fetched isochrone for interval 50M, MRT: SAMUDERA LRT STATION\n",
      "Fetched isochrone for interval 50M, MRT: RANGGUNG LRT STATION\n",
      "Fetched isochrone for interval 50M, MRT: SEMBAWANG MRT STATION\n",
      "Fetched isochrone for interval 50M, MRT: PUNGGOL LRT STATION\n",
      "Fetched isochrone for interval 50M, MRT: KANGKAR LRT STATION\n",
      "Fetched isochrone for interval 50M, MRT: PIONEER MRT STATION\n",
      "Fetched isochrone for interval 50M, MRT: BUGIS MRT STATION\n",
      "Fetched isochrone for interval 50M, MRT: NEWTON MRT STATION\n",
      "Fetched isochrone for interval 50M, MRT: BUONA VISTA MRT STATION\n",
      "Fetched isochrone for interval 50M, MRT: OUTRAM PARK MRT STATION\n",
      "Fetched isochrone for interval 50M, MRT: CHINATOWN MRT STATION\n",
      "Fetched isochrone for interval 50M, MRT: EXPO MRT STATION\n",
      "Fetched isochrone for interval 50M, MRT: RAFFLES PLACE MRT STATION\n",
      "Fetched isochrone for interval 50M, MRT: TUAS CRESCENT MRT STATION\n",
      "Fetched isochrone for interval 50M, MRT: TUAS LINK MRT STATION\n",
      "Fetched isochrone for interval 50M, MRT: TUAS WEST ROAD MRT STATION\n",
      "Fetched isochrone for interval 50M, MRT: CITY HALL MRT STATION\n",
      "Fetched isochrone for interval 50M, MRT: BISHAN MRT STATION\n",
      "Fetched isochrone for interval 50M, MRT: FERNVALE LRT STATION\n",
      "Fetched isochrone for interval 50M, MRT: PUNGGOL MRT STATION\n",
      "Fetched isochrone for interval 50M, MRT: BUANGKOK MRT STATION\n",
      "Fetched isochrone for interval 50M, MRT: BAKAU LRT STATION\n",
      "Fetched isochrone for interval 50M, MRT: FARMWAY LRT STATION\n",
      "Fetched isochrone for interval 50M, MRT: COMMONWEALTH MRT STATION\n",
      "Fetched isochrone for interval 50M, MRT: KUPANG LRT STATION\n",
      "Fetched isochrone for interval 50M, MRT: DAMAI LRT STATION\n",
      "Fetched isochrone for interval 50M, MRT: QUEENSTOWN MRT STATION\n",
      "Fetched isochrone for interval 50M, MRT: KALLANG MRT STATION\n",
      "Fetched isochrone for interval 50M, MRT: RUMBIA LRT STATION\n",
      "Fetched isochrone for interval 50M, MRT: PETIR LRT STATION\n",
      "Fetched isochrone for interval 50M, MRT: BOON LAY MRT STATION\n",
      "Fetched isochrone for interval 50M, MRT: KEAT HONG LRT STATION\n",
      "Fetched isochrone for interval 50M, MRT: JELAPANG LRT STATION\n",
      "Fetched isochrone for interval 50M, MRT: CHOA CHU KANG LRT STATION\n",
      "Fetched isochrone for interval 50M, MRT: SENGKANG LRT STATION\n",
      "Fetched isochrone for interval 50M, MRT: HARBOURFRONT MRT STATION\n",
      "Fetched isochrone for interval 50M, MRT: PENDING LRT STATION\n",
      "Fetched isochrone for interval 50M, MRT: CLARKE QUAY MRT STATION\n",
      "Fetched isochrone for interval 50M, MRT: BUKIT PANJANG LRT STATION\n",
      "Fetched isochrone for interval 50M, MRT: FAJAR LRT STATION\n",
      "Fetched isochrone for interval 50M, MRT: KOVAN MRT STATION\n",
      "Fetched isochrone for interval 50M, MRT: LORONG CHUAN MRT STATION\n",
      "Fetched isochrone for interval 50M, MRT: MARYMOUNT MRT STATION\n",
      "Fetched isochrone for interval 50M, MRT: CALDECOTT MRT STATION\n",
      "Fetched isochrone for interval 50M, MRT: DOWNTOWN MRT STATION\n",
      "Fetched isochrone for interval 50M, MRT: GEYLANG BAHRU MRT STATION\n",
      "Fetched isochrone for interval 50M, MRT: BENDEMEER MRT STATION\n",
      "Fetched isochrone for interval 50M, MRT: BENCOOLEN MRT STATION\n",
      "Fetched isochrone for interval 50M, MRT: FORT CANNING MRT STATION\n",
      "Fetched isochrone for interval 50M, MRT: KAKI BUKIT MRT STATION\n",
      "Fetched isochrone for interval 50M, MRT: JALAN BESAR MRT STATION\n",
      "Fetched isochrone for interval 50M, MRT: MATTAR MRT STATION\n",
      "Fetched isochrone for interval 50M, MRT: MACPHERSON MRT STATION\n",
      "Fetched isochrone for interval 50M, MRT: BAYFRONT MRT STATION\n",
      "Fetched isochrone for interval 50M, MRT: FARRER ROAD MRT STATION\n",
      "Fetched isochrone for interval 50M, MRT: JURONG EAST MRT STATION\n",
      "Fetched isochrone for interval 50M, MRT: BEDOK NORTH MRT STATION\n",
      "Fetched isochrone for interval 50M, MRT: BEDOK RESERVOIR MRT STATION\n",
      "Fetched isochrone for interval 50M, MRT: ORCHARD MRT STATION\n",
      "Fetched isochrone for interval 50M, MRT: LENTOR MRT STATION\n",
      "Fetched isochrone for interval 50M, MRT: BRIGHT HILL MRT STATION\n",
      "Fetched isochrone for interval 50M, MRT: SPRINGLEAF MRT STATION\n",
      "Fetched isochrone for interval 50M, MRT: MARINA SOUTH PIER MRT STATION\n",
      "Fetched isochrone for interval 50M, MRT: CANBERRA MRT STATION\n",
      "Fetched isochrone for interval 50M, MRT: WOODLANDS SOUTH MRT STATION\n",
      "Fetched isochrone for interval 50M, MRT: WOODLANDS NORTH MRT STATION\n",
      "Fetched isochrone for interval 50M, MRT: GUL CIRCLE MRT STATION\n",
      "Fetched isochrone for interval 50M, MRT: HAVELOCK MRT STATION\n",
      "Fetched isochrone for interval 50M, MRT: NAPIER MRT STATION\n",
      "Fetched isochrone for interval 50M, MRT: SHENTON WAY MRT STATION\n",
      "Fetched isochrone for interval 50M, MRT: GARDENS BY THE BAY MRT STATION\n",
      "Fetched isochrone for interval 50M, MRT: GREAT WORLD MRT STATION\n",
      "Fetched isochrone for interval 50M, MRT: MAXWELL MRT STATION\n",
      "Fetched isochrone for interval 50M, MRT: ORCHARD BOULEVARD MRT STATION\n",
      "Fetched isochrone for interval 50M, MRT: TELOK BLANGAH MRT STATION\n",
      "Fetched isochrone for interval 50M, MRT: TECK WHYE LRT STATION\n",
      "Fetched isochrone for interval 50M, MRT: TANJONG PAGAR MRT STATION\n",
      "Fetched isochrone for interval 50M, MRT: TANAH MERAH MRT STATION\n",
      "Fetched isochrone for interval 50M, MRT: TAN KAH KEE MRT STATION\n",
      "Fetched isochrone for interval 50M, MRT: UPPER THOMSON MRT STATION\n",
      "Fetched isochrone for interval 50M, MRT: MAYFLOWER MRT STATION\n",
      "Fetched isochrone for interval 55M, MRT: ESPLANADE MRT STATION\n",
      "Fetched isochrone for interval 55M, MRT: PAYA LEBAR MRT STATION\n",
      "Fetched isochrone for interval 55M, MRT: DHOBY GHAUT MRT STATION\n",
      "Fetched isochrone for interval 55M, MRT: DAKOTA MRT STATION\n",
      "Fetched isochrone for interval 55M, MRT: LAVENDER MRT STATION\n",
      "Fetched isochrone for interval 55M, MRT: RENJONG LRT STATION\n",
      "Fetched isochrone for interval 55M, MRT: DOVER MRT STATION\n",
      "Fetched isochrone for interval 55M, MRT: HOUGANG MRT STATION\n",
      "Fetched isochrone for interval 55M, MRT: PHOENIX LRT STATION\n",
      "Fetched isochrone for interval 55M, MRT: ALJUNIED MRT STATION\n",
      "Fetched isochrone for interval 55M, MRT: COVE LRT STATION\n",
      "Fetched isochrone for interval 55M, MRT: PASIR RIS MRT STATION\n",
      "Fetched isochrone for interval 55M, MRT: ADMIRALTY MRT STATION\n",
      "Fetched isochrone for interval 55M, MRT: KEMBANGAN MRT STATION\n",
      "Fetched isochrone for interval 55M, MRT: PUNGGOL POINT LRT STATION\n",
      "Fetched isochrone for interval 55M, MRT: MARSILING MRT STATION\n",
      "Fetched isochrone for interval 55M, MRT: COMPASSVALE LRT STATION\n",
      "Fetched isochrone for interval 55M, MRT: KHATIB MRT STATION\n",
      "Fetched isochrone for interval 55M, MRT: LAYAR LRT STATION\n",
      "Fetched isochrone for interval 55M, MRT: TAMPINES WEST MRT STATION\n",
      "Fetched isochrone for interval 55M, MRT: TAMPINES MRT STATION\n",
      "Fetched isochrone for interval 55M, MRT: TAMPINES EAST MRT STATION\n",
      "Fetched isochrone for interval 55M, MRT: TAI SENG MRT STATION\n",
      "Fetched isochrone for interval 55M, MRT: SUMANG LRT STATION\n",
      "Fetched isochrone for interval 55M, MRT: STEVENS MRT STATION\n",
      "Fetched isochrone for interval 55M, MRT: STADIUM MRT STATION\n",
      "Fetched isochrone for interval 55M, MRT: SIXTH AVENUE MRT STATION\n",
      "Fetched isochrone for interval 55M, MRT: SOUTH VIEW LRT STATION\n",
      "Fetched isochrone for interval 55M, MRT: SOO TECK LRT STATION\n",
      "Fetched isochrone for interval 55M, MRT: SOMERSET MRT STATION\n",
      "Fetched isochrone for interval 55M, MRT: SIMEI MRT STATION\n",
      "Fetched isochrone for interval 55M, MRT: SERANGOON MRT STATION\n",
      "Fetched isochrone for interval 55M, MRT: SENGKANG MRT STATION\n",
      "Fetched isochrone for interval 55M, MRT: BRADDELL MRT STATION\n",
      "Fetched isochrone for interval 55M, MRT: NOVENA MRT STATION\n",
      "Fetched isochrone for interval 55M, MRT: FARRER PARK MRT STATION\n",
      "Fetched isochrone for interval 55M, MRT: BEDOK MRT STATION\n",
      "Fetched isochrone for interval 55M, MRT: REDHILL MRT STATION\n",
      "Fetched isochrone for interval 55M, MRT: CHANGI AIRPORT MRT STATION\n",
      "Fetched isochrone for interval 55M, MRT: CORAL EDGE LRT STATION\n",
      "Fetched isochrone for interval 55M, MRT: CLEMENTI MRT STATION\n",
      "Fetched isochrone for interval 55M, MRT: BUKIT BATOK MRT STATION\n",
      "Fetched isochrone for interval 55M, MRT: OASIS LRT STATION\n",
      "Fetched isochrone for interval 55M, MRT: NIBONG LRT STATION\n",
      "Fetched isochrone for interval 55M, MRT: MERIDIAN LRT STATION\n",
      "Fetched isochrone for interval 55M, MRT: BUKIT GOMBAK MRT STATION\n",
      "Fetched isochrone for interval 55M, MRT: EUNOS MRT STATION\n",
      "Fetched isochrone for interval 55M, MRT: CHINESE GARDEN MRT STATION\n",
      "Fetched isochrone for interval 55M, MRT: KADALOOR LRT STATION\n",
      "Fetched isochrone for interval 55M, MRT: CHENG LIM LRT STATION\n",
      "Fetched isochrone for interval 55M, MRT: SAM KEE LRT STATION\n",
      "Fetched isochrone for interval 55M, MRT: KRANJI MRT STATION\n",
      "Fetched isochrone for interval 55M, MRT: ANG MO KIO MRT STATION\n",
      "Fetched isochrone for interval 55M, MRT: RIVIERA LRT STATION\n",
      "Fetched isochrone for interval 55M, MRT: BANGKIT LRT STATION\n",
      "Fetched isochrone for interval 55M, MRT: PASIR PANJANG MRT STATION\n",
      "Fetched isochrone for interval 55M, MRT: HOLLAND VILLAGE MRT STATION\n",
      "Fetched isochrone for interval 55M, MRT: LABRADOR PARK MRT STATION\n",
      "Fetched isochrone for interval 55M, MRT: BOTANIC GARDENS MRT STATION\n",
      "Fetched isochrone for interval 55M, MRT: ONE-NORTH MRT STATION\n",
      "Fetched isochrone for interval 55M, MRT: KENT RIDGE MRT STATION\n",
      "Fetched isochrone for interval 55M, MRT: HAW PAR VILLA MRT STATION\n",
      "Fetched isochrone for interval 55M, MRT: MARINA BAY MRT STATION\n",
      "Fetched isochrone for interval 55M, MRT: KING ALBERT PARK MRT STATION\n",
      "Fetched isochrone for interval 55M, MRT: LITTLE INDIA MRT STATION\n",
      "Fetched isochrone for interval 55M, MRT: ROCHOR MRT STATION\n",
      "Fetched isochrone for interval 55M, MRT: SENJA LRT STATION\n",
      "Fetched isochrone for interval 55M, MRT: MOUNTBATTEN MRT STATION\n",
      "Fetched isochrone for interval 55M, MRT: CHOA CHU KANG MRT STATION\n",
      "Fetched isochrone for interval 55M, MRT: BOON KENG MRT STATION\n",
      "Fetched isochrone for interval 55M, MRT: BARTLEY MRT STATION\n",
      "Fetched isochrone for interval 55M, MRT: SEGAR LRT STATION\n",
      "Fetched isochrone for interval 55M, MRT: HILLVIEW MRT STATION\n",
      "Fetched isochrone for interval 55M, MRT: BEAUTY WORLD MRT STATION\n",
      "Fetched isochrone for interval 55M, MRT: BUKIT PANJANG MRT STATION\n",
      "Fetched isochrone for interval 55M, MRT: CASHEW MRT STATION\n",
      "Fetched isochrone for interval 55M, MRT: JOO KOON MRT STATION\n",
      "Fetched isochrone for interval 55M, MRT: YEW TEE MRT STATION\n",
      "Fetched isochrone for interval 55M, MRT: YISHUN MRT STATION\n",
      "Fetched isochrone for interval 55M, MRT: YIO CHU KANG MRT STATION\n",
      "Fetched isochrone for interval 55M, MRT: WOODLEIGH MRT STATION\n",
      "Fetched isochrone for interval 55M, MRT: WOODLANDS MRT STATION\n",
      "Fetched isochrone for interval 55M, MRT: UPPER CHANGI MRT STATION\n",
      "Fetched isochrone for interval 55M, MRT: TELOK AYER MRT STATION\n",
      "Fetched isochrone for interval 55M, MRT: TONGKANG LRT STATION\n",
      "Fetched isochrone for interval 55M, MRT: UBI MRT STATION\n",
      "Fetched isochrone for interval 55M, MRT: TOA PAYOH MRT STATION\n",
      "Fetched isochrone for interval 55M, MRT: TIONG BAHRU MRT STATION\n",
      "Fetched isochrone for interval 55M, MRT: THANGGAM LRT STATION\n",
      "Fetched isochrone for interval 55M, MRT: PROMENADE MRT STATION\n",
      "Fetched isochrone for interval 55M, MRT: BRAS BASAH MRT STATION\n",
      "Fetched isochrone for interval 55M, MRT: NICOLL HIGHWAY MRT STATION\n",
      "Fetched isochrone for interval 55M, MRT: POTONG PASIR MRT STATION\n",
      "Fetched isochrone for interval 55M, MRT: LAKESIDE MRT STATION\n",
      "Fetched isochrone for interval 55M, MRT: SAMUDERA LRT STATION\n",
      "Fetched isochrone for interval 55M, MRT: RANGGUNG LRT STATION\n",
      "Fetched isochrone for interval 55M, MRT: SEMBAWANG MRT STATION\n",
      "Fetched isochrone for interval 55M, MRT: PUNGGOL LRT STATION\n",
      "Fetched isochrone for interval 55M, MRT: KANGKAR LRT STATION\n",
      "Fetched isochrone for interval 55M, MRT: PIONEER MRT STATION\n",
      "Fetched isochrone for interval 55M, MRT: BUGIS MRT STATION\n",
      "Fetched isochrone for interval 55M, MRT: NEWTON MRT STATION\n",
      "Fetched isochrone for interval 55M, MRT: BUONA VISTA MRT STATION\n",
      "Fetched isochrone for interval 55M, MRT: OUTRAM PARK MRT STATION\n",
      "Fetched isochrone for interval 55M, MRT: CHINATOWN MRT STATION\n",
      "Fetched isochrone for interval 55M, MRT: EXPO MRT STATION\n",
      "Fetched isochrone for interval 55M, MRT: RAFFLES PLACE MRT STATION\n",
      "Fetched isochrone for interval 55M, MRT: TUAS CRESCENT MRT STATION\n",
      "Fetched isochrone for interval 55M, MRT: TUAS LINK MRT STATION\n",
      "Fetched isochrone for interval 55M, MRT: TUAS WEST ROAD MRT STATION\n",
      "Fetched isochrone for interval 55M, MRT: CITY HALL MRT STATION\n",
      "Fetched isochrone for interval 55M, MRT: BISHAN MRT STATION\n",
      "Fetched isochrone for interval 55M, MRT: FERNVALE LRT STATION\n",
      "Fetched isochrone for interval 55M, MRT: PUNGGOL MRT STATION\n",
      "Fetched isochrone for interval 55M, MRT: BUANGKOK MRT STATION\n",
      "Fetched isochrone for interval 55M, MRT: BAKAU LRT STATION\n",
      "Fetched isochrone for interval 55M, MRT: FARMWAY LRT STATION\n",
      "Fetched isochrone for interval 55M, MRT: COMMONWEALTH MRT STATION\n",
      "Fetched isochrone for interval 55M, MRT: KUPANG LRT STATION\n",
      "Fetched isochrone for interval 55M, MRT: DAMAI LRT STATION\n",
      "Fetched isochrone for interval 55M, MRT: QUEENSTOWN MRT STATION\n",
      "Fetched isochrone for interval 55M, MRT: KALLANG MRT STATION\n",
      "Fetched isochrone for interval 55M, MRT: RUMBIA LRT STATION\n",
      "Fetched isochrone for interval 55M, MRT: PETIR LRT STATION\n",
      "Fetched isochrone for interval 55M, MRT: BOON LAY MRT STATION\n",
      "Fetched isochrone for interval 55M, MRT: KEAT HONG LRT STATION\n",
      "Fetched isochrone for interval 55M, MRT: JELAPANG LRT STATION\n",
      "Fetched isochrone for interval 55M, MRT: CHOA CHU KANG LRT STATION\n",
      "Fetched isochrone for interval 55M, MRT: SENGKANG LRT STATION\n",
      "Fetched isochrone for interval 55M, MRT: HARBOURFRONT MRT STATION\n",
      "Fetched isochrone for interval 55M, MRT: PENDING LRT STATION\n",
      "Fetched isochrone for interval 55M, MRT: CLARKE QUAY MRT STATION\n",
      "Fetched isochrone for interval 55M, MRT: BUKIT PANJANG LRT STATION\n",
      "Fetched isochrone for interval 55M, MRT: FAJAR LRT STATION\n",
      "Fetched isochrone for interval 55M, MRT: KOVAN MRT STATION\n",
      "Fetched isochrone for interval 55M, MRT: LORONG CHUAN MRT STATION\n",
      "Fetched isochrone for interval 55M, MRT: MARYMOUNT MRT STATION\n",
      "Fetched isochrone for interval 55M, MRT: CALDECOTT MRT STATION\n",
      "Fetched isochrone for interval 55M, MRT: DOWNTOWN MRT STATION\n",
      "Fetched isochrone for interval 55M, MRT: GEYLANG BAHRU MRT STATION\n",
      "Fetched isochrone for interval 55M, MRT: BENDEMEER MRT STATION\n",
      "Fetched isochrone for interval 55M, MRT: BENCOOLEN MRT STATION\n",
      "Fetched isochrone for interval 55M, MRT: FORT CANNING MRT STATION\n",
      "Fetched isochrone for interval 55M, MRT: KAKI BUKIT MRT STATION\n",
      "Fetched isochrone for interval 55M, MRT: JALAN BESAR MRT STATION\n",
      "Fetched isochrone for interval 55M, MRT: MATTAR MRT STATION\n",
      "Fetched isochrone for interval 55M, MRT: MACPHERSON MRT STATION\n",
      "Fetched isochrone for interval 55M, MRT: BAYFRONT MRT STATION\n",
      "Fetched isochrone for interval 55M, MRT: FARRER ROAD MRT STATION\n",
      "Fetched isochrone for interval 55M, MRT: JURONG EAST MRT STATION\n",
      "Fetched isochrone for interval 55M, MRT: BEDOK NORTH MRT STATION\n",
      "Fetched isochrone for interval 55M, MRT: BEDOK RESERVOIR MRT STATION\n",
      "Fetched isochrone for interval 55M, MRT: ORCHARD MRT STATION\n",
      "Fetched isochrone for interval 55M, MRT: LENTOR MRT STATION\n",
      "Fetched isochrone for interval 55M, MRT: BRIGHT HILL MRT STATION\n",
      "Fetched isochrone for interval 55M, MRT: SPRINGLEAF MRT STATION\n",
      "Fetched isochrone for interval 55M, MRT: MARINA SOUTH PIER MRT STATION\n",
      "Fetched isochrone for interval 55M, MRT: CANBERRA MRT STATION\n",
      "Fetched isochrone for interval 55M, MRT: WOODLANDS SOUTH MRT STATION\n",
      "Fetched isochrone for interval 55M, MRT: WOODLANDS NORTH MRT STATION\n",
      "Fetched isochrone for interval 55M, MRT: GUL CIRCLE MRT STATION\n",
      "Fetched isochrone for interval 55M, MRT: HAVELOCK MRT STATION\n",
      "Fetched isochrone for interval 55M, MRT: NAPIER MRT STATION\n",
      "Fetched isochrone for interval 55M, MRT: SHENTON WAY MRT STATION\n",
      "Fetched isochrone for interval 55M, MRT: GARDENS BY THE BAY MRT STATION\n",
      "Fetched isochrone for interval 55M, MRT: GREAT WORLD MRT STATION\n",
      "Fetched isochrone for interval 55M, MRT: MAXWELL MRT STATION\n",
      "Fetched isochrone for interval 55M, MRT: ORCHARD BOULEVARD MRT STATION\n",
      "Fetched isochrone for interval 55M, MRT: TELOK BLANGAH MRT STATION\n",
      "Fetched isochrone for interval 55M, MRT: TECK WHYE LRT STATION\n",
      "Fetched isochrone for interval 55M, MRT: TANJONG PAGAR MRT STATION\n",
      "Fetched isochrone for interval 55M, MRT: TANAH MERAH MRT STATION\n",
      "Fetched isochrone for interval 55M, MRT: TAN KAH KEE MRT STATION\n",
      "Fetched isochrone for interval 55M, MRT: UPPER THOMSON MRT STATION\n",
      "Fetched isochrone for interval 55M, MRT: MAYFLOWER MRT STATION\n",
      "Fetched isochrone for interval 60M, MRT: ESPLANADE MRT STATION\n",
      "Fetched isochrone for interval 60M, MRT: PAYA LEBAR MRT STATION\n",
      "Fetched isochrone for interval 60M, MRT: DHOBY GHAUT MRT STATION\n",
      "Fetched isochrone for interval 60M, MRT: DAKOTA MRT STATION\n",
      "Fetched isochrone for interval 60M, MRT: LAVENDER MRT STATION\n",
      "Fetched isochrone for interval 60M, MRT: RENJONG LRT STATION\n",
      "Fetched isochrone for interval 60M, MRT: DOVER MRT STATION\n",
      "Fetched isochrone for interval 60M, MRT: HOUGANG MRT STATION\n",
      "Fetched isochrone for interval 60M, MRT: PHOENIX LRT STATION\n",
      "Fetched isochrone for interval 60M, MRT: ALJUNIED MRT STATION\n",
      "Fetched isochrone for interval 60M, MRT: COVE LRT STATION\n",
      "Fetched isochrone for interval 60M, MRT: PASIR RIS MRT STATION\n",
      "Fetched isochrone for interval 60M, MRT: ADMIRALTY MRT STATION\n",
      "Fetched isochrone for interval 60M, MRT: KEMBANGAN MRT STATION\n",
      "Fetched isochrone for interval 60M, MRT: PUNGGOL POINT LRT STATION\n",
      "Fetched isochrone for interval 60M, MRT: MARSILING MRT STATION\n",
      "Fetched isochrone for interval 60M, MRT: COMPASSVALE LRT STATION\n",
      "Fetched isochrone for interval 60M, MRT: KHATIB MRT STATION\n",
      "Fetched isochrone for interval 60M, MRT: LAYAR LRT STATION\n",
      "Fetched isochrone for interval 60M, MRT: TAMPINES WEST MRT STATION\n",
      "Fetched isochrone for interval 60M, MRT: TAMPINES MRT STATION\n",
      "Fetched isochrone for interval 60M, MRT: TAMPINES EAST MRT STATION\n",
      "Fetched isochrone for interval 60M, MRT: TAI SENG MRT STATION\n",
      "Fetched isochrone for interval 60M, MRT: SUMANG LRT STATION\n",
      "Fetched isochrone for interval 60M, MRT: STEVENS MRT STATION\n",
      "Fetched isochrone for interval 60M, MRT: STADIUM MRT STATION\n",
      "Fetched isochrone for interval 60M, MRT: SIXTH AVENUE MRT STATION\n",
      "Fetched isochrone for interval 60M, MRT: SOUTH VIEW LRT STATION\n",
      "Fetched isochrone for interval 60M, MRT: SOO TECK LRT STATION\n",
      "Fetched isochrone for interval 60M, MRT: SOMERSET MRT STATION\n",
      "Fetched isochrone for interval 60M, MRT: SIMEI MRT STATION\n",
      "Fetched isochrone for interval 60M, MRT: SERANGOON MRT STATION\n",
      "Fetched isochrone for interval 60M, MRT: SENGKANG MRT STATION\n",
      "Fetched isochrone for interval 60M, MRT: BRADDELL MRT STATION\n",
      "Fetched isochrone for interval 60M, MRT: NOVENA MRT STATION\n",
      "Fetched isochrone for interval 60M, MRT: FARRER PARK MRT STATION\n",
      "Fetched isochrone for interval 60M, MRT: BEDOK MRT STATION\n",
      "Fetched isochrone for interval 60M, MRT: REDHILL MRT STATION\n",
      "Fetched isochrone for interval 60M, MRT: CHANGI AIRPORT MRT STATION\n",
      "Fetched isochrone for interval 60M, MRT: CORAL EDGE LRT STATION\n",
      "Fetched isochrone for interval 60M, MRT: CLEMENTI MRT STATION\n",
      "Fetched isochrone for interval 60M, MRT: BUKIT BATOK MRT STATION\n",
      "Fetched isochrone for interval 60M, MRT: OASIS LRT STATION\n",
      "Fetched isochrone for interval 60M, MRT: NIBONG LRT STATION\n",
      "Fetched isochrone for interval 60M, MRT: MERIDIAN LRT STATION\n",
      "Fetched isochrone for interval 60M, MRT: BUKIT GOMBAK MRT STATION\n",
      "Fetched isochrone for interval 60M, MRT: EUNOS MRT STATION\n",
      "Fetched isochrone for interval 60M, MRT: CHINESE GARDEN MRT STATION\n",
      "Fetched isochrone for interval 60M, MRT: KADALOOR LRT STATION\n",
      "Fetched isochrone for interval 60M, MRT: CHENG LIM LRT STATION\n",
      "Fetched isochrone for interval 60M, MRT: SAM KEE LRT STATION\n",
      "Fetched isochrone for interval 60M, MRT: KRANJI MRT STATION\n",
      "Fetched isochrone for interval 60M, MRT: ANG MO KIO MRT STATION\n",
      "Fetched isochrone for interval 60M, MRT: RIVIERA LRT STATION\n",
      "Fetched isochrone for interval 60M, MRT: BANGKIT LRT STATION\n",
      "Fetched isochrone for interval 60M, MRT: PASIR PANJANG MRT STATION\n",
      "Fetched isochrone for interval 60M, MRT: HOLLAND VILLAGE MRT STATION\n",
      "Fetched isochrone for interval 60M, MRT: LABRADOR PARK MRT STATION\n",
      "Fetched isochrone for interval 60M, MRT: BOTANIC GARDENS MRT STATION\n",
      "Fetched isochrone for interval 60M, MRT: ONE-NORTH MRT STATION\n",
      "Fetched isochrone for interval 60M, MRT: KENT RIDGE MRT STATION\n",
      "Fetched isochrone for interval 60M, MRT: HAW PAR VILLA MRT STATION\n",
      "Fetched isochrone for interval 60M, MRT: MARINA BAY MRT STATION\n",
      "Fetched isochrone for interval 60M, MRT: KING ALBERT PARK MRT STATION\n",
      "Fetched isochrone for interval 60M, MRT: LITTLE INDIA MRT STATION\n",
      "Fetched isochrone for interval 60M, MRT: ROCHOR MRT STATION\n",
      "Fetched isochrone for interval 60M, MRT: SENJA LRT STATION\n",
      "Fetched isochrone for interval 60M, MRT: MOUNTBATTEN MRT STATION\n",
      "Fetched isochrone for interval 60M, MRT: CHOA CHU KANG MRT STATION\n",
      "Fetched isochrone for interval 60M, MRT: BOON KENG MRT STATION\n",
      "Fetched isochrone for interval 60M, MRT: BARTLEY MRT STATION\n",
      "Fetched isochrone for interval 60M, MRT: SEGAR LRT STATION\n",
      "Fetched isochrone for interval 60M, MRT: HILLVIEW MRT STATION\n",
      "Fetched isochrone for interval 60M, MRT: BEAUTY WORLD MRT STATION\n",
      "Fetched isochrone for interval 60M, MRT: BUKIT PANJANG MRT STATION\n",
      "Fetched isochrone for interval 60M, MRT: CASHEW MRT STATION\n",
      "Fetched isochrone for interval 60M, MRT: JOO KOON MRT STATION\n",
      "Fetched isochrone for interval 60M, MRT: YEW TEE MRT STATION\n",
      "Fetched isochrone for interval 60M, MRT: YISHUN MRT STATION\n",
      "Fetched isochrone for interval 60M, MRT: YIO CHU KANG MRT STATION\n",
      "Fetched isochrone for interval 60M, MRT: WOODLEIGH MRT STATION\n",
      "Fetched isochrone for interval 60M, MRT: WOODLANDS MRT STATION\n",
      "Fetched isochrone for interval 60M, MRT: UPPER CHANGI MRT STATION\n",
      "Fetched isochrone for interval 60M, MRT: TELOK AYER MRT STATION\n",
      "Fetched isochrone for interval 60M, MRT: TONGKANG LRT STATION\n",
      "Fetched isochrone for interval 60M, MRT: UBI MRT STATION\n",
      "Fetched isochrone for interval 60M, MRT: TOA PAYOH MRT STATION\n",
      "Fetched isochrone for interval 60M, MRT: TIONG BAHRU MRT STATION\n",
      "Fetched isochrone for interval 60M, MRT: THANGGAM LRT STATION\n",
      "Fetched isochrone for interval 60M, MRT: PROMENADE MRT STATION\n",
      "Fetched isochrone for interval 60M, MRT: BRAS BASAH MRT STATION\n",
      "Fetched isochrone for interval 60M, MRT: NICOLL HIGHWAY MRT STATION\n",
      "Fetched isochrone for interval 60M, MRT: POTONG PASIR MRT STATION\n",
      "Fetched isochrone for interval 60M, MRT: LAKESIDE MRT STATION\n",
      "Fetched isochrone for interval 60M, MRT: SAMUDERA LRT STATION\n",
      "Fetched isochrone for interval 60M, MRT: RANGGUNG LRT STATION\n",
      "Fetched isochrone for interval 60M, MRT: SEMBAWANG MRT STATION\n",
      "Fetched isochrone for interval 60M, MRT: PUNGGOL LRT STATION\n",
      "Fetched isochrone for interval 60M, MRT: KANGKAR LRT STATION\n",
      "Fetched isochrone for interval 60M, MRT: PIONEER MRT STATION\n",
      "Fetched isochrone for interval 60M, MRT: BUGIS MRT STATION\n",
      "Fetched isochrone for interval 60M, MRT: NEWTON MRT STATION\n",
      "Fetched isochrone for interval 60M, MRT: BUONA VISTA MRT STATION\n",
      "Fetched isochrone for interval 60M, MRT: OUTRAM PARK MRT STATION\n",
      "Fetched isochrone for interval 60M, MRT: CHINATOWN MRT STATION\n",
      "Fetched isochrone for interval 60M, MRT: EXPO MRT STATION\n",
      "Fetched isochrone for interval 60M, MRT: RAFFLES PLACE MRT STATION\n",
      "Fetched isochrone for interval 60M, MRT: TUAS CRESCENT MRT STATION\n",
      "Fetched isochrone for interval 60M, MRT: TUAS LINK MRT STATION\n",
      "Fetched isochrone for interval 60M, MRT: TUAS WEST ROAD MRT STATION\n",
      "Fetched isochrone for interval 60M, MRT: CITY HALL MRT STATION\n",
      "Fetched isochrone for interval 60M, MRT: BISHAN MRT STATION\n",
      "Fetched isochrone for interval 60M, MRT: FERNVALE LRT STATION\n",
      "Fetched isochrone for interval 60M, MRT: PUNGGOL MRT STATION\n",
      "Fetched isochrone for interval 60M, MRT: BUANGKOK MRT STATION\n",
      "Fetched isochrone for interval 60M, MRT: BAKAU LRT STATION\n",
      "Fetched isochrone for interval 60M, MRT: FARMWAY LRT STATION\n",
      "Fetched isochrone for interval 60M, MRT: COMMONWEALTH MRT STATION\n",
      "Fetched isochrone for interval 60M, MRT: KUPANG LRT STATION\n",
      "Fetched isochrone for interval 60M, MRT: DAMAI LRT STATION\n",
      "Fetched isochrone for interval 60M, MRT: QUEENSTOWN MRT STATION\n",
      "Fetched isochrone for interval 60M, MRT: KALLANG MRT STATION\n",
      "Fetched isochrone for interval 60M, MRT: RUMBIA LRT STATION\n",
      "Fetched isochrone for interval 60M, MRT: PETIR LRT STATION\n",
      "Fetched isochrone for interval 60M, MRT: BOON LAY MRT STATION\n",
      "Fetched isochrone for interval 60M, MRT: KEAT HONG LRT STATION\n",
      "Fetched isochrone for interval 60M, MRT: JELAPANG LRT STATION\n",
      "Fetched isochrone for interval 60M, MRT: CHOA CHU KANG LRT STATION\n",
      "Fetched isochrone for interval 60M, MRT: SENGKANG LRT STATION\n",
      "Fetched isochrone for interval 60M, MRT: HARBOURFRONT MRT STATION\n",
      "Fetched isochrone for interval 60M, MRT: PENDING LRT STATION\n",
      "Fetched isochrone for interval 60M, MRT: CLARKE QUAY MRT STATION\n",
      "Fetched isochrone for interval 60M, MRT: BUKIT PANJANG LRT STATION\n",
      "Fetched isochrone for interval 60M, MRT: FAJAR LRT STATION\n",
      "Fetched isochrone for interval 60M, MRT: KOVAN MRT STATION\n",
      "Fetched isochrone for interval 60M, MRT: LORONG CHUAN MRT STATION\n",
      "Fetched isochrone for interval 60M, MRT: MARYMOUNT MRT STATION\n",
      "Fetched isochrone for interval 60M, MRT: CALDECOTT MRT STATION\n",
      "Fetched isochrone for interval 60M, MRT: DOWNTOWN MRT STATION\n",
      "Fetched isochrone for interval 60M, MRT: GEYLANG BAHRU MRT STATION\n",
      "Fetched isochrone for interval 60M, MRT: BENDEMEER MRT STATION\n",
      "Fetched isochrone for interval 60M, MRT: BENCOOLEN MRT STATION\n",
      "Fetched isochrone for interval 60M, MRT: FORT CANNING MRT STATION\n",
      "Fetched isochrone for interval 60M, MRT: KAKI BUKIT MRT STATION\n",
      "Fetched isochrone for interval 60M, MRT: JALAN BESAR MRT STATION\n",
      "Fetched isochrone for interval 60M, MRT: MATTAR MRT STATION\n",
      "Fetched isochrone for interval 60M, MRT: MACPHERSON MRT STATION\n",
      "Fetched isochrone for interval 60M, MRT: BAYFRONT MRT STATION\n",
      "Fetched isochrone for interval 60M, MRT: FARRER ROAD MRT STATION\n",
      "Fetched isochrone for interval 60M, MRT: JURONG EAST MRT STATION\n",
      "Fetched isochrone for interval 60M, MRT: BEDOK NORTH MRT STATION\n",
      "Fetched isochrone for interval 60M, MRT: BEDOK RESERVOIR MRT STATION\n",
      "Fetched isochrone for interval 60M, MRT: ORCHARD MRT STATION\n",
      "Fetched isochrone for interval 60M, MRT: LENTOR MRT STATION\n",
      "Fetched isochrone for interval 60M, MRT: BRIGHT HILL MRT STATION\n",
      "Fetched isochrone for interval 60M, MRT: SPRINGLEAF MRT STATION\n",
      "Fetched isochrone for interval 60M, MRT: MARINA SOUTH PIER MRT STATION\n",
      "Fetched isochrone for interval 60M, MRT: CANBERRA MRT STATION\n",
      "Fetched isochrone for interval 60M, MRT: WOODLANDS SOUTH MRT STATION\n",
      "Fetched isochrone for interval 60M, MRT: WOODLANDS NORTH MRT STATION\n",
      "Fetched isochrone for interval 60M, MRT: GUL CIRCLE MRT STATION\n",
      "Fetched isochrone for interval 60M, MRT: HAVELOCK MRT STATION\n",
      "Fetched isochrone for interval 60M, MRT: NAPIER MRT STATION\n",
      "Fetched isochrone for interval 60M, MRT: SHENTON WAY MRT STATION\n",
      "Fetched isochrone for interval 60M, MRT: GARDENS BY THE BAY MRT STATION\n",
      "Fetched isochrone for interval 60M, MRT: GREAT WORLD MRT STATION\n",
      "Fetched isochrone for interval 60M, MRT: MAXWELL MRT STATION\n",
      "Fetched isochrone for interval 60M, MRT: ORCHARD BOULEVARD MRT STATION\n",
      "Fetched isochrone for interval 60M, MRT: TELOK BLANGAH MRT STATION\n",
      "Fetched isochrone for interval 60M, MRT: TECK WHYE LRT STATION\n",
      "Fetched isochrone for interval 60M, MRT: TANJONG PAGAR MRT STATION\n",
      "Fetched isochrone for interval 60M, MRT: TANAH MERAH MRT STATION\n",
      "Fetched isochrone for interval 60M, MRT: TAN KAH KEE MRT STATION\n",
      "Fetched isochrone for interval 60M, MRT: UPPER THOMSON MRT STATION\n",
      "Fetched isochrone for interval 60M, MRT: MAYFLOWER MRT STATION\n"
     ]
    }
   ],
   "source": [
    "mrt_isochrones = mrt_df.copy()\n",
    "mrt_isochrones = fetch_all_isochrones(mrt_isochrones,mode=\"RAIL,SUBWAY,TRAM,MONORAIL,WALK\", interval=5)\n",
    "mrt_isochrones.to_json('../../data/Isochrone_data/mrt_isochrones.json', orient='records', lines=True, force_ascii=False)"
   ]
  },
  {
   "cell_type": "code",
   "execution_count": null,
   "metadata": {},
   "outputs": [],
   "source": [
    "public_isochrones = mrt_df.copy()\n",
    "public_isochrones = fetch_all_isochrones(public_isochrones,mode=\"TRANSIT,WALK\", interval=5)\n",
    "public_isochrones.to_json('../../data/Isochrone_data/public_isochrones.json', orient='records', lines=True, force_ascii=False)"
   ]
  },
  {
   "cell_type": "code",
   "execution_count": null,
   "metadata": {},
   "outputs": [],
   "source": [
    "car_isochrones = mrt_df.copy()\n",
    "car_isochrones = fetch_all_isochrones(car_isochrones,mode=\"CAR\", interval=5)\n",
    "car_isochrones.to_json('../../data/Isochrone_data/car_isochrones.json', orient='records', lines=True, force_ascii=False)"
   ]
  },
  {
   "cell_type": "code",
   "execution_count": 10,
   "metadata": {},
   "outputs": [
    {
     "data": {
      "text/html": [
       "<div>\n",
       "<style scoped>\n",
       "    .dataframe tbody tr th:only-of-type {\n",
       "        vertical-align: middle;\n",
       "    }\n",
       "\n",
       "    .dataframe tbody tr th {\n",
       "        vertical-align: top;\n",
       "    }\n",
       "\n",
       "    .dataframe thead th {\n",
       "        text-align: right;\n",
       "    }\n",
       "</style>\n",
       "<table border=\"1\" class=\"dataframe\">\n",
       "  <thead>\n",
       "    <tr style=\"text-align: right;\">\n",
       "      <th></th>\n",
       "      <th>MRT.Name</th>\n",
       "      <th>Latitude</th>\n",
       "      <th>Longitude</th>\n",
       "      <th>isochrone_10M</th>\n",
       "      <th>isochrone_15M</th>\n",
       "      <th>isochrone_20M</th>\n",
       "      <th>isochrone_25M</th>\n",
       "      <th>isochrone_30M</th>\n",
       "      <th>isochrone_35M</th>\n",
       "      <th>isochrone_40M</th>\n",
       "      <th>isochrone_45M</th>\n",
       "      <th>isochrone_50M</th>\n",
       "      <th>isochrone_55M</th>\n",
       "      <th>isochrone_60M</th>\n",
       "    </tr>\n",
       "  </thead>\n",
       "  <tbody>\n",
       "    <tr>\n",
       "      <th>0</th>\n",
       "      <td>ESPLANADE MRT STATION</td>\n",
       "      <td>1.293658</td>\n",
       "      <td>103.855081</td>\n",
       "      <td>[[103.861, 1.284867], [103.861722, 1.286027], ...</td>\n",
       "      <td>[[103.841367, 1.289686], [103.841584, 1.289203...</td>\n",
       "      <td>[[103.831873, 1.288905], [103.832188, 1.288877...</td>\n",
       "      <td>[[103.888542, 1.29323], [103.888929, 1.293201]...</td>\n",
       "      <td>[[103.869582, 1.3302019999999999], [103.868636...</td>\n",
       "      <td>[[103.812166, 1.2781959999999999], [103.812398...</td>\n",
       "      <td>[[103.809332, 1.262772], [103.810599, 1.262453...</td>\n",
       "      <td>[[103.813108, 1.337934], [103.813677, 1.338025...</td>\n",
       "      <td>[[103.806029, 1.338051], [103.80538, 1.338502]...</td>\n",
       "      <td>[[103.806029, 1.338051], [103.80538, 1.338502]...</td>\n",
       "      <td>[[103.806029, 1.338051], [103.80538, 1.338502]...</td>\n",
       "    </tr>\n",
       "    <tr>\n",
       "      <th>1</th>\n",
       "      <td>PAYA LEBAR MRT STATION</td>\n",
       "      <td>1.317199</td>\n",
       "      <td>103.892365</td>\n",
       "      <td>[[103.889556, 1.307294], [103.889875, 1.307317...</td>\n",
       "      <td>[[103.877473, 1.325003], [103.876758, 1.324139...</td>\n",
       "      <td>[[103.901946, 1.2953999999999999], [103.903282...</td>\n",
       "      <td>[[103.858745, 1.2968709999999999], [103.860358...</td>\n",
       "      <td>[[103.863491, 1.287579], [103.864052, 1.287626...</td>\n",
       "      <td>[[103.872771, 1.279147], [103.873047, 1.279572...</td>\n",
       "      <td>[[103.89785, 1.378247], [103.897584, 1.379152]...</td>\n",
       "      <td>[[103.872771, 1.279147], [103.873047, 1.279572...</td>\n",
       "      <td>[[103.829497, 1.336703], [103.829566, 1.336401...</td>\n",
       "      <td>[[103.829843, 1.273725], [103.829869, 1.2737],...</td>\n",
       "      <td>[[103.829843, 1.273725], [103.829869, 1.2737],...</td>\n",
       "    </tr>\n",
       "    <tr>\n",
       "      <th>2</th>\n",
       "      <td>DHOBY GHAUT MRT STATION</td>\n",
       "      <td>1.298655</td>\n",
       "      <td>103.846194</td>\n",
       "      <td>[[103.833806, 1.29983], [103.833988, 1.299424]...</td>\n",
       "      <td>[[103.850876, 1.283103], [103.85223, 1.283638]...</td>\n",
       "      <td>[[103.819005, 1.292228], [103.819595, 1.291808...</td>\n",
       "      <td>[[103.872969, 1.296341], [103.874022, 1.295847...</td>\n",
       "      <td>[[103.810599, 1.283574], [103.811982, 1.283408...</td>\n",
       "      <td>[[103.810599, 1.26787], [103.810721, 1.267758]...</td>\n",
       "      <td>[[103.807995, 1.263234], [103.8088, 1.262982],...</td>\n",
       "      <td>[[103.892113, 1.341375], [103.891971, 1.342099...</td>\n",
       "      <td>[[103.891038, 1.348936], [103.89062, 1.348876]...</td>\n",
       "      <td>[[103.891038, 1.348936], [103.89062, 1.348876]...</td>\n",
       "      <td>[[103.891038, 1.348936], [103.89062, 1.348876]...</td>\n",
       "    </tr>\n",
       "    <tr>\n",
       "      <th>3</th>\n",
       "      <td>DAKOTA MRT STATION</td>\n",
       "      <td>1.308548</td>\n",
       "      <td>103.889065</td>\n",
       "      <td>[[103.876785, 1.303843], [103.876851, 1.303841...</td>\n",
       "      <td>[[103.86878, 1.304214], [103.869766, 1.303662]...</td>\n",
       "      <td>[[103.885931, 1.334911], [103.88592, 1.334783]...</td>\n",
       "      <td>[[103.857381, 1.291005], [103.858034, 1.290733...</td>\n",
       "      <td>[[103.891038, 1.348776], [103.890094, 1.34835]...</td>\n",
       "      <td>[[103.898297, 1.357111], [103.897485, 1.357569...</td>\n",
       "      <td>[[103.898754, 1.3683589999999999], [103.898747...</td>\n",
       "      <td>[[103.829973, 1.272056], [103.831668, 1.273447...</td>\n",
       "      <td>[[103.824297, 1.278972], [103.824471, 1.27813]...</td>\n",
       "      <td>[[103.824297, 1.278972], [103.824471, 1.27813]...</td>\n",
       "      <td>[[103.921507, 1.374358], [103.921501, 1.374475...</td>\n",
       "    </tr>\n",
       "    <tr>\n",
       "      <th>4</th>\n",
       "      <td>LAVENDER MRT STATION</td>\n",
       "      <td>1.307378</td>\n",
       "      <td>103.862768</td>\n",
       "      <td>[[103.866625, 1.300138], [103.867741, 1.300542...</td>\n",
       "      <td>[[103.863903, 1.28979], [103.864052, 1.289684]...</td>\n",
       "      <td>[[103.844063, 1.295915], [103.844374, 1.295568...</td>\n",
       "      <td>[[103.840038, 1.288104], [103.84054, 1.287061]...</td>\n",
       "      <td>[[103.830175, 1.290805], [103.830389, 1.29043]...</td>\n",
       "      <td>[[103.819432, 1.290856], [103.819595, 1.290773...</td>\n",
       "      <td>[[103.834251, 1.351184], [103.83387, 1.350467]...</td>\n",
       "      <td>[[103.902546, 1.342812], [103.902214, 1.343898...</td>\n",
       "      <td>[[103.806451, 1.273721], [103.80648, 1.273687]...</td>\n",
       "      <td>[[103.919824, 1.376512], [103.920608, 1.378072...</td>\n",
       "      <td>[[103.902546, 1.342812], [103.902214, 1.343898...</td>\n",
       "    </tr>\n",
       "  </tbody>\n",
       "</table>\n",
       "</div>"
      ],
      "text/plain": [
       "                  MRT.Name  Latitude   Longitude  \\\n",
       "0    ESPLANADE MRT STATION  1.293658  103.855081   \n",
       "1   PAYA LEBAR MRT STATION  1.317199  103.892365   \n",
       "2  DHOBY GHAUT MRT STATION  1.298655  103.846194   \n",
       "3       DAKOTA MRT STATION  1.308548  103.889065   \n",
       "4     LAVENDER MRT STATION  1.307378  103.862768   \n",
       "\n",
       "                                       isochrone_10M  \\\n",
       "0  [[103.861, 1.284867], [103.861722, 1.286027], ...   \n",
       "1  [[103.889556, 1.307294], [103.889875, 1.307317...   \n",
       "2  [[103.833806, 1.29983], [103.833988, 1.299424]...   \n",
       "3  [[103.876785, 1.303843], [103.876851, 1.303841...   \n",
       "4  [[103.866625, 1.300138], [103.867741, 1.300542...   \n",
       "\n",
       "                                       isochrone_15M  \\\n",
       "0  [[103.841367, 1.289686], [103.841584, 1.289203...   \n",
       "1  [[103.877473, 1.325003], [103.876758, 1.324139...   \n",
       "2  [[103.850876, 1.283103], [103.85223, 1.283638]...   \n",
       "3  [[103.86878, 1.304214], [103.869766, 1.303662]...   \n",
       "4  [[103.863903, 1.28979], [103.864052, 1.289684]...   \n",
       "\n",
       "                                       isochrone_20M  \\\n",
       "0  [[103.831873, 1.288905], [103.832188, 1.288877...   \n",
       "1  [[103.901946, 1.2953999999999999], [103.903282...   \n",
       "2  [[103.819005, 1.292228], [103.819595, 1.291808...   \n",
       "3  [[103.885931, 1.334911], [103.88592, 1.334783]...   \n",
       "4  [[103.844063, 1.295915], [103.844374, 1.295568...   \n",
       "\n",
       "                                       isochrone_25M  \\\n",
       "0  [[103.888542, 1.29323], [103.888929, 1.293201]...   \n",
       "1  [[103.858745, 1.2968709999999999], [103.860358...   \n",
       "2  [[103.872969, 1.296341], [103.874022, 1.295847...   \n",
       "3  [[103.857381, 1.291005], [103.858034, 1.290733...   \n",
       "4  [[103.840038, 1.288104], [103.84054, 1.287061]...   \n",
       "\n",
       "                                       isochrone_30M  \\\n",
       "0  [[103.869582, 1.3302019999999999], [103.868636...   \n",
       "1  [[103.863491, 1.287579], [103.864052, 1.287626...   \n",
       "2  [[103.810599, 1.283574], [103.811982, 1.283408...   \n",
       "3  [[103.891038, 1.348776], [103.890094, 1.34835]...   \n",
       "4  [[103.830175, 1.290805], [103.830389, 1.29043]...   \n",
       "\n",
       "                                       isochrone_35M  \\\n",
       "0  [[103.812166, 1.2781959999999999], [103.812398...   \n",
       "1  [[103.872771, 1.279147], [103.873047, 1.279572...   \n",
       "2  [[103.810599, 1.26787], [103.810721, 1.267758]...   \n",
       "3  [[103.898297, 1.357111], [103.897485, 1.357569...   \n",
       "4  [[103.819432, 1.290856], [103.819595, 1.290773...   \n",
       "\n",
       "                                       isochrone_40M  \\\n",
       "0  [[103.809332, 1.262772], [103.810599, 1.262453...   \n",
       "1  [[103.89785, 1.378247], [103.897584, 1.379152]...   \n",
       "2  [[103.807995, 1.263234], [103.8088, 1.262982],...   \n",
       "3  [[103.898754, 1.3683589999999999], [103.898747...   \n",
       "4  [[103.834251, 1.351184], [103.83387, 1.350467]...   \n",
       "\n",
       "                                       isochrone_45M  \\\n",
       "0  [[103.813108, 1.337934], [103.813677, 1.338025...   \n",
       "1  [[103.872771, 1.279147], [103.873047, 1.279572...   \n",
       "2  [[103.892113, 1.341375], [103.891971, 1.342099...   \n",
       "3  [[103.829973, 1.272056], [103.831668, 1.273447...   \n",
       "4  [[103.902546, 1.342812], [103.902214, 1.343898...   \n",
       "\n",
       "                                       isochrone_50M  \\\n",
       "0  [[103.806029, 1.338051], [103.80538, 1.338502]...   \n",
       "1  [[103.829497, 1.336703], [103.829566, 1.336401...   \n",
       "2  [[103.891038, 1.348936], [103.89062, 1.348876]...   \n",
       "3  [[103.824297, 1.278972], [103.824471, 1.27813]...   \n",
       "4  [[103.806451, 1.273721], [103.80648, 1.273687]...   \n",
       "\n",
       "                                       isochrone_55M  \\\n",
       "0  [[103.806029, 1.338051], [103.80538, 1.338502]...   \n",
       "1  [[103.829843, 1.273725], [103.829869, 1.2737],...   \n",
       "2  [[103.891038, 1.348936], [103.89062, 1.348876]...   \n",
       "3  [[103.824297, 1.278972], [103.824471, 1.27813]...   \n",
       "4  [[103.919824, 1.376512], [103.920608, 1.378072...   \n",
       "\n",
       "                                       isochrone_60M  \n",
       "0  [[103.806029, 1.338051], [103.80538, 1.338502]...  \n",
       "1  [[103.829843, 1.273725], [103.829869, 1.2737],...  \n",
       "2  [[103.891038, 1.348936], [103.89062, 1.348876]...  \n",
       "3  [[103.921507, 1.374358], [103.921501, 1.374475...  \n",
       "4  [[103.902546, 1.342812], [103.902214, 1.343898...  "
      ]
     },
     "execution_count": 10,
     "metadata": {},
     "output_type": "execute_result"
    }
   ],
   "source": [
    "bicycle_isochrones = pd.read_json('../../data/Isochrone_data/bicycle_isochrones.json', orient='records', lines=True)\n",
    "bicycle_isochrones.head()"
   ]
  }
 ],
 "metadata": {
  "kernelspec": {
   "display_name": "Python 3",
   "language": "python",
   "name": "python3"
  },
  "language_info": {
   "codemirror_mode": {
    "name": "ipython",
    "version": 3
   },
   "file_extension": ".py",
   "mimetype": "text/x-python",
   "name": "python",
   "nbconvert_exporter": "python",
   "pygments_lexer": "ipython3",
   "version": "3.8.10"
  }
 },
 "nbformat": 4,
 "nbformat_minor": 2
}
