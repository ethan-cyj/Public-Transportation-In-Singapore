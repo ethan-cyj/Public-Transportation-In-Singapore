{
 "cells": [
  {
   "cell_type": "code",
   "execution_count": 1,
   "metadata": {},
   "outputs": [],
   "source": [
    "import pandas as pd\n",
    "import numpy as np\n",
    "import openrouteservice as ors\n",
    "from dotenv import load_dotenv\n",
    "from pyonemap import OneMap\n",
    "import os\n",
    "import requests\n",
    "import json\n",
    "import time\n",
    "from collections import namedtuple\n",
    "load_dotenv()\n",
    "import folium"
   ]
  },
  {
   "cell_type": "code",
   "execution_count": 20,
   "metadata": {},
   "outputs": [
    {
     "name": "stdout",
     "output_type": "stream",
     "text": [
      "[[1.293657725, 103.8550812], [1.31719912, 103.8923649], [1.298655224, 103.8461942], [1.308547984, 103.8890647], [1.307377817, 103.8627676], [1.38670059, 103.8906213], [1.311405293, 103.7786378], [1.371292266, 103.8923805], [1.378615451, 103.7579956], [1.316432612, 103.882906], [1.399281988, 103.9059619], [1.37300805, 103.9492651], [1.440588562, 103.8009905], [1.321038134, 103.9129479], [1.41684852, 103.9066508], [1.432521149, 103.7740746], [1.394493045, 103.9004925], [1.41738337, 103.8329799], [1.392079837, 103.8800296], [1.345633658, 103.9384925], [1.345515306, 103.938437], [1.356191483, 103.9546345], [1.335145642, 103.8883361], [1.408452419, 103.8985585], [1.320065558, 103.8260244], [1.302812468, 103.8753377], [1.330857645, 103.7969068], [1.380298287, 103.7452918], [1.405323319, 103.8972905], [1.300264167, 103.8390858], [1.343197079, 103.9533772], [1.350633615, 103.8727717], [1.391694626, 103.8954847], [1.340469001, 103.8467991], [1.320440791, 103.8438256], [1.3131403, 103.8547547], [1.320401487, 103.9571838], [1.289634534, 103.816741], [1.357478974, 103.9878836], [1.393909229, 103.9125808], [1.315116253, 103.7651915], [1.349033312, 103.7495665], [1.40228668, 103.9127274], [1.411854477, 103.9003395], [1.39691205, 103.9089502], [1.358611591, 103.7517909], [1.319783549, 103.9032258], [1.342244948, 103.7327666], [1.399509106, 103.916575], [1.396277633, 103.8937972], [1.409612685, 103.9048316], [1.425086981, 103.7621375], [1.369428557, 103.8494552], [1.394519785, 103.9161694], [1.38002223, 103.7726474], [1.276213522, 103.7913503], [1.312240296, 103.7963991], [1.272227051, 103.8027445], [1.322113736, 103.8149845], [1.299689535, 103.7874128], [1.293536986, 103.7845724], [1.281956887, 103.781989], [1.276311144, 103.854605], [1.335661613, 103.7833991], [1.306800197, 103.8496471], [1.303852185, 103.8527694], [1.382725471, 103.7623443], [1.306201905, 103.8825281], [1.385363165, 103.7443708], [1.319939577, 103.8620527], [1.342501178, 103.8801779], [1.387785087, 103.7695997], [1.362344868, 103.7674183], [1.34090149, 103.7757467], [1.379561212, 103.7611889], [1.369815449, 103.7644392], [1.327694365, 103.6780851], [1.397297711, 103.7473577], [1.429443085, 103.835005], [1.381498825, 103.8451707], [1.339190045, 103.8708183], [1.436057617, 103.7879388], [1.341739774, 103.9614728], [1.282068948, 103.8486488], [1.389347947, 103.8858442], [1.32997426, 103.8992267], [1.332596728, 103.8475773], [1.286102536, 103.8274451], [1.397318156, 103.8756352], [1.293997986, 103.86035], [1.296861686, 103.8506674], [1.29956843, 103.8639777], [1.331879714, 103.8690579], [1.344259115, 103.7209491], [1.415901722, 103.9021563], [1.384233559, 103.8971947], [1.449050822, 103.8200461], [1.405194701, 103.9024119], [1.383959117, 103.9022254], [1.337587011, 103.6973216], [1.300465085, 103.8557067], [1.312318922, 103.8379846], [1.307223708, 103.7902535], [1.279739707, 103.8395135], [1.284223919, 103.8451438], [1.335382526, 103.9623747], [1.283933262, 103.8514631], [1.321026956, 103.6490782], [1.340882425, 103.6369914], [1.329985047, 103.6396166], [1.292989907, 103.8525426], [1.351315801, 103.8491403], [1.391885892, 103.8763086], [1.414927334, 103.9101664], [1.38287002, 103.8931226], [1.387994311, 103.9054153], [1.397170196, 103.8893048], [1.302501999, 103.7982285], [1.39821283, 103.8812562], [1.405234836, 103.9086035], [1.294550852, 103.8060772], [1.31148891, 103.8713865], [1.391468495, 103.9059736], [1.377772043, 103.7666458], [1.338610339, 103.7060849], [1.378603251, 103.7490557], [1.38673927, 103.7645341], [1.384755411, 103.7445377], [1.391609364, 103.8954426], [1.265389384, 103.8215302], [1.376135743, 103.7712612], [1.288710232, 103.8466109], [1.377926946, 103.7631029], [1.384573177, 103.7708872], [1.360179171, 103.8850649], [1.351639278, 103.8639457], [1.348707263, 103.8394231], [1.337245613, 103.8401618], [1.279446382, 103.8528408], [1.321301102, 103.8716226], [1.313672528, 103.8629776], [1.298918434, 103.8503538], [1.292481948, 103.8443314], [1.33496736, 103.9084593], [1.305171388, 103.8552957], [1.326876715, 103.8832475], [1.326150245, 103.8892986], [1.281873789, 103.8590798], [1.317439152, 103.8073792], [1.33315262, 103.7422865], [1.334742117, 103.9179783], [1.33660783, 103.9322346], [1.302422248, 103.8238685], [1.38550658, 103.8357438], [1.363846766, 103.8338992], [1.397581061, 103.8178569], [1.271027036, 103.8624475], [1.443076641, 103.8297026], [1.427488114, 103.7927299], [1.447782173, 103.7851355], [1.319470901, 103.6605305], [1.28850524, 103.8335858], [1.306782234, 103.8189568], [1.277716828, 103.8503676], [1.278487259, 103.8674547], [1.293316457, 103.8339066], [1.280533298, 103.8438837], [1.303623073, 103.8236504], [1.270706478, 103.8097616], [1.376684679, 103.7537122], [1.276568292, 103.8460067], [1.327310982, 103.9464517], [1.326392241, 103.8065482], [1.354416434, 103.8328985], [1.371463188, 103.8365678]]\n"
     ]
    }
   ],
   "source": [
    "#get mrt data\n",
    "mrt_df = pd.read_csv('../../data/Isochrone_data/mrt_station_colours.csv', index_col=0)\n",
    "mrt_df.head()\n",
    "coords = mrt_df[['Latitude', 'Longitude']].values.tolist()\n",
    "print(coords)\n",
    "# run this to start OTP: java -Xmx6G -jar otp-2.5.0-shaded.jar --load /Users/ethan/Documents/GitHub/Public-Transportation-In-Singapore/Backend/otp/  --serve\n",
    "\n",
    "# Sample API request to the OTP isochrone endpoint\n",
    "response = requests.get(\"http://localhost:8080/otp/traveltime/isochrone?batch=true&location=52.499959,13.388803&time=2023-04-12T10:19:03%2B02:00&modes=WALK,TRANSIT&arriveBy=false&cutoff=30M17S\")\n"
   ]
  },
  {
   "cell_type": "markdown",
   "metadata": {},
   "source": [
    "Write a function for fetching isochrome. Configure params here"
   ]
  },
  {
   "cell_type": "code",
   "execution_count": 21,
   "metadata": {},
   "outputs": [
    {
     "name": "stdout",
     "output_type": "stream",
     "text": [
      "[[103.836045, 1.294619], [103.837223, 1.29545], [103.838233, 1.295008], [103.839022, 1.29469], [103.839409, 1.294385], [103.840007, 1.293998], [103.840426, 1.293603], [103.840821, 1.292805], [103.840975, 1.292353], [103.841198, 1.292199], [103.841572, 1.291151], [103.84262, 1.290512], [103.842666, 1.290447], [103.844419, 1.290612], [103.84487, 1.290852], [103.846218, 1.290415], [103.846227, 1.290409], [103.846342, 1.290401], [103.846218, 1.290377], [103.845601, 1.288602], [103.845596, 1.287979], [103.846218, 1.287716], [103.847753, 1.288337], [103.848017, 1.288403], [103.848132, 1.288602], [103.848343, 1.288927], [103.848352, 1.290401], [103.849817, 1.290792], [103.850405, 1.290989], [103.851616, 1.291194], [103.852966, 1.291751], [103.853415, 1.291974], [103.853791, 1.292199], [103.854688, 1.293472], [103.85503, 1.293998], [103.855214, 1.294696], [103.855365, 1.295797], [103.856599, 1.297181], [103.856597, 1.297595], [103.856472, 1.298853], [103.855214, 1.297816], [103.854979, 1.299159], [103.854932, 1.299394], [103.854918, 1.300897], [103.854744, 1.301192], [103.854332, 1.302109], [103.854218, 1.302991], [103.854399, 1.303975], [103.853415, 1.304029], [103.853051, 1.304426], [103.852612, 1.30479], [103.853148, 1.306322], [103.851616, 1.30593], [103.851202, 1.306175], [103.850718, 1.306588], [103.850549, 1.307321], [103.849817, 1.30771], [103.849023, 1.307593], [103.848017, 1.308022], [103.847691, 1.308061], [103.846218, 1.307058], [103.84556, 1.307729], [103.844419, 1.307997], [103.843005, 1.306973], [103.84262, 1.306948], [103.841338, 1.306588], [103.840821, 1.306485], [103.839568, 1.30479], [103.839022, 1.304423], [103.838233, 1.304001], [103.837223, 1.303654], [103.836165, 1.302991], [103.835809, 1.301578], [103.835563, 1.301192], [103.835647, 1.299617], [103.835646, 1.299394], [103.835627, 1.297799], [103.835628, 1.297595], [103.836546, 1.296918], [103.836939, 1.295797], [103.836045, 1.294619]]\n"
     ]
    }
   ],
   "source": [
    "def fetch_isochrone(lat, lon, modes, cutoff=\"20M01S\"):\n",
    "    \"\"\"Fetch isochrone GeoJSON for a given location.\"\"\"\n",
    "    url = \"http://localhost:8080/otp/traveltime/isochrone\"\n",
    "    params = {\n",
    "        \"batch\": \"false\",\n",
    "        \"location\": f\"{lat},{lon}\",\n",
    "        \"time\": \"2024-04-02T10:00:00+02:00\",\n",
    "        \"modes\": modes,\n",
    "        \"cutoff\": cutoff,\n",
    "        \"maxWalkDistance\": 2,\n",
    "        \"walkReluctance\": 4\n",
    "    }\n",
    "    response = requests.get(url, params=params)\n",
    "    if response.status_code == 200:\n",
    "        return response.json()\n",
    "    else:\n",
    "        print(f\"Failed to fetch isochrone for {lat},{lon}. Status code: {response.status_code}\")\n",
    "        return None\n",
    "x = fetch_isochrone(1.298655224, 103.8461942, modes = \"TRANSIT\")\n",
    "features = x['features'][0]['geometry']['coordinates'][0][0]\n",
    "print(features)"
   ]
  },
  {
   "cell_type": "code",
   "execution_count": 24,
   "metadata": {},
   "outputs": [
    {
     "data": {
      "application/vnd.plotly.v1+json": {
       "config": {
        "plotlyServerURL": "https://plot.ly"
       },
       "data": [
        {
         "lat": [
          1.293657725
         ],
         "lon": [
          103.8550812
         ],
         "marker": {
          "color": "blue",
          "size": 10
         },
         "mode": "markers",
         "selected": {
          "marker": {
           "size": 25
          }
         },
         "text": [
          "ESPLANADE MRT STATION"
         ],
         "type": "scattermapbox",
         "uid": "d44cc1c8-acc6-4721-be56-613a8cea1b7d",
         "unselected": {
          "marker": {
           "color": "grey",
           "size": 5
          }
         }
        },
        {
         "lat": [
          1.31719912
         ],
         "lon": [
          103.8923649
         ],
         "marker": {
          "color": "green",
          "size": 10
         },
         "mode": "markers",
         "selected": {
          "marker": {
           "size": 25
          }
         },
         "text": [
          "PAYA LEBAR MRT STATION"
         ],
         "type": "scattermapbox",
         "uid": "10812664-8912-497f-ba6a-f2ab1161a1e7",
         "unselected": {
          "marker": {
           "color": "grey",
           "size": 5
          }
         }
        },
        {
         "lat": [
          1.298655224
         ],
         "lon": [
          103.8461942
         ],
         "marker": {
          "color": "red",
          "size": 10
         },
         "mode": "markers",
         "selected": {
          "marker": {
           "size": 25
          }
         },
         "text": [
          "DHOBY GHAUT MRT STATION"
         ],
         "type": "scattermapbox",
         "uid": "2fa38c3c-ce2b-45fb-9168-0b75bb2cbb7d",
         "unselected": {
          "marker": {
           "color": "grey",
           "size": 5
          }
         }
        },
        {
         "lat": [
          1.308547984
         ],
         "lon": [
          103.8890647
         ],
         "marker": {
          "color": "orange",
          "size": 10
         },
         "mode": "markers",
         "selected": {
          "marker": {
           "size": 25
          }
         },
         "text": [
          "DAKOTA MRT STATION"
         ],
         "type": "scattermapbox",
         "uid": "e1c0f079-9eda-434d-a6c5-a3667c1f0fc2",
         "unselected": {
          "marker": {
           "color": "grey",
           "size": 5
          }
         }
        },
        {
         "lat": [
          1.307377817
         ],
         "lon": [
          103.8627676
         ],
         "marker": {
          "color": "purple",
          "size": 10
         },
         "mode": "markers",
         "selected": {
          "marker": {
           "size": 25
          }
         },
         "text": [
          "LAVENDER MRT STATION"
         ],
         "type": "scattermapbox",
         "uid": "c6303d61-9c29-46e7-a9a8-621be74f10cf",
         "unselected": {
          "marker": {
           "color": "grey",
           "size": 5
          }
         }
        },
        {
         "lat": [
          1.38670059
         ],
         "lon": [
          103.8906213
         ],
         "marker": {
          "color": "yellow",
          "size": 10
         },
         "mode": "markers",
         "selected": {
          "marker": {
           "size": 25
          }
         },
         "text": [
          "RENJONG LRT STATION"
         ],
         "type": "scattermapbox",
         "uid": "a460a777-5a9a-4408-b9cc-305502aeb736",
         "unselected": {
          "marker": {
           "color": "grey",
           "size": 5
          }
         }
        },
        {
         "lat": [
          1.311405293
         ],
         "lon": [
          103.7786378
         ],
         "marker": {
          "color": "blue",
          "size": 10
         },
         "mode": "markers",
         "selected": {
          "marker": {
           "size": 25
          }
         },
         "text": [
          "DOVER MRT STATION"
         ],
         "type": "scattermapbox",
         "uid": "2386a08c-8863-446e-ae21-0e805e16fe17",
         "unselected": {
          "marker": {
           "color": "grey",
           "size": 5
          }
         }
        },
        {
         "lat": [
          1.371292266
         ],
         "lon": [
          103.8923805
         ],
         "marker": {
          "color": "green",
          "size": 10
         },
         "mode": "markers",
         "selected": {
          "marker": {
           "size": 25
          }
         },
         "text": [
          "HOUGANG MRT STATION"
         ],
         "type": "scattermapbox",
         "uid": "8e2d5786-a3ee-4318-8a5f-0823cbd3a3e1",
         "unselected": {
          "marker": {
           "color": "grey",
           "size": 5
          }
         }
        },
        {
         "lat": [
          1.378615451
         ],
         "lon": [
          103.7579956
         ],
         "marker": {
          "color": "red",
          "size": 10
         },
         "mode": "markers",
         "selected": {
          "marker": {
           "size": 25
          }
         },
         "text": [
          "PHOENIX LRT STATION"
         ],
         "type": "scattermapbox",
         "uid": "25c2426b-4841-4a6c-9b17-7bca20f9f49c",
         "unselected": {
          "marker": {
           "color": "grey",
           "size": 5
          }
         }
        },
        {
         "lat": [
          1.316432612
         ],
         "lon": [
          103.882906
         ],
         "marker": {
          "color": "orange",
          "size": 10
         },
         "mode": "markers",
         "selected": {
          "marker": {
           "size": 25
          }
         },
         "text": [
          "ALJUNIED MRT STATION"
         ],
         "type": "scattermapbox",
         "uid": "57490b4d-1497-497d-a201-d150a59f780f",
         "unselected": {
          "marker": {
           "color": "grey",
           "size": 5
          }
         }
        },
        {
         "lat": [
          1.399281988
         ],
         "lon": [
          103.9059619
         ],
         "marker": {
          "color": "purple",
          "size": 10
         },
         "mode": "markers",
         "selected": {
          "marker": {
           "size": 25
          }
         },
         "text": [
          "COVE LRT STATION"
         ],
         "type": "scattermapbox",
         "uid": "9a32fd43-395d-48e5-95b9-974e9b3bde5a",
         "unselected": {
          "marker": {
           "color": "grey",
           "size": 5
          }
         }
        },
        {
         "lat": [
          1.37300805
         ],
         "lon": [
          103.9492651
         ],
         "marker": {
          "color": "yellow",
          "size": 10
         },
         "mode": "markers",
         "selected": {
          "marker": {
           "size": 25
          }
         },
         "text": [
          "PASIR RIS MRT STATION"
         ],
         "type": "scattermapbox",
         "uid": "7dbbd194-76af-4d7b-b872-f3a5399cac29",
         "unselected": {
          "marker": {
           "color": "grey",
           "size": 5
          }
         }
        },
        {
         "lat": [
          1.440588562
         ],
         "lon": [
          103.8009905
         ],
         "marker": {
          "color": "blue",
          "size": 10
         },
         "mode": "markers",
         "selected": {
          "marker": {
           "size": 25
          }
         },
         "text": [
          "ADMIRALTY MRT STATION"
         ],
         "type": "scattermapbox",
         "uid": "5c1accee-9a47-4151-ad8d-43a3e5409f51",
         "unselected": {
          "marker": {
           "color": "grey",
           "size": 5
          }
         }
        },
        {
         "lat": [
          1.321038134
         ],
         "lon": [
          103.9129479
         ],
         "marker": {
          "color": "green",
          "size": 10
         },
         "mode": "markers",
         "selected": {
          "marker": {
           "size": 25
          }
         },
         "text": [
          "KEMBANGAN MRT STATION"
         ],
         "type": "scattermapbox",
         "uid": "875fc77d-0cdb-45ad-9656-745fa34c2d86",
         "unselected": {
          "marker": {
           "color": "grey",
           "size": 5
          }
         }
        },
        {
         "lat": [
          1.41684852
         ],
         "lon": [
          103.9066508
         ],
         "marker": {
          "color": "red",
          "size": 10
         },
         "mode": "markers",
         "selected": {
          "marker": {
           "size": 25
          }
         },
         "text": [
          "PUNGGOL POINT LRT STATION"
         ],
         "type": "scattermapbox",
         "uid": "3761eb6a-fbbc-47e9-b884-321cf7a44fd8",
         "unselected": {
          "marker": {
           "color": "grey",
           "size": 5
          }
         }
        },
        {
         "lat": [
          1.432521149
         ],
         "lon": [
          103.7740746
         ],
         "marker": {
          "color": "orange",
          "size": 10
         },
         "mode": "markers",
         "selected": {
          "marker": {
           "size": 25
          }
         },
         "text": [
          "MARSILING MRT STATION"
         ],
         "type": "scattermapbox",
         "uid": "eeac1dee-e945-4b33-9b6f-5f0627a5bf0e",
         "unselected": {
          "marker": {
           "color": "grey",
           "size": 5
          }
         }
        },
        {
         "lat": [
          1.394493045
         ],
         "lon": [
          103.9004925
         ],
         "marker": {
          "color": "purple",
          "size": 10
         },
         "mode": "markers",
         "selected": {
          "marker": {
           "size": 25
          }
         },
         "text": [
          "COMPASSVALE LRT STATION"
         ],
         "type": "scattermapbox",
         "uid": "c40765fc-912b-4aa6-ae1a-1c48c2bff346",
         "unselected": {
          "marker": {
           "color": "grey",
           "size": 5
          }
         }
        },
        {
         "lat": [
          1.41738337
         ],
         "lon": [
          103.8329799
         ],
         "marker": {
          "color": "yellow",
          "size": 10
         },
         "mode": "markers",
         "selected": {
          "marker": {
           "size": 25
          }
         },
         "text": [
          "KHATIB MRT STATION"
         ],
         "type": "scattermapbox",
         "uid": "9538c557-2e97-48b4-9f31-da66c1a68994",
         "unselected": {
          "marker": {
           "color": "grey",
           "size": 5
          }
         }
        },
        {
         "lat": [
          1.392079837
         ],
         "lon": [
          103.8800296
         ],
         "marker": {
          "color": "blue",
          "size": 10
         },
         "mode": "markers",
         "selected": {
          "marker": {
           "size": 25
          }
         },
         "text": [
          "LAYAR LRT STATION"
         ],
         "type": "scattermapbox",
         "uid": "4949471f-7911-449c-b757-ca25db3ba727",
         "unselected": {
          "marker": {
           "color": "grey",
           "size": 5
          }
         }
        },
        {
         "lat": [
          1.345633658
         ],
         "lon": [
          103.9384925
         ],
         "marker": {
          "color": "green",
          "size": 10
         },
         "mode": "markers",
         "selected": {
          "marker": {
           "size": 25
          }
         },
         "text": [
          "TAMPINES WEST MRT STATION"
         ],
         "type": "scattermapbox",
         "uid": "44f69e26-a86f-4773-8960-d538aecec3df",
         "unselected": {
          "marker": {
           "color": "grey",
           "size": 5
          }
         }
        },
        {
         "lat": [
          1.345515306
         ],
         "lon": [
          103.938437
         ],
         "marker": {
          "color": "red",
          "size": 10
         },
         "mode": "markers",
         "selected": {
          "marker": {
           "size": 25
          }
         },
         "text": [
          "TAMPINES MRT STATION"
         ],
         "type": "scattermapbox",
         "uid": "7abb13f9-ba41-4cc3-9e00-bea478b051bb",
         "unselected": {
          "marker": {
           "color": "grey",
           "size": 5
          }
         }
        },
        {
         "lat": [
          1.356191483
         ],
         "lon": [
          103.9546345
         ],
         "marker": {
          "color": "orange",
          "size": 10
         },
         "mode": "markers",
         "selected": {
          "marker": {
           "size": 25
          }
         },
         "text": [
          "TAMPINES EAST MRT STATION"
         ],
         "type": "scattermapbox",
         "uid": "0c010654-04f1-4804-b041-4945f2977c23",
         "unselected": {
          "marker": {
           "color": "grey",
           "size": 5
          }
         }
        },
        {
         "lat": [
          1.335145642
         ],
         "lon": [
          103.8883361
         ],
         "marker": {
          "color": "purple",
          "size": 10
         },
         "mode": "markers",
         "selected": {
          "marker": {
           "size": 25
          }
         },
         "text": [
          "TAI SENG MRT STATION"
         ],
         "type": "scattermapbox",
         "uid": "49d15da6-9d75-41cf-921a-96f8ce743328",
         "unselected": {
          "marker": {
           "color": "grey",
           "size": 5
          }
         }
        },
        {
         "lat": [
          1.408452419
         ],
         "lon": [
          103.8985585
         ],
         "marker": {
          "color": "yellow",
          "size": 10
         },
         "mode": "markers",
         "selected": {
          "marker": {
           "size": 25
          }
         },
         "text": [
          "SUMANG LRT STATION"
         ],
         "type": "scattermapbox",
         "uid": "3a6abc5c-ca2f-49ba-b0be-944502132ff8",
         "unselected": {
          "marker": {
           "color": "grey",
           "size": 5
          }
         }
        },
        {
         "lat": [
          1.320065558
         ],
         "lon": [
          103.8260244
         ],
         "marker": {
          "color": "blue",
          "size": 10
         },
         "mode": "markers",
         "selected": {
          "marker": {
           "size": 25
          }
         },
         "text": [
          "STEVENS MRT STATION"
         ],
         "type": "scattermapbox",
         "uid": "42758a68-cf85-47f4-945e-a43c5e72d010",
         "unselected": {
          "marker": {
           "color": "grey",
           "size": 5
          }
         }
        },
        {
         "lat": [
          1.302812468
         ],
         "lon": [
          103.8753377
         ],
         "marker": {
          "color": "green",
          "size": 10
         },
         "mode": "markers",
         "selected": {
          "marker": {
           "size": 25
          }
         },
         "text": [
          "STADIUM MRT STATION"
         ],
         "type": "scattermapbox",
         "uid": "9c2004a1-6af4-4151-bee0-6414aff72a2e",
         "unselected": {
          "marker": {
           "color": "grey",
           "size": 5
          }
         }
        },
        {
         "lat": [
          1.330857645
         ],
         "lon": [
          103.7969068
         ],
         "marker": {
          "color": "red",
          "size": 10
         },
         "mode": "markers",
         "selected": {
          "marker": {
           "size": 25
          }
         },
         "text": [
          "SIXTH AVENUE MRT STATION"
         ],
         "type": "scattermapbox",
         "uid": "b44b80bd-2093-4138-97b6-4650ba65688e",
         "unselected": {
          "marker": {
           "color": "grey",
           "size": 5
          }
         }
        },
        {
         "lat": [
          1.380298287
         ],
         "lon": [
          103.7452918
         ],
         "marker": {
          "color": "orange",
          "size": 10
         },
         "mode": "markers",
         "selected": {
          "marker": {
           "size": 25
          }
         },
         "text": [
          "SOUTH VIEW LRT STATION"
         ],
         "type": "scattermapbox",
         "uid": "94157914-884b-4a2c-9b6f-a8e62570fa0a",
         "unselected": {
          "marker": {
           "color": "grey",
           "size": 5
          }
         }
        },
        {
         "lat": [
          1.405323319
         ],
         "lon": [
          103.8972905
         ],
         "marker": {
          "color": "purple",
          "size": 10
         },
         "mode": "markers",
         "selected": {
          "marker": {
           "size": 25
          }
         },
         "text": [
          "SOO TECK LRT STATION"
         ],
         "type": "scattermapbox",
         "uid": "53c72db7-9d79-43ef-9ecb-473ab12f3852",
         "unselected": {
          "marker": {
           "color": "grey",
           "size": 5
          }
         }
        },
        {
         "lat": [
          1.300264167
         ],
         "lon": [
          103.8390858
         ],
         "marker": {
          "color": "yellow",
          "size": 10
         },
         "mode": "markers",
         "selected": {
          "marker": {
           "size": 25
          }
         },
         "text": [
          "SOMERSET MRT STATION"
         ],
         "type": "scattermapbox",
         "uid": "19f99c5f-ac35-4599-a78f-08c9479a201b",
         "unselected": {
          "marker": {
           "color": "grey",
           "size": 5
          }
         }
        },
        {
         "lat": [
          1.343197079
         ],
         "lon": [
          103.9533772
         ],
         "marker": {
          "color": "blue",
          "size": 10
         },
         "mode": "markers",
         "selected": {
          "marker": {
           "size": 25
          }
         },
         "text": [
          "SIMEI MRT STATION"
         ],
         "type": "scattermapbox",
         "uid": "6dc23a00-64ac-4783-b5ed-2f1205cec6eb",
         "unselected": {
          "marker": {
           "color": "grey",
           "size": 5
          }
         }
        },
        {
         "lat": [
          1.350633615
         ],
         "lon": [
          103.8727717
         ],
         "marker": {
          "color": "green",
          "size": 10
         },
         "mode": "markers",
         "selected": {
          "marker": {
           "size": 25
          }
         },
         "text": [
          "SERANGOON MRT STATION"
         ],
         "type": "scattermapbox",
         "uid": "e7949b38-85ce-4d25-a6b3-1f3a41a11519",
         "unselected": {
          "marker": {
           "color": "grey",
           "size": 5
          }
         }
        },
        {
         "lat": [
          1.391694626
         ],
         "lon": [
          103.8954847
         ],
         "marker": {
          "color": "red",
          "size": 10
         },
         "mode": "markers",
         "selected": {
          "marker": {
           "size": 25
          }
         },
         "text": [
          "SENGKANG MRT STATION"
         ],
         "type": "scattermapbox",
         "uid": "0c6abbe7-d72d-409e-8bfb-c6c9e1fee276",
         "unselected": {
          "marker": {
           "color": "grey",
           "size": 5
          }
         }
        },
        {
         "lat": [
          1.340469001
         ],
         "lon": [
          103.8467991
         ],
         "marker": {
          "color": "orange",
          "size": 10
         },
         "mode": "markers",
         "selected": {
          "marker": {
           "size": 25
          }
         },
         "text": [
          "BRADDELL MRT STATION"
         ],
         "type": "scattermapbox",
         "uid": "e08fd034-7000-4858-85a1-ebc0a366fe83",
         "unselected": {
          "marker": {
           "color": "grey",
           "size": 5
          }
         }
        },
        {
         "lat": [
          1.320440791
         ],
         "lon": [
          103.8438256
         ],
         "marker": {
          "color": "purple",
          "size": 10
         },
         "mode": "markers",
         "selected": {
          "marker": {
           "size": 25
          }
         },
         "text": [
          "NOVENA MRT STATION"
         ],
         "type": "scattermapbox",
         "uid": "b14ebab5-a5c7-466f-a4a8-fb1d98593fd9",
         "unselected": {
          "marker": {
           "color": "grey",
           "size": 5
          }
         }
        },
        {
         "lat": [
          1.3131403
         ],
         "lon": [
          103.8547547
         ],
         "marker": {
          "color": "yellow",
          "size": 10
         },
         "mode": "markers",
         "selected": {
          "marker": {
           "size": 25
          }
         },
         "text": [
          "FARRER PARK MRT STATION"
         ],
         "type": "scattermapbox",
         "uid": "a827c7c3-f8a5-4bdc-b147-34404113c37a",
         "unselected": {
          "marker": {
           "color": "grey",
           "size": 5
          }
         }
        },
        {
         "lat": [
          1.320401487
         ],
         "lon": [
          103.9571838
         ],
         "marker": {
          "color": "blue",
          "size": 10
         },
         "mode": "markers",
         "selected": {
          "marker": {
           "size": 25
          }
         },
         "text": [
          "BEDOK MRT STATION"
         ],
         "type": "scattermapbox",
         "uid": "3bba10c3-7d51-40e4-905b-86778593d3cb",
         "unselected": {
          "marker": {
           "color": "grey",
           "size": 5
          }
         }
        },
        {
         "lat": [
          1.289634534
         ],
         "lon": [
          103.816741
         ],
         "marker": {
          "color": "green",
          "size": 10
         },
         "mode": "markers",
         "selected": {
          "marker": {
           "size": 25
          }
         },
         "text": [
          "REDHILL MRT STATION"
         ],
         "type": "scattermapbox",
         "uid": "98521c1c-cef8-4eb2-ac53-1362b0004da9",
         "unselected": {
          "marker": {
           "color": "grey",
           "size": 5
          }
         }
        },
        {
         "lat": [
          1.357478974
         ],
         "lon": [
          103.9878836
         ],
         "marker": {
          "color": "red",
          "size": 10
         },
         "mode": "markers",
         "selected": {
          "marker": {
           "size": 25
          }
         },
         "text": [
          "CHANGI AIRPORT MRT STATION"
         ],
         "type": "scattermapbox",
         "uid": "68892551-51af-4435-beb4-038b15424337",
         "unselected": {
          "marker": {
           "color": "grey",
           "size": 5
          }
         }
        },
        {
         "lat": [
          1.393909229
         ],
         "lon": [
          103.9125808
         ],
         "marker": {
          "color": "orange",
          "size": 10
         },
         "mode": "markers",
         "selected": {
          "marker": {
           "size": 25
          }
         },
         "text": [
          "CORAL EDGE LRT STATION"
         ],
         "type": "scattermapbox",
         "uid": "441bc900-e514-470c-abd5-27b7c9b2f20b",
         "unselected": {
          "marker": {
           "color": "grey",
           "size": 5
          }
         }
        },
        {
         "lat": [
          1.315116253
         ],
         "lon": [
          103.7651915
         ],
         "marker": {
          "color": "purple",
          "size": 10
         },
         "mode": "markers",
         "selected": {
          "marker": {
           "size": 25
          }
         },
         "text": [
          "CLEMENTI MRT STATION"
         ],
         "type": "scattermapbox",
         "uid": "6a12f32d-9999-4544-8e4c-0a95770b3f65",
         "unselected": {
          "marker": {
           "color": "grey",
           "size": 5
          }
         }
        },
        {
         "lat": [
          1.349033312
         ],
         "lon": [
          103.7495665
         ],
         "marker": {
          "color": "yellow",
          "size": 10
         },
         "mode": "markers",
         "selected": {
          "marker": {
           "size": 25
          }
         },
         "text": [
          "BUKIT BATOK MRT STATION"
         ],
         "type": "scattermapbox",
         "uid": "8820322f-7659-4598-a847-82e88bd3043b",
         "unselected": {
          "marker": {
           "color": "grey",
           "size": 5
          }
         }
        },
        {
         "lat": [
          1.40228668
         ],
         "lon": [
          103.9127274
         ],
         "marker": {
          "color": "blue",
          "size": 10
         },
         "mode": "markers",
         "selected": {
          "marker": {
           "size": 25
          }
         },
         "text": [
          "OASIS LRT STATION"
         ],
         "type": "scattermapbox",
         "uid": "fae7a99c-d271-453b-8549-66a439feeaca",
         "unselected": {
          "marker": {
           "color": "grey",
           "size": 5
          }
         }
        },
        {
         "lat": [
          1.411854477
         ],
         "lon": [
          103.9003395
         ],
         "marker": {
          "color": "green",
          "size": 10
         },
         "mode": "markers",
         "selected": {
          "marker": {
           "size": 25
          }
         },
         "text": [
          "NIBONG LRT STATION"
         ],
         "type": "scattermapbox",
         "uid": "cd132ac3-673b-4096-b899-02b7156340b5",
         "unselected": {
          "marker": {
           "color": "grey",
           "size": 5
          }
         }
        },
        {
         "lat": [
          1.39691205
         ],
         "lon": [
          103.9089502
         ],
         "marker": {
          "color": "red",
          "size": 10
         },
         "mode": "markers",
         "selected": {
          "marker": {
           "size": 25
          }
         },
         "text": [
          "MERIDIAN LRT STATION"
         ],
         "type": "scattermapbox",
         "uid": "6faa6e71-d07d-4e9d-abc6-1eea9dab62b7",
         "unselected": {
          "marker": {
           "color": "grey",
           "size": 5
          }
         }
        },
        {
         "lat": [
          1.358611591
         ],
         "lon": [
          103.7517909
         ],
         "marker": {
          "color": "orange",
          "size": 10
         },
         "mode": "markers",
         "selected": {
          "marker": {
           "size": 25
          }
         },
         "text": [
          "BUKIT GOMBAK MRT STATION"
         ],
         "type": "scattermapbox",
         "uid": "8712429a-c585-4a13-83b6-e5725d889afc",
         "unselected": {
          "marker": {
           "color": "grey",
           "size": 5
          }
         }
        },
        {
         "lat": [
          1.319783549
         ],
         "lon": [
          103.9032258
         ],
         "marker": {
          "color": "purple",
          "size": 10
         },
         "mode": "markers",
         "selected": {
          "marker": {
           "size": 25
          }
         },
         "text": [
          "EUNOS MRT STATION"
         ],
         "type": "scattermapbox",
         "uid": "86034dac-035a-4721-8ec0-15f382384776",
         "unselected": {
          "marker": {
           "color": "grey",
           "size": 5
          }
         }
        },
        {
         "lat": [
          1.342244948
         ],
         "lon": [
          103.7327666
         ],
         "marker": {
          "color": "yellow",
          "size": 10
         },
         "mode": "markers",
         "selected": {
          "marker": {
           "size": 25
          }
         },
         "text": [
          "CHINESE GARDEN MRT STATION"
         ],
         "type": "scattermapbox",
         "uid": "66c713a8-f676-4115-949a-876246de0461",
         "unselected": {
          "marker": {
           "color": "grey",
           "size": 5
          }
         }
        },
        {
         "lat": [
          1.399509106
         ],
         "lon": [
          103.916575
         ],
         "marker": {
          "color": "blue",
          "size": 10
         },
         "mode": "markers",
         "selected": {
          "marker": {
           "size": 25
          }
         },
         "text": [
          "KADALOOR LRT STATION"
         ],
         "type": "scattermapbox",
         "uid": "0cc4b0f6-8309-4455-aa5c-326e1ffad191",
         "unselected": {
          "marker": {
           "color": "grey",
           "size": 5
          }
         }
        },
        {
         "lat": [
          1.396277633
         ],
         "lon": [
          103.8937972
         ],
         "marker": {
          "color": "green",
          "size": 10
         },
         "mode": "markers",
         "selected": {
          "marker": {
           "size": 25
          }
         },
         "text": [
          "CHENG LIM LRT STATION"
         ],
         "type": "scattermapbox",
         "uid": "e73eafce-b43c-48a7-953f-c7123ab41116",
         "unselected": {
          "marker": {
           "color": "grey",
           "size": 5
          }
         }
        },
        {
         "lat": [
          1.409612685
         ],
         "lon": [
          103.9048316
         ],
         "marker": {
          "color": "red",
          "size": 10
         },
         "mode": "markers",
         "selected": {
          "marker": {
           "size": 25
          }
         },
         "text": [
          "SAM KEE LRT STATION"
         ],
         "type": "scattermapbox",
         "uid": "e1ea7607-f2b7-4357-be27-fcc24a38208e",
         "unselected": {
          "marker": {
           "color": "grey",
           "size": 5
          }
         }
        },
        {
         "lat": [
          1.425086981
         ],
         "lon": [
          103.7621375
         ],
         "marker": {
          "color": "orange",
          "size": 10
         },
         "mode": "markers",
         "selected": {
          "marker": {
           "size": 25
          }
         },
         "text": [
          "KRANJI MRT STATION"
         ],
         "type": "scattermapbox",
         "uid": "3aae8f23-6ba4-468d-9386-52b0fddab3d3",
         "unselected": {
          "marker": {
           "color": "grey",
           "size": 5
          }
         }
        },
        {
         "lat": [
          1.369428557
         ],
         "lon": [
          103.8494552
         ],
         "marker": {
          "color": "purple",
          "size": 10
         },
         "mode": "markers",
         "selected": {
          "marker": {
           "size": 25
          }
         },
         "text": [
          "ANG MO KIO MRT STATION"
         ],
         "type": "scattermapbox",
         "uid": "4513a172-b722-4a52-a342-f08585e33006",
         "unselected": {
          "marker": {
           "color": "grey",
           "size": 5
          }
         }
        },
        {
         "lat": [
          1.394519785
         ],
         "lon": [
          103.9161694
         ],
         "marker": {
          "color": "yellow",
          "size": 10
         },
         "mode": "markers",
         "selected": {
          "marker": {
           "size": 25
          }
         },
         "text": [
          "RIVIERA LRT STATION"
         ],
         "type": "scattermapbox",
         "uid": "13662f69-8e7c-4e21-adf8-adb1105bf9e5",
         "unselected": {
          "marker": {
           "color": "grey",
           "size": 5
          }
         }
        },
        {
         "lat": [
          1.38002223
         ],
         "lon": [
          103.7726474
         ],
         "marker": {
          "color": "blue",
          "size": 10
         },
         "mode": "markers",
         "selected": {
          "marker": {
           "size": 25
          }
         },
         "text": [
          "BANGKIT LRT STATION"
         ],
         "type": "scattermapbox",
         "uid": "ea18a659-de3a-45cb-9c98-373da2150c66",
         "unselected": {
          "marker": {
           "color": "grey",
           "size": 5
          }
         }
        },
        {
         "lat": [
          1.276213522
         ],
         "lon": [
          103.7913503
         ],
         "marker": {
          "color": "green",
          "size": 10
         },
         "mode": "markers",
         "selected": {
          "marker": {
           "size": 25
          }
         },
         "text": [
          "PASIR PANJANG MRT STATION"
         ],
         "type": "scattermapbox",
         "uid": "36605a2d-7fbc-4f2c-84e9-e4296b7a5637",
         "unselected": {
          "marker": {
           "color": "grey",
           "size": 5
          }
         }
        },
        {
         "lat": [
          1.312240296
         ],
         "lon": [
          103.7963991
         ],
         "marker": {
          "color": "red",
          "size": 10
         },
         "mode": "markers",
         "selected": {
          "marker": {
           "size": 25
          }
         },
         "text": [
          "HOLLAND VILLAGE MRT STATION"
         ],
         "type": "scattermapbox",
         "uid": "8dbed024-7c6b-4700-aca0-ea4f3dad4389",
         "unselected": {
          "marker": {
           "color": "grey",
           "size": 5
          }
         }
        },
        {
         "lat": [
          1.272227051
         ],
         "lon": [
          103.8027445
         ],
         "marker": {
          "color": "orange",
          "size": 10
         },
         "mode": "markers",
         "selected": {
          "marker": {
           "size": 25
          }
         },
         "text": [
          "LABRADOR PARK MRT STATION"
         ],
         "type": "scattermapbox",
         "uid": "83a6e82c-f31c-443b-af77-7539f05d1b87",
         "unselected": {
          "marker": {
           "color": "grey",
           "size": 5
          }
         }
        },
        {
         "lat": [
          1.322113736
         ],
         "lon": [
          103.8149845
         ],
         "marker": {
          "color": "purple",
          "size": 10
         },
         "mode": "markers",
         "selected": {
          "marker": {
           "size": 25
          }
         },
         "text": [
          "BOTANIC GARDENS MRT STATION"
         ],
         "type": "scattermapbox",
         "uid": "4206d855-fcf0-4373-8354-7c199848ad1c",
         "unselected": {
          "marker": {
           "color": "grey",
           "size": 5
          }
         }
        },
        {
         "lat": [
          1.299689535
         ],
         "lon": [
          103.7874128
         ],
         "marker": {
          "color": "yellow",
          "size": 10
         },
         "mode": "markers",
         "selected": {
          "marker": {
           "size": 25
          }
         },
         "text": [
          "ONE-NORTH MRT STATION"
         ],
         "type": "scattermapbox",
         "uid": "2351fdc6-8d34-4c03-b007-6369aece9475",
         "unselected": {
          "marker": {
           "color": "grey",
           "size": 5
          }
         }
        },
        {
         "lat": [
          1.293536986
         ],
         "lon": [
          103.7845724
         ],
         "marker": {
          "color": "blue",
          "size": 10
         },
         "mode": "markers",
         "selected": {
          "marker": {
           "size": 25
          }
         },
         "text": [
          "KENT RIDGE MRT STATION"
         ],
         "type": "scattermapbox",
         "uid": "e2b2d57b-d444-4181-9422-8aff89aafd53",
         "unselected": {
          "marker": {
           "color": "grey",
           "size": 5
          }
         }
        },
        {
         "lat": [
          1.281956887
         ],
         "lon": [
          103.781989
         ],
         "marker": {
          "color": "green",
          "size": 10
         },
         "mode": "markers",
         "selected": {
          "marker": {
           "size": 25
          }
         },
         "text": [
          "HAW PAR VILLA MRT STATION"
         ],
         "type": "scattermapbox",
         "uid": "7b163858-c9d0-4d74-80ea-efe3f6f67c2e",
         "unselected": {
          "marker": {
           "color": "grey",
           "size": 5
          }
         }
        },
        {
         "lat": [
          1.276311144
         ],
         "lon": [
          103.854605
         ],
         "marker": {
          "color": "red",
          "size": 10
         },
         "mode": "markers",
         "selected": {
          "marker": {
           "size": 25
          }
         },
         "text": [
          "MARINA BAY MRT STATION"
         ],
         "type": "scattermapbox",
         "uid": "df87081d-75b0-41cc-b616-bdc618a90031",
         "unselected": {
          "marker": {
           "color": "grey",
           "size": 5
          }
         }
        },
        {
         "lat": [
          1.335661613
         ],
         "lon": [
          103.7833991
         ],
         "marker": {
          "color": "orange",
          "size": 10
         },
         "mode": "markers",
         "selected": {
          "marker": {
           "size": 25
          }
         },
         "text": [
          "KING ALBERT PARK MRT STATION"
         ],
         "type": "scattermapbox",
         "uid": "2512914a-1176-497e-8139-92b6b4fc667c",
         "unselected": {
          "marker": {
           "color": "grey",
           "size": 5
          }
         }
        },
        {
         "lat": [
          1.306800197
         ],
         "lon": [
          103.8496471
         ],
         "marker": {
          "color": "purple",
          "size": 10
         },
         "mode": "markers",
         "selected": {
          "marker": {
           "size": 25
          }
         },
         "text": [
          "LITTLE INDIA MRT STATION"
         ],
         "type": "scattermapbox",
         "uid": "3eae8ab8-4b1e-4bce-be3f-30e74bc8bdba",
         "unselected": {
          "marker": {
           "color": "grey",
           "size": 5
          }
         }
        },
        {
         "lat": [
          1.303852185
         ],
         "lon": [
          103.8527694
         ],
         "marker": {
          "color": "yellow",
          "size": 10
         },
         "mode": "markers",
         "selected": {
          "marker": {
           "size": 25
          }
         },
         "text": [
          "ROCHOR MRT STATION"
         ],
         "type": "scattermapbox",
         "uid": "11f21b89-7702-49f2-a00b-e54e30eb5483",
         "unselected": {
          "marker": {
           "color": "grey",
           "size": 5
          }
         }
        },
        {
         "lat": [
          1.382725471
         ],
         "lon": [
          103.7623443
         ],
         "marker": {
          "color": "blue",
          "size": 10
         },
         "mode": "markers",
         "selected": {
          "marker": {
           "size": 25
          }
         },
         "text": [
          "SENJA LRT STATION"
         ],
         "type": "scattermapbox",
         "uid": "25ba0d5e-3ed1-4161-ae0a-8fafc1d0f614",
         "unselected": {
          "marker": {
           "color": "grey",
           "size": 5
          }
         }
        },
        {
         "lat": [
          1.306201905
         ],
         "lon": [
          103.8825281
         ],
         "marker": {
          "color": "green",
          "size": 10
         },
         "mode": "markers",
         "selected": {
          "marker": {
           "size": 25
          }
         },
         "text": [
          "MOUNTBATTEN MRT STATION"
         ],
         "type": "scattermapbox",
         "uid": "b4fd6269-3af7-461f-b2da-504de2cde7a0",
         "unselected": {
          "marker": {
           "color": "grey",
           "size": 5
          }
         }
        },
        {
         "lat": [
          1.385363165
         ],
         "lon": [
          103.7443708
         ],
         "marker": {
          "color": "red",
          "size": 10
         },
         "mode": "markers",
         "selected": {
          "marker": {
           "size": 25
          }
         },
         "text": [
          "CHOA CHU KANG MRT STATION"
         ],
         "type": "scattermapbox",
         "uid": "75ff6962-c89e-4145-945f-bf916c9a37ea",
         "unselected": {
          "marker": {
           "color": "grey",
           "size": 5
          }
         }
        },
        {
         "lat": [
          1.319939577
         ],
         "lon": [
          103.8620527
         ],
         "marker": {
          "color": "orange",
          "size": 10
         },
         "mode": "markers",
         "selected": {
          "marker": {
           "size": 25
          }
         },
         "text": [
          "BOON KENG MRT STATION"
         ],
         "type": "scattermapbox",
         "uid": "826b578f-a5b0-4c63-b328-d20876c7c4aa",
         "unselected": {
          "marker": {
           "color": "grey",
           "size": 5
          }
         }
        },
        {
         "lat": [
          1.342501178
         ],
         "lon": [
          103.8801779
         ],
         "marker": {
          "color": "purple",
          "size": 10
         },
         "mode": "markers",
         "selected": {
          "marker": {
           "size": 25
          }
         },
         "text": [
          "BARTLEY MRT STATION"
         ],
         "type": "scattermapbox",
         "uid": "e9a7c107-26eb-4ba8-878b-24ceaca06b4b",
         "unselected": {
          "marker": {
           "color": "grey",
           "size": 5
          }
         }
        },
        {
         "lat": [
          1.387785087
         ],
         "lon": [
          103.7695997
         ],
         "marker": {
          "color": "yellow",
          "size": 10
         },
         "mode": "markers",
         "selected": {
          "marker": {
           "size": 25
          }
         },
         "text": [
          "SEGAR LRT STATION"
         ],
         "type": "scattermapbox",
         "uid": "bd3cc01e-b973-47a9-9737-54b056df92ab",
         "unselected": {
          "marker": {
           "color": "grey",
           "size": 5
          }
         }
        },
        {
         "lat": [
          1.362344868
         ],
         "lon": [
          103.7674183
         ],
         "marker": {
          "color": "blue",
          "size": 10
         },
         "mode": "markers",
         "selected": {
          "marker": {
           "size": 25
          }
         },
         "text": [
          "HILLVIEW MRT STATION"
         ],
         "type": "scattermapbox",
         "uid": "e6870cf2-437d-4bad-a6a8-60fde1bcb2e1",
         "unselected": {
          "marker": {
           "color": "grey",
           "size": 5
          }
         }
        },
        {
         "lat": [
          1.34090149
         ],
         "lon": [
          103.7757467
         ],
         "marker": {
          "color": "green",
          "size": 10
         },
         "mode": "markers",
         "selected": {
          "marker": {
           "size": 25
          }
         },
         "text": [
          "BEAUTY WORLD MRT STATION"
         ],
         "type": "scattermapbox",
         "uid": "1fc79ef5-3ac5-4515-b4d7-4871297d4469",
         "unselected": {
          "marker": {
           "color": "grey",
           "size": 5
          }
         }
        },
        {
         "lat": [
          1.379561212
         ],
         "lon": [
          103.7611889
         ],
         "marker": {
          "color": "red",
          "size": 10
         },
         "mode": "markers",
         "selected": {
          "marker": {
           "size": 25
          }
         },
         "text": [
          "BUKIT PANJANG MRT STATION"
         ],
         "type": "scattermapbox",
         "uid": "27d246bc-c9ad-4b0d-a60c-2891b96f53dc",
         "unselected": {
          "marker": {
           "color": "grey",
           "size": 5
          }
         }
        },
        {
         "lat": [
          1.369815449
         ],
         "lon": [
          103.7644392
         ],
         "marker": {
          "color": "orange",
          "size": 10
         },
         "mode": "markers",
         "selected": {
          "marker": {
           "size": 25
          }
         },
         "text": [
          "CASHEW MRT STATION"
         ],
         "type": "scattermapbox",
         "uid": "74670b53-8352-4cb8-8553-75b70db93edb",
         "unselected": {
          "marker": {
           "color": "grey",
           "size": 5
          }
         }
        },
        {
         "lat": [
          1.327694365
         ],
         "lon": [
          103.6780851
         ],
         "marker": {
          "color": "purple",
          "size": 10
         },
         "mode": "markers",
         "selected": {
          "marker": {
           "size": 25
          }
         },
         "text": [
          "JOO KOON MRT STATION"
         ],
         "type": "scattermapbox",
         "uid": "69b8be09-81e1-4291-a41d-2f008689b96a",
         "unselected": {
          "marker": {
           "color": "grey",
           "size": 5
          }
         }
        },
        {
         "lat": [
          1.397297711
         ],
         "lon": [
          103.7473577
         ],
         "marker": {
          "color": "yellow",
          "size": 10
         },
         "mode": "markers",
         "selected": {
          "marker": {
           "size": 25
          }
         },
         "text": [
          "YEW TEE MRT STATION"
         ],
         "type": "scattermapbox",
         "uid": "e504bbf8-43fe-4259-9779-8e0c87bf4a0f",
         "unselected": {
          "marker": {
           "color": "grey",
           "size": 5
          }
         }
        },
        {
         "lat": [
          1.429443085
         ],
         "lon": [
          103.835005
         ],
         "marker": {
          "color": "blue",
          "size": 10
         },
         "mode": "markers",
         "selected": {
          "marker": {
           "size": 25
          }
         },
         "text": [
          "YISHUN MRT STATION"
         ],
         "type": "scattermapbox",
         "uid": "6cf67d8a-102d-40bc-a454-c5380e8cc821",
         "unselected": {
          "marker": {
           "color": "grey",
           "size": 5
          }
         }
        },
        {
         "lat": [
          1.381498825
         ],
         "lon": [
          103.8451707
         ],
         "marker": {
          "color": "green",
          "size": 10
         },
         "mode": "markers",
         "selected": {
          "marker": {
           "size": 25
          }
         },
         "text": [
          "YIO CHU KANG MRT STATION"
         ],
         "type": "scattermapbox",
         "uid": "fe64a337-6c36-4d50-a991-a9d9c8a140b5",
         "unselected": {
          "marker": {
           "color": "grey",
           "size": 5
          }
         }
        },
        {
         "lat": [
          1.339190045
         ],
         "lon": [
          103.8708183
         ],
         "marker": {
          "color": "red",
          "size": 10
         },
         "mode": "markers",
         "selected": {
          "marker": {
           "size": 25
          }
         },
         "text": [
          "WOODLEIGH MRT STATION"
         ],
         "type": "scattermapbox",
         "uid": "a81e8889-bbb6-4fbc-960e-c90fd73ab8f7",
         "unselected": {
          "marker": {
           "color": "grey",
           "size": 5
          }
         }
        },
        {
         "lat": [
          1.436057617
         ],
         "lon": [
          103.7879388
         ],
         "marker": {
          "color": "orange",
          "size": 10
         },
         "mode": "markers",
         "selected": {
          "marker": {
           "size": 25
          }
         },
         "text": [
          "WOODLANDS MRT STATION"
         ],
         "type": "scattermapbox",
         "uid": "8a7a143a-8ab0-4aa8-9dc9-bb178562b9ae",
         "unselected": {
          "marker": {
           "color": "grey",
           "size": 5
          }
         }
        },
        {
         "lat": [
          1.341739774
         ],
         "lon": [
          103.9614728
         ],
         "marker": {
          "color": "purple",
          "size": 10
         },
         "mode": "markers",
         "selected": {
          "marker": {
           "size": 25
          }
         },
         "text": [
          "UPPER CHANGI MRT STATION"
         ],
         "type": "scattermapbox",
         "uid": "4fa9aad5-340f-4e53-b003-b3ba7ad8f853",
         "unselected": {
          "marker": {
           "color": "grey",
           "size": 5
          }
         }
        },
        {
         "lat": [
          1.282068948
         ],
         "lon": [
          103.8486488
         ],
         "marker": {
          "color": "yellow",
          "size": 10
         },
         "mode": "markers",
         "selected": {
          "marker": {
           "size": 25
          }
         },
         "text": [
          "TELOK AYER MRT STATION"
         ],
         "type": "scattermapbox",
         "uid": "fe8cda6a-8b60-4b83-9920-ce9f9085084d",
         "unselected": {
          "marker": {
           "color": "grey",
           "size": 5
          }
         }
        },
        {
         "lat": [
          1.389347947
         ],
         "lon": [
          103.8858442
         ],
         "marker": {
          "color": "blue",
          "size": 10
         },
         "mode": "markers",
         "selected": {
          "marker": {
           "size": 25
          }
         },
         "text": [
          "TONGKANG LRT STATION"
         ],
         "type": "scattermapbox",
         "uid": "467dfd29-2785-4177-957b-f563fea37017",
         "unselected": {
          "marker": {
           "color": "grey",
           "size": 5
          }
         }
        },
        {
         "lat": [
          1.32997426
         ],
         "lon": [
          103.8992267
         ],
         "marker": {
          "color": "green",
          "size": 10
         },
         "mode": "markers",
         "selected": {
          "marker": {
           "size": 25
          }
         },
         "text": [
          "UBI MRT STATION"
         ],
         "type": "scattermapbox",
         "uid": "8b8d8997-4113-48ef-8832-af51a0f357d7",
         "unselected": {
          "marker": {
           "color": "grey",
           "size": 5
          }
         }
        },
        {
         "lat": [
          1.332596728
         ],
         "lon": [
          103.8475773
         ],
         "marker": {
          "color": "red",
          "size": 10
         },
         "mode": "markers",
         "selected": {
          "marker": {
           "size": 25
          }
         },
         "text": [
          "TOA PAYOH MRT STATION"
         ],
         "type": "scattermapbox",
         "uid": "34a1cb5c-d77e-4fcf-88b9-71200d41568a",
         "unselected": {
          "marker": {
           "color": "grey",
           "size": 5
          }
         }
        },
        {
         "lat": [
          1.286102536
         ],
         "lon": [
          103.8274451
         ],
         "marker": {
          "color": "orange",
          "size": 10
         },
         "mode": "markers",
         "selected": {
          "marker": {
           "size": 25
          }
         },
         "text": [
          "TIONG BAHRU MRT STATION"
         ],
         "type": "scattermapbox",
         "uid": "2ffd19b7-ef9a-4da1-8eee-4f404c0f9609",
         "unselected": {
          "marker": {
           "color": "grey",
           "size": 5
          }
         }
        },
        {
         "lat": [
          1.397318156
         ],
         "lon": [
          103.8756352
         ],
         "marker": {
          "color": "purple",
          "size": 10
         },
         "mode": "markers",
         "selected": {
          "marker": {
           "size": 25
          }
         },
         "text": [
          "THANGGAM LRT STATION"
         ],
         "type": "scattermapbox",
         "uid": "6ad50cb6-ed94-4c4d-b81d-cb409f33675a",
         "unselected": {
          "marker": {
           "color": "grey",
           "size": 5
          }
         }
        },
        {
         "lat": [
          1.293997986
         ],
         "lon": [
          103.86035
         ],
         "marker": {
          "color": "yellow",
          "size": 10
         },
         "mode": "markers",
         "selected": {
          "marker": {
           "size": 25
          }
         },
         "text": [
          "PROMENADE MRT STATION"
         ],
         "type": "scattermapbox",
         "uid": "dacb3ec2-c0d4-41d0-9829-68e51188bd68",
         "unselected": {
          "marker": {
           "color": "grey",
           "size": 5
          }
         }
        },
        {
         "lat": [
          1.296861686
         ],
         "lon": [
          103.8506674
         ],
         "marker": {
          "color": "blue",
          "size": 10
         },
         "mode": "markers",
         "selected": {
          "marker": {
           "size": 25
          }
         },
         "text": [
          "BRAS BASAH MRT STATION"
         ],
         "type": "scattermapbox",
         "uid": "38123290-0058-4459-9412-78923f75f8a6",
         "unselected": {
          "marker": {
           "color": "grey",
           "size": 5
          }
         }
        },
        {
         "lat": [
          1.29956843
         ],
         "lon": [
          103.8639777
         ],
         "marker": {
          "color": "green",
          "size": 10
         },
         "mode": "markers",
         "selected": {
          "marker": {
           "size": 25
          }
         },
         "text": [
          "NICOLL HIGHWAY MRT STATION"
         ],
         "type": "scattermapbox",
         "uid": "6c9d052a-9be6-4f39-b01c-9ca43437266c",
         "unselected": {
          "marker": {
           "color": "grey",
           "size": 5
          }
         }
        },
        {
         "lat": [
          1.331879714
         ],
         "lon": [
          103.8690579
         ],
         "marker": {
          "color": "red",
          "size": 10
         },
         "mode": "markers",
         "selected": {
          "marker": {
           "size": 25
          }
         },
         "text": [
          "POTONG PASIR MRT STATION"
         ],
         "type": "scattermapbox",
         "uid": "d3f6ef38-6883-4cc1-81a8-961f0fcee0d1",
         "unselected": {
          "marker": {
           "color": "grey",
           "size": 5
          }
         }
        },
        {
         "lat": [
          1.344259115
         ],
         "lon": [
          103.7209491
         ],
         "marker": {
          "color": "orange",
          "size": 10
         },
         "mode": "markers",
         "selected": {
          "marker": {
           "size": 25
          }
         },
         "text": [
          "LAKESIDE MRT STATION"
         ],
         "type": "scattermapbox",
         "uid": "eea6eb53-eab2-4c1b-8e8e-0a764028e55e",
         "unselected": {
          "marker": {
           "color": "grey",
           "size": 5
          }
         }
        },
        {
         "lat": [
          1.415901722
         ],
         "lon": [
          103.9021563
         ],
         "marker": {
          "color": "purple",
          "size": 10
         },
         "mode": "markers",
         "selected": {
          "marker": {
           "size": 25
          }
         },
         "text": [
          "SAMUDERA LRT STATION"
         ],
         "type": "scattermapbox",
         "uid": "7337632c-4eac-457a-a133-28eb6aa6eadd",
         "unselected": {
          "marker": {
           "color": "grey",
           "size": 5
          }
         }
        },
        {
         "lat": [
          1.384233559
         ],
         "lon": [
          103.8971947
         ],
         "marker": {
          "color": "yellow",
          "size": 10
         },
         "mode": "markers",
         "selected": {
          "marker": {
           "size": 25
          }
         },
         "text": [
          "RANGGUNG LRT STATION"
         ],
         "type": "scattermapbox",
         "uid": "30e934ed-a7b8-4fe7-a2e5-4c2c15bfe113",
         "unselected": {
          "marker": {
           "color": "grey",
           "size": 5
          }
         }
        },
        {
         "lat": [
          1.449050822
         ],
         "lon": [
          103.8200461
         ],
         "marker": {
          "color": "blue",
          "size": 10
         },
         "mode": "markers",
         "selected": {
          "marker": {
           "size": 25
          }
         },
         "text": [
          "SEMBAWANG MRT STATION"
         ],
         "type": "scattermapbox",
         "uid": "59231eb8-febc-4bda-a36e-729354fe9e75",
         "unselected": {
          "marker": {
           "color": "grey",
           "size": 5
          }
         }
        },
        {
         "lat": [
          1.405194701
         ],
         "lon": [
          103.9024119
         ],
         "marker": {
          "color": "green",
          "size": 10
         },
         "mode": "markers",
         "selected": {
          "marker": {
           "size": 25
          }
         },
         "text": [
          "PUNGGOL LRT STATION"
         ],
         "type": "scattermapbox",
         "uid": "62631818-6125-46f9-ad28-5dd9818af566",
         "unselected": {
          "marker": {
           "color": "grey",
           "size": 5
          }
         }
        },
        {
         "lat": [
          1.383959117
         ],
         "lon": [
          103.9022254
         ],
         "marker": {
          "color": "red",
          "size": 10
         },
         "mode": "markers",
         "selected": {
          "marker": {
           "size": 25
          }
         },
         "text": [
          "KANGKAR LRT STATION"
         ],
         "type": "scattermapbox",
         "uid": "93fc75b1-7585-43f0-bce1-3d2b741ad56d",
         "unselected": {
          "marker": {
           "color": "grey",
           "size": 5
          }
         }
        },
        {
         "lat": [
          1.337587011
         ],
         "lon": [
          103.6973216
         ],
         "marker": {
          "color": "orange",
          "size": 10
         },
         "mode": "markers",
         "selected": {
          "marker": {
           "size": 25
          }
         },
         "text": [
          "PIONEER MRT STATION"
         ],
         "type": "scattermapbox",
         "uid": "5bb0d7bd-5086-4b0c-ae9b-92c721354b3f",
         "unselected": {
          "marker": {
           "color": "grey",
           "size": 5
          }
         }
        },
        {
         "lat": [
          1.300465085
         ],
         "lon": [
          103.8557067
         ],
         "marker": {
          "color": "purple",
          "size": 10
         },
         "mode": "markers",
         "selected": {
          "marker": {
           "size": 25
          }
         },
         "text": [
          "BUGIS MRT STATION"
         ],
         "type": "scattermapbox",
         "uid": "288b1668-d8bc-4424-8fd3-2452d8cd0f8d",
         "unselected": {
          "marker": {
           "color": "grey",
           "size": 5
          }
         }
        },
        {
         "lat": [
          1.312318922
         ],
         "lon": [
          103.8379846
         ],
         "marker": {
          "color": "yellow",
          "size": 10
         },
         "mode": "markers",
         "selected": {
          "marker": {
           "size": 25
          }
         },
         "text": [
          "NEWTON MRT STATION"
         ],
         "type": "scattermapbox",
         "uid": "91e3c9e0-4fd6-42c2-b08a-51aac2dde986",
         "unselected": {
          "marker": {
           "color": "grey",
           "size": 5
          }
         }
        },
        {
         "lat": [
          1.307223708
         ],
         "lon": [
          103.7902535
         ],
         "marker": {
          "color": "blue",
          "size": 10
         },
         "mode": "markers",
         "selected": {
          "marker": {
           "size": 25
          }
         },
         "text": [
          "BUONA VISTA MRT STATION"
         ],
         "type": "scattermapbox",
         "uid": "70e37787-42b1-4b2d-b460-96a5391c2ffd",
         "unselected": {
          "marker": {
           "color": "grey",
           "size": 5
          }
         }
        },
        {
         "lat": [
          1.279739707
         ],
         "lon": [
          103.8395135
         ],
         "marker": {
          "color": "green",
          "size": 10
         },
         "mode": "markers",
         "selected": {
          "marker": {
           "size": 25
          }
         },
         "text": [
          "OUTRAM PARK MRT STATION"
         ],
         "type": "scattermapbox",
         "uid": "eecaa9a1-7f7a-45a4-b726-66af7e101fa9",
         "unselected": {
          "marker": {
           "color": "grey",
           "size": 5
          }
         }
        },
        {
         "lat": [
          1.284223919
         ],
         "lon": [
          103.8451438
         ],
         "marker": {
          "color": "red",
          "size": 10
         },
         "mode": "markers",
         "selected": {
          "marker": {
           "size": 25
          }
         },
         "text": [
          "CHINATOWN MRT STATION"
         ],
         "type": "scattermapbox",
         "uid": "c1358e16-22cf-48ba-a839-73a8bf44392b",
         "unselected": {
          "marker": {
           "color": "grey",
           "size": 5
          }
         }
        },
        {
         "lat": [
          1.335382526
         ],
         "lon": [
          103.9623747
         ],
         "marker": {
          "color": "orange",
          "size": 10
         },
         "mode": "markers",
         "selected": {
          "marker": {
           "size": 25
          }
         },
         "text": [
          "EXPO MRT STATION"
         ],
         "type": "scattermapbox",
         "uid": "f093e343-934d-4b45-b7a9-62e704e5ac20",
         "unselected": {
          "marker": {
           "color": "grey",
           "size": 5
          }
         }
        },
        {
         "lat": [
          1.283933262
         ],
         "lon": [
          103.8514631
         ],
         "marker": {
          "color": "purple",
          "size": 10
         },
         "mode": "markers",
         "selected": {
          "marker": {
           "size": 25
          }
         },
         "text": [
          "RAFFLES PLACE MRT STATION"
         ],
         "type": "scattermapbox",
         "uid": "01dfb330-e82d-45c4-accc-62743f0de969",
         "unselected": {
          "marker": {
           "color": "grey",
           "size": 5
          }
         }
        },
        {
         "lat": [
          1.321026956
         ],
         "lon": [
          103.6490782
         ],
         "marker": {
          "color": "yellow",
          "size": 10
         },
         "mode": "markers",
         "selected": {
          "marker": {
           "size": 25
          }
         },
         "text": [
          "TUAS CRESCENT MRT STATION"
         ],
         "type": "scattermapbox",
         "uid": "f639ec90-5be2-4867-b797-fc4d294e6771",
         "unselected": {
          "marker": {
           "color": "grey",
           "size": 5
          }
         }
        },
        {
         "lat": [
          1.340882425
         ],
         "lon": [
          103.6369914
         ],
         "marker": {
          "color": "blue",
          "size": 10
         },
         "mode": "markers",
         "selected": {
          "marker": {
           "size": 25
          }
         },
         "text": [
          "TUAS LINK MRT STATION"
         ],
         "type": "scattermapbox",
         "uid": "e5b86349-ca37-401b-b97e-bab1da4668fc",
         "unselected": {
          "marker": {
           "color": "grey",
           "size": 5
          }
         }
        },
        {
         "lat": [
          1.329985047
         ],
         "lon": [
          103.6396166
         ],
         "marker": {
          "color": "green",
          "size": 10
         },
         "mode": "markers",
         "selected": {
          "marker": {
           "size": 25
          }
         },
         "text": [
          "TUAS WEST ROAD MRT STATION"
         ],
         "type": "scattermapbox",
         "uid": "85f5bf1f-2281-4901-b0c5-31cdc09e84cb",
         "unselected": {
          "marker": {
           "color": "grey",
           "size": 5
          }
         }
        },
        {
         "lat": [
          1.292989907
         ],
         "lon": [
          103.8525426
         ],
         "marker": {
          "color": "red",
          "size": 10
         },
         "mode": "markers",
         "selected": {
          "marker": {
           "size": 25
          }
         },
         "text": [
          "CITY HALL MRT STATION"
         ],
         "type": "scattermapbox",
         "uid": "8d9ef605-f8ce-459b-9b49-d11acced8513",
         "unselected": {
          "marker": {
           "color": "grey",
           "size": 5
          }
         }
        },
        {
         "lat": [
          1.351315801
         ],
         "lon": [
          103.8491403
         ],
         "marker": {
          "color": "orange",
          "size": 10
         },
         "mode": "markers",
         "selected": {
          "marker": {
           "size": 25
          }
         },
         "text": [
          "BISHAN MRT STATION"
         ],
         "type": "scattermapbox",
         "uid": "2e364c71-d4d6-4363-b309-309b5a4ee0e7",
         "unselected": {
          "marker": {
           "color": "grey",
           "size": 5
          }
         }
        },
        {
         "lat": [
          1.391885892
         ],
         "lon": [
          103.8763086
         ],
         "marker": {
          "color": "purple",
          "size": 10
         },
         "mode": "markers",
         "selected": {
          "marker": {
           "size": 25
          }
         },
         "text": [
          "FERNVALE LRT STATION"
         ],
         "type": "scattermapbox",
         "uid": "1ae80db0-1f8b-471e-9ca3-8966213456e7",
         "unselected": {
          "marker": {
           "color": "grey",
           "size": 5
          }
         }
        },
        {
         "lat": [
          1.414927334
         ],
         "lon": [
          103.9101664
         ],
         "marker": {
          "color": "yellow",
          "size": 10
         },
         "mode": "markers",
         "selected": {
          "marker": {
           "size": 25
          }
         },
         "text": [
          "PUNGGOL MRT STATION"
         ],
         "type": "scattermapbox",
         "uid": "61e078a7-1c86-435a-abc9-73cdef538fce",
         "unselected": {
          "marker": {
           "color": "grey",
           "size": 5
          }
         }
        },
        {
         "lat": [
          1.38287002
         ],
         "lon": [
          103.8931226
         ],
         "marker": {
          "color": "blue",
          "size": 10
         },
         "mode": "markers",
         "selected": {
          "marker": {
           "size": 25
          }
         },
         "text": [
          "BUANGKOK MRT STATION"
         ],
         "type": "scattermapbox",
         "uid": "b3e31584-5dc3-4085-9d31-48f0d1d7dc1d",
         "unselected": {
          "marker": {
           "color": "grey",
           "size": 5
          }
         }
        },
        {
         "lat": [
          1.387994311
         ],
         "lon": [
          103.9054153
         ],
         "marker": {
          "color": "green",
          "size": 10
         },
         "mode": "markers",
         "selected": {
          "marker": {
           "size": 25
          }
         },
         "text": [
          "BAKAU LRT STATION"
         ],
         "type": "scattermapbox",
         "uid": "eaee3a81-e97b-4d3e-b524-59835dce1470",
         "unselected": {
          "marker": {
           "color": "grey",
           "size": 5
          }
         }
        },
        {
         "lat": [
          1.397170196
         ],
         "lon": [
          103.8893048
         ],
         "marker": {
          "color": "red",
          "size": 10
         },
         "mode": "markers",
         "selected": {
          "marker": {
           "size": 25
          }
         },
         "text": [
          "FARMWAY LRT STATION"
         ],
         "type": "scattermapbox",
         "uid": "cc30b4a1-aee2-4311-9ed4-422dc255473f",
         "unselected": {
          "marker": {
           "color": "grey",
           "size": 5
          }
         }
        },
        {
         "lat": [
          1.302501999
         ],
         "lon": [
          103.7982285
         ],
         "marker": {
          "color": "orange",
          "size": 10
         },
         "mode": "markers",
         "selected": {
          "marker": {
           "size": 25
          }
         },
         "text": [
          "COMMONWEALTH MRT STATION"
         ],
         "type": "scattermapbox",
         "uid": "d03b6ab4-261e-4e58-a81f-aadbd7457820",
         "unselected": {
          "marker": {
           "color": "grey",
           "size": 5
          }
         }
        },
        {
         "lat": [
          1.39821283
         ],
         "lon": [
          103.8812562
         ],
         "marker": {
          "color": "purple",
          "size": 10
         },
         "mode": "markers",
         "selected": {
          "marker": {
           "size": 25
          }
         },
         "text": [
          "KUPANG LRT STATION"
         ],
         "type": "scattermapbox",
         "uid": "9a9533ea-1077-486d-97e6-ffc30faf468f",
         "unselected": {
          "marker": {
           "color": "grey",
           "size": 5
          }
         }
        },
        {
         "lat": [
          1.405234836
         ],
         "lon": [
          103.9086035
         ],
         "marker": {
          "color": "yellow",
          "size": 10
         },
         "mode": "markers",
         "selected": {
          "marker": {
           "size": 25
          }
         },
         "text": [
          "DAMAI LRT STATION"
         ],
         "type": "scattermapbox",
         "uid": "cd252c37-cec0-47c5-b824-39f91b839deb",
         "unselected": {
          "marker": {
           "color": "grey",
           "size": 5
          }
         }
        },
        {
         "lat": [
          1.294550852
         ],
         "lon": [
          103.8060772
         ],
         "marker": {
          "color": "blue",
          "size": 10
         },
         "mode": "markers",
         "selected": {
          "marker": {
           "size": 25
          }
         },
         "text": [
          "QUEENSTOWN MRT STATION"
         ],
         "type": "scattermapbox",
         "uid": "9b695cbb-1bde-4df5-bbcc-8e9c20b43e34",
         "unselected": {
          "marker": {
           "color": "grey",
           "size": 5
          }
         }
        },
        {
         "lat": [
          1.31148891
         ],
         "lon": [
          103.8713865
         ],
         "marker": {
          "color": "green",
          "size": 10
         },
         "mode": "markers",
         "selected": {
          "marker": {
           "size": 25
          }
         },
         "text": [
          "KALLANG MRT STATION"
         ],
         "type": "scattermapbox",
         "uid": "1c3788c2-409b-4f6f-b174-2014500a5604",
         "unselected": {
          "marker": {
           "color": "grey",
           "size": 5
          }
         }
        },
        {
         "lat": [
          1.391468495
         ],
         "lon": [
          103.9059736
         ],
         "marker": {
          "color": "red",
          "size": 10
         },
         "mode": "markers",
         "selected": {
          "marker": {
           "size": 25
          }
         },
         "text": [
          "RUMBIA LRT STATION"
         ],
         "type": "scattermapbox",
         "uid": "76b2b069-7b97-4f3d-80da-5ebc52fcc4b2",
         "unselected": {
          "marker": {
           "color": "grey",
           "size": 5
          }
         }
        },
        {
         "lat": [
          1.377772043
         ],
         "lon": [
          103.7666458
         ],
         "marker": {
          "color": "orange",
          "size": 10
         },
         "mode": "markers",
         "selected": {
          "marker": {
           "size": 25
          }
         },
         "text": [
          "PETIR LRT STATION"
         ],
         "type": "scattermapbox",
         "uid": "088b94d1-15c7-4856-b42e-7dedcb8e08b9",
         "unselected": {
          "marker": {
           "color": "grey",
           "size": 5
          }
         }
        },
        {
         "lat": [
          1.338610339
         ],
         "lon": [
          103.7060849
         ],
         "marker": {
          "color": "purple",
          "size": 10
         },
         "mode": "markers",
         "selected": {
          "marker": {
           "size": 25
          }
         },
         "text": [
          "BOON LAY MRT STATION"
         ],
         "type": "scattermapbox",
         "uid": "92b4e143-2e15-4bc8-94f9-41f4028610a2",
         "unselected": {
          "marker": {
           "color": "grey",
           "size": 5
          }
         }
        },
        {
         "lat": [
          1.378603251
         ],
         "lon": [
          103.7490557
         ],
         "marker": {
          "color": "yellow",
          "size": 10
         },
         "mode": "markers",
         "selected": {
          "marker": {
           "size": 25
          }
         },
         "text": [
          "KEAT HONG LRT STATION"
         ],
         "type": "scattermapbox",
         "uid": "4d6205a8-b7a5-498c-9f33-c092a44853fd",
         "unselected": {
          "marker": {
           "color": "grey",
           "size": 5
          }
         }
        },
        {
         "lat": [
          1.38673927
         ],
         "lon": [
          103.7645341
         ],
         "marker": {
          "color": "blue",
          "size": 10
         },
         "mode": "markers",
         "selected": {
          "marker": {
           "size": 25
          }
         },
         "text": [
          "JELAPANG LRT STATION"
         ],
         "type": "scattermapbox",
         "uid": "54e31cb2-34ed-4cc8-a459-d10b6fdf47c7",
         "unselected": {
          "marker": {
           "color": "grey",
           "size": 5
          }
         }
        },
        {
         "lat": [
          1.384755411
         ],
         "lon": [
          103.7445377
         ],
         "marker": {
          "color": "green",
          "size": 10
         },
         "mode": "markers",
         "selected": {
          "marker": {
           "size": 25
          }
         },
         "text": [
          "CHOA CHU KANG LRT STATION"
         ],
         "type": "scattermapbox",
         "uid": "9efd8260-e427-4d90-9a3d-3c15eb86793e",
         "unselected": {
          "marker": {
           "color": "grey",
           "size": 5
          }
         }
        },
        {
         "lat": [
          1.391609364
         ],
         "lon": [
          103.8954426
         ],
         "marker": {
          "color": "red",
          "size": 10
         },
         "mode": "markers",
         "selected": {
          "marker": {
           "size": 25
          }
         },
         "text": [
          "SENGKANG LRT STATION"
         ],
         "type": "scattermapbox",
         "uid": "f7a95e0a-a6ca-4cb1-94a0-3d2ff34596c6",
         "unselected": {
          "marker": {
           "color": "grey",
           "size": 5
          }
         }
        },
        {
         "lat": [
          1.265389384
         ],
         "lon": [
          103.8215302
         ],
         "marker": {
          "color": "orange",
          "size": 10
         },
         "mode": "markers",
         "selected": {
          "marker": {
           "size": 25
          }
         },
         "text": [
          "HARBOURFRONT MRT STATION"
         ],
         "type": "scattermapbox",
         "uid": "083513cd-1851-4037-beb0-bb4362e3c5ae",
         "unselected": {
          "marker": {
           "color": "grey",
           "size": 5
          }
         }
        },
        {
         "lat": [
          1.376135743
         ],
         "lon": [
          103.7712612
         ],
         "marker": {
          "color": "purple",
          "size": 10
         },
         "mode": "markers",
         "selected": {
          "marker": {
           "size": 25
          }
         },
         "text": [
          "PENDING LRT STATION"
         ],
         "type": "scattermapbox",
         "uid": "14ee8566-fb8a-4017-b899-c4da52dc3c40",
         "unselected": {
          "marker": {
           "color": "grey",
           "size": 5
          }
         }
        },
        {
         "lat": [
          1.288710232
         ],
         "lon": [
          103.8466109
         ],
         "marker": {
          "color": "yellow",
          "size": 10
         },
         "mode": "markers",
         "selected": {
          "marker": {
           "size": 25
          }
         },
         "text": [
          "CLARKE QUAY MRT STATION"
         ],
         "type": "scattermapbox",
         "uid": "f5f30f60-97f1-46d4-aae3-391826ddd6bc",
         "unselected": {
          "marker": {
           "color": "grey",
           "size": 5
          }
         }
        },
        {
         "lat": [
          1.377926946
         ],
         "lon": [
          103.7631029
         ],
         "marker": {
          "color": "blue",
          "size": 10
         },
         "mode": "markers",
         "selected": {
          "marker": {
           "size": 25
          }
         },
         "text": [
          "BUKIT PANJANG LRT STATION"
         ],
         "type": "scattermapbox",
         "uid": "65951164-d21c-4b35-b627-c69eca3641c3",
         "unselected": {
          "marker": {
           "color": "grey",
           "size": 5
          }
         }
        },
        {
         "lat": [
          1.384573177
         ],
         "lon": [
          103.7708872
         ],
         "marker": {
          "color": "green",
          "size": 10
         },
         "mode": "markers",
         "selected": {
          "marker": {
           "size": 25
          }
         },
         "text": [
          "FAJAR LRT STATION"
         ],
         "type": "scattermapbox",
         "uid": "337edf65-48ec-4890-93fe-388233b10bae",
         "unselected": {
          "marker": {
           "color": "grey",
           "size": 5
          }
         }
        },
        {
         "lat": [
          1.360179171
         ],
         "lon": [
          103.8850649
         ],
         "marker": {
          "color": "red",
          "size": 10
         },
         "mode": "markers",
         "selected": {
          "marker": {
           "size": 25
          }
         },
         "text": [
          "KOVAN MRT STATION"
         ],
         "type": "scattermapbox",
         "uid": "94ef2253-a190-41a8-abd2-c3c39d5d5e6a",
         "unselected": {
          "marker": {
           "color": "grey",
           "size": 5
          }
         }
        },
        {
         "lat": [
          1.351639278
         ],
         "lon": [
          103.8639457
         ],
         "marker": {
          "color": "orange",
          "size": 10
         },
         "mode": "markers",
         "selected": {
          "marker": {
           "size": 25
          }
         },
         "text": [
          "LORONG CHUAN MRT STATION"
         ],
         "type": "scattermapbox",
         "uid": "156baf96-b946-4edf-96be-c70efd9c6177",
         "unselected": {
          "marker": {
           "color": "grey",
           "size": 5
          }
         }
        },
        {
         "lat": [
          1.348707263
         ],
         "lon": [
          103.8394231
         ],
         "marker": {
          "color": "purple",
          "size": 10
         },
         "mode": "markers",
         "selected": {
          "marker": {
           "size": 25
          }
         },
         "text": [
          "MARYMOUNT MRT STATION"
         ],
         "type": "scattermapbox",
         "uid": "5d06797c-08ee-4191-bab4-b7f60282d5b3",
         "unselected": {
          "marker": {
           "color": "grey",
           "size": 5
          }
         }
        },
        {
         "lat": [
          1.337245613
         ],
         "lon": [
          103.8401618
         ],
         "marker": {
          "color": "yellow",
          "size": 10
         },
         "mode": "markers",
         "selected": {
          "marker": {
           "size": 25
          }
         },
         "text": [
          "CALDECOTT MRT STATION"
         ],
         "type": "scattermapbox",
         "uid": "b1ae6f58-ae7a-402a-891a-57fb294fb6db",
         "unselected": {
          "marker": {
           "color": "grey",
           "size": 5
          }
         }
        },
        {
         "lat": [
          1.279446382
         ],
         "lon": [
          103.8528408
         ],
         "marker": {
          "color": "blue",
          "size": 10
         },
         "mode": "markers",
         "selected": {
          "marker": {
           "size": 25
          }
         },
         "text": [
          "DOWNTOWN MRT STATION"
         ],
         "type": "scattermapbox",
         "uid": "a618a7f9-7376-4e22-96b6-c6c843bcc246",
         "unselected": {
          "marker": {
           "color": "grey",
           "size": 5
          }
         }
        },
        {
         "lat": [
          1.321301102
         ],
         "lon": [
          103.8716226
         ],
         "marker": {
          "color": "green",
          "size": 10
         },
         "mode": "markers",
         "selected": {
          "marker": {
           "size": 25
          }
         },
         "text": [
          "GEYLANG BAHRU MRT STATION"
         ],
         "type": "scattermapbox",
         "uid": "8b30c48c-9922-4d09-ba01-f433203061ce",
         "unselected": {
          "marker": {
           "color": "grey",
           "size": 5
          }
         }
        },
        {
         "lat": [
          1.313672528
         ],
         "lon": [
          103.8629776
         ],
         "marker": {
          "color": "red",
          "size": 10
         },
         "mode": "markers",
         "selected": {
          "marker": {
           "size": 25
          }
         },
         "text": [
          "BENDEMEER MRT STATION"
         ],
         "type": "scattermapbox",
         "uid": "0dd7bac9-a2a9-45ab-bd1c-b0a6779da939",
         "unselected": {
          "marker": {
           "color": "grey",
           "size": 5
          }
         }
        },
        {
         "lat": [
          1.298918434
         ],
         "lon": [
          103.8503538
         ],
         "marker": {
          "color": "orange",
          "size": 10
         },
         "mode": "markers",
         "selected": {
          "marker": {
           "size": 25
          }
         },
         "text": [
          "BENCOOLEN MRT STATION"
         ],
         "type": "scattermapbox",
         "uid": "e25da264-50fd-4ff9-a3e2-7fbd3a7dee14",
         "unselected": {
          "marker": {
           "color": "grey",
           "size": 5
          }
         }
        },
        {
         "lat": [
          1.292481948
         ],
         "lon": [
          103.8443314
         ],
         "marker": {
          "color": "purple",
          "size": 10
         },
         "mode": "markers",
         "selected": {
          "marker": {
           "size": 25
          }
         },
         "text": [
          "FORT CANNING MRT STATION"
         ],
         "type": "scattermapbox",
         "uid": "6952ef04-92e4-42eb-bded-d9a659e1ff78",
         "unselected": {
          "marker": {
           "color": "grey",
           "size": 5
          }
         }
        },
        {
         "lat": [
          1.33496736
         ],
         "lon": [
          103.9084593
         ],
         "marker": {
          "color": "yellow",
          "size": 10
         },
         "mode": "markers",
         "selected": {
          "marker": {
           "size": 25
          }
         },
         "text": [
          "KAKI BUKIT MRT STATION"
         ],
         "type": "scattermapbox",
         "uid": "5ebcebd8-e8cb-4bf5-85b3-5bea3ef3187b",
         "unselected": {
          "marker": {
           "color": "grey",
           "size": 5
          }
         }
        },
        {
         "lat": [
          1.305171388
         ],
         "lon": [
          103.8552957
         ],
         "marker": {
          "color": "blue",
          "size": 10
         },
         "mode": "markers",
         "selected": {
          "marker": {
           "size": 25
          }
         },
         "text": [
          "JALAN BESAR MRT STATION"
         ],
         "type": "scattermapbox",
         "uid": "e5eec3aa-6893-46ff-8039-9fba3464c39b",
         "unselected": {
          "marker": {
           "color": "grey",
           "size": 5
          }
         }
        },
        {
         "lat": [
          1.326876715
         ],
         "lon": [
          103.8832475
         ],
         "marker": {
          "color": "green",
          "size": 10
         },
         "mode": "markers",
         "selected": {
          "marker": {
           "size": 25
          }
         },
         "text": [
          "MATTAR MRT STATION"
         ],
         "type": "scattermapbox",
         "uid": "64055dfd-e829-4e36-bd6c-10f60d7fdda4",
         "unselected": {
          "marker": {
           "color": "grey",
           "size": 5
          }
         }
        },
        {
         "lat": [
          1.326150245
         ],
         "lon": [
          103.8892986
         ],
         "marker": {
          "color": "red",
          "size": 10
         },
         "mode": "markers",
         "selected": {
          "marker": {
           "size": 25
          }
         },
         "text": [
          "MACPHERSON MRT STATION"
         ],
         "type": "scattermapbox",
         "uid": "032b557c-b716-4b94-be97-7d933e24ae20",
         "unselected": {
          "marker": {
           "color": "grey",
           "size": 5
          }
         }
        },
        {
         "lat": [
          1.281873789
         ],
         "lon": [
          103.8590798
         ],
         "marker": {
          "color": "orange",
          "size": 10
         },
         "mode": "markers",
         "selected": {
          "marker": {
           "size": 25
          }
         },
         "text": [
          "BAYFRONT MRT STATION"
         ],
         "type": "scattermapbox",
         "uid": "ec74c64e-f32d-4809-aeda-8f06153de957",
         "unselected": {
          "marker": {
           "color": "grey",
           "size": 5
          }
         }
        },
        {
         "lat": [
          1.317439152
         ],
         "lon": [
          103.8073792
         ],
         "marker": {
          "color": "purple",
          "size": 10
         },
         "mode": "markers",
         "selected": {
          "marker": {
           "size": 25
          }
         },
         "text": [
          "FARRER ROAD MRT STATION"
         ],
         "type": "scattermapbox",
         "uid": "ebb11631-842d-4b6a-9b3a-f8cb618874a0",
         "unselected": {
          "marker": {
           "color": "grey",
           "size": 5
          }
         }
        },
        {
         "lat": [
          1.33315262
         ],
         "lon": [
          103.7422865
         ],
         "marker": {
          "color": "yellow",
          "size": 10
         },
         "mode": "markers",
         "selected": {
          "marker": {
           "size": 25
          }
         },
         "text": [
          "JURONG EAST MRT STATION"
         ],
         "type": "scattermapbox",
         "uid": "a91d6c66-7e15-48af-9dc7-9e8b9dc377e8",
         "unselected": {
          "marker": {
           "color": "grey",
           "size": 5
          }
         }
        },
        {
         "lat": [
          1.334742117
         ],
         "lon": [
          103.9179783
         ],
         "marker": {
          "color": "blue",
          "size": 10
         },
         "mode": "markers",
         "selected": {
          "marker": {
           "size": 25
          }
         },
         "text": [
          "BEDOK NORTH MRT STATION"
         ],
         "type": "scattermapbox",
         "uid": "f6a11fe2-6cc1-42f7-9a24-5691cca48a40",
         "unselected": {
          "marker": {
           "color": "grey",
           "size": 5
          }
         }
        },
        {
         "lat": [
          1.33660783
         ],
         "lon": [
          103.9322346
         ],
         "marker": {
          "color": "green",
          "size": 10
         },
         "mode": "markers",
         "selected": {
          "marker": {
           "size": 25
          }
         },
         "text": [
          "BEDOK RESERVOIR MRT STATION"
         ],
         "type": "scattermapbox",
         "uid": "c7efa37b-5654-4959-b19a-78838513d897",
         "unselected": {
          "marker": {
           "color": "grey",
           "size": 5
          }
         }
        },
        {
         "lat": [
          1.302422248
         ],
         "lon": [
          103.8238685
         ],
         "marker": {
          "color": "red",
          "size": 10
         },
         "mode": "markers",
         "selected": {
          "marker": {
           "size": 25
          }
         },
         "text": [
          "ORCHARD MRT STATION"
         ],
         "type": "scattermapbox",
         "uid": "480e7b41-4a73-4ad0-8e9e-b822c4b2060f",
         "unselected": {
          "marker": {
           "color": "grey",
           "size": 5
          }
         }
        },
        {
         "lat": [
          1.38550658
         ],
         "lon": [
          103.8357438
         ],
         "marker": {
          "color": "orange",
          "size": 10
         },
         "mode": "markers",
         "selected": {
          "marker": {
           "size": 25
          }
         },
         "text": [
          "LENTOR MRT STATION"
         ],
         "type": "scattermapbox",
         "uid": "894ad574-a2b3-4a34-915a-5bc470053a9a",
         "unselected": {
          "marker": {
           "color": "grey",
           "size": 5
          }
         }
        },
        {
         "lat": [
          1.363846766
         ],
         "lon": [
          103.8338992
         ],
         "marker": {
          "color": "purple",
          "size": 10
         },
         "mode": "markers",
         "selected": {
          "marker": {
           "size": 25
          }
         },
         "text": [
          "BRIGHT HILL MRT STATION"
         ],
         "type": "scattermapbox",
         "uid": "7295ca19-38a4-4503-80bf-d41065c7e81b",
         "unselected": {
          "marker": {
           "color": "grey",
           "size": 5
          }
         }
        },
        {
         "lat": [
          1.397581061
         ],
         "lon": [
          103.8178569
         ],
         "marker": {
          "color": "yellow",
          "size": 10
         },
         "mode": "markers",
         "selected": {
          "marker": {
           "size": 25
          }
         },
         "text": [
          "SPRINGLEAF MRT STATION"
         ],
         "type": "scattermapbox",
         "uid": "5f3090b0-9c5c-45df-b1a6-3c300425ec82",
         "unselected": {
          "marker": {
           "color": "grey",
           "size": 5
          }
         }
        },
        {
         "lat": [
          1.271027036
         ],
         "lon": [
          103.8624475
         ],
         "marker": {
          "color": "blue",
          "size": 10
         },
         "mode": "markers",
         "selected": {
          "marker": {
           "size": 25
          }
         },
         "text": [
          "MARINA SOUTH PIER MRT STATION"
         ],
         "type": "scattermapbox",
         "uid": "d3a2b9bd-bc3e-44e7-bd7b-ddcdec715349",
         "unselected": {
          "marker": {
           "color": "grey",
           "size": 5
          }
         }
        },
        {
         "lat": [
          1.443076641
         ],
         "lon": [
          103.8297026
         ],
         "marker": {
          "color": "green",
          "size": 10
         },
         "mode": "markers",
         "selected": {
          "marker": {
           "size": 25
          }
         },
         "text": [
          "CANBERRA MRT STATION"
         ],
         "type": "scattermapbox",
         "uid": "2fa6bdc4-da03-4fd9-b50b-f07b284f974c",
         "unselected": {
          "marker": {
           "color": "grey",
           "size": 5
          }
         }
        },
        {
         "lat": [
          1.427488114
         ],
         "lon": [
          103.7927299
         ],
         "marker": {
          "color": "red",
          "size": 10
         },
         "mode": "markers",
         "selected": {
          "marker": {
           "size": 25
          }
         },
         "text": [
          "WOODLANDS SOUTH MRT STATION"
         ],
         "type": "scattermapbox",
         "uid": "15a0636f-ede6-481d-b9cc-8fed73559101",
         "unselected": {
          "marker": {
           "color": "grey",
           "size": 5
          }
         }
        },
        {
         "lat": [
          1.447782173
         ],
         "lon": [
          103.7851355
         ],
         "marker": {
          "color": "orange",
          "size": 10
         },
         "mode": "markers",
         "selected": {
          "marker": {
           "size": 25
          }
         },
         "text": [
          "WOODLANDS NORTH MRT STATION"
         ],
         "type": "scattermapbox",
         "uid": "1f45478f-4e4b-43ee-8ae3-1c3943a00604",
         "unselected": {
          "marker": {
           "color": "grey",
           "size": 5
          }
         }
        },
        {
         "lat": [
          1.319470901
         ],
         "lon": [
          103.6605305
         ],
         "marker": {
          "color": "purple",
          "size": 10
         },
         "mode": "markers",
         "selected": {
          "marker": {
           "size": 25
          }
         },
         "text": [
          "GUL CIRCLE MRT STATION"
         ],
         "type": "scattermapbox",
         "uid": "5295bd25-e61c-479e-9ce6-3a63ae59739d",
         "unselected": {
          "marker": {
           "color": "grey",
           "size": 5
          }
         }
        },
        {
         "lat": [
          1.28850524
         ],
         "lon": [
          103.8335858
         ],
         "marker": {
          "color": "yellow",
          "size": 10
         },
         "mode": "markers",
         "selected": {
          "marker": {
           "size": 25
          }
         },
         "text": [
          "HAVELOCK MRT STATION"
         ],
         "type": "scattermapbox",
         "uid": "6ea622ac-5ab8-4dc5-94d4-39e6befd3c4b",
         "unselected": {
          "marker": {
           "color": "grey",
           "size": 5
          }
         }
        },
        {
         "lat": [
          1.306782234
         ],
         "lon": [
          103.8189568
         ],
         "marker": {
          "color": "blue",
          "size": 10
         },
         "mode": "markers",
         "selected": {
          "marker": {
           "size": 25
          }
         },
         "text": [
          "NAPIER MRT STATION"
         ],
         "type": "scattermapbox",
         "uid": "5494c0f9-4b4e-4840-b6a4-d9ba94da9788",
         "unselected": {
          "marker": {
           "color": "grey",
           "size": 5
          }
         }
        },
        {
         "lat": [
          1.277716828
         ],
         "lon": [
          103.8503676
         ],
         "marker": {
          "color": "green",
          "size": 10
         },
         "mode": "markers",
         "selected": {
          "marker": {
           "size": 25
          }
         },
         "text": [
          "SHENTON WAY MRT STATION"
         ],
         "type": "scattermapbox",
         "uid": "59db553e-290b-4a0b-8ec2-1ecc5dbd2e74",
         "unselected": {
          "marker": {
           "color": "grey",
           "size": 5
          }
         }
        },
        {
         "lat": [
          1.278487259
         ],
         "lon": [
          103.8674547
         ],
         "marker": {
          "color": "red",
          "size": 10
         },
         "mode": "markers",
         "selected": {
          "marker": {
           "size": 25
          }
         },
         "text": [
          "GARDENS BY THE BAY MRT STATION"
         ],
         "type": "scattermapbox",
         "uid": "18d03dd8-b22a-4b6e-9e63-d049bf8f7f6e",
         "unselected": {
          "marker": {
           "color": "grey",
           "size": 5
          }
         }
        },
        {
         "lat": [
          1.293316457
         ],
         "lon": [
          103.8339066
         ],
         "marker": {
          "color": "orange",
          "size": 10
         },
         "mode": "markers",
         "selected": {
          "marker": {
           "size": 25
          }
         },
         "text": [
          "GREAT WORLD MRT STATION"
         ],
         "type": "scattermapbox",
         "uid": "a5c5dee9-f596-462a-877e-869fa7e8d70e",
         "unselected": {
          "marker": {
           "color": "grey",
           "size": 5
          }
         }
        },
        {
         "lat": [
          1.280533298
         ],
         "lon": [
          103.8438837
         ],
         "marker": {
          "color": "purple",
          "size": 10
         },
         "mode": "markers",
         "selected": {
          "marker": {
           "size": 25
          }
         },
         "text": [
          "MAXWELL MRT STATION"
         ],
         "type": "scattermapbox",
         "uid": "61bc8035-b1af-4083-abec-d8e4cb4f639b",
         "unselected": {
          "marker": {
           "color": "grey",
           "size": 5
          }
         }
        },
        {
         "lat": [
          1.303623073
         ],
         "lon": [
          103.8236504
         ],
         "marker": {
          "color": "yellow",
          "size": 10
         },
         "mode": "markers",
         "selected": {
          "marker": {
           "size": 25
          }
         },
         "text": [
          "ORCHARD BOULEVARD MRT STATION"
         ],
         "type": "scattermapbox",
         "uid": "0491bd73-b775-4148-9016-b7b73419d305",
         "unselected": {
          "marker": {
           "color": "grey",
           "size": 5
          }
         }
        },
        {
         "lat": [
          1.270706478
         ],
         "lon": [
          103.8097616
         ],
         "marker": {
          "color": "blue",
          "size": 10
         },
         "mode": "markers",
         "selected": {
          "marker": {
           "size": 25
          }
         },
         "text": [
          "TELOK BLANGAH MRT STATION"
         ],
         "type": "scattermapbox",
         "uid": "69b94338-8132-41a6-a416-d4112083d8c3",
         "unselected": {
          "marker": {
           "color": "grey",
           "size": 5
          }
         }
        },
        {
         "lat": [
          1.376684679
         ],
         "lon": [
          103.7537122
         ],
         "marker": {
          "color": "green",
          "size": 10
         },
         "mode": "markers",
         "selected": {
          "marker": {
           "size": 25
          }
         },
         "text": [
          "TECK WHYE LRT STATION"
         ],
         "type": "scattermapbox",
         "uid": "758b16e1-cee9-4530-ae3e-fa009663c6c8",
         "unselected": {
          "marker": {
           "color": "grey",
           "size": 5
          }
         }
        },
        {
         "lat": [
          1.276568292
         ],
         "lon": [
          103.8460067
         ],
         "marker": {
          "color": "red",
          "size": 10
         },
         "mode": "markers",
         "selected": {
          "marker": {
           "size": 25
          }
         },
         "text": [
          "TANJONG PAGAR MRT STATION"
         ],
         "type": "scattermapbox",
         "uid": "7c534d9f-1eab-4797-9d98-8f48ff227abd",
         "unselected": {
          "marker": {
           "color": "grey",
           "size": 5
          }
         }
        },
        {
         "lat": [
          1.327310982
         ],
         "lon": [
          103.9464517
         ],
         "marker": {
          "color": "orange",
          "size": 10
         },
         "mode": "markers",
         "selected": {
          "marker": {
           "size": 25
          }
         },
         "text": [
          "TANAH MERAH MRT STATION"
         ],
         "type": "scattermapbox",
         "uid": "7016067f-28e2-4f1f-9afb-1e3a064f065c",
         "unselected": {
          "marker": {
           "color": "grey",
           "size": 5
          }
         }
        },
        {
         "lat": [
          1.326392241
         ],
         "lon": [
          103.8065482
         ],
         "marker": {
          "color": "purple",
          "size": 10
         },
         "mode": "markers",
         "selected": {
          "marker": {
           "size": 25
          }
         },
         "text": [
          "TAN KAH KEE MRT STATION"
         ],
         "type": "scattermapbox",
         "uid": "7e9b8f0f-29ff-4882-be95-00ae537b2627",
         "unselected": {
          "marker": {
           "color": "grey",
           "size": 5
          }
         }
        },
        {
         "lat": [
          1.354416434
         ],
         "lon": [
          103.8328985
         ],
         "marker": {
          "color": "yellow",
          "size": 10
         },
         "mode": "markers",
         "selected": {
          "marker": {
           "size": 25
          }
         },
         "text": [
          "UPPER THOMSON MRT STATION"
         ],
         "type": "scattermapbox",
         "uid": "98090ecb-6120-432a-b497-0cbfc3cc3979",
         "unselected": {
          "marker": {
           "color": "grey",
           "size": 5
          }
         }
        },
        {
         "lat": [
          1.371463188
         ],
         "lon": [
          103.8365678
         ],
         "marker": {
          "color": "blue",
          "size": 10
         },
         "mode": "markers",
         "selected": {
          "marker": {
           "size": 25
          }
         },
         "text": [
          "MAYFLOWER MRT STATION"
         ],
         "type": "scattermapbox",
         "uid": "2d8b2695-3dc8-46d1-a065-beb09538d2fe",
         "unselected": {
          "marker": {
           "color": "grey",
           "size": 5
          }
         }
        },
        {
         "fill": "toself",
         "hoverinfo": "text",
         "lat": [
          1.314885,
          1.314955,
          1.314995,
          1.316356,
          1.316507,
          1.316587,
          1.316656,
          1.316634,
          1.316794,
          1.318038,
          1.316943,
          1.316794,
          1.316128,
          1.316041,
          1.316306,
          1.316486,
          1.316735,
          1.316748,
          1.316794,
          1.318016,
          1.317391,
          1.317385,
          1.317865,
          1.316794,
          1.315314,
          1.315869,
          1.316201,
          1.314995,
          1.314919,
          1.314799,
          1.314198,
          1.313197,
          1.313132,
          1.313068,
          1.313174,
          1.313145,
          1.313197,
          1.314868,
          1.313387,
          1.313982,
          1.314052,
          1.313197,
          1.311991,
          1.311414,
          1.311497,
          1.311398,
          1.311392,
          1.31139,
          1.311053,
          1.311028,
          1.310834,
          1.3096,
          1.309212,
          1.308007,
          1.308003,
          1.308256,
          1.307949,
          1.3084,
          1.308667,
          1.308266,
          1.308417,
          1.307801,
          1.306843,
          1.306002,
          1.30548,
          1.305583,
          1.305107,
          1.304204,
          1.304032,
          1.302405,
          1.300982,
          1.300606,
          1.300313,
          1.299459,
          1.300606,
          1.301304,
          1.30106,
          1.300606,
          1.300443,
          1.298812,
          1.29881,
          1.299335,
          1.299179,
          1.298808,
          1.297667,
          1.297822,
          1.297399,
          1.297009,
          1.295963,
          1.29521,
          1.293811,
          1.293412,
          1.293073,
          1.291613,
          1.290462,
          1.291274,
          1.290449,
          1.289814,
          1.289368,
          1.289376,
          1.289814,
          1.290584,
          1.291613,
          1.291713,
          1.291672,
          1.291613,
          1.290806,
          1.290196,
          1.289904,
          1.289814,
          1.288366,
          1.288016,
          1.287753,
          1.286831,
          1.286289,
          1.286217,
          1.284848,
          1.284419,
          1.283646,
          1.28262,
          1.280995,
          1.282436,
          1.281195,
          1.280821,
          1.280543,
          1.280595,
          1.280611,
          1.280681,
          1.280709,
          1.280578,
          1.280051,
          1.279872,
          1.279949,
          1.280053,
          1.279827,
          1.279722,
          1.279939,
          1.280154,
          1.280084,
          1.280227,
          1.280232,
          1.280229,
          1.280728,
          1.280755,
          1.280686,
          1.280694,
          1.280821,
          1.281263,
          1.28262,
          1.282803,
          1.284419,
          1.284511,
          1.286217,
          1.287374,
          1.288016,
          1.288114,
          1.288124,
          1.288016,
          1.28781,
          1.286217,
          1.285768,
          1.286187,
          1.285623,
          1.284822,
          1.286217,
          1.286886,
          1.287562,
          1.287383,
          1.288016,
          1.288994,
          1.289814,
          1.290842,
          1.291613,
          1.293032,
          1.293412,
          1.295115,
          1.29378,
          1.294768,
          1.29521,
          1.296159,
          1.297009,
          1.298543,
          1.298808,
          1.299019,
          1.300606,
          1.30147,
          1.302405,
          1.30306,
          1.303869,
          1.304096,
          1.304204,
          1.304795,
          1.306002,
          1.306264,
          1.307801,
          1.309155,
          1.308189,
          1.309219,
          1.3096,
          1.311061,
          1.311216,
          1.311323,
          1.311398,
          1.312327,
          1.313197,
          1.314847,
          1.313783,
          1.314211,
          1.314885
         ],
         "line": {
          "color": "blue",
          "width": 1
         },
         "lon": [
          103.858766,
          103.858725,
          103.85868,
          103.858328,
          103.856967,
          103.85676,
          103.855167,
          103.855007,
          103.854225,
          103.854613,
          103.853368,
          103.853084,
          103.851569,
          103.850816,
          103.84977,
          103.849462,
          103.847971,
          103.847925,
          103.847782,
          103.847394,
          103.846172,
          103.844964,
          103.844373,
          103.843742,
          103.842574,
          103.841648,
          103.840775,
          103.839182,
          103.838975,
          103.838779,
          103.837176,
          103.835622,
          103.835377,
          103.835248,
          103.833578,
          103.833526,
          103.833217,
          103.833451,
          103.831779,
          103.830766,
          103.82998,
          103.828512,
          103.828774,
          103.82998,
          103.830078,
          103.829992,
          103.82998,
          103.829972,
          103.828181,
          103.827811,
          103.826382,
          103.82503,
          103.824583,
          103.82299,
          103.822783,
          103.82144,
          103.820984,
          103.819785,
          103.819185,
          103.817852,
          103.817386,
          103.816699,
          103.816428,
          103.816279,
          103.816863,
          103.817386,
          103.81829,
          103.819056,
          103.819013,
          103.818522,
          103.817386,
          103.816925,
          103.817093,
          103.817386,
          103.818136,
          103.819185,
          103.819639,
          103.820616,
          103.820822,
          103.820984,
          103.820987,
          103.822783,
          103.823155,
          103.823324,
          103.823442,
          103.824583,
          103.824973,
          103.825457,
          103.825336,
          103.825333,
          103.824583,
          103.824384,
          103.824244,
          103.824349,
          103.823431,
          103.824583,
          103.825217,
          103.826116,
          103.825935,
          103.826382,
          103.826542,
          103.827151,
          103.827979,
          103.828181,
          103.82824,
          103.82843,
          103.829173,
          103.82998,
          103.830069,
          103.830113,
          103.83033,
          103.831322,
          103.831516,
          103.831779,
          103.831851,
          103.831897,
          103.832209,
          103.832507,
          103.832805,
          103.833454,
          103.831953,
          103.833578,
          103.833952,
          103.835,
          103.835099,
          103.835377,
          103.836966,
          103.837176,
          103.838863,
          103.838975,
          103.840004,
          103.840775,
          103.841701,
          103.842574,
          103.843378,
          103.844373,
          103.845289,
          103.846172,
          103.847234,
          103.847971,
          103.849181,
          103.84977,
          103.851476,
          103.851569,
          103.853233,
          103.853368,
          103.85378,
          103.85381,
          103.854614,
          103.855167,
          103.855233,
          103.85526,
          103.855741,
          103.856967,
          103.858586,
          103.858766,
          103.858874,
          103.858873,
          103.858766,
          103.858184,
          103.858317,
          103.858766,
          103.859971,
          103.860565,
          103.861334,
          103.862364,
          103.863709,
          103.864163,
          103.865385,
          103.865141,
          103.865412,
          103.865191,
          103.865057,
          103.865582,
          103.864689,
          103.865866,
          103.864163,
          103.863721,
          103.863296,
          103.863313,
          103.863439,
          103.864163,
          103.865877,
          103.864374,
          103.865053,
          103.865027,
          103.864817,
          103.864819,
          103.864163,
          103.864055,
          103.864051,
          103.864163,
          103.864512,
          103.864424,
          103.864257,
          103.865518,
          103.864163,
          103.863782,
          103.863552,
          103.863826,
          103.862364,
          103.862289,
          103.862243,
          103.861494,
          103.861039,
          103.862216,
          103.860565,
          103.85978,
          103.858766
         ],
         "marker": {
          "size": 0
         },
         "mode": "lines",
         "name": "Isochrone 1.371463188, 103.8365678",
         "text": [
          "MAYFLOWER MRT STATION"
         ],
         "type": "scattermapbox",
         "uid": "7f5b3acb-edb6-4973-9d6b-88b4d4f28950"
        }
       ],
       "layout": {
        "clickmode": "event+select",
        "hovermode": "closest",
        "mapbox": {
         "center": {
          "lat": 1.293657725,
          "lon": 103.8550812
         },
         "style": "carto-positron",
         "zoom": 12
        },
        "showlegend": false,
        "template": {
         "data": {
          "bar": [
           {
            "error_x": {
             "color": "#2a3f5f"
            },
            "error_y": {
             "color": "#2a3f5f"
            },
            "marker": {
             "line": {
              "color": "#E5ECF6",
              "width": 0.5
             },
             "pattern": {
              "fillmode": "overlay",
              "size": 10,
              "solidity": 0.2
             }
            },
            "type": "bar"
           }
          ],
          "barpolar": [
           {
            "marker": {
             "line": {
              "color": "#E5ECF6",
              "width": 0.5
             },
             "pattern": {
              "fillmode": "overlay",
              "size": 10,
              "solidity": 0.2
             }
            },
            "type": "barpolar"
           }
          ],
          "carpet": [
           {
            "aaxis": {
             "endlinecolor": "#2a3f5f",
             "gridcolor": "white",
             "linecolor": "white",
             "minorgridcolor": "white",
             "startlinecolor": "#2a3f5f"
            },
            "baxis": {
             "endlinecolor": "#2a3f5f",
             "gridcolor": "white",
             "linecolor": "white",
             "minorgridcolor": "white",
             "startlinecolor": "#2a3f5f"
            },
            "type": "carpet"
           }
          ],
          "choropleth": [
           {
            "colorbar": {
             "outlinewidth": 0,
             "ticks": ""
            },
            "type": "choropleth"
           }
          ],
          "contour": [
           {
            "colorbar": {
             "outlinewidth": 0,
             "ticks": ""
            },
            "colorscale": [
             [
              0,
              "#0d0887"
             ],
             [
              0.1111111111111111,
              "#46039f"
             ],
             [
              0.2222222222222222,
              "#7201a8"
             ],
             [
              0.3333333333333333,
              "#9c179e"
             ],
             [
              0.4444444444444444,
              "#bd3786"
             ],
             [
              0.5555555555555556,
              "#d8576b"
             ],
             [
              0.6666666666666666,
              "#ed7953"
             ],
             [
              0.7777777777777778,
              "#fb9f3a"
             ],
             [
              0.8888888888888888,
              "#fdca26"
             ],
             [
              1,
              "#f0f921"
             ]
            ],
            "type": "contour"
           }
          ],
          "contourcarpet": [
           {
            "colorbar": {
             "outlinewidth": 0,
             "ticks": ""
            },
            "type": "contourcarpet"
           }
          ],
          "heatmap": [
           {
            "colorbar": {
             "outlinewidth": 0,
             "ticks": ""
            },
            "colorscale": [
             [
              0,
              "#0d0887"
             ],
             [
              0.1111111111111111,
              "#46039f"
             ],
             [
              0.2222222222222222,
              "#7201a8"
             ],
             [
              0.3333333333333333,
              "#9c179e"
             ],
             [
              0.4444444444444444,
              "#bd3786"
             ],
             [
              0.5555555555555556,
              "#d8576b"
             ],
             [
              0.6666666666666666,
              "#ed7953"
             ],
             [
              0.7777777777777778,
              "#fb9f3a"
             ],
             [
              0.8888888888888888,
              "#fdca26"
             ],
             [
              1,
              "#f0f921"
             ]
            ],
            "type": "heatmap"
           }
          ],
          "heatmapgl": [
           {
            "colorbar": {
             "outlinewidth": 0,
             "ticks": ""
            },
            "colorscale": [
             [
              0,
              "#0d0887"
             ],
             [
              0.1111111111111111,
              "#46039f"
             ],
             [
              0.2222222222222222,
              "#7201a8"
             ],
             [
              0.3333333333333333,
              "#9c179e"
             ],
             [
              0.4444444444444444,
              "#bd3786"
             ],
             [
              0.5555555555555556,
              "#d8576b"
             ],
             [
              0.6666666666666666,
              "#ed7953"
             ],
             [
              0.7777777777777778,
              "#fb9f3a"
             ],
             [
              0.8888888888888888,
              "#fdca26"
             ],
             [
              1,
              "#f0f921"
             ]
            ],
            "type": "heatmapgl"
           }
          ],
          "histogram": [
           {
            "marker": {
             "pattern": {
              "fillmode": "overlay",
              "size": 10,
              "solidity": 0.2
             }
            },
            "type": "histogram"
           }
          ],
          "histogram2d": [
           {
            "colorbar": {
             "outlinewidth": 0,
             "ticks": ""
            },
            "colorscale": [
             [
              0,
              "#0d0887"
             ],
             [
              0.1111111111111111,
              "#46039f"
             ],
             [
              0.2222222222222222,
              "#7201a8"
             ],
             [
              0.3333333333333333,
              "#9c179e"
             ],
             [
              0.4444444444444444,
              "#bd3786"
             ],
             [
              0.5555555555555556,
              "#d8576b"
             ],
             [
              0.6666666666666666,
              "#ed7953"
             ],
             [
              0.7777777777777778,
              "#fb9f3a"
             ],
             [
              0.8888888888888888,
              "#fdca26"
             ],
             [
              1,
              "#f0f921"
             ]
            ],
            "type": "histogram2d"
           }
          ],
          "histogram2dcontour": [
           {
            "colorbar": {
             "outlinewidth": 0,
             "ticks": ""
            },
            "colorscale": [
             [
              0,
              "#0d0887"
             ],
             [
              0.1111111111111111,
              "#46039f"
             ],
             [
              0.2222222222222222,
              "#7201a8"
             ],
             [
              0.3333333333333333,
              "#9c179e"
             ],
             [
              0.4444444444444444,
              "#bd3786"
             ],
             [
              0.5555555555555556,
              "#d8576b"
             ],
             [
              0.6666666666666666,
              "#ed7953"
             ],
             [
              0.7777777777777778,
              "#fb9f3a"
             ],
             [
              0.8888888888888888,
              "#fdca26"
             ],
             [
              1,
              "#f0f921"
             ]
            ],
            "type": "histogram2dcontour"
           }
          ],
          "mesh3d": [
           {
            "colorbar": {
             "outlinewidth": 0,
             "ticks": ""
            },
            "type": "mesh3d"
           }
          ],
          "parcoords": [
           {
            "line": {
             "colorbar": {
              "outlinewidth": 0,
              "ticks": ""
             }
            },
            "type": "parcoords"
           }
          ],
          "pie": [
           {
            "automargin": true,
            "type": "pie"
           }
          ],
          "scatter": [
           {
            "fillpattern": {
             "fillmode": "overlay",
             "size": 10,
             "solidity": 0.2
            },
            "type": "scatter"
           }
          ],
          "scatter3d": [
           {
            "line": {
             "colorbar": {
              "outlinewidth": 0,
              "ticks": ""
             }
            },
            "marker": {
             "colorbar": {
              "outlinewidth": 0,
              "ticks": ""
             }
            },
            "type": "scatter3d"
           }
          ],
          "scattercarpet": [
           {
            "marker": {
             "colorbar": {
              "outlinewidth": 0,
              "ticks": ""
             }
            },
            "type": "scattercarpet"
           }
          ],
          "scattergeo": [
           {
            "marker": {
             "colorbar": {
              "outlinewidth": 0,
              "ticks": ""
             }
            },
            "type": "scattergeo"
           }
          ],
          "scattergl": [
           {
            "marker": {
             "colorbar": {
              "outlinewidth": 0,
              "ticks": ""
             }
            },
            "type": "scattergl"
           }
          ],
          "scattermapbox": [
           {
            "marker": {
             "colorbar": {
              "outlinewidth": 0,
              "ticks": ""
             }
            },
            "type": "scattermapbox"
           }
          ],
          "scatterpolar": [
           {
            "marker": {
             "colorbar": {
              "outlinewidth": 0,
              "ticks": ""
             }
            },
            "type": "scatterpolar"
           }
          ],
          "scatterpolargl": [
           {
            "marker": {
             "colorbar": {
              "outlinewidth": 0,
              "ticks": ""
             }
            },
            "type": "scatterpolargl"
           }
          ],
          "scatterternary": [
           {
            "marker": {
             "colorbar": {
              "outlinewidth": 0,
              "ticks": ""
             }
            },
            "type": "scatterternary"
           }
          ],
          "surface": [
           {
            "colorbar": {
             "outlinewidth": 0,
             "ticks": ""
            },
            "colorscale": [
             [
              0,
              "#0d0887"
             ],
             [
              0.1111111111111111,
              "#46039f"
             ],
             [
              0.2222222222222222,
              "#7201a8"
             ],
             [
              0.3333333333333333,
              "#9c179e"
             ],
             [
              0.4444444444444444,
              "#bd3786"
             ],
             [
              0.5555555555555556,
              "#d8576b"
             ],
             [
              0.6666666666666666,
              "#ed7953"
             ],
             [
              0.7777777777777778,
              "#fb9f3a"
             ],
             [
              0.8888888888888888,
              "#fdca26"
             ],
             [
              1,
              "#f0f921"
             ]
            ],
            "type": "surface"
           }
          ],
          "table": [
           {
            "cells": {
             "fill": {
              "color": "#EBF0F8"
             },
             "line": {
              "color": "white"
             }
            },
            "header": {
             "fill": {
              "color": "#C8D4E3"
             },
             "line": {
              "color": "white"
             }
            },
            "type": "table"
           }
          ]
         },
         "layout": {
          "annotationdefaults": {
           "arrowcolor": "#2a3f5f",
           "arrowhead": 0,
           "arrowwidth": 1
          },
          "autotypenumbers": "strict",
          "coloraxis": {
           "colorbar": {
            "outlinewidth": 0,
            "ticks": ""
           }
          },
          "colorscale": {
           "diverging": [
            [
             0,
             "#8e0152"
            ],
            [
             0.1,
             "#c51b7d"
            ],
            [
             0.2,
             "#de77ae"
            ],
            [
             0.3,
             "#f1b6da"
            ],
            [
             0.4,
             "#fde0ef"
            ],
            [
             0.5,
             "#f7f7f7"
            ],
            [
             0.6,
             "#e6f5d0"
            ],
            [
             0.7,
             "#b8e186"
            ],
            [
             0.8,
             "#7fbc41"
            ],
            [
             0.9,
             "#4d9221"
            ],
            [
             1,
             "#276419"
            ]
           ],
           "sequential": [
            [
             0,
             "#0d0887"
            ],
            [
             0.1111111111111111,
             "#46039f"
            ],
            [
             0.2222222222222222,
             "#7201a8"
            ],
            [
             0.3333333333333333,
             "#9c179e"
            ],
            [
             0.4444444444444444,
             "#bd3786"
            ],
            [
             0.5555555555555556,
             "#d8576b"
            ],
            [
             0.6666666666666666,
             "#ed7953"
            ],
            [
             0.7777777777777778,
             "#fb9f3a"
            ],
            [
             0.8888888888888888,
             "#fdca26"
            ],
            [
             1,
             "#f0f921"
            ]
           ],
           "sequentialminus": [
            [
             0,
             "#0d0887"
            ],
            [
             0.1111111111111111,
             "#46039f"
            ],
            [
             0.2222222222222222,
             "#7201a8"
            ],
            [
             0.3333333333333333,
             "#9c179e"
            ],
            [
             0.4444444444444444,
             "#bd3786"
            ],
            [
             0.5555555555555556,
             "#d8576b"
            ],
            [
             0.6666666666666666,
             "#ed7953"
            ],
            [
             0.7777777777777778,
             "#fb9f3a"
            ],
            [
             0.8888888888888888,
             "#fdca26"
            ],
            [
             1,
             "#f0f921"
            ]
           ]
          },
          "colorway": [
           "#636efa",
           "#EF553B",
           "#00cc96",
           "#ab63fa",
           "#FFA15A",
           "#19d3f3",
           "#FF6692",
           "#B6E880",
           "#FF97FF",
           "#FECB52"
          ],
          "font": {
           "color": "#2a3f5f"
          },
          "geo": {
           "bgcolor": "white",
           "lakecolor": "white",
           "landcolor": "#E5ECF6",
           "showlakes": true,
           "showland": true,
           "subunitcolor": "white"
          },
          "hoverlabel": {
           "align": "left"
          },
          "hovermode": "closest",
          "mapbox": {
           "style": "light"
          },
          "paper_bgcolor": "white",
          "plot_bgcolor": "#E5ECF6",
          "polar": {
           "angularaxis": {
            "gridcolor": "white",
            "linecolor": "white",
            "ticks": ""
           },
           "bgcolor": "#E5ECF6",
           "radialaxis": {
            "gridcolor": "white",
            "linecolor": "white",
            "ticks": ""
           }
          },
          "scene": {
           "xaxis": {
            "backgroundcolor": "#E5ECF6",
            "gridcolor": "white",
            "gridwidth": 2,
            "linecolor": "white",
            "showbackground": true,
            "ticks": "",
            "zerolinecolor": "white"
           },
           "yaxis": {
            "backgroundcolor": "#E5ECF6",
            "gridcolor": "white",
            "gridwidth": 2,
            "linecolor": "white",
            "showbackground": true,
            "ticks": "",
            "zerolinecolor": "white"
           },
           "zaxis": {
            "backgroundcolor": "#E5ECF6",
            "gridcolor": "white",
            "gridwidth": 2,
            "linecolor": "white",
            "showbackground": true,
            "ticks": "",
            "zerolinecolor": "white"
           }
          },
          "shapedefaults": {
           "line": {
            "color": "#2a3f5f"
           }
          },
          "ternary": {
           "aaxis": {
            "gridcolor": "white",
            "linecolor": "white",
            "ticks": ""
           },
           "baxis": {
            "gridcolor": "white",
            "linecolor": "white",
            "ticks": ""
           },
           "bgcolor": "#E5ECF6",
           "caxis": {
            "gridcolor": "white",
            "linecolor": "white",
            "ticks": ""
           }
          },
          "title": {
           "x": 0.05
          },
          "xaxis": {
           "automargin": true,
           "gridcolor": "white",
           "linecolor": "white",
           "ticks": "",
           "title": {
            "standoff": 15
           },
           "zerolinecolor": "white",
           "zerolinewidth": 2
          },
          "yaxis": {
           "automargin": true,
           "gridcolor": "white",
           "linecolor": "white",
           "ticks": "",
           "title": {
            "standoff": 15
           },
           "zerolinecolor": "white",
           "zerolinewidth": 2
          }
         }
        }
       }
      }
     },
     "metadata": {},
     "output_type": "display_data"
    }
   ],
   "source": [
    "#Plotting out Isochrone\n",
    "import plotly.graph_objects as go\n",
    "# Create a Plotly figure\n",
    "fig = go.FigureWidget()\n",
    "fig.layout.hovermode = 'closest'\n",
    "default_linewidth = 2\n",
    "highlighted_linewidth = 3\n",
    "color_sequence = ['blue', 'green', 'red', 'orange', 'purple', 'yellow']\n",
    "\n",
    "# Fetch and add isochrones for each MRT station\n",
    "for index, (lat, lon) in enumerate(coords):\n",
    "    mrt_name = mrt_df[(mrt_df['Latitude'] == lat) & (mrt_df['Longitude'] == lon)]['MRT.Name'].iloc[0]\n",
    "    # Add isochrone as a trace\n",
    "    color = color_sequence[index%len(color_sequence)]\n",
    "    fig.add_trace(go.Scattermapbox(\n",
    "        mode=\"markers\",\n",
    "        lon=[lon],\n",
    "        lat=[lat],\n",
    "        text = [mrt_name],\n",
    "        marker=dict(size=10,color=color),\n",
    "        selected=go.scattermapbox.Selected(marker = {\"size\":25}),\n",
    "        unselected=go.scattermapbox.Unselected(marker = {\"color\":\"grey\", \"size\":5})\n",
    "    ))\n",
    "\n",
    "x = fetch_isochrone(1.298655224, 103.8461942, modes = \"BUS\", cutoff=\"40M\")\n",
    "features = x['features'][0]['geometry']['coordinates'][0][0]\n",
    "# Assuming coordinates are in [lon, lat] format\n",
    "lon_coords = [coord[0] for coord in features]\n",
    "lat_coords = [coord[1] for coord in features]\n",
    "fig.add_trace(go.Scattermapbox(\n",
    "                    mode=\"lines\",\n",
    "                    lon=lon_coords,\n",
    "                    lat=lat_coords,\n",
    "                    name=f\"Isochrone {lat}, {lon}\",\n",
    "                    line=dict(width=1, color=color),\n",
    "                    fill = \"toself\",\n",
    "                    marker=dict(size=0),\n",
    "                    text=[mrt_name],  # Set text for hover\n",
    "                    hoverinfo='text'\n",
    "                ))\n",
    "\n",
    "# Define layout for the map\n",
    "fig.update_layout(\n",
    "    clickmode='event+select',\n",
    "    mapbox_style=\"carto-positron\",\n",
    "    mapbox_zoom=12,\n",
    "    mapbox_center={\"lat\": coords[0][0], \"lon\": coords[0][1]},\n",
    "    showlegend = False\n",
    ")\n",
    "fig.show()"
   ]
  },
  {
   "cell_type": "markdown",
   "metadata": {},
   "source": [
    "DATA NEEDED:\n",
    "\n",
    "Isochrones: 10min-60min, 1min interval (ideal) else 5min interval\n",
    "\n",
    "1. BICYCLE\n",
    "2. BUS+ WALK\n",
    "3. RAIL+ WALK\n",
    "4. TRANSIT + WALK\n",
    "5. CAR"
   ]
  },
  {
   "cell_type": "markdown",
   "metadata": {},
   "source": [
    "Set up function for saving all isochrones by transport mode"
   ]
  },
  {
   "cell_type": "code",
   "execution_count": 12,
   "metadata": {},
   "outputs": [],
   "source": [
    "def fetch_all_isochrones(df, mode, interval):\n",
    "    \"\"\"Fetch and append bicycle isochrones for each MRT station and specified time intervals.\"\"\"\n",
    "    # Define the cutoff intervals (in seconds) - lets us choose 1, 5, or 10 minute intervals later on\n",
    "    cutoff_intervals = [f\"{x}M\" for x in range(10, 61, interval)]\n",
    "    \n",
    "    # Iterate over the cutoff intervals\n",
    "    for interval in cutoff_intervals:\n",
    "        # Define a column name for the interval\n",
    "        column_name = f\"isochrone_{interval}\"\n",
    "        # Initialize the column with empty lists\n",
    "        df[column_name] = None\n",
    "        \n",
    "        # Iterate over each row in the DataFrame\n",
    "        for index, row in df.iterrows():\n",
    "            # Fetch the isochrone GeoJSON for the current MRT station and cutoff interval\n",
    "            isochrone_geojson = fetch_isochrone(row['Latitude'], row['Longitude'], modes=mode, cutoff=interval )\n",
    "            \n",
    "            # Check if the response is not None\n",
    "            if isochrone_geojson:\n",
    "                # Extract the coordinates of the first feature (assuming single isochrone feature per request)\n",
    "                if 'features' in isochrone_geojson and len(isochrone_geojson['features']) > 0:\n",
    "                    features = isochrone_geojson['features'][0]['geometry']['coordinates'][0][0]\n",
    "                    # Assign the extracted features to the corresponding DataFrame cell\n",
    "                    df.at[index, column_name] = features\n",
    "                print(f\"Fetched isochrone for interval {interval}, MRT: {row['MRT.Name']}\")\n",
    "            else:\n",
    "                print(f\"Failed to fetch isochrone for interval {interval}, MRT: {row['MRT.Name']}\")\n",
    "    \n",
    "    return df\n",
    "\n",
    "# Note: Ensure that mrt_df already exists and contains 'MRT.Name', 'Latitude', and 'Longitude' columns\n"
   ]
  },
  {
   "cell_type": "code",
   "execution_count": null,
   "metadata": {},
   "outputs": [],
   "source": [
    "# Apply the function to the mrt_df DataFrame\n",
    "# bicycle_isochrones = mrt_df.copy()\n",
    "# bicycle_isochrones = fetch_all_isochrones(bicycle_isochrones, interval=5)\n",
    "# bicycle_isochrones.to_json('../../data/Isochrone_data/bicycle_isochrones.json', orient='records', lines=True, force_ascii=False)"
   ]
  },
  {
   "cell_type": "code",
   "execution_count": 13,
   "metadata": {},
   "outputs": [
    {
     "name": "stdout",
     "output_type": "stream",
     "text": [
      "Fetched isochrone for interval 10M, MRT: ESPLANADE MRT STATION\n",
      "Fetched isochrone for interval 10M, MRT: PAYA LEBAR MRT STATION\n",
      "Fetched isochrone for interval 10M, MRT: DHOBY GHAUT MRT STATION\n",
      "Fetched isochrone for interval 10M, MRT: DAKOTA MRT STATION\n",
      "Fetched isochrone for interval 10M, MRT: LAVENDER MRT STATION\n",
      "Fetched isochrone for interval 10M, MRT: RENJONG LRT STATION\n",
      "Fetched isochrone for interval 10M, MRT: DOVER MRT STATION\n",
      "Fetched isochrone for interval 10M, MRT: HOUGANG MRT STATION\n",
      "Fetched isochrone for interval 10M, MRT: PHOENIX LRT STATION\n",
      "Fetched isochrone for interval 10M, MRT: ALJUNIED MRT STATION\n",
      "Fetched isochrone for interval 10M, MRT: COVE LRT STATION\n",
      "Fetched isochrone for interval 10M, MRT: PASIR RIS MRT STATION\n",
      "Fetched isochrone for interval 10M, MRT: ADMIRALTY MRT STATION\n",
      "Fetched isochrone for interval 10M, MRT: KEMBANGAN MRT STATION\n",
      "Fetched isochrone for interval 10M, MRT: PUNGGOL POINT LRT STATION\n",
      "Fetched isochrone for interval 10M, MRT: MARSILING MRT STATION\n",
      "Fetched isochrone for interval 10M, MRT: COMPASSVALE LRT STATION\n",
      "Fetched isochrone for interval 10M, MRT: KHATIB MRT STATION\n",
      "Fetched isochrone for interval 10M, MRT: LAYAR LRT STATION\n",
      "Fetched isochrone for interval 10M, MRT: TAMPINES WEST MRT STATION\n",
      "Fetched isochrone for interval 10M, MRT: TAMPINES MRT STATION\n",
      "Fetched isochrone for interval 10M, MRT: TAMPINES EAST MRT STATION\n",
      "Fetched isochrone for interval 10M, MRT: TAI SENG MRT STATION\n",
      "Fetched isochrone for interval 10M, MRT: SUMANG LRT STATION\n",
      "Fetched isochrone for interval 10M, MRT: STEVENS MRT STATION\n",
      "Fetched isochrone for interval 10M, MRT: STADIUM MRT STATION\n",
      "Fetched isochrone for interval 10M, MRT: SIXTH AVENUE MRT STATION\n",
      "Fetched isochrone for interval 10M, MRT: SOUTH VIEW LRT STATION\n",
      "Fetched isochrone for interval 10M, MRT: SOO TECK LRT STATION\n",
      "Fetched isochrone for interval 10M, MRT: SOMERSET MRT STATION\n",
      "Fetched isochrone for interval 10M, MRT: SIMEI MRT STATION\n",
      "Fetched isochrone for interval 10M, MRT: SERANGOON MRT STATION\n",
      "Fetched isochrone for interval 10M, MRT: SENGKANG MRT STATION\n",
      "Fetched isochrone for interval 10M, MRT: BRADDELL MRT STATION\n",
      "Fetched isochrone for interval 10M, MRT: NOVENA MRT STATION\n",
      "Fetched isochrone for interval 10M, MRT: FARRER PARK MRT STATION\n",
      "Fetched isochrone for interval 10M, MRT: BEDOK MRT STATION\n",
      "Fetched isochrone for interval 10M, MRT: REDHILL MRT STATION\n",
      "Fetched isochrone for interval 10M, MRT: CHANGI AIRPORT MRT STATION\n",
      "Fetched isochrone for interval 10M, MRT: CORAL EDGE LRT STATION\n",
      "Fetched isochrone for interval 10M, MRT: CLEMENTI MRT STATION\n",
      "Fetched isochrone for interval 10M, MRT: BUKIT BATOK MRT STATION\n",
      "Fetched isochrone for interval 10M, MRT: OASIS LRT STATION\n",
      "Fetched isochrone for interval 10M, MRT: NIBONG LRT STATION\n",
      "Fetched isochrone for interval 10M, MRT: MERIDIAN LRT STATION\n",
      "Fetched isochrone for interval 10M, MRT: BUKIT GOMBAK MRT STATION\n",
      "Fetched isochrone for interval 10M, MRT: EUNOS MRT STATION\n",
      "Fetched isochrone for interval 10M, MRT: CHINESE GARDEN MRT STATION\n",
      "Fetched isochrone for interval 10M, MRT: KADALOOR LRT STATION\n",
      "Fetched isochrone for interval 10M, MRT: CHENG LIM LRT STATION\n",
      "Fetched isochrone for interval 10M, MRT: SAM KEE LRT STATION\n",
      "Fetched isochrone for interval 10M, MRT: KRANJI MRT STATION\n",
      "Fetched isochrone for interval 10M, MRT: ANG MO KIO MRT STATION\n",
      "Fetched isochrone for interval 10M, MRT: RIVIERA LRT STATION\n",
      "Fetched isochrone for interval 10M, MRT: BANGKIT LRT STATION\n",
      "Fetched isochrone for interval 10M, MRT: PASIR PANJANG MRT STATION\n",
      "Fetched isochrone for interval 10M, MRT: HOLLAND VILLAGE MRT STATION\n",
      "Fetched isochrone for interval 10M, MRT: LABRADOR PARK MRT STATION\n",
      "Fetched isochrone for interval 10M, MRT: BOTANIC GARDENS MRT STATION\n",
      "Fetched isochrone for interval 10M, MRT: ONE-NORTH MRT STATION\n",
      "Fetched isochrone for interval 10M, MRT: KENT RIDGE MRT STATION\n",
      "Fetched isochrone for interval 10M, MRT: HAW PAR VILLA MRT STATION\n",
      "Fetched isochrone for interval 10M, MRT: MARINA BAY MRT STATION\n",
      "Fetched isochrone for interval 10M, MRT: KING ALBERT PARK MRT STATION\n",
      "Fetched isochrone for interval 10M, MRT: LITTLE INDIA MRT STATION\n",
      "Fetched isochrone for interval 10M, MRT: ROCHOR MRT STATION\n",
      "Fetched isochrone for interval 10M, MRT: SENJA LRT STATION\n",
      "Fetched isochrone for interval 10M, MRT: MOUNTBATTEN MRT STATION\n",
      "Fetched isochrone for interval 10M, MRT: CHOA CHU KANG MRT STATION\n",
      "Fetched isochrone for interval 10M, MRT: BOON KENG MRT STATION\n",
      "Fetched isochrone for interval 10M, MRT: BARTLEY MRT STATION\n",
      "Fetched isochrone for interval 10M, MRT: SEGAR LRT STATION\n",
      "Fetched isochrone for interval 10M, MRT: HILLVIEW MRT STATION\n",
      "Fetched isochrone for interval 10M, MRT: BEAUTY WORLD MRT STATION\n",
      "Fetched isochrone for interval 10M, MRT: BUKIT PANJANG MRT STATION\n",
      "Fetched isochrone for interval 10M, MRT: CASHEW MRT STATION\n",
      "Fetched isochrone for interval 10M, MRT: JOO KOON MRT STATION\n",
      "Fetched isochrone for interval 10M, MRT: YEW TEE MRT STATION\n",
      "Fetched isochrone for interval 10M, MRT: YISHUN MRT STATION\n",
      "Fetched isochrone for interval 10M, MRT: YIO CHU KANG MRT STATION\n",
      "Fetched isochrone for interval 10M, MRT: WOODLEIGH MRT STATION\n",
      "Fetched isochrone for interval 10M, MRT: WOODLANDS MRT STATION\n",
      "Fetched isochrone for interval 10M, MRT: UPPER CHANGI MRT STATION\n",
      "Fetched isochrone for interval 10M, MRT: TELOK AYER MRT STATION\n",
      "Fetched isochrone for interval 10M, MRT: TONGKANG LRT STATION\n",
      "Fetched isochrone for interval 10M, MRT: UBI MRT STATION\n",
      "Fetched isochrone for interval 10M, MRT: TOA PAYOH MRT STATION\n",
      "Fetched isochrone for interval 10M, MRT: TIONG BAHRU MRT STATION\n",
      "Fetched isochrone for interval 10M, MRT: THANGGAM LRT STATION\n",
      "Fetched isochrone for interval 10M, MRT: PROMENADE MRT STATION\n",
      "Fetched isochrone for interval 10M, MRT: BRAS BASAH MRT STATION\n",
      "Fetched isochrone for interval 10M, MRT: NICOLL HIGHWAY MRT STATION\n",
      "Fetched isochrone for interval 10M, MRT: POTONG PASIR MRT STATION\n",
      "Fetched isochrone for interval 10M, MRT: LAKESIDE MRT STATION\n",
      "Fetched isochrone for interval 10M, MRT: SAMUDERA LRT STATION\n",
      "Fetched isochrone for interval 10M, MRT: RANGGUNG LRT STATION\n",
      "Fetched isochrone for interval 10M, MRT: SEMBAWANG MRT STATION\n",
      "Fetched isochrone for interval 10M, MRT: PUNGGOL LRT STATION\n",
      "Fetched isochrone for interval 10M, MRT: KANGKAR LRT STATION\n",
      "Fetched isochrone for interval 10M, MRT: PIONEER MRT STATION\n",
      "Fetched isochrone for interval 10M, MRT: BUGIS MRT STATION\n",
      "Fetched isochrone for interval 10M, MRT: NEWTON MRT STATION\n",
      "Fetched isochrone for interval 10M, MRT: BUONA VISTA MRT STATION\n",
      "Fetched isochrone for interval 10M, MRT: OUTRAM PARK MRT STATION\n",
      "Fetched isochrone for interval 10M, MRT: CHINATOWN MRT STATION\n",
      "Fetched isochrone for interval 10M, MRT: EXPO MRT STATION\n",
      "Fetched isochrone for interval 10M, MRT: RAFFLES PLACE MRT STATION\n",
      "Fetched isochrone for interval 10M, MRT: TUAS CRESCENT MRT STATION\n",
      "Fetched isochrone for interval 10M, MRT: TUAS LINK MRT STATION\n",
      "Fetched isochrone for interval 10M, MRT: TUAS WEST ROAD MRT STATION\n",
      "Fetched isochrone for interval 10M, MRT: CITY HALL MRT STATION\n",
      "Fetched isochrone for interval 10M, MRT: BISHAN MRT STATION\n",
      "Fetched isochrone for interval 10M, MRT: FERNVALE LRT STATION\n",
      "Fetched isochrone for interval 10M, MRT: PUNGGOL MRT STATION\n",
      "Fetched isochrone for interval 10M, MRT: BUANGKOK MRT STATION\n",
      "Fetched isochrone for interval 10M, MRT: BAKAU LRT STATION\n",
      "Fetched isochrone for interval 10M, MRT: FARMWAY LRT STATION\n",
      "Fetched isochrone for interval 10M, MRT: COMMONWEALTH MRT STATION\n",
      "Fetched isochrone for interval 10M, MRT: KUPANG LRT STATION\n",
      "Fetched isochrone for interval 10M, MRT: DAMAI LRT STATION\n",
      "Fetched isochrone for interval 10M, MRT: QUEENSTOWN MRT STATION\n",
      "Fetched isochrone for interval 10M, MRT: KALLANG MRT STATION\n",
      "Fetched isochrone for interval 10M, MRT: RUMBIA LRT STATION\n",
      "Fetched isochrone for interval 10M, MRT: PETIR LRT STATION\n",
      "Fetched isochrone for interval 10M, MRT: BOON LAY MRT STATION\n",
      "Fetched isochrone for interval 10M, MRT: KEAT HONG LRT STATION\n",
      "Fetched isochrone for interval 10M, MRT: JELAPANG LRT STATION\n",
      "Fetched isochrone for interval 10M, MRT: CHOA CHU KANG LRT STATION\n",
      "Fetched isochrone for interval 10M, MRT: SENGKANG LRT STATION\n",
      "Fetched isochrone for interval 10M, MRT: HARBOURFRONT MRT STATION\n",
      "Fetched isochrone for interval 10M, MRT: PENDING LRT STATION\n",
      "Fetched isochrone for interval 10M, MRT: CLARKE QUAY MRT STATION\n",
      "Fetched isochrone for interval 10M, MRT: BUKIT PANJANG LRT STATION\n",
      "Fetched isochrone for interval 10M, MRT: FAJAR LRT STATION\n",
      "Fetched isochrone for interval 10M, MRT: KOVAN MRT STATION\n",
      "Fetched isochrone for interval 10M, MRT: LORONG CHUAN MRT STATION\n",
      "Fetched isochrone for interval 10M, MRT: MARYMOUNT MRT STATION\n",
      "Fetched isochrone for interval 10M, MRT: CALDECOTT MRT STATION\n",
      "Fetched isochrone for interval 10M, MRT: DOWNTOWN MRT STATION\n",
      "Fetched isochrone for interval 10M, MRT: GEYLANG BAHRU MRT STATION\n",
      "Fetched isochrone for interval 10M, MRT: BENDEMEER MRT STATION\n",
      "Fetched isochrone for interval 10M, MRT: BENCOOLEN MRT STATION\n",
      "Fetched isochrone for interval 10M, MRT: FORT CANNING MRT STATION\n",
      "Fetched isochrone for interval 10M, MRT: KAKI BUKIT MRT STATION\n",
      "Fetched isochrone for interval 10M, MRT: JALAN BESAR MRT STATION\n",
      "Fetched isochrone for interval 10M, MRT: MATTAR MRT STATION\n",
      "Fetched isochrone for interval 10M, MRT: MACPHERSON MRT STATION\n",
      "Fetched isochrone for interval 10M, MRT: BAYFRONT MRT STATION\n",
      "Fetched isochrone for interval 10M, MRT: FARRER ROAD MRT STATION\n",
      "Fetched isochrone for interval 10M, MRT: JURONG EAST MRT STATION\n",
      "Fetched isochrone for interval 10M, MRT: BEDOK NORTH MRT STATION\n",
      "Fetched isochrone for interval 10M, MRT: BEDOK RESERVOIR MRT STATION\n",
      "Fetched isochrone for interval 10M, MRT: ORCHARD MRT STATION\n",
      "Fetched isochrone for interval 10M, MRT: LENTOR MRT STATION\n",
      "Fetched isochrone for interval 10M, MRT: BRIGHT HILL MRT STATION\n",
      "Fetched isochrone for interval 10M, MRT: SPRINGLEAF MRT STATION\n",
      "Fetched isochrone for interval 10M, MRT: MARINA SOUTH PIER MRT STATION\n",
      "Fetched isochrone for interval 10M, MRT: CANBERRA MRT STATION\n",
      "Fetched isochrone for interval 10M, MRT: WOODLANDS SOUTH MRT STATION\n",
      "Fetched isochrone for interval 10M, MRT: WOODLANDS NORTH MRT STATION\n",
      "Fetched isochrone for interval 10M, MRT: GUL CIRCLE MRT STATION\n",
      "Fetched isochrone for interval 10M, MRT: HAVELOCK MRT STATION\n",
      "Fetched isochrone for interval 10M, MRT: NAPIER MRT STATION\n",
      "Fetched isochrone for interval 10M, MRT: SHENTON WAY MRT STATION\n",
      "Fetched isochrone for interval 10M, MRT: GARDENS BY THE BAY MRT STATION\n",
      "Fetched isochrone for interval 10M, MRT: GREAT WORLD MRT STATION\n",
      "Fetched isochrone for interval 10M, MRT: MAXWELL MRT STATION\n",
      "Fetched isochrone for interval 10M, MRT: ORCHARD BOULEVARD MRT STATION\n",
      "Fetched isochrone for interval 10M, MRT: TELOK BLANGAH MRT STATION\n",
      "Fetched isochrone for interval 10M, MRT: TECK WHYE LRT STATION\n",
      "Fetched isochrone for interval 10M, MRT: TANJONG PAGAR MRT STATION\n",
      "Fetched isochrone for interval 10M, MRT: TANAH MERAH MRT STATION\n",
      "Fetched isochrone for interval 10M, MRT: TAN KAH KEE MRT STATION\n",
      "Fetched isochrone for interval 10M, MRT: UPPER THOMSON MRT STATION\n",
      "Fetched isochrone for interval 10M, MRT: MAYFLOWER MRT STATION\n",
      "Fetched isochrone for interval 15M, MRT: ESPLANADE MRT STATION\n",
      "Fetched isochrone for interval 15M, MRT: PAYA LEBAR MRT STATION\n",
      "Fetched isochrone for interval 15M, MRT: DHOBY GHAUT MRT STATION\n",
      "Fetched isochrone for interval 15M, MRT: DAKOTA MRT STATION\n",
      "Fetched isochrone for interval 15M, MRT: LAVENDER MRT STATION\n",
      "Fetched isochrone for interval 15M, MRT: RENJONG LRT STATION\n",
      "Fetched isochrone for interval 15M, MRT: DOVER MRT STATION\n",
      "Fetched isochrone for interval 15M, MRT: HOUGANG MRT STATION\n",
      "Fetched isochrone for interval 15M, MRT: PHOENIX LRT STATION\n",
      "Fetched isochrone for interval 15M, MRT: ALJUNIED MRT STATION\n",
      "Fetched isochrone for interval 15M, MRT: COVE LRT STATION\n",
      "Fetched isochrone for interval 15M, MRT: PASIR RIS MRT STATION\n",
      "Fetched isochrone for interval 15M, MRT: ADMIRALTY MRT STATION\n",
      "Fetched isochrone for interval 15M, MRT: KEMBANGAN MRT STATION\n",
      "Fetched isochrone for interval 15M, MRT: PUNGGOL POINT LRT STATION\n",
      "Fetched isochrone for interval 15M, MRT: MARSILING MRT STATION\n",
      "Fetched isochrone for interval 15M, MRT: COMPASSVALE LRT STATION\n",
      "Fetched isochrone for interval 15M, MRT: KHATIB MRT STATION\n",
      "Fetched isochrone for interval 15M, MRT: LAYAR LRT STATION\n",
      "Fetched isochrone for interval 15M, MRT: TAMPINES WEST MRT STATION\n",
      "Fetched isochrone for interval 15M, MRT: TAMPINES MRT STATION\n",
      "Fetched isochrone for interval 15M, MRT: TAMPINES EAST MRT STATION\n",
      "Fetched isochrone for interval 15M, MRT: TAI SENG MRT STATION\n",
      "Fetched isochrone for interval 15M, MRT: SUMANG LRT STATION\n",
      "Fetched isochrone for interval 15M, MRT: STEVENS MRT STATION\n",
      "Fetched isochrone for interval 15M, MRT: STADIUM MRT STATION\n",
      "Fetched isochrone for interval 15M, MRT: SIXTH AVENUE MRT STATION\n",
      "Fetched isochrone for interval 15M, MRT: SOUTH VIEW LRT STATION\n",
      "Fetched isochrone for interval 15M, MRT: SOO TECK LRT STATION\n",
      "Fetched isochrone for interval 15M, MRT: SOMERSET MRT STATION\n",
      "Fetched isochrone for interval 15M, MRT: SIMEI MRT STATION\n",
      "Fetched isochrone for interval 15M, MRT: SERANGOON MRT STATION\n",
      "Fetched isochrone for interval 15M, MRT: SENGKANG MRT STATION\n",
      "Fetched isochrone for interval 15M, MRT: BRADDELL MRT STATION\n",
      "Fetched isochrone for interval 15M, MRT: NOVENA MRT STATION\n",
      "Fetched isochrone for interval 15M, MRT: FARRER PARK MRT STATION\n",
      "Fetched isochrone for interval 15M, MRT: BEDOK MRT STATION\n",
      "Fetched isochrone for interval 15M, MRT: REDHILL MRT STATION\n",
      "Fetched isochrone for interval 15M, MRT: CHANGI AIRPORT MRT STATION\n",
      "Fetched isochrone for interval 15M, MRT: CORAL EDGE LRT STATION\n",
      "Fetched isochrone for interval 15M, MRT: CLEMENTI MRT STATION\n",
      "Fetched isochrone for interval 15M, MRT: BUKIT BATOK MRT STATION\n",
      "Fetched isochrone for interval 15M, MRT: OASIS LRT STATION\n",
      "Fetched isochrone for interval 15M, MRT: NIBONG LRT STATION\n",
      "Fetched isochrone for interval 15M, MRT: MERIDIAN LRT STATION\n",
      "Fetched isochrone for interval 15M, MRT: BUKIT GOMBAK MRT STATION\n",
      "Fetched isochrone for interval 15M, MRT: EUNOS MRT STATION\n",
      "Fetched isochrone for interval 15M, MRT: CHINESE GARDEN MRT STATION\n",
      "Fetched isochrone for interval 15M, MRT: KADALOOR LRT STATION\n",
      "Fetched isochrone for interval 15M, MRT: CHENG LIM LRT STATION\n",
      "Fetched isochrone for interval 15M, MRT: SAM KEE LRT STATION\n",
      "Fetched isochrone for interval 15M, MRT: KRANJI MRT STATION\n",
      "Fetched isochrone for interval 15M, MRT: ANG MO KIO MRT STATION\n",
      "Fetched isochrone for interval 15M, MRT: RIVIERA LRT STATION\n",
      "Fetched isochrone for interval 15M, MRT: BANGKIT LRT STATION\n",
      "Fetched isochrone for interval 15M, MRT: PASIR PANJANG MRT STATION\n",
      "Fetched isochrone for interval 15M, MRT: HOLLAND VILLAGE MRT STATION\n",
      "Fetched isochrone for interval 15M, MRT: LABRADOR PARK MRT STATION\n",
      "Fetched isochrone for interval 15M, MRT: BOTANIC GARDENS MRT STATION\n",
      "Fetched isochrone for interval 15M, MRT: ONE-NORTH MRT STATION\n",
      "Fetched isochrone for interval 15M, MRT: KENT RIDGE MRT STATION\n",
      "Fetched isochrone for interval 15M, MRT: HAW PAR VILLA MRT STATION\n",
      "Fetched isochrone for interval 15M, MRT: MARINA BAY MRT STATION\n",
      "Fetched isochrone for interval 15M, MRT: KING ALBERT PARK MRT STATION\n",
      "Fetched isochrone for interval 15M, MRT: LITTLE INDIA MRT STATION\n",
      "Fetched isochrone for interval 15M, MRT: ROCHOR MRT STATION\n",
      "Fetched isochrone for interval 15M, MRT: SENJA LRT STATION\n",
      "Fetched isochrone for interval 15M, MRT: MOUNTBATTEN MRT STATION\n",
      "Fetched isochrone for interval 15M, MRT: CHOA CHU KANG MRT STATION\n",
      "Fetched isochrone for interval 15M, MRT: BOON KENG MRT STATION\n",
      "Fetched isochrone for interval 15M, MRT: BARTLEY MRT STATION\n",
      "Fetched isochrone for interval 15M, MRT: SEGAR LRT STATION\n",
      "Fetched isochrone for interval 15M, MRT: HILLVIEW MRT STATION\n",
      "Fetched isochrone for interval 15M, MRT: BEAUTY WORLD MRT STATION\n",
      "Fetched isochrone for interval 15M, MRT: BUKIT PANJANG MRT STATION\n",
      "Fetched isochrone for interval 15M, MRT: CASHEW MRT STATION\n",
      "Fetched isochrone for interval 15M, MRT: JOO KOON MRT STATION\n",
      "Fetched isochrone for interval 15M, MRT: YEW TEE MRT STATION\n",
      "Fetched isochrone for interval 15M, MRT: YISHUN MRT STATION\n",
      "Fetched isochrone for interval 15M, MRT: YIO CHU KANG MRT STATION\n",
      "Fetched isochrone for interval 15M, MRT: WOODLEIGH MRT STATION\n",
      "Fetched isochrone for interval 15M, MRT: WOODLANDS MRT STATION\n",
      "Fetched isochrone for interval 15M, MRT: UPPER CHANGI MRT STATION\n",
      "Fetched isochrone for interval 15M, MRT: TELOK AYER MRT STATION\n",
      "Fetched isochrone for interval 15M, MRT: TONGKANG LRT STATION\n",
      "Fetched isochrone for interval 15M, MRT: UBI MRT STATION\n",
      "Fetched isochrone for interval 15M, MRT: TOA PAYOH MRT STATION\n",
      "Fetched isochrone for interval 15M, MRT: TIONG BAHRU MRT STATION\n",
      "Fetched isochrone for interval 15M, MRT: THANGGAM LRT STATION\n",
      "Fetched isochrone for interval 15M, MRT: PROMENADE MRT STATION\n",
      "Fetched isochrone for interval 15M, MRT: BRAS BASAH MRT STATION\n",
      "Fetched isochrone for interval 15M, MRT: NICOLL HIGHWAY MRT STATION\n",
      "Fetched isochrone for interval 15M, MRT: POTONG PASIR MRT STATION\n",
      "Fetched isochrone for interval 15M, MRT: LAKESIDE MRT STATION\n",
      "Fetched isochrone for interval 15M, MRT: SAMUDERA LRT STATION\n",
      "Fetched isochrone for interval 15M, MRT: RANGGUNG LRT STATION\n",
      "Fetched isochrone for interval 15M, MRT: SEMBAWANG MRT STATION\n",
      "Fetched isochrone for interval 15M, MRT: PUNGGOL LRT STATION\n",
      "Fetched isochrone for interval 15M, MRT: KANGKAR LRT STATION\n",
      "Fetched isochrone for interval 15M, MRT: PIONEER MRT STATION\n",
      "Fetched isochrone for interval 15M, MRT: BUGIS MRT STATION\n",
      "Fetched isochrone for interval 15M, MRT: NEWTON MRT STATION\n",
      "Fetched isochrone for interval 15M, MRT: BUONA VISTA MRT STATION\n",
      "Fetched isochrone for interval 15M, MRT: OUTRAM PARK MRT STATION\n",
      "Fetched isochrone for interval 15M, MRT: CHINATOWN MRT STATION\n",
      "Fetched isochrone for interval 15M, MRT: EXPO MRT STATION\n",
      "Fetched isochrone for interval 15M, MRT: RAFFLES PLACE MRT STATION\n",
      "Fetched isochrone for interval 15M, MRT: TUAS CRESCENT MRT STATION\n",
      "Fetched isochrone for interval 15M, MRT: TUAS LINK MRT STATION\n",
      "Fetched isochrone for interval 15M, MRT: TUAS WEST ROAD MRT STATION\n",
      "Fetched isochrone for interval 15M, MRT: CITY HALL MRT STATION\n",
      "Fetched isochrone for interval 15M, MRT: BISHAN MRT STATION\n",
      "Fetched isochrone for interval 15M, MRT: FERNVALE LRT STATION\n",
      "Fetched isochrone for interval 15M, MRT: PUNGGOL MRT STATION\n",
      "Fetched isochrone for interval 15M, MRT: BUANGKOK MRT STATION\n",
      "Fetched isochrone for interval 15M, MRT: BAKAU LRT STATION\n",
      "Fetched isochrone for interval 15M, MRT: FARMWAY LRT STATION\n",
      "Fetched isochrone for interval 15M, MRT: COMMONWEALTH MRT STATION\n",
      "Fetched isochrone for interval 15M, MRT: KUPANG LRT STATION\n",
      "Fetched isochrone for interval 15M, MRT: DAMAI LRT STATION\n",
      "Fetched isochrone for interval 15M, MRT: QUEENSTOWN MRT STATION\n",
      "Fetched isochrone for interval 15M, MRT: KALLANG MRT STATION\n",
      "Fetched isochrone for interval 15M, MRT: RUMBIA LRT STATION\n",
      "Fetched isochrone for interval 15M, MRT: PETIR LRT STATION\n",
      "Fetched isochrone for interval 15M, MRT: BOON LAY MRT STATION\n",
      "Fetched isochrone for interval 15M, MRT: KEAT HONG LRT STATION\n",
      "Fetched isochrone for interval 15M, MRT: JELAPANG LRT STATION\n",
      "Fetched isochrone for interval 15M, MRT: CHOA CHU KANG LRT STATION\n",
      "Fetched isochrone for interval 15M, MRT: SENGKANG LRT STATION\n",
      "Fetched isochrone for interval 15M, MRT: HARBOURFRONT MRT STATION\n",
      "Fetched isochrone for interval 15M, MRT: PENDING LRT STATION\n",
      "Fetched isochrone for interval 15M, MRT: CLARKE QUAY MRT STATION\n",
      "Fetched isochrone for interval 15M, MRT: BUKIT PANJANG LRT STATION\n",
      "Fetched isochrone for interval 15M, MRT: FAJAR LRT STATION\n",
      "Fetched isochrone for interval 15M, MRT: KOVAN MRT STATION\n",
      "Fetched isochrone for interval 15M, MRT: LORONG CHUAN MRT STATION\n",
      "Fetched isochrone for interval 15M, MRT: MARYMOUNT MRT STATION\n",
      "Fetched isochrone for interval 15M, MRT: CALDECOTT MRT STATION\n",
      "Fetched isochrone for interval 15M, MRT: DOWNTOWN MRT STATION\n",
      "Fetched isochrone for interval 15M, MRT: GEYLANG BAHRU MRT STATION\n",
      "Fetched isochrone for interval 15M, MRT: BENDEMEER MRT STATION\n",
      "Fetched isochrone for interval 15M, MRT: BENCOOLEN MRT STATION\n",
      "Fetched isochrone for interval 15M, MRT: FORT CANNING MRT STATION\n",
      "Fetched isochrone for interval 15M, MRT: KAKI BUKIT MRT STATION\n",
      "Fetched isochrone for interval 15M, MRT: JALAN BESAR MRT STATION\n",
      "Fetched isochrone for interval 15M, MRT: MATTAR MRT STATION\n",
      "Fetched isochrone for interval 15M, MRT: MACPHERSON MRT STATION\n",
      "Fetched isochrone for interval 15M, MRT: BAYFRONT MRT STATION\n",
      "Fetched isochrone for interval 15M, MRT: FARRER ROAD MRT STATION\n",
      "Fetched isochrone for interval 15M, MRT: JURONG EAST MRT STATION\n",
      "Fetched isochrone for interval 15M, MRT: BEDOK NORTH MRT STATION\n",
      "Fetched isochrone for interval 15M, MRT: BEDOK RESERVOIR MRT STATION\n",
      "Fetched isochrone for interval 15M, MRT: ORCHARD MRT STATION\n",
      "Fetched isochrone for interval 15M, MRT: LENTOR MRT STATION\n",
      "Fetched isochrone for interval 15M, MRT: BRIGHT HILL MRT STATION\n",
      "Fetched isochrone for interval 15M, MRT: SPRINGLEAF MRT STATION\n",
      "Fetched isochrone for interval 15M, MRT: MARINA SOUTH PIER MRT STATION\n",
      "Fetched isochrone for interval 15M, MRT: CANBERRA MRT STATION\n",
      "Fetched isochrone for interval 15M, MRT: WOODLANDS SOUTH MRT STATION\n",
      "Fetched isochrone for interval 15M, MRT: WOODLANDS NORTH MRT STATION\n",
      "Fetched isochrone for interval 15M, MRT: GUL CIRCLE MRT STATION\n",
      "Fetched isochrone for interval 15M, MRT: HAVELOCK MRT STATION\n",
      "Fetched isochrone for interval 15M, MRT: NAPIER MRT STATION\n",
      "Fetched isochrone for interval 15M, MRT: SHENTON WAY MRT STATION\n",
      "Fetched isochrone for interval 15M, MRT: GARDENS BY THE BAY MRT STATION\n",
      "Fetched isochrone for interval 15M, MRT: GREAT WORLD MRT STATION\n",
      "Fetched isochrone for interval 15M, MRT: MAXWELL MRT STATION\n",
      "Fetched isochrone for interval 15M, MRT: ORCHARD BOULEVARD MRT STATION\n",
      "Fetched isochrone for interval 15M, MRT: TELOK BLANGAH MRT STATION\n",
      "Fetched isochrone for interval 15M, MRT: TECK WHYE LRT STATION\n",
      "Fetched isochrone for interval 15M, MRT: TANJONG PAGAR MRT STATION\n",
      "Fetched isochrone for interval 15M, MRT: TANAH MERAH MRT STATION\n",
      "Fetched isochrone for interval 15M, MRT: TAN KAH KEE MRT STATION\n",
      "Fetched isochrone for interval 15M, MRT: UPPER THOMSON MRT STATION\n",
      "Fetched isochrone for interval 15M, MRT: MAYFLOWER MRT STATION\n",
      "Fetched isochrone for interval 20M, MRT: ESPLANADE MRT STATION\n",
      "Fetched isochrone for interval 20M, MRT: PAYA LEBAR MRT STATION\n",
      "Fetched isochrone for interval 20M, MRT: DHOBY GHAUT MRT STATION\n",
      "Fetched isochrone for interval 20M, MRT: DAKOTA MRT STATION\n",
      "Fetched isochrone for interval 20M, MRT: LAVENDER MRT STATION\n",
      "Fetched isochrone for interval 20M, MRT: RENJONG LRT STATION\n",
      "Fetched isochrone for interval 20M, MRT: DOVER MRT STATION\n",
      "Fetched isochrone for interval 20M, MRT: HOUGANG MRT STATION\n",
      "Fetched isochrone for interval 20M, MRT: PHOENIX LRT STATION\n",
      "Fetched isochrone for interval 20M, MRT: ALJUNIED MRT STATION\n",
      "Fetched isochrone for interval 20M, MRT: COVE LRT STATION\n",
      "Fetched isochrone for interval 20M, MRT: PASIR RIS MRT STATION\n",
      "Fetched isochrone for interval 20M, MRT: ADMIRALTY MRT STATION\n",
      "Fetched isochrone for interval 20M, MRT: KEMBANGAN MRT STATION\n",
      "Fetched isochrone for interval 20M, MRT: PUNGGOL POINT LRT STATION\n",
      "Fetched isochrone for interval 20M, MRT: MARSILING MRT STATION\n",
      "Fetched isochrone for interval 20M, MRT: COMPASSVALE LRT STATION\n",
      "Fetched isochrone for interval 20M, MRT: KHATIB MRT STATION\n",
      "Fetched isochrone for interval 20M, MRT: LAYAR LRT STATION\n",
      "Fetched isochrone for interval 20M, MRT: TAMPINES WEST MRT STATION\n",
      "Fetched isochrone for interval 20M, MRT: TAMPINES MRT STATION\n",
      "Fetched isochrone for interval 20M, MRT: TAMPINES EAST MRT STATION\n",
      "Fetched isochrone for interval 20M, MRT: TAI SENG MRT STATION\n",
      "Fetched isochrone for interval 20M, MRT: SUMANG LRT STATION\n",
      "Fetched isochrone for interval 20M, MRT: STEVENS MRT STATION\n",
      "Fetched isochrone for interval 20M, MRT: STADIUM MRT STATION\n",
      "Fetched isochrone for interval 20M, MRT: SIXTH AVENUE MRT STATION\n",
      "Fetched isochrone for interval 20M, MRT: SOUTH VIEW LRT STATION\n",
      "Fetched isochrone for interval 20M, MRT: SOO TECK LRT STATION\n",
      "Fetched isochrone for interval 20M, MRT: SOMERSET MRT STATION\n",
      "Fetched isochrone for interval 20M, MRT: SIMEI MRT STATION\n",
      "Fetched isochrone for interval 20M, MRT: SERANGOON MRT STATION\n",
      "Fetched isochrone for interval 20M, MRT: SENGKANG MRT STATION\n",
      "Fetched isochrone for interval 20M, MRT: BRADDELL MRT STATION\n",
      "Fetched isochrone for interval 20M, MRT: NOVENA MRT STATION\n",
      "Fetched isochrone for interval 20M, MRT: FARRER PARK MRT STATION\n",
      "Fetched isochrone for interval 20M, MRT: BEDOK MRT STATION\n",
      "Fetched isochrone for interval 20M, MRT: REDHILL MRT STATION\n",
      "Fetched isochrone for interval 20M, MRT: CHANGI AIRPORT MRT STATION\n",
      "Fetched isochrone for interval 20M, MRT: CORAL EDGE LRT STATION\n",
      "Fetched isochrone for interval 20M, MRT: CLEMENTI MRT STATION\n",
      "Fetched isochrone for interval 20M, MRT: BUKIT BATOK MRT STATION\n",
      "Fetched isochrone for interval 20M, MRT: OASIS LRT STATION\n",
      "Fetched isochrone for interval 20M, MRT: NIBONG LRT STATION\n",
      "Fetched isochrone for interval 20M, MRT: MERIDIAN LRT STATION\n",
      "Fetched isochrone for interval 20M, MRT: BUKIT GOMBAK MRT STATION\n",
      "Fetched isochrone for interval 20M, MRT: EUNOS MRT STATION\n",
      "Fetched isochrone for interval 20M, MRT: CHINESE GARDEN MRT STATION\n",
      "Fetched isochrone for interval 20M, MRT: KADALOOR LRT STATION\n",
      "Fetched isochrone for interval 20M, MRT: CHENG LIM LRT STATION\n",
      "Fetched isochrone for interval 20M, MRT: SAM KEE LRT STATION\n",
      "Fetched isochrone for interval 20M, MRT: KRANJI MRT STATION\n",
      "Fetched isochrone for interval 20M, MRT: ANG MO KIO MRT STATION\n",
      "Fetched isochrone for interval 20M, MRT: RIVIERA LRT STATION\n",
      "Fetched isochrone for interval 20M, MRT: BANGKIT LRT STATION\n",
      "Fetched isochrone for interval 20M, MRT: PASIR PANJANG MRT STATION\n",
      "Fetched isochrone for interval 20M, MRT: HOLLAND VILLAGE MRT STATION\n",
      "Fetched isochrone for interval 20M, MRT: LABRADOR PARK MRT STATION\n",
      "Fetched isochrone for interval 20M, MRT: BOTANIC GARDENS MRT STATION\n",
      "Fetched isochrone for interval 20M, MRT: ONE-NORTH MRT STATION\n",
      "Fetched isochrone for interval 20M, MRT: KENT RIDGE MRT STATION\n",
      "Fetched isochrone for interval 20M, MRT: HAW PAR VILLA MRT STATION\n",
      "Fetched isochrone for interval 20M, MRT: MARINA BAY MRT STATION\n",
      "Fetched isochrone for interval 20M, MRT: KING ALBERT PARK MRT STATION\n",
      "Fetched isochrone for interval 20M, MRT: LITTLE INDIA MRT STATION\n",
      "Fetched isochrone for interval 20M, MRT: ROCHOR MRT STATION\n",
      "Fetched isochrone for interval 20M, MRT: SENJA LRT STATION\n",
      "Fetched isochrone for interval 20M, MRT: MOUNTBATTEN MRT STATION\n",
      "Fetched isochrone for interval 20M, MRT: CHOA CHU KANG MRT STATION\n",
      "Fetched isochrone for interval 20M, MRT: BOON KENG MRT STATION\n",
      "Fetched isochrone for interval 20M, MRT: BARTLEY MRT STATION\n",
      "Fetched isochrone for interval 20M, MRT: SEGAR LRT STATION\n",
      "Fetched isochrone for interval 20M, MRT: HILLVIEW MRT STATION\n",
      "Fetched isochrone for interval 20M, MRT: BEAUTY WORLD MRT STATION\n",
      "Fetched isochrone for interval 20M, MRT: BUKIT PANJANG MRT STATION\n",
      "Fetched isochrone for interval 20M, MRT: CASHEW MRT STATION\n",
      "Fetched isochrone for interval 20M, MRT: JOO KOON MRT STATION\n",
      "Fetched isochrone for interval 20M, MRT: YEW TEE MRT STATION\n",
      "Fetched isochrone for interval 20M, MRT: YISHUN MRT STATION\n",
      "Fetched isochrone for interval 20M, MRT: YIO CHU KANG MRT STATION\n",
      "Fetched isochrone for interval 20M, MRT: WOODLEIGH MRT STATION\n",
      "Fetched isochrone for interval 20M, MRT: WOODLANDS MRT STATION\n",
      "Fetched isochrone for interval 20M, MRT: UPPER CHANGI MRT STATION\n",
      "Fetched isochrone for interval 20M, MRT: TELOK AYER MRT STATION\n",
      "Fetched isochrone for interval 20M, MRT: TONGKANG LRT STATION\n",
      "Fetched isochrone for interval 20M, MRT: UBI MRT STATION\n",
      "Fetched isochrone for interval 20M, MRT: TOA PAYOH MRT STATION\n",
      "Fetched isochrone for interval 20M, MRT: TIONG BAHRU MRT STATION\n",
      "Fetched isochrone for interval 20M, MRT: THANGGAM LRT STATION\n",
      "Fetched isochrone for interval 20M, MRT: PROMENADE MRT STATION\n",
      "Fetched isochrone for interval 20M, MRT: BRAS BASAH MRT STATION\n",
      "Fetched isochrone for interval 20M, MRT: NICOLL HIGHWAY MRT STATION\n",
      "Fetched isochrone for interval 20M, MRT: POTONG PASIR MRT STATION\n",
      "Fetched isochrone for interval 20M, MRT: LAKESIDE MRT STATION\n",
      "Fetched isochrone for interval 20M, MRT: SAMUDERA LRT STATION\n",
      "Fetched isochrone for interval 20M, MRT: RANGGUNG LRT STATION\n",
      "Fetched isochrone for interval 20M, MRT: SEMBAWANG MRT STATION\n",
      "Fetched isochrone for interval 20M, MRT: PUNGGOL LRT STATION\n",
      "Fetched isochrone for interval 20M, MRT: KANGKAR LRT STATION\n",
      "Fetched isochrone for interval 20M, MRT: PIONEER MRT STATION\n",
      "Fetched isochrone for interval 20M, MRT: BUGIS MRT STATION\n",
      "Fetched isochrone for interval 20M, MRT: NEWTON MRT STATION\n",
      "Fetched isochrone for interval 20M, MRT: BUONA VISTA MRT STATION\n",
      "Fetched isochrone for interval 20M, MRT: OUTRAM PARK MRT STATION\n",
      "Fetched isochrone for interval 20M, MRT: CHINATOWN MRT STATION\n",
      "Fetched isochrone for interval 20M, MRT: EXPO MRT STATION\n",
      "Fetched isochrone for interval 20M, MRT: RAFFLES PLACE MRT STATION\n",
      "Fetched isochrone for interval 20M, MRT: TUAS CRESCENT MRT STATION\n",
      "Fetched isochrone for interval 20M, MRT: TUAS LINK MRT STATION\n",
      "Fetched isochrone for interval 20M, MRT: TUAS WEST ROAD MRT STATION\n",
      "Fetched isochrone for interval 20M, MRT: CITY HALL MRT STATION\n",
      "Fetched isochrone for interval 20M, MRT: BISHAN MRT STATION\n",
      "Fetched isochrone for interval 20M, MRT: FERNVALE LRT STATION\n",
      "Fetched isochrone for interval 20M, MRT: PUNGGOL MRT STATION\n",
      "Fetched isochrone for interval 20M, MRT: BUANGKOK MRT STATION\n",
      "Fetched isochrone for interval 20M, MRT: BAKAU LRT STATION\n",
      "Fetched isochrone for interval 20M, MRT: FARMWAY LRT STATION\n",
      "Fetched isochrone for interval 20M, MRT: COMMONWEALTH MRT STATION\n",
      "Fetched isochrone for interval 20M, MRT: KUPANG LRT STATION\n",
      "Fetched isochrone for interval 20M, MRT: DAMAI LRT STATION\n",
      "Fetched isochrone for interval 20M, MRT: QUEENSTOWN MRT STATION\n",
      "Fetched isochrone for interval 20M, MRT: KALLANG MRT STATION\n",
      "Fetched isochrone for interval 20M, MRT: RUMBIA LRT STATION\n",
      "Fetched isochrone for interval 20M, MRT: PETIR LRT STATION\n",
      "Fetched isochrone for interval 20M, MRT: BOON LAY MRT STATION\n",
      "Fetched isochrone for interval 20M, MRT: KEAT HONG LRT STATION\n",
      "Fetched isochrone for interval 20M, MRT: JELAPANG LRT STATION\n",
      "Fetched isochrone for interval 20M, MRT: CHOA CHU KANG LRT STATION\n",
      "Fetched isochrone for interval 20M, MRT: SENGKANG LRT STATION\n",
      "Fetched isochrone for interval 20M, MRT: HARBOURFRONT MRT STATION\n",
      "Fetched isochrone for interval 20M, MRT: PENDING LRT STATION\n",
      "Fetched isochrone for interval 20M, MRT: CLARKE QUAY MRT STATION\n",
      "Fetched isochrone for interval 20M, MRT: BUKIT PANJANG LRT STATION\n",
      "Fetched isochrone for interval 20M, MRT: FAJAR LRT STATION\n",
      "Fetched isochrone for interval 20M, MRT: KOVAN MRT STATION\n",
      "Fetched isochrone for interval 20M, MRT: LORONG CHUAN MRT STATION\n",
      "Fetched isochrone for interval 20M, MRT: MARYMOUNT MRT STATION\n",
      "Fetched isochrone for interval 20M, MRT: CALDECOTT MRT STATION\n",
      "Fetched isochrone for interval 20M, MRT: DOWNTOWN MRT STATION\n",
      "Fetched isochrone for interval 20M, MRT: GEYLANG BAHRU MRT STATION\n",
      "Fetched isochrone for interval 20M, MRT: BENDEMEER MRT STATION\n",
      "Fetched isochrone for interval 20M, MRT: BENCOOLEN MRT STATION\n",
      "Fetched isochrone for interval 20M, MRT: FORT CANNING MRT STATION\n",
      "Fetched isochrone for interval 20M, MRT: KAKI BUKIT MRT STATION\n",
      "Fetched isochrone for interval 20M, MRT: JALAN BESAR MRT STATION\n",
      "Fetched isochrone for interval 20M, MRT: MATTAR MRT STATION\n",
      "Fetched isochrone for interval 20M, MRT: MACPHERSON MRT STATION\n",
      "Fetched isochrone for interval 20M, MRT: BAYFRONT MRT STATION\n",
      "Fetched isochrone for interval 20M, MRT: FARRER ROAD MRT STATION\n",
      "Fetched isochrone for interval 20M, MRT: JURONG EAST MRT STATION\n",
      "Fetched isochrone for interval 20M, MRT: BEDOK NORTH MRT STATION\n",
      "Fetched isochrone for interval 20M, MRT: BEDOK RESERVOIR MRT STATION\n",
      "Fetched isochrone for interval 20M, MRT: ORCHARD MRT STATION\n",
      "Fetched isochrone for interval 20M, MRT: LENTOR MRT STATION\n",
      "Fetched isochrone for interval 20M, MRT: BRIGHT HILL MRT STATION\n",
      "Fetched isochrone for interval 20M, MRT: SPRINGLEAF MRT STATION\n",
      "Fetched isochrone for interval 20M, MRT: MARINA SOUTH PIER MRT STATION\n",
      "Fetched isochrone for interval 20M, MRT: CANBERRA MRT STATION\n",
      "Fetched isochrone for interval 20M, MRT: WOODLANDS SOUTH MRT STATION\n",
      "Fetched isochrone for interval 20M, MRT: WOODLANDS NORTH MRT STATION\n",
      "Fetched isochrone for interval 20M, MRT: GUL CIRCLE MRT STATION\n",
      "Fetched isochrone for interval 20M, MRT: HAVELOCK MRT STATION\n",
      "Fetched isochrone for interval 20M, MRT: NAPIER MRT STATION\n",
      "Fetched isochrone for interval 20M, MRT: SHENTON WAY MRT STATION\n",
      "Fetched isochrone for interval 20M, MRT: GARDENS BY THE BAY MRT STATION\n",
      "Fetched isochrone for interval 20M, MRT: GREAT WORLD MRT STATION\n",
      "Fetched isochrone for interval 20M, MRT: MAXWELL MRT STATION\n",
      "Fetched isochrone for interval 20M, MRT: ORCHARD BOULEVARD MRT STATION\n",
      "Fetched isochrone for interval 20M, MRT: TELOK BLANGAH MRT STATION\n",
      "Fetched isochrone for interval 20M, MRT: TECK WHYE LRT STATION\n",
      "Fetched isochrone for interval 20M, MRT: TANJONG PAGAR MRT STATION\n",
      "Fetched isochrone for interval 20M, MRT: TANAH MERAH MRT STATION\n",
      "Fetched isochrone for interval 20M, MRT: TAN KAH KEE MRT STATION\n",
      "Fetched isochrone for interval 20M, MRT: UPPER THOMSON MRT STATION\n",
      "Fetched isochrone for interval 20M, MRT: MAYFLOWER MRT STATION\n",
      "Fetched isochrone for interval 25M, MRT: ESPLANADE MRT STATION\n",
      "Fetched isochrone for interval 25M, MRT: PAYA LEBAR MRT STATION\n",
      "Fetched isochrone for interval 25M, MRT: DHOBY GHAUT MRT STATION\n",
      "Fetched isochrone for interval 25M, MRT: DAKOTA MRT STATION\n",
      "Fetched isochrone for interval 25M, MRT: LAVENDER MRT STATION\n",
      "Fetched isochrone for interval 25M, MRT: RENJONG LRT STATION\n",
      "Fetched isochrone for interval 25M, MRT: DOVER MRT STATION\n",
      "Fetched isochrone for interval 25M, MRT: HOUGANG MRT STATION\n",
      "Fetched isochrone for interval 25M, MRT: PHOENIX LRT STATION\n",
      "Fetched isochrone for interval 25M, MRT: ALJUNIED MRT STATION\n",
      "Fetched isochrone for interval 25M, MRT: COVE LRT STATION\n",
      "Fetched isochrone for interval 25M, MRT: PASIR RIS MRT STATION\n",
      "Fetched isochrone for interval 25M, MRT: ADMIRALTY MRT STATION\n",
      "Fetched isochrone for interval 25M, MRT: KEMBANGAN MRT STATION\n",
      "Fetched isochrone for interval 25M, MRT: PUNGGOL POINT LRT STATION\n",
      "Fetched isochrone for interval 25M, MRT: MARSILING MRT STATION\n",
      "Fetched isochrone for interval 25M, MRT: COMPASSVALE LRT STATION\n",
      "Fetched isochrone for interval 25M, MRT: KHATIB MRT STATION\n",
      "Fetched isochrone for interval 25M, MRT: LAYAR LRT STATION\n",
      "Fetched isochrone for interval 25M, MRT: TAMPINES WEST MRT STATION\n",
      "Fetched isochrone for interval 25M, MRT: TAMPINES MRT STATION\n",
      "Fetched isochrone for interval 25M, MRT: TAMPINES EAST MRT STATION\n",
      "Fetched isochrone for interval 25M, MRT: TAI SENG MRT STATION\n",
      "Fetched isochrone for interval 25M, MRT: SUMANG LRT STATION\n",
      "Fetched isochrone for interval 25M, MRT: STEVENS MRT STATION\n",
      "Fetched isochrone for interval 25M, MRT: STADIUM MRT STATION\n",
      "Fetched isochrone for interval 25M, MRT: SIXTH AVENUE MRT STATION\n",
      "Fetched isochrone for interval 25M, MRT: SOUTH VIEW LRT STATION\n",
      "Fetched isochrone for interval 25M, MRT: SOO TECK LRT STATION\n",
      "Fetched isochrone for interval 25M, MRT: SOMERSET MRT STATION\n",
      "Fetched isochrone for interval 25M, MRT: SIMEI MRT STATION\n",
      "Fetched isochrone for interval 25M, MRT: SERANGOON MRT STATION\n",
      "Fetched isochrone for interval 25M, MRT: SENGKANG MRT STATION\n",
      "Fetched isochrone for interval 25M, MRT: BRADDELL MRT STATION\n",
      "Fetched isochrone for interval 25M, MRT: NOVENA MRT STATION\n",
      "Fetched isochrone for interval 25M, MRT: FARRER PARK MRT STATION\n",
      "Fetched isochrone for interval 25M, MRT: BEDOK MRT STATION\n",
      "Fetched isochrone for interval 25M, MRT: REDHILL MRT STATION\n",
      "Fetched isochrone for interval 25M, MRT: CHANGI AIRPORT MRT STATION\n",
      "Fetched isochrone for interval 25M, MRT: CORAL EDGE LRT STATION\n",
      "Fetched isochrone for interval 25M, MRT: CLEMENTI MRT STATION\n",
      "Fetched isochrone for interval 25M, MRT: BUKIT BATOK MRT STATION\n",
      "Fetched isochrone for interval 25M, MRT: OASIS LRT STATION\n",
      "Fetched isochrone for interval 25M, MRT: NIBONG LRT STATION\n",
      "Fetched isochrone for interval 25M, MRT: MERIDIAN LRT STATION\n",
      "Fetched isochrone for interval 25M, MRT: BUKIT GOMBAK MRT STATION\n",
      "Fetched isochrone for interval 25M, MRT: EUNOS MRT STATION\n",
      "Fetched isochrone for interval 25M, MRT: CHINESE GARDEN MRT STATION\n",
      "Fetched isochrone for interval 25M, MRT: KADALOOR LRT STATION\n",
      "Fetched isochrone for interval 25M, MRT: CHENG LIM LRT STATION\n",
      "Fetched isochrone for interval 25M, MRT: SAM KEE LRT STATION\n",
      "Fetched isochrone for interval 25M, MRT: KRANJI MRT STATION\n",
      "Fetched isochrone for interval 25M, MRT: ANG MO KIO MRT STATION\n",
      "Fetched isochrone for interval 25M, MRT: RIVIERA LRT STATION\n",
      "Fetched isochrone for interval 25M, MRT: BANGKIT LRT STATION\n",
      "Fetched isochrone for interval 25M, MRT: PASIR PANJANG MRT STATION\n",
      "Fetched isochrone for interval 25M, MRT: HOLLAND VILLAGE MRT STATION\n",
      "Fetched isochrone for interval 25M, MRT: LABRADOR PARK MRT STATION\n",
      "Fetched isochrone for interval 25M, MRT: BOTANIC GARDENS MRT STATION\n",
      "Fetched isochrone for interval 25M, MRT: ONE-NORTH MRT STATION\n",
      "Fetched isochrone for interval 25M, MRT: KENT RIDGE MRT STATION\n",
      "Fetched isochrone for interval 25M, MRT: HAW PAR VILLA MRT STATION\n",
      "Fetched isochrone for interval 25M, MRT: MARINA BAY MRT STATION\n",
      "Fetched isochrone for interval 25M, MRT: KING ALBERT PARK MRT STATION\n",
      "Fetched isochrone for interval 25M, MRT: LITTLE INDIA MRT STATION\n",
      "Fetched isochrone for interval 25M, MRT: ROCHOR MRT STATION\n",
      "Fetched isochrone for interval 25M, MRT: SENJA LRT STATION\n",
      "Fetched isochrone for interval 25M, MRT: MOUNTBATTEN MRT STATION\n",
      "Fetched isochrone for interval 25M, MRT: CHOA CHU KANG MRT STATION\n",
      "Fetched isochrone for interval 25M, MRT: BOON KENG MRT STATION\n",
      "Fetched isochrone for interval 25M, MRT: BARTLEY MRT STATION\n",
      "Fetched isochrone for interval 25M, MRT: SEGAR LRT STATION\n",
      "Fetched isochrone for interval 25M, MRT: HILLVIEW MRT STATION\n",
      "Fetched isochrone for interval 25M, MRT: BEAUTY WORLD MRT STATION\n",
      "Fetched isochrone for interval 25M, MRT: BUKIT PANJANG MRT STATION\n",
      "Fetched isochrone for interval 25M, MRT: CASHEW MRT STATION\n",
      "Fetched isochrone for interval 25M, MRT: JOO KOON MRT STATION\n",
      "Fetched isochrone for interval 25M, MRT: YEW TEE MRT STATION\n",
      "Fetched isochrone for interval 25M, MRT: YISHUN MRT STATION\n",
      "Fetched isochrone for interval 25M, MRT: YIO CHU KANG MRT STATION\n",
      "Fetched isochrone for interval 25M, MRT: WOODLEIGH MRT STATION\n",
      "Fetched isochrone for interval 25M, MRT: WOODLANDS MRT STATION\n",
      "Fetched isochrone for interval 25M, MRT: UPPER CHANGI MRT STATION\n",
      "Fetched isochrone for interval 25M, MRT: TELOK AYER MRT STATION\n",
      "Fetched isochrone for interval 25M, MRT: TONGKANG LRT STATION\n",
      "Fetched isochrone for interval 25M, MRT: UBI MRT STATION\n",
      "Fetched isochrone for interval 25M, MRT: TOA PAYOH MRT STATION\n",
      "Fetched isochrone for interval 25M, MRT: TIONG BAHRU MRT STATION\n",
      "Fetched isochrone for interval 25M, MRT: THANGGAM LRT STATION\n",
      "Fetched isochrone for interval 25M, MRT: PROMENADE MRT STATION\n",
      "Fetched isochrone for interval 25M, MRT: BRAS BASAH MRT STATION\n",
      "Fetched isochrone for interval 25M, MRT: NICOLL HIGHWAY MRT STATION\n",
      "Fetched isochrone for interval 25M, MRT: POTONG PASIR MRT STATION\n",
      "Fetched isochrone for interval 25M, MRT: LAKESIDE MRT STATION\n",
      "Fetched isochrone for interval 25M, MRT: SAMUDERA LRT STATION\n",
      "Fetched isochrone for interval 25M, MRT: RANGGUNG LRT STATION\n",
      "Fetched isochrone for interval 25M, MRT: SEMBAWANG MRT STATION\n",
      "Fetched isochrone for interval 25M, MRT: PUNGGOL LRT STATION\n",
      "Fetched isochrone for interval 25M, MRT: KANGKAR LRT STATION\n",
      "Fetched isochrone for interval 25M, MRT: PIONEER MRT STATION\n",
      "Fetched isochrone for interval 25M, MRT: BUGIS MRT STATION\n",
      "Fetched isochrone for interval 25M, MRT: NEWTON MRT STATION\n",
      "Fetched isochrone for interval 25M, MRT: BUONA VISTA MRT STATION\n",
      "Fetched isochrone for interval 25M, MRT: OUTRAM PARK MRT STATION\n",
      "Fetched isochrone for interval 25M, MRT: CHINATOWN MRT STATION\n",
      "Fetched isochrone for interval 25M, MRT: EXPO MRT STATION\n",
      "Fetched isochrone for interval 25M, MRT: RAFFLES PLACE MRT STATION\n",
      "Fetched isochrone for interval 25M, MRT: TUAS CRESCENT MRT STATION\n",
      "Fetched isochrone for interval 25M, MRT: TUAS LINK MRT STATION\n",
      "Fetched isochrone for interval 25M, MRT: TUAS WEST ROAD MRT STATION\n",
      "Fetched isochrone for interval 25M, MRT: CITY HALL MRT STATION\n",
      "Fetched isochrone for interval 25M, MRT: BISHAN MRT STATION\n",
      "Fetched isochrone for interval 25M, MRT: FERNVALE LRT STATION\n",
      "Fetched isochrone for interval 25M, MRT: PUNGGOL MRT STATION\n",
      "Fetched isochrone for interval 25M, MRT: BUANGKOK MRT STATION\n",
      "Fetched isochrone for interval 25M, MRT: BAKAU LRT STATION\n",
      "Fetched isochrone for interval 25M, MRT: FARMWAY LRT STATION\n",
      "Fetched isochrone for interval 25M, MRT: COMMONWEALTH MRT STATION\n",
      "Fetched isochrone for interval 25M, MRT: KUPANG LRT STATION\n",
      "Fetched isochrone for interval 25M, MRT: DAMAI LRT STATION\n",
      "Fetched isochrone for interval 25M, MRT: QUEENSTOWN MRT STATION\n",
      "Fetched isochrone for interval 25M, MRT: KALLANG MRT STATION\n",
      "Fetched isochrone for interval 25M, MRT: RUMBIA LRT STATION\n",
      "Fetched isochrone for interval 25M, MRT: PETIR LRT STATION\n",
      "Fetched isochrone for interval 25M, MRT: BOON LAY MRT STATION\n",
      "Fetched isochrone for interval 25M, MRT: KEAT HONG LRT STATION\n",
      "Fetched isochrone for interval 25M, MRT: JELAPANG LRT STATION\n",
      "Fetched isochrone for interval 25M, MRT: CHOA CHU KANG LRT STATION\n",
      "Fetched isochrone for interval 25M, MRT: SENGKANG LRT STATION\n",
      "Fetched isochrone for interval 25M, MRT: HARBOURFRONT MRT STATION\n",
      "Fetched isochrone for interval 25M, MRT: PENDING LRT STATION\n",
      "Fetched isochrone for interval 25M, MRT: CLARKE QUAY MRT STATION\n",
      "Fetched isochrone for interval 25M, MRT: BUKIT PANJANG LRT STATION\n",
      "Fetched isochrone for interval 25M, MRT: FAJAR LRT STATION\n",
      "Fetched isochrone for interval 25M, MRT: KOVAN MRT STATION\n",
      "Fetched isochrone for interval 25M, MRT: LORONG CHUAN MRT STATION\n",
      "Fetched isochrone for interval 25M, MRT: MARYMOUNT MRT STATION\n",
      "Fetched isochrone for interval 25M, MRT: CALDECOTT MRT STATION\n",
      "Fetched isochrone for interval 25M, MRT: DOWNTOWN MRT STATION\n",
      "Fetched isochrone for interval 25M, MRT: GEYLANG BAHRU MRT STATION\n",
      "Fetched isochrone for interval 25M, MRT: BENDEMEER MRT STATION\n",
      "Fetched isochrone for interval 25M, MRT: BENCOOLEN MRT STATION\n",
      "Fetched isochrone for interval 25M, MRT: FORT CANNING MRT STATION\n",
      "Fetched isochrone for interval 25M, MRT: KAKI BUKIT MRT STATION\n",
      "Fetched isochrone for interval 25M, MRT: JALAN BESAR MRT STATION\n",
      "Fetched isochrone for interval 25M, MRT: MATTAR MRT STATION\n",
      "Fetched isochrone for interval 25M, MRT: MACPHERSON MRT STATION\n",
      "Fetched isochrone for interval 25M, MRT: BAYFRONT MRT STATION\n",
      "Fetched isochrone for interval 25M, MRT: FARRER ROAD MRT STATION\n",
      "Fetched isochrone for interval 25M, MRT: JURONG EAST MRT STATION\n",
      "Fetched isochrone for interval 25M, MRT: BEDOK NORTH MRT STATION\n",
      "Fetched isochrone for interval 25M, MRT: BEDOK RESERVOIR MRT STATION\n",
      "Fetched isochrone for interval 25M, MRT: ORCHARD MRT STATION\n",
      "Fetched isochrone for interval 25M, MRT: LENTOR MRT STATION\n",
      "Fetched isochrone for interval 25M, MRT: BRIGHT HILL MRT STATION\n",
      "Fetched isochrone for interval 25M, MRT: SPRINGLEAF MRT STATION\n",
      "Fetched isochrone for interval 25M, MRT: MARINA SOUTH PIER MRT STATION\n",
      "Fetched isochrone for interval 25M, MRT: CANBERRA MRT STATION\n",
      "Fetched isochrone for interval 25M, MRT: WOODLANDS SOUTH MRT STATION\n",
      "Fetched isochrone for interval 25M, MRT: WOODLANDS NORTH MRT STATION\n",
      "Fetched isochrone for interval 25M, MRT: GUL CIRCLE MRT STATION\n",
      "Fetched isochrone for interval 25M, MRT: HAVELOCK MRT STATION\n",
      "Fetched isochrone for interval 25M, MRT: NAPIER MRT STATION\n",
      "Fetched isochrone for interval 25M, MRT: SHENTON WAY MRT STATION\n",
      "Fetched isochrone for interval 25M, MRT: GARDENS BY THE BAY MRT STATION\n",
      "Fetched isochrone for interval 25M, MRT: GREAT WORLD MRT STATION\n",
      "Fetched isochrone for interval 25M, MRT: MAXWELL MRT STATION\n",
      "Fetched isochrone for interval 25M, MRT: ORCHARD BOULEVARD MRT STATION\n",
      "Fetched isochrone for interval 25M, MRT: TELOK BLANGAH MRT STATION\n",
      "Fetched isochrone for interval 25M, MRT: TECK WHYE LRT STATION\n",
      "Fetched isochrone for interval 25M, MRT: TANJONG PAGAR MRT STATION\n",
      "Fetched isochrone for interval 25M, MRT: TANAH MERAH MRT STATION\n",
      "Fetched isochrone for interval 25M, MRT: TAN KAH KEE MRT STATION\n",
      "Fetched isochrone for interval 25M, MRT: UPPER THOMSON MRT STATION\n",
      "Fetched isochrone for interval 25M, MRT: MAYFLOWER MRT STATION\n",
      "Fetched isochrone for interval 30M, MRT: ESPLANADE MRT STATION\n",
      "Fetched isochrone for interval 30M, MRT: PAYA LEBAR MRT STATION\n",
      "Fetched isochrone for interval 30M, MRT: DHOBY GHAUT MRT STATION\n",
      "Fetched isochrone for interval 30M, MRT: DAKOTA MRT STATION\n",
      "Fetched isochrone for interval 30M, MRT: LAVENDER MRT STATION\n",
      "Fetched isochrone for interval 30M, MRT: RENJONG LRT STATION\n",
      "Fetched isochrone for interval 30M, MRT: DOVER MRT STATION\n",
      "Fetched isochrone for interval 30M, MRT: HOUGANG MRT STATION\n",
      "Fetched isochrone for interval 30M, MRT: PHOENIX LRT STATION\n",
      "Fetched isochrone for interval 30M, MRT: ALJUNIED MRT STATION\n",
      "Fetched isochrone for interval 30M, MRT: COVE LRT STATION\n",
      "Fetched isochrone for interval 30M, MRT: PASIR RIS MRT STATION\n",
      "Fetched isochrone for interval 30M, MRT: ADMIRALTY MRT STATION\n",
      "Fetched isochrone for interval 30M, MRT: KEMBANGAN MRT STATION\n",
      "Fetched isochrone for interval 30M, MRT: PUNGGOL POINT LRT STATION\n",
      "Fetched isochrone for interval 30M, MRT: MARSILING MRT STATION\n",
      "Fetched isochrone for interval 30M, MRT: COMPASSVALE LRT STATION\n",
      "Fetched isochrone for interval 30M, MRT: KHATIB MRT STATION\n",
      "Fetched isochrone for interval 30M, MRT: LAYAR LRT STATION\n",
      "Fetched isochrone for interval 30M, MRT: TAMPINES WEST MRT STATION\n",
      "Fetched isochrone for interval 30M, MRT: TAMPINES MRT STATION\n",
      "Fetched isochrone for interval 30M, MRT: TAMPINES EAST MRT STATION\n",
      "Fetched isochrone for interval 30M, MRT: TAI SENG MRT STATION\n",
      "Fetched isochrone for interval 30M, MRT: SUMANG LRT STATION\n",
      "Fetched isochrone for interval 30M, MRT: STEVENS MRT STATION\n",
      "Fetched isochrone for interval 30M, MRT: STADIUM MRT STATION\n",
      "Fetched isochrone for interval 30M, MRT: SIXTH AVENUE MRT STATION\n",
      "Fetched isochrone for interval 30M, MRT: SOUTH VIEW LRT STATION\n",
      "Fetched isochrone for interval 30M, MRT: SOO TECK LRT STATION\n",
      "Fetched isochrone for interval 30M, MRT: SOMERSET MRT STATION\n",
      "Fetched isochrone for interval 30M, MRT: SIMEI MRT STATION\n",
      "Fetched isochrone for interval 30M, MRT: SERANGOON MRT STATION\n",
      "Fetched isochrone for interval 30M, MRT: SENGKANG MRT STATION\n",
      "Fetched isochrone for interval 30M, MRT: BRADDELL MRT STATION\n",
      "Fetched isochrone for interval 30M, MRT: NOVENA MRT STATION\n",
      "Fetched isochrone for interval 30M, MRT: FARRER PARK MRT STATION\n",
      "Fetched isochrone for interval 30M, MRT: BEDOK MRT STATION\n",
      "Fetched isochrone for interval 30M, MRT: REDHILL MRT STATION\n",
      "Fetched isochrone for interval 30M, MRT: CHANGI AIRPORT MRT STATION\n",
      "Fetched isochrone for interval 30M, MRT: CORAL EDGE LRT STATION\n",
      "Fetched isochrone for interval 30M, MRT: CLEMENTI MRT STATION\n",
      "Fetched isochrone for interval 30M, MRT: BUKIT BATOK MRT STATION\n",
      "Fetched isochrone for interval 30M, MRT: OASIS LRT STATION\n",
      "Fetched isochrone for interval 30M, MRT: NIBONG LRT STATION\n",
      "Fetched isochrone for interval 30M, MRT: MERIDIAN LRT STATION\n",
      "Fetched isochrone for interval 30M, MRT: BUKIT GOMBAK MRT STATION\n",
      "Fetched isochrone for interval 30M, MRT: EUNOS MRT STATION\n",
      "Fetched isochrone for interval 30M, MRT: CHINESE GARDEN MRT STATION\n",
      "Fetched isochrone for interval 30M, MRT: KADALOOR LRT STATION\n",
      "Fetched isochrone for interval 30M, MRT: CHENG LIM LRT STATION\n",
      "Fetched isochrone for interval 30M, MRT: SAM KEE LRT STATION\n",
      "Fetched isochrone for interval 30M, MRT: KRANJI MRT STATION\n",
      "Fetched isochrone for interval 30M, MRT: ANG MO KIO MRT STATION\n",
      "Fetched isochrone for interval 30M, MRT: RIVIERA LRT STATION\n",
      "Fetched isochrone for interval 30M, MRT: BANGKIT LRT STATION\n",
      "Fetched isochrone for interval 30M, MRT: PASIR PANJANG MRT STATION\n",
      "Fetched isochrone for interval 30M, MRT: HOLLAND VILLAGE MRT STATION\n",
      "Fetched isochrone for interval 30M, MRT: LABRADOR PARK MRT STATION\n",
      "Fetched isochrone for interval 30M, MRT: BOTANIC GARDENS MRT STATION\n",
      "Fetched isochrone for interval 30M, MRT: ONE-NORTH MRT STATION\n",
      "Fetched isochrone for interval 30M, MRT: KENT RIDGE MRT STATION\n",
      "Fetched isochrone for interval 30M, MRT: HAW PAR VILLA MRT STATION\n",
      "Fetched isochrone for interval 30M, MRT: MARINA BAY MRT STATION\n",
      "Fetched isochrone for interval 30M, MRT: KING ALBERT PARK MRT STATION\n",
      "Fetched isochrone for interval 30M, MRT: LITTLE INDIA MRT STATION\n",
      "Fetched isochrone for interval 30M, MRT: ROCHOR MRT STATION\n",
      "Fetched isochrone for interval 30M, MRT: SENJA LRT STATION\n",
      "Fetched isochrone for interval 30M, MRT: MOUNTBATTEN MRT STATION\n",
      "Fetched isochrone for interval 30M, MRT: CHOA CHU KANG MRT STATION\n",
      "Fetched isochrone for interval 30M, MRT: BOON KENG MRT STATION\n",
      "Fetched isochrone for interval 30M, MRT: BARTLEY MRT STATION\n",
      "Fetched isochrone for interval 30M, MRT: SEGAR LRT STATION\n",
      "Fetched isochrone for interval 30M, MRT: HILLVIEW MRT STATION\n",
      "Fetched isochrone for interval 30M, MRT: BEAUTY WORLD MRT STATION\n",
      "Fetched isochrone for interval 30M, MRT: BUKIT PANJANG MRT STATION\n",
      "Fetched isochrone for interval 30M, MRT: CASHEW MRT STATION\n",
      "Fetched isochrone for interval 30M, MRT: JOO KOON MRT STATION\n",
      "Fetched isochrone for interval 30M, MRT: YEW TEE MRT STATION\n",
      "Fetched isochrone for interval 30M, MRT: YISHUN MRT STATION\n",
      "Fetched isochrone for interval 30M, MRT: YIO CHU KANG MRT STATION\n",
      "Fetched isochrone for interval 30M, MRT: WOODLEIGH MRT STATION\n",
      "Fetched isochrone for interval 30M, MRT: WOODLANDS MRT STATION\n",
      "Fetched isochrone for interval 30M, MRT: UPPER CHANGI MRT STATION\n",
      "Fetched isochrone for interval 30M, MRT: TELOK AYER MRT STATION\n",
      "Fetched isochrone for interval 30M, MRT: TONGKANG LRT STATION\n",
      "Fetched isochrone for interval 30M, MRT: UBI MRT STATION\n",
      "Fetched isochrone for interval 30M, MRT: TOA PAYOH MRT STATION\n",
      "Fetched isochrone for interval 30M, MRT: TIONG BAHRU MRT STATION\n",
      "Fetched isochrone for interval 30M, MRT: THANGGAM LRT STATION\n",
      "Fetched isochrone for interval 30M, MRT: PROMENADE MRT STATION\n",
      "Fetched isochrone for interval 30M, MRT: BRAS BASAH MRT STATION\n",
      "Fetched isochrone for interval 30M, MRT: NICOLL HIGHWAY MRT STATION\n",
      "Fetched isochrone for interval 30M, MRT: POTONG PASIR MRT STATION\n",
      "Fetched isochrone for interval 30M, MRT: LAKESIDE MRT STATION\n",
      "Fetched isochrone for interval 30M, MRT: SAMUDERA LRT STATION\n",
      "Fetched isochrone for interval 30M, MRT: RANGGUNG LRT STATION\n",
      "Fetched isochrone for interval 30M, MRT: SEMBAWANG MRT STATION\n",
      "Fetched isochrone for interval 30M, MRT: PUNGGOL LRT STATION\n",
      "Fetched isochrone for interval 30M, MRT: KANGKAR LRT STATION\n",
      "Fetched isochrone for interval 30M, MRT: PIONEER MRT STATION\n",
      "Fetched isochrone for interval 30M, MRT: BUGIS MRT STATION\n",
      "Fetched isochrone for interval 30M, MRT: NEWTON MRT STATION\n",
      "Fetched isochrone for interval 30M, MRT: BUONA VISTA MRT STATION\n",
      "Fetched isochrone for interval 30M, MRT: OUTRAM PARK MRT STATION\n",
      "Fetched isochrone for interval 30M, MRT: CHINATOWN MRT STATION\n",
      "Fetched isochrone for interval 30M, MRT: EXPO MRT STATION\n",
      "Fetched isochrone for interval 30M, MRT: RAFFLES PLACE MRT STATION\n",
      "Fetched isochrone for interval 30M, MRT: TUAS CRESCENT MRT STATION\n",
      "Fetched isochrone for interval 30M, MRT: TUAS LINK MRT STATION\n",
      "Fetched isochrone for interval 30M, MRT: TUAS WEST ROAD MRT STATION\n",
      "Fetched isochrone for interval 30M, MRT: CITY HALL MRT STATION\n",
      "Fetched isochrone for interval 30M, MRT: BISHAN MRT STATION\n",
      "Fetched isochrone for interval 30M, MRT: FERNVALE LRT STATION\n",
      "Fetched isochrone for interval 30M, MRT: PUNGGOL MRT STATION\n",
      "Fetched isochrone for interval 30M, MRT: BUANGKOK MRT STATION\n",
      "Fetched isochrone for interval 30M, MRT: BAKAU LRT STATION\n",
      "Fetched isochrone for interval 30M, MRT: FARMWAY LRT STATION\n",
      "Fetched isochrone for interval 30M, MRT: COMMONWEALTH MRT STATION\n",
      "Fetched isochrone for interval 30M, MRT: KUPANG LRT STATION\n",
      "Fetched isochrone for interval 30M, MRT: DAMAI LRT STATION\n",
      "Fetched isochrone for interval 30M, MRT: QUEENSTOWN MRT STATION\n",
      "Fetched isochrone for interval 30M, MRT: KALLANG MRT STATION\n",
      "Fetched isochrone for interval 30M, MRT: RUMBIA LRT STATION\n",
      "Fetched isochrone for interval 30M, MRT: PETIR LRT STATION\n",
      "Fetched isochrone for interval 30M, MRT: BOON LAY MRT STATION\n",
      "Fetched isochrone for interval 30M, MRT: KEAT HONG LRT STATION\n",
      "Fetched isochrone for interval 30M, MRT: JELAPANG LRT STATION\n",
      "Fetched isochrone for interval 30M, MRT: CHOA CHU KANG LRT STATION\n",
      "Fetched isochrone for interval 30M, MRT: SENGKANG LRT STATION\n",
      "Fetched isochrone for interval 30M, MRT: HARBOURFRONT MRT STATION\n",
      "Fetched isochrone for interval 30M, MRT: PENDING LRT STATION\n",
      "Fetched isochrone for interval 30M, MRT: CLARKE QUAY MRT STATION\n",
      "Fetched isochrone for interval 30M, MRT: BUKIT PANJANG LRT STATION\n",
      "Fetched isochrone for interval 30M, MRT: FAJAR LRT STATION\n",
      "Fetched isochrone for interval 30M, MRT: KOVAN MRT STATION\n",
      "Fetched isochrone for interval 30M, MRT: LORONG CHUAN MRT STATION\n",
      "Fetched isochrone for interval 30M, MRT: MARYMOUNT MRT STATION\n",
      "Fetched isochrone for interval 30M, MRT: CALDECOTT MRT STATION\n",
      "Fetched isochrone for interval 30M, MRT: DOWNTOWN MRT STATION\n",
      "Fetched isochrone for interval 30M, MRT: GEYLANG BAHRU MRT STATION\n",
      "Fetched isochrone for interval 30M, MRT: BENDEMEER MRT STATION\n",
      "Fetched isochrone for interval 30M, MRT: BENCOOLEN MRT STATION\n",
      "Fetched isochrone for interval 30M, MRT: FORT CANNING MRT STATION\n",
      "Fetched isochrone for interval 30M, MRT: KAKI BUKIT MRT STATION\n",
      "Fetched isochrone for interval 30M, MRT: JALAN BESAR MRT STATION\n",
      "Fetched isochrone for interval 30M, MRT: MATTAR MRT STATION\n",
      "Fetched isochrone for interval 30M, MRT: MACPHERSON MRT STATION\n",
      "Fetched isochrone for interval 30M, MRT: BAYFRONT MRT STATION\n",
      "Fetched isochrone for interval 30M, MRT: FARRER ROAD MRT STATION\n",
      "Fetched isochrone for interval 30M, MRT: JURONG EAST MRT STATION\n",
      "Fetched isochrone for interval 30M, MRT: BEDOK NORTH MRT STATION\n",
      "Fetched isochrone for interval 30M, MRT: BEDOK RESERVOIR MRT STATION\n",
      "Fetched isochrone for interval 30M, MRT: ORCHARD MRT STATION\n",
      "Fetched isochrone for interval 30M, MRT: LENTOR MRT STATION\n",
      "Fetched isochrone for interval 30M, MRT: BRIGHT HILL MRT STATION\n",
      "Fetched isochrone for interval 30M, MRT: SPRINGLEAF MRT STATION\n",
      "Fetched isochrone for interval 30M, MRT: MARINA SOUTH PIER MRT STATION\n",
      "Fetched isochrone for interval 30M, MRT: CANBERRA MRT STATION\n",
      "Fetched isochrone for interval 30M, MRT: WOODLANDS SOUTH MRT STATION\n",
      "Fetched isochrone for interval 30M, MRT: WOODLANDS NORTH MRT STATION\n",
      "Fetched isochrone for interval 30M, MRT: GUL CIRCLE MRT STATION\n",
      "Fetched isochrone for interval 30M, MRT: HAVELOCK MRT STATION\n",
      "Fetched isochrone for interval 30M, MRT: NAPIER MRT STATION\n",
      "Fetched isochrone for interval 30M, MRT: SHENTON WAY MRT STATION\n",
      "Fetched isochrone for interval 30M, MRT: GARDENS BY THE BAY MRT STATION\n",
      "Fetched isochrone for interval 30M, MRT: GREAT WORLD MRT STATION\n",
      "Fetched isochrone for interval 30M, MRT: MAXWELL MRT STATION\n",
      "Fetched isochrone for interval 30M, MRT: ORCHARD BOULEVARD MRT STATION\n",
      "Fetched isochrone for interval 30M, MRT: TELOK BLANGAH MRT STATION\n",
      "Fetched isochrone for interval 30M, MRT: TECK WHYE LRT STATION\n",
      "Fetched isochrone for interval 30M, MRT: TANJONG PAGAR MRT STATION\n",
      "Fetched isochrone for interval 30M, MRT: TANAH MERAH MRT STATION\n",
      "Fetched isochrone for interval 30M, MRT: TAN KAH KEE MRT STATION\n",
      "Fetched isochrone for interval 30M, MRT: UPPER THOMSON MRT STATION\n",
      "Fetched isochrone for interval 30M, MRT: MAYFLOWER MRT STATION\n",
      "Fetched isochrone for interval 35M, MRT: ESPLANADE MRT STATION\n",
      "Fetched isochrone for interval 35M, MRT: PAYA LEBAR MRT STATION\n",
      "Fetched isochrone for interval 35M, MRT: DHOBY GHAUT MRT STATION\n",
      "Fetched isochrone for interval 35M, MRT: DAKOTA MRT STATION\n",
      "Fetched isochrone for interval 35M, MRT: LAVENDER MRT STATION\n",
      "Fetched isochrone for interval 35M, MRT: RENJONG LRT STATION\n",
      "Fetched isochrone for interval 35M, MRT: DOVER MRT STATION\n",
      "Fetched isochrone for interval 35M, MRT: HOUGANG MRT STATION\n",
      "Fetched isochrone for interval 35M, MRT: PHOENIX LRT STATION\n",
      "Fetched isochrone for interval 35M, MRT: ALJUNIED MRT STATION\n",
      "Fetched isochrone for interval 35M, MRT: COVE LRT STATION\n",
      "Fetched isochrone for interval 35M, MRT: PASIR RIS MRT STATION\n",
      "Fetched isochrone for interval 35M, MRT: ADMIRALTY MRT STATION\n",
      "Fetched isochrone for interval 35M, MRT: KEMBANGAN MRT STATION\n",
      "Fetched isochrone for interval 35M, MRT: PUNGGOL POINT LRT STATION\n",
      "Fetched isochrone for interval 35M, MRT: MARSILING MRT STATION\n",
      "Fetched isochrone for interval 35M, MRT: COMPASSVALE LRT STATION\n",
      "Fetched isochrone for interval 35M, MRT: KHATIB MRT STATION\n",
      "Fetched isochrone for interval 35M, MRT: LAYAR LRT STATION\n",
      "Fetched isochrone for interval 35M, MRT: TAMPINES WEST MRT STATION\n",
      "Fetched isochrone for interval 35M, MRT: TAMPINES MRT STATION\n",
      "Fetched isochrone for interval 35M, MRT: TAMPINES EAST MRT STATION\n",
      "Fetched isochrone for interval 35M, MRT: TAI SENG MRT STATION\n",
      "Fetched isochrone for interval 35M, MRT: SUMANG LRT STATION\n",
      "Fetched isochrone for interval 35M, MRT: STEVENS MRT STATION\n",
      "Fetched isochrone for interval 35M, MRT: STADIUM MRT STATION\n",
      "Fetched isochrone for interval 35M, MRT: SIXTH AVENUE MRT STATION\n",
      "Fetched isochrone for interval 35M, MRT: SOUTH VIEW LRT STATION\n",
      "Fetched isochrone for interval 35M, MRT: SOO TECK LRT STATION\n",
      "Fetched isochrone for interval 35M, MRT: SOMERSET MRT STATION\n",
      "Fetched isochrone for interval 35M, MRT: SIMEI MRT STATION\n",
      "Fetched isochrone for interval 35M, MRT: SERANGOON MRT STATION\n",
      "Fetched isochrone for interval 35M, MRT: SENGKANG MRT STATION\n",
      "Fetched isochrone for interval 35M, MRT: BRADDELL MRT STATION\n",
      "Fetched isochrone for interval 35M, MRT: NOVENA MRT STATION\n",
      "Fetched isochrone for interval 35M, MRT: FARRER PARK MRT STATION\n",
      "Fetched isochrone for interval 35M, MRT: BEDOK MRT STATION\n",
      "Fetched isochrone for interval 35M, MRT: REDHILL MRT STATION\n",
      "Fetched isochrone for interval 35M, MRT: CHANGI AIRPORT MRT STATION\n",
      "Fetched isochrone for interval 35M, MRT: CORAL EDGE LRT STATION\n",
      "Fetched isochrone for interval 35M, MRT: CLEMENTI MRT STATION\n",
      "Fetched isochrone for interval 35M, MRT: BUKIT BATOK MRT STATION\n",
      "Fetched isochrone for interval 35M, MRT: OASIS LRT STATION\n",
      "Fetched isochrone for interval 35M, MRT: NIBONG LRT STATION\n",
      "Fetched isochrone for interval 35M, MRT: MERIDIAN LRT STATION\n",
      "Fetched isochrone for interval 35M, MRT: BUKIT GOMBAK MRT STATION\n",
      "Fetched isochrone for interval 35M, MRT: EUNOS MRT STATION\n",
      "Fetched isochrone for interval 35M, MRT: CHINESE GARDEN MRT STATION\n",
      "Fetched isochrone for interval 35M, MRT: KADALOOR LRT STATION\n",
      "Fetched isochrone for interval 35M, MRT: CHENG LIM LRT STATION\n",
      "Fetched isochrone for interval 35M, MRT: SAM KEE LRT STATION\n",
      "Fetched isochrone for interval 35M, MRT: KRANJI MRT STATION\n",
      "Fetched isochrone for interval 35M, MRT: ANG MO KIO MRT STATION\n",
      "Fetched isochrone for interval 35M, MRT: RIVIERA LRT STATION\n",
      "Fetched isochrone for interval 35M, MRT: BANGKIT LRT STATION\n",
      "Fetched isochrone for interval 35M, MRT: PASIR PANJANG MRT STATION\n",
      "Fetched isochrone for interval 35M, MRT: HOLLAND VILLAGE MRT STATION\n",
      "Fetched isochrone for interval 35M, MRT: LABRADOR PARK MRT STATION\n",
      "Fetched isochrone for interval 35M, MRT: BOTANIC GARDENS MRT STATION\n",
      "Fetched isochrone for interval 35M, MRT: ONE-NORTH MRT STATION\n",
      "Fetched isochrone for interval 35M, MRT: KENT RIDGE MRT STATION\n",
      "Fetched isochrone for interval 35M, MRT: HAW PAR VILLA MRT STATION\n",
      "Fetched isochrone for interval 35M, MRT: MARINA BAY MRT STATION\n",
      "Fetched isochrone for interval 35M, MRT: KING ALBERT PARK MRT STATION\n",
      "Fetched isochrone for interval 35M, MRT: LITTLE INDIA MRT STATION\n",
      "Fetched isochrone for interval 35M, MRT: ROCHOR MRT STATION\n",
      "Fetched isochrone for interval 35M, MRT: SENJA LRT STATION\n",
      "Fetched isochrone for interval 35M, MRT: MOUNTBATTEN MRT STATION\n",
      "Fetched isochrone for interval 35M, MRT: CHOA CHU KANG MRT STATION\n",
      "Fetched isochrone for interval 35M, MRT: BOON KENG MRT STATION\n",
      "Fetched isochrone for interval 35M, MRT: BARTLEY MRT STATION\n",
      "Fetched isochrone for interval 35M, MRT: SEGAR LRT STATION\n",
      "Fetched isochrone for interval 35M, MRT: HILLVIEW MRT STATION\n",
      "Fetched isochrone for interval 35M, MRT: BEAUTY WORLD MRT STATION\n",
      "Fetched isochrone for interval 35M, MRT: BUKIT PANJANG MRT STATION\n",
      "Fetched isochrone for interval 35M, MRT: CASHEW MRT STATION\n",
      "Fetched isochrone for interval 35M, MRT: JOO KOON MRT STATION\n",
      "Fetched isochrone for interval 35M, MRT: YEW TEE MRT STATION\n",
      "Fetched isochrone for interval 35M, MRT: YISHUN MRT STATION\n",
      "Fetched isochrone for interval 35M, MRT: YIO CHU KANG MRT STATION\n",
      "Fetched isochrone for interval 35M, MRT: WOODLEIGH MRT STATION\n",
      "Fetched isochrone for interval 35M, MRT: WOODLANDS MRT STATION\n",
      "Fetched isochrone for interval 35M, MRT: UPPER CHANGI MRT STATION\n",
      "Fetched isochrone for interval 35M, MRT: TELOK AYER MRT STATION\n",
      "Fetched isochrone for interval 35M, MRT: TONGKANG LRT STATION\n",
      "Fetched isochrone for interval 35M, MRT: UBI MRT STATION\n",
      "Fetched isochrone for interval 35M, MRT: TOA PAYOH MRT STATION\n",
      "Fetched isochrone for interval 35M, MRT: TIONG BAHRU MRT STATION\n",
      "Fetched isochrone for interval 35M, MRT: THANGGAM LRT STATION\n",
      "Fetched isochrone for interval 35M, MRT: PROMENADE MRT STATION\n",
      "Fetched isochrone for interval 35M, MRT: BRAS BASAH MRT STATION\n",
      "Fetched isochrone for interval 35M, MRT: NICOLL HIGHWAY MRT STATION\n",
      "Fetched isochrone for interval 35M, MRT: POTONG PASIR MRT STATION\n",
      "Fetched isochrone for interval 35M, MRT: LAKESIDE MRT STATION\n",
      "Fetched isochrone for interval 35M, MRT: SAMUDERA LRT STATION\n",
      "Fetched isochrone for interval 35M, MRT: RANGGUNG LRT STATION\n",
      "Fetched isochrone for interval 35M, MRT: SEMBAWANG MRT STATION\n",
      "Fetched isochrone for interval 35M, MRT: PUNGGOL LRT STATION\n",
      "Fetched isochrone for interval 35M, MRT: KANGKAR LRT STATION\n",
      "Fetched isochrone for interval 35M, MRT: PIONEER MRT STATION\n",
      "Fetched isochrone for interval 35M, MRT: BUGIS MRT STATION\n",
      "Fetched isochrone for interval 35M, MRT: NEWTON MRT STATION\n",
      "Fetched isochrone for interval 35M, MRT: BUONA VISTA MRT STATION\n",
      "Fetched isochrone for interval 35M, MRT: OUTRAM PARK MRT STATION\n",
      "Fetched isochrone for interval 35M, MRT: CHINATOWN MRT STATION\n",
      "Fetched isochrone for interval 35M, MRT: EXPO MRT STATION\n",
      "Fetched isochrone for interval 35M, MRT: RAFFLES PLACE MRT STATION\n",
      "Fetched isochrone for interval 35M, MRT: TUAS CRESCENT MRT STATION\n",
      "Fetched isochrone for interval 35M, MRT: TUAS LINK MRT STATION\n",
      "Fetched isochrone for interval 35M, MRT: TUAS WEST ROAD MRT STATION\n",
      "Fetched isochrone for interval 35M, MRT: CITY HALL MRT STATION\n",
      "Fetched isochrone for interval 35M, MRT: BISHAN MRT STATION\n",
      "Fetched isochrone for interval 35M, MRT: FERNVALE LRT STATION\n",
      "Fetched isochrone for interval 35M, MRT: PUNGGOL MRT STATION\n",
      "Fetched isochrone for interval 35M, MRT: BUANGKOK MRT STATION\n",
      "Fetched isochrone for interval 35M, MRT: BAKAU LRT STATION\n",
      "Fetched isochrone for interval 35M, MRT: FARMWAY LRT STATION\n",
      "Fetched isochrone for interval 35M, MRT: COMMONWEALTH MRT STATION\n",
      "Fetched isochrone for interval 35M, MRT: KUPANG LRT STATION\n",
      "Fetched isochrone for interval 35M, MRT: DAMAI LRT STATION\n",
      "Fetched isochrone for interval 35M, MRT: QUEENSTOWN MRT STATION\n",
      "Fetched isochrone for interval 35M, MRT: KALLANG MRT STATION\n",
      "Fetched isochrone for interval 35M, MRT: RUMBIA LRT STATION\n",
      "Fetched isochrone for interval 35M, MRT: PETIR LRT STATION\n",
      "Fetched isochrone for interval 35M, MRT: BOON LAY MRT STATION\n",
      "Fetched isochrone for interval 35M, MRT: KEAT HONG LRT STATION\n",
      "Fetched isochrone for interval 35M, MRT: JELAPANG LRT STATION\n",
      "Fetched isochrone for interval 35M, MRT: CHOA CHU KANG LRT STATION\n",
      "Fetched isochrone for interval 35M, MRT: SENGKANG LRT STATION\n",
      "Fetched isochrone for interval 35M, MRT: HARBOURFRONT MRT STATION\n",
      "Fetched isochrone for interval 35M, MRT: PENDING LRT STATION\n",
      "Fetched isochrone for interval 35M, MRT: CLARKE QUAY MRT STATION\n",
      "Fetched isochrone for interval 35M, MRT: BUKIT PANJANG LRT STATION\n",
      "Fetched isochrone for interval 35M, MRT: FAJAR LRT STATION\n",
      "Fetched isochrone for interval 35M, MRT: KOVAN MRT STATION\n",
      "Fetched isochrone for interval 35M, MRT: LORONG CHUAN MRT STATION\n",
      "Fetched isochrone for interval 35M, MRT: MARYMOUNT MRT STATION\n",
      "Fetched isochrone for interval 35M, MRT: CALDECOTT MRT STATION\n",
      "Fetched isochrone for interval 35M, MRT: DOWNTOWN MRT STATION\n",
      "Fetched isochrone for interval 35M, MRT: GEYLANG BAHRU MRT STATION\n",
      "Fetched isochrone for interval 35M, MRT: BENDEMEER MRT STATION\n",
      "Fetched isochrone for interval 35M, MRT: BENCOOLEN MRT STATION\n",
      "Fetched isochrone for interval 35M, MRT: FORT CANNING MRT STATION\n",
      "Fetched isochrone for interval 35M, MRT: KAKI BUKIT MRT STATION\n",
      "Fetched isochrone for interval 35M, MRT: JALAN BESAR MRT STATION\n",
      "Fetched isochrone for interval 35M, MRT: MATTAR MRT STATION\n",
      "Fetched isochrone for interval 35M, MRT: MACPHERSON MRT STATION\n",
      "Fetched isochrone for interval 35M, MRT: BAYFRONT MRT STATION\n",
      "Fetched isochrone for interval 35M, MRT: FARRER ROAD MRT STATION\n",
      "Fetched isochrone for interval 35M, MRT: JURONG EAST MRT STATION\n",
      "Fetched isochrone for interval 35M, MRT: BEDOK NORTH MRT STATION\n",
      "Fetched isochrone for interval 35M, MRT: BEDOK RESERVOIR MRT STATION\n",
      "Fetched isochrone for interval 35M, MRT: ORCHARD MRT STATION\n",
      "Fetched isochrone for interval 35M, MRT: LENTOR MRT STATION\n",
      "Fetched isochrone for interval 35M, MRT: BRIGHT HILL MRT STATION\n",
      "Fetched isochrone for interval 35M, MRT: SPRINGLEAF MRT STATION\n",
      "Fetched isochrone for interval 35M, MRT: MARINA SOUTH PIER MRT STATION\n",
      "Fetched isochrone for interval 35M, MRT: CANBERRA MRT STATION\n",
      "Fetched isochrone for interval 35M, MRT: WOODLANDS SOUTH MRT STATION\n",
      "Fetched isochrone for interval 35M, MRT: WOODLANDS NORTH MRT STATION\n",
      "Fetched isochrone for interval 35M, MRT: GUL CIRCLE MRT STATION\n",
      "Fetched isochrone for interval 35M, MRT: HAVELOCK MRT STATION\n",
      "Fetched isochrone for interval 35M, MRT: NAPIER MRT STATION\n",
      "Fetched isochrone for interval 35M, MRT: SHENTON WAY MRT STATION\n",
      "Fetched isochrone for interval 35M, MRT: GARDENS BY THE BAY MRT STATION\n",
      "Fetched isochrone for interval 35M, MRT: GREAT WORLD MRT STATION\n",
      "Fetched isochrone for interval 35M, MRT: MAXWELL MRT STATION\n",
      "Fetched isochrone for interval 35M, MRT: ORCHARD BOULEVARD MRT STATION\n",
      "Fetched isochrone for interval 35M, MRT: TELOK BLANGAH MRT STATION\n",
      "Fetched isochrone for interval 35M, MRT: TECK WHYE LRT STATION\n",
      "Fetched isochrone for interval 35M, MRT: TANJONG PAGAR MRT STATION\n",
      "Fetched isochrone for interval 35M, MRT: TANAH MERAH MRT STATION\n",
      "Fetched isochrone for interval 35M, MRT: TAN KAH KEE MRT STATION\n",
      "Fetched isochrone for interval 35M, MRT: UPPER THOMSON MRT STATION\n",
      "Fetched isochrone for interval 35M, MRT: MAYFLOWER MRT STATION\n",
      "Fetched isochrone for interval 40M, MRT: ESPLANADE MRT STATION\n",
      "Fetched isochrone for interval 40M, MRT: PAYA LEBAR MRT STATION\n",
      "Fetched isochrone for interval 40M, MRT: DHOBY GHAUT MRT STATION\n",
      "Fetched isochrone for interval 40M, MRT: DAKOTA MRT STATION\n",
      "Fetched isochrone for interval 40M, MRT: LAVENDER MRT STATION\n",
      "Fetched isochrone for interval 40M, MRT: RENJONG LRT STATION\n",
      "Fetched isochrone for interval 40M, MRT: DOVER MRT STATION\n",
      "Fetched isochrone for interval 40M, MRT: HOUGANG MRT STATION\n",
      "Fetched isochrone for interval 40M, MRT: PHOENIX LRT STATION\n",
      "Fetched isochrone for interval 40M, MRT: ALJUNIED MRT STATION\n",
      "Fetched isochrone for interval 40M, MRT: COVE LRT STATION\n",
      "Fetched isochrone for interval 40M, MRT: PASIR RIS MRT STATION\n",
      "Fetched isochrone for interval 40M, MRT: ADMIRALTY MRT STATION\n",
      "Fetched isochrone for interval 40M, MRT: KEMBANGAN MRT STATION\n",
      "Fetched isochrone for interval 40M, MRT: PUNGGOL POINT LRT STATION\n",
      "Fetched isochrone for interval 40M, MRT: MARSILING MRT STATION\n",
      "Fetched isochrone for interval 40M, MRT: COMPASSVALE LRT STATION\n",
      "Fetched isochrone for interval 40M, MRT: KHATIB MRT STATION\n",
      "Fetched isochrone for interval 40M, MRT: LAYAR LRT STATION\n",
      "Fetched isochrone for interval 40M, MRT: TAMPINES WEST MRT STATION\n",
      "Fetched isochrone for interval 40M, MRT: TAMPINES MRT STATION\n",
      "Fetched isochrone for interval 40M, MRT: TAMPINES EAST MRT STATION\n",
      "Fetched isochrone for interval 40M, MRT: TAI SENG MRT STATION\n",
      "Fetched isochrone for interval 40M, MRT: SUMANG LRT STATION\n",
      "Fetched isochrone for interval 40M, MRT: STEVENS MRT STATION\n",
      "Fetched isochrone for interval 40M, MRT: STADIUM MRT STATION\n",
      "Fetched isochrone for interval 40M, MRT: SIXTH AVENUE MRT STATION\n",
      "Fetched isochrone for interval 40M, MRT: SOUTH VIEW LRT STATION\n",
      "Fetched isochrone for interval 40M, MRT: SOO TECK LRT STATION\n",
      "Fetched isochrone for interval 40M, MRT: SOMERSET MRT STATION\n",
      "Fetched isochrone for interval 40M, MRT: SIMEI MRT STATION\n",
      "Fetched isochrone for interval 40M, MRT: SERANGOON MRT STATION\n",
      "Fetched isochrone for interval 40M, MRT: SENGKANG MRT STATION\n",
      "Fetched isochrone for interval 40M, MRT: BRADDELL MRT STATION\n",
      "Fetched isochrone for interval 40M, MRT: NOVENA MRT STATION\n",
      "Fetched isochrone for interval 40M, MRT: FARRER PARK MRT STATION\n",
      "Fetched isochrone for interval 40M, MRT: BEDOK MRT STATION\n",
      "Fetched isochrone for interval 40M, MRT: REDHILL MRT STATION\n",
      "Fetched isochrone for interval 40M, MRT: CHANGI AIRPORT MRT STATION\n",
      "Fetched isochrone for interval 40M, MRT: CORAL EDGE LRT STATION\n",
      "Fetched isochrone for interval 40M, MRT: CLEMENTI MRT STATION\n",
      "Fetched isochrone for interval 40M, MRT: BUKIT BATOK MRT STATION\n",
      "Fetched isochrone for interval 40M, MRT: OASIS LRT STATION\n",
      "Fetched isochrone for interval 40M, MRT: NIBONG LRT STATION\n",
      "Fetched isochrone for interval 40M, MRT: MERIDIAN LRT STATION\n",
      "Fetched isochrone for interval 40M, MRT: BUKIT GOMBAK MRT STATION\n",
      "Fetched isochrone for interval 40M, MRT: EUNOS MRT STATION\n",
      "Fetched isochrone for interval 40M, MRT: CHINESE GARDEN MRT STATION\n",
      "Fetched isochrone for interval 40M, MRT: KADALOOR LRT STATION\n",
      "Fetched isochrone for interval 40M, MRT: CHENG LIM LRT STATION\n",
      "Fetched isochrone for interval 40M, MRT: SAM KEE LRT STATION\n",
      "Fetched isochrone for interval 40M, MRT: KRANJI MRT STATION\n",
      "Fetched isochrone for interval 40M, MRT: ANG MO KIO MRT STATION\n",
      "Fetched isochrone for interval 40M, MRT: RIVIERA LRT STATION\n",
      "Fetched isochrone for interval 40M, MRT: BANGKIT LRT STATION\n",
      "Fetched isochrone for interval 40M, MRT: PASIR PANJANG MRT STATION\n",
      "Fetched isochrone for interval 40M, MRT: HOLLAND VILLAGE MRT STATION\n",
      "Fetched isochrone for interval 40M, MRT: LABRADOR PARK MRT STATION\n",
      "Fetched isochrone for interval 40M, MRT: BOTANIC GARDENS MRT STATION\n",
      "Fetched isochrone for interval 40M, MRT: ONE-NORTH MRT STATION\n",
      "Fetched isochrone for interval 40M, MRT: KENT RIDGE MRT STATION\n",
      "Fetched isochrone for interval 40M, MRT: HAW PAR VILLA MRT STATION\n",
      "Fetched isochrone for interval 40M, MRT: MARINA BAY MRT STATION\n",
      "Fetched isochrone for interval 40M, MRT: KING ALBERT PARK MRT STATION\n",
      "Fetched isochrone for interval 40M, MRT: LITTLE INDIA MRT STATION\n",
      "Fetched isochrone for interval 40M, MRT: ROCHOR MRT STATION\n",
      "Fetched isochrone for interval 40M, MRT: SENJA LRT STATION\n",
      "Fetched isochrone for interval 40M, MRT: MOUNTBATTEN MRT STATION\n",
      "Fetched isochrone for interval 40M, MRT: CHOA CHU KANG MRT STATION\n",
      "Fetched isochrone for interval 40M, MRT: BOON KENG MRT STATION\n",
      "Fetched isochrone for interval 40M, MRT: BARTLEY MRT STATION\n",
      "Fetched isochrone for interval 40M, MRT: SEGAR LRT STATION\n",
      "Fetched isochrone for interval 40M, MRT: HILLVIEW MRT STATION\n",
      "Fetched isochrone for interval 40M, MRT: BEAUTY WORLD MRT STATION\n",
      "Fetched isochrone for interval 40M, MRT: BUKIT PANJANG MRT STATION\n",
      "Fetched isochrone for interval 40M, MRT: CASHEW MRT STATION\n",
      "Fetched isochrone for interval 40M, MRT: JOO KOON MRT STATION\n",
      "Fetched isochrone for interval 40M, MRT: YEW TEE MRT STATION\n",
      "Fetched isochrone for interval 40M, MRT: YISHUN MRT STATION\n",
      "Fetched isochrone for interval 40M, MRT: YIO CHU KANG MRT STATION\n",
      "Fetched isochrone for interval 40M, MRT: WOODLEIGH MRT STATION\n",
      "Fetched isochrone for interval 40M, MRT: WOODLANDS MRT STATION\n",
      "Fetched isochrone for interval 40M, MRT: UPPER CHANGI MRT STATION\n",
      "Fetched isochrone for interval 40M, MRT: TELOK AYER MRT STATION\n",
      "Fetched isochrone for interval 40M, MRT: TONGKANG LRT STATION\n",
      "Fetched isochrone for interval 40M, MRT: UBI MRT STATION\n",
      "Fetched isochrone for interval 40M, MRT: TOA PAYOH MRT STATION\n",
      "Fetched isochrone for interval 40M, MRT: TIONG BAHRU MRT STATION\n",
      "Fetched isochrone for interval 40M, MRT: THANGGAM LRT STATION\n",
      "Fetched isochrone for interval 40M, MRT: PROMENADE MRT STATION\n",
      "Fetched isochrone for interval 40M, MRT: BRAS BASAH MRT STATION\n",
      "Fetched isochrone for interval 40M, MRT: NICOLL HIGHWAY MRT STATION\n",
      "Fetched isochrone for interval 40M, MRT: POTONG PASIR MRT STATION\n",
      "Fetched isochrone for interval 40M, MRT: LAKESIDE MRT STATION\n",
      "Fetched isochrone for interval 40M, MRT: SAMUDERA LRT STATION\n",
      "Fetched isochrone for interval 40M, MRT: RANGGUNG LRT STATION\n",
      "Fetched isochrone for interval 40M, MRT: SEMBAWANG MRT STATION\n",
      "Fetched isochrone for interval 40M, MRT: PUNGGOL LRT STATION\n",
      "Fetched isochrone for interval 40M, MRT: KANGKAR LRT STATION\n",
      "Fetched isochrone for interval 40M, MRT: PIONEER MRT STATION\n",
      "Fetched isochrone for interval 40M, MRT: BUGIS MRT STATION\n",
      "Fetched isochrone for interval 40M, MRT: NEWTON MRT STATION\n",
      "Fetched isochrone for interval 40M, MRT: BUONA VISTA MRT STATION\n",
      "Fetched isochrone for interval 40M, MRT: OUTRAM PARK MRT STATION\n",
      "Fetched isochrone for interval 40M, MRT: CHINATOWN MRT STATION\n",
      "Fetched isochrone for interval 40M, MRT: EXPO MRT STATION\n",
      "Fetched isochrone for interval 40M, MRT: RAFFLES PLACE MRT STATION\n",
      "Fetched isochrone for interval 40M, MRT: TUAS CRESCENT MRT STATION\n",
      "Fetched isochrone for interval 40M, MRT: TUAS LINK MRT STATION\n",
      "Fetched isochrone for interval 40M, MRT: TUAS WEST ROAD MRT STATION\n",
      "Fetched isochrone for interval 40M, MRT: CITY HALL MRT STATION\n",
      "Fetched isochrone for interval 40M, MRT: BISHAN MRT STATION\n",
      "Fetched isochrone for interval 40M, MRT: FERNVALE LRT STATION\n",
      "Fetched isochrone for interval 40M, MRT: PUNGGOL MRT STATION\n",
      "Fetched isochrone for interval 40M, MRT: BUANGKOK MRT STATION\n",
      "Fetched isochrone for interval 40M, MRT: BAKAU LRT STATION\n",
      "Fetched isochrone for interval 40M, MRT: FARMWAY LRT STATION\n",
      "Fetched isochrone for interval 40M, MRT: COMMONWEALTH MRT STATION\n",
      "Fetched isochrone for interval 40M, MRT: KUPANG LRT STATION\n",
      "Fetched isochrone for interval 40M, MRT: DAMAI LRT STATION\n",
      "Fetched isochrone for interval 40M, MRT: QUEENSTOWN MRT STATION\n",
      "Fetched isochrone for interval 40M, MRT: KALLANG MRT STATION\n",
      "Fetched isochrone for interval 40M, MRT: RUMBIA LRT STATION\n",
      "Fetched isochrone for interval 40M, MRT: PETIR LRT STATION\n",
      "Fetched isochrone for interval 40M, MRT: BOON LAY MRT STATION\n",
      "Fetched isochrone for interval 40M, MRT: KEAT HONG LRT STATION\n",
      "Fetched isochrone for interval 40M, MRT: JELAPANG LRT STATION\n",
      "Fetched isochrone for interval 40M, MRT: CHOA CHU KANG LRT STATION\n",
      "Fetched isochrone for interval 40M, MRT: SENGKANG LRT STATION\n",
      "Fetched isochrone for interval 40M, MRT: HARBOURFRONT MRT STATION\n",
      "Fetched isochrone for interval 40M, MRT: PENDING LRT STATION\n",
      "Fetched isochrone for interval 40M, MRT: CLARKE QUAY MRT STATION\n",
      "Fetched isochrone for interval 40M, MRT: BUKIT PANJANG LRT STATION\n",
      "Fetched isochrone for interval 40M, MRT: FAJAR LRT STATION\n",
      "Fetched isochrone for interval 40M, MRT: KOVAN MRT STATION\n",
      "Fetched isochrone for interval 40M, MRT: LORONG CHUAN MRT STATION\n",
      "Fetched isochrone for interval 40M, MRT: MARYMOUNT MRT STATION\n",
      "Fetched isochrone for interval 40M, MRT: CALDECOTT MRT STATION\n",
      "Fetched isochrone for interval 40M, MRT: DOWNTOWN MRT STATION\n",
      "Fetched isochrone for interval 40M, MRT: GEYLANG BAHRU MRT STATION\n",
      "Fetched isochrone for interval 40M, MRT: BENDEMEER MRT STATION\n",
      "Fetched isochrone for interval 40M, MRT: BENCOOLEN MRT STATION\n",
      "Fetched isochrone for interval 40M, MRT: FORT CANNING MRT STATION\n",
      "Fetched isochrone for interval 40M, MRT: KAKI BUKIT MRT STATION\n",
      "Fetched isochrone for interval 40M, MRT: JALAN BESAR MRT STATION\n",
      "Fetched isochrone for interval 40M, MRT: MATTAR MRT STATION\n",
      "Fetched isochrone for interval 40M, MRT: MACPHERSON MRT STATION\n",
      "Fetched isochrone for interval 40M, MRT: BAYFRONT MRT STATION\n",
      "Fetched isochrone for interval 40M, MRT: FARRER ROAD MRT STATION\n",
      "Fetched isochrone for interval 40M, MRT: JURONG EAST MRT STATION\n",
      "Fetched isochrone for interval 40M, MRT: BEDOK NORTH MRT STATION\n",
      "Fetched isochrone for interval 40M, MRT: BEDOK RESERVOIR MRT STATION\n",
      "Fetched isochrone for interval 40M, MRT: ORCHARD MRT STATION\n",
      "Fetched isochrone for interval 40M, MRT: LENTOR MRT STATION\n",
      "Fetched isochrone for interval 40M, MRT: BRIGHT HILL MRT STATION\n",
      "Fetched isochrone for interval 40M, MRT: SPRINGLEAF MRT STATION\n",
      "Fetched isochrone for interval 40M, MRT: MARINA SOUTH PIER MRT STATION\n",
      "Fetched isochrone for interval 40M, MRT: CANBERRA MRT STATION\n",
      "Fetched isochrone for interval 40M, MRT: WOODLANDS SOUTH MRT STATION\n",
      "Fetched isochrone for interval 40M, MRT: WOODLANDS NORTH MRT STATION\n",
      "Fetched isochrone for interval 40M, MRT: GUL CIRCLE MRT STATION\n",
      "Fetched isochrone for interval 40M, MRT: HAVELOCK MRT STATION\n",
      "Fetched isochrone for interval 40M, MRT: NAPIER MRT STATION\n",
      "Fetched isochrone for interval 40M, MRT: SHENTON WAY MRT STATION\n",
      "Fetched isochrone for interval 40M, MRT: GARDENS BY THE BAY MRT STATION\n",
      "Fetched isochrone for interval 40M, MRT: GREAT WORLD MRT STATION\n",
      "Fetched isochrone for interval 40M, MRT: MAXWELL MRT STATION\n",
      "Fetched isochrone for interval 40M, MRT: ORCHARD BOULEVARD MRT STATION\n",
      "Fetched isochrone for interval 40M, MRT: TELOK BLANGAH MRT STATION\n",
      "Fetched isochrone for interval 40M, MRT: TECK WHYE LRT STATION\n",
      "Fetched isochrone for interval 40M, MRT: TANJONG PAGAR MRT STATION\n",
      "Fetched isochrone for interval 40M, MRT: TANAH MERAH MRT STATION\n",
      "Fetched isochrone for interval 40M, MRT: TAN KAH KEE MRT STATION\n",
      "Fetched isochrone for interval 40M, MRT: UPPER THOMSON MRT STATION\n",
      "Fetched isochrone for interval 40M, MRT: MAYFLOWER MRT STATION\n",
      "Fetched isochrone for interval 45M, MRT: ESPLANADE MRT STATION\n",
      "Fetched isochrone for interval 45M, MRT: PAYA LEBAR MRT STATION\n",
      "Fetched isochrone for interval 45M, MRT: DHOBY GHAUT MRT STATION\n",
      "Fetched isochrone for interval 45M, MRT: DAKOTA MRT STATION\n",
      "Fetched isochrone for interval 45M, MRT: LAVENDER MRT STATION\n",
      "Fetched isochrone for interval 45M, MRT: RENJONG LRT STATION\n",
      "Fetched isochrone for interval 45M, MRT: DOVER MRT STATION\n",
      "Fetched isochrone for interval 45M, MRT: HOUGANG MRT STATION\n",
      "Fetched isochrone for interval 45M, MRT: PHOENIX LRT STATION\n",
      "Fetched isochrone for interval 45M, MRT: ALJUNIED MRT STATION\n",
      "Fetched isochrone for interval 45M, MRT: COVE LRT STATION\n",
      "Fetched isochrone for interval 45M, MRT: PASIR RIS MRT STATION\n",
      "Fetched isochrone for interval 45M, MRT: ADMIRALTY MRT STATION\n",
      "Fetched isochrone for interval 45M, MRT: KEMBANGAN MRT STATION\n",
      "Fetched isochrone for interval 45M, MRT: PUNGGOL POINT LRT STATION\n",
      "Fetched isochrone for interval 45M, MRT: MARSILING MRT STATION\n",
      "Fetched isochrone for interval 45M, MRT: COMPASSVALE LRT STATION\n",
      "Fetched isochrone for interval 45M, MRT: KHATIB MRT STATION\n",
      "Fetched isochrone for interval 45M, MRT: LAYAR LRT STATION\n",
      "Fetched isochrone for interval 45M, MRT: TAMPINES WEST MRT STATION\n",
      "Fetched isochrone for interval 45M, MRT: TAMPINES MRT STATION\n",
      "Fetched isochrone for interval 45M, MRT: TAMPINES EAST MRT STATION\n",
      "Fetched isochrone for interval 45M, MRT: TAI SENG MRT STATION\n",
      "Fetched isochrone for interval 45M, MRT: SUMANG LRT STATION\n",
      "Fetched isochrone for interval 45M, MRT: STEVENS MRT STATION\n",
      "Fetched isochrone for interval 45M, MRT: STADIUM MRT STATION\n",
      "Fetched isochrone for interval 45M, MRT: SIXTH AVENUE MRT STATION\n",
      "Fetched isochrone for interval 45M, MRT: SOUTH VIEW LRT STATION\n",
      "Fetched isochrone for interval 45M, MRT: SOO TECK LRT STATION\n",
      "Fetched isochrone for interval 45M, MRT: SOMERSET MRT STATION\n",
      "Fetched isochrone for interval 45M, MRT: SIMEI MRT STATION\n",
      "Fetched isochrone for interval 45M, MRT: SERANGOON MRT STATION\n",
      "Fetched isochrone for interval 45M, MRT: SENGKANG MRT STATION\n",
      "Fetched isochrone for interval 45M, MRT: BRADDELL MRT STATION\n",
      "Fetched isochrone for interval 45M, MRT: NOVENA MRT STATION\n",
      "Fetched isochrone for interval 45M, MRT: FARRER PARK MRT STATION\n",
      "Fetched isochrone for interval 45M, MRT: BEDOK MRT STATION\n",
      "Fetched isochrone for interval 45M, MRT: REDHILL MRT STATION\n",
      "Fetched isochrone for interval 45M, MRT: CHANGI AIRPORT MRT STATION\n",
      "Fetched isochrone for interval 45M, MRT: CORAL EDGE LRT STATION\n",
      "Fetched isochrone for interval 45M, MRT: CLEMENTI MRT STATION\n",
      "Fetched isochrone for interval 45M, MRT: BUKIT BATOK MRT STATION\n",
      "Fetched isochrone for interval 45M, MRT: OASIS LRT STATION\n",
      "Fetched isochrone for interval 45M, MRT: NIBONG LRT STATION\n",
      "Fetched isochrone for interval 45M, MRT: MERIDIAN LRT STATION\n",
      "Fetched isochrone for interval 45M, MRT: BUKIT GOMBAK MRT STATION\n",
      "Fetched isochrone for interval 45M, MRT: EUNOS MRT STATION\n",
      "Fetched isochrone for interval 45M, MRT: CHINESE GARDEN MRT STATION\n",
      "Fetched isochrone for interval 45M, MRT: KADALOOR LRT STATION\n",
      "Fetched isochrone for interval 45M, MRT: CHENG LIM LRT STATION\n",
      "Fetched isochrone for interval 45M, MRT: SAM KEE LRT STATION\n",
      "Fetched isochrone for interval 45M, MRT: KRANJI MRT STATION\n",
      "Fetched isochrone for interval 45M, MRT: ANG MO KIO MRT STATION\n",
      "Fetched isochrone for interval 45M, MRT: RIVIERA LRT STATION\n",
      "Fetched isochrone for interval 45M, MRT: BANGKIT LRT STATION\n",
      "Fetched isochrone for interval 45M, MRT: PASIR PANJANG MRT STATION\n",
      "Fetched isochrone for interval 45M, MRT: HOLLAND VILLAGE MRT STATION\n",
      "Fetched isochrone for interval 45M, MRT: LABRADOR PARK MRT STATION\n",
      "Fetched isochrone for interval 45M, MRT: BOTANIC GARDENS MRT STATION\n",
      "Fetched isochrone for interval 45M, MRT: ONE-NORTH MRT STATION\n",
      "Fetched isochrone for interval 45M, MRT: KENT RIDGE MRT STATION\n",
      "Fetched isochrone for interval 45M, MRT: HAW PAR VILLA MRT STATION\n",
      "Fetched isochrone for interval 45M, MRT: MARINA BAY MRT STATION\n",
      "Fetched isochrone for interval 45M, MRT: KING ALBERT PARK MRT STATION\n",
      "Fetched isochrone for interval 45M, MRT: LITTLE INDIA MRT STATION\n",
      "Fetched isochrone for interval 45M, MRT: ROCHOR MRT STATION\n",
      "Fetched isochrone for interval 45M, MRT: SENJA LRT STATION\n",
      "Fetched isochrone for interval 45M, MRT: MOUNTBATTEN MRT STATION\n",
      "Fetched isochrone for interval 45M, MRT: CHOA CHU KANG MRT STATION\n",
      "Fetched isochrone for interval 45M, MRT: BOON KENG MRT STATION\n",
      "Fetched isochrone for interval 45M, MRT: BARTLEY MRT STATION\n",
      "Fetched isochrone for interval 45M, MRT: SEGAR LRT STATION\n",
      "Fetched isochrone for interval 45M, MRT: HILLVIEW MRT STATION\n",
      "Fetched isochrone for interval 45M, MRT: BEAUTY WORLD MRT STATION\n",
      "Fetched isochrone for interval 45M, MRT: BUKIT PANJANG MRT STATION\n",
      "Fetched isochrone for interval 45M, MRT: CASHEW MRT STATION\n",
      "Fetched isochrone for interval 45M, MRT: JOO KOON MRT STATION\n",
      "Fetched isochrone for interval 45M, MRT: YEW TEE MRT STATION\n",
      "Fetched isochrone for interval 45M, MRT: YISHUN MRT STATION\n",
      "Fetched isochrone for interval 45M, MRT: YIO CHU KANG MRT STATION\n",
      "Fetched isochrone for interval 45M, MRT: WOODLEIGH MRT STATION\n",
      "Fetched isochrone for interval 45M, MRT: WOODLANDS MRT STATION\n",
      "Fetched isochrone for interval 45M, MRT: UPPER CHANGI MRT STATION\n",
      "Fetched isochrone for interval 45M, MRT: TELOK AYER MRT STATION\n",
      "Fetched isochrone for interval 45M, MRT: TONGKANG LRT STATION\n",
      "Fetched isochrone for interval 45M, MRT: UBI MRT STATION\n",
      "Fetched isochrone for interval 45M, MRT: TOA PAYOH MRT STATION\n",
      "Fetched isochrone for interval 45M, MRT: TIONG BAHRU MRT STATION\n",
      "Fetched isochrone for interval 45M, MRT: THANGGAM LRT STATION\n",
      "Fetched isochrone for interval 45M, MRT: PROMENADE MRT STATION\n",
      "Fetched isochrone for interval 45M, MRT: BRAS BASAH MRT STATION\n",
      "Fetched isochrone for interval 45M, MRT: NICOLL HIGHWAY MRT STATION\n",
      "Fetched isochrone for interval 45M, MRT: POTONG PASIR MRT STATION\n",
      "Fetched isochrone for interval 45M, MRT: LAKESIDE MRT STATION\n",
      "Fetched isochrone for interval 45M, MRT: SAMUDERA LRT STATION\n",
      "Fetched isochrone for interval 45M, MRT: RANGGUNG LRT STATION\n",
      "Fetched isochrone for interval 45M, MRT: SEMBAWANG MRT STATION\n",
      "Fetched isochrone for interval 45M, MRT: PUNGGOL LRT STATION\n",
      "Fetched isochrone for interval 45M, MRT: KANGKAR LRT STATION\n",
      "Fetched isochrone for interval 45M, MRT: PIONEER MRT STATION\n",
      "Fetched isochrone for interval 45M, MRT: BUGIS MRT STATION\n",
      "Fetched isochrone for interval 45M, MRT: NEWTON MRT STATION\n",
      "Fetched isochrone for interval 45M, MRT: BUONA VISTA MRT STATION\n",
      "Fetched isochrone for interval 45M, MRT: OUTRAM PARK MRT STATION\n",
      "Fetched isochrone for interval 45M, MRT: CHINATOWN MRT STATION\n",
      "Fetched isochrone for interval 45M, MRT: EXPO MRT STATION\n",
      "Fetched isochrone for interval 45M, MRT: RAFFLES PLACE MRT STATION\n",
      "Fetched isochrone for interval 45M, MRT: TUAS CRESCENT MRT STATION\n",
      "Fetched isochrone for interval 45M, MRT: TUAS LINK MRT STATION\n",
      "Fetched isochrone for interval 45M, MRT: TUAS WEST ROAD MRT STATION\n",
      "Fetched isochrone for interval 45M, MRT: CITY HALL MRT STATION\n",
      "Fetched isochrone for interval 45M, MRT: BISHAN MRT STATION\n",
      "Fetched isochrone for interval 45M, MRT: FERNVALE LRT STATION\n",
      "Fetched isochrone for interval 45M, MRT: PUNGGOL MRT STATION\n",
      "Fetched isochrone for interval 45M, MRT: BUANGKOK MRT STATION\n",
      "Fetched isochrone for interval 45M, MRT: BAKAU LRT STATION\n",
      "Fetched isochrone for interval 45M, MRT: FARMWAY LRT STATION\n",
      "Fetched isochrone for interval 45M, MRT: COMMONWEALTH MRT STATION\n",
      "Fetched isochrone for interval 45M, MRT: KUPANG LRT STATION\n",
      "Fetched isochrone for interval 45M, MRT: DAMAI LRT STATION\n",
      "Fetched isochrone for interval 45M, MRT: QUEENSTOWN MRT STATION\n",
      "Fetched isochrone for interval 45M, MRT: KALLANG MRT STATION\n",
      "Fetched isochrone for interval 45M, MRT: RUMBIA LRT STATION\n",
      "Fetched isochrone for interval 45M, MRT: PETIR LRT STATION\n",
      "Fetched isochrone for interval 45M, MRT: BOON LAY MRT STATION\n",
      "Fetched isochrone for interval 45M, MRT: KEAT HONG LRT STATION\n",
      "Fetched isochrone for interval 45M, MRT: JELAPANG LRT STATION\n",
      "Fetched isochrone for interval 45M, MRT: CHOA CHU KANG LRT STATION\n",
      "Fetched isochrone for interval 45M, MRT: SENGKANG LRT STATION\n",
      "Fetched isochrone for interval 45M, MRT: HARBOURFRONT MRT STATION\n",
      "Fetched isochrone for interval 45M, MRT: PENDING LRT STATION\n",
      "Fetched isochrone for interval 45M, MRT: CLARKE QUAY MRT STATION\n",
      "Fetched isochrone for interval 45M, MRT: BUKIT PANJANG LRT STATION\n",
      "Fetched isochrone for interval 45M, MRT: FAJAR LRT STATION\n",
      "Fetched isochrone for interval 45M, MRT: KOVAN MRT STATION\n",
      "Fetched isochrone for interval 45M, MRT: LORONG CHUAN MRT STATION\n",
      "Fetched isochrone for interval 45M, MRT: MARYMOUNT MRT STATION\n",
      "Fetched isochrone for interval 45M, MRT: CALDECOTT MRT STATION\n",
      "Fetched isochrone for interval 45M, MRT: DOWNTOWN MRT STATION\n",
      "Fetched isochrone for interval 45M, MRT: GEYLANG BAHRU MRT STATION\n",
      "Fetched isochrone for interval 45M, MRT: BENDEMEER MRT STATION\n",
      "Fetched isochrone for interval 45M, MRT: BENCOOLEN MRT STATION\n",
      "Fetched isochrone for interval 45M, MRT: FORT CANNING MRT STATION\n",
      "Fetched isochrone for interval 45M, MRT: KAKI BUKIT MRT STATION\n",
      "Fetched isochrone for interval 45M, MRT: JALAN BESAR MRT STATION\n",
      "Fetched isochrone for interval 45M, MRT: MATTAR MRT STATION\n",
      "Fetched isochrone for interval 45M, MRT: MACPHERSON MRT STATION\n",
      "Fetched isochrone for interval 45M, MRT: BAYFRONT MRT STATION\n",
      "Fetched isochrone for interval 45M, MRT: FARRER ROAD MRT STATION\n",
      "Fetched isochrone for interval 45M, MRT: JURONG EAST MRT STATION\n",
      "Fetched isochrone for interval 45M, MRT: BEDOK NORTH MRT STATION\n",
      "Fetched isochrone for interval 45M, MRT: BEDOK RESERVOIR MRT STATION\n",
      "Fetched isochrone for interval 45M, MRT: ORCHARD MRT STATION\n",
      "Fetched isochrone for interval 45M, MRT: LENTOR MRT STATION\n",
      "Fetched isochrone for interval 45M, MRT: BRIGHT HILL MRT STATION\n",
      "Fetched isochrone for interval 45M, MRT: SPRINGLEAF MRT STATION\n",
      "Fetched isochrone for interval 45M, MRT: MARINA SOUTH PIER MRT STATION\n",
      "Fetched isochrone for interval 45M, MRT: CANBERRA MRT STATION\n",
      "Fetched isochrone for interval 45M, MRT: WOODLANDS SOUTH MRT STATION\n",
      "Fetched isochrone for interval 45M, MRT: WOODLANDS NORTH MRT STATION\n",
      "Fetched isochrone for interval 45M, MRT: GUL CIRCLE MRT STATION\n",
      "Fetched isochrone for interval 45M, MRT: HAVELOCK MRT STATION\n",
      "Fetched isochrone for interval 45M, MRT: NAPIER MRT STATION\n",
      "Fetched isochrone for interval 45M, MRT: SHENTON WAY MRT STATION\n",
      "Fetched isochrone for interval 45M, MRT: GARDENS BY THE BAY MRT STATION\n",
      "Fetched isochrone for interval 45M, MRT: GREAT WORLD MRT STATION\n",
      "Fetched isochrone for interval 45M, MRT: MAXWELL MRT STATION\n",
      "Fetched isochrone for interval 45M, MRT: ORCHARD BOULEVARD MRT STATION\n",
      "Fetched isochrone for interval 45M, MRT: TELOK BLANGAH MRT STATION\n",
      "Fetched isochrone for interval 45M, MRT: TECK WHYE LRT STATION\n",
      "Fetched isochrone for interval 45M, MRT: TANJONG PAGAR MRT STATION\n",
      "Fetched isochrone for interval 45M, MRT: TANAH MERAH MRT STATION\n",
      "Fetched isochrone for interval 45M, MRT: TAN KAH KEE MRT STATION\n",
      "Fetched isochrone for interval 45M, MRT: UPPER THOMSON MRT STATION\n",
      "Fetched isochrone for interval 45M, MRT: MAYFLOWER MRT STATION\n",
      "Fetched isochrone for interval 50M, MRT: ESPLANADE MRT STATION\n",
      "Fetched isochrone for interval 50M, MRT: PAYA LEBAR MRT STATION\n",
      "Fetched isochrone for interval 50M, MRT: DHOBY GHAUT MRT STATION\n",
      "Fetched isochrone for interval 50M, MRT: DAKOTA MRT STATION\n",
      "Fetched isochrone for interval 50M, MRT: LAVENDER MRT STATION\n",
      "Fetched isochrone for interval 50M, MRT: RENJONG LRT STATION\n",
      "Fetched isochrone for interval 50M, MRT: DOVER MRT STATION\n",
      "Fetched isochrone for interval 50M, MRT: HOUGANG MRT STATION\n",
      "Fetched isochrone for interval 50M, MRT: PHOENIX LRT STATION\n",
      "Fetched isochrone for interval 50M, MRT: ALJUNIED MRT STATION\n",
      "Fetched isochrone for interval 50M, MRT: COVE LRT STATION\n",
      "Fetched isochrone for interval 50M, MRT: PASIR RIS MRT STATION\n",
      "Fetched isochrone for interval 50M, MRT: ADMIRALTY MRT STATION\n",
      "Fetched isochrone for interval 50M, MRT: KEMBANGAN MRT STATION\n",
      "Fetched isochrone for interval 50M, MRT: PUNGGOL POINT LRT STATION\n",
      "Fetched isochrone for interval 50M, MRT: MARSILING MRT STATION\n",
      "Fetched isochrone for interval 50M, MRT: COMPASSVALE LRT STATION\n",
      "Fetched isochrone for interval 50M, MRT: KHATIB MRT STATION\n",
      "Fetched isochrone for interval 50M, MRT: LAYAR LRT STATION\n",
      "Fetched isochrone for interval 50M, MRT: TAMPINES WEST MRT STATION\n",
      "Fetched isochrone for interval 50M, MRT: TAMPINES MRT STATION\n",
      "Fetched isochrone for interval 50M, MRT: TAMPINES EAST MRT STATION\n",
      "Fetched isochrone for interval 50M, MRT: TAI SENG MRT STATION\n",
      "Fetched isochrone for interval 50M, MRT: SUMANG LRT STATION\n",
      "Fetched isochrone for interval 50M, MRT: STEVENS MRT STATION\n",
      "Fetched isochrone for interval 50M, MRT: STADIUM MRT STATION\n",
      "Fetched isochrone for interval 50M, MRT: SIXTH AVENUE MRT STATION\n",
      "Fetched isochrone for interval 50M, MRT: SOUTH VIEW LRT STATION\n",
      "Fetched isochrone for interval 50M, MRT: SOO TECK LRT STATION\n",
      "Fetched isochrone for interval 50M, MRT: SOMERSET MRT STATION\n",
      "Fetched isochrone for interval 50M, MRT: SIMEI MRT STATION\n",
      "Fetched isochrone for interval 50M, MRT: SERANGOON MRT STATION\n",
      "Fetched isochrone for interval 50M, MRT: SENGKANG MRT STATION\n",
      "Fetched isochrone for interval 50M, MRT: BRADDELL MRT STATION\n",
      "Fetched isochrone for interval 50M, MRT: NOVENA MRT STATION\n",
      "Fetched isochrone for interval 50M, MRT: FARRER PARK MRT STATION\n",
      "Fetched isochrone for interval 50M, MRT: BEDOK MRT STATION\n",
      "Fetched isochrone for interval 50M, MRT: REDHILL MRT STATION\n",
      "Fetched isochrone for interval 50M, MRT: CHANGI AIRPORT MRT STATION\n",
      "Fetched isochrone for interval 50M, MRT: CORAL EDGE LRT STATION\n",
      "Fetched isochrone for interval 50M, MRT: CLEMENTI MRT STATION\n",
      "Fetched isochrone for interval 50M, MRT: BUKIT BATOK MRT STATION\n",
      "Fetched isochrone for interval 50M, MRT: OASIS LRT STATION\n",
      "Fetched isochrone for interval 50M, MRT: NIBONG LRT STATION\n",
      "Fetched isochrone for interval 50M, MRT: MERIDIAN LRT STATION\n",
      "Fetched isochrone for interval 50M, MRT: BUKIT GOMBAK MRT STATION\n",
      "Fetched isochrone for interval 50M, MRT: EUNOS MRT STATION\n",
      "Fetched isochrone for interval 50M, MRT: CHINESE GARDEN MRT STATION\n",
      "Fetched isochrone for interval 50M, MRT: KADALOOR LRT STATION\n",
      "Fetched isochrone for interval 50M, MRT: CHENG LIM LRT STATION\n",
      "Fetched isochrone for interval 50M, MRT: SAM KEE LRT STATION\n",
      "Fetched isochrone for interval 50M, MRT: KRANJI MRT STATION\n",
      "Fetched isochrone for interval 50M, MRT: ANG MO KIO MRT STATION\n",
      "Fetched isochrone for interval 50M, MRT: RIVIERA LRT STATION\n",
      "Fetched isochrone for interval 50M, MRT: BANGKIT LRT STATION\n",
      "Fetched isochrone for interval 50M, MRT: PASIR PANJANG MRT STATION\n",
      "Fetched isochrone for interval 50M, MRT: HOLLAND VILLAGE MRT STATION\n",
      "Fetched isochrone for interval 50M, MRT: LABRADOR PARK MRT STATION\n",
      "Fetched isochrone for interval 50M, MRT: BOTANIC GARDENS MRT STATION\n",
      "Fetched isochrone for interval 50M, MRT: ONE-NORTH MRT STATION\n",
      "Fetched isochrone for interval 50M, MRT: KENT RIDGE MRT STATION\n",
      "Fetched isochrone for interval 50M, MRT: HAW PAR VILLA MRT STATION\n",
      "Fetched isochrone for interval 50M, MRT: MARINA BAY MRT STATION\n",
      "Fetched isochrone for interval 50M, MRT: KING ALBERT PARK MRT STATION\n",
      "Fetched isochrone for interval 50M, MRT: LITTLE INDIA MRT STATION\n",
      "Fetched isochrone for interval 50M, MRT: ROCHOR MRT STATION\n",
      "Fetched isochrone for interval 50M, MRT: SENJA LRT STATION\n",
      "Fetched isochrone for interval 50M, MRT: MOUNTBATTEN MRT STATION\n",
      "Fetched isochrone for interval 50M, MRT: CHOA CHU KANG MRT STATION\n",
      "Fetched isochrone for interval 50M, MRT: BOON KENG MRT STATION\n",
      "Fetched isochrone for interval 50M, MRT: BARTLEY MRT STATION\n",
      "Fetched isochrone for interval 50M, MRT: SEGAR LRT STATION\n",
      "Fetched isochrone for interval 50M, MRT: HILLVIEW MRT STATION\n",
      "Fetched isochrone for interval 50M, MRT: BEAUTY WORLD MRT STATION\n",
      "Fetched isochrone for interval 50M, MRT: BUKIT PANJANG MRT STATION\n",
      "Fetched isochrone for interval 50M, MRT: CASHEW MRT STATION\n",
      "Fetched isochrone for interval 50M, MRT: JOO KOON MRT STATION\n",
      "Fetched isochrone for interval 50M, MRT: YEW TEE MRT STATION\n",
      "Fetched isochrone for interval 50M, MRT: YISHUN MRT STATION\n",
      "Fetched isochrone for interval 50M, MRT: YIO CHU KANG MRT STATION\n",
      "Fetched isochrone for interval 50M, MRT: WOODLEIGH MRT STATION\n",
      "Fetched isochrone for interval 50M, MRT: WOODLANDS MRT STATION\n",
      "Fetched isochrone for interval 50M, MRT: UPPER CHANGI MRT STATION\n",
      "Fetched isochrone for interval 50M, MRT: TELOK AYER MRT STATION\n",
      "Fetched isochrone for interval 50M, MRT: TONGKANG LRT STATION\n",
      "Fetched isochrone for interval 50M, MRT: UBI MRT STATION\n",
      "Fetched isochrone for interval 50M, MRT: TOA PAYOH MRT STATION\n",
      "Fetched isochrone for interval 50M, MRT: TIONG BAHRU MRT STATION\n",
      "Fetched isochrone for interval 50M, MRT: THANGGAM LRT STATION\n",
      "Fetched isochrone for interval 50M, MRT: PROMENADE MRT STATION\n",
      "Fetched isochrone for interval 50M, MRT: BRAS BASAH MRT STATION\n",
      "Fetched isochrone for interval 50M, MRT: NICOLL HIGHWAY MRT STATION\n",
      "Fetched isochrone for interval 50M, MRT: POTONG PASIR MRT STATION\n",
      "Fetched isochrone for interval 50M, MRT: LAKESIDE MRT STATION\n",
      "Fetched isochrone for interval 50M, MRT: SAMUDERA LRT STATION\n",
      "Fetched isochrone for interval 50M, MRT: RANGGUNG LRT STATION\n",
      "Fetched isochrone for interval 50M, MRT: SEMBAWANG MRT STATION\n",
      "Fetched isochrone for interval 50M, MRT: PUNGGOL LRT STATION\n",
      "Fetched isochrone for interval 50M, MRT: KANGKAR LRT STATION\n",
      "Fetched isochrone for interval 50M, MRT: PIONEER MRT STATION\n",
      "Fetched isochrone for interval 50M, MRT: BUGIS MRT STATION\n",
      "Fetched isochrone for interval 50M, MRT: NEWTON MRT STATION\n",
      "Fetched isochrone for interval 50M, MRT: BUONA VISTA MRT STATION\n",
      "Fetched isochrone for interval 50M, MRT: OUTRAM PARK MRT STATION\n",
      "Fetched isochrone for interval 50M, MRT: CHINATOWN MRT STATION\n",
      "Fetched isochrone for interval 50M, MRT: EXPO MRT STATION\n",
      "Fetched isochrone for interval 50M, MRT: RAFFLES PLACE MRT STATION\n",
      "Fetched isochrone for interval 50M, MRT: TUAS CRESCENT MRT STATION\n",
      "Fetched isochrone for interval 50M, MRT: TUAS LINK MRT STATION\n",
      "Fetched isochrone for interval 50M, MRT: TUAS WEST ROAD MRT STATION\n",
      "Fetched isochrone for interval 50M, MRT: CITY HALL MRT STATION\n",
      "Fetched isochrone for interval 50M, MRT: BISHAN MRT STATION\n",
      "Fetched isochrone for interval 50M, MRT: FERNVALE LRT STATION\n",
      "Fetched isochrone for interval 50M, MRT: PUNGGOL MRT STATION\n",
      "Fetched isochrone for interval 50M, MRT: BUANGKOK MRT STATION\n",
      "Fetched isochrone for interval 50M, MRT: BAKAU LRT STATION\n",
      "Fetched isochrone for interval 50M, MRT: FARMWAY LRT STATION\n",
      "Fetched isochrone for interval 50M, MRT: COMMONWEALTH MRT STATION\n",
      "Fetched isochrone for interval 50M, MRT: KUPANG LRT STATION\n",
      "Fetched isochrone for interval 50M, MRT: DAMAI LRT STATION\n",
      "Fetched isochrone for interval 50M, MRT: QUEENSTOWN MRT STATION\n",
      "Fetched isochrone for interval 50M, MRT: KALLANG MRT STATION\n",
      "Fetched isochrone for interval 50M, MRT: RUMBIA LRT STATION\n",
      "Fetched isochrone for interval 50M, MRT: PETIR LRT STATION\n",
      "Fetched isochrone for interval 50M, MRT: BOON LAY MRT STATION\n",
      "Fetched isochrone for interval 50M, MRT: KEAT HONG LRT STATION\n",
      "Fetched isochrone for interval 50M, MRT: JELAPANG LRT STATION\n",
      "Fetched isochrone for interval 50M, MRT: CHOA CHU KANG LRT STATION\n",
      "Fetched isochrone for interval 50M, MRT: SENGKANG LRT STATION\n",
      "Fetched isochrone for interval 50M, MRT: HARBOURFRONT MRT STATION\n",
      "Fetched isochrone for interval 50M, MRT: PENDING LRT STATION\n",
      "Fetched isochrone for interval 50M, MRT: CLARKE QUAY MRT STATION\n",
      "Fetched isochrone for interval 50M, MRT: BUKIT PANJANG LRT STATION\n",
      "Fetched isochrone for interval 50M, MRT: FAJAR LRT STATION\n",
      "Fetched isochrone for interval 50M, MRT: KOVAN MRT STATION\n",
      "Fetched isochrone for interval 50M, MRT: LORONG CHUAN MRT STATION\n",
      "Fetched isochrone for interval 50M, MRT: MARYMOUNT MRT STATION\n",
      "Fetched isochrone for interval 50M, MRT: CALDECOTT MRT STATION\n",
      "Fetched isochrone for interval 50M, MRT: DOWNTOWN MRT STATION\n",
      "Fetched isochrone for interval 50M, MRT: GEYLANG BAHRU MRT STATION\n",
      "Fetched isochrone for interval 50M, MRT: BENDEMEER MRT STATION\n",
      "Fetched isochrone for interval 50M, MRT: BENCOOLEN MRT STATION\n",
      "Fetched isochrone for interval 50M, MRT: FORT CANNING MRT STATION\n",
      "Fetched isochrone for interval 50M, MRT: KAKI BUKIT MRT STATION\n",
      "Fetched isochrone for interval 50M, MRT: JALAN BESAR MRT STATION\n",
      "Fetched isochrone for interval 50M, MRT: MATTAR MRT STATION\n",
      "Fetched isochrone for interval 50M, MRT: MACPHERSON MRT STATION\n",
      "Fetched isochrone for interval 50M, MRT: BAYFRONT MRT STATION\n",
      "Fetched isochrone for interval 50M, MRT: FARRER ROAD MRT STATION\n",
      "Fetched isochrone for interval 50M, MRT: JURONG EAST MRT STATION\n",
      "Fetched isochrone for interval 50M, MRT: BEDOK NORTH MRT STATION\n",
      "Fetched isochrone for interval 50M, MRT: BEDOK RESERVOIR MRT STATION\n",
      "Fetched isochrone for interval 50M, MRT: ORCHARD MRT STATION\n",
      "Fetched isochrone for interval 50M, MRT: LENTOR MRT STATION\n",
      "Fetched isochrone for interval 50M, MRT: BRIGHT HILL MRT STATION\n",
      "Fetched isochrone for interval 50M, MRT: SPRINGLEAF MRT STATION\n",
      "Fetched isochrone for interval 50M, MRT: MARINA SOUTH PIER MRT STATION\n",
      "Fetched isochrone for interval 50M, MRT: CANBERRA MRT STATION\n",
      "Fetched isochrone for interval 50M, MRT: WOODLANDS SOUTH MRT STATION\n",
      "Fetched isochrone for interval 50M, MRT: WOODLANDS NORTH MRT STATION\n",
      "Fetched isochrone for interval 50M, MRT: GUL CIRCLE MRT STATION\n",
      "Fetched isochrone for interval 50M, MRT: HAVELOCK MRT STATION\n",
      "Fetched isochrone for interval 50M, MRT: NAPIER MRT STATION\n",
      "Fetched isochrone for interval 50M, MRT: SHENTON WAY MRT STATION\n",
      "Fetched isochrone for interval 50M, MRT: GARDENS BY THE BAY MRT STATION\n",
      "Fetched isochrone for interval 50M, MRT: GREAT WORLD MRT STATION\n",
      "Fetched isochrone for interval 50M, MRT: MAXWELL MRT STATION\n",
      "Fetched isochrone for interval 50M, MRT: ORCHARD BOULEVARD MRT STATION\n",
      "Fetched isochrone for interval 50M, MRT: TELOK BLANGAH MRT STATION\n",
      "Fetched isochrone for interval 50M, MRT: TECK WHYE LRT STATION\n",
      "Fetched isochrone for interval 50M, MRT: TANJONG PAGAR MRT STATION\n",
      "Fetched isochrone for interval 50M, MRT: TANAH MERAH MRT STATION\n",
      "Fetched isochrone for interval 50M, MRT: TAN KAH KEE MRT STATION\n",
      "Fetched isochrone for interval 50M, MRT: UPPER THOMSON MRT STATION\n",
      "Fetched isochrone for interval 50M, MRT: MAYFLOWER MRT STATION\n",
      "Fetched isochrone for interval 55M, MRT: ESPLANADE MRT STATION\n",
      "Fetched isochrone for interval 55M, MRT: PAYA LEBAR MRT STATION\n",
      "Fetched isochrone for interval 55M, MRT: DHOBY GHAUT MRT STATION\n",
      "Fetched isochrone for interval 55M, MRT: DAKOTA MRT STATION\n",
      "Fetched isochrone for interval 55M, MRT: LAVENDER MRT STATION\n",
      "Fetched isochrone for interval 55M, MRT: RENJONG LRT STATION\n",
      "Fetched isochrone for interval 55M, MRT: DOVER MRT STATION\n",
      "Fetched isochrone for interval 55M, MRT: HOUGANG MRT STATION\n",
      "Fetched isochrone for interval 55M, MRT: PHOENIX LRT STATION\n",
      "Fetched isochrone for interval 55M, MRT: ALJUNIED MRT STATION\n",
      "Fetched isochrone for interval 55M, MRT: COVE LRT STATION\n",
      "Fetched isochrone for interval 55M, MRT: PASIR RIS MRT STATION\n",
      "Fetched isochrone for interval 55M, MRT: ADMIRALTY MRT STATION\n",
      "Fetched isochrone for interval 55M, MRT: KEMBANGAN MRT STATION\n",
      "Fetched isochrone for interval 55M, MRT: PUNGGOL POINT LRT STATION\n",
      "Fetched isochrone for interval 55M, MRT: MARSILING MRT STATION\n",
      "Fetched isochrone for interval 55M, MRT: COMPASSVALE LRT STATION\n",
      "Fetched isochrone for interval 55M, MRT: KHATIB MRT STATION\n",
      "Fetched isochrone for interval 55M, MRT: LAYAR LRT STATION\n",
      "Fetched isochrone for interval 55M, MRT: TAMPINES WEST MRT STATION\n",
      "Fetched isochrone for interval 55M, MRT: TAMPINES MRT STATION\n",
      "Fetched isochrone for interval 55M, MRT: TAMPINES EAST MRT STATION\n",
      "Fetched isochrone for interval 55M, MRT: TAI SENG MRT STATION\n",
      "Fetched isochrone for interval 55M, MRT: SUMANG LRT STATION\n",
      "Fetched isochrone for interval 55M, MRT: STEVENS MRT STATION\n",
      "Fetched isochrone for interval 55M, MRT: STADIUM MRT STATION\n",
      "Fetched isochrone for interval 55M, MRT: SIXTH AVENUE MRT STATION\n",
      "Fetched isochrone for interval 55M, MRT: SOUTH VIEW LRT STATION\n",
      "Fetched isochrone for interval 55M, MRT: SOO TECK LRT STATION\n",
      "Fetched isochrone for interval 55M, MRT: SOMERSET MRT STATION\n",
      "Fetched isochrone for interval 55M, MRT: SIMEI MRT STATION\n",
      "Fetched isochrone for interval 55M, MRT: SERANGOON MRT STATION\n",
      "Fetched isochrone for interval 55M, MRT: SENGKANG MRT STATION\n",
      "Fetched isochrone for interval 55M, MRT: BRADDELL MRT STATION\n",
      "Fetched isochrone for interval 55M, MRT: NOVENA MRT STATION\n",
      "Fetched isochrone for interval 55M, MRT: FARRER PARK MRT STATION\n",
      "Fetched isochrone for interval 55M, MRT: BEDOK MRT STATION\n",
      "Fetched isochrone for interval 55M, MRT: REDHILL MRT STATION\n",
      "Fetched isochrone for interval 55M, MRT: CHANGI AIRPORT MRT STATION\n",
      "Fetched isochrone for interval 55M, MRT: CORAL EDGE LRT STATION\n",
      "Fetched isochrone for interval 55M, MRT: CLEMENTI MRT STATION\n",
      "Fetched isochrone for interval 55M, MRT: BUKIT BATOK MRT STATION\n",
      "Fetched isochrone for interval 55M, MRT: OASIS LRT STATION\n",
      "Fetched isochrone for interval 55M, MRT: NIBONG LRT STATION\n",
      "Fetched isochrone for interval 55M, MRT: MERIDIAN LRT STATION\n",
      "Fetched isochrone for interval 55M, MRT: BUKIT GOMBAK MRT STATION\n",
      "Fetched isochrone for interval 55M, MRT: EUNOS MRT STATION\n",
      "Fetched isochrone for interval 55M, MRT: CHINESE GARDEN MRT STATION\n",
      "Fetched isochrone for interval 55M, MRT: KADALOOR LRT STATION\n",
      "Fetched isochrone for interval 55M, MRT: CHENG LIM LRT STATION\n",
      "Fetched isochrone for interval 55M, MRT: SAM KEE LRT STATION\n",
      "Fetched isochrone for interval 55M, MRT: KRANJI MRT STATION\n",
      "Fetched isochrone for interval 55M, MRT: ANG MO KIO MRT STATION\n",
      "Fetched isochrone for interval 55M, MRT: RIVIERA LRT STATION\n",
      "Fetched isochrone for interval 55M, MRT: BANGKIT LRT STATION\n",
      "Fetched isochrone for interval 55M, MRT: PASIR PANJANG MRT STATION\n",
      "Fetched isochrone for interval 55M, MRT: HOLLAND VILLAGE MRT STATION\n",
      "Fetched isochrone for interval 55M, MRT: LABRADOR PARK MRT STATION\n",
      "Fetched isochrone for interval 55M, MRT: BOTANIC GARDENS MRT STATION\n",
      "Fetched isochrone for interval 55M, MRT: ONE-NORTH MRT STATION\n",
      "Fetched isochrone for interval 55M, MRT: KENT RIDGE MRT STATION\n",
      "Fetched isochrone for interval 55M, MRT: HAW PAR VILLA MRT STATION\n",
      "Fetched isochrone for interval 55M, MRT: MARINA BAY MRT STATION\n",
      "Fetched isochrone for interval 55M, MRT: KING ALBERT PARK MRT STATION\n",
      "Fetched isochrone for interval 55M, MRT: LITTLE INDIA MRT STATION\n",
      "Fetched isochrone for interval 55M, MRT: ROCHOR MRT STATION\n",
      "Fetched isochrone for interval 55M, MRT: SENJA LRT STATION\n",
      "Fetched isochrone for interval 55M, MRT: MOUNTBATTEN MRT STATION\n",
      "Fetched isochrone for interval 55M, MRT: CHOA CHU KANG MRT STATION\n",
      "Fetched isochrone for interval 55M, MRT: BOON KENG MRT STATION\n",
      "Fetched isochrone for interval 55M, MRT: BARTLEY MRT STATION\n",
      "Fetched isochrone for interval 55M, MRT: SEGAR LRT STATION\n",
      "Fetched isochrone for interval 55M, MRT: HILLVIEW MRT STATION\n",
      "Fetched isochrone for interval 55M, MRT: BEAUTY WORLD MRT STATION\n",
      "Fetched isochrone for interval 55M, MRT: BUKIT PANJANG MRT STATION\n",
      "Fetched isochrone for interval 55M, MRT: CASHEW MRT STATION\n",
      "Fetched isochrone for interval 55M, MRT: JOO KOON MRT STATION\n",
      "Fetched isochrone for interval 55M, MRT: YEW TEE MRT STATION\n",
      "Fetched isochrone for interval 55M, MRT: YISHUN MRT STATION\n",
      "Fetched isochrone for interval 55M, MRT: YIO CHU KANG MRT STATION\n",
      "Fetched isochrone for interval 55M, MRT: WOODLEIGH MRT STATION\n",
      "Fetched isochrone for interval 55M, MRT: WOODLANDS MRT STATION\n",
      "Fetched isochrone for interval 55M, MRT: UPPER CHANGI MRT STATION\n",
      "Fetched isochrone for interval 55M, MRT: TELOK AYER MRT STATION\n",
      "Fetched isochrone for interval 55M, MRT: TONGKANG LRT STATION\n",
      "Fetched isochrone for interval 55M, MRT: UBI MRT STATION\n",
      "Fetched isochrone for interval 55M, MRT: TOA PAYOH MRT STATION\n",
      "Fetched isochrone for interval 55M, MRT: TIONG BAHRU MRT STATION\n",
      "Fetched isochrone for interval 55M, MRT: THANGGAM LRT STATION\n",
      "Fetched isochrone for interval 55M, MRT: PROMENADE MRT STATION\n",
      "Fetched isochrone for interval 55M, MRT: BRAS BASAH MRT STATION\n",
      "Fetched isochrone for interval 55M, MRT: NICOLL HIGHWAY MRT STATION\n",
      "Fetched isochrone for interval 55M, MRT: POTONG PASIR MRT STATION\n",
      "Fetched isochrone for interval 55M, MRT: LAKESIDE MRT STATION\n",
      "Fetched isochrone for interval 55M, MRT: SAMUDERA LRT STATION\n",
      "Fetched isochrone for interval 55M, MRT: RANGGUNG LRT STATION\n",
      "Fetched isochrone for interval 55M, MRT: SEMBAWANG MRT STATION\n",
      "Fetched isochrone for interval 55M, MRT: PUNGGOL LRT STATION\n",
      "Fetched isochrone for interval 55M, MRT: KANGKAR LRT STATION\n",
      "Fetched isochrone for interval 55M, MRT: PIONEER MRT STATION\n",
      "Fetched isochrone for interval 55M, MRT: BUGIS MRT STATION\n",
      "Fetched isochrone for interval 55M, MRT: NEWTON MRT STATION\n",
      "Fetched isochrone for interval 55M, MRT: BUONA VISTA MRT STATION\n",
      "Fetched isochrone for interval 55M, MRT: OUTRAM PARK MRT STATION\n",
      "Fetched isochrone for interval 55M, MRT: CHINATOWN MRT STATION\n",
      "Fetched isochrone for interval 55M, MRT: EXPO MRT STATION\n",
      "Fetched isochrone for interval 55M, MRT: RAFFLES PLACE MRT STATION\n",
      "Fetched isochrone for interval 55M, MRT: TUAS CRESCENT MRT STATION\n",
      "Fetched isochrone for interval 55M, MRT: TUAS LINK MRT STATION\n",
      "Fetched isochrone for interval 55M, MRT: TUAS WEST ROAD MRT STATION\n",
      "Fetched isochrone for interval 55M, MRT: CITY HALL MRT STATION\n",
      "Fetched isochrone for interval 55M, MRT: BISHAN MRT STATION\n",
      "Fetched isochrone for interval 55M, MRT: FERNVALE LRT STATION\n",
      "Fetched isochrone for interval 55M, MRT: PUNGGOL MRT STATION\n",
      "Fetched isochrone for interval 55M, MRT: BUANGKOK MRT STATION\n",
      "Fetched isochrone for interval 55M, MRT: BAKAU LRT STATION\n",
      "Fetched isochrone for interval 55M, MRT: FARMWAY LRT STATION\n",
      "Fetched isochrone for interval 55M, MRT: COMMONWEALTH MRT STATION\n",
      "Fetched isochrone for interval 55M, MRT: KUPANG LRT STATION\n",
      "Fetched isochrone for interval 55M, MRT: DAMAI LRT STATION\n",
      "Fetched isochrone for interval 55M, MRT: QUEENSTOWN MRT STATION\n",
      "Fetched isochrone for interval 55M, MRT: KALLANG MRT STATION\n",
      "Fetched isochrone for interval 55M, MRT: RUMBIA LRT STATION\n",
      "Fetched isochrone for interval 55M, MRT: PETIR LRT STATION\n",
      "Fetched isochrone for interval 55M, MRT: BOON LAY MRT STATION\n",
      "Fetched isochrone for interval 55M, MRT: KEAT HONG LRT STATION\n",
      "Fetched isochrone for interval 55M, MRT: JELAPANG LRT STATION\n",
      "Fetched isochrone for interval 55M, MRT: CHOA CHU KANG LRT STATION\n",
      "Fetched isochrone for interval 55M, MRT: SENGKANG LRT STATION\n",
      "Fetched isochrone for interval 55M, MRT: HARBOURFRONT MRT STATION\n",
      "Fetched isochrone for interval 55M, MRT: PENDING LRT STATION\n",
      "Fetched isochrone for interval 55M, MRT: CLARKE QUAY MRT STATION\n",
      "Fetched isochrone for interval 55M, MRT: BUKIT PANJANG LRT STATION\n",
      "Fetched isochrone for interval 55M, MRT: FAJAR LRT STATION\n",
      "Fetched isochrone for interval 55M, MRT: KOVAN MRT STATION\n",
      "Fetched isochrone for interval 55M, MRT: LORONG CHUAN MRT STATION\n",
      "Fetched isochrone for interval 55M, MRT: MARYMOUNT MRT STATION\n",
      "Fetched isochrone for interval 55M, MRT: CALDECOTT MRT STATION\n",
      "Fetched isochrone for interval 55M, MRT: DOWNTOWN MRT STATION\n",
      "Fetched isochrone for interval 55M, MRT: GEYLANG BAHRU MRT STATION\n",
      "Fetched isochrone for interval 55M, MRT: BENDEMEER MRT STATION\n",
      "Fetched isochrone for interval 55M, MRT: BENCOOLEN MRT STATION\n",
      "Fetched isochrone for interval 55M, MRT: FORT CANNING MRT STATION\n",
      "Fetched isochrone for interval 55M, MRT: KAKI BUKIT MRT STATION\n",
      "Fetched isochrone for interval 55M, MRT: JALAN BESAR MRT STATION\n",
      "Fetched isochrone for interval 55M, MRT: MATTAR MRT STATION\n",
      "Fetched isochrone for interval 55M, MRT: MACPHERSON MRT STATION\n",
      "Fetched isochrone for interval 55M, MRT: BAYFRONT MRT STATION\n",
      "Fetched isochrone for interval 55M, MRT: FARRER ROAD MRT STATION\n",
      "Fetched isochrone for interval 55M, MRT: JURONG EAST MRT STATION\n",
      "Fetched isochrone for interval 55M, MRT: BEDOK NORTH MRT STATION\n",
      "Fetched isochrone for interval 55M, MRT: BEDOK RESERVOIR MRT STATION\n",
      "Fetched isochrone for interval 55M, MRT: ORCHARD MRT STATION\n",
      "Fetched isochrone for interval 55M, MRT: LENTOR MRT STATION\n",
      "Fetched isochrone for interval 55M, MRT: BRIGHT HILL MRT STATION\n",
      "Fetched isochrone for interval 55M, MRT: SPRINGLEAF MRT STATION\n",
      "Fetched isochrone for interval 55M, MRT: MARINA SOUTH PIER MRT STATION\n",
      "Fetched isochrone for interval 55M, MRT: CANBERRA MRT STATION\n",
      "Fetched isochrone for interval 55M, MRT: WOODLANDS SOUTH MRT STATION\n",
      "Fetched isochrone for interval 55M, MRT: WOODLANDS NORTH MRT STATION\n",
      "Fetched isochrone for interval 55M, MRT: GUL CIRCLE MRT STATION\n",
      "Fetched isochrone for interval 55M, MRT: HAVELOCK MRT STATION\n",
      "Fetched isochrone for interval 55M, MRT: NAPIER MRT STATION\n",
      "Fetched isochrone for interval 55M, MRT: SHENTON WAY MRT STATION\n",
      "Fetched isochrone for interval 55M, MRT: GARDENS BY THE BAY MRT STATION\n",
      "Fetched isochrone for interval 55M, MRT: GREAT WORLD MRT STATION\n",
      "Fetched isochrone for interval 55M, MRT: MAXWELL MRT STATION\n",
      "Fetched isochrone for interval 55M, MRT: ORCHARD BOULEVARD MRT STATION\n",
      "Fetched isochrone for interval 55M, MRT: TELOK BLANGAH MRT STATION\n",
      "Fetched isochrone for interval 55M, MRT: TECK WHYE LRT STATION\n",
      "Fetched isochrone for interval 55M, MRT: TANJONG PAGAR MRT STATION\n",
      "Fetched isochrone for interval 55M, MRT: TANAH MERAH MRT STATION\n",
      "Fetched isochrone for interval 55M, MRT: TAN KAH KEE MRT STATION\n",
      "Fetched isochrone for interval 55M, MRT: UPPER THOMSON MRT STATION\n",
      "Fetched isochrone for interval 55M, MRT: MAYFLOWER MRT STATION\n",
      "Fetched isochrone for interval 60M, MRT: ESPLANADE MRT STATION\n",
      "Fetched isochrone for interval 60M, MRT: PAYA LEBAR MRT STATION\n",
      "Fetched isochrone for interval 60M, MRT: DHOBY GHAUT MRT STATION\n",
      "Fetched isochrone for interval 60M, MRT: DAKOTA MRT STATION\n",
      "Fetched isochrone for interval 60M, MRT: LAVENDER MRT STATION\n",
      "Fetched isochrone for interval 60M, MRT: RENJONG LRT STATION\n",
      "Fetched isochrone for interval 60M, MRT: DOVER MRT STATION\n",
      "Fetched isochrone for interval 60M, MRT: HOUGANG MRT STATION\n",
      "Fetched isochrone for interval 60M, MRT: PHOENIX LRT STATION\n",
      "Fetched isochrone for interval 60M, MRT: ALJUNIED MRT STATION\n",
      "Fetched isochrone for interval 60M, MRT: COVE LRT STATION\n",
      "Fetched isochrone for interval 60M, MRT: PASIR RIS MRT STATION\n",
      "Fetched isochrone for interval 60M, MRT: ADMIRALTY MRT STATION\n",
      "Fetched isochrone for interval 60M, MRT: KEMBANGAN MRT STATION\n",
      "Fetched isochrone for interval 60M, MRT: PUNGGOL POINT LRT STATION\n",
      "Fetched isochrone for interval 60M, MRT: MARSILING MRT STATION\n",
      "Fetched isochrone for interval 60M, MRT: COMPASSVALE LRT STATION\n",
      "Fetched isochrone for interval 60M, MRT: KHATIB MRT STATION\n",
      "Fetched isochrone for interval 60M, MRT: LAYAR LRT STATION\n",
      "Fetched isochrone for interval 60M, MRT: TAMPINES WEST MRT STATION\n",
      "Fetched isochrone for interval 60M, MRT: TAMPINES MRT STATION\n",
      "Fetched isochrone for interval 60M, MRT: TAMPINES EAST MRT STATION\n",
      "Fetched isochrone for interval 60M, MRT: TAI SENG MRT STATION\n",
      "Fetched isochrone for interval 60M, MRT: SUMANG LRT STATION\n",
      "Fetched isochrone for interval 60M, MRT: STEVENS MRT STATION\n",
      "Fetched isochrone for interval 60M, MRT: STADIUM MRT STATION\n",
      "Fetched isochrone for interval 60M, MRT: SIXTH AVENUE MRT STATION\n",
      "Fetched isochrone for interval 60M, MRT: SOUTH VIEW LRT STATION\n",
      "Fetched isochrone for interval 60M, MRT: SOO TECK LRT STATION\n",
      "Fetched isochrone for interval 60M, MRT: SOMERSET MRT STATION\n",
      "Fetched isochrone for interval 60M, MRT: SIMEI MRT STATION\n",
      "Fetched isochrone for interval 60M, MRT: SERANGOON MRT STATION\n",
      "Fetched isochrone for interval 60M, MRT: SENGKANG MRT STATION\n",
      "Fetched isochrone for interval 60M, MRT: BRADDELL MRT STATION\n",
      "Fetched isochrone for interval 60M, MRT: NOVENA MRT STATION\n",
      "Fetched isochrone for interval 60M, MRT: FARRER PARK MRT STATION\n",
      "Fetched isochrone for interval 60M, MRT: BEDOK MRT STATION\n",
      "Fetched isochrone for interval 60M, MRT: REDHILL MRT STATION\n",
      "Fetched isochrone for interval 60M, MRT: CHANGI AIRPORT MRT STATION\n",
      "Fetched isochrone for interval 60M, MRT: CORAL EDGE LRT STATION\n",
      "Fetched isochrone for interval 60M, MRT: CLEMENTI MRT STATION\n",
      "Fetched isochrone for interval 60M, MRT: BUKIT BATOK MRT STATION\n",
      "Fetched isochrone for interval 60M, MRT: OASIS LRT STATION\n",
      "Fetched isochrone for interval 60M, MRT: NIBONG LRT STATION\n",
      "Fetched isochrone for interval 60M, MRT: MERIDIAN LRT STATION\n",
      "Fetched isochrone for interval 60M, MRT: BUKIT GOMBAK MRT STATION\n",
      "Fetched isochrone for interval 60M, MRT: EUNOS MRT STATION\n",
      "Fetched isochrone for interval 60M, MRT: CHINESE GARDEN MRT STATION\n",
      "Fetched isochrone for interval 60M, MRT: KADALOOR LRT STATION\n",
      "Fetched isochrone for interval 60M, MRT: CHENG LIM LRT STATION\n",
      "Fetched isochrone for interval 60M, MRT: SAM KEE LRT STATION\n",
      "Fetched isochrone for interval 60M, MRT: KRANJI MRT STATION\n",
      "Fetched isochrone for interval 60M, MRT: ANG MO KIO MRT STATION\n",
      "Fetched isochrone for interval 60M, MRT: RIVIERA LRT STATION\n",
      "Fetched isochrone for interval 60M, MRT: BANGKIT LRT STATION\n",
      "Fetched isochrone for interval 60M, MRT: PASIR PANJANG MRT STATION\n",
      "Fetched isochrone for interval 60M, MRT: HOLLAND VILLAGE MRT STATION\n",
      "Fetched isochrone for interval 60M, MRT: LABRADOR PARK MRT STATION\n",
      "Fetched isochrone for interval 60M, MRT: BOTANIC GARDENS MRT STATION\n",
      "Fetched isochrone for interval 60M, MRT: ONE-NORTH MRT STATION\n",
      "Fetched isochrone for interval 60M, MRT: KENT RIDGE MRT STATION\n",
      "Fetched isochrone for interval 60M, MRT: HAW PAR VILLA MRT STATION\n",
      "Fetched isochrone for interval 60M, MRT: MARINA BAY MRT STATION\n",
      "Fetched isochrone for interval 60M, MRT: KING ALBERT PARK MRT STATION\n",
      "Fetched isochrone for interval 60M, MRT: LITTLE INDIA MRT STATION\n",
      "Fetched isochrone for interval 60M, MRT: ROCHOR MRT STATION\n",
      "Fetched isochrone for interval 60M, MRT: SENJA LRT STATION\n",
      "Fetched isochrone for interval 60M, MRT: MOUNTBATTEN MRT STATION\n",
      "Fetched isochrone for interval 60M, MRT: CHOA CHU KANG MRT STATION\n",
      "Fetched isochrone for interval 60M, MRT: BOON KENG MRT STATION\n",
      "Fetched isochrone for interval 60M, MRT: BARTLEY MRT STATION\n",
      "Fetched isochrone for interval 60M, MRT: SEGAR LRT STATION\n",
      "Fetched isochrone for interval 60M, MRT: HILLVIEW MRT STATION\n",
      "Fetched isochrone for interval 60M, MRT: BEAUTY WORLD MRT STATION\n",
      "Fetched isochrone for interval 60M, MRT: BUKIT PANJANG MRT STATION\n",
      "Fetched isochrone for interval 60M, MRT: CASHEW MRT STATION\n",
      "Fetched isochrone for interval 60M, MRT: JOO KOON MRT STATION\n",
      "Fetched isochrone for interval 60M, MRT: YEW TEE MRT STATION\n",
      "Fetched isochrone for interval 60M, MRT: YISHUN MRT STATION\n",
      "Fetched isochrone for interval 60M, MRT: YIO CHU KANG MRT STATION\n",
      "Fetched isochrone for interval 60M, MRT: WOODLEIGH MRT STATION\n",
      "Fetched isochrone for interval 60M, MRT: WOODLANDS MRT STATION\n",
      "Fetched isochrone for interval 60M, MRT: UPPER CHANGI MRT STATION\n",
      "Fetched isochrone for interval 60M, MRT: TELOK AYER MRT STATION\n",
      "Fetched isochrone for interval 60M, MRT: TONGKANG LRT STATION\n",
      "Fetched isochrone for interval 60M, MRT: UBI MRT STATION\n",
      "Fetched isochrone for interval 60M, MRT: TOA PAYOH MRT STATION\n",
      "Fetched isochrone for interval 60M, MRT: TIONG BAHRU MRT STATION\n",
      "Fetched isochrone for interval 60M, MRT: THANGGAM LRT STATION\n",
      "Fetched isochrone for interval 60M, MRT: PROMENADE MRT STATION\n",
      "Fetched isochrone for interval 60M, MRT: BRAS BASAH MRT STATION\n",
      "Fetched isochrone for interval 60M, MRT: NICOLL HIGHWAY MRT STATION\n",
      "Fetched isochrone for interval 60M, MRT: POTONG PASIR MRT STATION\n",
      "Fetched isochrone for interval 60M, MRT: LAKESIDE MRT STATION\n",
      "Fetched isochrone for interval 60M, MRT: SAMUDERA LRT STATION\n",
      "Fetched isochrone for interval 60M, MRT: RANGGUNG LRT STATION\n",
      "Fetched isochrone for interval 60M, MRT: SEMBAWANG MRT STATION\n",
      "Fetched isochrone for interval 60M, MRT: PUNGGOL LRT STATION\n",
      "Fetched isochrone for interval 60M, MRT: KANGKAR LRT STATION\n",
      "Fetched isochrone for interval 60M, MRT: PIONEER MRT STATION\n",
      "Fetched isochrone for interval 60M, MRT: BUGIS MRT STATION\n",
      "Fetched isochrone for interval 60M, MRT: NEWTON MRT STATION\n",
      "Fetched isochrone for interval 60M, MRT: BUONA VISTA MRT STATION\n",
      "Fetched isochrone for interval 60M, MRT: OUTRAM PARK MRT STATION\n",
      "Fetched isochrone for interval 60M, MRT: CHINATOWN MRT STATION\n",
      "Fetched isochrone for interval 60M, MRT: EXPO MRT STATION\n",
      "Fetched isochrone for interval 60M, MRT: RAFFLES PLACE MRT STATION\n",
      "Fetched isochrone for interval 60M, MRT: TUAS CRESCENT MRT STATION\n",
      "Fetched isochrone for interval 60M, MRT: TUAS LINK MRT STATION\n",
      "Fetched isochrone for interval 60M, MRT: TUAS WEST ROAD MRT STATION\n",
      "Fetched isochrone for interval 60M, MRT: CITY HALL MRT STATION\n",
      "Fetched isochrone for interval 60M, MRT: BISHAN MRT STATION\n",
      "Fetched isochrone for interval 60M, MRT: FERNVALE LRT STATION\n",
      "Fetched isochrone for interval 60M, MRT: PUNGGOL MRT STATION\n",
      "Fetched isochrone for interval 60M, MRT: BUANGKOK MRT STATION\n",
      "Fetched isochrone for interval 60M, MRT: BAKAU LRT STATION\n",
      "Fetched isochrone for interval 60M, MRT: FARMWAY LRT STATION\n",
      "Fetched isochrone for interval 60M, MRT: COMMONWEALTH MRT STATION\n",
      "Fetched isochrone for interval 60M, MRT: KUPANG LRT STATION\n",
      "Fetched isochrone for interval 60M, MRT: DAMAI LRT STATION\n",
      "Fetched isochrone for interval 60M, MRT: QUEENSTOWN MRT STATION\n",
      "Fetched isochrone for interval 60M, MRT: KALLANG MRT STATION\n",
      "Fetched isochrone for interval 60M, MRT: RUMBIA LRT STATION\n",
      "Fetched isochrone for interval 60M, MRT: PETIR LRT STATION\n",
      "Fetched isochrone for interval 60M, MRT: BOON LAY MRT STATION\n",
      "Fetched isochrone for interval 60M, MRT: KEAT HONG LRT STATION\n",
      "Fetched isochrone for interval 60M, MRT: JELAPANG LRT STATION\n",
      "Fetched isochrone for interval 60M, MRT: CHOA CHU KANG LRT STATION\n",
      "Fetched isochrone for interval 60M, MRT: SENGKANG LRT STATION\n",
      "Fetched isochrone for interval 60M, MRT: HARBOURFRONT MRT STATION\n",
      "Fetched isochrone for interval 60M, MRT: PENDING LRT STATION\n",
      "Fetched isochrone for interval 60M, MRT: CLARKE QUAY MRT STATION\n",
      "Fetched isochrone for interval 60M, MRT: BUKIT PANJANG LRT STATION\n",
      "Fetched isochrone for interval 60M, MRT: FAJAR LRT STATION\n",
      "Fetched isochrone for interval 60M, MRT: KOVAN MRT STATION\n",
      "Fetched isochrone for interval 60M, MRT: LORONG CHUAN MRT STATION\n",
      "Fetched isochrone for interval 60M, MRT: MARYMOUNT MRT STATION\n",
      "Fetched isochrone for interval 60M, MRT: CALDECOTT MRT STATION\n",
      "Fetched isochrone for interval 60M, MRT: DOWNTOWN MRT STATION\n",
      "Fetched isochrone for interval 60M, MRT: GEYLANG BAHRU MRT STATION\n",
      "Fetched isochrone for interval 60M, MRT: BENDEMEER MRT STATION\n",
      "Fetched isochrone for interval 60M, MRT: BENCOOLEN MRT STATION\n",
      "Fetched isochrone for interval 60M, MRT: FORT CANNING MRT STATION\n",
      "Fetched isochrone for interval 60M, MRT: KAKI BUKIT MRT STATION\n",
      "Fetched isochrone for interval 60M, MRT: JALAN BESAR MRT STATION\n",
      "Fetched isochrone for interval 60M, MRT: MATTAR MRT STATION\n",
      "Fetched isochrone for interval 60M, MRT: MACPHERSON MRT STATION\n",
      "Fetched isochrone for interval 60M, MRT: BAYFRONT MRT STATION\n",
      "Fetched isochrone for interval 60M, MRT: FARRER ROAD MRT STATION\n",
      "Fetched isochrone for interval 60M, MRT: JURONG EAST MRT STATION\n",
      "Fetched isochrone for interval 60M, MRT: BEDOK NORTH MRT STATION\n",
      "Fetched isochrone for interval 60M, MRT: BEDOK RESERVOIR MRT STATION\n",
      "Fetched isochrone for interval 60M, MRT: ORCHARD MRT STATION\n",
      "Fetched isochrone for interval 60M, MRT: LENTOR MRT STATION\n",
      "Fetched isochrone for interval 60M, MRT: BRIGHT HILL MRT STATION\n",
      "Fetched isochrone for interval 60M, MRT: SPRINGLEAF MRT STATION\n",
      "Fetched isochrone for interval 60M, MRT: MARINA SOUTH PIER MRT STATION\n",
      "Fetched isochrone for interval 60M, MRT: CANBERRA MRT STATION\n",
      "Fetched isochrone for interval 60M, MRT: WOODLANDS SOUTH MRT STATION\n",
      "Fetched isochrone for interval 60M, MRT: WOODLANDS NORTH MRT STATION\n",
      "Fetched isochrone for interval 60M, MRT: GUL CIRCLE MRT STATION\n",
      "Fetched isochrone for interval 60M, MRT: HAVELOCK MRT STATION\n",
      "Fetched isochrone for interval 60M, MRT: NAPIER MRT STATION\n",
      "Fetched isochrone for interval 60M, MRT: SHENTON WAY MRT STATION\n",
      "Fetched isochrone for interval 60M, MRT: GARDENS BY THE BAY MRT STATION\n",
      "Fetched isochrone for interval 60M, MRT: GREAT WORLD MRT STATION\n",
      "Fetched isochrone for interval 60M, MRT: MAXWELL MRT STATION\n",
      "Fetched isochrone for interval 60M, MRT: ORCHARD BOULEVARD MRT STATION\n",
      "Fetched isochrone for interval 60M, MRT: TELOK BLANGAH MRT STATION\n",
      "Fetched isochrone for interval 60M, MRT: TECK WHYE LRT STATION\n",
      "Fetched isochrone for interval 60M, MRT: TANJONG PAGAR MRT STATION\n",
      "Fetched isochrone for interval 60M, MRT: TANAH MERAH MRT STATION\n",
      "Fetched isochrone for interval 60M, MRT: TAN KAH KEE MRT STATION\n",
      "Fetched isochrone for interval 60M, MRT: UPPER THOMSON MRT STATION\n",
      "Fetched isochrone for interval 60M, MRT: MAYFLOWER MRT STATION\n"
     ]
    }
   ],
   "source": [
    "bus_isochrones = mrt_df.copy()\n",
    "bus_isochrones = fetch_all_isochrones(bus_isochrones,mode=\"BUS,WALK\", interval=5)\n",
    "bus_isochrones.to_json('../../data/Isochrone_data/bus_isochrones.json', orient='records', lines=True, force_ascii=False)"
   ]
  },
  {
   "cell_type": "code",
   "execution_count": 14,
   "metadata": {},
   "outputs": [
    {
     "name": "stdout",
     "output_type": "stream",
     "text": [
      "Fetched isochrone for interval 10M, MRT: ESPLANADE MRT STATION\n",
      "Fetched isochrone for interval 10M, MRT: PAYA LEBAR MRT STATION\n",
      "Fetched isochrone for interval 10M, MRT: DHOBY GHAUT MRT STATION\n",
      "Fetched isochrone for interval 10M, MRT: DAKOTA MRT STATION\n",
      "Fetched isochrone for interval 10M, MRT: LAVENDER MRT STATION\n",
      "Fetched isochrone for interval 10M, MRT: RENJONG LRT STATION\n",
      "Fetched isochrone for interval 10M, MRT: DOVER MRT STATION\n",
      "Fetched isochrone for interval 10M, MRT: HOUGANG MRT STATION\n",
      "Fetched isochrone for interval 10M, MRT: PHOENIX LRT STATION\n",
      "Fetched isochrone for interval 10M, MRT: ALJUNIED MRT STATION\n",
      "Fetched isochrone for interval 10M, MRT: COVE LRT STATION\n",
      "Fetched isochrone for interval 10M, MRT: PASIR RIS MRT STATION\n",
      "Fetched isochrone for interval 10M, MRT: ADMIRALTY MRT STATION\n",
      "Fetched isochrone for interval 10M, MRT: KEMBANGAN MRT STATION\n",
      "Fetched isochrone for interval 10M, MRT: PUNGGOL POINT LRT STATION\n",
      "Fetched isochrone for interval 10M, MRT: MARSILING MRT STATION\n",
      "Fetched isochrone for interval 10M, MRT: COMPASSVALE LRT STATION\n",
      "Fetched isochrone for interval 10M, MRT: KHATIB MRT STATION\n",
      "Fetched isochrone for interval 10M, MRT: LAYAR LRT STATION\n",
      "Fetched isochrone for interval 10M, MRT: TAMPINES WEST MRT STATION\n",
      "Fetched isochrone for interval 10M, MRT: TAMPINES MRT STATION\n",
      "Fetched isochrone for interval 10M, MRT: TAMPINES EAST MRT STATION\n",
      "Fetched isochrone for interval 10M, MRT: TAI SENG MRT STATION\n",
      "Fetched isochrone for interval 10M, MRT: SUMANG LRT STATION\n",
      "Fetched isochrone for interval 10M, MRT: STEVENS MRT STATION\n",
      "Fetched isochrone for interval 10M, MRT: STADIUM MRT STATION\n",
      "Fetched isochrone for interval 10M, MRT: SIXTH AVENUE MRT STATION\n",
      "Fetched isochrone for interval 10M, MRT: SOUTH VIEW LRT STATION\n",
      "Fetched isochrone for interval 10M, MRT: SOO TECK LRT STATION\n",
      "Fetched isochrone for interval 10M, MRT: SOMERSET MRT STATION\n",
      "Fetched isochrone for interval 10M, MRT: SIMEI MRT STATION\n",
      "Fetched isochrone for interval 10M, MRT: SERANGOON MRT STATION\n",
      "Fetched isochrone for interval 10M, MRT: SENGKANG MRT STATION\n",
      "Fetched isochrone for interval 10M, MRT: BRADDELL MRT STATION\n",
      "Fetched isochrone for interval 10M, MRT: NOVENA MRT STATION\n",
      "Fetched isochrone for interval 10M, MRT: FARRER PARK MRT STATION\n",
      "Fetched isochrone for interval 10M, MRT: BEDOK MRT STATION\n",
      "Fetched isochrone for interval 10M, MRT: REDHILL MRT STATION\n",
      "Fetched isochrone for interval 10M, MRT: CHANGI AIRPORT MRT STATION\n",
      "Fetched isochrone for interval 10M, MRT: CORAL EDGE LRT STATION\n",
      "Fetched isochrone for interval 10M, MRT: CLEMENTI MRT STATION\n",
      "Fetched isochrone for interval 10M, MRT: BUKIT BATOK MRT STATION\n",
      "Fetched isochrone for interval 10M, MRT: OASIS LRT STATION\n",
      "Fetched isochrone for interval 10M, MRT: NIBONG LRT STATION\n",
      "Fetched isochrone for interval 10M, MRT: MERIDIAN LRT STATION\n",
      "Fetched isochrone for interval 10M, MRT: BUKIT GOMBAK MRT STATION\n",
      "Fetched isochrone for interval 10M, MRT: EUNOS MRT STATION\n",
      "Fetched isochrone for interval 10M, MRT: CHINESE GARDEN MRT STATION\n",
      "Fetched isochrone for interval 10M, MRT: KADALOOR LRT STATION\n",
      "Fetched isochrone for interval 10M, MRT: CHENG LIM LRT STATION\n",
      "Fetched isochrone for interval 10M, MRT: SAM KEE LRT STATION\n",
      "Fetched isochrone for interval 10M, MRT: KRANJI MRT STATION\n",
      "Fetched isochrone for interval 10M, MRT: ANG MO KIO MRT STATION\n",
      "Fetched isochrone for interval 10M, MRT: RIVIERA LRT STATION\n",
      "Fetched isochrone for interval 10M, MRT: BANGKIT LRT STATION\n",
      "Fetched isochrone for interval 10M, MRT: PASIR PANJANG MRT STATION\n",
      "Fetched isochrone for interval 10M, MRT: HOLLAND VILLAGE MRT STATION\n",
      "Fetched isochrone for interval 10M, MRT: LABRADOR PARK MRT STATION\n",
      "Fetched isochrone for interval 10M, MRT: BOTANIC GARDENS MRT STATION\n",
      "Fetched isochrone for interval 10M, MRT: ONE-NORTH MRT STATION\n",
      "Fetched isochrone for interval 10M, MRT: KENT RIDGE MRT STATION\n",
      "Fetched isochrone for interval 10M, MRT: HAW PAR VILLA MRT STATION\n",
      "Fetched isochrone for interval 10M, MRT: MARINA BAY MRT STATION\n",
      "Fetched isochrone for interval 10M, MRT: KING ALBERT PARK MRT STATION\n",
      "Fetched isochrone for interval 10M, MRT: LITTLE INDIA MRT STATION\n",
      "Fetched isochrone for interval 10M, MRT: ROCHOR MRT STATION\n",
      "Fetched isochrone for interval 10M, MRT: SENJA LRT STATION\n",
      "Fetched isochrone for interval 10M, MRT: MOUNTBATTEN MRT STATION\n",
      "Fetched isochrone for interval 10M, MRT: CHOA CHU KANG MRT STATION\n",
      "Fetched isochrone for interval 10M, MRT: BOON KENG MRT STATION\n",
      "Fetched isochrone for interval 10M, MRT: BARTLEY MRT STATION\n",
      "Fetched isochrone for interval 10M, MRT: SEGAR LRT STATION\n",
      "Fetched isochrone for interval 10M, MRT: HILLVIEW MRT STATION\n",
      "Fetched isochrone for interval 10M, MRT: BEAUTY WORLD MRT STATION\n",
      "Fetched isochrone for interval 10M, MRT: BUKIT PANJANG MRT STATION\n",
      "Fetched isochrone for interval 10M, MRT: CASHEW MRT STATION\n",
      "Fetched isochrone for interval 10M, MRT: JOO KOON MRT STATION\n",
      "Fetched isochrone for interval 10M, MRT: YEW TEE MRT STATION\n",
      "Fetched isochrone for interval 10M, MRT: YISHUN MRT STATION\n",
      "Fetched isochrone for interval 10M, MRT: YIO CHU KANG MRT STATION\n",
      "Fetched isochrone for interval 10M, MRT: WOODLEIGH MRT STATION\n",
      "Fetched isochrone for interval 10M, MRT: WOODLANDS MRT STATION\n",
      "Fetched isochrone for interval 10M, MRT: UPPER CHANGI MRT STATION\n",
      "Fetched isochrone for interval 10M, MRT: TELOK AYER MRT STATION\n",
      "Fetched isochrone for interval 10M, MRT: TONGKANG LRT STATION\n",
      "Fetched isochrone for interval 10M, MRT: UBI MRT STATION\n",
      "Fetched isochrone for interval 10M, MRT: TOA PAYOH MRT STATION\n",
      "Fetched isochrone for interval 10M, MRT: TIONG BAHRU MRT STATION\n",
      "Fetched isochrone for interval 10M, MRT: THANGGAM LRT STATION\n",
      "Fetched isochrone for interval 10M, MRT: PROMENADE MRT STATION\n",
      "Fetched isochrone for interval 10M, MRT: BRAS BASAH MRT STATION\n",
      "Fetched isochrone for interval 10M, MRT: NICOLL HIGHWAY MRT STATION\n",
      "Fetched isochrone for interval 10M, MRT: POTONG PASIR MRT STATION\n",
      "Fetched isochrone for interval 10M, MRT: LAKESIDE MRT STATION\n",
      "Fetched isochrone for interval 10M, MRT: SAMUDERA LRT STATION\n",
      "Fetched isochrone for interval 10M, MRT: RANGGUNG LRT STATION\n",
      "Fetched isochrone for interval 10M, MRT: SEMBAWANG MRT STATION\n",
      "Fetched isochrone for interval 10M, MRT: PUNGGOL LRT STATION\n",
      "Fetched isochrone for interval 10M, MRT: KANGKAR LRT STATION\n",
      "Fetched isochrone for interval 10M, MRT: PIONEER MRT STATION\n",
      "Fetched isochrone for interval 10M, MRT: BUGIS MRT STATION\n",
      "Fetched isochrone for interval 10M, MRT: NEWTON MRT STATION\n",
      "Fetched isochrone for interval 10M, MRT: BUONA VISTA MRT STATION\n",
      "Fetched isochrone for interval 10M, MRT: OUTRAM PARK MRT STATION\n",
      "Fetched isochrone for interval 10M, MRT: CHINATOWN MRT STATION\n",
      "Fetched isochrone for interval 10M, MRT: EXPO MRT STATION\n",
      "Fetched isochrone for interval 10M, MRT: RAFFLES PLACE MRT STATION\n",
      "Fetched isochrone for interval 10M, MRT: TUAS CRESCENT MRT STATION\n",
      "Fetched isochrone for interval 10M, MRT: TUAS LINK MRT STATION\n",
      "Fetched isochrone for interval 10M, MRT: TUAS WEST ROAD MRT STATION\n",
      "Fetched isochrone for interval 10M, MRT: CITY HALL MRT STATION\n",
      "Fetched isochrone for interval 10M, MRT: BISHAN MRT STATION\n",
      "Fetched isochrone for interval 10M, MRT: FERNVALE LRT STATION\n",
      "Fetched isochrone for interval 10M, MRT: PUNGGOL MRT STATION\n",
      "Fetched isochrone for interval 10M, MRT: BUANGKOK MRT STATION\n",
      "Fetched isochrone for interval 10M, MRT: BAKAU LRT STATION\n",
      "Fetched isochrone for interval 10M, MRT: FARMWAY LRT STATION\n",
      "Fetched isochrone for interval 10M, MRT: COMMONWEALTH MRT STATION\n",
      "Fetched isochrone for interval 10M, MRT: KUPANG LRT STATION\n",
      "Fetched isochrone for interval 10M, MRT: DAMAI LRT STATION\n",
      "Fetched isochrone for interval 10M, MRT: QUEENSTOWN MRT STATION\n",
      "Fetched isochrone for interval 10M, MRT: KALLANG MRT STATION\n",
      "Fetched isochrone for interval 10M, MRT: RUMBIA LRT STATION\n",
      "Fetched isochrone for interval 10M, MRT: PETIR LRT STATION\n",
      "Fetched isochrone for interval 10M, MRT: BOON LAY MRT STATION\n",
      "Fetched isochrone for interval 10M, MRT: KEAT HONG LRT STATION\n",
      "Fetched isochrone for interval 10M, MRT: JELAPANG LRT STATION\n",
      "Fetched isochrone for interval 10M, MRT: CHOA CHU KANG LRT STATION\n",
      "Fetched isochrone for interval 10M, MRT: SENGKANG LRT STATION\n",
      "Fetched isochrone for interval 10M, MRT: HARBOURFRONT MRT STATION\n",
      "Fetched isochrone for interval 10M, MRT: PENDING LRT STATION\n",
      "Fetched isochrone for interval 10M, MRT: CLARKE QUAY MRT STATION\n",
      "Fetched isochrone for interval 10M, MRT: BUKIT PANJANG LRT STATION\n",
      "Fetched isochrone for interval 10M, MRT: FAJAR LRT STATION\n",
      "Fetched isochrone for interval 10M, MRT: KOVAN MRT STATION\n",
      "Fetched isochrone for interval 10M, MRT: LORONG CHUAN MRT STATION\n",
      "Fetched isochrone for interval 10M, MRT: MARYMOUNT MRT STATION\n",
      "Fetched isochrone for interval 10M, MRT: CALDECOTT MRT STATION\n",
      "Fetched isochrone for interval 10M, MRT: DOWNTOWN MRT STATION\n",
      "Fetched isochrone for interval 10M, MRT: GEYLANG BAHRU MRT STATION\n",
      "Fetched isochrone for interval 10M, MRT: BENDEMEER MRT STATION\n",
      "Fetched isochrone for interval 10M, MRT: BENCOOLEN MRT STATION\n",
      "Fetched isochrone for interval 10M, MRT: FORT CANNING MRT STATION\n",
      "Fetched isochrone for interval 10M, MRT: KAKI BUKIT MRT STATION\n",
      "Fetched isochrone for interval 10M, MRT: JALAN BESAR MRT STATION\n",
      "Fetched isochrone for interval 10M, MRT: MATTAR MRT STATION\n",
      "Fetched isochrone for interval 10M, MRT: MACPHERSON MRT STATION\n",
      "Fetched isochrone for interval 10M, MRT: BAYFRONT MRT STATION\n",
      "Fetched isochrone for interval 10M, MRT: FARRER ROAD MRT STATION\n",
      "Fetched isochrone for interval 10M, MRT: JURONG EAST MRT STATION\n",
      "Fetched isochrone for interval 10M, MRT: BEDOK NORTH MRT STATION\n",
      "Fetched isochrone for interval 10M, MRT: BEDOK RESERVOIR MRT STATION\n",
      "Fetched isochrone for interval 10M, MRT: ORCHARD MRT STATION\n",
      "Fetched isochrone for interval 10M, MRT: LENTOR MRT STATION\n",
      "Fetched isochrone for interval 10M, MRT: BRIGHT HILL MRT STATION\n",
      "Fetched isochrone for interval 10M, MRT: SPRINGLEAF MRT STATION\n",
      "Fetched isochrone for interval 10M, MRT: MARINA SOUTH PIER MRT STATION\n",
      "Fetched isochrone for interval 10M, MRT: CANBERRA MRT STATION\n",
      "Fetched isochrone for interval 10M, MRT: WOODLANDS SOUTH MRT STATION\n",
      "Fetched isochrone for interval 10M, MRT: WOODLANDS NORTH MRT STATION\n",
      "Fetched isochrone for interval 10M, MRT: GUL CIRCLE MRT STATION\n",
      "Fetched isochrone for interval 10M, MRT: HAVELOCK MRT STATION\n",
      "Fetched isochrone for interval 10M, MRT: NAPIER MRT STATION\n",
      "Fetched isochrone for interval 10M, MRT: SHENTON WAY MRT STATION\n",
      "Fetched isochrone for interval 10M, MRT: GARDENS BY THE BAY MRT STATION\n",
      "Fetched isochrone for interval 10M, MRT: GREAT WORLD MRT STATION\n",
      "Fetched isochrone for interval 10M, MRT: MAXWELL MRT STATION\n",
      "Fetched isochrone for interval 10M, MRT: ORCHARD BOULEVARD MRT STATION\n",
      "Fetched isochrone for interval 10M, MRT: TELOK BLANGAH MRT STATION\n",
      "Fetched isochrone for interval 10M, MRT: TECK WHYE LRT STATION\n",
      "Fetched isochrone for interval 10M, MRT: TANJONG PAGAR MRT STATION\n",
      "Fetched isochrone for interval 10M, MRT: TANAH MERAH MRT STATION\n",
      "Fetched isochrone for interval 10M, MRT: TAN KAH KEE MRT STATION\n",
      "Fetched isochrone for interval 10M, MRT: UPPER THOMSON MRT STATION\n",
      "Fetched isochrone for interval 10M, MRT: MAYFLOWER MRT STATION\n",
      "Fetched isochrone for interval 15M, MRT: ESPLANADE MRT STATION\n",
      "Fetched isochrone for interval 15M, MRT: PAYA LEBAR MRT STATION\n",
      "Fetched isochrone for interval 15M, MRT: DHOBY GHAUT MRT STATION\n",
      "Fetched isochrone for interval 15M, MRT: DAKOTA MRT STATION\n",
      "Fetched isochrone for interval 15M, MRT: LAVENDER MRT STATION\n",
      "Fetched isochrone for interval 15M, MRT: RENJONG LRT STATION\n",
      "Fetched isochrone for interval 15M, MRT: DOVER MRT STATION\n",
      "Fetched isochrone for interval 15M, MRT: HOUGANG MRT STATION\n",
      "Fetched isochrone for interval 15M, MRT: PHOENIX LRT STATION\n",
      "Fetched isochrone for interval 15M, MRT: ALJUNIED MRT STATION\n",
      "Fetched isochrone for interval 15M, MRT: COVE LRT STATION\n",
      "Fetched isochrone for interval 15M, MRT: PASIR RIS MRT STATION\n",
      "Fetched isochrone for interval 15M, MRT: ADMIRALTY MRT STATION\n",
      "Fetched isochrone for interval 15M, MRT: KEMBANGAN MRT STATION\n",
      "Fetched isochrone for interval 15M, MRT: PUNGGOL POINT LRT STATION\n",
      "Fetched isochrone for interval 15M, MRT: MARSILING MRT STATION\n",
      "Fetched isochrone for interval 15M, MRT: COMPASSVALE LRT STATION\n",
      "Fetched isochrone for interval 15M, MRT: KHATIB MRT STATION\n",
      "Fetched isochrone for interval 15M, MRT: LAYAR LRT STATION\n",
      "Fetched isochrone for interval 15M, MRT: TAMPINES WEST MRT STATION\n",
      "Fetched isochrone for interval 15M, MRT: TAMPINES MRT STATION\n",
      "Fetched isochrone for interval 15M, MRT: TAMPINES EAST MRT STATION\n",
      "Fetched isochrone for interval 15M, MRT: TAI SENG MRT STATION\n",
      "Fetched isochrone for interval 15M, MRT: SUMANG LRT STATION\n",
      "Fetched isochrone for interval 15M, MRT: STEVENS MRT STATION\n",
      "Fetched isochrone for interval 15M, MRT: STADIUM MRT STATION\n",
      "Fetched isochrone for interval 15M, MRT: SIXTH AVENUE MRT STATION\n",
      "Fetched isochrone for interval 15M, MRT: SOUTH VIEW LRT STATION\n",
      "Fetched isochrone for interval 15M, MRT: SOO TECK LRT STATION\n",
      "Fetched isochrone for interval 15M, MRT: SOMERSET MRT STATION\n",
      "Fetched isochrone for interval 15M, MRT: SIMEI MRT STATION\n",
      "Fetched isochrone for interval 15M, MRT: SERANGOON MRT STATION\n",
      "Fetched isochrone for interval 15M, MRT: SENGKANG MRT STATION\n",
      "Fetched isochrone for interval 15M, MRT: BRADDELL MRT STATION\n",
      "Fetched isochrone for interval 15M, MRT: NOVENA MRT STATION\n",
      "Fetched isochrone for interval 15M, MRT: FARRER PARK MRT STATION\n",
      "Fetched isochrone for interval 15M, MRT: BEDOK MRT STATION\n",
      "Fetched isochrone for interval 15M, MRT: REDHILL MRT STATION\n",
      "Fetched isochrone for interval 15M, MRT: CHANGI AIRPORT MRT STATION\n",
      "Fetched isochrone for interval 15M, MRT: CORAL EDGE LRT STATION\n",
      "Fetched isochrone for interval 15M, MRT: CLEMENTI MRT STATION\n",
      "Fetched isochrone for interval 15M, MRT: BUKIT BATOK MRT STATION\n",
      "Fetched isochrone for interval 15M, MRT: OASIS LRT STATION\n",
      "Fetched isochrone for interval 15M, MRT: NIBONG LRT STATION\n",
      "Fetched isochrone for interval 15M, MRT: MERIDIAN LRT STATION\n",
      "Fetched isochrone for interval 15M, MRT: BUKIT GOMBAK MRT STATION\n",
      "Fetched isochrone for interval 15M, MRT: EUNOS MRT STATION\n",
      "Fetched isochrone for interval 15M, MRT: CHINESE GARDEN MRT STATION\n",
      "Fetched isochrone for interval 15M, MRT: KADALOOR LRT STATION\n",
      "Fetched isochrone for interval 15M, MRT: CHENG LIM LRT STATION\n",
      "Fetched isochrone for interval 15M, MRT: SAM KEE LRT STATION\n",
      "Fetched isochrone for interval 15M, MRT: KRANJI MRT STATION\n",
      "Fetched isochrone for interval 15M, MRT: ANG MO KIO MRT STATION\n",
      "Fetched isochrone for interval 15M, MRT: RIVIERA LRT STATION\n",
      "Fetched isochrone for interval 15M, MRT: BANGKIT LRT STATION\n",
      "Fetched isochrone for interval 15M, MRT: PASIR PANJANG MRT STATION\n",
      "Fetched isochrone for interval 15M, MRT: HOLLAND VILLAGE MRT STATION\n",
      "Fetched isochrone for interval 15M, MRT: LABRADOR PARK MRT STATION\n",
      "Fetched isochrone for interval 15M, MRT: BOTANIC GARDENS MRT STATION\n",
      "Fetched isochrone for interval 15M, MRT: ONE-NORTH MRT STATION\n",
      "Fetched isochrone for interval 15M, MRT: KENT RIDGE MRT STATION\n",
      "Fetched isochrone for interval 15M, MRT: HAW PAR VILLA MRT STATION\n",
      "Fetched isochrone for interval 15M, MRT: MARINA BAY MRT STATION\n",
      "Fetched isochrone for interval 15M, MRT: KING ALBERT PARK MRT STATION\n",
      "Fetched isochrone for interval 15M, MRT: LITTLE INDIA MRT STATION\n",
      "Fetched isochrone for interval 15M, MRT: ROCHOR MRT STATION\n",
      "Fetched isochrone for interval 15M, MRT: SENJA LRT STATION\n",
      "Fetched isochrone for interval 15M, MRT: MOUNTBATTEN MRT STATION\n",
      "Fetched isochrone for interval 15M, MRT: CHOA CHU KANG MRT STATION\n",
      "Fetched isochrone for interval 15M, MRT: BOON KENG MRT STATION\n",
      "Fetched isochrone for interval 15M, MRT: BARTLEY MRT STATION\n",
      "Fetched isochrone for interval 15M, MRT: SEGAR LRT STATION\n",
      "Fetched isochrone for interval 15M, MRT: HILLVIEW MRT STATION\n",
      "Fetched isochrone for interval 15M, MRT: BEAUTY WORLD MRT STATION\n",
      "Fetched isochrone for interval 15M, MRT: BUKIT PANJANG MRT STATION\n",
      "Fetched isochrone for interval 15M, MRT: CASHEW MRT STATION\n",
      "Fetched isochrone for interval 15M, MRT: JOO KOON MRT STATION\n",
      "Fetched isochrone for interval 15M, MRT: YEW TEE MRT STATION\n",
      "Fetched isochrone for interval 15M, MRT: YISHUN MRT STATION\n",
      "Fetched isochrone for interval 15M, MRT: YIO CHU KANG MRT STATION\n",
      "Fetched isochrone for interval 15M, MRT: WOODLEIGH MRT STATION\n",
      "Fetched isochrone for interval 15M, MRT: WOODLANDS MRT STATION\n",
      "Fetched isochrone for interval 15M, MRT: UPPER CHANGI MRT STATION\n",
      "Fetched isochrone for interval 15M, MRT: TELOK AYER MRT STATION\n",
      "Fetched isochrone for interval 15M, MRT: TONGKANG LRT STATION\n",
      "Fetched isochrone for interval 15M, MRT: UBI MRT STATION\n",
      "Fetched isochrone for interval 15M, MRT: TOA PAYOH MRT STATION\n",
      "Fetched isochrone for interval 15M, MRT: TIONG BAHRU MRT STATION\n",
      "Fetched isochrone for interval 15M, MRT: THANGGAM LRT STATION\n",
      "Fetched isochrone for interval 15M, MRT: PROMENADE MRT STATION\n",
      "Fetched isochrone for interval 15M, MRT: BRAS BASAH MRT STATION\n",
      "Fetched isochrone for interval 15M, MRT: NICOLL HIGHWAY MRT STATION\n",
      "Fetched isochrone for interval 15M, MRT: POTONG PASIR MRT STATION\n",
      "Fetched isochrone for interval 15M, MRT: LAKESIDE MRT STATION\n",
      "Fetched isochrone for interval 15M, MRT: SAMUDERA LRT STATION\n",
      "Fetched isochrone for interval 15M, MRT: RANGGUNG LRT STATION\n",
      "Fetched isochrone for interval 15M, MRT: SEMBAWANG MRT STATION\n",
      "Fetched isochrone for interval 15M, MRT: PUNGGOL LRT STATION\n",
      "Fetched isochrone for interval 15M, MRT: KANGKAR LRT STATION\n",
      "Fetched isochrone for interval 15M, MRT: PIONEER MRT STATION\n",
      "Fetched isochrone for interval 15M, MRT: BUGIS MRT STATION\n",
      "Fetched isochrone for interval 15M, MRT: NEWTON MRT STATION\n",
      "Fetched isochrone for interval 15M, MRT: BUONA VISTA MRT STATION\n",
      "Fetched isochrone for interval 15M, MRT: OUTRAM PARK MRT STATION\n",
      "Fetched isochrone for interval 15M, MRT: CHINATOWN MRT STATION\n",
      "Fetched isochrone for interval 15M, MRT: EXPO MRT STATION\n",
      "Fetched isochrone for interval 15M, MRT: RAFFLES PLACE MRT STATION\n",
      "Fetched isochrone for interval 15M, MRT: TUAS CRESCENT MRT STATION\n",
      "Fetched isochrone for interval 15M, MRT: TUAS LINK MRT STATION\n",
      "Fetched isochrone for interval 15M, MRT: TUAS WEST ROAD MRT STATION\n",
      "Fetched isochrone for interval 15M, MRT: CITY HALL MRT STATION\n",
      "Fetched isochrone for interval 15M, MRT: BISHAN MRT STATION\n",
      "Fetched isochrone for interval 15M, MRT: FERNVALE LRT STATION\n",
      "Fetched isochrone for interval 15M, MRT: PUNGGOL MRT STATION\n",
      "Fetched isochrone for interval 15M, MRT: BUANGKOK MRT STATION\n",
      "Fetched isochrone for interval 15M, MRT: BAKAU LRT STATION\n",
      "Fetched isochrone for interval 15M, MRT: FARMWAY LRT STATION\n",
      "Fetched isochrone for interval 15M, MRT: COMMONWEALTH MRT STATION\n",
      "Fetched isochrone for interval 15M, MRT: KUPANG LRT STATION\n",
      "Fetched isochrone for interval 15M, MRT: DAMAI LRT STATION\n",
      "Fetched isochrone for interval 15M, MRT: QUEENSTOWN MRT STATION\n",
      "Fetched isochrone for interval 15M, MRT: KALLANG MRT STATION\n",
      "Fetched isochrone for interval 15M, MRT: RUMBIA LRT STATION\n",
      "Fetched isochrone for interval 15M, MRT: PETIR LRT STATION\n",
      "Fetched isochrone for interval 15M, MRT: BOON LAY MRT STATION\n",
      "Fetched isochrone for interval 15M, MRT: KEAT HONG LRT STATION\n",
      "Fetched isochrone for interval 15M, MRT: JELAPANG LRT STATION\n",
      "Fetched isochrone for interval 15M, MRT: CHOA CHU KANG LRT STATION\n",
      "Fetched isochrone for interval 15M, MRT: SENGKANG LRT STATION\n",
      "Fetched isochrone for interval 15M, MRT: HARBOURFRONT MRT STATION\n",
      "Fetched isochrone for interval 15M, MRT: PENDING LRT STATION\n",
      "Fetched isochrone for interval 15M, MRT: CLARKE QUAY MRT STATION\n",
      "Fetched isochrone for interval 15M, MRT: BUKIT PANJANG LRT STATION\n",
      "Fetched isochrone for interval 15M, MRT: FAJAR LRT STATION\n",
      "Fetched isochrone for interval 15M, MRT: KOVAN MRT STATION\n",
      "Fetched isochrone for interval 15M, MRT: LORONG CHUAN MRT STATION\n",
      "Fetched isochrone for interval 15M, MRT: MARYMOUNT MRT STATION\n",
      "Fetched isochrone for interval 15M, MRT: CALDECOTT MRT STATION\n",
      "Fetched isochrone for interval 15M, MRT: DOWNTOWN MRT STATION\n",
      "Fetched isochrone for interval 15M, MRT: GEYLANG BAHRU MRT STATION\n",
      "Fetched isochrone for interval 15M, MRT: BENDEMEER MRT STATION\n",
      "Fetched isochrone for interval 15M, MRT: BENCOOLEN MRT STATION\n",
      "Fetched isochrone for interval 15M, MRT: FORT CANNING MRT STATION\n",
      "Fetched isochrone for interval 15M, MRT: KAKI BUKIT MRT STATION\n",
      "Fetched isochrone for interval 15M, MRT: JALAN BESAR MRT STATION\n",
      "Fetched isochrone for interval 15M, MRT: MATTAR MRT STATION\n",
      "Fetched isochrone for interval 15M, MRT: MACPHERSON MRT STATION\n",
      "Fetched isochrone for interval 15M, MRT: BAYFRONT MRT STATION\n",
      "Fetched isochrone for interval 15M, MRT: FARRER ROAD MRT STATION\n",
      "Fetched isochrone for interval 15M, MRT: JURONG EAST MRT STATION\n",
      "Fetched isochrone for interval 15M, MRT: BEDOK NORTH MRT STATION\n",
      "Fetched isochrone for interval 15M, MRT: BEDOK RESERVOIR MRT STATION\n",
      "Fetched isochrone for interval 15M, MRT: ORCHARD MRT STATION\n",
      "Fetched isochrone for interval 15M, MRT: LENTOR MRT STATION\n",
      "Fetched isochrone for interval 15M, MRT: BRIGHT HILL MRT STATION\n",
      "Fetched isochrone for interval 15M, MRT: SPRINGLEAF MRT STATION\n",
      "Fetched isochrone for interval 15M, MRT: MARINA SOUTH PIER MRT STATION\n",
      "Fetched isochrone for interval 15M, MRT: CANBERRA MRT STATION\n",
      "Fetched isochrone for interval 15M, MRT: WOODLANDS SOUTH MRT STATION\n",
      "Fetched isochrone for interval 15M, MRT: WOODLANDS NORTH MRT STATION\n",
      "Fetched isochrone for interval 15M, MRT: GUL CIRCLE MRT STATION\n",
      "Fetched isochrone for interval 15M, MRT: HAVELOCK MRT STATION\n",
      "Fetched isochrone for interval 15M, MRT: NAPIER MRT STATION\n",
      "Fetched isochrone for interval 15M, MRT: SHENTON WAY MRT STATION\n",
      "Fetched isochrone for interval 15M, MRT: GARDENS BY THE BAY MRT STATION\n",
      "Fetched isochrone for interval 15M, MRT: GREAT WORLD MRT STATION\n",
      "Fetched isochrone for interval 15M, MRT: MAXWELL MRT STATION\n",
      "Fetched isochrone for interval 15M, MRT: ORCHARD BOULEVARD MRT STATION\n",
      "Fetched isochrone for interval 15M, MRT: TELOK BLANGAH MRT STATION\n",
      "Fetched isochrone for interval 15M, MRT: TECK WHYE LRT STATION\n",
      "Fetched isochrone for interval 15M, MRT: TANJONG PAGAR MRT STATION\n",
      "Fetched isochrone for interval 15M, MRT: TANAH MERAH MRT STATION\n",
      "Fetched isochrone for interval 15M, MRT: TAN KAH KEE MRT STATION\n",
      "Fetched isochrone for interval 15M, MRT: UPPER THOMSON MRT STATION\n",
      "Fetched isochrone for interval 15M, MRT: MAYFLOWER MRT STATION\n",
      "Fetched isochrone for interval 20M, MRT: ESPLANADE MRT STATION\n",
      "Fetched isochrone for interval 20M, MRT: PAYA LEBAR MRT STATION\n",
      "Fetched isochrone for interval 20M, MRT: DHOBY GHAUT MRT STATION\n",
      "Fetched isochrone for interval 20M, MRT: DAKOTA MRT STATION\n",
      "Fetched isochrone for interval 20M, MRT: LAVENDER MRT STATION\n",
      "Fetched isochrone for interval 20M, MRT: RENJONG LRT STATION\n",
      "Fetched isochrone for interval 20M, MRT: DOVER MRT STATION\n",
      "Fetched isochrone for interval 20M, MRT: HOUGANG MRT STATION\n",
      "Fetched isochrone for interval 20M, MRT: PHOENIX LRT STATION\n",
      "Fetched isochrone for interval 20M, MRT: ALJUNIED MRT STATION\n",
      "Fetched isochrone for interval 20M, MRT: COVE LRT STATION\n",
      "Fetched isochrone for interval 20M, MRT: PASIR RIS MRT STATION\n",
      "Fetched isochrone for interval 20M, MRT: ADMIRALTY MRT STATION\n",
      "Fetched isochrone for interval 20M, MRT: KEMBANGAN MRT STATION\n",
      "Fetched isochrone for interval 20M, MRT: PUNGGOL POINT LRT STATION\n",
      "Fetched isochrone for interval 20M, MRT: MARSILING MRT STATION\n",
      "Fetched isochrone for interval 20M, MRT: COMPASSVALE LRT STATION\n",
      "Fetched isochrone for interval 20M, MRT: KHATIB MRT STATION\n",
      "Fetched isochrone for interval 20M, MRT: LAYAR LRT STATION\n",
      "Fetched isochrone for interval 20M, MRT: TAMPINES WEST MRT STATION\n",
      "Fetched isochrone for interval 20M, MRT: TAMPINES MRT STATION\n",
      "Fetched isochrone for interval 20M, MRT: TAMPINES EAST MRT STATION\n",
      "Fetched isochrone for interval 20M, MRT: TAI SENG MRT STATION\n",
      "Fetched isochrone for interval 20M, MRT: SUMANG LRT STATION\n",
      "Fetched isochrone for interval 20M, MRT: STEVENS MRT STATION\n",
      "Fetched isochrone for interval 20M, MRT: STADIUM MRT STATION\n",
      "Fetched isochrone for interval 20M, MRT: SIXTH AVENUE MRT STATION\n",
      "Fetched isochrone for interval 20M, MRT: SOUTH VIEW LRT STATION\n",
      "Fetched isochrone for interval 20M, MRT: SOO TECK LRT STATION\n",
      "Fetched isochrone for interval 20M, MRT: SOMERSET MRT STATION\n",
      "Fetched isochrone for interval 20M, MRT: SIMEI MRT STATION\n",
      "Fetched isochrone for interval 20M, MRT: SERANGOON MRT STATION\n",
      "Fetched isochrone for interval 20M, MRT: SENGKANG MRT STATION\n",
      "Fetched isochrone for interval 20M, MRT: BRADDELL MRT STATION\n",
      "Fetched isochrone for interval 20M, MRT: NOVENA MRT STATION\n",
      "Fetched isochrone for interval 20M, MRT: FARRER PARK MRT STATION\n",
      "Fetched isochrone for interval 20M, MRT: BEDOK MRT STATION\n",
      "Fetched isochrone for interval 20M, MRT: REDHILL MRT STATION\n",
      "Fetched isochrone for interval 20M, MRT: CHANGI AIRPORT MRT STATION\n",
      "Fetched isochrone for interval 20M, MRT: CORAL EDGE LRT STATION\n",
      "Fetched isochrone for interval 20M, MRT: CLEMENTI MRT STATION\n",
      "Fetched isochrone for interval 20M, MRT: BUKIT BATOK MRT STATION\n",
      "Fetched isochrone for interval 20M, MRT: OASIS LRT STATION\n",
      "Fetched isochrone for interval 20M, MRT: NIBONG LRT STATION\n",
      "Fetched isochrone for interval 20M, MRT: MERIDIAN LRT STATION\n",
      "Fetched isochrone for interval 20M, MRT: BUKIT GOMBAK MRT STATION\n",
      "Fetched isochrone for interval 20M, MRT: EUNOS MRT STATION\n",
      "Fetched isochrone for interval 20M, MRT: CHINESE GARDEN MRT STATION\n",
      "Fetched isochrone for interval 20M, MRT: KADALOOR LRT STATION\n",
      "Fetched isochrone for interval 20M, MRT: CHENG LIM LRT STATION\n",
      "Fetched isochrone for interval 20M, MRT: SAM KEE LRT STATION\n",
      "Fetched isochrone for interval 20M, MRT: KRANJI MRT STATION\n",
      "Fetched isochrone for interval 20M, MRT: ANG MO KIO MRT STATION\n",
      "Fetched isochrone for interval 20M, MRT: RIVIERA LRT STATION\n",
      "Fetched isochrone for interval 20M, MRT: BANGKIT LRT STATION\n",
      "Fetched isochrone for interval 20M, MRT: PASIR PANJANG MRT STATION\n",
      "Fetched isochrone for interval 20M, MRT: HOLLAND VILLAGE MRT STATION\n",
      "Fetched isochrone for interval 20M, MRT: LABRADOR PARK MRT STATION\n",
      "Fetched isochrone for interval 20M, MRT: BOTANIC GARDENS MRT STATION\n",
      "Fetched isochrone for interval 20M, MRT: ONE-NORTH MRT STATION\n",
      "Fetched isochrone for interval 20M, MRT: KENT RIDGE MRT STATION\n",
      "Fetched isochrone for interval 20M, MRT: HAW PAR VILLA MRT STATION\n",
      "Fetched isochrone for interval 20M, MRT: MARINA BAY MRT STATION\n",
      "Fetched isochrone for interval 20M, MRT: KING ALBERT PARK MRT STATION\n",
      "Fetched isochrone for interval 20M, MRT: LITTLE INDIA MRT STATION\n",
      "Fetched isochrone for interval 20M, MRT: ROCHOR MRT STATION\n",
      "Fetched isochrone for interval 20M, MRT: SENJA LRT STATION\n",
      "Fetched isochrone for interval 20M, MRT: MOUNTBATTEN MRT STATION\n",
      "Fetched isochrone for interval 20M, MRT: CHOA CHU KANG MRT STATION\n",
      "Fetched isochrone for interval 20M, MRT: BOON KENG MRT STATION\n",
      "Fetched isochrone for interval 20M, MRT: BARTLEY MRT STATION\n",
      "Fetched isochrone for interval 20M, MRT: SEGAR LRT STATION\n",
      "Fetched isochrone for interval 20M, MRT: HILLVIEW MRT STATION\n",
      "Fetched isochrone for interval 20M, MRT: BEAUTY WORLD MRT STATION\n",
      "Fetched isochrone for interval 20M, MRT: BUKIT PANJANG MRT STATION\n",
      "Fetched isochrone for interval 20M, MRT: CASHEW MRT STATION\n",
      "Fetched isochrone for interval 20M, MRT: JOO KOON MRT STATION\n",
      "Fetched isochrone for interval 20M, MRT: YEW TEE MRT STATION\n",
      "Fetched isochrone for interval 20M, MRT: YISHUN MRT STATION\n",
      "Fetched isochrone for interval 20M, MRT: YIO CHU KANG MRT STATION\n",
      "Fetched isochrone for interval 20M, MRT: WOODLEIGH MRT STATION\n",
      "Fetched isochrone for interval 20M, MRT: WOODLANDS MRT STATION\n",
      "Fetched isochrone for interval 20M, MRT: UPPER CHANGI MRT STATION\n",
      "Fetched isochrone for interval 20M, MRT: TELOK AYER MRT STATION\n",
      "Fetched isochrone for interval 20M, MRT: TONGKANG LRT STATION\n",
      "Fetched isochrone for interval 20M, MRT: UBI MRT STATION\n",
      "Fetched isochrone for interval 20M, MRT: TOA PAYOH MRT STATION\n",
      "Fetched isochrone for interval 20M, MRT: TIONG BAHRU MRT STATION\n",
      "Fetched isochrone for interval 20M, MRT: THANGGAM LRT STATION\n",
      "Fetched isochrone for interval 20M, MRT: PROMENADE MRT STATION\n",
      "Fetched isochrone for interval 20M, MRT: BRAS BASAH MRT STATION\n",
      "Fetched isochrone for interval 20M, MRT: NICOLL HIGHWAY MRT STATION\n",
      "Fetched isochrone for interval 20M, MRT: POTONG PASIR MRT STATION\n",
      "Fetched isochrone for interval 20M, MRT: LAKESIDE MRT STATION\n",
      "Fetched isochrone for interval 20M, MRT: SAMUDERA LRT STATION\n",
      "Fetched isochrone for interval 20M, MRT: RANGGUNG LRT STATION\n",
      "Fetched isochrone for interval 20M, MRT: SEMBAWANG MRT STATION\n",
      "Fetched isochrone for interval 20M, MRT: PUNGGOL LRT STATION\n",
      "Fetched isochrone for interval 20M, MRT: KANGKAR LRT STATION\n",
      "Fetched isochrone for interval 20M, MRT: PIONEER MRT STATION\n",
      "Fetched isochrone for interval 20M, MRT: BUGIS MRT STATION\n",
      "Fetched isochrone for interval 20M, MRT: NEWTON MRT STATION\n",
      "Fetched isochrone for interval 20M, MRT: BUONA VISTA MRT STATION\n",
      "Fetched isochrone for interval 20M, MRT: OUTRAM PARK MRT STATION\n",
      "Fetched isochrone for interval 20M, MRT: CHINATOWN MRT STATION\n",
      "Fetched isochrone for interval 20M, MRT: EXPO MRT STATION\n",
      "Fetched isochrone for interval 20M, MRT: RAFFLES PLACE MRT STATION\n",
      "Fetched isochrone for interval 20M, MRT: TUAS CRESCENT MRT STATION\n",
      "Fetched isochrone for interval 20M, MRT: TUAS LINK MRT STATION\n",
      "Fetched isochrone for interval 20M, MRT: TUAS WEST ROAD MRT STATION\n",
      "Fetched isochrone for interval 20M, MRT: CITY HALL MRT STATION\n",
      "Fetched isochrone for interval 20M, MRT: BISHAN MRT STATION\n",
      "Fetched isochrone for interval 20M, MRT: FERNVALE LRT STATION\n",
      "Fetched isochrone for interval 20M, MRT: PUNGGOL MRT STATION\n",
      "Fetched isochrone for interval 20M, MRT: BUANGKOK MRT STATION\n",
      "Fetched isochrone for interval 20M, MRT: BAKAU LRT STATION\n",
      "Fetched isochrone for interval 20M, MRT: FARMWAY LRT STATION\n",
      "Fetched isochrone for interval 20M, MRT: COMMONWEALTH MRT STATION\n",
      "Fetched isochrone for interval 20M, MRT: KUPANG LRT STATION\n",
      "Fetched isochrone for interval 20M, MRT: DAMAI LRT STATION\n",
      "Fetched isochrone for interval 20M, MRT: QUEENSTOWN MRT STATION\n",
      "Fetched isochrone for interval 20M, MRT: KALLANG MRT STATION\n",
      "Fetched isochrone for interval 20M, MRT: RUMBIA LRT STATION\n",
      "Fetched isochrone for interval 20M, MRT: PETIR LRT STATION\n",
      "Fetched isochrone for interval 20M, MRT: BOON LAY MRT STATION\n",
      "Fetched isochrone for interval 20M, MRT: KEAT HONG LRT STATION\n",
      "Fetched isochrone for interval 20M, MRT: JELAPANG LRT STATION\n",
      "Fetched isochrone for interval 20M, MRT: CHOA CHU KANG LRT STATION\n",
      "Fetched isochrone for interval 20M, MRT: SENGKANG LRT STATION\n",
      "Fetched isochrone for interval 20M, MRT: HARBOURFRONT MRT STATION\n",
      "Fetched isochrone for interval 20M, MRT: PENDING LRT STATION\n",
      "Fetched isochrone for interval 20M, MRT: CLARKE QUAY MRT STATION\n",
      "Fetched isochrone for interval 20M, MRT: BUKIT PANJANG LRT STATION\n",
      "Fetched isochrone for interval 20M, MRT: FAJAR LRT STATION\n",
      "Fetched isochrone for interval 20M, MRT: KOVAN MRT STATION\n",
      "Fetched isochrone for interval 20M, MRT: LORONG CHUAN MRT STATION\n",
      "Fetched isochrone for interval 20M, MRT: MARYMOUNT MRT STATION\n",
      "Fetched isochrone for interval 20M, MRT: CALDECOTT MRT STATION\n",
      "Fetched isochrone for interval 20M, MRT: DOWNTOWN MRT STATION\n",
      "Fetched isochrone for interval 20M, MRT: GEYLANG BAHRU MRT STATION\n",
      "Fetched isochrone for interval 20M, MRT: BENDEMEER MRT STATION\n",
      "Fetched isochrone for interval 20M, MRT: BENCOOLEN MRT STATION\n",
      "Fetched isochrone for interval 20M, MRT: FORT CANNING MRT STATION\n",
      "Fetched isochrone for interval 20M, MRT: KAKI BUKIT MRT STATION\n",
      "Fetched isochrone for interval 20M, MRT: JALAN BESAR MRT STATION\n",
      "Fetched isochrone for interval 20M, MRT: MATTAR MRT STATION\n",
      "Fetched isochrone for interval 20M, MRT: MACPHERSON MRT STATION\n",
      "Fetched isochrone for interval 20M, MRT: BAYFRONT MRT STATION\n",
      "Fetched isochrone for interval 20M, MRT: FARRER ROAD MRT STATION\n",
      "Fetched isochrone for interval 20M, MRT: JURONG EAST MRT STATION\n",
      "Fetched isochrone for interval 20M, MRT: BEDOK NORTH MRT STATION\n",
      "Fetched isochrone for interval 20M, MRT: BEDOK RESERVOIR MRT STATION\n",
      "Fetched isochrone for interval 20M, MRT: ORCHARD MRT STATION\n",
      "Fetched isochrone for interval 20M, MRT: LENTOR MRT STATION\n",
      "Fetched isochrone for interval 20M, MRT: BRIGHT HILL MRT STATION\n",
      "Fetched isochrone for interval 20M, MRT: SPRINGLEAF MRT STATION\n",
      "Fetched isochrone for interval 20M, MRT: MARINA SOUTH PIER MRT STATION\n",
      "Fetched isochrone for interval 20M, MRT: CANBERRA MRT STATION\n",
      "Fetched isochrone for interval 20M, MRT: WOODLANDS SOUTH MRT STATION\n",
      "Fetched isochrone for interval 20M, MRT: WOODLANDS NORTH MRT STATION\n",
      "Fetched isochrone for interval 20M, MRT: GUL CIRCLE MRT STATION\n",
      "Fetched isochrone for interval 20M, MRT: HAVELOCK MRT STATION\n",
      "Fetched isochrone for interval 20M, MRT: NAPIER MRT STATION\n",
      "Fetched isochrone for interval 20M, MRT: SHENTON WAY MRT STATION\n",
      "Fetched isochrone for interval 20M, MRT: GARDENS BY THE BAY MRT STATION\n",
      "Fetched isochrone for interval 20M, MRT: GREAT WORLD MRT STATION\n",
      "Fetched isochrone for interval 20M, MRT: MAXWELL MRT STATION\n",
      "Fetched isochrone for interval 20M, MRT: ORCHARD BOULEVARD MRT STATION\n",
      "Fetched isochrone for interval 20M, MRT: TELOK BLANGAH MRT STATION\n",
      "Fetched isochrone for interval 20M, MRT: TECK WHYE LRT STATION\n",
      "Fetched isochrone for interval 20M, MRT: TANJONG PAGAR MRT STATION\n",
      "Fetched isochrone for interval 20M, MRT: TANAH MERAH MRT STATION\n",
      "Fetched isochrone for interval 20M, MRT: TAN KAH KEE MRT STATION\n",
      "Fetched isochrone for interval 20M, MRT: UPPER THOMSON MRT STATION\n",
      "Fetched isochrone for interval 20M, MRT: MAYFLOWER MRT STATION\n",
      "Fetched isochrone for interval 25M, MRT: ESPLANADE MRT STATION\n",
      "Fetched isochrone for interval 25M, MRT: PAYA LEBAR MRT STATION\n",
      "Fetched isochrone for interval 25M, MRT: DHOBY GHAUT MRT STATION\n",
      "Fetched isochrone for interval 25M, MRT: DAKOTA MRT STATION\n",
      "Fetched isochrone for interval 25M, MRT: LAVENDER MRT STATION\n",
      "Fetched isochrone for interval 25M, MRT: RENJONG LRT STATION\n",
      "Fetched isochrone for interval 25M, MRT: DOVER MRT STATION\n",
      "Fetched isochrone for interval 25M, MRT: HOUGANG MRT STATION\n",
      "Fetched isochrone for interval 25M, MRT: PHOENIX LRT STATION\n",
      "Fetched isochrone for interval 25M, MRT: ALJUNIED MRT STATION\n",
      "Fetched isochrone for interval 25M, MRT: COVE LRT STATION\n",
      "Fetched isochrone for interval 25M, MRT: PASIR RIS MRT STATION\n",
      "Fetched isochrone for interval 25M, MRT: ADMIRALTY MRT STATION\n",
      "Fetched isochrone for interval 25M, MRT: KEMBANGAN MRT STATION\n",
      "Fetched isochrone for interval 25M, MRT: PUNGGOL POINT LRT STATION\n",
      "Fetched isochrone for interval 25M, MRT: MARSILING MRT STATION\n",
      "Fetched isochrone for interval 25M, MRT: COMPASSVALE LRT STATION\n",
      "Fetched isochrone for interval 25M, MRT: KHATIB MRT STATION\n",
      "Fetched isochrone for interval 25M, MRT: LAYAR LRT STATION\n",
      "Fetched isochrone for interval 25M, MRT: TAMPINES WEST MRT STATION\n",
      "Fetched isochrone for interval 25M, MRT: TAMPINES MRT STATION\n",
      "Fetched isochrone for interval 25M, MRT: TAMPINES EAST MRT STATION\n",
      "Fetched isochrone for interval 25M, MRT: TAI SENG MRT STATION\n",
      "Fetched isochrone for interval 25M, MRT: SUMANG LRT STATION\n",
      "Fetched isochrone for interval 25M, MRT: STEVENS MRT STATION\n",
      "Fetched isochrone for interval 25M, MRT: STADIUM MRT STATION\n",
      "Fetched isochrone for interval 25M, MRT: SIXTH AVENUE MRT STATION\n",
      "Fetched isochrone for interval 25M, MRT: SOUTH VIEW LRT STATION\n",
      "Fetched isochrone for interval 25M, MRT: SOO TECK LRT STATION\n",
      "Fetched isochrone for interval 25M, MRT: SOMERSET MRT STATION\n",
      "Fetched isochrone for interval 25M, MRT: SIMEI MRT STATION\n",
      "Fetched isochrone for interval 25M, MRT: SERANGOON MRT STATION\n",
      "Fetched isochrone for interval 25M, MRT: SENGKANG MRT STATION\n",
      "Fetched isochrone for interval 25M, MRT: BRADDELL MRT STATION\n",
      "Fetched isochrone for interval 25M, MRT: NOVENA MRT STATION\n",
      "Fetched isochrone for interval 25M, MRT: FARRER PARK MRT STATION\n",
      "Fetched isochrone for interval 25M, MRT: BEDOK MRT STATION\n",
      "Fetched isochrone for interval 25M, MRT: REDHILL MRT STATION\n",
      "Fetched isochrone for interval 25M, MRT: CHANGI AIRPORT MRT STATION\n",
      "Fetched isochrone for interval 25M, MRT: CORAL EDGE LRT STATION\n",
      "Fetched isochrone for interval 25M, MRT: CLEMENTI MRT STATION\n",
      "Fetched isochrone for interval 25M, MRT: BUKIT BATOK MRT STATION\n",
      "Fetched isochrone for interval 25M, MRT: OASIS LRT STATION\n",
      "Fetched isochrone for interval 25M, MRT: NIBONG LRT STATION\n",
      "Fetched isochrone for interval 25M, MRT: MERIDIAN LRT STATION\n",
      "Fetched isochrone for interval 25M, MRT: BUKIT GOMBAK MRT STATION\n",
      "Fetched isochrone for interval 25M, MRT: EUNOS MRT STATION\n",
      "Fetched isochrone for interval 25M, MRT: CHINESE GARDEN MRT STATION\n",
      "Fetched isochrone for interval 25M, MRT: KADALOOR LRT STATION\n",
      "Fetched isochrone for interval 25M, MRT: CHENG LIM LRT STATION\n",
      "Fetched isochrone for interval 25M, MRT: SAM KEE LRT STATION\n",
      "Fetched isochrone for interval 25M, MRT: KRANJI MRT STATION\n",
      "Fetched isochrone for interval 25M, MRT: ANG MO KIO MRT STATION\n",
      "Fetched isochrone for interval 25M, MRT: RIVIERA LRT STATION\n",
      "Fetched isochrone for interval 25M, MRT: BANGKIT LRT STATION\n",
      "Fetched isochrone for interval 25M, MRT: PASIR PANJANG MRT STATION\n",
      "Fetched isochrone for interval 25M, MRT: HOLLAND VILLAGE MRT STATION\n",
      "Fetched isochrone for interval 25M, MRT: LABRADOR PARK MRT STATION\n",
      "Fetched isochrone for interval 25M, MRT: BOTANIC GARDENS MRT STATION\n",
      "Fetched isochrone for interval 25M, MRT: ONE-NORTH MRT STATION\n",
      "Fetched isochrone for interval 25M, MRT: KENT RIDGE MRT STATION\n",
      "Fetched isochrone for interval 25M, MRT: HAW PAR VILLA MRT STATION\n",
      "Fetched isochrone for interval 25M, MRT: MARINA BAY MRT STATION\n",
      "Fetched isochrone for interval 25M, MRT: KING ALBERT PARK MRT STATION\n",
      "Fetched isochrone for interval 25M, MRT: LITTLE INDIA MRT STATION\n",
      "Fetched isochrone for interval 25M, MRT: ROCHOR MRT STATION\n",
      "Fetched isochrone for interval 25M, MRT: SENJA LRT STATION\n",
      "Fetched isochrone for interval 25M, MRT: MOUNTBATTEN MRT STATION\n",
      "Fetched isochrone for interval 25M, MRT: CHOA CHU KANG MRT STATION\n",
      "Fetched isochrone for interval 25M, MRT: BOON KENG MRT STATION\n",
      "Fetched isochrone for interval 25M, MRT: BARTLEY MRT STATION\n",
      "Fetched isochrone for interval 25M, MRT: SEGAR LRT STATION\n",
      "Fetched isochrone for interval 25M, MRT: HILLVIEW MRT STATION\n",
      "Fetched isochrone for interval 25M, MRT: BEAUTY WORLD MRT STATION\n",
      "Fetched isochrone for interval 25M, MRT: BUKIT PANJANG MRT STATION\n",
      "Fetched isochrone for interval 25M, MRT: CASHEW MRT STATION\n",
      "Fetched isochrone for interval 25M, MRT: JOO KOON MRT STATION\n",
      "Fetched isochrone for interval 25M, MRT: YEW TEE MRT STATION\n",
      "Fetched isochrone for interval 25M, MRT: YISHUN MRT STATION\n",
      "Fetched isochrone for interval 25M, MRT: YIO CHU KANG MRT STATION\n",
      "Fetched isochrone for interval 25M, MRT: WOODLEIGH MRT STATION\n",
      "Fetched isochrone for interval 25M, MRT: WOODLANDS MRT STATION\n",
      "Fetched isochrone for interval 25M, MRT: UPPER CHANGI MRT STATION\n",
      "Fetched isochrone for interval 25M, MRT: TELOK AYER MRT STATION\n",
      "Fetched isochrone for interval 25M, MRT: TONGKANG LRT STATION\n",
      "Fetched isochrone for interval 25M, MRT: UBI MRT STATION\n",
      "Fetched isochrone for interval 25M, MRT: TOA PAYOH MRT STATION\n",
      "Fetched isochrone for interval 25M, MRT: TIONG BAHRU MRT STATION\n",
      "Fetched isochrone for interval 25M, MRT: THANGGAM LRT STATION\n",
      "Fetched isochrone for interval 25M, MRT: PROMENADE MRT STATION\n",
      "Fetched isochrone for interval 25M, MRT: BRAS BASAH MRT STATION\n",
      "Fetched isochrone for interval 25M, MRT: NICOLL HIGHWAY MRT STATION\n",
      "Fetched isochrone for interval 25M, MRT: POTONG PASIR MRT STATION\n",
      "Fetched isochrone for interval 25M, MRT: LAKESIDE MRT STATION\n",
      "Fetched isochrone for interval 25M, MRT: SAMUDERA LRT STATION\n",
      "Fetched isochrone for interval 25M, MRT: RANGGUNG LRT STATION\n",
      "Fetched isochrone for interval 25M, MRT: SEMBAWANG MRT STATION\n",
      "Fetched isochrone for interval 25M, MRT: PUNGGOL LRT STATION\n",
      "Fetched isochrone for interval 25M, MRT: KANGKAR LRT STATION\n",
      "Fetched isochrone for interval 25M, MRT: PIONEER MRT STATION\n",
      "Fetched isochrone for interval 25M, MRT: BUGIS MRT STATION\n",
      "Fetched isochrone for interval 25M, MRT: NEWTON MRT STATION\n",
      "Fetched isochrone for interval 25M, MRT: BUONA VISTA MRT STATION\n",
      "Fetched isochrone for interval 25M, MRT: OUTRAM PARK MRT STATION\n",
      "Fetched isochrone for interval 25M, MRT: CHINATOWN MRT STATION\n",
      "Fetched isochrone for interval 25M, MRT: EXPO MRT STATION\n",
      "Fetched isochrone for interval 25M, MRT: RAFFLES PLACE MRT STATION\n",
      "Fetched isochrone for interval 25M, MRT: TUAS CRESCENT MRT STATION\n",
      "Fetched isochrone for interval 25M, MRT: TUAS LINK MRT STATION\n",
      "Fetched isochrone for interval 25M, MRT: TUAS WEST ROAD MRT STATION\n",
      "Fetched isochrone for interval 25M, MRT: CITY HALL MRT STATION\n",
      "Fetched isochrone for interval 25M, MRT: BISHAN MRT STATION\n",
      "Fetched isochrone for interval 25M, MRT: FERNVALE LRT STATION\n",
      "Fetched isochrone for interval 25M, MRT: PUNGGOL MRT STATION\n",
      "Fetched isochrone for interval 25M, MRT: BUANGKOK MRT STATION\n",
      "Fetched isochrone for interval 25M, MRT: BAKAU LRT STATION\n",
      "Fetched isochrone for interval 25M, MRT: FARMWAY LRT STATION\n",
      "Fetched isochrone for interval 25M, MRT: COMMONWEALTH MRT STATION\n",
      "Fetched isochrone for interval 25M, MRT: KUPANG LRT STATION\n",
      "Fetched isochrone for interval 25M, MRT: DAMAI LRT STATION\n",
      "Fetched isochrone for interval 25M, MRT: QUEENSTOWN MRT STATION\n",
      "Fetched isochrone for interval 25M, MRT: KALLANG MRT STATION\n",
      "Fetched isochrone for interval 25M, MRT: RUMBIA LRT STATION\n",
      "Fetched isochrone for interval 25M, MRT: PETIR LRT STATION\n",
      "Fetched isochrone for interval 25M, MRT: BOON LAY MRT STATION\n",
      "Fetched isochrone for interval 25M, MRT: KEAT HONG LRT STATION\n",
      "Fetched isochrone for interval 25M, MRT: JELAPANG LRT STATION\n",
      "Fetched isochrone for interval 25M, MRT: CHOA CHU KANG LRT STATION\n",
      "Fetched isochrone for interval 25M, MRT: SENGKANG LRT STATION\n",
      "Fetched isochrone for interval 25M, MRT: HARBOURFRONT MRT STATION\n",
      "Fetched isochrone for interval 25M, MRT: PENDING LRT STATION\n",
      "Fetched isochrone for interval 25M, MRT: CLARKE QUAY MRT STATION\n",
      "Fetched isochrone for interval 25M, MRT: BUKIT PANJANG LRT STATION\n",
      "Fetched isochrone for interval 25M, MRT: FAJAR LRT STATION\n",
      "Fetched isochrone for interval 25M, MRT: KOVAN MRT STATION\n",
      "Fetched isochrone for interval 25M, MRT: LORONG CHUAN MRT STATION\n",
      "Fetched isochrone for interval 25M, MRT: MARYMOUNT MRT STATION\n",
      "Fetched isochrone for interval 25M, MRT: CALDECOTT MRT STATION\n",
      "Fetched isochrone for interval 25M, MRT: DOWNTOWN MRT STATION\n",
      "Fetched isochrone for interval 25M, MRT: GEYLANG BAHRU MRT STATION\n",
      "Fetched isochrone for interval 25M, MRT: BENDEMEER MRT STATION\n",
      "Fetched isochrone for interval 25M, MRT: BENCOOLEN MRT STATION\n",
      "Fetched isochrone for interval 25M, MRT: FORT CANNING MRT STATION\n",
      "Fetched isochrone for interval 25M, MRT: KAKI BUKIT MRT STATION\n",
      "Fetched isochrone for interval 25M, MRT: JALAN BESAR MRT STATION\n",
      "Fetched isochrone for interval 25M, MRT: MATTAR MRT STATION\n",
      "Fetched isochrone for interval 25M, MRT: MACPHERSON MRT STATION\n",
      "Fetched isochrone for interval 25M, MRT: BAYFRONT MRT STATION\n",
      "Fetched isochrone for interval 25M, MRT: FARRER ROAD MRT STATION\n",
      "Fetched isochrone for interval 25M, MRT: JURONG EAST MRT STATION\n",
      "Fetched isochrone for interval 25M, MRT: BEDOK NORTH MRT STATION\n",
      "Fetched isochrone for interval 25M, MRT: BEDOK RESERVOIR MRT STATION\n",
      "Fetched isochrone for interval 25M, MRT: ORCHARD MRT STATION\n",
      "Fetched isochrone for interval 25M, MRT: LENTOR MRT STATION\n",
      "Fetched isochrone for interval 25M, MRT: BRIGHT HILL MRT STATION\n",
      "Fetched isochrone for interval 25M, MRT: SPRINGLEAF MRT STATION\n",
      "Fetched isochrone for interval 25M, MRT: MARINA SOUTH PIER MRT STATION\n",
      "Fetched isochrone for interval 25M, MRT: CANBERRA MRT STATION\n",
      "Fetched isochrone for interval 25M, MRT: WOODLANDS SOUTH MRT STATION\n",
      "Fetched isochrone for interval 25M, MRT: WOODLANDS NORTH MRT STATION\n",
      "Fetched isochrone for interval 25M, MRT: GUL CIRCLE MRT STATION\n",
      "Fetched isochrone for interval 25M, MRT: HAVELOCK MRT STATION\n",
      "Fetched isochrone for interval 25M, MRT: NAPIER MRT STATION\n",
      "Fetched isochrone for interval 25M, MRT: SHENTON WAY MRT STATION\n",
      "Fetched isochrone for interval 25M, MRT: GARDENS BY THE BAY MRT STATION\n",
      "Fetched isochrone for interval 25M, MRT: GREAT WORLD MRT STATION\n",
      "Fetched isochrone for interval 25M, MRT: MAXWELL MRT STATION\n",
      "Fetched isochrone for interval 25M, MRT: ORCHARD BOULEVARD MRT STATION\n",
      "Fetched isochrone for interval 25M, MRT: TELOK BLANGAH MRT STATION\n",
      "Fetched isochrone for interval 25M, MRT: TECK WHYE LRT STATION\n",
      "Fetched isochrone for interval 25M, MRT: TANJONG PAGAR MRT STATION\n",
      "Fetched isochrone for interval 25M, MRT: TANAH MERAH MRT STATION\n",
      "Fetched isochrone for interval 25M, MRT: TAN KAH KEE MRT STATION\n",
      "Fetched isochrone for interval 25M, MRT: UPPER THOMSON MRT STATION\n",
      "Fetched isochrone for interval 25M, MRT: MAYFLOWER MRT STATION\n",
      "Fetched isochrone for interval 30M, MRT: ESPLANADE MRT STATION\n",
      "Fetched isochrone for interval 30M, MRT: PAYA LEBAR MRT STATION\n",
      "Fetched isochrone for interval 30M, MRT: DHOBY GHAUT MRT STATION\n",
      "Fetched isochrone for interval 30M, MRT: DAKOTA MRT STATION\n",
      "Fetched isochrone for interval 30M, MRT: LAVENDER MRT STATION\n",
      "Fetched isochrone for interval 30M, MRT: RENJONG LRT STATION\n",
      "Fetched isochrone for interval 30M, MRT: DOVER MRT STATION\n",
      "Fetched isochrone for interval 30M, MRT: HOUGANG MRT STATION\n",
      "Fetched isochrone for interval 30M, MRT: PHOENIX LRT STATION\n",
      "Fetched isochrone for interval 30M, MRT: ALJUNIED MRT STATION\n",
      "Fetched isochrone for interval 30M, MRT: COVE LRT STATION\n",
      "Fetched isochrone for interval 30M, MRT: PASIR RIS MRT STATION\n",
      "Fetched isochrone for interval 30M, MRT: ADMIRALTY MRT STATION\n",
      "Fetched isochrone for interval 30M, MRT: KEMBANGAN MRT STATION\n",
      "Fetched isochrone for interval 30M, MRT: PUNGGOL POINT LRT STATION\n",
      "Fetched isochrone for interval 30M, MRT: MARSILING MRT STATION\n",
      "Fetched isochrone for interval 30M, MRT: COMPASSVALE LRT STATION\n",
      "Fetched isochrone for interval 30M, MRT: KHATIB MRT STATION\n",
      "Fetched isochrone for interval 30M, MRT: LAYAR LRT STATION\n",
      "Fetched isochrone for interval 30M, MRT: TAMPINES WEST MRT STATION\n",
      "Fetched isochrone for interval 30M, MRT: TAMPINES MRT STATION\n",
      "Fetched isochrone for interval 30M, MRT: TAMPINES EAST MRT STATION\n",
      "Fetched isochrone for interval 30M, MRT: TAI SENG MRT STATION\n",
      "Fetched isochrone for interval 30M, MRT: SUMANG LRT STATION\n",
      "Fetched isochrone for interval 30M, MRT: STEVENS MRT STATION\n",
      "Fetched isochrone for interval 30M, MRT: STADIUM MRT STATION\n",
      "Fetched isochrone for interval 30M, MRT: SIXTH AVENUE MRT STATION\n",
      "Fetched isochrone for interval 30M, MRT: SOUTH VIEW LRT STATION\n",
      "Fetched isochrone for interval 30M, MRT: SOO TECK LRT STATION\n",
      "Fetched isochrone for interval 30M, MRT: SOMERSET MRT STATION\n",
      "Fetched isochrone for interval 30M, MRT: SIMEI MRT STATION\n",
      "Fetched isochrone for interval 30M, MRT: SERANGOON MRT STATION\n",
      "Fetched isochrone for interval 30M, MRT: SENGKANG MRT STATION\n",
      "Fetched isochrone for interval 30M, MRT: BRADDELL MRT STATION\n",
      "Fetched isochrone for interval 30M, MRT: NOVENA MRT STATION\n",
      "Fetched isochrone for interval 30M, MRT: FARRER PARK MRT STATION\n",
      "Fetched isochrone for interval 30M, MRT: BEDOK MRT STATION\n",
      "Fetched isochrone for interval 30M, MRT: REDHILL MRT STATION\n",
      "Fetched isochrone for interval 30M, MRT: CHANGI AIRPORT MRT STATION\n",
      "Fetched isochrone for interval 30M, MRT: CORAL EDGE LRT STATION\n",
      "Fetched isochrone for interval 30M, MRT: CLEMENTI MRT STATION\n",
      "Fetched isochrone for interval 30M, MRT: BUKIT BATOK MRT STATION\n",
      "Fetched isochrone for interval 30M, MRT: OASIS LRT STATION\n",
      "Fetched isochrone for interval 30M, MRT: NIBONG LRT STATION\n",
      "Fetched isochrone for interval 30M, MRT: MERIDIAN LRT STATION\n",
      "Fetched isochrone for interval 30M, MRT: BUKIT GOMBAK MRT STATION\n",
      "Fetched isochrone for interval 30M, MRT: EUNOS MRT STATION\n",
      "Fetched isochrone for interval 30M, MRT: CHINESE GARDEN MRT STATION\n",
      "Fetched isochrone for interval 30M, MRT: KADALOOR LRT STATION\n",
      "Fetched isochrone for interval 30M, MRT: CHENG LIM LRT STATION\n",
      "Fetched isochrone for interval 30M, MRT: SAM KEE LRT STATION\n",
      "Fetched isochrone for interval 30M, MRT: KRANJI MRT STATION\n",
      "Fetched isochrone for interval 30M, MRT: ANG MO KIO MRT STATION\n",
      "Fetched isochrone for interval 30M, MRT: RIVIERA LRT STATION\n",
      "Fetched isochrone for interval 30M, MRT: BANGKIT LRT STATION\n",
      "Fetched isochrone for interval 30M, MRT: PASIR PANJANG MRT STATION\n",
      "Fetched isochrone for interval 30M, MRT: HOLLAND VILLAGE MRT STATION\n",
      "Fetched isochrone for interval 30M, MRT: LABRADOR PARK MRT STATION\n",
      "Fetched isochrone for interval 30M, MRT: BOTANIC GARDENS MRT STATION\n",
      "Fetched isochrone for interval 30M, MRT: ONE-NORTH MRT STATION\n",
      "Fetched isochrone for interval 30M, MRT: KENT RIDGE MRT STATION\n",
      "Fetched isochrone for interval 30M, MRT: HAW PAR VILLA MRT STATION\n",
      "Fetched isochrone for interval 30M, MRT: MARINA BAY MRT STATION\n",
      "Fetched isochrone for interval 30M, MRT: KING ALBERT PARK MRT STATION\n",
      "Fetched isochrone for interval 30M, MRT: LITTLE INDIA MRT STATION\n",
      "Fetched isochrone for interval 30M, MRT: ROCHOR MRT STATION\n",
      "Fetched isochrone for interval 30M, MRT: SENJA LRT STATION\n",
      "Fetched isochrone for interval 30M, MRT: MOUNTBATTEN MRT STATION\n",
      "Fetched isochrone for interval 30M, MRT: CHOA CHU KANG MRT STATION\n",
      "Fetched isochrone for interval 30M, MRT: BOON KENG MRT STATION\n",
      "Fetched isochrone for interval 30M, MRT: BARTLEY MRT STATION\n",
      "Fetched isochrone for interval 30M, MRT: SEGAR LRT STATION\n",
      "Fetched isochrone for interval 30M, MRT: HILLVIEW MRT STATION\n",
      "Fetched isochrone for interval 30M, MRT: BEAUTY WORLD MRT STATION\n",
      "Fetched isochrone for interval 30M, MRT: BUKIT PANJANG MRT STATION\n",
      "Fetched isochrone for interval 30M, MRT: CASHEW MRT STATION\n",
      "Fetched isochrone for interval 30M, MRT: JOO KOON MRT STATION\n",
      "Fetched isochrone for interval 30M, MRT: YEW TEE MRT STATION\n",
      "Fetched isochrone for interval 30M, MRT: YISHUN MRT STATION\n",
      "Fetched isochrone for interval 30M, MRT: YIO CHU KANG MRT STATION\n",
      "Fetched isochrone for interval 30M, MRT: WOODLEIGH MRT STATION\n",
      "Fetched isochrone for interval 30M, MRT: WOODLANDS MRT STATION\n",
      "Fetched isochrone for interval 30M, MRT: UPPER CHANGI MRT STATION\n",
      "Fetched isochrone for interval 30M, MRT: TELOK AYER MRT STATION\n",
      "Fetched isochrone for interval 30M, MRT: TONGKANG LRT STATION\n",
      "Fetched isochrone for interval 30M, MRT: UBI MRT STATION\n",
      "Fetched isochrone for interval 30M, MRT: TOA PAYOH MRT STATION\n",
      "Fetched isochrone for interval 30M, MRT: TIONG BAHRU MRT STATION\n",
      "Fetched isochrone for interval 30M, MRT: THANGGAM LRT STATION\n",
      "Fetched isochrone for interval 30M, MRT: PROMENADE MRT STATION\n",
      "Fetched isochrone for interval 30M, MRT: BRAS BASAH MRT STATION\n",
      "Fetched isochrone for interval 30M, MRT: NICOLL HIGHWAY MRT STATION\n",
      "Fetched isochrone for interval 30M, MRT: POTONG PASIR MRT STATION\n",
      "Fetched isochrone for interval 30M, MRT: LAKESIDE MRT STATION\n",
      "Fetched isochrone for interval 30M, MRT: SAMUDERA LRT STATION\n",
      "Fetched isochrone for interval 30M, MRT: RANGGUNG LRT STATION\n",
      "Fetched isochrone for interval 30M, MRT: SEMBAWANG MRT STATION\n",
      "Fetched isochrone for interval 30M, MRT: PUNGGOL LRT STATION\n",
      "Fetched isochrone for interval 30M, MRT: KANGKAR LRT STATION\n",
      "Fetched isochrone for interval 30M, MRT: PIONEER MRT STATION\n",
      "Fetched isochrone for interval 30M, MRT: BUGIS MRT STATION\n",
      "Fetched isochrone for interval 30M, MRT: NEWTON MRT STATION\n",
      "Fetched isochrone for interval 30M, MRT: BUONA VISTA MRT STATION\n",
      "Fetched isochrone for interval 30M, MRT: OUTRAM PARK MRT STATION\n",
      "Fetched isochrone for interval 30M, MRT: CHINATOWN MRT STATION\n",
      "Fetched isochrone for interval 30M, MRT: EXPO MRT STATION\n",
      "Fetched isochrone for interval 30M, MRT: RAFFLES PLACE MRT STATION\n",
      "Fetched isochrone for interval 30M, MRT: TUAS CRESCENT MRT STATION\n",
      "Fetched isochrone for interval 30M, MRT: TUAS LINK MRT STATION\n",
      "Fetched isochrone for interval 30M, MRT: TUAS WEST ROAD MRT STATION\n",
      "Fetched isochrone for interval 30M, MRT: CITY HALL MRT STATION\n",
      "Fetched isochrone for interval 30M, MRT: BISHAN MRT STATION\n",
      "Fetched isochrone for interval 30M, MRT: FERNVALE LRT STATION\n",
      "Fetched isochrone for interval 30M, MRT: PUNGGOL MRT STATION\n",
      "Fetched isochrone for interval 30M, MRT: BUANGKOK MRT STATION\n",
      "Fetched isochrone for interval 30M, MRT: BAKAU LRT STATION\n",
      "Fetched isochrone for interval 30M, MRT: FARMWAY LRT STATION\n",
      "Fetched isochrone for interval 30M, MRT: COMMONWEALTH MRT STATION\n",
      "Fetched isochrone for interval 30M, MRT: KUPANG LRT STATION\n",
      "Fetched isochrone for interval 30M, MRT: DAMAI LRT STATION\n",
      "Fetched isochrone for interval 30M, MRT: QUEENSTOWN MRT STATION\n",
      "Fetched isochrone for interval 30M, MRT: KALLANG MRT STATION\n",
      "Fetched isochrone for interval 30M, MRT: RUMBIA LRT STATION\n",
      "Fetched isochrone for interval 30M, MRT: PETIR LRT STATION\n",
      "Fetched isochrone for interval 30M, MRT: BOON LAY MRT STATION\n",
      "Fetched isochrone for interval 30M, MRT: KEAT HONG LRT STATION\n",
      "Fetched isochrone for interval 30M, MRT: JELAPANG LRT STATION\n",
      "Fetched isochrone for interval 30M, MRT: CHOA CHU KANG LRT STATION\n",
      "Fetched isochrone for interval 30M, MRT: SENGKANG LRT STATION\n",
      "Fetched isochrone for interval 30M, MRT: HARBOURFRONT MRT STATION\n",
      "Fetched isochrone for interval 30M, MRT: PENDING LRT STATION\n",
      "Fetched isochrone for interval 30M, MRT: CLARKE QUAY MRT STATION\n",
      "Fetched isochrone for interval 30M, MRT: BUKIT PANJANG LRT STATION\n",
      "Fetched isochrone for interval 30M, MRT: FAJAR LRT STATION\n",
      "Fetched isochrone for interval 30M, MRT: KOVAN MRT STATION\n",
      "Fetched isochrone for interval 30M, MRT: LORONG CHUAN MRT STATION\n",
      "Fetched isochrone for interval 30M, MRT: MARYMOUNT MRT STATION\n",
      "Fetched isochrone for interval 30M, MRT: CALDECOTT MRT STATION\n",
      "Fetched isochrone for interval 30M, MRT: DOWNTOWN MRT STATION\n",
      "Fetched isochrone for interval 30M, MRT: GEYLANG BAHRU MRT STATION\n",
      "Fetched isochrone for interval 30M, MRT: BENDEMEER MRT STATION\n",
      "Fetched isochrone for interval 30M, MRT: BENCOOLEN MRT STATION\n",
      "Fetched isochrone for interval 30M, MRT: FORT CANNING MRT STATION\n",
      "Fetched isochrone for interval 30M, MRT: KAKI BUKIT MRT STATION\n",
      "Fetched isochrone for interval 30M, MRT: JALAN BESAR MRT STATION\n",
      "Fetched isochrone for interval 30M, MRT: MATTAR MRT STATION\n",
      "Fetched isochrone for interval 30M, MRT: MACPHERSON MRT STATION\n",
      "Fetched isochrone for interval 30M, MRT: BAYFRONT MRT STATION\n",
      "Fetched isochrone for interval 30M, MRT: FARRER ROAD MRT STATION\n",
      "Fetched isochrone for interval 30M, MRT: JURONG EAST MRT STATION\n",
      "Fetched isochrone for interval 30M, MRT: BEDOK NORTH MRT STATION\n",
      "Fetched isochrone for interval 30M, MRT: BEDOK RESERVOIR MRT STATION\n",
      "Fetched isochrone for interval 30M, MRT: ORCHARD MRT STATION\n",
      "Fetched isochrone for interval 30M, MRT: LENTOR MRT STATION\n",
      "Fetched isochrone for interval 30M, MRT: BRIGHT HILL MRT STATION\n",
      "Fetched isochrone for interval 30M, MRT: SPRINGLEAF MRT STATION\n",
      "Fetched isochrone for interval 30M, MRT: MARINA SOUTH PIER MRT STATION\n",
      "Fetched isochrone for interval 30M, MRT: CANBERRA MRT STATION\n",
      "Fetched isochrone for interval 30M, MRT: WOODLANDS SOUTH MRT STATION\n",
      "Fetched isochrone for interval 30M, MRT: WOODLANDS NORTH MRT STATION\n",
      "Fetched isochrone for interval 30M, MRT: GUL CIRCLE MRT STATION\n",
      "Fetched isochrone for interval 30M, MRT: HAVELOCK MRT STATION\n",
      "Fetched isochrone for interval 30M, MRT: NAPIER MRT STATION\n",
      "Fetched isochrone for interval 30M, MRT: SHENTON WAY MRT STATION\n",
      "Fetched isochrone for interval 30M, MRT: GARDENS BY THE BAY MRT STATION\n",
      "Fetched isochrone for interval 30M, MRT: GREAT WORLD MRT STATION\n",
      "Fetched isochrone for interval 30M, MRT: MAXWELL MRT STATION\n",
      "Fetched isochrone for interval 30M, MRT: ORCHARD BOULEVARD MRT STATION\n",
      "Fetched isochrone for interval 30M, MRT: TELOK BLANGAH MRT STATION\n",
      "Fetched isochrone for interval 30M, MRT: TECK WHYE LRT STATION\n",
      "Fetched isochrone for interval 30M, MRT: TANJONG PAGAR MRT STATION\n",
      "Fetched isochrone for interval 30M, MRT: TANAH MERAH MRT STATION\n",
      "Fetched isochrone for interval 30M, MRT: TAN KAH KEE MRT STATION\n",
      "Fetched isochrone for interval 30M, MRT: UPPER THOMSON MRT STATION\n",
      "Fetched isochrone for interval 30M, MRT: MAYFLOWER MRT STATION\n",
      "Fetched isochrone for interval 35M, MRT: ESPLANADE MRT STATION\n",
      "Fetched isochrone for interval 35M, MRT: PAYA LEBAR MRT STATION\n",
      "Fetched isochrone for interval 35M, MRT: DHOBY GHAUT MRT STATION\n",
      "Fetched isochrone for interval 35M, MRT: DAKOTA MRT STATION\n",
      "Fetched isochrone for interval 35M, MRT: LAVENDER MRT STATION\n",
      "Fetched isochrone for interval 35M, MRT: RENJONG LRT STATION\n",
      "Fetched isochrone for interval 35M, MRT: DOVER MRT STATION\n",
      "Fetched isochrone for interval 35M, MRT: HOUGANG MRT STATION\n",
      "Fetched isochrone for interval 35M, MRT: PHOENIX LRT STATION\n",
      "Fetched isochrone for interval 35M, MRT: ALJUNIED MRT STATION\n",
      "Fetched isochrone for interval 35M, MRT: COVE LRT STATION\n",
      "Fetched isochrone for interval 35M, MRT: PASIR RIS MRT STATION\n",
      "Fetched isochrone for interval 35M, MRT: ADMIRALTY MRT STATION\n",
      "Fetched isochrone for interval 35M, MRT: KEMBANGAN MRT STATION\n",
      "Fetched isochrone for interval 35M, MRT: PUNGGOL POINT LRT STATION\n",
      "Fetched isochrone for interval 35M, MRT: MARSILING MRT STATION\n",
      "Fetched isochrone for interval 35M, MRT: COMPASSVALE LRT STATION\n",
      "Fetched isochrone for interval 35M, MRT: KHATIB MRT STATION\n",
      "Fetched isochrone for interval 35M, MRT: LAYAR LRT STATION\n",
      "Fetched isochrone for interval 35M, MRT: TAMPINES WEST MRT STATION\n",
      "Fetched isochrone for interval 35M, MRT: TAMPINES MRT STATION\n",
      "Fetched isochrone for interval 35M, MRT: TAMPINES EAST MRT STATION\n",
      "Fetched isochrone for interval 35M, MRT: TAI SENG MRT STATION\n",
      "Fetched isochrone for interval 35M, MRT: SUMANG LRT STATION\n",
      "Fetched isochrone for interval 35M, MRT: STEVENS MRT STATION\n",
      "Fetched isochrone for interval 35M, MRT: STADIUM MRT STATION\n",
      "Fetched isochrone for interval 35M, MRT: SIXTH AVENUE MRT STATION\n",
      "Fetched isochrone for interval 35M, MRT: SOUTH VIEW LRT STATION\n",
      "Fetched isochrone for interval 35M, MRT: SOO TECK LRT STATION\n",
      "Fetched isochrone for interval 35M, MRT: SOMERSET MRT STATION\n",
      "Fetched isochrone for interval 35M, MRT: SIMEI MRT STATION\n",
      "Fetched isochrone for interval 35M, MRT: SERANGOON MRT STATION\n",
      "Fetched isochrone for interval 35M, MRT: SENGKANG MRT STATION\n",
      "Fetched isochrone for interval 35M, MRT: BRADDELL MRT STATION\n",
      "Fetched isochrone for interval 35M, MRT: NOVENA MRT STATION\n",
      "Fetched isochrone for interval 35M, MRT: FARRER PARK MRT STATION\n",
      "Fetched isochrone for interval 35M, MRT: BEDOK MRT STATION\n",
      "Fetched isochrone for interval 35M, MRT: REDHILL MRT STATION\n",
      "Fetched isochrone for interval 35M, MRT: CHANGI AIRPORT MRT STATION\n",
      "Fetched isochrone for interval 35M, MRT: CORAL EDGE LRT STATION\n",
      "Fetched isochrone for interval 35M, MRT: CLEMENTI MRT STATION\n",
      "Fetched isochrone for interval 35M, MRT: BUKIT BATOK MRT STATION\n",
      "Fetched isochrone for interval 35M, MRT: OASIS LRT STATION\n",
      "Fetched isochrone for interval 35M, MRT: NIBONG LRT STATION\n",
      "Fetched isochrone for interval 35M, MRT: MERIDIAN LRT STATION\n",
      "Fetched isochrone for interval 35M, MRT: BUKIT GOMBAK MRT STATION\n",
      "Fetched isochrone for interval 35M, MRT: EUNOS MRT STATION\n",
      "Fetched isochrone for interval 35M, MRT: CHINESE GARDEN MRT STATION\n",
      "Fetched isochrone for interval 35M, MRT: KADALOOR LRT STATION\n",
      "Fetched isochrone for interval 35M, MRT: CHENG LIM LRT STATION\n",
      "Fetched isochrone for interval 35M, MRT: SAM KEE LRT STATION\n",
      "Fetched isochrone for interval 35M, MRT: KRANJI MRT STATION\n",
      "Fetched isochrone for interval 35M, MRT: ANG MO KIO MRT STATION\n",
      "Fetched isochrone for interval 35M, MRT: RIVIERA LRT STATION\n",
      "Fetched isochrone for interval 35M, MRT: BANGKIT LRT STATION\n",
      "Fetched isochrone for interval 35M, MRT: PASIR PANJANG MRT STATION\n",
      "Fetched isochrone for interval 35M, MRT: HOLLAND VILLAGE MRT STATION\n",
      "Fetched isochrone for interval 35M, MRT: LABRADOR PARK MRT STATION\n",
      "Fetched isochrone for interval 35M, MRT: BOTANIC GARDENS MRT STATION\n",
      "Fetched isochrone for interval 35M, MRT: ONE-NORTH MRT STATION\n",
      "Fetched isochrone for interval 35M, MRT: KENT RIDGE MRT STATION\n",
      "Fetched isochrone for interval 35M, MRT: HAW PAR VILLA MRT STATION\n",
      "Fetched isochrone for interval 35M, MRT: MARINA BAY MRT STATION\n",
      "Fetched isochrone for interval 35M, MRT: KING ALBERT PARK MRT STATION\n",
      "Fetched isochrone for interval 35M, MRT: LITTLE INDIA MRT STATION\n",
      "Fetched isochrone for interval 35M, MRT: ROCHOR MRT STATION\n",
      "Fetched isochrone for interval 35M, MRT: SENJA LRT STATION\n",
      "Fetched isochrone for interval 35M, MRT: MOUNTBATTEN MRT STATION\n",
      "Fetched isochrone for interval 35M, MRT: CHOA CHU KANG MRT STATION\n",
      "Fetched isochrone for interval 35M, MRT: BOON KENG MRT STATION\n",
      "Fetched isochrone for interval 35M, MRT: BARTLEY MRT STATION\n",
      "Fetched isochrone for interval 35M, MRT: SEGAR LRT STATION\n",
      "Fetched isochrone for interval 35M, MRT: HILLVIEW MRT STATION\n",
      "Fetched isochrone for interval 35M, MRT: BEAUTY WORLD MRT STATION\n",
      "Fetched isochrone for interval 35M, MRT: BUKIT PANJANG MRT STATION\n",
      "Fetched isochrone for interval 35M, MRT: CASHEW MRT STATION\n",
      "Fetched isochrone for interval 35M, MRT: JOO KOON MRT STATION\n",
      "Fetched isochrone for interval 35M, MRT: YEW TEE MRT STATION\n",
      "Fetched isochrone for interval 35M, MRT: YISHUN MRT STATION\n",
      "Fetched isochrone for interval 35M, MRT: YIO CHU KANG MRT STATION\n",
      "Fetched isochrone for interval 35M, MRT: WOODLEIGH MRT STATION\n",
      "Fetched isochrone for interval 35M, MRT: WOODLANDS MRT STATION\n",
      "Fetched isochrone for interval 35M, MRT: UPPER CHANGI MRT STATION\n",
      "Fetched isochrone for interval 35M, MRT: TELOK AYER MRT STATION\n",
      "Fetched isochrone for interval 35M, MRT: TONGKANG LRT STATION\n",
      "Fetched isochrone for interval 35M, MRT: UBI MRT STATION\n",
      "Fetched isochrone for interval 35M, MRT: TOA PAYOH MRT STATION\n",
      "Fetched isochrone for interval 35M, MRT: TIONG BAHRU MRT STATION\n",
      "Fetched isochrone for interval 35M, MRT: THANGGAM LRT STATION\n",
      "Fetched isochrone for interval 35M, MRT: PROMENADE MRT STATION\n",
      "Fetched isochrone for interval 35M, MRT: BRAS BASAH MRT STATION\n",
      "Fetched isochrone for interval 35M, MRT: NICOLL HIGHWAY MRT STATION\n",
      "Fetched isochrone for interval 35M, MRT: POTONG PASIR MRT STATION\n",
      "Fetched isochrone for interval 35M, MRT: LAKESIDE MRT STATION\n",
      "Fetched isochrone for interval 35M, MRT: SAMUDERA LRT STATION\n",
      "Fetched isochrone for interval 35M, MRT: RANGGUNG LRT STATION\n",
      "Fetched isochrone for interval 35M, MRT: SEMBAWANG MRT STATION\n",
      "Fetched isochrone for interval 35M, MRT: PUNGGOL LRT STATION\n",
      "Fetched isochrone for interval 35M, MRT: KANGKAR LRT STATION\n",
      "Fetched isochrone for interval 35M, MRT: PIONEER MRT STATION\n",
      "Fetched isochrone for interval 35M, MRT: BUGIS MRT STATION\n",
      "Fetched isochrone for interval 35M, MRT: NEWTON MRT STATION\n",
      "Fetched isochrone for interval 35M, MRT: BUONA VISTA MRT STATION\n",
      "Fetched isochrone for interval 35M, MRT: OUTRAM PARK MRT STATION\n",
      "Fetched isochrone for interval 35M, MRT: CHINATOWN MRT STATION\n",
      "Fetched isochrone for interval 35M, MRT: EXPO MRT STATION\n",
      "Fetched isochrone for interval 35M, MRT: RAFFLES PLACE MRT STATION\n",
      "Fetched isochrone for interval 35M, MRT: TUAS CRESCENT MRT STATION\n",
      "Fetched isochrone for interval 35M, MRT: TUAS LINK MRT STATION\n",
      "Fetched isochrone for interval 35M, MRT: TUAS WEST ROAD MRT STATION\n",
      "Fetched isochrone for interval 35M, MRT: CITY HALL MRT STATION\n",
      "Fetched isochrone for interval 35M, MRT: BISHAN MRT STATION\n",
      "Fetched isochrone for interval 35M, MRT: FERNVALE LRT STATION\n",
      "Fetched isochrone for interval 35M, MRT: PUNGGOL MRT STATION\n",
      "Fetched isochrone for interval 35M, MRT: BUANGKOK MRT STATION\n",
      "Fetched isochrone for interval 35M, MRT: BAKAU LRT STATION\n",
      "Fetched isochrone for interval 35M, MRT: FARMWAY LRT STATION\n",
      "Fetched isochrone for interval 35M, MRT: COMMONWEALTH MRT STATION\n",
      "Fetched isochrone for interval 35M, MRT: KUPANG LRT STATION\n",
      "Fetched isochrone for interval 35M, MRT: DAMAI LRT STATION\n",
      "Fetched isochrone for interval 35M, MRT: QUEENSTOWN MRT STATION\n",
      "Fetched isochrone for interval 35M, MRT: KALLANG MRT STATION\n",
      "Fetched isochrone for interval 35M, MRT: RUMBIA LRT STATION\n",
      "Fetched isochrone for interval 35M, MRT: PETIR LRT STATION\n",
      "Fetched isochrone for interval 35M, MRT: BOON LAY MRT STATION\n",
      "Fetched isochrone for interval 35M, MRT: KEAT HONG LRT STATION\n",
      "Fetched isochrone for interval 35M, MRT: JELAPANG LRT STATION\n",
      "Fetched isochrone for interval 35M, MRT: CHOA CHU KANG LRT STATION\n",
      "Fetched isochrone for interval 35M, MRT: SENGKANG LRT STATION\n",
      "Fetched isochrone for interval 35M, MRT: HARBOURFRONT MRT STATION\n",
      "Fetched isochrone for interval 35M, MRT: PENDING LRT STATION\n",
      "Fetched isochrone for interval 35M, MRT: CLARKE QUAY MRT STATION\n",
      "Fetched isochrone for interval 35M, MRT: BUKIT PANJANG LRT STATION\n",
      "Fetched isochrone for interval 35M, MRT: FAJAR LRT STATION\n",
      "Fetched isochrone for interval 35M, MRT: KOVAN MRT STATION\n",
      "Fetched isochrone for interval 35M, MRT: LORONG CHUAN MRT STATION\n",
      "Fetched isochrone for interval 35M, MRT: MARYMOUNT MRT STATION\n",
      "Fetched isochrone for interval 35M, MRT: CALDECOTT MRT STATION\n",
      "Fetched isochrone for interval 35M, MRT: DOWNTOWN MRT STATION\n",
      "Fetched isochrone for interval 35M, MRT: GEYLANG BAHRU MRT STATION\n",
      "Fetched isochrone for interval 35M, MRT: BENDEMEER MRT STATION\n",
      "Fetched isochrone for interval 35M, MRT: BENCOOLEN MRT STATION\n",
      "Fetched isochrone for interval 35M, MRT: FORT CANNING MRT STATION\n",
      "Fetched isochrone for interval 35M, MRT: KAKI BUKIT MRT STATION\n",
      "Fetched isochrone for interval 35M, MRT: JALAN BESAR MRT STATION\n",
      "Fetched isochrone for interval 35M, MRT: MATTAR MRT STATION\n",
      "Fetched isochrone for interval 35M, MRT: MACPHERSON MRT STATION\n",
      "Fetched isochrone for interval 35M, MRT: BAYFRONT MRT STATION\n",
      "Fetched isochrone for interval 35M, MRT: FARRER ROAD MRT STATION\n",
      "Fetched isochrone for interval 35M, MRT: JURONG EAST MRT STATION\n",
      "Fetched isochrone for interval 35M, MRT: BEDOK NORTH MRT STATION\n",
      "Fetched isochrone for interval 35M, MRT: BEDOK RESERVOIR MRT STATION\n",
      "Fetched isochrone for interval 35M, MRT: ORCHARD MRT STATION\n",
      "Fetched isochrone for interval 35M, MRT: LENTOR MRT STATION\n",
      "Fetched isochrone for interval 35M, MRT: BRIGHT HILL MRT STATION\n",
      "Fetched isochrone for interval 35M, MRT: SPRINGLEAF MRT STATION\n",
      "Fetched isochrone for interval 35M, MRT: MARINA SOUTH PIER MRT STATION\n",
      "Fetched isochrone for interval 35M, MRT: CANBERRA MRT STATION\n",
      "Fetched isochrone for interval 35M, MRT: WOODLANDS SOUTH MRT STATION\n",
      "Fetched isochrone for interval 35M, MRT: WOODLANDS NORTH MRT STATION\n",
      "Fetched isochrone for interval 35M, MRT: GUL CIRCLE MRT STATION\n",
      "Fetched isochrone for interval 35M, MRT: HAVELOCK MRT STATION\n",
      "Fetched isochrone for interval 35M, MRT: NAPIER MRT STATION\n",
      "Fetched isochrone for interval 35M, MRT: SHENTON WAY MRT STATION\n",
      "Fetched isochrone for interval 35M, MRT: GARDENS BY THE BAY MRT STATION\n",
      "Fetched isochrone for interval 35M, MRT: GREAT WORLD MRT STATION\n",
      "Fetched isochrone for interval 35M, MRT: MAXWELL MRT STATION\n",
      "Fetched isochrone for interval 35M, MRT: ORCHARD BOULEVARD MRT STATION\n",
      "Fetched isochrone for interval 35M, MRT: TELOK BLANGAH MRT STATION\n",
      "Fetched isochrone for interval 35M, MRT: TECK WHYE LRT STATION\n",
      "Fetched isochrone for interval 35M, MRT: TANJONG PAGAR MRT STATION\n",
      "Fetched isochrone for interval 35M, MRT: TANAH MERAH MRT STATION\n",
      "Fetched isochrone for interval 35M, MRT: TAN KAH KEE MRT STATION\n",
      "Fetched isochrone for interval 35M, MRT: UPPER THOMSON MRT STATION\n",
      "Fetched isochrone for interval 35M, MRT: MAYFLOWER MRT STATION\n",
      "Fetched isochrone for interval 40M, MRT: ESPLANADE MRT STATION\n",
      "Fetched isochrone for interval 40M, MRT: PAYA LEBAR MRT STATION\n",
      "Fetched isochrone for interval 40M, MRT: DHOBY GHAUT MRT STATION\n",
      "Fetched isochrone for interval 40M, MRT: DAKOTA MRT STATION\n",
      "Fetched isochrone for interval 40M, MRT: LAVENDER MRT STATION\n",
      "Fetched isochrone for interval 40M, MRT: RENJONG LRT STATION\n",
      "Fetched isochrone for interval 40M, MRT: DOVER MRT STATION\n",
      "Fetched isochrone for interval 40M, MRT: HOUGANG MRT STATION\n",
      "Fetched isochrone for interval 40M, MRT: PHOENIX LRT STATION\n",
      "Fetched isochrone for interval 40M, MRT: ALJUNIED MRT STATION\n",
      "Fetched isochrone for interval 40M, MRT: COVE LRT STATION\n",
      "Fetched isochrone for interval 40M, MRT: PASIR RIS MRT STATION\n",
      "Fetched isochrone for interval 40M, MRT: ADMIRALTY MRT STATION\n",
      "Fetched isochrone for interval 40M, MRT: KEMBANGAN MRT STATION\n",
      "Fetched isochrone for interval 40M, MRT: PUNGGOL POINT LRT STATION\n",
      "Fetched isochrone for interval 40M, MRT: MARSILING MRT STATION\n",
      "Fetched isochrone for interval 40M, MRT: COMPASSVALE LRT STATION\n",
      "Fetched isochrone for interval 40M, MRT: KHATIB MRT STATION\n",
      "Fetched isochrone for interval 40M, MRT: LAYAR LRT STATION\n",
      "Fetched isochrone for interval 40M, MRT: TAMPINES WEST MRT STATION\n",
      "Fetched isochrone for interval 40M, MRT: TAMPINES MRT STATION\n",
      "Fetched isochrone for interval 40M, MRT: TAMPINES EAST MRT STATION\n",
      "Fetched isochrone for interval 40M, MRT: TAI SENG MRT STATION\n",
      "Fetched isochrone for interval 40M, MRT: SUMANG LRT STATION\n",
      "Fetched isochrone for interval 40M, MRT: STEVENS MRT STATION\n",
      "Fetched isochrone for interval 40M, MRT: STADIUM MRT STATION\n",
      "Fetched isochrone for interval 40M, MRT: SIXTH AVENUE MRT STATION\n",
      "Fetched isochrone for interval 40M, MRT: SOUTH VIEW LRT STATION\n",
      "Fetched isochrone for interval 40M, MRT: SOO TECK LRT STATION\n",
      "Fetched isochrone for interval 40M, MRT: SOMERSET MRT STATION\n",
      "Fetched isochrone for interval 40M, MRT: SIMEI MRT STATION\n",
      "Fetched isochrone for interval 40M, MRT: SERANGOON MRT STATION\n",
      "Fetched isochrone for interval 40M, MRT: SENGKANG MRT STATION\n",
      "Fetched isochrone for interval 40M, MRT: BRADDELL MRT STATION\n",
      "Fetched isochrone for interval 40M, MRT: NOVENA MRT STATION\n",
      "Fetched isochrone for interval 40M, MRT: FARRER PARK MRT STATION\n",
      "Fetched isochrone for interval 40M, MRT: BEDOK MRT STATION\n",
      "Fetched isochrone for interval 40M, MRT: REDHILL MRT STATION\n",
      "Fetched isochrone for interval 40M, MRT: CHANGI AIRPORT MRT STATION\n",
      "Fetched isochrone for interval 40M, MRT: CORAL EDGE LRT STATION\n",
      "Fetched isochrone for interval 40M, MRT: CLEMENTI MRT STATION\n",
      "Fetched isochrone for interval 40M, MRT: BUKIT BATOK MRT STATION\n",
      "Fetched isochrone for interval 40M, MRT: OASIS LRT STATION\n",
      "Fetched isochrone for interval 40M, MRT: NIBONG LRT STATION\n",
      "Fetched isochrone for interval 40M, MRT: MERIDIAN LRT STATION\n",
      "Fetched isochrone for interval 40M, MRT: BUKIT GOMBAK MRT STATION\n",
      "Fetched isochrone for interval 40M, MRT: EUNOS MRT STATION\n",
      "Fetched isochrone for interval 40M, MRT: CHINESE GARDEN MRT STATION\n",
      "Fetched isochrone for interval 40M, MRT: KADALOOR LRT STATION\n",
      "Fetched isochrone for interval 40M, MRT: CHENG LIM LRT STATION\n",
      "Fetched isochrone for interval 40M, MRT: SAM KEE LRT STATION\n",
      "Fetched isochrone for interval 40M, MRT: KRANJI MRT STATION\n",
      "Fetched isochrone for interval 40M, MRT: ANG MO KIO MRT STATION\n",
      "Fetched isochrone for interval 40M, MRT: RIVIERA LRT STATION\n",
      "Fetched isochrone for interval 40M, MRT: BANGKIT LRT STATION\n",
      "Fetched isochrone for interval 40M, MRT: PASIR PANJANG MRT STATION\n",
      "Fetched isochrone for interval 40M, MRT: HOLLAND VILLAGE MRT STATION\n",
      "Fetched isochrone for interval 40M, MRT: LABRADOR PARK MRT STATION\n",
      "Fetched isochrone for interval 40M, MRT: BOTANIC GARDENS MRT STATION\n",
      "Fetched isochrone for interval 40M, MRT: ONE-NORTH MRT STATION\n",
      "Fetched isochrone for interval 40M, MRT: KENT RIDGE MRT STATION\n",
      "Fetched isochrone for interval 40M, MRT: HAW PAR VILLA MRT STATION\n",
      "Fetched isochrone for interval 40M, MRT: MARINA BAY MRT STATION\n",
      "Fetched isochrone for interval 40M, MRT: KING ALBERT PARK MRT STATION\n",
      "Fetched isochrone for interval 40M, MRT: LITTLE INDIA MRT STATION\n",
      "Fetched isochrone for interval 40M, MRT: ROCHOR MRT STATION\n",
      "Fetched isochrone for interval 40M, MRT: SENJA LRT STATION\n",
      "Fetched isochrone for interval 40M, MRT: MOUNTBATTEN MRT STATION\n",
      "Fetched isochrone for interval 40M, MRT: CHOA CHU KANG MRT STATION\n",
      "Fetched isochrone for interval 40M, MRT: BOON KENG MRT STATION\n",
      "Fetched isochrone for interval 40M, MRT: BARTLEY MRT STATION\n",
      "Fetched isochrone for interval 40M, MRT: SEGAR LRT STATION\n",
      "Fetched isochrone for interval 40M, MRT: HILLVIEW MRT STATION\n",
      "Fetched isochrone for interval 40M, MRT: BEAUTY WORLD MRT STATION\n",
      "Fetched isochrone for interval 40M, MRT: BUKIT PANJANG MRT STATION\n",
      "Fetched isochrone for interval 40M, MRT: CASHEW MRT STATION\n",
      "Fetched isochrone for interval 40M, MRT: JOO KOON MRT STATION\n",
      "Fetched isochrone for interval 40M, MRT: YEW TEE MRT STATION\n",
      "Fetched isochrone for interval 40M, MRT: YISHUN MRT STATION\n",
      "Fetched isochrone for interval 40M, MRT: YIO CHU KANG MRT STATION\n",
      "Fetched isochrone for interval 40M, MRT: WOODLEIGH MRT STATION\n",
      "Fetched isochrone for interval 40M, MRT: WOODLANDS MRT STATION\n",
      "Fetched isochrone for interval 40M, MRT: UPPER CHANGI MRT STATION\n",
      "Fetched isochrone for interval 40M, MRT: TELOK AYER MRT STATION\n",
      "Fetched isochrone for interval 40M, MRT: TONGKANG LRT STATION\n",
      "Fetched isochrone for interval 40M, MRT: UBI MRT STATION\n",
      "Fetched isochrone for interval 40M, MRT: TOA PAYOH MRT STATION\n",
      "Fetched isochrone for interval 40M, MRT: TIONG BAHRU MRT STATION\n",
      "Fetched isochrone for interval 40M, MRT: THANGGAM LRT STATION\n",
      "Fetched isochrone for interval 40M, MRT: PROMENADE MRT STATION\n",
      "Fetched isochrone for interval 40M, MRT: BRAS BASAH MRT STATION\n",
      "Fetched isochrone for interval 40M, MRT: NICOLL HIGHWAY MRT STATION\n",
      "Fetched isochrone for interval 40M, MRT: POTONG PASIR MRT STATION\n",
      "Fetched isochrone for interval 40M, MRT: LAKESIDE MRT STATION\n",
      "Fetched isochrone for interval 40M, MRT: SAMUDERA LRT STATION\n",
      "Fetched isochrone for interval 40M, MRT: RANGGUNG LRT STATION\n",
      "Fetched isochrone for interval 40M, MRT: SEMBAWANG MRT STATION\n",
      "Fetched isochrone for interval 40M, MRT: PUNGGOL LRT STATION\n",
      "Fetched isochrone for interval 40M, MRT: KANGKAR LRT STATION\n",
      "Fetched isochrone for interval 40M, MRT: PIONEER MRT STATION\n",
      "Fetched isochrone for interval 40M, MRT: BUGIS MRT STATION\n",
      "Fetched isochrone for interval 40M, MRT: NEWTON MRT STATION\n",
      "Fetched isochrone for interval 40M, MRT: BUONA VISTA MRT STATION\n",
      "Fetched isochrone for interval 40M, MRT: OUTRAM PARK MRT STATION\n",
      "Fetched isochrone for interval 40M, MRT: CHINATOWN MRT STATION\n",
      "Fetched isochrone for interval 40M, MRT: EXPO MRT STATION\n",
      "Fetched isochrone for interval 40M, MRT: RAFFLES PLACE MRT STATION\n",
      "Fetched isochrone for interval 40M, MRT: TUAS CRESCENT MRT STATION\n",
      "Fetched isochrone for interval 40M, MRT: TUAS LINK MRT STATION\n",
      "Fetched isochrone for interval 40M, MRT: TUAS WEST ROAD MRT STATION\n",
      "Fetched isochrone for interval 40M, MRT: CITY HALL MRT STATION\n",
      "Fetched isochrone for interval 40M, MRT: BISHAN MRT STATION\n",
      "Fetched isochrone for interval 40M, MRT: FERNVALE LRT STATION\n",
      "Fetched isochrone for interval 40M, MRT: PUNGGOL MRT STATION\n",
      "Fetched isochrone for interval 40M, MRT: BUANGKOK MRT STATION\n",
      "Fetched isochrone for interval 40M, MRT: BAKAU LRT STATION\n",
      "Fetched isochrone for interval 40M, MRT: FARMWAY LRT STATION\n",
      "Fetched isochrone for interval 40M, MRT: COMMONWEALTH MRT STATION\n",
      "Fetched isochrone for interval 40M, MRT: KUPANG LRT STATION\n",
      "Fetched isochrone for interval 40M, MRT: DAMAI LRT STATION\n",
      "Fetched isochrone for interval 40M, MRT: QUEENSTOWN MRT STATION\n",
      "Fetched isochrone for interval 40M, MRT: KALLANG MRT STATION\n",
      "Fetched isochrone for interval 40M, MRT: RUMBIA LRT STATION\n",
      "Fetched isochrone for interval 40M, MRT: PETIR LRT STATION\n",
      "Fetched isochrone for interval 40M, MRT: BOON LAY MRT STATION\n",
      "Fetched isochrone for interval 40M, MRT: KEAT HONG LRT STATION\n",
      "Fetched isochrone for interval 40M, MRT: JELAPANG LRT STATION\n",
      "Fetched isochrone for interval 40M, MRT: CHOA CHU KANG LRT STATION\n",
      "Fetched isochrone for interval 40M, MRT: SENGKANG LRT STATION\n",
      "Fetched isochrone for interval 40M, MRT: HARBOURFRONT MRT STATION\n",
      "Fetched isochrone for interval 40M, MRT: PENDING LRT STATION\n",
      "Fetched isochrone for interval 40M, MRT: CLARKE QUAY MRT STATION\n",
      "Fetched isochrone for interval 40M, MRT: BUKIT PANJANG LRT STATION\n",
      "Fetched isochrone for interval 40M, MRT: FAJAR LRT STATION\n",
      "Fetched isochrone for interval 40M, MRT: KOVAN MRT STATION\n",
      "Fetched isochrone for interval 40M, MRT: LORONG CHUAN MRT STATION\n",
      "Fetched isochrone for interval 40M, MRT: MARYMOUNT MRT STATION\n",
      "Fetched isochrone for interval 40M, MRT: CALDECOTT MRT STATION\n",
      "Fetched isochrone for interval 40M, MRT: DOWNTOWN MRT STATION\n",
      "Fetched isochrone for interval 40M, MRT: GEYLANG BAHRU MRT STATION\n",
      "Fetched isochrone for interval 40M, MRT: BENDEMEER MRT STATION\n",
      "Fetched isochrone for interval 40M, MRT: BENCOOLEN MRT STATION\n",
      "Fetched isochrone for interval 40M, MRT: FORT CANNING MRT STATION\n",
      "Fetched isochrone for interval 40M, MRT: KAKI BUKIT MRT STATION\n",
      "Fetched isochrone for interval 40M, MRT: JALAN BESAR MRT STATION\n",
      "Fetched isochrone for interval 40M, MRT: MATTAR MRT STATION\n",
      "Fetched isochrone for interval 40M, MRT: MACPHERSON MRT STATION\n",
      "Fetched isochrone for interval 40M, MRT: BAYFRONT MRT STATION\n",
      "Fetched isochrone for interval 40M, MRT: FARRER ROAD MRT STATION\n",
      "Fetched isochrone for interval 40M, MRT: JURONG EAST MRT STATION\n",
      "Fetched isochrone for interval 40M, MRT: BEDOK NORTH MRT STATION\n",
      "Fetched isochrone for interval 40M, MRT: BEDOK RESERVOIR MRT STATION\n",
      "Fetched isochrone for interval 40M, MRT: ORCHARD MRT STATION\n",
      "Fetched isochrone for interval 40M, MRT: LENTOR MRT STATION\n",
      "Fetched isochrone for interval 40M, MRT: BRIGHT HILL MRT STATION\n",
      "Fetched isochrone for interval 40M, MRT: SPRINGLEAF MRT STATION\n",
      "Fetched isochrone for interval 40M, MRT: MARINA SOUTH PIER MRT STATION\n",
      "Fetched isochrone for interval 40M, MRT: CANBERRA MRT STATION\n",
      "Fetched isochrone for interval 40M, MRT: WOODLANDS SOUTH MRT STATION\n",
      "Fetched isochrone for interval 40M, MRT: WOODLANDS NORTH MRT STATION\n",
      "Fetched isochrone for interval 40M, MRT: GUL CIRCLE MRT STATION\n",
      "Fetched isochrone for interval 40M, MRT: HAVELOCK MRT STATION\n",
      "Fetched isochrone for interval 40M, MRT: NAPIER MRT STATION\n",
      "Fetched isochrone for interval 40M, MRT: SHENTON WAY MRT STATION\n",
      "Fetched isochrone for interval 40M, MRT: GARDENS BY THE BAY MRT STATION\n",
      "Fetched isochrone for interval 40M, MRT: GREAT WORLD MRT STATION\n",
      "Fetched isochrone for interval 40M, MRT: MAXWELL MRT STATION\n",
      "Fetched isochrone for interval 40M, MRT: ORCHARD BOULEVARD MRT STATION\n",
      "Fetched isochrone for interval 40M, MRT: TELOK BLANGAH MRT STATION\n",
      "Fetched isochrone for interval 40M, MRT: TECK WHYE LRT STATION\n",
      "Fetched isochrone for interval 40M, MRT: TANJONG PAGAR MRT STATION\n",
      "Fetched isochrone for interval 40M, MRT: TANAH MERAH MRT STATION\n",
      "Fetched isochrone for interval 40M, MRT: TAN KAH KEE MRT STATION\n",
      "Fetched isochrone for interval 40M, MRT: UPPER THOMSON MRT STATION\n",
      "Fetched isochrone for interval 40M, MRT: MAYFLOWER MRT STATION\n",
      "Fetched isochrone for interval 45M, MRT: ESPLANADE MRT STATION\n",
      "Fetched isochrone for interval 45M, MRT: PAYA LEBAR MRT STATION\n",
      "Fetched isochrone for interval 45M, MRT: DHOBY GHAUT MRT STATION\n",
      "Fetched isochrone for interval 45M, MRT: DAKOTA MRT STATION\n",
      "Fetched isochrone for interval 45M, MRT: LAVENDER MRT STATION\n",
      "Fetched isochrone for interval 45M, MRT: RENJONG LRT STATION\n",
      "Fetched isochrone for interval 45M, MRT: DOVER MRT STATION\n",
      "Fetched isochrone for interval 45M, MRT: HOUGANG MRT STATION\n",
      "Fetched isochrone for interval 45M, MRT: PHOENIX LRT STATION\n",
      "Fetched isochrone for interval 45M, MRT: ALJUNIED MRT STATION\n",
      "Fetched isochrone for interval 45M, MRT: COVE LRT STATION\n",
      "Fetched isochrone for interval 45M, MRT: PASIR RIS MRT STATION\n",
      "Fetched isochrone for interval 45M, MRT: ADMIRALTY MRT STATION\n",
      "Fetched isochrone for interval 45M, MRT: KEMBANGAN MRT STATION\n",
      "Fetched isochrone for interval 45M, MRT: PUNGGOL POINT LRT STATION\n",
      "Fetched isochrone for interval 45M, MRT: MARSILING MRT STATION\n",
      "Fetched isochrone for interval 45M, MRT: COMPASSVALE LRT STATION\n",
      "Fetched isochrone for interval 45M, MRT: KHATIB MRT STATION\n",
      "Fetched isochrone for interval 45M, MRT: LAYAR LRT STATION\n",
      "Fetched isochrone for interval 45M, MRT: TAMPINES WEST MRT STATION\n",
      "Fetched isochrone for interval 45M, MRT: TAMPINES MRT STATION\n",
      "Fetched isochrone for interval 45M, MRT: TAMPINES EAST MRT STATION\n",
      "Fetched isochrone for interval 45M, MRT: TAI SENG MRT STATION\n",
      "Fetched isochrone for interval 45M, MRT: SUMANG LRT STATION\n",
      "Fetched isochrone for interval 45M, MRT: STEVENS MRT STATION\n",
      "Fetched isochrone for interval 45M, MRT: STADIUM MRT STATION\n",
      "Fetched isochrone for interval 45M, MRT: SIXTH AVENUE MRT STATION\n",
      "Fetched isochrone for interval 45M, MRT: SOUTH VIEW LRT STATION\n",
      "Fetched isochrone for interval 45M, MRT: SOO TECK LRT STATION\n",
      "Fetched isochrone for interval 45M, MRT: SOMERSET MRT STATION\n",
      "Fetched isochrone for interval 45M, MRT: SIMEI MRT STATION\n",
      "Fetched isochrone for interval 45M, MRT: SERANGOON MRT STATION\n",
      "Fetched isochrone for interval 45M, MRT: SENGKANG MRT STATION\n",
      "Fetched isochrone for interval 45M, MRT: BRADDELL MRT STATION\n",
      "Fetched isochrone for interval 45M, MRT: NOVENA MRT STATION\n",
      "Fetched isochrone for interval 45M, MRT: FARRER PARK MRT STATION\n",
      "Fetched isochrone for interval 45M, MRT: BEDOK MRT STATION\n",
      "Fetched isochrone for interval 45M, MRT: REDHILL MRT STATION\n",
      "Fetched isochrone for interval 45M, MRT: CHANGI AIRPORT MRT STATION\n",
      "Fetched isochrone for interval 45M, MRT: CORAL EDGE LRT STATION\n",
      "Fetched isochrone for interval 45M, MRT: CLEMENTI MRT STATION\n",
      "Fetched isochrone for interval 45M, MRT: BUKIT BATOK MRT STATION\n",
      "Fetched isochrone for interval 45M, MRT: OASIS LRT STATION\n",
      "Fetched isochrone for interval 45M, MRT: NIBONG LRT STATION\n",
      "Fetched isochrone for interval 45M, MRT: MERIDIAN LRT STATION\n",
      "Fetched isochrone for interval 45M, MRT: BUKIT GOMBAK MRT STATION\n",
      "Fetched isochrone for interval 45M, MRT: EUNOS MRT STATION\n",
      "Fetched isochrone for interval 45M, MRT: CHINESE GARDEN MRT STATION\n",
      "Fetched isochrone for interval 45M, MRT: KADALOOR LRT STATION\n",
      "Fetched isochrone for interval 45M, MRT: CHENG LIM LRT STATION\n",
      "Fetched isochrone for interval 45M, MRT: SAM KEE LRT STATION\n",
      "Fetched isochrone for interval 45M, MRT: KRANJI MRT STATION\n",
      "Fetched isochrone for interval 45M, MRT: ANG MO KIO MRT STATION\n",
      "Fetched isochrone for interval 45M, MRT: RIVIERA LRT STATION\n",
      "Fetched isochrone for interval 45M, MRT: BANGKIT LRT STATION\n",
      "Fetched isochrone for interval 45M, MRT: PASIR PANJANG MRT STATION\n",
      "Fetched isochrone for interval 45M, MRT: HOLLAND VILLAGE MRT STATION\n",
      "Fetched isochrone for interval 45M, MRT: LABRADOR PARK MRT STATION\n",
      "Fetched isochrone for interval 45M, MRT: BOTANIC GARDENS MRT STATION\n",
      "Fetched isochrone for interval 45M, MRT: ONE-NORTH MRT STATION\n",
      "Fetched isochrone for interval 45M, MRT: KENT RIDGE MRT STATION\n",
      "Fetched isochrone for interval 45M, MRT: HAW PAR VILLA MRT STATION\n",
      "Fetched isochrone for interval 45M, MRT: MARINA BAY MRT STATION\n",
      "Fetched isochrone for interval 45M, MRT: KING ALBERT PARK MRT STATION\n",
      "Fetched isochrone for interval 45M, MRT: LITTLE INDIA MRT STATION\n",
      "Fetched isochrone for interval 45M, MRT: ROCHOR MRT STATION\n",
      "Fetched isochrone for interval 45M, MRT: SENJA LRT STATION\n",
      "Fetched isochrone for interval 45M, MRT: MOUNTBATTEN MRT STATION\n",
      "Fetched isochrone for interval 45M, MRT: CHOA CHU KANG MRT STATION\n",
      "Fetched isochrone for interval 45M, MRT: BOON KENG MRT STATION\n",
      "Fetched isochrone for interval 45M, MRT: BARTLEY MRT STATION\n",
      "Fetched isochrone for interval 45M, MRT: SEGAR LRT STATION\n",
      "Fetched isochrone for interval 45M, MRT: HILLVIEW MRT STATION\n",
      "Fetched isochrone for interval 45M, MRT: BEAUTY WORLD MRT STATION\n",
      "Fetched isochrone for interval 45M, MRT: BUKIT PANJANG MRT STATION\n",
      "Fetched isochrone for interval 45M, MRT: CASHEW MRT STATION\n",
      "Fetched isochrone for interval 45M, MRT: JOO KOON MRT STATION\n",
      "Fetched isochrone for interval 45M, MRT: YEW TEE MRT STATION\n",
      "Fetched isochrone for interval 45M, MRT: YISHUN MRT STATION\n",
      "Fetched isochrone for interval 45M, MRT: YIO CHU KANG MRT STATION\n",
      "Fetched isochrone for interval 45M, MRT: WOODLEIGH MRT STATION\n",
      "Fetched isochrone for interval 45M, MRT: WOODLANDS MRT STATION\n",
      "Fetched isochrone for interval 45M, MRT: UPPER CHANGI MRT STATION\n",
      "Fetched isochrone for interval 45M, MRT: TELOK AYER MRT STATION\n",
      "Fetched isochrone for interval 45M, MRT: TONGKANG LRT STATION\n",
      "Fetched isochrone for interval 45M, MRT: UBI MRT STATION\n",
      "Fetched isochrone for interval 45M, MRT: TOA PAYOH MRT STATION\n",
      "Fetched isochrone for interval 45M, MRT: TIONG BAHRU MRT STATION\n",
      "Fetched isochrone for interval 45M, MRT: THANGGAM LRT STATION\n",
      "Fetched isochrone for interval 45M, MRT: PROMENADE MRT STATION\n",
      "Fetched isochrone for interval 45M, MRT: BRAS BASAH MRT STATION\n",
      "Fetched isochrone for interval 45M, MRT: NICOLL HIGHWAY MRT STATION\n",
      "Fetched isochrone for interval 45M, MRT: POTONG PASIR MRT STATION\n",
      "Fetched isochrone for interval 45M, MRT: LAKESIDE MRT STATION\n",
      "Fetched isochrone for interval 45M, MRT: SAMUDERA LRT STATION\n",
      "Fetched isochrone for interval 45M, MRT: RANGGUNG LRT STATION\n",
      "Fetched isochrone for interval 45M, MRT: SEMBAWANG MRT STATION\n",
      "Fetched isochrone for interval 45M, MRT: PUNGGOL LRT STATION\n",
      "Fetched isochrone for interval 45M, MRT: KANGKAR LRT STATION\n",
      "Fetched isochrone for interval 45M, MRT: PIONEER MRT STATION\n",
      "Fetched isochrone for interval 45M, MRT: BUGIS MRT STATION\n",
      "Fetched isochrone for interval 45M, MRT: NEWTON MRT STATION\n",
      "Fetched isochrone for interval 45M, MRT: BUONA VISTA MRT STATION\n",
      "Fetched isochrone for interval 45M, MRT: OUTRAM PARK MRT STATION\n",
      "Fetched isochrone for interval 45M, MRT: CHINATOWN MRT STATION\n",
      "Fetched isochrone for interval 45M, MRT: EXPO MRT STATION\n",
      "Fetched isochrone for interval 45M, MRT: RAFFLES PLACE MRT STATION\n",
      "Fetched isochrone for interval 45M, MRT: TUAS CRESCENT MRT STATION\n",
      "Fetched isochrone for interval 45M, MRT: TUAS LINK MRT STATION\n",
      "Fetched isochrone for interval 45M, MRT: TUAS WEST ROAD MRT STATION\n",
      "Fetched isochrone for interval 45M, MRT: CITY HALL MRT STATION\n",
      "Fetched isochrone for interval 45M, MRT: BISHAN MRT STATION\n",
      "Fetched isochrone for interval 45M, MRT: FERNVALE LRT STATION\n",
      "Fetched isochrone for interval 45M, MRT: PUNGGOL MRT STATION\n",
      "Fetched isochrone for interval 45M, MRT: BUANGKOK MRT STATION\n",
      "Fetched isochrone for interval 45M, MRT: BAKAU LRT STATION\n",
      "Fetched isochrone for interval 45M, MRT: FARMWAY LRT STATION\n",
      "Fetched isochrone for interval 45M, MRT: COMMONWEALTH MRT STATION\n",
      "Fetched isochrone for interval 45M, MRT: KUPANG LRT STATION\n",
      "Fetched isochrone for interval 45M, MRT: DAMAI LRT STATION\n",
      "Fetched isochrone for interval 45M, MRT: QUEENSTOWN MRT STATION\n",
      "Fetched isochrone for interval 45M, MRT: KALLANG MRT STATION\n",
      "Fetched isochrone for interval 45M, MRT: RUMBIA LRT STATION\n",
      "Fetched isochrone for interval 45M, MRT: PETIR LRT STATION\n",
      "Fetched isochrone for interval 45M, MRT: BOON LAY MRT STATION\n",
      "Fetched isochrone for interval 45M, MRT: KEAT HONG LRT STATION\n",
      "Fetched isochrone for interval 45M, MRT: JELAPANG LRT STATION\n",
      "Fetched isochrone for interval 45M, MRT: CHOA CHU KANG LRT STATION\n",
      "Fetched isochrone for interval 45M, MRT: SENGKANG LRT STATION\n",
      "Fetched isochrone for interval 45M, MRT: HARBOURFRONT MRT STATION\n",
      "Fetched isochrone for interval 45M, MRT: PENDING LRT STATION\n",
      "Fetched isochrone for interval 45M, MRT: CLARKE QUAY MRT STATION\n",
      "Fetched isochrone for interval 45M, MRT: BUKIT PANJANG LRT STATION\n",
      "Fetched isochrone for interval 45M, MRT: FAJAR LRT STATION\n",
      "Fetched isochrone for interval 45M, MRT: KOVAN MRT STATION\n",
      "Fetched isochrone for interval 45M, MRT: LORONG CHUAN MRT STATION\n",
      "Fetched isochrone for interval 45M, MRT: MARYMOUNT MRT STATION\n",
      "Fetched isochrone for interval 45M, MRT: CALDECOTT MRT STATION\n",
      "Fetched isochrone for interval 45M, MRT: DOWNTOWN MRT STATION\n",
      "Fetched isochrone for interval 45M, MRT: GEYLANG BAHRU MRT STATION\n",
      "Fetched isochrone for interval 45M, MRT: BENDEMEER MRT STATION\n",
      "Fetched isochrone for interval 45M, MRT: BENCOOLEN MRT STATION\n",
      "Fetched isochrone for interval 45M, MRT: FORT CANNING MRT STATION\n",
      "Fetched isochrone for interval 45M, MRT: KAKI BUKIT MRT STATION\n",
      "Fetched isochrone for interval 45M, MRT: JALAN BESAR MRT STATION\n",
      "Fetched isochrone for interval 45M, MRT: MATTAR MRT STATION\n",
      "Fetched isochrone for interval 45M, MRT: MACPHERSON MRT STATION\n",
      "Fetched isochrone for interval 45M, MRT: BAYFRONT MRT STATION\n",
      "Fetched isochrone for interval 45M, MRT: FARRER ROAD MRT STATION\n",
      "Fetched isochrone for interval 45M, MRT: JURONG EAST MRT STATION\n",
      "Fetched isochrone for interval 45M, MRT: BEDOK NORTH MRT STATION\n",
      "Fetched isochrone for interval 45M, MRT: BEDOK RESERVOIR MRT STATION\n",
      "Fetched isochrone for interval 45M, MRT: ORCHARD MRT STATION\n",
      "Fetched isochrone for interval 45M, MRT: LENTOR MRT STATION\n",
      "Fetched isochrone for interval 45M, MRT: BRIGHT HILL MRT STATION\n",
      "Fetched isochrone for interval 45M, MRT: SPRINGLEAF MRT STATION\n",
      "Fetched isochrone for interval 45M, MRT: MARINA SOUTH PIER MRT STATION\n",
      "Fetched isochrone for interval 45M, MRT: CANBERRA MRT STATION\n",
      "Fetched isochrone for interval 45M, MRT: WOODLANDS SOUTH MRT STATION\n",
      "Fetched isochrone for interval 45M, MRT: WOODLANDS NORTH MRT STATION\n",
      "Fetched isochrone for interval 45M, MRT: GUL CIRCLE MRT STATION\n",
      "Fetched isochrone for interval 45M, MRT: HAVELOCK MRT STATION\n",
      "Fetched isochrone for interval 45M, MRT: NAPIER MRT STATION\n",
      "Fetched isochrone for interval 45M, MRT: SHENTON WAY MRT STATION\n",
      "Fetched isochrone for interval 45M, MRT: GARDENS BY THE BAY MRT STATION\n",
      "Fetched isochrone for interval 45M, MRT: GREAT WORLD MRT STATION\n",
      "Fetched isochrone for interval 45M, MRT: MAXWELL MRT STATION\n",
      "Fetched isochrone for interval 45M, MRT: ORCHARD BOULEVARD MRT STATION\n",
      "Fetched isochrone for interval 45M, MRT: TELOK BLANGAH MRT STATION\n",
      "Fetched isochrone for interval 45M, MRT: TECK WHYE LRT STATION\n",
      "Fetched isochrone for interval 45M, MRT: TANJONG PAGAR MRT STATION\n",
      "Fetched isochrone for interval 45M, MRT: TANAH MERAH MRT STATION\n",
      "Fetched isochrone for interval 45M, MRT: TAN KAH KEE MRT STATION\n",
      "Fetched isochrone for interval 45M, MRT: UPPER THOMSON MRT STATION\n",
      "Fetched isochrone for interval 45M, MRT: MAYFLOWER MRT STATION\n",
      "Fetched isochrone for interval 50M, MRT: ESPLANADE MRT STATION\n",
      "Fetched isochrone for interval 50M, MRT: PAYA LEBAR MRT STATION\n",
      "Fetched isochrone for interval 50M, MRT: DHOBY GHAUT MRT STATION\n",
      "Fetched isochrone for interval 50M, MRT: DAKOTA MRT STATION\n",
      "Fetched isochrone for interval 50M, MRT: LAVENDER MRT STATION\n",
      "Fetched isochrone for interval 50M, MRT: RENJONG LRT STATION\n",
      "Fetched isochrone for interval 50M, MRT: DOVER MRT STATION\n",
      "Fetched isochrone for interval 50M, MRT: HOUGANG MRT STATION\n",
      "Fetched isochrone for interval 50M, MRT: PHOENIX LRT STATION\n",
      "Fetched isochrone for interval 50M, MRT: ALJUNIED MRT STATION\n",
      "Fetched isochrone for interval 50M, MRT: COVE LRT STATION\n",
      "Fetched isochrone for interval 50M, MRT: PASIR RIS MRT STATION\n",
      "Fetched isochrone for interval 50M, MRT: ADMIRALTY MRT STATION\n",
      "Fetched isochrone for interval 50M, MRT: KEMBANGAN MRT STATION\n",
      "Fetched isochrone for interval 50M, MRT: PUNGGOL POINT LRT STATION\n",
      "Fetched isochrone for interval 50M, MRT: MARSILING MRT STATION\n",
      "Fetched isochrone for interval 50M, MRT: COMPASSVALE LRT STATION\n",
      "Fetched isochrone for interval 50M, MRT: KHATIB MRT STATION\n",
      "Fetched isochrone for interval 50M, MRT: LAYAR LRT STATION\n",
      "Fetched isochrone for interval 50M, MRT: TAMPINES WEST MRT STATION\n",
      "Fetched isochrone for interval 50M, MRT: TAMPINES MRT STATION\n",
      "Fetched isochrone for interval 50M, MRT: TAMPINES EAST MRT STATION\n",
      "Fetched isochrone for interval 50M, MRT: TAI SENG MRT STATION\n",
      "Fetched isochrone for interval 50M, MRT: SUMANG LRT STATION\n",
      "Fetched isochrone for interval 50M, MRT: STEVENS MRT STATION\n",
      "Fetched isochrone for interval 50M, MRT: STADIUM MRT STATION\n",
      "Fetched isochrone for interval 50M, MRT: SIXTH AVENUE MRT STATION\n",
      "Fetched isochrone for interval 50M, MRT: SOUTH VIEW LRT STATION\n",
      "Fetched isochrone for interval 50M, MRT: SOO TECK LRT STATION\n",
      "Fetched isochrone for interval 50M, MRT: SOMERSET MRT STATION\n",
      "Fetched isochrone for interval 50M, MRT: SIMEI MRT STATION\n",
      "Fetched isochrone for interval 50M, MRT: SERANGOON MRT STATION\n",
      "Fetched isochrone for interval 50M, MRT: SENGKANG MRT STATION\n",
      "Fetched isochrone for interval 50M, MRT: BRADDELL MRT STATION\n",
      "Fetched isochrone for interval 50M, MRT: NOVENA MRT STATION\n",
      "Fetched isochrone for interval 50M, MRT: FARRER PARK MRT STATION\n",
      "Fetched isochrone for interval 50M, MRT: BEDOK MRT STATION\n",
      "Fetched isochrone for interval 50M, MRT: REDHILL MRT STATION\n",
      "Fetched isochrone for interval 50M, MRT: CHANGI AIRPORT MRT STATION\n",
      "Fetched isochrone for interval 50M, MRT: CORAL EDGE LRT STATION\n",
      "Fetched isochrone for interval 50M, MRT: CLEMENTI MRT STATION\n",
      "Fetched isochrone for interval 50M, MRT: BUKIT BATOK MRT STATION\n",
      "Fetched isochrone for interval 50M, MRT: OASIS LRT STATION\n",
      "Fetched isochrone for interval 50M, MRT: NIBONG LRT STATION\n",
      "Fetched isochrone for interval 50M, MRT: MERIDIAN LRT STATION\n",
      "Fetched isochrone for interval 50M, MRT: BUKIT GOMBAK MRT STATION\n",
      "Fetched isochrone for interval 50M, MRT: EUNOS MRT STATION\n",
      "Fetched isochrone for interval 50M, MRT: CHINESE GARDEN MRT STATION\n",
      "Fetched isochrone for interval 50M, MRT: KADALOOR LRT STATION\n",
      "Fetched isochrone for interval 50M, MRT: CHENG LIM LRT STATION\n",
      "Fetched isochrone for interval 50M, MRT: SAM KEE LRT STATION\n",
      "Fetched isochrone for interval 50M, MRT: KRANJI MRT STATION\n",
      "Fetched isochrone for interval 50M, MRT: ANG MO KIO MRT STATION\n",
      "Fetched isochrone for interval 50M, MRT: RIVIERA LRT STATION\n",
      "Fetched isochrone for interval 50M, MRT: BANGKIT LRT STATION\n",
      "Fetched isochrone for interval 50M, MRT: PASIR PANJANG MRT STATION\n",
      "Fetched isochrone for interval 50M, MRT: HOLLAND VILLAGE MRT STATION\n",
      "Fetched isochrone for interval 50M, MRT: LABRADOR PARK MRT STATION\n",
      "Fetched isochrone for interval 50M, MRT: BOTANIC GARDENS MRT STATION\n",
      "Fetched isochrone for interval 50M, MRT: ONE-NORTH MRT STATION\n",
      "Fetched isochrone for interval 50M, MRT: KENT RIDGE MRT STATION\n",
      "Fetched isochrone for interval 50M, MRT: HAW PAR VILLA MRT STATION\n",
      "Fetched isochrone for interval 50M, MRT: MARINA BAY MRT STATION\n",
      "Fetched isochrone for interval 50M, MRT: KING ALBERT PARK MRT STATION\n",
      "Fetched isochrone for interval 50M, MRT: LITTLE INDIA MRT STATION\n",
      "Fetched isochrone for interval 50M, MRT: ROCHOR MRT STATION\n",
      "Fetched isochrone for interval 50M, MRT: SENJA LRT STATION\n",
      "Fetched isochrone for interval 50M, MRT: MOUNTBATTEN MRT STATION\n",
      "Fetched isochrone for interval 50M, MRT: CHOA CHU KANG MRT STATION\n",
      "Fetched isochrone for interval 50M, MRT: BOON KENG MRT STATION\n",
      "Fetched isochrone for interval 50M, MRT: BARTLEY MRT STATION\n",
      "Fetched isochrone for interval 50M, MRT: SEGAR LRT STATION\n",
      "Fetched isochrone for interval 50M, MRT: HILLVIEW MRT STATION\n",
      "Fetched isochrone for interval 50M, MRT: BEAUTY WORLD MRT STATION\n",
      "Fetched isochrone for interval 50M, MRT: BUKIT PANJANG MRT STATION\n",
      "Fetched isochrone for interval 50M, MRT: CASHEW MRT STATION\n",
      "Fetched isochrone for interval 50M, MRT: JOO KOON MRT STATION\n",
      "Fetched isochrone for interval 50M, MRT: YEW TEE MRT STATION\n",
      "Fetched isochrone for interval 50M, MRT: YISHUN MRT STATION\n",
      "Fetched isochrone for interval 50M, MRT: YIO CHU KANG MRT STATION\n",
      "Fetched isochrone for interval 50M, MRT: WOODLEIGH MRT STATION\n",
      "Fetched isochrone for interval 50M, MRT: WOODLANDS MRT STATION\n",
      "Fetched isochrone for interval 50M, MRT: UPPER CHANGI MRT STATION\n",
      "Fetched isochrone for interval 50M, MRT: TELOK AYER MRT STATION\n",
      "Fetched isochrone for interval 50M, MRT: TONGKANG LRT STATION\n",
      "Fetched isochrone for interval 50M, MRT: UBI MRT STATION\n",
      "Fetched isochrone for interval 50M, MRT: TOA PAYOH MRT STATION\n",
      "Fetched isochrone for interval 50M, MRT: TIONG BAHRU MRT STATION\n",
      "Fetched isochrone for interval 50M, MRT: THANGGAM LRT STATION\n",
      "Fetched isochrone for interval 50M, MRT: PROMENADE MRT STATION\n",
      "Fetched isochrone for interval 50M, MRT: BRAS BASAH MRT STATION\n",
      "Fetched isochrone for interval 50M, MRT: NICOLL HIGHWAY MRT STATION\n",
      "Fetched isochrone for interval 50M, MRT: POTONG PASIR MRT STATION\n",
      "Fetched isochrone for interval 50M, MRT: LAKESIDE MRT STATION\n",
      "Fetched isochrone for interval 50M, MRT: SAMUDERA LRT STATION\n",
      "Fetched isochrone for interval 50M, MRT: RANGGUNG LRT STATION\n",
      "Fetched isochrone for interval 50M, MRT: SEMBAWANG MRT STATION\n",
      "Fetched isochrone for interval 50M, MRT: PUNGGOL LRT STATION\n",
      "Fetched isochrone for interval 50M, MRT: KANGKAR LRT STATION\n",
      "Fetched isochrone for interval 50M, MRT: PIONEER MRT STATION\n",
      "Fetched isochrone for interval 50M, MRT: BUGIS MRT STATION\n",
      "Fetched isochrone for interval 50M, MRT: NEWTON MRT STATION\n",
      "Fetched isochrone for interval 50M, MRT: BUONA VISTA MRT STATION\n",
      "Fetched isochrone for interval 50M, MRT: OUTRAM PARK MRT STATION\n",
      "Fetched isochrone for interval 50M, MRT: CHINATOWN MRT STATION\n",
      "Fetched isochrone for interval 50M, MRT: EXPO MRT STATION\n",
      "Fetched isochrone for interval 50M, MRT: RAFFLES PLACE MRT STATION\n",
      "Fetched isochrone for interval 50M, MRT: TUAS CRESCENT MRT STATION\n",
      "Fetched isochrone for interval 50M, MRT: TUAS LINK MRT STATION\n",
      "Fetched isochrone for interval 50M, MRT: TUAS WEST ROAD MRT STATION\n",
      "Fetched isochrone for interval 50M, MRT: CITY HALL MRT STATION\n",
      "Fetched isochrone for interval 50M, MRT: BISHAN MRT STATION\n",
      "Fetched isochrone for interval 50M, MRT: FERNVALE LRT STATION\n",
      "Fetched isochrone for interval 50M, MRT: PUNGGOL MRT STATION\n",
      "Fetched isochrone for interval 50M, MRT: BUANGKOK MRT STATION\n",
      "Fetched isochrone for interval 50M, MRT: BAKAU LRT STATION\n",
      "Fetched isochrone for interval 50M, MRT: FARMWAY LRT STATION\n",
      "Fetched isochrone for interval 50M, MRT: COMMONWEALTH MRT STATION\n",
      "Fetched isochrone for interval 50M, MRT: KUPANG LRT STATION\n",
      "Fetched isochrone for interval 50M, MRT: DAMAI LRT STATION\n",
      "Fetched isochrone for interval 50M, MRT: QUEENSTOWN MRT STATION\n",
      "Fetched isochrone for interval 50M, MRT: KALLANG MRT STATION\n",
      "Fetched isochrone for interval 50M, MRT: RUMBIA LRT STATION\n",
      "Fetched isochrone for interval 50M, MRT: PETIR LRT STATION\n",
      "Fetched isochrone for interval 50M, MRT: BOON LAY MRT STATION\n",
      "Fetched isochrone for interval 50M, MRT: KEAT HONG LRT STATION\n",
      "Fetched isochrone for interval 50M, MRT: JELAPANG LRT STATION\n",
      "Fetched isochrone for interval 50M, MRT: CHOA CHU KANG LRT STATION\n",
      "Fetched isochrone for interval 50M, MRT: SENGKANG LRT STATION\n",
      "Fetched isochrone for interval 50M, MRT: HARBOURFRONT MRT STATION\n",
      "Fetched isochrone for interval 50M, MRT: PENDING LRT STATION\n",
      "Fetched isochrone for interval 50M, MRT: CLARKE QUAY MRT STATION\n",
      "Fetched isochrone for interval 50M, MRT: BUKIT PANJANG LRT STATION\n",
      "Fetched isochrone for interval 50M, MRT: FAJAR LRT STATION\n",
      "Fetched isochrone for interval 50M, MRT: KOVAN MRT STATION\n",
      "Fetched isochrone for interval 50M, MRT: LORONG CHUAN MRT STATION\n",
      "Fetched isochrone for interval 50M, MRT: MARYMOUNT MRT STATION\n",
      "Fetched isochrone for interval 50M, MRT: CALDECOTT MRT STATION\n",
      "Fetched isochrone for interval 50M, MRT: DOWNTOWN MRT STATION\n",
      "Fetched isochrone for interval 50M, MRT: GEYLANG BAHRU MRT STATION\n",
      "Fetched isochrone for interval 50M, MRT: BENDEMEER MRT STATION\n",
      "Fetched isochrone for interval 50M, MRT: BENCOOLEN MRT STATION\n",
      "Fetched isochrone for interval 50M, MRT: FORT CANNING MRT STATION\n",
      "Fetched isochrone for interval 50M, MRT: KAKI BUKIT MRT STATION\n",
      "Fetched isochrone for interval 50M, MRT: JALAN BESAR MRT STATION\n",
      "Fetched isochrone for interval 50M, MRT: MATTAR MRT STATION\n",
      "Fetched isochrone for interval 50M, MRT: MACPHERSON MRT STATION\n",
      "Fetched isochrone for interval 50M, MRT: BAYFRONT MRT STATION\n",
      "Fetched isochrone for interval 50M, MRT: FARRER ROAD MRT STATION\n",
      "Fetched isochrone for interval 50M, MRT: JURONG EAST MRT STATION\n",
      "Fetched isochrone for interval 50M, MRT: BEDOK NORTH MRT STATION\n",
      "Fetched isochrone for interval 50M, MRT: BEDOK RESERVOIR MRT STATION\n",
      "Fetched isochrone for interval 50M, MRT: ORCHARD MRT STATION\n",
      "Fetched isochrone for interval 50M, MRT: LENTOR MRT STATION\n",
      "Fetched isochrone for interval 50M, MRT: BRIGHT HILL MRT STATION\n",
      "Fetched isochrone for interval 50M, MRT: SPRINGLEAF MRT STATION\n",
      "Fetched isochrone for interval 50M, MRT: MARINA SOUTH PIER MRT STATION\n",
      "Fetched isochrone for interval 50M, MRT: CANBERRA MRT STATION\n",
      "Fetched isochrone for interval 50M, MRT: WOODLANDS SOUTH MRT STATION\n",
      "Fetched isochrone for interval 50M, MRT: WOODLANDS NORTH MRT STATION\n",
      "Fetched isochrone for interval 50M, MRT: GUL CIRCLE MRT STATION\n",
      "Fetched isochrone for interval 50M, MRT: HAVELOCK MRT STATION\n",
      "Fetched isochrone for interval 50M, MRT: NAPIER MRT STATION\n",
      "Fetched isochrone for interval 50M, MRT: SHENTON WAY MRT STATION\n",
      "Fetched isochrone for interval 50M, MRT: GARDENS BY THE BAY MRT STATION\n",
      "Fetched isochrone for interval 50M, MRT: GREAT WORLD MRT STATION\n",
      "Fetched isochrone for interval 50M, MRT: MAXWELL MRT STATION\n",
      "Fetched isochrone for interval 50M, MRT: ORCHARD BOULEVARD MRT STATION\n",
      "Fetched isochrone for interval 50M, MRT: TELOK BLANGAH MRT STATION\n",
      "Fetched isochrone for interval 50M, MRT: TECK WHYE LRT STATION\n",
      "Fetched isochrone for interval 50M, MRT: TANJONG PAGAR MRT STATION\n",
      "Fetched isochrone for interval 50M, MRT: TANAH MERAH MRT STATION\n",
      "Fetched isochrone for interval 50M, MRT: TAN KAH KEE MRT STATION\n",
      "Fetched isochrone for interval 50M, MRT: UPPER THOMSON MRT STATION\n",
      "Fetched isochrone for interval 50M, MRT: MAYFLOWER MRT STATION\n",
      "Fetched isochrone for interval 55M, MRT: ESPLANADE MRT STATION\n",
      "Fetched isochrone for interval 55M, MRT: PAYA LEBAR MRT STATION\n",
      "Fetched isochrone for interval 55M, MRT: DHOBY GHAUT MRT STATION\n",
      "Fetched isochrone for interval 55M, MRT: DAKOTA MRT STATION\n",
      "Fetched isochrone for interval 55M, MRT: LAVENDER MRT STATION\n",
      "Fetched isochrone for interval 55M, MRT: RENJONG LRT STATION\n",
      "Fetched isochrone for interval 55M, MRT: DOVER MRT STATION\n",
      "Fetched isochrone for interval 55M, MRT: HOUGANG MRT STATION\n",
      "Fetched isochrone for interval 55M, MRT: PHOENIX LRT STATION\n",
      "Fetched isochrone for interval 55M, MRT: ALJUNIED MRT STATION\n",
      "Fetched isochrone for interval 55M, MRT: COVE LRT STATION\n",
      "Fetched isochrone for interval 55M, MRT: PASIR RIS MRT STATION\n",
      "Fetched isochrone for interval 55M, MRT: ADMIRALTY MRT STATION\n",
      "Fetched isochrone for interval 55M, MRT: KEMBANGAN MRT STATION\n",
      "Fetched isochrone for interval 55M, MRT: PUNGGOL POINT LRT STATION\n",
      "Fetched isochrone for interval 55M, MRT: MARSILING MRT STATION\n",
      "Fetched isochrone for interval 55M, MRT: COMPASSVALE LRT STATION\n",
      "Fetched isochrone for interval 55M, MRT: KHATIB MRT STATION\n",
      "Fetched isochrone for interval 55M, MRT: LAYAR LRT STATION\n",
      "Fetched isochrone for interval 55M, MRT: TAMPINES WEST MRT STATION\n",
      "Fetched isochrone for interval 55M, MRT: TAMPINES MRT STATION\n",
      "Fetched isochrone for interval 55M, MRT: TAMPINES EAST MRT STATION\n",
      "Fetched isochrone for interval 55M, MRT: TAI SENG MRT STATION\n",
      "Fetched isochrone for interval 55M, MRT: SUMANG LRT STATION\n",
      "Fetched isochrone for interval 55M, MRT: STEVENS MRT STATION\n",
      "Fetched isochrone for interval 55M, MRT: STADIUM MRT STATION\n",
      "Fetched isochrone for interval 55M, MRT: SIXTH AVENUE MRT STATION\n",
      "Fetched isochrone for interval 55M, MRT: SOUTH VIEW LRT STATION\n",
      "Fetched isochrone for interval 55M, MRT: SOO TECK LRT STATION\n",
      "Fetched isochrone for interval 55M, MRT: SOMERSET MRT STATION\n",
      "Fetched isochrone for interval 55M, MRT: SIMEI MRT STATION\n",
      "Fetched isochrone for interval 55M, MRT: SERANGOON MRT STATION\n",
      "Fetched isochrone for interval 55M, MRT: SENGKANG MRT STATION\n",
      "Fetched isochrone for interval 55M, MRT: BRADDELL MRT STATION\n",
      "Fetched isochrone for interval 55M, MRT: NOVENA MRT STATION\n",
      "Fetched isochrone for interval 55M, MRT: FARRER PARK MRT STATION\n",
      "Fetched isochrone for interval 55M, MRT: BEDOK MRT STATION\n",
      "Fetched isochrone for interval 55M, MRT: REDHILL MRT STATION\n",
      "Fetched isochrone for interval 55M, MRT: CHANGI AIRPORT MRT STATION\n",
      "Fetched isochrone for interval 55M, MRT: CORAL EDGE LRT STATION\n",
      "Fetched isochrone for interval 55M, MRT: CLEMENTI MRT STATION\n",
      "Fetched isochrone for interval 55M, MRT: BUKIT BATOK MRT STATION\n",
      "Fetched isochrone for interval 55M, MRT: OASIS LRT STATION\n",
      "Fetched isochrone for interval 55M, MRT: NIBONG LRT STATION\n",
      "Fetched isochrone for interval 55M, MRT: MERIDIAN LRT STATION\n",
      "Fetched isochrone for interval 55M, MRT: BUKIT GOMBAK MRT STATION\n",
      "Fetched isochrone for interval 55M, MRT: EUNOS MRT STATION\n",
      "Fetched isochrone for interval 55M, MRT: CHINESE GARDEN MRT STATION\n",
      "Fetched isochrone for interval 55M, MRT: KADALOOR LRT STATION\n",
      "Fetched isochrone for interval 55M, MRT: CHENG LIM LRT STATION\n",
      "Fetched isochrone for interval 55M, MRT: SAM KEE LRT STATION\n",
      "Fetched isochrone for interval 55M, MRT: KRANJI MRT STATION\n",
      "Fetched isochrone for interval 55M, MRT: ANG MO KIO MRT STATION\n",
      "Fetched isochrone for interval 55M, MRT: RIVIERA LRT STATION\n",
      "Fetched isochrone for interval 55M, MRT: BANGKIT LRT STATION\n",
      "Fetched isochrone for interval 55M, MRT: PASIR PANJANG MRT STATION\n",
      "Fetched isochrone for interval 55M, MRT: HOLLAND VILLAGE MRT STATION\n",
      "Fetched isochrone for interval 55M, MRT: LABRADOR PARK MRT STATION\n",
      "Fetched isochrone for interval 55M, MRT: BOTANIC GARDENS MRT STATION\n",
      "Fetched isochrone for interval 55M, MRT: ONE-NORTH MRT STATION\n",
      "Fetched isochrone for interval 55M, MRT: KENT RIDGE MRT STATION\n",
      "Fetched isochrone for interval 55M, MRT: HAW PAR VILLA MRT STATION\n",
      "Fetched isochrone for interval 55M, MRT: MARINA BAY MRT STATION\n",
      "Fetched isochrone for interval 55M, MRT: KING ALBERT PARK MRT STATION\n",
      "Fetched isochrone for interval 55M, MRT: LITTLE INDIA MRT STATION\n",
      "Fetched isochrone for interval 55M, MRT: ROCHOR MRT STATION\n",
      "Fetched isochrone for interval 55M, MRT: SENJA LRT STATION\n",
      "Fetched isochrone for interval 55M, MRT: MOUNTBATTEN MRT STATION\n",
      "Fetched isochrone for interval 55M, MRT: CHOA CHU KANG MRT STATION\n",
      "Fetched isochrone for interval 55M, MRT: BOON KENG MRT STATION\n",
      "Fetched isochrone for interval 55M, MRT: BARTLEY MRT STATION\n",
      "Fetched isochrone for interval 55M, MRT: SEGAR LRT STATION\n",
      "Fetched isochrone for interval 55M, MRT: HILLVIEW MRT STATION\n",
      "Fetched isochrone for interval 55M, MRT: BEAUTY WORLD MRT STATION\n",
      "Fetched isochrone for interval 55M, MRT: BUKIT PANJANG MRT STATION\n",
      "Fetched isochrone for interval 55M, MRT: CASHEW MRT STATION\n",
      "Fetched isochrone for interval 55M, MRT: JOO KOON MRT STATION\n",
      "Fetched isochrone for interval 55M, MRT: YEW TEE MRT STATION\n",
      "Fetched isochrone for interval 55M, MRT: YISHUN MRT STATION\n",
      "Fetched isochrone for interval 55M, MRT: YIO CHU KANG MRT STATION\n",
      "Fetched isochrone for interval 55M, MRT: WOODLEIGH MRT STATION\n",
      "Fetched isochrone for interval 55M, MRT: WOODLANDS MRT STATION\n",
      "Fetched isochrone for interval 55M, MRT: UPPER CHANGI MRT STATION\n",
      "Fetched isochrone for interval 55M, MRT: TELOK AYER MRT STATION\n",
      "Fetched isochrone for interval 55M, MRT: TONGKANG LRT STATION\n",
      "Fetched isochrone for interval 55M, MRT: UBI MRT STATION\n",
      "Fetched isochrone for interval 55M, MRT: TOA PAYOH MRT STATION\n",
      "Fetched isochrone for interval 55M, MRT: TIONG BAHRU MRT STATION\n",
      "Fetched isochrone for interval 55M, MRT: THANGGAM LRT STATION\n",
      "Fetched isochrone for interval 55M, MRT: PROMENADE MRT STATION\n",
      "Fetched isochrone for interval 55M, MRT: BRAS BASAH MRT STATION\n",
      "Fetched isochrone for interval 55M, MRT: NICOLL HIGHWAY MRT STATION\n",
      "Fetched isochrone for interval 55M, MRT: POTONG PASIR MRT STATION\n",
      "Fetched isochrone for interval 55M, MRT: LAKESIDE MRT STATION\n",
      "Fetched isochrone for interval 55M, MRT: SAMUDERA LRT STATION\n",
      "Fetched isochrone for interval 55M, MRT: RANGGUNG LRT STATION\n",
      "Fetched isochrone for interval 55M, MRT: SEMBAWANG MRT STATION\n",
      "Fetched isochrone for interval 55M, MRT: PUNGGOL LRT STATION\n",
      "Fetched isochrone for interval 55M, MRT: KANGKAR LRT STATION\n",
      "Fetched isochrone for interval 55M, MRT: PIONEER MRT STATION\n",
      "Fetched isochrone for interval 55M, MRT: BUGIS MRT STATION\n",
      "Fetched isochrone for interval 55M, MRT: NEWTON MRT STATION\n",
      "Fetched isochrone for interval 55M, MRT: BUONA VISTA MRT STATION\n",
      "Fetched isochrone for interval 55M, MRT: OUTRAM PARK MRT STATION\n",
      "Fetched isochrone for interval 55M, MRT: CHINATOWN MRT STATION\n",
      "Fetched isochrone for interval 55M, MRT: EXPO MRT STATION\n",
      "Fetched isochrone for interval 55M, MRT: RAFFLES PLACE MRT STATION\n",
      "Fetched isochrone for interval 55M, MRT: TUAS CRESCENT MRT STATION\n",
      "Fetched isochrone for interval 55M, MRT: TUAS LINK MRT STATION\n",
      "Fetched isochrone for interval 55M, MRT: TUAS WEST ROAD MRT STATION\n",
      "Fetched isochrone for interval 55M, MRT: CITY HALL MRT STATION\n",
      "Fetched isochrone for interval 55M, MRT: BISHAN MRT STATION\n",
      "Fetched isochrone for interval 55M, MRT: FERNVALE LRT STATION\n",
      "Fetched isochrone for interval 55M, MRT: PUNGGOL MRT STATION\n",
      "Fetched isochrone for interval 55M, MRT: BUANGKOK MRT STATION\n",
      "Fetched isochrone for interval 55M, MRT: BAKAU LRT STATION\n",
      "Fetched isochrone for interval 55M, MRT: FARMWAY LRT STATION\n",
      "Fetched isochrone for interval 55M, MRT: COMMONWEALTH MRT STATION\n",
      "Fetched isochrone for interval 55M, MRT: KUPANG LRT STATION\n",
      "Fetched isochrone for interval 55M, MRT: DAMAI LRT STATION\n",
      "Fetched isochrone for interval 55M, MRT: QUEENSTOWN MRT STATION\n",
      "Fetched isochrone for interval 55M, MRT: KALLANG MRT STATION\n",
      "Fetched isochrone for interval 55M, MRT: RUMBIA LRT STATION\n",
      "Fetched isochrone for interval 55M, MRT: PETIR LRT STATION\n",
      "Fetched isochrone for interval 55M, MRT: BOON LAY MRT STATION\n",
      "Fetched isochrone for interval 55M, MRT: KEAT HONG LRT STATION\n",
      "Fetched isochrone for interval 55M, MRT: JELAPANG LRT STATION\n",
      "Fetched isochrone for interval 55M, MRT: CHOA CHU KANG LRT STATION\n",
      "Fetched isochrone for interval 55M, MRT: SENGKANG LRT STATION\n",
      "Fetched isochrone for interval 55M, MRT: HARBOURFRONT MRT STATION\n",
      "Fetched isochrone for interval 55M, MRT: PENDING LRT STATION\n",
      "Fetched isochrone for interval 55M, MRT: CLARKE QUAY MRT STATION\n",
      "Fetched isochrone for interval 55M, MRT: BUKIT PANJANG LRT STATION\n",
      "Fetched isochrone for interval 55M, MRT: FAJAR LRT STATION\n",
      "Fetched isochrone for interval 55M, MRT: KOVAN MRT STATION\n",
      "Fetched isochrone for interval 55M, MRT: LORONG CHUAN MRT STATION\n",
      "Fetched isochrone for interval 55M, MRT: MARYMOUNT MRT STATION\n",
      "Fetched isochrone for interval 55M, MRT: CALDECOTT MRT STATION\n",
      "Fetched isochrone for interval 55M, MRT: DOWNTOWN MRT STATION\n",
      "Fetched isochrone for interval 55M, MRT: GEYLANG BAHRU MRT STATION\n",
      "Fetched isochrone for interval 55M, MRT: BENDEMEER MRT STATION\n",
      "Fetched isochrone for interval 55M, MRT: BENCOOLEN MRT STATION\n",
      "Fetched isochrone for interval 55M, MRT: FORT CANNING MRT STATION\n",
      "Fetched isochrone for interval 55M, MRT: KAKI BUKIT MRT STATION\n",
      "Fetched isochrone for interval 55M, MRT: JALAN BESAR MRT STATION\n",
      "Fetched isochrone for interval 55M, MRT: MATTAR MRT STATION\n",
      "Fetched isochrone for interval 55M, MRT: MACPHERSON MRT STATION\n",
      "Fetched isochrone for interval 55M, MRT: BAYFRONT MRT STATION\n",
      "Fetched isochrone for interval 55M, MRT: FARRER ROAD MRT STATION\n",
      "Fetched isochrone for interval 55M, MRT: JURONG EAST MRT STATION\n",
      "Fetched isochrone for interval 55M, MRT: BEDOK NORTH MRT STATION\n",
      "Fetched isochrone for interval 55M, MRT: BEDOK RESERVOIR MRT STATION\n",
      "Fetched isochrone for interval 55M, MRT: ORCHARD MRT STATION\n",
      "Fetched isochrone for interval 55M, MRT: LENTOR MRT STATION\n",
      "Fetched isochrone for interval 55M, MRT: BRIGHT HILL MRT STATION\n",
      "Fetched isochrone for interval 55M, MRT: SPRINGLEAF MRT STATION\n",
      "Fetched isochrone for interval 55M, MRT: MARINA SOUTH PIER MRT STATION\n",
      "Fetched isochrone for interval 55M, MRT: CANBERRA MRT STATION\n",
      "Fetched isochrone for interval 55M, MRT: WOODLANDS SOUTH MRT STATION\n",
      "Fetched isochrone for interval 55M, MRT: WOODLANDS NORTH MRT STATION\n",
      "Fetched isochrone for interval 55M, MRT: GUL CIRCLE MRT STATION\n",
      "Fetched isochrone for interval 55M, MRT: HAVELOCK MRT STATION\n",
      "Fetched isochrone for interval 55M, MRT: NAPIER MRT STATION\n",
      "Fetched isochrone for interval 55M, MRT: SHENTON WAY MRT STATION\n",
      "Fetched isochrone for interval 55M, MRT: GARDENS BY THE BAY MRT STATION\n",
      "Fetched isochrone for interval 55M, MRT: GREAT WORLD MRT STATION\n",
      "Fetched isochrone for interval 55M, MRT: MAXWELL MRT STATION\n",
      "Fetched isochrone for interval 55M, MRT: ORCHARD BOULEVARD MRT STATION\n",
      "Fetched isochrone for interval 55M, MRT: TELOK BLANGAH MRT STATION\n",
      "Fetched isochrone for interval 55M, MRT: TECK WHYE LRT STATION\n",
      "Fetched isochrone for interval 55M, MRT: TANJONG PAGAR MRT STATION\n",
      "Fetched isochrone for interval 55M, MRT: TANAH MERAH MRT STATION\n",
      "Fetched isochrone for interval 55M, MRT: TAN KAH KEE MRT STATION\n",
      "Fetched isochrone for interval 55M, MRT: UPPER THOMSON MRT STATION\n",
      "Fetched isochrone for interval 55M, MRT: MAYFLOWER MRT STATION\n",
      "Fetched isochrone for interval 60M, MRT: ESPLANADE MRT STATION\n",
      "Fetched isochrone for interval 60M, MRT: PAYA LEBAR MRT STATION\n",
      "Fetched isochrone for interval 60M, MRT: DHOBY GHAUT MRT STATION\n",
      "Fetched isochrone for interval 60M, MRT: DAKOTA MRT STATION\n",
      "Fetched isochrone for interval 60M, MRT: LAVENDER MRT STATION\n",
      "Fetched isochrone for interval 60M, MRT: RENJONG LRT STATION\n",
      "Fetched isochrone for interval 60M, MRT: DOVER MRT STATION\n",
      "Fetched isochrone for interval 60M, MRT: HOUGANG MRT STATION\n",
      "Fetched isochrone for interval 60M, MRT: PHOENIX LRT STATION\n",
      "Fetched isochrone for interval 60M, MRT: ALJUNIED MRT STATION\n",
      "Fetched isochrone for interval 60M, MRT: COVE LRT STATION\n",
      "Fetched isochrone for interval 60M, MRT: PASIR RIS MRT STATION\n",
      "Fetched isochrone for interval 60M, MRT: ADMIRALTY MRT STATION\n",
      "Fetched isochrone for interval 60M, MRT: KEMBANGAN MRT STATION\n",
      "Fetched isochrone for interval 60M, MRT: PUNGGOL POINT LRT STATION\n",
      "Fetched isochrone for interval 60M, MRT: MARSILING MRT STATION\n",
      "Fetched isochrone for interval 60M, MRT: COMPASSVALE LRT STATION\n",
      "Fetched isochrone for interval 60M, MRT: KHATIB MRT STATION\n",
      "Fetched isochrone for interval 60M, MRT: LAYAR LRT STATION\n",
      "Fetched isochrone for interval 60M, MRT: TAMPINES WEST MRT STATION\n",
      "Fetched isochrone for interval 60M, MRT: TAMPINES MRT STATION\n",
      "Fetched isochrone for interval 60M, MRT: TAMPINES EAST MRT STATION\n",
      "Fetched isochrone for interval 60M, MRT: TAI SENG MRT STATION\n",
      "Fetched isochrone for interval 60M, MRT: SUMANG LRT STATION\n",
      "Fetched isochrone for interval 60M, MRT: STEVENS MRT STATION\n",
      "Fetched isochrone for interval 60M, MRT: STADIUM MRT STATION\n",
      "Fetched isochrone for interval 60M, MRT: SIXTH AVENUE MRT STATION\n",
      "Fetched isochrone for interval 60M, MRT: SOUTH VIEW LRT STATION\n",
      "Fetched isochrone for interval 60M, MRT: SOO TECK LRT STATION\n",
      "Fetched isochrone for interval 60M, MRT: SOMERSET MRT STATION\n",
      "Fetched isochrone for interval 60M, MRT: SIMEI MRT STATION\n",
      "Fetched isochrone for interval 60M, MRT: SERANGOON MRT STATION\n",
      "Fetched isochrone for interval 60M, MRT: SENGKANG MRT STATION\n",
      "Fetched isochrone for interval 60M, MRT: BRADDELL MRT STATION\n",
      "Fetched isochrone for interval 60M, MRT: NOVENA MRT STATION\n",
      "Fetched isochrone for interval 60M, MRT: FARRER PARK MRT STATION\n",
      "Fetched isochrone for interval 60M, MRT: BEDOK MRT STATION\n",
      "Fetched isochrone for interval 60M, MRT: REDHILL MRT STATION\n",
      "Fetched isochrone for interval 60M, MRT: CHANGI AIRPORT MRT STATION\n",
      "Fetched isochrone for interval 60M, MRT: CORAL EDGE LRT STATION\n",
      "Fetched isochrone for interval 60M, MRT: CLEMENTI MRT STATION\n",
      "Fetched isochrone for interval 60M, MRT: BUKIT BATOK MRT STATION\n",
      "Fetched isochrone for interval 60M, MRT: OASIS LRT STATION\n",
      "Fetched isochrone for interval 60M, MRT: NIBONG LRT STATION\n",
      "Fetched isochrone for interval 60M, MRT: MERIDIAN LRT STATION\n",
      "Fetched isochrone for interval 60M, MRT: BUKIT GOMBAK MRT STATION\n",
      "Fetched isochrone for interval 60M, MRT: EUNOS MRT STATION\n",
      "Fetched isochrone for interval 60M, MRT: CHINESE GARDEN MRT STATION\n",
      "Fetched isochrone for interval 60M, MRT: KADALOOR LRT STATION\n",
      "Fetched isochrone for interval 60M, MRT: CHENG LIM LRT STATION\n",
      "Fetched isochrone for interval 60M, MRT: SAM KEE LRT STATION\n",
      "Fetched isochrone for interval 60M, MRT: KRANJI MRT STATION\n",
      "Fetched isochrone for interval 60M, MRT: ANG MO KIO MRT STATION\n",
      "Fetched isochrone for interval 60M, MRT: RIVIERA LRT STATION\n",
      "Fetched isochrone for interval 60M, MRT: BANGKIT LRT STATION\n",
      "Fetched isochrone for interval 60M, MRT: PASIR PANJANG MRT STATION\n",
      "Fetched isochrone for interval 60M, MRT: HOLLAND VILLAGE MRT STATION\n",
      "Fetched isochrone for interval 60M, MRT: LABRADOR PARK MRT STATION\n",
      "Fetched isochrone for interval 60M, MRT: BOTANIC GARDENS MRT STATION\n",
      "Fetched isochrone for interval 60M, MRT: ONE-NORTH MRT STATION\n",
      "Fetched isochrone for interval 60M, MRT: KENT RIDGE MRT STATION\n",
      "Fetched isochrone for interval 60M, MRT: HAW PAR VILLA MRT STATION\n",
      "Fetched isochrone for interval 60M, MRT: MARINA BAY MRT STATION\n",
      "Fetched isochrone for interval 60M, MRT: KING ALBERT PARK MRT STATION\n",
      "Fetched isochrone for interval 60M, MRT: LITTLE INDIA MRT STATION\n",
      "Fetched isochrone for interval 60M, MRT: ROCHOR MRT STATION\n",
      "Fetched isochrone for interval 60M, MRT: SENJA LRT STATION\n",
      "Fetched isochrone for interval 60M, MRT: MOUNTBATTEN MRT STATION\n",
      "Fetched isochrone for interval 60M, MRT: CHOA CHU KANG MRT STATION\n",
      "Fetched isochrone for interval 60M, MRT: BOON KENG MRT STATION\n",
      "Fetched isochrone for interval 60M, MRT: BARTLEY MRT STATION\n",
      "Fetched isochrone for interval 60M, MRT: SEGAR LRT STATION\n",
      "Fetched isochrone for interval 60M, MRT: HILLVIEW MRT STATION\n",
      "Fetched isochrone for interval 60M, MRT: BEAUTY WORLD MRT STATION\n",
      "Fetched isochrone for interval 60M, MRT: BUKIT PANJANG MRT STATION\n",
      "Fetched isochrone for interval 60M, MRT: CASHEW MRT STATION\n",
      "Fetched isochrone for interval 60M, MRT: JOO KOON MRT STATION\n",
      "Fetched isochrone for interval 60M, MRT: YEW TEE MRT STATION\n",
      "Fetched isochrone for interval 60M, MRT: YISHUN MRT STATION\n",
      "Fetched isochrone for interval 60M, MRT: YIO CHU KANG MRT STATION\n",
      "Fetched isochrone for interval 60M, MRT: WOODLEIGH MRT STATION\n",
      "Fetched isochrone for interval 60M, MRT: WOODLANDS MRT STATION\n",
      "Fetched isochrone for interval 60M, MRT: UPPER CHANGI MRT STATION\n",
      "Fetched isochrone for interval 60M, MRT: TELOK AYER MRT STATION\n",
      "Fetched isochrone for interval 60M, MRT: TONGKANG LRT STATION\n",
      "Fetched isochrone for interval 60M, MRT: UBI MRT STATION\n",
      "Fetched isochrone for interval 60M, MRT: TOA PAYOH MRT STATION\n",
      "Fetched isochrone for interval 60M, MRT: TIONG BAHRU MRT STATION\n",
      "Fetched isochrone for interval 60M, MRT: THANGGAM LRT STATION\n",
      "Fetched isochrone for interval 60M, MRT: PROMENADE MRT STATION\n",
      "Fetched isochrone for interval 60M, MRT: BRAS BASAH MRT STATION\n",
      "Fetched isochrone for interval 60M, MRT: NICOLL HIGHWAY MRT STATION\n",
      "Fetched isochrone for interval 60M, MRT: POTONG PASIR MRT STATION\n",
      "Fetched isochrone for interval 60M, MRT: LAKESIDE MRT STATION\n",
      "Fetched isochrone for interval 60M, MRT: SAMUDERA LRT STATION\n",
      "Fetched isochrone for interval 60M, MRT: RANGGUNG LRT STATION\n",
      "Fetched isochrone for interval 60M, MRT: SEMBAWANG MRT STATION\n",
      "Fetched isochrone for interval 60M, MRT: PUNGGOL LRT STATION\n",
      "Fetched isochrone for interval 60M, MRT: KANGKAR LRT STATION\n",
      "Fetched isochrone for interval 60M, MRT: PIONEER MRT STATION\n",
      "Fetched isochrone for interval 60M, MRT: BUGIS MRT STATION\n",
      "Fetched isochrone for interval 60M, MRT: NEWTON MRT STATION\n",
      "Fetched isochrone for interval 60M, MRT: BUONA VISTA MRT STATION\n",
      "Fetched isochrone for interval 60M, MRT: OUTRAM PARK MRT STATION\n",
      "Fetched isochrone for interval 60M, MRT: CHINATOWN MRT STATION\n",
      "Fetched isochrone for interval 60M, MRT: EXPO MRT STATION\n",
      "Fetched isochrone for interval 60M, MRT: RAFFLES PLACE MRT STATION\n",
      "Fetched isochrone for interval 60M, MRT: TUAS CRESCENT MRT STATION\n",
      "Fetched isochrone for interval 60M, MRT: TUAS LINK MRT STATION\n",
      "Fetched isochrone for interval 60M, MRT: TUAS WEST ROAD MRT STATION\n",
      "Fetched isochrone for interval 60M, MRT: CITY HALL MRT STATION\n",
      "Fetched isochrone for interval 60M, MRT: BISHAN MRT STATION\n",
      "Fetched isochrone for interval 60M, MRT: FERNVALE LRT STATION\n",
      "Fetched isochrone for interval 60M, MRT: PUNGGOL MRT STATION\n",
      "Fetched isochrone for interval 60M, MRT: BUANGKOK MRT STATION\n",
      "Fetched isochrone for interval 60M, MRT: BAKAU LRT STATION\n",
      "Fetched isochrone for interval 60M, MRT: FARMWAY LRT STATION\n",
      "Fetched isochrone for interval 60M, MRT: COMMONWEALTH MRT STATION\n",
      "Fetched isochrone for interval 60M, MRT: KUPANG LRT STATION\n",
      "Fetched isochrone for interval 60M, MRT: DAMAI LRT STATION\n",
      "Fetched isochrone for interval 60M, MRT: QUEENSTOWN MRT STATION\n",
      "Fetched isochrone for interval 60M, MRT: KALLANG MRT STATION\n",
      "Fetched isochrone for interval 60M, MRT: RUMBIA LRT STATION\n",
      "Fetched isochrone for interval 60M, MRT: PETIR LRT STATION\n",
      "Fetched isochrone for interval 60M, MRT: BOON LAY MRT STATION\n",
      "Fetched isochrone for interval 60M, MRT: KEAT HONG LRT STATION\n",
      "Fetched isochrone for interval 60M, MRT: JELAPANG LRT STATION\n",
      "Fetched isochrone for interval 60M, MRT: CHOA CHU KANG LRT STATION\n",
      "Fetched isochrone for interval 60M, MRT: SENGKANG LRT STATION\n",
      "Fetched isochrone for interval 60M, MRT: HARBOURFRONT MRT STATION\n",
      "Fetched isochrone for interval 60M, MRT: PENDING LRT STATION\n",
      "Fetched isochrone for interval 60M, MRT: CLARKE QUAY MRT STATION\n",
      "Fetched isochrone for interval 60M, MRT: BUKIT PANJANG LRT STATION\n",
      "Fetched isochrone for interval 60M, MRT: FAJAR LRT STATION\n",
      "Fetched isochrone for interval 60M, MRT: KOVAN MRT STATION\n",
      "Fetched isochrone for interval 60M, MRT: LORONG CHUAN MRT STATION\n",
      "Fetched isochrone for interval 60M, MRT: MARYMOUNT MRT STATION\n",
      "Fetched isochrone for interval 60M, MRT: CALDECOTT MRT STATION\n",
      "Fetched isochrone for interval 60M, MRT: DOWNTOWN MRT STATION\n",
      "Fetched isochrone for interval 60M, MRT: GEYLANG BAHRU MRT STATION\n",
      "Fetched isochrone for interval 60M, MRT: BENDEMEER MRT STATION\n",
      "Fetched isochrone for interval 60M, MRT: BENCOOLEN MRT STATION\n",
      "Fetched isochrone for interval 60M, MRT: FORT CANNING MRT STATION\n",
      "Fetched isochrone for interval 60M, MRT: KAKI BUKIT MRT STATION\n",
      "Fetched isochrone for interval 60M, MRT: JALAN BESAR MRT STATION\n",
      "Fetched isochrone for interval 60M, MRT: MATTAR MRT STATION\n",
      "Fetched isochrone for interval 60M, MRT: MACPHERSON MRT STATION\n",
      "Fetched isochrone for interval 60M, MRT: BAYFRONT MRT STATION\n",
      "Fetched isochrone for interval 60M, MRT: FARRER ROAD MRT STATION\n",
      "Fetched isochrone for interval 60M, MRT: JURONG EAST MRT STATION\n",
      "Fetched isochrone for interval 60M, MRT: BEDOK NORTH MRT STATION\n",
      "Fetched isochrone for interval 60M, MRT: BEDOK RESERVOIR MRT STATION\n",
      "Fetched isochrone for interval 60M, MRT: ORCHARD MRT STATION\n",
      "Fetched isochrone for interval 60M, MRT: LENTOR MRT STATION\n",
      "Fetched isochrone for interval 60M, MRT: BRIGHT HILL MRT STATION\n",
      "Fetched isochrone for interval 60M, MRT: SPRINGLEAF MRT STATION\n",
      "Fetched isochrone for interval 60M, MRT: MARINA SOUTH PIER MRT STATION\n",
      "Fetched isochrone for interval 60M, MRT: CANBERRA MRT STATION\n",
      "Fetched isochrone for interval 60M, MRT: WOODLANDS SOUTH MRT STATION\n",
      "Fetched isochrone for interval 60M, MRT: WOODLANDS NORTH MRT STATION\n",
      "Fetched isochrone for interval 60M, MRT: GUL CIRCLE MRT STATION\n",
      "Fetched isochrone for interval 60M, MRT: HAVELOCK MRT STATION\n",
      "Fetched isochrone for interval 60M, MRT: NAPIER MRT STATION\n",
      "Fetched isochrone for interval 60M, MRT: SHENTON WAY MRT STATION\n",
      "Fetched isochrone for interval 60M, MRT: GARDENS BY THE BAY MRT STATION\n",
      "Fetched isochrone for interval 60M, MRT: GREAT WORLD MRT STATION\n",
      "Fetched isochrone for interval 60M, MRT: MAXWELL MRT STATION\n",
      "Fetched isochrone for interval 60M, MRT: ORCHARD BOULEVARD MRT STATION\n",
      "Fetched isochrone for interval 60M, MRT: TELOK BLANGAH MRT STATION\n",
      "Fetched isochrone for interval 60M, MRT: TECK WHYE LRT STATION\n",
      "Fetched isochrone for interval 60M, MRT: TANJONG PAGAR MRT STATION\n",
      "Fetched isochrone for interval 60M, MRT: TANAH MERAH MRT STATION\n",
      "Fetched isochrone for interval 60M, MRT: TAN KAH KEE MRT STATION\n",
      "Fetched isochrone for interval 60M, MRT: UPPER THOMSON MRT STATION\n",
      "Fetched isochrone for interval 60M, MRT: MAYFLOWER MRT STATION\n"
     ]
    }
   ],
   "source": [
    "mrt_isochrones = mrt_df.copy()\n",
    "mrt_isochrones = fetch_all_isochrones(mrt_isochrones,mode=\"RAIL,SUBWAY,TRAM,MONORAIL,WALK\", interval=5)\n",
    "mrt_isochrones.to_json('../../data/Isochrone_data/mrt_isochrones.json', orient='records', lines=True, force_ascii=False)"
   ]
  },
  {
   "cell_type": "code",
   "execution_count": null,
   "metadata": {},
   "outputs": [],
   "source": [
    "public_isochrones = mrt_df.copy()\n",
    "public_isochrones = fetch_all_isochrones(public_isochrones,mode=\"TRANSIT,WALK\", interval=5)\n",
    "public_isochrones.to_json('../../data/Isochrone_data/public_isochrones.json', orient='records', lines=True, force_ascii=False)"
   ]
  },
  {
   "cell_type": "code",
   "execution_count": null,
   "metadata": {},
   "outputs": [],
   "source": [
    "car_isochrones = mrt_df.copy()\n",
    "car_isochrones = fetch_all_isochrones(car_isochrones,mode=\"CAR\", interval=5)\n",
    "car_isochrones.to_json('../../data/Isochrone_data/car_isochrones.json', orient='records', lines=True, force_ascii=False)"
   ]
  },
  {
   "cell_type": "code",
   "execution_count": 10,
   "metadata": {},
   "outputs": [
    {
     "data": {
      "text/html": [
       "<div>\n",
       "<style scoped>\n",
       "    .dataframe tbody tr th:only-of-type {\n",
       "        vertical-align: middle;\n",
       "    }\n",
       "\n",
       "    .dataframe tbody tr th {\n",
       "        vertical-align: top;\n",
       "    }\n",
       "\n",
       "    .dataframe thead th {\n",
       "        text-align: right;\n",
       "    }\n",
       "</style>\n",
       "<table border=\"1\" class=\"dataframe\">\n",
       "  <thead>\n",
       "    <tr style=\"text-align: right;\">\n",
       "      <th></th>\n",
       "      <th>MRT.Name</th>\n",
       "      <th>Latitude</th>\n",
       "      <th>Longitude</th>\n",
       "      <th>isochrone_10M</th>\n",
       "      <th>isochrone_15M</th>\n",
       "      <th>isochrone_20M</th>\n",
       "      <th>isochrone_25M</th>\n",
       "      <th>isochrone_30M</th>\n",
       "      <th>isochrone_35M</th>\n",
       "      <th>isochrone_40M</th>\n",
       "      <th>isochrone_45M</th>\n",
       "      <th>isochrone_50M</th>\n",
       "      <th>isochrone_55M</th>\n",
       "      <th>isochrone_60M</th>\n",
       "    </tr>\n",
       "  </thead>\n",
       "  <tbody>\n",
       "    <tr>\n",
       "      <th>0</th>\n",
       "      <td>ESPLANADE MRT STATION</td>\n",
       "      <td>1.293658</td>\n",
       "      <td>103.855081</td>\n",
       "      <td>[[103.861, 1.284867], [103.861722, 1.286027], ...</td>\n",
       "      <td>[[103.841367, 1.289686], [103.841584, 1.289203...</td>\n",
       "      <td>[[103.831873, 1.288905], [103.832188, 1.288877...</td>\n",
       "      <td>[[103.888542, 1.29323], [103.888929, 1.293201]...</td>\n",
       "      <td>[[103.869582, 1.3302019999999999], [103.868636...</td>\n",
       "      <td>[[103.812166, 1.2781959999999999], [103.812398...</td>\n",
       "      <td>[[103.809332, 1.262772], [103.810599, 1.262453...</td>\n",
       "      <td>[[103.813108, 1.337934], [103.813677, 1.338025...</td>\n",
       "      <td>[[103.806029, 1.338051], [103.80538, 1.338502]...</td>\n",
       "      <td>[[103.806029, 1.338051], [103.80538, 1.338502]...</td>\n",
       "      <td>[[103.806029, 1.338051], [103.80538, 1.338502]...</td>\n",
       "    </tr>\n",
       "    <tr>\n",
       "      <th>1</th>\n",
       "      <td>PAYA LEBAR MRT STATION</td>\n",
       "      <td>1.317199</td>\n",
       "      <td>103.892365</td>\n",
       "      <td>[[103.889556, 1.307294], [103.889875, 1.307317...</td>\n",
       "      <td>[[103.877473, 1.325003], [103.876758, 1.324139...</td>\n",
       "      <td>[[103.901946, 1.2953999999999999], [103.903282...</td>\n",
       "      <td>[[103.858745, 1.2968709999999999], [103.860358...</td>\n",
       "      <td>[[103.863491, 1.287579], [103.864052, 1.287626...</td>\n",
       "      <td>[[103.872771, 1.279147], [103.873047, 1.279572...</td>\n",
       "      <td>[[103.89785, 1.378247], [103.897584, 1.379152]...</td>\n",
       "      <td>[[103.872771, 1.279147], [103.873047, 1.279572...</td>\n",
       "      <td>[[103.829497, 1.336703], [103.829566, 1.336401...</td>\n",
       "      <td>[[103.829843, 1.273725], [103.829869, 1.2737],...</td>\n",
       "      <td>[[103.829843, 1.273725], [103.829869, 1.2737],...</td>\n",
       "    </tr>\n",
       "    <tr>\n",
       "      <th>2</th>\n",
       "      <td>DHOBY GHAUT MRT STATION</td>\n",
       "      <td>1.298655</td>\n",
       "      <td>103.846194</td>\n",
       "      <td>[[103.833806, 1.29983], [103.833988, 1.299424]...</td>\n",
       "      <td>[[103.850876, 1.283103], [103.85223, 1.283638]...</td>\n",
       "      <td>[[103.819005, 1.292228], [103.819595, 1.291808...</td>\n",
       "      <td>[[103.872969, 1.296341], [103.874022, 1.295847...</td>\n",
       "      <td>[[103.810599, 1.283574], [103.811982, 1.283408...</td>\n",
       "      <td>[[103.810599, 1.26787], [103.810721, 1.267758]...</td>\n",
       "      <td>[[103.807995, 1.263234], [103.8088, 1.262982],...</td>\n",
       "      <td>[[103.892113, 1.341375], [103.891971, 1.342099...</td>\n",
       "      <td>[[103.891038, 1.348936], [103.89062, 1.348876]...</td>\n",
       "      <td>[[103.891038, 1.348936], [103.89062, 1.348876]...</td>\n",
       "      <td>[[103.891038, 1.348936], [103.89062, 1.348876]...</td>\n",
       "    </tr>\n",
       "    <tr>\n",
       "      <th>3</th>\n",
       "      <td>DAKOTA MRT STATION</td>\n",
       "      <td>1.308548</td>\n",
       "      <td>103.889065</td>\n",
       "      <td>[[103.876785, 1.303843], [103.876851, 1.303841...</td>\n",
       "      <td>[[103.86878, 1.304214], [103.869766, 1.303662]...</td>\n",
       "      <td>[[103.885931, 1.334911], [103.88592, 1.334783]...</td>\n",
       "      <td>[[103.857381, 1.291005], [103.858034, 1.290733...</td>\n",
       "      <td>[[103.891038, 1.348776], [103.890094, 1.34835]...</td>\n",
       "      <td>[[103.898297, 1.357111], [103.897485, 1.357569...</td>\n",
       "      <td>[[103.898754, 1.3683589999999999], [103.898747...</td>\n",
       "      <td>[[103.829973, 1.272056], [103.831668, 1.273447...</td>\n",
       "      <td>[[103.824297, 1.278972], [103.824471, 1.27813]...</td>\n",
       "      <td>[[103.824297, 1.278972], [103.824471, 1.27813]...</td>\n",
       "      <td>[[103.921507, 1.374358], [103.921501, 1.374475...</td>\n",
       "    </tr>\n",
       "    <tr>\n",
       "      <th>4</th>\n",
       "      <td>LAVENDER MRT STATION</td>\n",
       "      <td>1.307378</td>\n",
       "      <td>103.862768</td>\n",
       "      <td>[[103.866625, 1.300138], [103.867741, 1.300542...</td>\n",
       "      <td>[[103.863903, 1.28979], [103.864052, 1.289684]...</td>\n",
       "      <td>[[103.844063, 1.295915], [103.844374, 1.295568...</td>\n",
       "      <td>[[103.840038, 1.288104], [103.84054, 1.287061]...</td>\n",
       "      <td>[[103.830175, 1.290805], [103.830389, 1.29043]...</td>\n",
       "      <td>[[103.819432, 1.290856], [103.819595, 1.290773...</td>\n",
       "      <td>[[103.834251, 1.351184], [103.83387, 1.350467]...</td>\n",
       "      <td>[[103.902546, 1.342812], [103.902214, 1.343898...</td>\n",
       "      <td>[[103.806451, 1.273721], [103.80648, 1.273687]...</td>\n",
       "      <td>[[103.919824, 1.376512], [103.920608, 1.378072...</td>\n",
       "      <td>[[103.902546, 1.342812], [103.902214, 1.343898...</td>\n",
       "    </tr>\n",
       "  </tbody>\n",
       "</table>\n",
       "</div>"
      ],
      "text/plain": [
       "                  MRT.Name  Latitude   Longitude  \\\n",
       "0    ESPLANADE MRT STATION  1.293658  103.855081   \n",
       "1   PAYA LEBAR MRT STATION  1.317199  103.892365   \n",
       "2  DHOBY GHAUT MRT STATION  1.298655  103.846194   \n",
       "3       DAKOTA MRT STATION  1.308548  103.889065   \n",
       "4     LAVENDER MRT STATION  1.307378  103.862768   \n",
       "\n",
       "                                       isochrone_10M  \\\n",
       "0  [[103.861, 1.284867], [103.861722, 1.286027], ...   \n",
       "1  [[103.889556, 1.307294], [103.889875, 1.307317...   \n",
       "2  [[103.833806, 1.29983], [103.833988, 1.299424]...   \n",
       "3  [[103.876785, 1.303843], [103.876851, 1.303841...   \n",
       "4  [[103.866625, 1.300138], [103.867741, 1.300542...   \n",
       "\n",
       "                                       isochrone_15M  \\\n",
       "0  [[103.841367, 1.289686], [103.841584, 1.289203...   \n",
       "1  [[103.877473, 1.325003], [103.876758, 1.324139...   \n",
       "2  [[103.850876, 1.283103], [103.85223, 1.283638]...   \n",
       "3  [[103.86878, 1.304214], [103.869766, 1.303662]...   \n",
       "4  [[103.863903, 1.28979], [103.864052, 1.289684]...   \n",
       "\n",
       "                                       isochrone_20M  \\\n",
       "0  [[103.831873, 1.288905], [103.832188, 1.288877...   \n",
       "1  [[103.901946, 1.2953999999999999], [103.903282...   \n",
       "2  [[103.819005, 1.292228], [103.819595, 1.291808...   \n",
       "3  [[103.885931, 1.334911], [103.88592, 1.334783]...   \n",
       "4  [[103.844063, 1.295915], [103.844374, 1.295568...   \n",
       "\n",
       "                                       isochrone_25M  \\\n",
       "0  [[103.888542, 1.29323], [103.888929, 1.293201]...   \n",
       "1  [[103.858745, 1.2968709999999999], [103.860358...   \n",
       "2  [[103.872969, 1.296341], [103.874022, 1.295847...   \n",
       "3  [[103.857381, 1.291005], [103.858034, 1.290733...   \n",
       "4  [[103.840038, 1.288104], [103.84054, 1.287061]...   \n",
       "\n",
       "                                       isochrone_30M  \\\n",
       "0  [[103.869582, 1.3302019999999999], [103.868636...   \n",
       "1  [[103.863491, 1.287579], [103.864052, 1.287626...   \n",
       "2  [[103.810599, 1.283574], [103.811982, 1.283408...   \n",
       "3  [[103.891038, 1.348776], [103.890094, 1.34835]...   \n",
       "4  [[103.830175, 1.290805], [103.830389, 1.29043]...   \n",
       "\n",
       "                                       isochrone_35M  \\\n",
       "0  [[103.812166, 1.2781959999999999], [103.812398...   \n",
       "1  [[103.872771, 1.279147], [103.873047, 1.279572...   \n",
       "2  [[103.810599, 1.26787], [103.810721, 1.267758]...   \n",
       "3  [[103.898297, 1.357111], [103.897485, 1.357569...   \n",
       "4  [[103.819432, 1.290856], [103.819595, 1.290773...   \n",
       "\n",
       "                                       isochrone_40M  \\\n",
       "0  [[103.809332, 1.262772], [103.810599, 1.262453...   \n",
       "1  [[103.89785, 1.378247], [103.897584, 1.379152]...   \n",
       "2  [[103.807995, 1.263234], [103.8088, 1.262982],...   \n",
       "3  [[103.898754, 1.3683589999999999], [103.898747...   \n",
       "4  [[103.834251, 1.351184], [103.83387, 1.350467]...   \n",
       "\n",
       "                                       isochrone_45M  \\\n",
       "0  [[103.813108, 1.337934], [103.813677, 1.338025...   \n",
       "1  [[103.872771, 1.279147], [103.873047, 1.279572...   \n",
       "2  [[103.892113, 1.341375], [103.891971, 1.342099...   \n",
       "3  [[103.829973, 1.272056], [103.831668, 1.273447...   \n",
       "4  [[103.902546, 1.342812], [103.902214, 1.343898...   \n",
       "\n",
       "                                       isochrone_50M  \\\n",
       "0  [[103.806029, 1.338051], [103.80538, 1.338502]...   \n",
       "1  [[103.829497, 1.336703], [103.829566, 1.336401...   \n",
       "2  [[103.891038, 1.348936], [103.89062, 1.348876]...   \n",
       "3  [[103.824297, 1.278972], [103.824471, 1.27813]...   \n",
       "4  [[103.806451, 1.273721], [103.80648, 1.273687]...   \n",
       "\n",
       "                                       isochrone_55M  \\\n",
       "0  [[103.806029, 1.338051], [103.80538, 1.338502]...   \n",
       "1  [[103.829843, 1.273725], [103.829869, 1.2737],...   \n",
       "2  [[103.891038, 1.348936], [103.89062, 1.348876]...   \n",
       "3  [[103.824297, 1.278972], [103.824471, 1.27813]...   \n",
       "4  [[103.919824, 1.376512], [103.920608, 1.378072...   \n",
       "\n",
       "                                       isochrone_60M  \n",
       "0  [[103.806029, 1.338051], [103.80538, 1.338502]...  \n",
       "1  [[103.829843, 1.273725], [103.829869, 1.2737],...  \n",
       "2  [[103.891038, 1.348936], [103.89062, 1.348876]...  \n",
       "3  [[103.921507, 1.374358], [103.921501, 1.374475...  \n",
       "4  [[103.902546, 1.342812], [103.902214, 1.343898...  "
      ]
     },
     "execution_count": 10,
     "metadata": {},
     "output_type": "execute_result"
    }
   ],
   "source": [
    "bicycle_isochrones = pd.read_json('../../data/Isochrone_data/bicycle_isochrones.json', orient='records', lines=True)\n",
    "bicycle_isochrones.head()"
   ]
  }
 ],
 "metadata": {
  "kernelspec": {
   "display_name": "Python 3",
   "language": "python",
   "name": "python3"
  },
  "language_info": {
   "codemirror_mode": {
    "name": "ipython",
    "version": 3
   },
   "file_extension": ".py",
   "mimetype": "text/x-python",
   "name": "python",
   "nbconvert_exporter": "python",
   "pygments_lexer": "ipython3",
   "version": "3.8.10"
  }
 },
 "nbformat": 4,
 "nbformat_minor": 2
}
