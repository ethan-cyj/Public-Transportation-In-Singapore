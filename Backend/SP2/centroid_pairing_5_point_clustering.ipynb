{
 "cells": [
  {
   "cell_type": "code",
   "execution_count": 21,
   "metadata": {},
   "outputs": [],
   "source": [
    "import pandas as pd\n",
    "import numpy as np\n",
    "import openrouteservice as ors\n",
    "from dotenv import load_dotenv\n",
    "from pyonemap import OneMap\n",
    "import os\n",
    "import requests\n",
    "import json\n",
    "import time\n",
    "from collections import namedtuple\n",
    "import helper_functions as helper\n",
    "from datetime import datetime,timedelta"
   ]
  },
  {
   "cell_type": "code",
   "execution_count": 22,
   "metadata": {},
   "outputs": [
    {
     "data": {
      "text/plain": [
       "True"
      ]
     },
     "execution_count": 22,
     "metadata": {},
     "output_type": "execute_result"
    }
   ],
   "source": [
    "load_dotenv()"
   ]
  },
  {
   "cell_type": "code",
   "execution_count": 3,
   "metadata": {},
   "outputs": [],
   "source": [
    "directory = os.getcwd()\n",
    "\n",
    "os.chdir(directory)"
   ]
  },
  {
   "cell_type": "code",
   "execution_count": 4,
   "metadata": {},
   "outputs": [],
   "source": [
    "hdbCentroids_df = pd.read_csv(r\"../../data/Cluster_data/hdb_cluster_centroids.csv\",header = None,names = ['Latitude','Longitude'])\n",
    "priv_centroid_df = pd.read_csv(r\"../../data/Cluster_data/priv_cluster_centroids.csv\",header = None,names = ['Latitude','Longitude'])\n",
    "mrt_stations_df = pd.read_csv(r\"../../data/Cluster_data/mrt_station_final.csv\",usecols = [1,2,3])"
   ]
  },
  {
   "cell_type": "code",
   "execution_count": 5,
   "metadata": {},
   "outputs": [
    {
     "name": "stdout",
     "output_type": "stream",
     "text": [
      "<class 'pandas.core.frame.DataFrame'>\n",
      "RangeIndex: 550 entries, 0 to 549\n",
      "Data columns (total 2 columns):\n",
      " #   Column     Non-Null Count  Dtype  \n",
      "---  ------     --------------  -----  \n",
      " 0   Latitude   550 non-null    float64\n",
      " 1   Longitude  550 non-null    float64\n",
      "dtypes: float64(2)\n",
      "memory usage: 8.7 KB\n",
      "<class 'pandas.core.frame.DataFrame'>\n",
      "RangeIndex: 550 entries, 0 to 549\n",
      "Data columns (total 2 columns):\n",
      " #   Column     Non-Null Count  Dtype  \n",
      "---  ------     --------------  -----  \n",
      " 0   Latitude   550 non-null    float64\n",
      " 1   Longitude  550 non-null    float64\n",
      "dtypes: float64(2)\n",
      "memory usage: 8.7 KB\n",
      "<class 'pandas.core.frame.DataFrame'>\n",
      "RangeIndex: 175 entries, 0 to 174\n",
      "Data columns (total 3 columns):\n",
      " #   Column     Non-Null Count  Dtype  \n",
      "---  ------     --------------  -----  \n",
      " 0   MRT.Name   175 non-null    object \n",
      " 1   Latitude   175 non-null    float64\n",
      " 2   Longitude  175 non-null    float64\n",
      "dtypes: float64(2), object(1)\n",
      "memory usage: 4.2+ KB\n"
     ]
    }
   ],
   "source": [
    "hdbCentroids_df.info()\n",
    "priv_centroid_df.info()\n",
    "mrt_stations_df.info()"
   ]
  },
  {
   "cell_type": "code",
   "execution_count": 6,
   "metadata": {},
   "outputs": [
    {
     "data": {
      "text/html": [
       "<div>\n",
       "<style scoped>\n",
       "    .dataframe tbody tr th:only-of-type {\n",
       "        vertical-align: middle;\n",
       "    }\n",
       "\n",
       "    .dataframe tbody tr th {\n",
       "        vertical-align: top;\n",
       "    }\n",
       "\n",
       "    .dataframe thead th {\n",
       "        text-align: right;\n",
       "    }\n",
       "</style>\n",
       "<table border=\"1\" class=\"dataframe\">\n",
       "  <thead>\n",
       "    <tr style=\"text-align: right;\">\n",
       "      <th></th>\n",
       "      <th>MRT.Name</th>\n",
       "      <th>Latitude</th>\n",
       "      <th>Longitude</th>\n",
       "    </tr>\n",
       "  </thead>\n",
       "  <tbody>\n",
       "    <tr>\n",
       "      <th>12</th>\n",
       "      <td>ADMIRALTY MRT STATION</td>\n",
       "      <td>1.440589</td>\n",
       "      <td>103.80099</td>\n",
       "    </tr>\n",
       "  </tbody>\n",
       "</table>\n",
       "</div>"
      ],
      "text/plain": [
       "                 MRT.Name  Latitude  Longitude\n",
       "12  ADMIRALTY MRT STATION  1.440589  103.80099"
      ]
     },
     "execution_count": 6,
     "metadata": {},
     "output_type": "execute_result"
    }
   ],
   "source": [
    "mrt_stations_df.sort_values(by='MRT.Name', inplace=True)\n",
    "\n",
    "mrt_stations_df.head(1)"
   ]
  },
  {
   "cell_type": "code",
   "execution_count": 7,
   "metadata": {},
   "outputs": [],
   "source": [
    "combined_centroid_df = pd.concat([hdbCentroids_df,priv_centroid_df],axis = 0).reset_index(drop = True)"
   ]
  },
  {
   "cell_type": "code",
   "execution_count": 8,
   "metadata": {},
   "outputs": [
    {
     "name": "stdout",
     "output_type": "stream",
     "text": [
      "<class 'pandas.core.frame.DataFrame'>\n",
      "RangeIndex: 1100 entries, 0 to 1099\n",
      "Data columns (total 2 columns):\n",
      " #   Column     Non-Null Count  Dtype  \n",
      "---  ------     --------------  -----  \n",
      " 0   Latitude   1100 non-null   float64\n",
      " 1   Longitude  1100 non-null   float64\n",
      "dtypes: float64(2)\n",
      "memory usage: 17.3 KB\n"
     ]
    }
   ],
   "source": [
    "combined_centroid_df.info()"
   ]
  },
  {
   "cell_type": "code",
   "execution_count": 9,
   "metadata": {},
   "outputs": [],
   "source": [
    "#create a psuedo index for my residential centroids df\n",
    "combined_centroid_df['index'] = combined_centroid_df.index\n",
    "\n",
    "combined_centroid_df['index']\n",
    "\n",
    "#create a psuedo index for my residential centroids df\n",
    "mrt_stations_df['index'] = mrt_stations_df.index\n",
    "\n",
    "mrt_stations_df['index']\n",
    "\n",
    "##create a dummy variable to cross join on \n",
    "combined_centroid_df['join_key'] = \"A\"\n",
    "mrt_stations_df['join_key'] = \"A\"\n",
    "\n",
    "#Cross join to obtain combinations of all possible pairings between MRTs and Residential Centroids\n",
    "centroid_station_combination_df = pd.merge(combined_centroid_df, mrt_stations_df, on='join_key')"
   ]
  },
  {
   "cell_type": "code",
   "execution_count": 11,
   "metadata": {},
   "outputs": [],
   "source": [
    "coordinate_pair = namedtuple('coordinate_pair',['lat_x','lon_x','lat_y','lon_y'])"
   ]
  },
  {
   "cell_type": "code",
   "execution_count": 19,
   "metadata": {},
   "outputs": [
    {
     "ename": "KeyError",
     "evalue": "'MRT.Name'",
     "output_type": "error",
     "traceback": [
      "\u001b[0;31m---------------------------------------------------------------------------\u001b[0m",
      "\u001b[0;31mKeyError\u001b[0m                                  Traceback (most recent call last)",
      "File \u001b[0;32m/Library/Frameworks/Python.framework/Versions/3.11/lib/python3.11/site-packages/pandas/core/indexes/base.py:3802\u001b[0m, in \u001b[0;36mIndex.get_loc\u001b[0;34m(self, key, method, tolerance)\u001b[0m\n\u001b[1;32m   3801\u001b[0m \u001b[38;5;28;01mtry\u001b[39;00m:\n\u001b[0;32m-> 3802\u001b[0m     \u001b[38;5;28;01mreturn\u001b[39;00m \u001b[38;5;28;43mself\u001b[39;49m\u001b[38;5;241;43m.\u001b[39;49m\u001b[43m_engine\u001b[49m\u001b[38;5;241;43m.\u001b[39;49m\u001b[43mget_loc\u001b[49m\u001b[43m(\u001b[49m\u001b[43mcasted_key\u001b[49m\u001b[43m)\u001b[49m\n\u001b[1;32m   3803\u001b[0m \u001b[38;5;28;01mexcept\u001b[39;00m \u001b[38;5;167;01mKeyError\u001b[39;00m \u001b[38;5;28;01mas\u001b[39;00m err:\n",
      "File \u001b[0;32m/Library/Frameworks/Python.framework/Versions/3.11/lib/python3.11/site-packages/pandas/_libs/index.pyx:138\u001b[0m, in \u001b[0;36mpandas._libs.index.IndexEngine.get_loc\u001b[0;34m()\u001b[0m\n",
      "File \u001b[0;32m/Library/Frameworks/Python.framework/Versions/3.11/lib/python3.11/site-packages/pandas/_libs/index.pyx:165\u001b[0m, in \u001b[0;36mpandas._libs.index.IndexEngine.get_loc\u001b[0;34m()\u001b[0m\n",
      "File \u001b[0;32mpandas/_libs/hashtable_class_helper.pxi:5745\u001b[0m, in \u001b[0;36mpandas._libs.hashtable.PyObjectHashTable.get_item\u001b[0;34m()\u001b[0m\n",
      "File \u001b[0;32mpandas/_libs/hashtable_class_helper.pxi:5753\u001b[0m, in \u001b[0;36mpandas._libs.hashtable.PyObjectHashTable.get_item\u001b[0;34m()\u001b[0m\n",
      "\u001b[0;31mKeyError\u001b[0m: 'MRT.Name'",
      "\nThe above exception was the direct cause of the following exception:\n",
      "\u001b[0;31mKeyError\u001b[0m                                  Traceback (most recent call last)",
      "Cell \u001b[0;32mIn[19], line 7\u001b[0m\n\u001b[1;32m      4\u001b[0m \u001b[38;5;66;03m#Group by residential centroid, filter out the closest MRT by distance for each centroid into another dataframe and reset its index\u001b[39;00m\n\u001b[1;32m      5\u001b[0m result_df \u001b[38;5;241m=\u001b[39m centroid_station_combination_df\u001b[38;5;241m.\u001b[39mgroupby(\u001b[38;5;124m'\u001b[39m\u001b[38;5;124mMRT.Name\u001b[39m\u001b[38;5;124m'\u001b[39m)\u001b[38;5;241m.\u001b[39mapply(\u001b[38;5;28;01mlambda\u001b[39;00m group: group\u001b[38;5;241m.\u001b[39mnsmallest(\u001b[38;5;241m5\u001b[39m, \u001b[38;5;124m'\u001b[39m\u001b[38;5;124meuclidean_distance\u001b[39m\u001b[38;5;124m'\u001b[39m))\u001b[38;5;241m.\u001b[39mreset_index(drop\u001b[38;5;241m=\u001b[39m\u001b[38;5;28;01mTrue\u001b[39;00m)\n\u001b[0;32m----> 7\u001b[0m result_df[\u001b[38;5;124m'\u001b[39m\u001b[38;5;124mMRT.Name\u001b[39m\u001b[38;5;124m'\u001b[39m] \u001b[38;5;241m=\u001b[39m \u001b[43mpd\u001b[49m\u001b[38;5;241;43m.\u001b[39;49m\u001b[43mmerge\u001b[49m\u001b[43m(\u001b[49m\u001b[43mresult_df\u001b[49m\u001b[43m,\u001b[49m\u001b[43m \u001b[49m\u001b[43mmrt_stations_df\u001b[49m\u001b[43m,\u001b[49m\u001b[43m \u001b[49m\u001b[43mleft_on\u001b[49m\u001b[38;5;241;43m=\u001b[39;49m\u001b[38;5;124;43m'\u001b[39;49m\u001b[38;5;124;43mindex_y\u001b[39;49m\u001b[38;5;124;43m'\u001b[39;49m\u001b[43m,\u001b[49m\u001b[43m \u001b[49m\u001b[43mright_on\u001b[49m\u001b[38;5;241;43m=\u001b[39;49m\u001b[38;5;124;43m'\u001b[39;49m\u001b[38;5;124;43mindex\u001b[39;49m\u001b[38;5;124;43m'\u001b[39;49m\u001b[43m)\u001b[49m\u001b[43m[\u001b[49m\u001b[38;5;124;43m'\u001b[39;49m\u001b[38;5;124;43mMRT.Name\u001b[39;49m\u001b[38;5;124;43m'\u001b[39;49m\u001b[43m]\u001b[49m\n\u001b[1;32m      9\u001b[0m \u001b[38;5;66;03m#Create a new column 'coordinate_pair' to store coordinate pairs to pass to openrouteservice API direction query\u001b[39;00m\n\u001b[1;32m     10\u001b[0m \u001b[38;5;66;03m# result_df['coordinate_pair'] = list(zip(result_df['Longitude_x'], result_df['Latitude_x'], result_df['Longitude_y'], result_df['Latitude_y']))\u001b[39;00m\n\u001b[1;32m     11\u001b[0m \u001b[38;5;66;03m# result_df['coordinate_pair'] = result_df['coordinate_pair'].apply(lambda x: [[x[0], x[1]], [x[2], x[3]]])\u001b[39;00m\n\u001b[1;32m     12\u001b[0m result_df[\u001b[38;5;124m'\u001b[39m\u001b[38;5;124mcoordinate_pair\u001b[39m\u001b[38;5;124m'\u001b[39m] \u001b[38;5;241m=\u001b[39m result_df\u001b[38;5;241m.\u001b[39mapply(\u001b[38;5;28;01mlambda\u001b[39;00m x: coordinate_pair(x[\u001b[38;5;124m'\u001b[39m\u001b[38;5;124mLatitude_x\u001b[39m\u001b[38;5;124m'\u001b[39m], x[\u001b[38;5;124m'\u001b[39m\u001b[38;5;124mLongitude_x\u001b[39m\u001b[38;5;124m'\u001b[39m], x[\u001b[38;5;124m'\u001b[39m\u001b[38;5;124mLatitude_y\u001b[39m\u001b[38;5;124m'\u001b[39m], x[\u001b[38;5;124m'\u001b[39m\u001b[38;5;124mLongitude_y\u001b[39m\u001b[38;5;124m'\u001b[39m]), axis\u001b[38;5;241m=\u001b[39m\u001b[38;5;241m1\u001b[39m)\n",
      "File \u001b[0;32m/Library/Frameworks/Python.framework/Versions/3.11/lib/python3.11/site-packages/pandas/core/frame.py:3807\u001b[0m, in \u001b[0;36mDataFrame.__getitem__\u001b[0;34m(self, key)\u001b[0m\n\u001b[1;32m   3805\u001b[0m \u001b[38;5;28;01mif\u001b[39;00m \u001b[38;5;28mself\u001b[39m\u001b[38;5;241m.\u001b[39mcolumns\u001b[38;5;241m.\u001b[39mnlevels \u001b[38;5;241m>\u001b[39m \u001b[38;5;241m1\u001b[39m:\n\u001b[1;32m   3806\u001b[0m     \u001b[38;5;28;01mreturn\u001b[39;00m \u001b[38;5;28mself\u001b[39m\u001b[38;5;241m.\u001b[39m_getitem_multilevel(key)\n\u001b[0;32m-> 3807\u001b[0m indexer \u001b[38;5;241m=\u001b[39m \u001b[38;5;28;43mself\u001b[39;49m\u001b[38;5;241;43m.\u001b[39;49m\u001b[43mcolumns\u001b[49m\u001b[38;5;241;43m.\u001b[39;49m\u001b[43mget_loc\u001b[49m\u001b[43m(\u001b[49m\u001b[43mkey\u001b[49m\u001b[43m)\u001b[49m\n\u001b[1;32m   3808\u001b[0m \u001b[38;5;28;01mif\u001b[39;00m is_integer(indexer):\n\u001b[1;32m   3809\u001b[0m     indexer \u001b[38;5;241m=\u001b[39m [indexer]\n",
      "File \u001b[0;32m/Library/Frameworks/Python.framework/Versions/3.11/lib/python3.11/site-packages/pandas/core/indexes/base.py:3804\u001b[0m, in \u001b[0;36mIndex.get_loc\u001b[0;34m(self, key, method, tolerance)\u001b[0m\n\u001b[1;32m   3802\u001b[0m     \u001b[38;5;28;01mreturn\u001b[39;00m \u001b[38;5;28mself\u001b[39m\u001b[38;5;241m.\u001b[39m_engine\u001b[38;5;241m.\u001b[39mget_loc(casted_key)\n\u001b[1;32m   3803\u001b[0m \u001b[38;5;28;01mexcept\u001b[39;00m \u001b[38;5;167;01mKeyError\u001b[39;00m \u001b[38;5;28;01mas\u001b[39;00m err:\n\u001b[0;32m-> 3804\u001b[0m     \u001b[38;5;28;01mraise\u001b[39;00m \u001b[38;5;167;01mKeyError\u001b[39;00m(key) \u001b[38;5;28;01mfrom\u001b[39;00m \u001b[38;5;21;01merr\u001b[39;00m\n\u001b[1;32m   3805\u001b[0m \u001b[38;5;28;01mexcept\u001b[39;00m \u001b[38;5;167;01mTypeError\u001b[39;00m:\n\u001b[1;32m   3806\u001b[0m     \u001b[38;5;66;03m# If we have a listlike key, _check_indexing_error will raise\u001b[39;00m\n\u001b[1;32m   3807\u001b[0m     \u001b[38;5;66;03m#  InvalidIndexError. Otherwise we fall through and re-raise\u001b[39;00m\n\u001b[1;32m   3808\u001b[0m     \u001b[38;5;66;03m#  the TypeError.\u001b[39;00m\n\u001b[1;32m   3809\u001b[0m     \u001b[38;5;28mself\u001b[39m\u001b[38;5;241m.\u001b[39m_check_indexing_error(key)\n",
      "\u001b[0;31mKeyError\u001b[0m: 'MRT.Name'"
     ]
    }
   ],
   "source": [
    "#Apply function to dataframe and store distances in new column 'euclidean distance'\n",
    "centroid_station_combination_df['euclidean_distance'] = helper.haversine(centroid_station_combination_df['Latitude_x'], centroid_station_combination_df['Longitude_x'], centroid_station_combination_df['Latitude_y'], centroid_station_combination_df['Longitude_y'])\n",
    "#Group by residential centroid, filter out the closest MRT by distance for each centroid into another dataframe and reset its index\n",
    "result_df = centroid_station_combination_df.groupby('MRT.Name').apply(lambda group: group.nsmallest(5, 'euclidean_distance')).reset_index(drop=True)\n",
    "#result_df['MRT.Name'] = pd.merge(result_df, mrt_stations_df, left_on='index_y', right_on='index')['MRT.Name']\n",
    "#Create a new column 'coordinate_pair' to store coordinate pairs to pass to openrouteservice API direction query\n",
    "result_df['coordinate_pair'] = result_df.apply(lambda x: coordinate_pair(x['Latitude_x'], x['Longitude_x'], x['Latitude_y'], x['Longitude_y']), axis=1)\n",
    "#create an empty column 'route' to later store query response\n",
    "result_df['cycle_route'] = np.nan\n",
    "result_df['bus_route'] = np.nan"
   ]
  },
  {
   "cell_type": "code",
   "execution_count": 18,
   "metadata": {},
   "outputs": [
    {
     "name": "stdout",
     "output_type": "stream",
     "text": [
      "<class 'pandas.core.frame.DataFrame'>\n",
      "RangeIndex: 875 entries, 0 to 874\n",
      "Data columns (total 12 columns):\n",
      " #   Column              Non-Null Count  Dtype  \n",
      "---  ------              --------------  -----  \n",
      " 0   Latitude_x          875 non-null    float64\n",
      " 1   Longitude_x         875 non-null    float64\n",
      " 2   index_x             875 non-null    int64  \n",
      " 3   join_key            875 non-null    object \n",
      " 4   MRT.Name            875 non-null    object \n",
      " 5   Latitude_y          875 non-null    float64\n",
      " 6   Longitude_y         875 non-null    float64\n",
      " 7   index_y             875 non-null    int64  \n",
      " 8   euclidean_distance  875 non-null    float64\n",
      " 9   coordinate_pair     875 non-null    object \n",
      " 10  cycle_route         0 non-null      float64\n",
      " 11  bus_route           0 non-null      float64\n",
      "dtypes: float64(7), int64(2), object(3)\n",
      "memory usage: 82.2+ KB\n"
     ]
    },
    {
     "data": {
      "text/html": [
       "<div>\n",
       "<style scoped>\n",
       "    .dataframe tbody tr th:only-of-type {\n",
       "        vertical-align: middle;\n",
       "    }\n",
       "\n",
       "    .dataframe tbody tr th {\n",
       "        vertical-align: top;\n",
       "    }\n",
       "\n",
       "    .dataframe thead th {\n",
       "        text-align: right;\n",
       "    }\n",
       "</style>\n",
       "<table border=\"1\" class=\"dataframe\">\n",
       "  <thead>\n",
       "    <tr style=\"text-align: right;\">\n",
       "      <th></th>\n",
       "      <th>MRT.Name</th>\n",
       "      <th>Count</th>\n",
       "    </tr>\n",
       "  </thead>\n",
       "  <tbody>\n",
       "  </tbody>\n",
       "</table>\n",
       "</div>"
      ],
      "text/plain": [
       "Empty DataFrame\n",
       "Columns: [MRT.Name, Count]\n",
       "Index: []"
      ]
     },
     "execution_count": 18,
     "metadata": {},
     "output_type": "execute_result"
    }
   ],
   "source": [
    "result_df.info()\n",
    "\n",
    "counts = result_df.groupby('MRT.Name').size().reset_index(name='Count')\n",
    "\n",
    "counts[counts['Count'] != 5]  # sanity check"
   ]
  },
  {
   "cell_type": "code",
   "execution_count": 23,
   "metadata": {},
   "outputs": [],
   "source": [
    "one_map_email = os.getenv(\"ONE_MAP_EMAIL\")\n",
    "one_map_password = os.getenv(\"ONE_MAP_PASSWORD\")\n",
    "payload = {\n",
    "        \"email\": one_map_email,\n",
    "        \"password\": one_map_password\n",
    "      }\n",
    "api_key = requests.request(\"POST\", \"https://www.onemap.gov.sg/api/auth/post/getToken\", json=payload)\n",
    "api_key = api_key.json()[\"access_token\"]\n",
    "\n",
    "onemap = OneMap(api_key)"
   ]
  },
  {
   "cell_type": "code",
   "execution_count": 24,
   "metadata": {},
   "outputs": [],
   "source": [
    "result_df['cycle_route'] = result_df['coordinate_pair'].apply(lambda x:helper.get_cycle_route(onemap,x))"
   ]
  },
  {
   "cell_type": "code",
   "execution_count": 25,
   "metadata": {},
   "outputs": [],
   "source": [
    "result_df['distance'] = result_df['cycle_route'].apply(helper.get_distance)\n",
    "result_df['cycle_duration'] = result_df['cycle_route'].apply(helper.get_time)"
   ]
  },
  {
   "cell_type": "code",
   "execution_count": 29,
   "metadata": {},
   "outputs": [],
   "source": [
    "#result_df['centroid_name'] = result_df.apply(helper.get_centroid_name, axis=1)\n",
    "result_df['centroid_name'] = result_df.apply(lambda row: helper.get_centroid_name(onemap, row),axis=1)"
   ]
  },
  {
   "cell_type": "code",
   "execution_count": 30,
   "metadata": {},
   "outputs": [],
   "source": [
    "ors_key = os.getenv(\"ORS_API_KEY\")\n",
    "\n",
    "client = ors.Client(key= ors_key)"
   ]
  },
  {
   "cell_type": "code",
   "execution_count": 31,
   "metadata": {},
   "outputs": [
    {
     "name": "stderr",
     "output_type": "stream",
     "text": [
      "/Users/ethan/Library/Python/3.11/lib/python/site-packages/openrouteservice/client.py:211: UserWarning: Rate limit exceeded. Retrying for the 1st time.\n",
      "  warnings.warn('Rate limit exceeded. Retrying for the {0}{1} time.'.format(retry_counter + 1,\n",
      "/Users/ethan/Library/Python/3.11/lib/python/site-packages/openrouteservice/client.py:211: UserWarning: Rate limit exceeded. Retrying for the 2nd time.\n",
      "  warnings.warn('Rate limit exceeded. Retrying for the {0}{1} time.'.format(retry_counter + 1,\n",
      "/Users/ethan/Library/Python/3.11/lib/python/site-packages/openrouteservice/client.py:211: UserWarning: Rate limit exceeded. Retrying for the 3rd time.\n",
      "  warnings.warn('Rate limit exceeded. Retrying for the {0}{1} time.'.format(retry_counter + 1,\n",
      "/Users/ethan/Library/Python/3.11/lib/python/site-packages/openrouteservice/client.py:211: UserWarning: Rate limit exceeded. Retrying for the 4th time.\n",
      "  warnings.warn('Rate limit exceeded. Retrying for the {0}{1} time.'.format(retry_counter + 1,\n",
      "/Users/ethan/Library/Python/3.11/lib/python/site-packages/openrouteservice/client.py:211: UserWarning: Rate limit exceeded. Retrying for the 5th time.\n",
      "  warnings.warn('Rate limit exceeded. Retrying for the {0}{1} time.'.format(retry_counter + 1,\n"
     ]
    }
   ],
   "source": [
    "result_df['suitability'] = result_df['cycle_route'].apply(lambda x: helper.get_path_suitability(client,x))"
   ]
  },
  {
   "cell_type": "code",
   "execution_count": 32,
   "metadata": {},
   "outputs": [
    {
     "name": "stderr",
     "output_type": "stream",
     "text": [
      "/Users/ethan/Library/Python/3.11/lib/python/site-packages/openrouteservice/client.py:211: UserWarning: Rate limit exceeded. Retrying for the 1st time.\n",
      "  warnings.warn('Rate limit exceeded. Retrying for the {0}{1} time.'.format(retry_counter + 1,\n",
      "/Users/ethan/Library/Python/3.11/lib/python/site-packages/openrouteservice/client.py:211: UserWarning: Rate limit exceeded. Retrying for the 2nd time.\n",
      "  warnings.warn('Rate limit exceeded. Retrying for the {0}{1} time.'.format(retry_counter + 1,\n",
      "/Users/ethan/Library/Python/3.11/lib/python/site-packages/openrouteservice/client.py:211: UserWarning: Rate limit exceeded. Retrying for the 3rd time.\n",
      "  warnings.warn('Rate limit exceeded. Retrying for the {0}{1} time.'.format(retry_counter + 1,\n",
      "/Users/ethan/Library/Python/3.11/lib/python/site-packages/openrouteservice/client.py:211: UserWarning: Rate limit exceeded. Retrying for the 4th time.\n",
      "  warnings.warn('Rate limit exceeded. Retrying for the {0}{1} time.'.format(retry_counter + 1,\n",
      "/Users/ethan/Library/Python/3.11/lib/python/site-packages/openrouteservice/client.py:211: UserWarning: Rate limit exceeded. Retrying for the 5th time.\n",
      "  warnings.warn('Rate limit exceeded. Retrying for the {0}{1} time.'.format(retry_counter + 1,\n"
     ]
    }
   ],
   "source": [
    "result_df['steepness'] = result_df['cycle_route'].apply(lambda x: helper.get_path_steepness(client,x))"
   ]
  },
  {
   "cell_type": "code",
   "execution_count": 33,
   "metadata": {},
   "outputs": [],
   "source": [
    "#result_df[['bus_route', 'bus_duration']] = result_df.apply(lambda row: pd.Series(helper.apply_fetch_itinerary(row)), axis=1)\n",
    "#result_df['time_difference'] = result_df['cycle_duration'] - result_df['bus_duration']\n",
    "\n",
    "new_result_df = result_df.loc[:, result_df.columns != 'route']\n",
    "new_result_df.to_csv(r\"../../data/Cluster_data/five_point_Centroid_MRT pairing data.csv\")\n",
    "\n",
    "\n",
    "routes = result_df['cycle_route'].copy(deep = True)\n",
    "routes.to_json(r'../../data/Cluster_data/five_point_Centroid_MRT_cycle_routes.json', orient='records')\n",
    "\n",
    "#result_df.to_csv(r\"..\\data\\five_point_Centroid_MRT pairing data.csv\")\n"
   ]
  },
  {
   "cell_type": "markdown",
   "metadata": {},
   "source": [
    "computing bus route timings"
   ]
  },
  {
   "cell_type": "code",
   "execution_count": 35,
   "metadata": {},
   "outputs": [
    {
     "data": {
      "text/plain": [
       "Index(['Latitude_x', 'Longitude_x', 'index_x', 'join_key', 'MRT.Name',\n",
       "       'Latitude_y', 'Longitude_y', 'index_y', 'euclidean_distance',\n",
       "       'coordinate_pair', 'cycle_route', 'bus_route', 'distance',\n",
       "       'cycle_duration', 'centroid_name', 'suitability', 'steepness'],\n",
       "      dtype='object')"
      ]
     },
     "execution_count": 35,
     "metadata": {},
     "output_type": "execute_result"
    }
   ],
   "source": [
    "df = pd.read_csv(\"../../data/Cluster_data/five_point_Centroid_MRT pairing data.csv\", index_col=0)\n",
    "df.columns"
   ]
  },
  {
   "cell_type": "code",
   "execution_count": 36,
   "metadata": {},
   "outputs": [],
   "source": [
    "import requests\n",
    "import json\n",
    "\n",
    "def fetch_itinerary(from_lat, from_lon, to_lat, to_lon):\n",
    "    # Define the GraphQL endpoint\n",
    "    endpoint = 'http://localhost:8080/otp/gtfs/v1'\n",
    "    \n",
    "    # Construct the GraphQL query\n",
    "    query = \"\"\"\n",
    "    query EgQuery($time: String, $date: String, $from: InputCoordinates, $to: InputCoordinates, $numItineraries: Int, $walkReluctance: Float) {\n",
    "      plan(\n",
    "        time: $time\n",
    "        date: $date\n",
    "        from: $from\n",
    "        to: $to\n",
    "        transportModes: [\n",
    "            {\n",
    "                mode: WALK\n",
    "            },\n",
    "            {\n",
    "                mode: TRANSIT\n",
    "            },\n",
    "        ]\n",
    "        numItineraries: $numItineraries\n",
    "        walkReluctance: $walkReluctance\n",
    "      ) {\n",
    "        itineraries {\n",
    "          legs {\n",
    "                mode\n",
    "                startTime\n",
    "                endTime\n",
    "                from {\n",
    "                    name\n",
    "                    lat\n",
    "                    lon\n",
    "                    departureTime\n",
    "                    arrivalTime\n",
    "                }\n",
    "                to {\n",
    "                    name\n",
    "                    lat\n",
    "                    lon\n",
    "                    departureTime\n",
    "                    arrivalTime\n",
    "                }\n",
    "                route {\n",
    "                    gtfsId\n",
    "                    longName\n",
    "                    shortName\n",
    "                }\n",
    "                legGeometry {\n",
    "                    points\n",
    "                }\n",
    "            }\n",
    "          duration\n",
    "        }\n",
    "      }\n",
    "    }\n",
    "    \"\"\"\n",
    "\n",
    "    # Define the variables for your query\n",
    "    variables = {\n",
    "        'time': '18:00:00',\n",
    "        'date': '2023-06-01',\n",
    "        'from': {'lat': from_lat, 'lon': from_lon},\n",
    "        'to': {'lat': to_lat, 'lon': to_lon},\n",
    "        'numItineraries': 1,\n",
    "        'walkReluctance': 3.5\n",
    "    }\n",
    "\n",
    "    # Set up the headers\n",
    "    headers = {\n",
    "        'Content-Type': 'application/json'\n",
    "    }\n",
    "\n",
    "    # Send the request to the GraphQL API\n",
    "    response = requests.post(endpoint, headers=headers, json={'query': query, 'variables': variables})\n",
    "\n",
    "    # Check if the request was successful\n",
    "    if response.status_code == 200:\n",
    "        return response.json()\n",
    "    else:\n",
    "        raise Exception(f\"GraphQL query failed to run with a {response.status_code}\")\n",
    "\n"
   ]
  },
  {
   "cell_type": "code",
   "execution_count": 37,
   "metadata": {},
   "outputs": [],
   "source": [
    "def apply_fetch_itinerary(row):\n",
    "    try:\n",
    "        response = fetch_itinerary(\n",
    "            from_lat=row['Latitude_x'], \n",
    "            from_lon=row['Longitude_x'], \n",
    "            to_lat=row['Latitude_y'], \n",
    "            to_lon=row['Longitude_y']\n",
    "        )\n",
    "        bus_route = []\n",
    "        # Extract relevant information from response\n",
    "        if response and 'data' in response and 'plan' in response['data'] and 'itineraries' in response['data']['plan']:\n",
    "            itinerary = response['data']['plan']['itineraries'][0]  # Taking the first itinerary\n",
    "            duration = itinerary['duration'] if 'duration' in itinerary else None\n",
    "            for leg in itinerary['legs']:\n",
    "                # if leg['mode'] == 'BUS':\n",
    "                    # Append bus route information for each bus leg\n",
    "                from_stop = leg['from']['name']\n",
    "                to_stop = leg['to']['name']\n",
    "                bus_route.append(f\"{from_stop} to {to_stop}\")\n",
    "                #bus_route.append(leg['route']['shortName'])\n",
    "                #bus_route.append(f\"{leg['legGeometry']['points']}\")\n",
    "            # Further extraction can be done based on the structure of your response\n",
    "            return bus_route, duration/60  # Convert seconds to minutes\n",
    "        else:\n",
    "            return None, None\n",
    "    except Exception as e:\n",
    "        print(f\"Error fetching itinerary: {e}\")\n",
    "        return None, None\n",
    "\n",
    "# Apply the function to each row of the DataFrame\n",
    "df[['bus_route', 'bus_duration']] = df.apply(lambda row: pd.Series(apply_fetch_itinerary(row)), axis=1)\n",
    "df['time_difference'] = df['cycle_duration'] - df['bus_duration']\n"
   ]
  },
  {
   "cell_type": "code",
   "execution_count": 38,
   "metadata": {},
   "outputs": [],
   "source": [
    "df.to_csv(r\"../../data/Cluster_data/five_point_Centroid_MRT pairing data.csv.csv\")"
   ]
  }
 ],
 "metadata": {
  "kernelspec": {
   "display_name": "Python 3",
   "language": "python",
   "name": "python3"
  },
  "language_info": {
   "codemirror_mode": {
    "name": "ipython",
    "version": 3
   },
   "file_extension": ".py",
   "mimetype": "text/x-python",
   "name": "python",
   "nbconvert_exporter": "python",
   "pygments_lexer": "ipython3",
   "version": "3.11.4"
  }
 },
 "nbformat": 4,
 "nbformat_minor": 2
}
