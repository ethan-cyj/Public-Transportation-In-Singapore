{
 "cells": [
  {
   "cell_type": "code",
   "execution_count": 47,
   "metadata": {},
   "outputs": [],
   "source": [
    "import pandas as pd\n",
    "import numpy as np\n",
    "import openrouteservice as ors\n",
    "from dotenv import load_dotenv\n",
    "from pyonemap import OneMap\n",
    "import os\n",
    "import requests\n",
    "import json\n",
    "import time\n",
    "from collections import namedtuple"
   ]
  },
  {
   "cell_type": "code",
   "execution_count": 5,
   "metadata": {},
   "outputs": [
    {
     "data": {
      "text/plain": [
       "True"
      ]
     },
     "execution_count": 5,
     "metadata": {},
     "output_type": "execute_result"
    }
   ],
   "source": [
    "load_dotenv()"
   ]
  },
  {
   "cell_type": "code",
   "execution_count": 3,
   "metadata": {},
   "outputs": [],
   "source": [
    "# ors_key = os.getenv(\"ORS_API_KEY\")\n",
    "\n",
    "# client = ors.Client(key= ors_key)"
   ]
  },
  {
   "cell_type": "code",
   "execution_count": 6,
   "metadata": {},
   "outputs": [],
   "source": [
    "directory = os.getcwd()\n",
    "\n",
    "os.chdir(directory)\n",
    "\n",
    "hdbCentroids_df = pd.read_csv(r\"..\\data\\hdb_cluster_centroids.csv\",header = None,names = ['Latitude','Longitude'])\n",
    "mrt_stations_df = pd.read_csv(r\"..\\data\\mrt_station_final.csv\",usecols = [1,2,3])"
   ]
  },
  {
   "cell_type": "code",
   "execution_count": 7,
   "metadata": {},
   "outputs": [
    {
     "name": "stdout",
     "output_type": "stream",
     "text": [
      "<class 'pandas.core.frame.DataFrame'>\n",
      "RangeIndex: 275 entries, 0 to 274\n",
      "Data columns (total 2 columns):\n",
      " #   Column     Non-Null Count  Dtype  \n",
      "---  ------     --------------  -----  \n",
      " 0   Latitude   275 non-null    float64\n",
      " 1   Longitude  275 non-null    float64\n",
      "dtypes: float64(2)\n",
      "memory usage: 4.4 KB\n",
      "<class 'pandas.core.frame.DataFrame'>\n",
      "RangeIndex: 175 entries, 0 to 174\n",
      "Data columns (total 3 columns):\n",
      " #   Column     Non-Null Count  Dtype  \n",
      "---  ------     --------------  -----  \n",
      " 0   MRT.Name   175 non-null    object \n",
      " 1   Latitude   175 non-null    float64\n",
      " 2   Longitude  175 non-null    float64\n",
      "dtypes: float64(2), object(1)\n",
      "memory usage: 4.2+ KB\n"
     ]
    }
   ],
   "source": [
    "hdbCentroids_df.info()\n",
    "mrt_stations_df.info()"
   ]
  },
  {
   "cell_type": "code",
   "execution_count": 16,
   "metadata": {},
   "outputs": [
    {
     "data": {
      "text/html": [
       "<div>\n",
       "<style scoped>\n",
       "    .dataframe tbody tr th:only-of-type {\n",
       "        vertical-align: middle;\n",
       "    }\n",
       "\n",
       "    .dataframe tbody tr th {\n",
       "        vertical-align: top;\n",
       "    }\n",
       "\n",
       "    .dataframe thead th {\n",
       "        text-align: right;\n",
       "    }\n",
       "</style>\n",
       "<table border=\"1\" class=\"dataframe\">\n",
       "  <thead>\n",
       "    <tr style=\"text-align: right;\">\n",
       "      <th></th>\n",
       "      <th>MRT.Name</th>\n",
       "      <th>Latitude</th>\n",
       "      <th>Longitude</th>\n",
       "      <th>index</th>\n",
       "      <th>join_key</th>\n",
       "    </tr>\n",
       "  </thead>\n",
       "  <tbody>\n",
       "    <tr>\n",
       "      <th>0</th>\n",
       "      <td>ADMIRALTY MRT STATION</td>\n",
       "      <td>1.440589</td>\n",
       "      <td>103.800990</td>\n",
       "      <td>12</td>\n",
       "      <td>A</td>\n",
       "    </tr>\n",
       "    <tr>\n",
       "      <th>1</th>\n",
       "      <td>ALJUNIED MRT STATION</td>\n",
       "      <td>1.316433</td>\n",
       "      <td>103.882906</td>\n",
       "      <td>9</td>\n",
       "      <td>A</td>\n",
       "    </tr>\n",
       "    <tr>\n",
       "      <th>2</th>\n",
       "      <td>ANG MO KIO MRT STATION</td>\n",
       "      <td>1.369429</td>\n",
       "      <td>103.849455</td>\n",
       "      <td>52</td>\n",
       "      <td>A</td>\n",
       "    </tr>\n",
       "    <tr>\n",
       "      <th>3</th>\n",
       "      <td>BAKAU LRT STATION</td>\n",
       "      <td>1.387994</td>\n",
       "      <td>103.905415</td>\n",
       "      <td>115</td>\n",
       "      <td>A</td>\n",
       "    </tr>\n",
       "    <tr>\n",
       "      <th>4</th>\n",
       "      <td>BANGKIT LRT STATION</td>\n",
       "      <td>1.380022</td>\n",
       "      <td>103.772647</td>\n",
       "      <td>54</td>\n",
       "      <td>A</td>\n",
       "    </tr>\n",
       "  </tbody>\n",
       "</table>\n",
       "</div>"
      ],
      "text/plain": [
       "                 MRT.Name  Latitude   Longitude  index join_key\n",
       "0   ADMIRALTY MRT STATION  1.440589  103.800990     12        A\n",
       "1    ALJUNIED MRT STATION  1.316433  103.882906      9        A\n",
       "2  ANG MO KIO MRT STATION  1.369429  103.849455     52        A\n",
       "3       BAKAU LRT STATION  1.387994  103.905415    115        A\n",
       "4     BANGKIT LRT STATION  1.380022  103.772647     54        A"
      ]
     },
     "execution_count": 16,
     "metadata": {},
     "output_type": "execute_result"
    }
   ],
   "source": [
    "mrt_stations_df.sort_values(by='MRT.Name', inplace=True)\n",
    "\n",
    "mrt_stations_df.reset_index(drop = True,inplace=True)\n",
    "\n",
    "mrt_stations_df.head()"
   ]
  },
  {
   "cell_type": "code",
   "execution_count": 18,
   "metadata": {},
   "outputs": [
    {
     "name": "stdout",
     "output_type": "stream",
     "text": [
      "   Latitude_x  Longitude_x  index_x join_key               MRT.Name  \\\n",
      "0    1.432477   103.791322        0        A  ADMIRALTY MRT STATION   \n",
      "\n",
      "   Latitude_y  Longitude_y  index_y  \n",
      "0    1.440589    103.80099       12  \n",
      "<class 'pandas.core.frame.DataFrame'>\n",
      "RangeIndex: 48125 entries, 0 to 48124\n",
      "Data columns (total 8 columns):\n",
      " #   Column       Non-Null Count  Dtype  \n",
      "---  ------       --------------  -----  \n",
      " 0   Latitude_x   48125 non-null  float64\n",
      " 1   Longitude_x  48125 non-null  float64\n",
      " 2   index_x      48125 non-null  int64  \n",
      " 3   join_key     48125 non-null  object \n",
      " 4   MRT.Name     48125 non-null  object \n",
      " 5   Latitude_y   48125 non-null  float64\n",
      " 6   Longitude_y  48125 non-null  float64\n",
      " 7   index_y      48125 non-null  int64  \n",
      "dtypes: float64(4), int64(2), object(2)\n",
      "memory usage: 2.9+ MB\n"
     ]
    }
   ],
   "source": [
    "#create a psuedo index for my residential centroids df\n",
    "hdbCentroids_df['index'] = hdbCentroids_df.index\n",
    "\n",
    "hdbCentroids_df['index']\n",
    "\n",
    "##create a dummy variable to cross join on \n",
    "hdbCentroids_df['join_key'] = \"A\"\n",
    "mrt_stations_df['join_key'] = \"A\"\n",
    "\n",
    "#Cross join to obtain combinations of all possible pairings between MRTs and Residential Centroids\n",
    "combined_df = pd.merge(hdbCentroids_df, mrt_stations_df, on='join_key')\n",
    "\n",
    "print(combined_df.head(1))\n",
    "\n",
    "combined_df.info()"
   ]
  },
  {
   "cell_type": "code",
   "execution_count": 19,
   "metadata": {},
   "outputs": [],
   "source": [
    "#Defining a function that calculates the Euclidean Distance between two points using Haversine Method?\n",
    "def haversine(lat1, lon1, lat2, lon2):\n",
    "    R = 6371.0  # Earth radius in kilometers\n",
    "\n",
    "    lat1 = np.radians(lat1)\n",
    "    lon1 = np.radians(lon1)\n",
    "    lat2 = np.radians(lat2)\n",
    "    lon2 = np.radians(lon2)\n",
    "\n",
    "    dlat = lat2 - lat1\n",
    "    dlon = lon2 - lon1\n",
    "\n",
    "    a = np.sin(dlat / 2)**2 + np.cos(lat1) * np.cos(lat2) * np.sin(dlon / 2)**2\n",
    "    c = 2 * np.arcsin(np.sqrt(a))\n",
    "\n",
    "    distance = R * c\n",
    "    return distance"
   ]
  },
  {
   "cell_type": "code",
   "execution_count": 49,
   "metadata": {},
   "outputs": [],
   "source": [
    "coordinate_pair = namedtuple('coordinate_pair',['lat_x','lon_x','lat_y','lon_y'])"
   ]
  },
  {
   "cell_type": "code",
   "execution_count": 50,
   "metadata": {},
   "outputs": [
    {
     "name": "stdout",
     "output_type": "stream",
     "text": [
      "<class 'pandas.core.frame.DataFrame'>\n",
      "RangeIndex: 875 entries, 0 to 874\n",
      "Data columns (total 11 columns):\n",
      " #   Column              Non-Null Count  Dtype  \n",
      "---  ------              --------------  -----  \n",
      " 0   Latitude_x          875 non-null    float64\n",
      " 1   Longitude_x         875 non-null    float64\n",
      " 2   index_x             875 non-null    int64  \n",
      " 3   join_key            875 non-null    object \n",
      " 4   Latitude_y          875 non-null    float64\n",
      " 5   Longitude_y         875 non-null    float64\n",
      " 6   index_y             875 non-null    int64  \n",
      " 7   euclidean_distance  875 non-null    float64\n",
      " 8   MRT_Name            875 non-null    object \n",
      " 9   coordinate_pair     875 non-null    object \n",
      " 10  route               0 non-null      float64\n",
      "dtypes: float64(6), int64(2), object(3)\n",
      "memory usage: 75.3+ KB\n"
     ]
    }
   ],
   "source": [
    "#Apply function to dataframe and store distances in new column 'euclidean distance'\n",
    "combined_df['euclidean_distance'] = haversine(combined_df['Latitude_x'], combined_df['Longitude_x'], combined_df['Latitude_y'], combined_df['Longitude_y'])\n",
    "\n",
    "result_df = combined_df.groupby('MRT.Name').apply(lambda group: group.nsmallest(5, 'euclidean_distance'),include_groups = False).reset_index(drop=True)\n",
    "\n",
    "result_df['MRT_Name'] = pd.merge(result_df, mrt_stations_df, left_on='index_y', right_on='index')['MRT.Name']\n",
    "\n",
    "result_df['coordinate_pair'] = result_df.apply(lambda x: coordinate_pair(x['Latitude_x'], x['Longitude_x'], x['Latitude_y'], x['Longitude_y']), axis=1)\n",
    "\n",
    "# #Create a new column 'coordinate_pair' to store coordinate pairs to pass to openrouteservice API direction query\n",
    "# result_df['coordinate_pair'] = list(zip(result_df['Longitude_x'], result_df['Latitude_x'], result_df['Longitude_y'], result_df['Latitude_y']))\n",
    "# result_df['coordinate_pair'] = result_df['coordinate_pair'].apply(lambda x: [[x[0], x[1]], [x[2], x[3]]])\n",
    "\n",
    "\n",
    "#create an empty column 'route' to later store query response\n",
    "result_df['route'] = np.nan\n",
    "\n",
    "result_df.info()"
   ]
  },
  {
   "cell_type": "code",
   "execution_count": 10,
   "metadata": {},
   "outputs": [],
   "source": [
    "# #Apply function to dataframe and store distances in new column 'euclidean distance'\n",
    "# combined_df['euclidean_distance'] = haversine(combined_df['Latitude_x'], combined_df['Longitude_x'], combined_df['Latitude_y'], combined_df['Longitude_y'])\n",
    "\n",
    "# #Group by residential centroid, filter out the closest MRT by distance for each centroid into another dataframe and reset its index\n",
    "# result_df = combined_df.loc[combined_df.groupby('index_x')['euclidean_distance'].idxmin()].reset_index()\n",
    "\n",
    "# result_df\n",
    "\n",
    "# #Create a new column 'coordinate_pair' to store coordinate pairs to pass to openrouteservice API direction query\n",
    "# result_df['coordinate_pair'] = list(zip(result_df['Longitude_x'], result_df['Latitude_x'], result_df['Longitude_y'], result_df['Latitude_y']))\n",
    "# result_df['coordinate_pair'] = result_df['coordinate_pair'].apply(lambda x: [[x[0], x[1]], [x[2], x[3]]])\n",
    "\n",
    "\n",
    "# #create an empty column 'route' to later store query response\n",
    "# result_df['route'] = np.nan"
   ]
  },
  {
   "cell_type": "code",
   "execution_count": 28,
   "metadata": {},
   "outputs": [],
   "source": [
    "one_map_email = os.getenv(\"ONE_MAP_EMAIL\")\n",
    "one_map_password = os.getenv(\"ONE_MAP_PASSWORD\")\n",
    "payload = {\n",
    "        \"email\": one_map_email,\n",
    "        \"password\": one_map_password\n",
    "      }\n",
    "api_key = requests.request(\"POST\", \"https://www.onemap.gov.sg/api/auth/post/getToken\", json=payload)\n",
    "api_key = api_key.json()[\"access_token\"]"
   ]
  },
  {
   "cell_type": "code",
   "execution_count": 29,
   "metadata": {},
   "outputs": [],
   "source": [
    "onemap = OneMap(api_key)"
   ]
  },
  {
   "cell_type": "code",
   "execution_count": 55,
   "metadata": {},
   "outputs": [],
   "source": [
    "route = onemap.routing.route(start_lat=lat_x, start_lon=lon_x, end_lat=lat_y, end_lon=lon_y, routeType=\"cycle\")"
   ]
  },
  {
   "cell_type": "code",
   "execution_count": 57,
   "metadata": {},
   "outputs": [],
   "source": [
    "def get_route(coordinate_pair):\n",
    "    time.sleep(1)\n",
    "    try:\n",
    "        return onemap.routing.route(start_lat=coordinate_pair.lat_x, \n",
    "                                    start_lon=coordinate_pair.lon_x, \n",
    "                                    end_lat=coordinate_pair.lat_y, \n",
    "                                    end_lon=coordinate_pair.lon_y, \n",
    "                                    routeType=\"cycle\")\n",
    "    except Exception as e:\n",
    "        print(f\"Error: {e}\")\n",
    "        return None"
   ]
  },
  {
   "cell_type": "code",
   "execution_count": 58,
   "metadata": {},
   "outputs": [],
   "source": [
    "result_df['route'] = result_df['coordinate_pair'].apply(get_route)"
   ]
  },
  {
   "cell_type": "code",
   "execution_count": 67,
   "metadata": {},
   "outputs": [],
   "source": [
    "def get_distance(route):\n",
    "    try:\n",
    "        return route['route_summary']['total_distance']/1000 #convert m to km\n",
    "    except (KeyError, IndexError,TypeError) as e:\n",
    "        print(f\"Error: {e}\")\n",
    "        return None\n",
    "\n",
    "result_df['distance'] = result_df['route'].apply(get_distance)\n",
    "\n",
    "def get_time(route):\n",
    "    try:\n",
    "        return route['route_summary']['total_time']/60 #convert second to minutes\n",
    "    except (KeyError, IndexError,TypeError) as e:\n",
    "        print(f\"Error: {e}\")\n",
    "        return None\n",
    "    \n",
    "\n",
    "result_df['duration'] = result_df['route'].apply(get_time)"
   ]
  },
  {
   "cell_type": "code",
   "execution_count": 68,
   "metadata": {},
   "outputs": [
    {
     "data": {
      "text/html": [
       "<div>\n",
       "<style scoped>\n",
       "    .dataframe tbody tr th:only-of-type {\n",
       "        vertical-align: middle;\n",
       "    }\n",
       "\n",
       "    .dataframe tbody tr th {\n",
       "        vertical-align: top;\n",
       "    }\n",
       "\n",
       "    .dataframe thead th {\n",
       "        text-align: right;\n",
       "    }\n",
       "</style>\n",
       "<table border=\"1\" class=\"dataframe\">\n",
       "  <thead>\n",
       "    <tr style=\"text-align: right;\">\n",
       "      <th></th>\n",
       "      <th>Latitude_x</th>\n",
       "      <th>Longitude_x</th>\n",
       "      <th>index_x</th>\n",
       "      <th>join_key</th>\n",
       "      <th>Latitude_y</th>\n",
       "      <th>Longitude_y</th>\n",
       "      <th>index_y</th>\n",
       "      <th>euclidean_distance</th>\n",
       "      <th>MRT_Name</th>\n",
       "      <th>coordinate_pair</th>\n",
       "      <th>route</th>\n",
       "      <th>distance</th>\n",
       "      <th>duration</th>\n",
       "    </tr>\n",
       "  </thead>\n",
       "  <tbody>\n",
       "    <tr>\n",
       "      <th>0</th>\n",
       "      <td>1.438808</td>\n",
       "      <td>103.803051</td>\n",
       "      <td>246</td>\n",
       "      <td>A</td>\n",
       "      <td>1.440589</td>\n",
       "      <td>103.800990</td>\n",
       "      <td>12</td>\n",
       "      <td>0.302808</td>\n",
       "      <td>ADMIRALTY MRT STATION</td>\n",
       "      <td>(1.4388077562480677, 103.80305139967076, 1.440...</td>\n",
       "      <td>{'status_message': 'Found route between points...</td>\n",
       "      <td>0.436</td>\n",
       "      <td>3.066667</td>\n",
       "    </tr>\n",
       "    <tr>\n",
       "      <th>1</th>\n",
       "      <td>1.443728</td>\n",
       "      <td>103.801325</td>\n",
       "      <td>204</td>\n",
       "      <td>A</td>\n",
       "      <td>1.440589</td>\n",
       "      <td>103.800990</td>\n",
       "      <td>12</td>\n",
       "      <td>0.351037</td>\n",
       "      <td>ADMIRALTY MRT STATION</td>\n",
       "      <td>(1.4437277903544683, 103.80132464715813, 1.440...</td>\n",
       "      <td>{'status_message': 'Found route between points...</td>\n",
       "      <td>1.135</td>\n",
       "      <td>7.216667</td>\n",
       "    </tr>\n",
       "    <tr>\n",
       "      <th>2</th>\n",
       "      <td>1.440682</td>\n",
       "      <td>103.797733</td>\n",
       "      <td>32</td>\n",
       "      <td>A</td>\n",
       "      <td>1.440589</td>\n",
       "      <td>103.800990</td>\n",
       "      <td>12</td>\n",
       "      <td>0.362213</td>\n",
       "      <td>ADMIRALTY MRT STATION</td>\n",
       "      <td>(1.440681641599151, 103.79773334236516, 1.4405...</td>\n",
       "      <td>{'status_message': 'Found route between points...</td>\n",
       "      <td>0.414</td>\n",
       "      <td>2.983333</td>\n",
       "    </tr>\n",
       "    <tr>\n",
       "      <th>3</th>\n",
       "      <td>1.435566</td>\n",
       "      <td>103.798470</td>\n",
       "      <td>123</td>\n",
       "      <td>A</td>\n",
       "      <td>1.440589</td>\n",
       "      <td>103.800990</td>\n",
       "      <td>12</td>\n",
       "      <td>0.624828</td>\n",
       "      <td>ADMIRALTY MRT STATION</td>\n",
       "      <td>(1.435566123626416, 103.7984696563486, 1.44058...</td>\n",
       "      <td>{'status_message': 'Found route between points...</td>\n",
       "      <td>1.422</td>\n",
       "      <td>8.900000</td>\n",
       "    </tr>\n",
       "    <tr>\n",
       "      <th>4</th>\n",
       "      <td>1.443142</td>\n",
       "      <td>103.806937</td>\n",
       "      <td>104</td>\n",
       "      <td>A</td>\n",
       "      <td>1.440589</td>\n",
       "      <td>103.800990</td>\n",
       "      <td>12</td>\n",
       "      <td>0.719359</td>\n",
       "      <td>ADMIRALTY MRT STATION</td>\n",
       "      <td>(1.4431417600860352, 103.80693659397264, 1.440...</td>\n",
       "      <td>{'status_message': 'Found route between points...</td>\n",
       "      <td>0.910</td>\n",
       "      <td>6.883333</td>\n",
       "    </tr>\n",
       "    <tr>\n",
       "      <th>...</th>\n",
       "      <td>...</td>\n",
       "      <td>...</td>\n",
       "      <td>...</td>\n",
       "      <td>...</td>\n",
       "      <td>...</td>\n",
       "      <td>...</td>\n",
       "      <td>...</td>\n",
       "      <td>...</td>\n",
       "      <td>...</td>\n",
       "      <td>...</td>\n",
       "      <td>...</td>\n",
       "      <td>...</td>\n",
       "      <td>...</td>\n",
       "    </tr>\n",
       "    <tr>\n",
       "      <th>870</th>\n",
       "      <td>1.430078</td>\n",
       "      <td>103.835246</td>\n",
       "      <td>187</td>\n",
       "      <td>A</td>\n",
       "      <td>1.429443</td>\n",
       "      <td>103.835005</td>\n",
       "      <td>78</td>\n",
       "      <td>0.075484</td>\n",
       "      <td>YISHUN MRT STATION</td>\n",
       "      <td>(1.4300775839166504, 103.835246410066, 1.42944...</td>\n",
       "      <td>{'status_message': 'Found route between points...</td>\n",
       "      <td>0.257</td>\n",
       "      <td>2.166667</td>\n",
       "    </tr>\n",
       "    <tr>\n",
       "      <th>871</th>\n",
       "      <td>1.427784</td>\n",
       "      <td>103.829635</td>\n",
       "      <td>234</td>\n",
       "      <td>A</td>\n",
       "      <td>1.429443</td>\n",
       "      <td>103.835005</td>\n",
       "      <td>78</td>\n",
       "      <td>0.624787</td>\n",
       "      <td>YISHUN MRT STATION</td>\n",
       "      <td>(1.42778398503801, 103.82963501492203, 1.42944...</td>\n",
       "      <td>{'status_message': 'Found route between points...</td>\n",
       "      <td>1.200</td>\n",
       "      <td>8.533333</td>\n",
       "    </tr>\n",
       "    <tr>\n",
       "      <th>872</th>\n",
       "      <td>1.433466</td>\n",
       "      <td>103.830143</td>\n",
       "      <td>38</td>\n",
       "      <td>A</td>\n",
       "      <td>1.429443</td>\n",
       "      <td>103.835005</td>\n",
       "      <td>78</td>\n",
       "      <td>0.701545</td>\n",
       "      <td>YISHUN MRT STATION</td>\n",
       "      <td>(1.4334656524684517, 103.8301430011276, 1.4294...</td>\n",
       "      <td>{'status_message': 'Found route between points...</td>\n",
       "      <td>1.745</td>\n",
       "      <td>11.333333</td>\n",
       "    </tr>\n",
       "    <tr>\n",
       "      <th>873</th>\n",
       "      <td>1.421933</td>\n",
       "      <td>103.834261</td>\n",
       "      <td>141</td>\n",
       "      <td>A</td>\n",
       "      <td>1.429443</td>\n",
       "      <td>103.835005</td>\n",
       "      <td>78</td>\n",
       "      <td>0.839180</td>\n",
       "      <td>YISHUN MRT STATION</td>\n",
       "      <td>(1.4219328516149332, 103.8342614561949, 1.4294...</td>\n",
       "      <td>{'status_message': 'Found route between points...</td>\n",
       "      <td>1.311</td>\n",
       "      <td>9.350000</td>\n",
       "    </tr>\n",
       "    <tr>\n",
       "      <th>874</th>\n",
       "      <td>1.433474</td>\n",
       "      <td>103.841482</td>\n",
       "      <td>257</td>\n",
       "      <td>A</td>\n",
       "      <td>1.429443</td>\n",
       "      <td>103.835005</td>\n",
       "      <td>78</td>\n",
       "      <td>0.848060</td>\n",
       "      <td>YISHUN MRT STATION</td>\n",
       "      <td>(1.4334740350089952, 103.84148152916804, 1.429...</td>\n",
       "      <td>{'status_message': 'Found route between points...</td>\n",
       "      <td>2.916</td>\n",
       "      <td>18.333333</td>\n",
       "    </tr>\n",
       "  </tbody>\n",
       "</table>\n",
       "<p>875 rows × 13 columns</p>\n",
       "</div>"
      ],
      "text/plain": [
       "     Latitude_x  Longitude_x  index_x join_key  Latitude_y  Longitude_y  \\\n",
       "0      1.438808   103.803051      246        A    1.440589   103.800990   \n",
       "1      1.443728   103.801325      204        A    1.440589   103.800990   \n",
       "2      1.440682   103.797733       32        A    1.440589   103.800990   \n",
       "3      1.435566   103.798470      123        A    1.440589   103.800990   \n",
       "4      1.443142   103.806937      104        A    1.440589   103.800990   \n",
       "..          ...          ...      ...      ...         ...          ...   \n",
       "870    1.430078   103.835246      187        A    1.429443   103.835005   \n",
       "871    1.427784   103.829635      234        A    1.429443   103.835005   \n",
       "872    1.433466   103.830143       38        A    1.429443   103.835005   \n",
       "873    1.421933   103.834261      141        A    1.429443   103.835005   \n",
       "874    1.433474   103.841482      257        A    1.429443   103.835005   \n",
       "\n",
       "     index_y  euclidean_distance               MRT_Name  \\\n",
       "0         12            0.302808  ADMIRALTY MRT STATION   \n",
       "1         12            0.351037  ADMIRALTY MRT STATION   \n",
       "2         12            0.362213  ADMIRALTY MRT STATION   \n",
       "3         12            0.624828  ADMIRALTY MRT STATION   \n",
       "4         12            0.719359  ADMIRALTY MRT STATION   \n",
       "..       ...                 ...                    ...   \n",
       "870       78            0.075484     YISHUN MRT STATION   \n",
       "871       78            0.624787     YISHUN MRT STATION   \n",
       "872       78            0.701545     YISHUN MRT STATION   \n",
       "873       78            0.839180     YISHUN MRT STATION   \n",
       "874       78            0.848060     YISHUN MRT STATION   \n",
       "\n",
       "                                       coordinate_pair  \\\n",
       "0    (1.4388077562480677, 103.80305139967076, 1.440...   \n",
       "1    (1.4437277903544683, 103.80132464715813, 1.440...   \n",
       "2    (1.440681641599151, 103.79773334236516, 1.4405...   \n",
       "3    (1.435566123626416, 103.7984696563486, 1.44058...   \n",
       "4    (1.4431417600860352, 103.80693659397264, 1.440...   \n",
       "..                                                 ...   \n",
       "870  (1.4300775839166504, 103.835246410066, 1.42944...   \n",
       "871  (1.42778398503801, 103.82963501492203, 1.42944...   \n",
       "872  (1.4334656524684517, 103.8301430011276, 1.4294...   \n",
       "873  (1.4219328516149332, 103.8342614561949, 1.4294...   \n",
       "874  (1.4334740350089952, 103.84148152916804, 1.429...   \n",
       "\n",
       "                                                 route  distance   duration  \n",
       "0    {'status_message': 'Found route between points...     0.436   3.066667  \n",
       "1    {'status_message': 'Found route between points...     1.135   7.216667  \n",
       "2    {'status_message': 'Found route between points...     0.414   2.983333  \n",
       "3    {'status_message': 'Found route between points...     1.422   8.900000  \n",
       "4    {'status_message': 'Found route between points...     0.910   6.883333  \n",
       "..                                                 ...       ...        ...  \n",
       "870  {'status_message': 'Found route between points...     0.257   2.166667  \n",
       "871  {'status_message': 'Found route between points...     1.200   8.533333  \n",
       "872  {'status_message': 'Found route between points...     1.745  11.333333  \n",
       "873  {'status_message': 'Found route between points...     1.311   9.350000  \n",
       "874  {'status_message': 'Found route between points...     2.916  18.333333  \n",
       "\n",
       "[875 rows x 13 columns]"
      ]
     },
     "execution_count": 68,
     "metadata": {},
     "output_type": "execute_result"
    }
   ],
   "source": [
    "result_df"
   ]
  },
  {
   "cell_type": "code",
   "execution_count": 70,
   "metadata": {},
   "outputs": [],
   "source": [
    "def get_centroid_name(row):\n",
    "    geocode = onemap.reverseGeocode.revGeoCode(row['Latitude_x'], row['Longitude_x'])\n",
    "    if geocode['GeocodeInfo'][0]['BUILDINGNAME'] != \"NIL\":\n",
    "        return geocode['GeocodeInfo'][0]['BUILDINGNAME']\n",
    "    else:\n",
    "        if geocode['GeocodeInfo'][0]['BLOCK'] != \"NIL\":\n",
    "            return geocode['GeocodeInfo'][0]['BLOCK'] + \" \" + geocode['GeocodeInfo'][0]['ROAD']\n",
    "        else:\n",
    "            return geocode['GeocodeInfo'][0]['ROAD']"
   ]
  },
  {
   "cell_type": "code",
   "execution_count": 71,
   "metadata": {},
   "outputs": [],
   "source": [
    "result_df['centroid_name'] = result_df.apply(get_centroid_name, axis=1)"
   ]
  },
  {
   "cell_type": "code",
   "execution_count": 73,
   "metadata": {},
   "outputs": [],
   "source": [
    "new_result_df = result_df. loc[:, result_df. columns != 'route']\n",
    "new_result_df.to_csv(r\"..\\data\\HDB_Centroid_MRT pairing data_5_cluster.csv\")\n",
    "routes = result_df['route'].copy(deep = True)\n",
    "routes.to_json(r'..\\data\\HDB_MRT_routes_5_cluster.json', orient='records')"
   ]
  },
  {
   "cell_type": "code",
   "execution_count": 74,
   "metadata": {},
   "outputs": [
    {
     "data": {
      "text/html": [
       "<div>\n",
       "<style scoped>\n",
       "    .dataframe tbody tr th:only-of-type {\n",
       "        vertical-align: middle;\n",
       "    }\n",
       "\n",
       "    .dataframe tbody tr th {\n",
       "        vertical-align: top;\n",
       "    }\n",
       "\n",
       "    .dataframe thead th {\n",
       "        text-align: right;\n",
       "    }\n",
       "</style>\n",
       "<table border=\"1\" class=\"dataframe\">\n",
       "  <thead>\n",
       "    <tr style=\"text-align: right;\">\n",
       "      <th></th>\n",
       "      <th>Latitude_x</th>\n",
       "      <th>Longitude_x</th>\n",
       "      <th>index_x</th>\n",
       "      <th>join_key</th>\n",
       "      <th>Latitude_y</th>\n",
       "      <th>Longitude_y</th>\n",
       "      <th>index_y</th>\n",
       "      <th>euclidean_distance</th>\n",
       "      <th>MRT_Name</th>\n",
       "      <th>coordinate_pair</th>\n",
       "      <th>route</th>\n",
       "      <th>distance</th>\n",
       "      <th>duration</th>\n",
       "      <th>centroid_name</th>\n",
       "    </tr>\n",
       "  </thead>\n",
       "  <tbody>\n",
       "  </tbody>\n",
       "</table>\n",
       "</div>"
      ],
      "text/plain": [
       "Empty DataFrame\n",
       "Columns: [Latitude_x, Longitude_x, index_x, join_key, Latitude_y, Longitude_y, index_y, euclidean_distance, MRT_Name, coordinate_pair, route, distance, duration, centroid_name]\n",
       "Index: []"
      ]
     },
     "execution_count": 74,
     "metadata": {},
     "output_type": "execute_result"
    }
   ],
   "source": [
    "result_df[result_df['route'].isna()]"
   ]
  },
  {
   "cell_type": "code",
   "execution_count": 75,
   "metadata": {},
   "outputs": [
    {
     "name": "stdout",
     "output_type": "stream",
     "text": [
      "<class 'pandas.core.frame.DataFrame'>\n",
      "RangeIndex: 875 entries, 0 to 874\n",
      "Data columns (total 14 columns):\n",
      " #   Column              Non-Null Count  Dtype  \n",
      "---  ------              --------------  -----  \n",
      " 0   Latitude_x          875 non-null    float64\n",
      " 1   Longitude_x         875 non-null    float64\n",
      " 2   index_x             875 non-null    int64  \n",
      " 3   join_key            875 non-null    object \n",
      " 4   Latitude_y          875 non-null    float64\n",
      " 5   Longitude_y         875 non-null    float64\n",
      " 6   index_y             875 non-null    int64  \n",
      " 7   euclidean_distance  875 non-null    float64\n",
      " 8   MRT_Name            875 non-null    object \n",
      " 9   coordinate_pair     875 non-null    object \n",
      " 10  route               875 non-null    object \n",
      " 11  distance            875 non-null    float64\n",
      " 12  duration            875 non-null    float64\n",
      " 13  centroid_name       875 non-null    object \n",
      "dtypes: float64(7), int64(2), object(5)\n",
      "memory usage: 95.8+ KB\n"
     ]
    }
   ],
   "source": [
    "result_df.info()"
   ]
  },
  {
   "cell_type": "code",
   "execution_count": 61,
   "metadata": {},
   "outputs": [
    {
     "data": {
      "text/plain": [
       "'o_xGa`qxRCBYJmEzAmBn@HXC@yAf@k@ZMEAB??FFDBjAfD'"
      ]
     },
     "execution_count": 61,
     "metadata": {},
     "output_type": "execute_result"
    }
   ],
   "source": [
    "route['route_geometry']"
   ]
  },
  {
   "cell_type": "code",
   "execution_count": 64,
   "metadata": {},
   "outputs": [
    {
     "data": {
      "text/plain": [
       "[(1.4388, 103.80305),\n",
       " (1.43882, 103.80303),\n",
       " (1.43895, 103.80297),\n",
       " (1.43998, 103.80251),\n",
       " (1.44053, 103.80227),\n",
       " (1.44048, 103.80214),\n",
       " (1.4405, 103.80213),\n",
       " (1.44095, 103.80193),\n",
       " (1.44117, 103.80179),\n",
       " (1.44124, 103.80182),\n",
       " (1.44125, 103.8018),\n",
       " (1.44125, 103.8018),\n",
       " (1.44121, 103.80176),\n",
       " (1.44118, 103.80174),\n",
       " (1.4408, 103.8009)]"
      ]
     },
     "execution_count": 64,
     "metadata": {},
     "output_type": "execute_result"
    }
   ],
   "source": [
    "import polyline\n",
    "\n",
    "polyline.decode(route['route_geometry'])"
   ]
  },
  {
   "cell_type": "code",
   "execution_count": 11,
   "metadata": {},
   "outputs": [],
   "source": [
    "# def get_route(coordinate_pair):\n",
    "#     time.sleep(2)\n",
    "#     try:\n",
    "#         return client.directions(coordinate_pair, profile='cycling-regular', format='geojson', validate=False)\n",
    "#     except Exception as e:\n",
    "#         print(f\"Error: {e}\")\n",
    "#         return None"
   ]
  },
  {
   "cell_type": "code",
   "execution_count": 12,
   "metadata": {},
   "outputs": [
    {
     "name": "stdout",
     "output_type": "stream",
     "text": [
      "Error: 404 ({'error': {'code': 2010, 'message': 'Could not find routable point within a radius of 350.0 meters of specified coordinate 1: 103.9878836 1.3574790.'}, 'info': {'engine': {'build_date': '2024-01-29T14:41:12Z', 'version': '7.1.1'}, 'timestamp': 1711286480021}})\n"
     ]
    }
   ],
   "source": [
    "# result_df['route'] = result_df['coordinate_pair'].apply(get_route)"
   ]
  },
  {
   "cell_type": "code",
   "execution_count": 72,
   "metadata": {},
   "outputs": [],
   "source": [
    "# def get_distance(route):\n",
    "#     try:\n",
    "#         return route['features'][0]['properties']['segments'][0]['distance']\n",
    "#     except (KeyError, IndexError,TypeError) as e:\n",
    "#         print(f\"Error: {e}\")\n",
    "#         return None\n",
    "\n",
    "# result_df['distance'] = result_df['route'].apply(get_distance)\n",
    "\n",
    "# def get_time(route):\n",
    "#     try:\n",
    "#         return route['features'][0]['properties']['segments'][0]['duration']\n",
    "#     except (KeyError, IndexError,TypeError) as e:\n",
    "#         print(f\"Error: {e}\")\n",
    "#         return None\n",
    "    \n",
    "\n",
    "# result_df['duration'] = result_df['route'].apply(get_time)"
   ]
  },
  {
   "cell_type": "code",
   "execution_count": null,
   "metadata": {},
   "outputs": [],
   "source": []
  }
 ],
 "metadata": {
  "kernelspec": {
   "display_name": "Python 3",
   "language": "python",
   "name": "python3"
  },
  "language_info": {
   "codemirror_mode": {
    "name": "ipython",
    "version": 3
   },
   "file_extension": ".py",
   "mimetype": "text/x-python",
   "name": "python",
   "nbconvert_exporter": "python",
   "pygments_lexer": "ipython3",
   "version": "3.9.13"
  }
 },
 "nbformat": 4,
 "nbformat_minor": 2
}
