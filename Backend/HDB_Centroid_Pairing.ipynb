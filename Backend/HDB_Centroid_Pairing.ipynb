{
 "cells": [
  {
   "cell_type": "code",
   "execution_count": 20,
   "metadata": {},
   "outputs": [],
   "source": [
    "import pandas as pd\n",
    "import numpy as np\n",
    "import openrouteservice as ors\n",
    "from dotenv import load_dotenv\n",
    "from pyonemap import OneMap\n",
    "import os\n",
    "import requests\n",
    "import json\n",
    "import time\n",
    "from collections import namedtuple"
   ]
  },
  {
   "cell_type": "code",
   "execution_count": 21,
   "metadata": {},
   "outputs": [
    {
     "data": {
      "text/plain": [
       "True"
      ]
     },
     "execution_count": 21,
     "metadata": {},
     "output_type": "execute_result"
    }
   ],
   "source": [
    "load_dotenv()"
   ]
  },
  {
   "cell_type": "code",
   "execution_count": 22,
   "metadata": {},
   "outputs": [],
   "source": [
    "# ors_key = os.getenv(\"ORS_API_KEY\")\n",
    "\n",
    "# client = ors.Client(key= ors_key)"
   ]
  },
  {
   "cell_type": "code",
   "execution_count": 23,
   "metadata": {},
   "outputs": [],
   "source": [
    "directory = os.getcwd()\n",
    "\n",
    "os.chdir(directory)\n",
    "\n",
    "hdbCentroids_df = pd.read_csv(r\"..\\data\\hdb_cluster_centroids.csv\",header = None,names = ['Latitude','Longitude'])\n",
    "mrt_stations_df = pd.read_csv(r\"..\\data\\mrt_station_final.csv\",usecols = [1,2,3])"
   ]
  },
  {
   "cell_type": "code",
   "execution_count": 24,
   "metadata": {},
   "outputs": [
    {
     "name": "stdout",
     "output_type": "stream",
     "text": [
      "<class 'pandas.core.frame.DataFrame'>\n",
      "RangeIndex: 275 entries, 0 to 274\n",
      "Data columns (total 2 columns):\n",
      " #   Column     Non-Null Count  Dtype  \n",
      "---  ------     --------------  -----  \n",
      " 0   Latitude   275 non-null    float64\n",
      " 1   Longitude  275 non-null    float64\n",
      "dtypes: float64(2)\n",
      "memory usage: 4.4 KB\n",
      "<class 'pandas.core.frame.DataFrame'>\n",
      "RangeIndex: 175 entries, 0 to 174\n",
      "Data columns (total 3 columns):\n",
      " #   Column     Non-Null Count  Dtype  \n",
      "---  ------     --------------  -----  \n",
      " 0   MRT.Name   175 non-null    object \n",
      " 1   Latitude   175 non-null    float64\n",
      " 2   Longitude  175 non-null    float64\n",
      "dtypes: float64(2), object(1)\n",
      "memory usage: 4.2+ KB\n"
     ]
    }
   ],
   "source": [
    "hdbCentroids_df.info()\n",
    "mrt_stations_df.info()"
   ]
  },
  {
   "cell_type": "code",
   "execution_count": 25,
   "metadata": {},
   "outputs": [
    {
     "data": {
      "text/html": [
       "<div>\n",
       "<style scoped>\n",
       "    .dataframe tbody tr th:only-of-type {\n",
       "        vertical-align: middle;\n",
       "    }\n",
       "\n",
       "    .dataframe tbody tr th {\n",
       "        vertical-align: top;\n",
       "    }\n",
       "\n",
       "    .dataframe thead th {\n",
       "        text-align: right;\n",
       "    }\n",
       "</style>\n",
       "<table border=\"1\" class=\"dataframe\">\n",
       "  <thead>\n",
       "    <tr style=\"text-align: right;\">\n",
       "      <th></th>\n",
       "      <th>MRT.Name</th>\n",
       "      <th>Latitude</th>\n",
       "      <th>Longitude</th>\n",
       "    </tr>\n",
       "  </thead>\n",
       "  <tbody>\n",
       "    <tr>\n",
       "      <th>12</th>\n",
       "      <td>ADMIRALTY MRT STATION</td>\n",
       "      <td>1.440589</td>\n",
       "      <td>103.800990</td>\n",
       "    </tr>\n",
       "    <tr>\n",
       "      <th>9</th>\n",
       "      <td>ALJUNIED MRT STATION</td>\n",
       "      <td>1.316433</td>\n",
       "      <td>103.882906</td>\n",
       "    </tr>\n",
       "    <tr>\n",
       "      <th>52</th>\n",
       "      <td>ANG MO KIO MRT STATION</td>\n",
       "      <td>1.369429</td>\n",
       "      <td>103.849455</td>\n",
       "    </tr>\n",
       "    <tr>\n",
       "      <th>115</th>\n",
       "      <td>BAKAU LRT STATION</td>\n",
       "      <td>1.387994</td>\n",
       "      <td>103.905415</td>\n",
       "    </tr>\n",
       "    <tr>\n",
       "      <th>54</th>\n",
       "      <td>BANGKIT LRT STATION</td>\n",
       "      <td>1.380022</td>\n",
       "      <td>103.772647</td>\n",
       "    </tr>\n",
       "    <tr>\n",
       "      <th>...</th>\n",
       "      <td>...</td>\n",
       "      <td>...</td>\n",
       "      <td>...</td>\n",
       "    </tr>\n",
       "    <tr>\n",
       "      <th>158</th>\n",
       "      <td>WOODLANDS SOUTH MRT STATION</td>\n",
       "      <td>1.427488</td>\n",
       "      <td>103.792730</td>\n",
       "    </tr>\n",
       "    <tr>\n",
       "      <th>80</th>\n",
       "      <td>WOODLEIGH MRT STATION</td>\n",
       "      <td>1.339190</td>\n",
       "      <td>103.870818</td>\n",
       "    </tr>\n",
       "    <tr>\n",
       "      <th>77</th>\n",
       "      <td>YEW TEE MRT STATION</td>\n",
       "      <td>1.397298</td>\n",
       "      <td>103.747358</td>\n",
       "    </tr>\n",
       "    <tr>\n",
       "      <th>79</th>\n",
       "      <td>YIO CHU KANG MRT STATION</td>\n",
       "      <td>1.381499</td>\n",
       "      <td>103.845171</td>\n",
       "    </tr>\n",
       "    <tr>\n",
       "      <th>78</th>\n",
       "      <td>YISHUN MRT STATION</td>\n",
       "      <td>1.429443</td>\n",
       "      <td>103.835005</td>\n",
       "    </tr>\n",
       "  </tbody>\n",
       "</table>\n",
       "<p>175 rows × 3 columns</p>\n",
       "</div>"
      ],
      "text/plain": [
       "                        MRT.Name  Latitude   Longitude\n",
       "12         ADMIRALTY MRT STATION  1.440589  103.800990\n",
       "9           ALJUNIED MRT STATION  1.316433  103.882906\n",
       "52        ANG MO KIO MRT STATION  1.369429  103.849455\n",
       "115            BAKAU LRT STATION  1.387994  103.905415\n",
       "54           BANGKIT LRT STATION  1.380022  103.772647\n",
       "..                           ...       ...         ...\n",
       "158  WOODLANDS SOUTH MRT STATION  1.427488  103.792730\n",
       "80         WOODLEIGH MRT STATION  1.339190  103.870818\n",
       "77           YEW TEE MRT STATION  1.397298  103.747358\n",
       "79      YIO CHU KANG MRT STATION  1.381499  103.845171\n",
       "78            YISHUN MRT STATION  1.429443  103.835005\n",
       "\n",
       "[175 rows x 3 columns]"
      ]
     },
     "execution_count": 25,
     "metadata": {},
     "output_type": "execute_result"
    }
   ],
   "source": [
    "mrt_stations_df.sort_values(by='MRT.Name', inplace=True)\n",
    "\n",
    "mrt_stations_df"
   ]
  },
  {
   "cell_type": "code",
   "execution_count": 26,
   "metadata": {},
   "outputs": [
    {
     "name": "stdout",
     "output_type": "stream",
     "text": [
      "       Latitude_x  Longitude_x  index_x join_key                     MRT.Name  \\\n",
      "0        1.432477   103.791322        0        A        ADMIRALTY MRT STATION   \n",
      "1        1.432477   103.791322        0        A         ALJUNIED MRT STATION   \n",
      "2        1.432477   103.791322        0        A       ANG MO KIO MRT STATION   \n",
      "3        1.432477   103.791322        0        A            BAKAU LRT STATION   \n",
      "4        1.432477   103.791322        0        A          BANGKIT LRT STATION   \n",
      "...           ...          ...      ...      ...                          ...   \n",
      "48120    1.388649   103.901674      274        A  WOODLANDS SOUTH MRT STATION   \n",
      "48121    1.388649   103.901674      274        A        WOODLEIGH MRT STATION   \n",
      "48122    1.388649   103.901674      274        A          YEW TEE MRT STATION   \n",
      "48123    1.388649   103.901674      274        A     YIO CHU KANG MRT STATION   \n",
      "48124    1.388649   103.901674      274        A           YISHUN MRT STATION   \n",
      "\n",
      "       Latitude_y  Longitude_y  index_y  \n",
      "0        1.440589   103.800990       12  \n",
      "1        1.316433   103.882906        9  \n",
      "2        1.369429   103.849455       52  \n",
      "3        1.387994   103.905415      115  \n",
      "4        1.380022   103.772647       54  \n",
      "...           ...          ...      ...  \n",
      "48120    1.427488   103.792730      158  \n",
      "48121    1.339190   103.870818       80  \n",
      "48122    1.397298   103.747358       77  \n",
      "48123    1.381499   103.845171       79  \n",
      "48124    1.429443   103.835005       78  \n",
      "\n",
      "[48125 rows x 8 columns]\n"
     ]
    }
   ],
   "source": [
    "#create a psuedo index for my residential centroids df\n",
    "hdbCentroids_df['index'] = hdbCentroids_df.index\n",
    "\n",
    "hdbCentroids_df['index']\n",
    "\n",
    "#create a psuedo index for my residential centroids df\n",
    "mrt_stations_df['index'] = mrt_stations_df.index\n",
    "\n",
    "mrt_stations_df['index']\n",
    "\n",
    "##create a dummy variable to cross join on \n",
    "hdbCentroids_df['join_key'] = \"A\"\n",
    "mrt_stations_df['join_key'] = \"A\"\n",
    "\n",
    "#Cross join to obtain combinations of all possible pairings between MRTs and Residential Centroids\n",
    "combined_df = pd.merge(hdbCentroids_df, mrt_stations_df, on='join_key')\n",
    "\n",
    "print(combined_df)"
   ]
  },
  {
   "cell_type": "code",
   "execution_count": 27,
   "metadata": {},
   "outputs": [],
   "source": [
    "#Defining a function that calculates the Euclidean Distance between two points using Haversine Method?\n",
    "def haversine(lat1, lon1, lat2, lon2):\n",
    "    R = 6371.0  # Earth radius in kilometers\n",
    "\n",
    "    lat1 = np.radians(lat1)\n",
    "    lon1 = np.radians(lon1)\n",
    "    lat2 = np.radians(lat2)\n",
    "    lon2 = np.radians(lon2)\n",
    "\n",
    "    dlat = lat2 - lat1\n",
    "    dlon = lon2 - lon1\n",
    "\n",
    "    a = np.sin(dlat / 2)**2 + np.cos(lat1) * np.cos(lat2) * np.sin(dlon / 2)**2\n",
    "    c = 2 * np.arcsin(np.sqrt(a))\n",
    "\n",
    "    distance = R * c\n",
    "    return distance"
   ]
  },
  {
   "cell_type": "code",
   "execution_count": 28,
   "metadata": {},
   "outputs": [],
   "source": [
    "coordinate_pair = namedtuple('coordinate_pair',['lat_x','lon_x','lat_y','lon_y'])"
   ]
  },
  {
   "cell_type": "code",
   "execution_count": 29,
   "metadata": {},
   "outputs": [],
   "source": [
    "#Apply function to dataframe and store distances in new column 'euclidean distance'\n",
    "combined_df['euclidean_distance'] = haversine(combined_df['Latitude_x'], combined_df['Longitude_x'], combined_df['Latitude_y'], combined_df['Longitude_y'])\n",
    "\n",
    "#Group by residential centroid, filter out the closest MRT by distance for each centroid into another dataframe and reset its index\n",
    "result_df = combined_df.loc[combined_df.groupby('index_x')['euclidean_distance'].idxmin()].reset_index()\n",
    "\n",
    "result_df\n",
    "\n",
    "#Create a new column 'coordinate_pair' to store coordinate pairs to pass to openrouteservice API direction query\n",
    "# result_df['coordinate_pair'] = list(zip(result_df['Longitude_x'], result_df['Latitude_x'], result_df['Longitude_y'], result_df['Latitude_y']))\n",
    "# result_df['coordinate_pair'] = result_df['coordinate_pair'].apply(lambda x: [[x[0], x[1]], [x[2], x[3]]])\n",
    "result_df['coordinate_pair'] = result_df.apply(lambda x: coordinate_pair(x['Latitude_x'], x['Longitude_x'], x['Latitude_y'], x['Longitude_y']), axis=1)\n",
    "\n",
    "#create an empty column 'route' to later store query response\n",
    "result_df['route'] = np.nan"
   ]
  },
  {
   "cell_type": "code",
   "execution_count": 30,
   "metadata": {},
   "outputs": [],
   "source": [
    "one_map_email = os.getenv(\"ONE_MAP_EMAIL\")\n",
    "one_map_password = os.getenv(\"ONE_MAP_PASSWORD\")\n",
    "payload = {\n",
    "        \"email\": one_map_email,\n",
    "        \"password\": one_map_password\n",
    "      }\n",
    "api_key = requests.request(\"POST\", \"https://www.onemap.gov.sg/api/auth/post/getToken\", json=payload)\n",
    "api_key = api_key.json()[\"access_token\"]"
   ]
  },
  {
   "cell_type": "code",
   "execution_count": 31,
   "metadata": {},
   "outputs": [],
   "source": [
    "onemap = OneMap(api_key)"
   ]
  },
  {
   "cell_type": "code",
   "execution_count": 32,
   "metadata": {},
   "outputs": [],
   "source": [
    "def get_route(coordinate_pair):\n",
    "    time.sleep(1)\n",
    "    try:\n",
    "        return onemap.routing.route(start_lat=coordinate_pair.lat_x, \n",
    "                                    start_lon=coordinate_pair.lon_x, \n",
    "                                    end_lat=coordinate_pair.lat_y, \n",
    "                                    end_lon=coordinate_pair.lon_y, \n",
    "                                    routeType=\"cycle\")\n",
    "    except Exception as e:\n",
    "        print(f\"Error: {e}\")\n",
    "        return None\n",
    "    \n",
    "    # def get_route(coordinate_pair):\n",
    "#     time.sleep(2)\n",
    "#     try:\n",
    "#         return client.directions(coordinate_pair, profile='cycling-regular', format='geojson', validate=False)\n",
    "#     except Exception as e:\n",
    "#         print(f\"Error: {e}\")\n",
    "#         return None"
   ]
  },
  {
   "cell_type": "code",
   "execution_count": 34,
   "metadata": {},
   "outputs": [],
   "source": [
    "result_df['route'] = result_df['coordinate_pair'].apply(get_route)"
   ]
  },
  {
   "cell_type": "code",
   "execution_count": 35,
   "metadata": {},
   "outputs": [],
   "source": [
    "def get_distance(route):\n",
    "    try:\n",
    "        return route['route_summary']['total_distance']/1000 #convert m to km\n",
    "    except (KeyError, IndexError,TypeError) as e:\n",
    "        print(f\"Error: {e}\")\n",
    "        return None\n",
    "\n",
    "result_df['distance'] = result_df['route'].apply(get_distance)\n",
    "\n",
    "def get_time(route):\n",
    "    try:\n",
    "        return route['route_summary']['total_time']/60 #convert second to minutes\n",
    "    except (KeyError, IndexError,TypeError) as e:\n",
    "        print(f\"Error: {e}\")\n",
    "        return None\n",
    "    \n",
    "\n",
    "result_df['duration'] = result_df['route'].apply(get_time)\n",
    "\n",
    "# def get_distance(route):\n",
    "#     try:\n",
    "#         return route['features'][0]['properties']['segments'][0]['distance']\n",
    "#     except (KeyError, IndexError,TypeError) as e:\n",
    "#         print(f\"Error: {e}\")\n",
    "#         return None\n",
    "\n",
    "# result_df['distance'] = result_df['route'].apply(get_distance)\n",
    "\n",
    "# def get_time(route):\n",
    "#     try:\n",
    "#         return route['features'][0]['properties']['segments'][0]['duration']\n",
    "#     except (KeyError, IndexError,TypeError) as e:\n",
    "#         print(f\"Error: {e}\")\n",
    "#         return None\n",
    "    \n",
    "\n",
    "# result_df['duration'] = result_df['route'].apply(get_time)"
   ]
  },
  {
   "cell_type": "code",
   "execution_count": 36,
   "metadata": {},
   "outputs": [],
   "source": [
    "def get_centroid_name(row):\n",
    "    geocode = onemap.reverseGeocode.revGeoCode(row['Latitude_x'], row['Longitude_x'])\n",
    "    if geocode['GeocodeInfo'][0]['BUILDINGNAME'] != \"NIL\":\n",
    "        return geocode['GeocodeInfo'][0]['BUILDINGNAME']\n",
    "    else:\n",
    "        if geocode['GeocodeInfo'][0]['BLOCK'] != \"NIL\":\n",
    "            return geocode['GeocodeInfo'][0]['BLOCK'] + \" \" + geocode['GeocodeInfo'][0]['ROAD']\n",
    "        else:\n",
    "            return geocode['GeocodeInfo'][0]['ROAD']"
   ]
  },
  {
   "cell_type": "code",
   "execution_count": 37,
   "metadata": {},
   "outputs": [],
   "source": [
    "result_df['centroid_name'] = result_df.apply(get_centroid_name, axis=1)"
   ]
  },
  {
   "cell_type": "code",
   "execution_count": 38,
   "metadata": {},
   "outputs": [],
   "source": [
    "new_result_df = result_df. loc[:, result_df. columns != 'route']\n",
    "new_result_df.to_csv(r\"..\\data\\HDB_Centroid_MRT pairing data.csv\")\n",
    "routes = result_df['route'].copy(deep = True)\n",
    "routes.to_json(r'..\\data\\HDB_MRT_routes.json', orient='records')"
   ]
  },
  {
   "cell_type": "code",
   "execution_count": 39,
   "metadata": {},
   "outputs": [
    {
     "data": {
      "text/html": [
       "<div>\n",
       "<style scoped>\n",
       "    .dataframe tbody tr th:only-of-type {\n",
       "        vertical-align: middle;\n",
       "    }\n",
       "\n",
       "    .dataframe tbody tr th {\n",
       "        vertical-align: top;\n",
       "    }\n",
       "\n",
       "    .dataframe thead th {\n",
       "        text-align: right;\n",
       "    }\n",
       "</style>\n",
       "<table border=\"1\" class=\"dataframe\">\n",
       "  <thead>\n",
       "    <tr style=\"text-align: right;\">\n",
       "      <th></th>\n",
       "      <th>index</th>\n",
       "      <th>Latitude_x</th>\n",
       "      <th>Longitude_x</th>\n",
       "      <th>index_x</th>\n",
       "      <th>join_key</th>\n",
       "      <th>MRT.Name</th>\n",
       "      <th>Latitude_y</th>\n",
       "      <th>Longitude_y</th>\n",
       "      <th>index_y</th>\n",
       "      <th>euclidean_distance</th>\n",
       "      <th>coordinate_pair</th>\n",
       "      <th>route</th>\n",
       "      <th>distance</th>\n",
       "      <th>duration</th>\n",
       "      <th>centroid_name</th>\n",
       "    </tr>\n",
       "  </thead>\n",
       "  <tbody>\n",
       "  </tbody>\n",
       "</table>\n",
       "</div>"
      ],
      "text/plain": [
       "Empty DataFrame\n",
       "Columns: [index, Latitude_x, Longitude_x, index_x, join_key, MRT.Name, Latitude_y, Longitude_y, index_y, euclidean_distance, coordinate_pair, route, distance, duration, centroid_name]\n",
       "Index: []"
      ]
     },
     "execution_count": 39,
     "metadata": {},
     "output_type": "execute_result"
    }
   ],
   "source": [
    "result_df[result_df['route'].isna()]"
   ]
  },
  {
   "cell_type": "code",
   "execution_count": 40,
   "metadata": {},
   "outputs": [
    {
     "name": "stdout",
     "output_type": "stream",
     "text": [
      "<class 'pandas.core.frame.DataFrame'>\n",
      "RangeIndex: 275 entries, 0 to 274\n",
      "Data columns (total 15 columns):\n",
      " #   Column              Non-Null Count  Dtype  \n",
      "---  ------              --------------  -----  \n",
      " 0   index               275 non-null    int64  \n",
      " 1   Latitude_x          275 non-null    float64\n",
      " 2   Longitude_x         275 non-null    float64\n",
      " 3   index_x             275 non-null    int64  \n",
      " 4   join_key            275 non-null    object \n",
      " 5   MRT.Name            275 non-null    object \n",
      " 6   Latitude_y          275 non-null    float64\n",
      " 7   Longitude_y         275 non-null    float64\n",
      " 8   index_y             275 non-null    int64  \n",
      " 9   euclidean_distance  275 non-null    float64\n",
      " 10  coordinate_pair     275 non-null    object \n",
      " 11  route               275 non-null    object \n",
      " 12  distance            275 non-null    float64\n",
      " 13  duration            275 non-null    float64\n",
      " 14  centroid_name       275 non-null    object \n",
      "dtypes: float64(7), int64(3), object(5)\n",
      "memory usage: 32.4+ KB\n"
     ]
    }
   ],
   "source": [
    "result_df.info()"
   ]
  },
  {
   "cell_type": "code",
   "execution_count": null,
   "metadata": {},
   "outputs": [],
   "source": []
  }
 ],
 "metadata": {
  "kernelspec": {
   "display_name": "Python 3",
   "language": "python",
   "name": "python3"
  },
  "language_info": {
   "codemirror_mode": {
    "name": "ipython",
    "version": 3
   },
   "file_extension": ".py",
   "mimetype": "text/x-python",
   "name": "python",
   "nbconvert_exporter": "python",
   "pygments_lexer": "ipython3",
   "version": "3.9.13"
  }
 },
 "nbformat": 4,
 "nbformat_minor": 2
}
