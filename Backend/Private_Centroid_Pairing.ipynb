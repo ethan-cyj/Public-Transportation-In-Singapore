{
 "cells": [
  {
   "cell_type": "code",
   "execution_count": 1,
   "metadata": {},
   "outputs": [],
   "source": [
    "import pandas as pd\n",
    "import numpy as np\n",
    "import openrouteservice as ors\n",
    "from dotenv import load_dotenv\n",
    "from pyonemap import OneMap\n",
    "import os\n",
    "import requests\n",
    "import json\n",
    "import time"
   ]
  },
  {
   "cell_type": "code",
   "execution_count": 2,
   "metadata": {},
   "outputs": [
    {
     "data": {
      "text/plain": [
       "True"
      ]
     },
     "execution_count": 2,
     "metadata": {},
     "output_type": "execute_result"
    }
   ],
   "source": [
    "load_dotenv()"
   ]
  },
  {
   "cell_type": "code",
   "execution_count": 3,
   "metadata": {},
   "outputs": [],
   "source": [
    "ors_key = os.getenv(\"ORS_API_KEY\")\n",
    "\n",
    "client = ors.Client(key= ors_key)"
   ]
  },
  {
   "cell_type": "code",
   "execution_count": 4,
   "metadata": {},
   "outputs": [],
   "source": [
    "directory = os.getcwd()\n",
    "\n",
    "os.chdir(directory)\n",
    "\n",
    "hdbCentroids_df = pd.read_csv(r\"..\\data\\hdb_cluster_centroids.csv\",header = None,names = ['Latitude','Longitude'])\n",
    "mrt_stations_df = pd.read_csv(r\"..\\data\\mrt_stations.csv\",usecols = [1,2,3])"
   ]
  },
  {
   "cell_type": "code",
   "execution_count": 5,
   "metadata": {},
   "outputs": [],
   "source": [
    "\n",
    "one_map_email = os.getenv(\"ONE_MAP_EMAIL\")\n",
    "one_map_password = os.getenv(\"ONE_MAP_PASSWORD\")\n",
    "payload = {\n",
    "        \"email\": one_map_email,\n",
    "        \"password\": one_map_password\n",
    "      }\n",
    "api_key = requests.request(\"POST\", \"https://www.onemap.gov.sg/api/auth/post/getToken\", json=payload)\n",
    "api_key = api_key.json()[\"access_token\"]"
   ]
  },
  {
   "cell_type": "code",
   "execution_count": 6,
   "metadata": {},
   "outputs": [],
   "source": [
    "onemap = OneMap(api_key)"
   ]
  },
  {
   "cell_type": "code",
   "execution_count": 7,
   "metadata": {},
   "outputs": [],
   "source": [
    "def get_centroid_name(row):\n",
    "    geocode = onemap.reverseGeocode.revGeoCode(row['Latitude'], row['Longitude'])\n",
    "    if geocode['GeocodeInfo'][0]['BUILDINGNAME'] != \"NIL\":\n",
    "        return geocode['GeocodeInfo'][0]['BUILDINGNAME']\n",
    "    else:\n",
    "        if geocode['GeocodeInfo'][0]['BLOCK'] != \"NIL\":\n",
    "            return geocode['GeocodeInfo'][0]['BLOCK'] + \" \" + geocode['GeocodeInfo'][0]['ROAD']\n",
    "        else:\n",
    "            return geocode['GeocodeInfo'][0]['ROAD']"
   ]
  },
  {
   "cell_type": "code",
   "execution_count": 8,
   "metadata": {},
   "outputs": [],
   "source": [
    "hdbCentroids_df['centroid_name'] = hdbCentroids_df.apply(get_centroid_name, axis=1)"
   ]
  },
  {
   "cell_type": "code",
   "execution_count": 9,
   "metadata": {},
   "outputs": [
    {
     "name": "stdout",
     "output_type": "stream",
     "text": [
      "       Latitude_x  Longitude_x            centroid_name  index_x join_key  \\\n",
      "0        1.432477   103.791322  503A WOODLANDS DRIVE 14        0        A   \n",
      "1        1.432477   103.791322  503A WOODLANDS DRIVE 14        0        A   \n",
      "2        1.432477   103.791322  503A WOODLANDS DRIVE 14        0        A   \n",
      "3        1.432477   103.791322  503A WOODLANDS DRIVE 14        0        A   \n",
      "4        1.432477   103.791322  503A WOODLANDS DRIVE 14        0        A   \n",
      "...           ...          ...                      ...      ...      ...   \n",
      "58845    1.388649   103.901674       COMPASSVALE PLAINS      274        A   \n",
      "58846    1.388649   103.901674       COMPASSVALE PLAINS      274        A   \n",
      "58847    1.388649   103.901674       COMPASSVALE PLAINS      274        A   \n",
      "58848    1.388649   103.901674       COMPASSVALE PLAINS      274        A   \n",
      "58849    1.388649   103.901674       COMPASSVALE PLAINS      274        A   \n",
      "\n",
      "                        MRT Name  Latitude_y  Longitude_y  index_y  \n",
      "0          ESPLANADE MRT STATION    1.293658   103.855081        0  \n",
      "1         PAYA LEBAR MRT STATION    1.317199   103.892365        1  \n",
      "2        DHOBY GHAUT MRT STATION    1.298655   103.846194        2  \n",
      "3             DAKOTA MRT STATION    1.308548   103.889065        3  \n",
      "4           LAVENDER MRT STATION    1.307378   103.862768        4  \n",
      "...                          ...         ...          ...      ...  \n",
      "58845    TANAH MERAH MRT STATION    1.327311   103.946452      210  \n",
      "58846    TAN KAH KEE MRT STATION    1.326392   103.806548      211  \n",
      "58847  UPPER THOMSON MRT STATION    1.354416   103.832898      212  \n",
      "58848      CALDECOTT MRT STATION    1.337246   103.840162      213  \n",
      "58849      MAYFLOWER MRT STATION    1.371463   103.836568      214  \n",
      "\n",
      "[58850 rows x 9 columns]\n"
     ]
    }
   ],
   "source": [
    "#create a psuedo index for my residential centroids df\n",
    "hdbCentroids_df['index'] = hdbCentroids_df.index\n",
    "\n",
    "hdbCentroids_df['index']\n",
    "\n",
    "#create a psuedo index for my residential centroids df\n",
    "mrt_stations_df['index'] = mrt_stations_df.index\n",
    "\n",
    "mrt_stations_df['index']\n",
    "\n",
    "##create a dummy variable to cross join on \n",
    "hdbCentroids_df['join_key'] = \"A\"\n",
    "mrt_stations_df['join_key'] = \"A\"\n",
    "\n",
    "#Remove a non existent train station called SUB STATION\n",
    "mrt_stations_df = mrt_stations_df[~mrt_stations_df['MRT Name'].str.contains('SUB')]\n",
    "\n",
    "#Cross join to obtain combinations of all possible pairings between MRTs and Residential Centroids\n",
    "combined_df = pd.merge(hdbCentroids_df, mrt_stations_df, on='join_key')\n",
    "\n",
    "print(combined_df)"
   ]
  },
  {
   "cell_type": "code",
   "execution_count": 10,
   "metadata": {},
   "outputs": [],
   "source": [
    "#Defining a function that calculates the Euclidean Distance between two points using Haversine Method?\n",
    "def haversine(lat1, lon1, lat2, lon2):\n",
    "    R = 6371.0  # Earth radius in kilometers\n",
    "\n",
    "    lat1 = np.radians(lat1)\n",
    "    lon1 = np.radians(lon1)\n",
    "    lat2 = np.radians(lat2)\n",
    "    lon2 = np.radians(lon2)\n",
    "\n",
    "    dlat = lat2 - lat1\n",
    "    dlon = lon2 - lon1\n",
    "\n",
    "    a = np.sin(dlat / 2)**2 + np.cos(lat1) * np.cos(lat2) * np.sin(dlon / 2)**2\n",
    "    c = 2 * np.arcsin(np.sqrt(a))\n",
    "\n",
    "    distance = R * c\n",
    "    return distance"
   ]
  },
  {
   "cell_type": "code",
   "execution_count": 11,
   "metadata": {},
   "outputs": [],
   "source": [
    "#Apply function to dataframe and store distances in new column 'euclidean distance'\n",
    "combined_df['euclidean_distance'] = haversine(combined_df['Latitude_x'], combined_df['Longitude_x'], combined_df['Latitude_y'], combined_df['Longitude_y'])\n",
    "\n",
    "#Group by residential centroid, filter out the closest MRT by distance for each centroid into another dataframe and reset its index\n",
    "result_df = combined_df.loc[combined_df.groupby('index_x')['euclidean_distance'].idxmin()].reset_index()\n",
    "\n",
    "result_df\n",
    "\n",
    "#Create a new column 'coordinate_pair' to store coordinate pairs to pass to openrouteservice API direction query\n",
    "result_df['coordinate_pair'] = list(zip(result_df['Longitude_x'], result_df['Latitude_x'], result_df['Longitude_y'], result_df['Latitude_y']))\n",
    "result_df['coordinate_pair'] = result_df['coordinate_pair'].apply(lambda x: [[x[0], x[1]], [x[2], x[3]]])\n",
    "\n",
    "\n",
    "#create an empty column 'route' to later store query response\n",
    "result_df['route'] = np.nan"
   ]
  },
  {
   "cell_type": "code",
   "execution_count": 12,
   "metadata": {},
   "outputs": [],
   "source": [
    "def get_route(coordinate_pair):\n",
    "    time.sleep(2)\n",
    "    try:\n",
    "        return client.directions(coordinate_pair, profile='cycling-regular', format='geojson', validate=False)\n",
    "    except Exception as e:\n",
    "        print(f\"Error: {e}\")\n",
    "        return None"
   ]
  },
  {
   "cell_type": "code",
   "execution_count": 13,
   "metadata": {},
   "outputs": [
    {
     "name": "stdout",
     "output_type": "stream",
     "text": [
      "Error: 404 ({'error': {'code': 2010, 'message': 'Could not find routable point within a radius of 350.0 meters of specified coordinate 1: 103.9878836 1.3574790.'}, 'info': {'engine': {'build_date': '2024-01-29T14:41:12Z', 'version': '7.1.1'}, 'timestamp': 1711276737536}})\n"
     ]
    }
   ],
   "source": [
    "result_df['route'] = result_df['coordinate_pair'].apply(get_route)"
   ]
  },
  {
   "cell_type": "code",
   "execution_count": 14,
   "metadata": {},
   "outputs": [
    {
     "name": "stdout",
     "output_type": "stream",
     "text": [
      "Error: 'NoneType' object is not subscriptable\n",
      "Error: 'NoneType' object is not subscriptable\n"
     ]
    }
   ],
   "source": [
    "def get_distance(route):\n",
    "    try:\n",
    "        return route['features'][0]['properties']['segments'][0]['distance']\n",
    "    except (KeyError, IndexError,TypeError) as e:\n",
    "        print(f\"Error: {e}\")\n",
    "        return None\n",
    "\n",
    "result_df['distance'] = result_df['route'].apply(get_distance)\n",
    "\n",
    "def get_time(route):\n",
    "    try:\n",
    "        return route['features'][0]['properties']['segments'][0]['duration']\n",
    "    except (KeyError, IndexError,TypeError) as e:\n",
    "        print(f\"Error: {e}\")\n",
    "        return None\n",
    "    \n",
    "\n",
    "result_df['duration'] = result_df['route'].apply(get_time)"
   ]
  },
  {
   "cell_type": "code",
   "execution_count": 15,
   "metadata": {},
   "outputs": [],
   "source": [
    "new_result_df = result_df. loc[:, result_df. columns != 'route']\n",
    "new_result_df.to_csv(r\"..\\data\\HDB_Centroid_MRT pairing data.csv\")\n",
    "routes = result_df['route'].copy(deep = True)\n",
    "routes.to_json(r'..\\data\\HDB_MRT_routes.json', orient='records')"
   ]
  },
  {
   "cell_type": "code",
   "execution_count": 16,
   "metadata": {},
   "outputs": [
    {
     "data": {
      "text/html": [
       "<div>\n",
       "<style scoped>\n",
       "    .dataframe tbody tr th:only-of-type {\n",
       "        vertical-align: middle;\n",
       "    }\n",
       "\n",
       "    .dataframe tbody tr th {\n",
       "        vertical-align: top;\n",
       "    }\n",
       "\n",
       "    .dataframe thead th {\n",
       "        text-align: right;\n",
       "    }\n",
       "</style>\n",
       "<table border=\"1\" class=\"dataframe\">\n",
       "  <thead>\n",
       "    <tr style=\"text-align: right;\">\n",
       "      <th></th>\n",
       "      <th>index</th>\n",
       "      <th>Latitude_x</th>\n",
       "      <th>Longitude_x</th>\n",
       "      <th>centroid_name</th>\n",
       "      <th>index_x</th>\n",
       "      <th>join_key</th>\n",
       "      <th>MRT Name</th>\n",
       "      <th>Latitude_y</th>\n",
       "      <th>Longitude_y</th>\n",
       "      <th>index_y</th>\n",
       "      <th>euclidean_distance</th>\n",
       "      <th>coordinate_pair</th>\n",
       "      <th>route</th>\n",
       "      <th>distance</th>\n",
       "      <th>duration</th>\n",
       "    </tr>\n",
       "  </thead>\n",
       "  <tbody>\n",
       "    <tr>\n",
       "      <th>65</th>\n",
       "      <td>13949</td>\n",
       "      <td>1.389</td>\n",
       "      <td>103.98795</td>\n",
       "      <td>4 CHANGI VILLAGE ROAD</td>\n",
       "      <td>65</td>\n",
       "      <td>A</td>\n",
       "      <td>CHANGI AIRPORT MRT STATION</td>\n",
       "      <td>1.357479</td>\n",
       "      <td>103.987884</td>\n",
       "      <td>40</td>\n",
       "      <td>3.504935</td>\n",
       "      <td>[[103.98795002672024, 1.3889995410271168], [10...</td>\n",
       "      <td>None</td>\n",
       "      <td>NaN</td>\n",
       "      <td>NaN</td>\n",
       "    </tr>\n",
       "  </tbody>\n",
       "</table>\n",
       "</div>"
      ],
      "text/plain": [
       "    index  Latitude_x  Longitude_x          centroid_name  index_x join_key  \\\n",
       "65  13949       1.389    103.98795  4 CHANGI VILLAGE ROAD       65        A   \n",
       "\n",
       "                      MRT Name  Latitude_y  Longitude_y  index_y  \\\n",
       "65  CHANGI AIRPORT MRT STATION    1.357479   103.987884       40   \n",
       "\n",
       "    euclidean_distance                                    coordinate_pair  \\\n",
       "65            3.504935  [[103.98795002672024, 1.3889995410271168], [10...   \n",
       "\n",
       "   route  distance  duration  \n",
       "65  None       NaN       NaN  "
      ]
     },
     "execution_count": 16,
     "metadata": {},
     "output_type": "execute_result"
    }
   ],
   "source": [
    "result_df[result_df['route'].isna()]"
   ]
  },
  {
   "cell_type": "code",
   "execution_count": 17,
   "metadata": {},
   "outputs": [
    {
     "name": "stdout",
     "output_type": "stream",
     "text": [
      "<class 'pandas.core.frame.DataFrame'>\n",
      "RangeIndex: 275 entries, 0 to 274\n",
      "Data columns (total 15 columns):\n",
      " #   Column              Non-Null Count  Dtype  \n",
      "---  ------              --------------  -----  \n",
      " 0   index               275 non-null    int64  \n",
      " 1   Latitude_x          275 non-null    float64\n",
      " 2   Longitude_x         275 non-null    float64\n",
      " 3   centroid_name       275 non-null    object \n",
      " 4   index_x             275 non-null    int64  \n",
      " 5   join_key            275 non-null    object \n",
      " 6   MRT Name            275 non-null    object \n",
      " 7   Latitude_y          275 non-null    float64\n",
      " 8   Longitude_y         275 non-null    float64\n",
      " 9   index_y             275 non-null    int64  \n",
      " 10  euclidean_distance  275 non-null    float64\n",
      " 11  coordinate_pair     275 non-null    object \n",
      " 12  route               274 non-null    object \n",
      " 13  distance            274 non-null    float64\n",
      " 14  duration            274 non-null    float64\n",
      "dtypes: float64(7), int64(3), object(5)\n",
      "memory usage: 32.4+ KB\n"
     ]
    }
   ],
   "source": [
    "result_df.info()"
   ]
  },
  {
   "cell_type": "code",
   "execution_count": null,
   "metadata": {},
   "outputs": [],
   "source": []
  }
 ],
 "metadata": {
  "kernelspec": {
   "display_name": "Python 3",
   "language": "python",
   "name": "python3"
  },
  "language_info": {
   "codemirror_mode": {
    "name": "ipython",
    "version": 3
   },
   "file_extension": ".py",
   "mimetype": "text/x-python",
   "name": "python",
   "nbconvert_exporter": "python",
   "pygments_lexer": "ipython3",
   "version": "3.9.13"
  }
 },
 "nbformat": 4,
 "nbformat_minor": 2
}
